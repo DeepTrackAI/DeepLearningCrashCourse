{
 "cells": [
  {
   "cell_type": "markdown",
   "metadata": {},
   "source": [
    "# Convolutional Neural Networks\n",
    "\n",
    "We'll explore convolutions and implement some convolutional neural networks. "
   ]
  },
  {
   "cell_type": "markdown",
   "metadata": {},
   "source": [
    "## Convolutions in 1D\n",
    "\n",
    "We'll start by implementing a simple 1D convolution with a _rectangular kernel_ that works as a running average."
   ]
  },
  {
   "cell_type": "code",
   "execution_count": null,
   "metadata": {},
   "outputs": [],
   "source": [
    "import numpy as np\n",
    "\n",
    "input = np.array([1, 2, 3, 4, 5, 4, 3, 2, 1])\n",
    "\n",
    "kernel = np.ones(4) / 4\n",
    "\n",
    "averaged_signal = np.convolve(input, kernel, mode=\"valid\")\n",
    "\n",
    "print(averaged_signal)"
   ]
  },
  {
   "cell_type": "markdown",
   "metadata": {},
   "source": [
    "Try to modify the code above by changing the `signal` and the `kernel`.\n",
    "For example, use the following kernels:\n",
    "\n",
    "- _Prewitt kernel_ `[1, 0, -1]` for edge detection or differentiation (equal to the _Sobel kernel_ in 1D).\n",
    "\n",
    "- _Gaussian kernel_ `[.25 .5 .75 .5 .25]` for smoothing."
   ]
  },
  {
   "cell_type": "markdown",
   "metadata": {},
   "source": [
    "## Convolutions in 2D\n",
    "\n",
    "We'll now move on and implement a 2D convolution with a _rectangular kernel_ that works as a local averaging."
   ]
  },
  {
   "cell_type": "code",
   "execution_count": null,
   "metadata": {},
   "outputs": [],
   "source": [
    "import numpy as np\n",
    "from scipy import signal\n",
    "\n",
    "input = np.array([\n",
    "    [1, 2, 3], \n",
    "    [4, 5, 6], \n",
    "    [7, 8, 9]\n",
    "])\n",
    "\n",
    "kernel = np.ones((3, 3)) / 9\n",
    "\n",
    "output = signal.convolve2d(input, kernel, mode=\"full\")\n",
    "\n",
    "print(output)"
   ]
  },
  {
   "cell_type": "markdown",
   "metadata": {},
   "source": [
    "Tray modifying the code above changing the `signal` and the `kernel`.\n",
    "For example, use the following kernels:\n",
    "\n",
    "- _Prewitt kernel_ to detect edges:\n",
    "    ```python\n",
    "    kernel = np.array([\n",
    "        [-1, 0, 1],\n",
    "        [-1, 0, 1],\n",
    "        [-1, 0, 1]\n",
    "    ])\n",
    "    ```\n",
    "\n",
    "- _Sobel kernel_ to detect edges:\n",
    "    ```python\n",
    "    kernel = np.array([\n",
    "        [-1, 0, 1],\n",
    "        [-2, 0, 2],\n",
    "        [-1, 0, 1]\n",
    "    ])\n",
    "    ```\n",
    "\n",
    "- _Gaussian kernel_ to smooth the image:\n",
    "    ```python\n",
    "    kernel = np.array([\n",
    "        [.04, .08, .12, .08, .04], \n",
    "        [.08, .16, .24, .16, .08], \n",
    "        [.12, .24, .36, .24, .12], \n",
    "        [.08, .16, .24, .16, .08], \n",
    "        [.04, .08, .12, .08, .04]\n",
    "    ])\n",
    "    ```"
   ]
  },
  {
   "cell_type": "markdown",
   "metadata": {},
   "source": [
    "## Convolutional Layers\n",
    "\n",
    "We'll now implement a convolutional layer in PyTorch. "
   ]
  },
  {
   "cell_type": "markdown",
   "metadata": {},
   "source": [
    "### Sample Image\n",
    "\n",
    "We start by creating a grayscale image, i.e., an image with a single color channel, stored in the `image` PyTorch array.\n",
    "This array has for dimensions, corresponding to batch size (`1`), color channels (`1`), height (`H`), and width (`W`)."
   ]
  },
  {
   "cell_type": "code",
   "execution_count": 1,
   "metadata": {},
   "outputs": [],
   "source": [
    "import torch\n",
    "\n",
    "H = 12\n",
    "W = 16\n",
    "S = 4\n",
    "image = torch.zeros(1, 1, H, W)\n",
    "for idx in range(0, H, S):\n",
    "    for idy in range(0, W, S):\n",
    "        image[0, 0, idx:idx + S, idy:idy + S] = (-1)**(idx / S + idy / S)"
   ]
  },
  {
   "cell_type": "markdown",
   "metadata": {},
   "source": [
    "We can now implement the `plot_image()` function...\n",
    "\n",
    "```python\n",
    "def plot_image(image):\n",
    "    import matplotlib.pyplot as plt\n",
    "    \n",
    "    plt.imshow(image, cmap=\"gray\", aspect=\"equal\", \n",
    "               extent=[0, image.shape[1], 0, image.shape[0]])\n",
    "    plt.grid(color=\"red\", linewidth=1)\n",
    "    plt.xticks(range(0, image.shape[1] + 1))\n",
    "    plt.yticks(range(0, image.shape[0] + 1))\n",
    "    plt.tight_layout()\n",
    "    plt.show()\n",
    "```\n",
    "\n",
    "... and use it to show the image."
   ]
  },
  {
   "cell_type": "code",
   "execution_count": 2,
   "metadata": {},
   "outputs": [
    {
     "data": {
      "image/png": "[encoded data removed]",
      "text/plain": [
       "<Figure size 640x480 with 1 Axes>"
      ]
     },
     "metadata": {},
     "output_type": "display_data"
    }
   ],
   "source": [
    "from plotting_cnn import plot_image\n",
    "\n",
    "plot_image(image.squeeze())"
   ]
  },
  {
   "cell_type": "markdown",
   "metadata": {},
   "source": [
    "### Convolutional Layer\n",
    "\n",
    "We'll now implement a convolutional layer in PyTorch with one input channel (`in_channels=1`), two output channels (`out_channels=2`), and a square kernel with size $1 \\times 3$ (`kernel_size=(1, 3)`).\n",
    "\n",
    "We then initialize its weights to perform a local averaging and an horizonthal edge detection."
   ]
  },
  {
   "cell_type": "code",
   "execution_count": 53,
   "metadata": {},
   "outputs": [],
   "source": [
    "import torch\n",
    "from torch.nn import Conv2d, Parameter\n",
    "\n",
    "conv = Conv2d(in_channels=1, out_channels=2, kernel_size=(1, 3))\n",
    "filters = torch.zeros(conv.out_channels, conv.in_channels, *conv.kernel_size)\n",
    "filters[0, 0, :, :] = torch.Tensor([[1, 1, 1],]) / 3\n",
    "filters[1, 0, :, :] = torch.Tensor([[-1, 0, 1],])\n",
    "conv.weight = Parameter(filters)\n",
    "\n",
    "features = conv(image)"
   ]
  },
  {
   "cell_type": "markdown",
   "metadata": {},
   "source": [
    "We can now implement the `plot_features()` function...\n",
    "\n",
    "```python\n",
    "```\n",
    "\n",
    "... and use it to plot the output features of the convolutional layer."
   ]
  },
  {
   "cell_type": "code",
   "execution_count": 54,
   "metadata": {},
   "outputs": [
    {
     "ename": "ImportError",
     "evalue": "cannot import name 'plot_channels' from 'plotting_cnn' (/Users/giovannivolpe/Documents/GitHub/DeepLearningCrashCourse/Ch03_CNN/Ex03A/plotting_cnn.py)",
     "output_type": "error",
     "traceback": [
      "\u001b[0;31m---------------------------------------------------------------------------\u001b[0m",
      "\u001b[0;31mImportError\u001b[0m                               Traceback (most recent call last)",
      "\u001b[1;32m/Users/giovannivolpe/Documents/GitHub/DeepLearningCrashCourse/Ch03_CNN/Ex03A/cnn.ipynb Cell 16\u001b[0m line \u001b[0;36m1\n\u001b[0;32m----> <a href='vscode-notebook-cell:/Users/giovannivolpe/Documents/GitHub/DeepLearningCrashCourse/Ch03_CNN/Ex03A/cnn.ipynb#X40sZmlsZQ%3D%3D?line=0'>1</a>\u001b[0m \u001b[39mfrom\u001b[39;00m \u001b[39mplotting_cnn\u001b[39;00m \u001b[39mimport\u001b[39;00m plot_channels\n\u001b[1;32m      <a href='vscode-notebook-cell:/Users/giovannivolpe/Documents/GitHub/DeepLearningCrashCourse/Ch03_CNN/Ex03A/cnn.ipynb#X40sZmlsZQ%3D%3D?line=2'>3</a>\u001b[0m plot_channels(features[\u001b[39m0\u001b[39m]\u001b[39m.\u001b[39mdetach())\n",
      "\u001b[0;31mImportError\u001b[0m: cannot import name 'plot_channels' from 'plotting_cnn' (/Users/giovannivolpe/Documents/GitHub/DeepLearningCrashCourse/Ch03_CNN/Ex03A/plotting_cnn.py)"
     ]
    }
   ],
   "source": [
    "from plotting_cnn import plot_channels\n",
    "\n",
    "plot_channels(features[0].detach())"
   ]
  },
  {
   "cell_type": "code",
   "execution_count": 21,
   "metadata": {},
   "outputs": [
    {
     "data": {
      "text/plain": [
       "1"
      ]
     },
     "execution_count": 21,
     "metadata": {},
     "output_type": "execute_result"
    }
   ],
   "source": []
  },
  {
   "cell_type": "code",
   "execution_count": 49,
   "metadata": {},
   "outputs": [
    {
     "ename": "IndexError",
     "evalue": "index 2 is out of bounds for dimension 1 with size 2",
     "output_type": "error",
     "traceback": [
      "\u001b[0;31m---------------------------------------------------------------------------\u001b[0m",
      "\u001b[0;31mIndexError\u001b[0m                                Traceback (most recent call last)",
      "\u001b[1;32m/Users/giovannivolpe/Documents/GitHub/DeepLearningCrashCourse/Ch03_CNN/Ex03A/cnn.ipynb Cell 18\u001b[0m line \u001b[0;36m1\n\u001b[1;32m     <a href='vscode-notebook-cell:/Users/giovannivolpe/Documents/GitHub/DeepLearningCrashCourse/Ch03_CNN/Ex03A/cnn.ipynb#X20sZmlsZQ%3D%3D?line=16'>17</a>\u001b[0m plot_channel(axs[\u001b[39m1\u001b[39m], \u001b[39m\"\u001b[39m\u001b[39mFeature 0\u001b[39m\u001b[39m\"\u001b[39m, features[\u001b[39m0\u001b[39m, \u001b[39m0\u001b[39m, :, :]\u001b[39m.\u001b[39mdetach()\u001b[39m.\u001b[39msqueeze(), (\u001b[39m1\u001b[39m, \u001b[39m1\u001b[39m))\n\u001b[1;32m     <a href='vscode-notebook-cell:/Users/giovannivolpe/Documents/GitHub/DeepLearningCrashCourse/Ch03_CNN/Ex03A/cnn.ipynb#X20sZmlsZQ%3D%3D?line=17'>18</a>\u001b[0m plot_channel(axs[\u001b[39m2\u001b[39m], \u001b[39m\"\u001b[39m\u001b[39mFeature 1\u001b[39m\u001b[39m\"\u001b[39m, features[\u001b[39m0\u001b[39m, \u001b[39m1\u001b[39m, :, :]\u001b[39m.\u001b[39mdetach()\u001b[39m.\u001b[39msqueeze(), (\u001b[39m1\u001b[39m, \u001b[39m1\u001b[39m))\n\u001b[0;32m---> <a href='vscode-notebook-cell:/Users/giovannivolpe/Documents/GitHub/DeepLearningCrashCourse/Ch03_CNN/Ex03A/cnn.ipynb#X20sZmlsZQ%3D%3D?line=18'>19</a>\u001b[0m plot_channel(axs[\u001b[39m3\u001b[39m], \u001b[39m\"\u001b[39m\u001b[39mFeature 2\u001b[39m\u001b[39m\"\u001b[39m, features[\u001b[39m0\u001b[39;49m, \u001b[39m2\u001b[39;49m, :, :]\u001b[39m.\u001b[39mdetach()\u001b[39m.\u001b[39msqueeze(), (\u001b[39m1\u001b[39m, \u001b[39m1\u001b[39m))\n\u001b[1;32m     <a href='vscode-notebook-cell:/Users/giovannivolpe/Documents/GitHub/DeepLearningCrashCourse/Ch03_CNN/Ex03A/cnn.ipynb#X20sZmlsZQ%3D%3D?line=20'>21</a>\u001b[0m plt\u001b[39m.\u001b[39mtight_layout()\n\u001b[1;32m     <a href='vscode-notebook-cell:/Users/giovannivolpe/Documents/GitHub/DeepLearningCrashCourse/Ch03_CNN/Ex03A/cnn.ipynb#X20sZmlsZQ%3D%3D?line=21'>22</a>\u001b[0m plt\u001b[39m.\u001b[39mshow()\n",
      "\u001b[0;31mIndexError\u001b[0m: index 2 is out of bounds for dimension 1 with size 2"
     ]
    },
    {
     "data": {
      "image/png": "[encoded data removed]",
      "text/plain": [
       "<Figure size 1600x400 with 4 Axes>"
      ]
     },
     "metadata": {},
     "output_type": "display_data"
    }
   ],
   "source": [
    "import matplotlib.pyplot as plt\n",
    "\n",
    "fig, axs = plt.subplots(1, 4, figsize=(16, 4))\n",
    "\n",
    "def plot_channel(ax, title, channel, offset=(0, 0)):\n",
    "    ax.imshow(channel, cmap=\"gray\", aspect=\"equal\", \n",
    "               extent=[0, channel.shape[0], 0, channel.shape[1]])\n",
    "    ax.grid(color=\"red\", linewidth=.5)\n",
    "    ax.set_title(title)\n",
    "    ax.set_xticks(range(0, channel.shape[0] + 1))\n",
    "    ax.set_xlim(- offset[0], channel.shape[0] + offset[0])\n",
    "    ax.set_yticks(range(0, channel.shape[1] + 1))\n",
    "    ax.set_ylim(- offset[1], channel.shape[1] + offset[1])\n",
    "\n",
    "plot_channel(axs[0], \"Image\", image.squeeze())\n",
    "\n",
    "plot_channel(axs[1], \"Feature 0\", features[0, 0, :, :].detach().squeeze(), (1, 1))\n",
    "plot_channel(axs[2], \"Feature 1\", features[0, 1, :, :].detach().squeeze(), (1, 1))\n",
    "plot_channel(axs[3], \"Feature 2\", features[0, 2, :, :].detach().squeeze(), (1, 1))\n",
    "\n",
    "plt.tight_layout()\n",
    "plt.show()"
   ]
  },
  {
   "cell_type": "markdown",
   "metadata": {},
   "source": [
    "## ReLU Activation\n",
    "\n",
    "We'll now add a ReLU activation.\n",
    "\n",
    "To combine the convolutional layer and the relu, we need to use the `nn.Sequential` model."
   ]
  },
  {
   "cell_type": "code",
   "execution_count": null,
   "metadata": {},
   "outputs": [],
   "source": [
    "import torch\n",
    "from torch.nn import Conv2d, Parameter\n",
    "\n",
    "L = 16\n",
    "S = 4\n",
    "image = torch.zeros(1, 1, L, L)\n",
    "for idx in range(0, L, S):\n",
    "    for idy in range(0, L, S):\n",
    "        image[0, 0, idx:idx + S, idy:idy + S] = (-1)**(idx / S + idy / S)\n",
    "\n",
    "conv = Conv2d(in_channels=1, out_channels=3, kernel_size=3)\n",
    "filters = torch.zeros(conv.out_channels, conv.in_channels, *conv.kernel_size)\n",
    "filters[0, 0, :, :] = torch.Tensor([[1, 1, 1], [1, 1, 1], [1, 1, 1]]) / 9\n",
    "filters[1, 0, :, :] = torch.Tensor([[-1, 0, 1], [-2, 0, 2], [-1, 0, 1]])\n",
    "filters[2, 0, :, :] = torch.Tensor([[1, 2, 1], [0, 0, 0], [-1, -2, -1]])\n",
    "conv.weight = Parameter(filters)\n",
    "\n",
    "relu = torch.nn.ReLU()\n",
    "\n",
    "model = torch.nn.Sequential(conv, relu)\n",
    "\n",
    "features = conv(image)"
   ]
  },
  {
   "cell_type": "code",
   "execution_count": null,
   "metadata": {},
   "outputs": [],
   "source": [
    "import matplotlib.pyplot as plt\n",
    "\n",
    "fig, axs = plt.subplots(1, 4, figsize=(16, 4))\n",
    "\n",
    "def plot_channel(ax, title, channel, offset=(0, 0)):\n",
    "    ax.imshow(channel, cmap=\"gray\", aspect=\"equal\", \n",
    "               extent=[0, channel.shape[0], 0, channel.shape[1]])\n",
    "    ax.grid(color=\"red\", linewidth=.5)\n",
    "    ax.set_title(title)\n",
    "    ax.set_xticks(range(0, channel.shape[0] + 1))\n",
    "    ax.set_xlim(- offset[0], channel.shape[0] + offset[0])\n",
    "    ax.set_yticks(range(0, channel.shape[1] + 1))\n",
    "    ax.set_ylim(- offset[1], channel.shape[1] + offset[1])\n",
    "\n",
    "plot_channel(axs[0], \"Image\", image.squeeze())\n",
    "\n",
    "plot_channel(axs[1], \"Feature 0\", features[0, 0, :, :].detach().squeeze(), (1, 1))\n",
    "plot_channel(axs[2], \"Feature 1\", features[0, 1, :, :].detach().squeeze(), (1, 1))\n",
    "plot_channel(axs[3], \"Feature 2\", features[0, 2, :, :].detach().squeeze(), (1, 1))\n",
    "\n",
    "plt.tight_layout()\n",
    "plt.show()"
   ]
  },
  {
   "cell_type": "markdown",
   "metadata": {},
   "source": [
    "## Pooling Layers\n",
    "\n",
    "We can then add a pooling layer at the output with a square kernel with size $2 \\times 2$ (`kernel_size=2`) and stride of 2 both directions (`stride=2`)."
   ]
  },
  {
   "cell_type": "code",
   "execution_count": null,
   "metadata": {},
   "outputs": [],
   "source": [
    "import torch\n",
    "from torch.nn import Conv2d, Parameter, MaxPool2d, Sequential\n",
    "\n",
    "L = 16\n",
    "S = 4\n",
    "image = torch.zeros(1, 1, L, L)\n",
    "for idx in range(0, L, S):\n",
    "    for idy in range(0, L, S):\n",
    "        image[0, 0, idx:idx + S, idy:idy + S] = (-1)**(idx / S + idy / S)\n",
    "\n",
    "conv = Conv2d(in_channels=1, out_channels=3, kernel_size=3)\n",
    "filters = torch.zeros(conv.out_channels, conv.in_channels, *conv.kernel_size)\n",
    "filters[0, 0, :, :] = torch.Tensor([[1, 1, 1], [1, 1, 1], [1, 1, 1]]) / 9\n",
    "filters[1, 0, :, :] = torch.Tensor([[-1, 0, 1], [-2, 0, 2], [-1, 0, 1]])\n",
    "filters[2, 0, :, :] = torch.Tensor([[1, 2, 1], [0, 0, 0], [-1, -2, -1]])\n",
    "conv.weight = Parameter(filters)\n",
    "\n",
    "pool = MaxPool2d(kernel_size=2, stride=2)\n",
    "\n",
    "model = Sequential(conv, pool)\n",
    "\n",
    "features = model(image)"
   ]
  },
  {
   "cell_type": "code",
   "execution_count": null,
   "metadata": {},
   "outputs": [],
   "source": [
    "import matplotlib.pyplot as plt\n",
    "\n",
    "fig, axs = plt.subplots(1, 4, figsize=(16, 4))\n",
    "\n",
    "def plot_channel(ax, title, channel, offset=(0, 0)):\n",
    "    ax.imshow(channel, cmap=\"gray\", aspect=\"equal\", \n",
    "               extent=[0, channel.shape[0], 0, channel.shape[1]])\n",
    "    ax.grid(color=\"red\", linewidth=.5)\n",
    "    ax.set_title(title)\n",
    "    ax.set_xticks(range(0, channel.shape[0] + 1))\n",
    "    ax.set_xlim(- offset[0], channel.shape[0] + offset[0])\n",
    "    ax.set_yticks(range(0, channel.shape[1] + 1))\n",
    "    ax.set_ylim(- offset[1], channel.shape[1] + offset[1])\n",
    "\n",
    "plot_channel(axs[0], \"Image\", image.squeeze())\n",
    "\n",
    "plot_channel(axs[1], \"Feature 0\", features[0, 0, :, :].detach().squeeze())\n",
    "plot_channel(axs[2], \"Feature 1\", features[0, 1, :, :].detach().squeeze())\n",
    "plot_channel(axs[3], \"Feature 2\", features[0, 2, :, :].detach().squeeze())\n",
    "\n",
    "plt.tight_layout()\n",
    "plt.show()"
   ]
  },
  {
   "cell_type": "markdown",
   "metadata": {},
   "source": [
    "## Upsampling Layers\n",
    "\n",
    "We'll now add an upsampling layer with a scale factor of 3 (`scale_factor=3`)."
   ]
  },
  {
   "cell_type": "code",
   "execution_count": null,
   "metadata": {},
   "outputs": [],
   "source": [
    "import torch\n",
    "from torch.nn import Conv2d, Parameter, MaxPool2d, Sequential, Upsample\n",
    "\n",
    "L = 16\n",
    "S = 4\n",
    "image = torch.zeros(1, 1, L, L)\n",
    "for idx in range(0, L, S):\n",
    "    for idy in range(0, L, S):\n",
    "        image[0, 0, idx:idx + S, idy:idy + S] = (-1)**(idx / S + idy / S)\n",
    "\n",
    "conv = Conv2d(in_channels=1, out_channels=3, kernel_size=3)\n",
    "filters = torch.zeros(conv.out_channels, conv.in_channels, *conv.kernel_size)\n",
    "filters[0, 0, :, :] = torch.Tensor([[1, 1, 1], [1, 1, 1], [1, 1, 1]]) / 9\n",
    "filters[1, 0, :, :] = torch.Tensor([[-1, 0, 1], [-2, 0, 2], [-1, 0, 1]])\n",
    "filters[2, 0, :, :] = torch.Tensor([[1, 2, 1], [0, 0, 0], [-1, -2, -1]])\n",
    "conv.weight = Parameter(filters)\n",
    "\n",
    "pool = MaxPool2d(kernel_size=2, stride=2)\n",
    "\n",
    "upsample = Upsample(scale_factor=3)\n",
    "\n",
    "model = Sequential(conv, pool, upsample)\n",
    "\n",
    "features = model(image)"
   ]
  },
  {
   "cell_type": "code",
   "execution_count": null,
   "metadata": {},
   "outputs": [],
   "source": [
    "import matplotlib.pyplot as plt\n",
    "\n",
    "fig, axs = plt.subplots(1, 4, figsize=(16, 4))\n",
    "\n",
    "def plot_channel(ax, title, channel, offset=(0, 0)):\n",
    "    ax.imshow(channel, cmap=\"gray\", aspect=\"equal\", \n",
    "               extent=[0, channel.shape[0], 0, channel.shape[1]])\n",
    "    ax.grid(color=\"red\", linewidth=.5)\n",
    "    ax.set_title(title)\n",
    "    ax.set_xticks(range(0, channel.shape[0] + 1))\n",
    "    ax.set_xlim(- offset[0], channel.shape[0] + offset[0])\n",
    "    ax.set_yticks(range(0, channel.shape[1] + 1))\n",
    "    ax.set_ylim(- offset[1], channel.shape[1] + offset[1])\n",
    "\n",
    "plot_channel(axs[0], \"Image\", image.squeeze())\n",
    "\n",
    "plot_channel(axs[1], \"Feature 0\", features[0, 0, :, :].detach().squeeze())\n",
    "plot_channel(axs[2], \"Feature 1\", features[0, 1, :, :].detach().squeeze())\n",
    "plot_channel(axs[3], \"Feature 2\", features[0, 2, :, :].detach().squeeze())\n",
    "\n",
    "plt.tight_layout()\n",
    "plt.show()"
   ]
  },
  {
   "cell_type": "code",
   "execution_count": null,
   "metadata": {},
   "outputs": [],
   "source": []
  }
 ],
 "metadata": {
  "kernelspec": {
   "display_name": "py310",
   "language": "python",
   "name": "python3"
  },
  "language_info": {
   "codemirror_mode": {
    "name": "ipython",
    "version": 3
   },
   "file_extension": ".py",
   "mimetype": "text/x-python",
   "name": "python",
   "nbconvert_exporter": "python",
   "pygments_lexer": "ipython3",
   "version": "3.10.13"
  }
 },
 "nbformat": 4,
 "nbformat_minor": 2
}
