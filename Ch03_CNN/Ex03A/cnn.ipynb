{
 "cells": [
  {
   "cell_type": "markdown",
   "metadata": {},
   "source": [
    "# Convolutional Neural Networks\n",
    "\n",
    "We'll explore convolutions and implement some convolutional neural networks. "
   ]
  },
  {
   "cell_type": "markdown",
   "metadata": {},
   "source": [
    "## Convolutions in 1D\n",
    "\n",
    "We'll start by implementing a simple 1D convolution with a _rectangular kernel_ that works as a running average."
   ]
  },
  {
   "cell_type": "code",
   "execution_count": null,
   "metadata": {},
   "outputs": [],
   "source": [
    "import numpy as np\n",
    "\n",
    "input = np.array([1, 2, 3, 4, 5, 4, 3, 2, 1])\n",
    "\n",
    "kernel = np.ones(4) / 4\n",
    "\n",
    "averaged_signal = np.convolve(input, kernel, mode=\"valid\")\n",
    "\n",
    "print(averaged_signal)"
   ]
  },
  {
   "cell_type": "markdown",
   "metadata": {},
   "source": [
    "Try to modify the code above by changing the `signal` and the `kernel`.\n",
    "For example, use the following kernels:\n",
    "\n",
    "- _Prewitt kernel_ `[1, 0, -1]` for edge detection or differentiation (equal to the _Sobel kernel_ in 1D).\n",
    "\n",
    "- _Gaussian kernel_ `[.25 .5 .75 .5 .25]` for smoothing."
   ]
  },
  {
   "cell_type": "markdown",
   "metadata": {},
   "source": [
    "## Convolutions in 2D\n",
    "\n",
    "We'll now move on and implement a 2D convolution with a _rectangular kernel_ that works as a local averaging."
   ]
  },
  {
   "cell_type": "code",
   "execution_count": null,
   "metadata": {},
   "outputs": [],
   "source": [
    "import numpy as np\n",
    "from scipy import signal\n",
    "\n",
    "input = np.array([\n",
    "    [1, 2, 3], \n",
    "    [4, 5, 6], \n",
    "    [7, 8, 9]\n",
    "])\n",
    "\n",
    "kernel = np.ones((3, 3)) / 9\n",
    "\n",
    "output = signal.convolve2d(input, kernel, mode=\"full\")\n",
    "\n",
    "print(output)"
   ]
  },
  {
   "cell_type": "markdown",
   "metadata": {},
   "source": [
    "Tray modifying the code above changing the `signal` and the `kernel`.\n",
    "For example, use the following kernels:\n",
    "\n",
    "- _Prewitt kernel_ to detect edges:\n",
    "    ```python\n",
    "    kernel = np.array([\n",
    "        [-1, 0, 1],\n",
    "        [-1, 0, 1],\n",
    "        [-1, 0, 1]\n",
    "    ])\n",
    "    ```\n",
    "\n",
    "- _Sobel kernel_ to detect edges:\n",
    "    ```python\n",
    "    kernel = np.array([\n",
    "        [-1, 0, 1],\n",
    "        [-2, 0, 2],\n",
    "        [-1, 0, 1]\n",
    "    ])\n",
    "    ```\n",
    "\n",
    "- _Gaussian kernel_ to smooth the image:\n",
    "    ```python\n",
    "    kernel = np.array([\n",
    "        [.04, .08, .12, .08, .04], \n",
    "        [.08, .16, .24, .16, .08], \n",
    "        [.12, .24, .36, .24, .12], \n",
    "        [.08, .16, .24, .16, .08], \n",
    "        [.04, .08, .12, .08, .04]\n",
    "    ])\n",
    "    ```"
   ]
  },
  {
   "cell_type": "markdown",
   "metadata": {},
   "source": [
    "## Convolutional Layers\n",
    "\n",
    "We'll now implement a convolutional layer in PyTorch. "
   ]
  },
  {
   "cell_type": "markdown",
   "metadata": {},
   "source": [
    "### Sample Image\n",
    "\n",
    "We start by creating a grayscale image, i.e., an image with a single color channel, stored in the `image` PyTorch array.\n",
    "This array has for dimensions, corresponding to batch size (`1`), color channels (`1`), height (`H`), and width (`W`)."
   ]
  },
  {
   "cell_type": "code",
   "execution_count": null,
   "metadata": {},
   "outputs": [],
   "source": [
    "import torch\n",
    "\n",
    "H = 12\n",
    "W = 16\n",
    "S = 4\n",
    "image = torch.zeros(1, 1, H, W)\n",
    "for idx in range(0, H, S):\n",
    "    for idy in range(0, W, S):\n",
    "        image[0, 0, idx:idx + S, idy:idy + S] = (-1)**(idx / S + idy / S)"
   ]
  },
  {
   "cell_type": "markdown",
   "metadata": {},
   "source": [
    "We can now implement the `plot_image()` function...\n",
    "\n",
    "```python\n",
    "def plot_image(image):\n",
    "    import matplotlib.pyplot as plt\n",
    "    \n",
    "    plt.imshow(image, cmap=\"gray\", aspect=\"equal\", \n",
    "               extent=[0, image.shape[1], 0, image.shape[0]])\n",
    "    plt.colorbar()\n",
    "    plt.xticks(range(0, image.shape[1] + 1))\n",
    "    plt.yticks(range(0, image.shape[0] + 1))\n",
    "    plt.grid(color=\"red\", linewidth=1)\n",
    "    plt.tight_layout()\n",
    "    plt.show()\n",
    "```\n",
    "\n",
    "... and use it to show the image."
   ]
  },
  {
   "cell_type": "code",
   "execution_count": null,
   "metadata": {},
   "outputs": [],
   "source": [
    "from plotting_cnn import plot_image\n",
    "\n",
    "plot_image(image.squeeze())"
   ]
  },
  {
   "cell_type": "markdown",
   "metadata": {},
   "source": [
    "### Convolutional Layer\n",
    "\n",
    "We'll now implement a convolutional layer in PyTorch with one input channel (`in_channels=1`), two output channels (`out_channels=2`), and a square kernel with size $1 \\times 3$ (`kernel_size=(1, 3)`).\n",
    "\n",
    "We then initialize its weights to perform a local averaging and an horizonthal edge detection."
   ]
  },
  {
   "cell_type": "code",
   "execution_count": null,
   "metadata": {},
   "outputs": [],
   "source": [
    "conv = torch.nn.Conv2d(in_channels=1, out_channels=2, kernel_size=(1, 3))\n",
    "filters = torch.zeros(conv.out_channels, conv.in_channels, *conv.kernel_size)\n",
    "filters[0, 0, :, :] = torch.Tensor([[1, 1, 1],]) / 3\n",
    "filters[1, 0, :, :] = torch.Tensor([[-1, 0, 1],])\n",
    "conv.weight = torch.nn.Parameter(filters)\n",
    "\n",
    "features_conv = conv(image)"
   ]
  },
  {
   "cell_type": "markdown",
   "metadata": {},
   "source": [
    "We can now implement the `plot_features()` function...\n",
    "\n",
    "```python\n",
    "def plot_channels(channels):\n",
    "    import matplotlib.pyplot as plt\n",
    "\n",
    "    fig, axs = plt.subplots(1, channels.shape[0], figsize=(15, 5))\n",
    "\n",
    "    for channel, ax, i in zip(channels, axs, range(channels.shape[0])):\n",
    "        im = ax.imshow(channel, cmap=\"gray\", aspect=\"equal\", \n",
    "                       extent=[0, channel.shape[1], 0, channel.shape[0]])\n",
    "        plt.colorbar(im)\n",
    "        ax.set_title(f\"Channel {i}\")\n",
    "        ax.set_xticks(range(0, channel.shape[1] + 1))\n",
    "        ax.set_yticks(range(0, channel.shape[0] + 1))\n",
    "        ax.grid(color=\"red\", linewidth=1)\n",
    "\n",
    "    plt.tight_layout()\n",
    "    plt.show()\n",
    "```\n",
    "\n",
    "... and use it to plot the output features of the convolutional layer."
   ]
  },
  {
   "cell_type": "code",
   "execution_count": null,
   "metadata": {},
   "outputs": [],
   "source": [
    "from plotting_cnn import plot_channels\n",
    "\n",
    "plot_channels(features_conv[0].detach())"
   ]
  },
  {
   "cell_type": "markdown",
   "metadata": {},
   "source": [
    "### ReLU Activation\n",
    "\n",
    "We'll now add the `torch.nn.Sequential` ReLU activation to the convolutional layer.\n",
    "\n",
    "To combine the convolutional layer and the relu, we need to use the `torch.nn.Sequential` model."
   ]
  },
  {
   "cell_type": "code",
   "execution_count": null,
   "metadata": {},
   "outputs": [],
   "source": [
    "relu = torch.nn.ReLU()\n",
    "model_relu = torch.nn.Sequential(conv, relu)\n",
    "features_relu = model_relu(image)\n",
    "plot_channels(features_relu[0].detach())"
   ]
  },
  {
   "cell_type": "markdown",
   "metadata": {},
   "source": [
    "### Pooling Layer\n",
    "\n",
    "We will now add to the `torch.nn.MaxPool2d` convolutional layer a pooling layer with a square kernel with size $2 \\times 1$ (`kernel_size=(2, 1)`) and stride of 2 in the vertical direction (`stride=(2, 1)`)."
   ]
  },
  {
   "cell_type": "code",
   "execution_count": null,
   "metadata": {},
   "outputs": [],
   "source": [
    "pool = torch.nn.MaxPool2d(kernel_size=(2, 1), stride=(2, 1))\n",
    "model_pool = torch.nn.Sequential(conv, pool)\n",
    "features_pool = model_pool(image)\n",
    "plot_channels(features_pool[0].detach())"
   ]
  },
  {
   "cell_type": "markdown",
   "metadata": {},
   "source": [
    "### Upsampling Layer\n",
    "\n",
    "We'll now add to the convolutional layer the `torch.nn.Upsample` upsampling layer with a scale factor of and 2 in the vertical direction (`scale_factor=(2, 1)`)."
   ]
  },
  {
   "cell_type": "code",
   "execution_count": null,
   "metadata": {},
   "outputs": [],
   "source": [
    "upsample = torch.nn.Upsample(scale_factor=(2, 1))\n",
    "model_upsample = torch.nn.Sequential(conv, upsample)\n",
    "features_upsample = model_upsample(image)\n",
    "plot_channels(features_upsample[0].detach())"
   ]
  },
  {
   "cell_type": "markdown",
   "metadata": {},
   "source": [
    "import matplotlib.pyplot as plt\n",
    "\n",
    "fig, axs = plt.subplots(1, 4, figsize=(16, 4))\n",
    "\n",
    "def plot_channel(ax, title, channel, offset=(0, 0)):\n",
    "    ax.imshow(channel, cmap=\"gray\", aspect=\"equal\", \n",
    "               extent=[0, channel.shape[0], 0, channel.shape[1]])\n",
    "    ax.grid(color=\"red\", linewidth=.5)\n",
    "    ax.set_title(title)\n",
    "    ax.set_xticks(range(0, channel.shape[0] + 1))\n",
    "    ax.set_xlim(- offset[0], channel.shape[0] + offset[0])\n",
    "    ax.set_yticks(range(0, channel.shape[1] + 1))\n",
    "    ax.set_ylim(- offset[1], channel.shape[1] + offset[1])\n",
    "\n",
    "plot_channel(axs[0], \"Image\", image.squeeze())\n",
    "\n",
    "plot_channel(axs[1], \"Feature 0\", features[0, 0, :, :].detach().squeeze())\n",
    "plot_channel(axs[2], \"Feature 1\", features[0, 1, :, :].detach().squeeze())\n",
    "plot_channel(axs[3], \"Feature 2\", features[0, 2, :, :].detach().squeeze())\n",
    "\n",
    "plt.tight_layout()\n",
    "plt.show()"
   ]
  },
  {
   "cell_type": "markdown",
   "metadata": {},
   "source": []
  },
  {
   "cell_type": "code",
   "execution_count": null,
   "metadata": {},
   "outputs": [],
   "source": []
  }
 ],
 "metadata": {
  "kernelspec": {
   "display_name": "py310",
   "language": "python",
   "name": "python3"
  },
  "language_info": {
   "codemirror_mode": {
    "name": "ipython",
    "version": 3
   },
   "file_extension": ".py",
   "mimetype": "text/x-python",
   "name": "python",
   "nbconvert_exporter": "python",
   "pygments_lexer": "ipython3",
   "version": "3.10.13"
  }
 },
 "nbformat": 4,
 "nbformat_minor": 2
}
