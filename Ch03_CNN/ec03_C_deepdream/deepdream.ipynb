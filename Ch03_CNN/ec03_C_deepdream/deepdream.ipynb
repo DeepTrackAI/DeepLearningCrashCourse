{
 "cells": [
  {
   "cell_type": "markdown",
   "metadata": {},
   "source": [
    "# Creating DeepDreams\n",
    "\n",
    "This notebook provides you with a complete code example that loads an image and the VGG16 pre-trained neural network, and uses them to create DeepDreams.\n"
   ]
  },
  {
   "cell_type": "markdown",
   "metadata": {},
   "source": [
    "## Loading an Image\n",
    "\n",
    "Load the example image titled `neuraltissue_with_colorlabels.png`. \n",
    "\n",
    "This image is sourced from the Drosophila ssTEM dataset, which is publicly available on Figshare: [Segmented anisotropic ssTEM dataset of neural tissue](https://figshare.com/articles/dataset/Segmented_anisotropic_ssTEM_dataset_of_neural_tissue/856713). This dataset provides a detailed view of neural tissue, aiding in the study of neural structures and patterns. The image can also be downloaded from the corresponding GitHub repository at [this link](http://github.com/unidesigner/groundtruth-drosophila-vnc), which offers additional resources and information related to the Drosophila ssTEM dataset."
   ]
  },
  {
   "cell_type": "code",
   "execution_count": null,
   "metadata": {},
   "outputs": [],
   "source": [
    "from PIL import Image\n",
    "\n",
    "image_file = \"neuraltissue_with_colorlabels.png\"\n",
    "im = Image.open(image_file).convert(\"RGB\").resize((256, 256))"
   ]
  },
  {
   "cell_type": "markdown",
   "metadata": {},
   "source": [
    "Then, plot this image."
   ]
  },
  {
   "cell_type": "code",
   "execution_count": null,
   "metadata": {},
   "outputs": [],
   "source": [
    "import matplotlib.pyplot as plt\n",
    "\n",
    "plt.imshow(im)\n",
    "plt.axis(\"off\")\n",
    "plt.show()"
   ]
  },
  {
   "cell_type": "markdown",
   "metadata": {},
   "source": [
    "## Loading a Pre-Trained Neural Network\n",
    "\n",
    "Import the VGG16 model, a pre-trained neural network known for its profi- ciency in image recognition tasks."
   ]
  },
  {
   "cell_type": "code",
   "execution_count": null,
   "metadata": {},
   "outputs": [],
   "source": [
    "from torchvision.models import vgg16, VGG16_Weights\n",
    "\n",
    "model = vgg16(weights=VGG16_Weights.IMAGENET1K_V1)\n",
    "model.eval()\n",
    "model.requires_grad_(False)\n",
    "\n",
    "print(model)\n"
   ]
  },
  {
   "cell_type": "markdown",
   "metadata": {},
   "source": [
    "Define some variables with the mean and standard deviation values specific to the ImageNet dataset’s color channels."
   ]
  },
  {
   "cell_type": "code",
   "execution_count": null,
   "metadata": {},
   "outputs": [],
   "source": [
    "import numpy as np\n",
    "import torch\n",
    "\n",
    "mean = np.array([0.485, 0.456, 0.406], dtype=np.float32)\n",
    "std = np.array([0.229, 0.224, 0.225], dtype=np.float32)\n",
    "\n",
    "low = torch.tensor((- mean / std).reshape(1, -1, 1, 1))\n",
    "high = torch.tensor(((1 - mean) / std).reshape(1, -1, 1, 1))"
   ]
  },
  {
   "cell_type": "markdown",
   "metadata": {},
   "source": [
    "## Implementing the DeepDream Algorithm\n",
    "\n",
    "The DeepDream algorithm is designed to optimize an image's representation by performing loss maximization using gradient ascent. By iterating over the image data and adjusting it in the direction that increases the activation of certain layers within a pretrained neural network, this function effectively \"dreams up\" new visual patterns and textures that amplify the features those layers detect. The process involves normalizing the image data (VGG16 is pretrained on the ImageNet dataset and the inputs are normalized wih respect to the mean and standard deviation of the channels of this dataset), applying forward hooks to capture layer activations, calculating the loss, and then updating the image based on the gradients obtained. The result is an altered image that highlights the intricate patterns learned by the neural network."
   ]
  },
  {
   "cell_type": "markdown",
   "metadata": {},
   "source": [
    "Define functions to to convert an image to a tensor, and vice versa ..."
   ]
  },
  {
   "cell_type": "code",
   "execution_count": null,
   "metadata": {},
   "outputs": [],
   "source": [
    "import torchvision.transforms as tt\n",
    "\n",
    "def image_to_tensor(im, mean, std):\n",
    "    \"\"\"Convert image to tensor.\"\"\"\n",
    "    normalize = tt.Compose([tt.ToTensor(), tt.Normalize(mean, std)]) \n",
    "    return normalize(im).unsqueeze(0).requires_grad_(True)\n",
    "\n",
    "def tensor_to_image(image, mean, std):\n",
    "    \"\"\"Convert tensor to image.\"\"\"\n",
    "    denormalize = tt.Normalize(mean=- mean / std, std=1 / std)\n",
    "    im_array = denormalize(image.data.clone().detach().squeeze()).numpy() \n",
    "    im_array = np.clip(im_array.transpose(1, 2, 0) * 255, 0, 255)\n",
    "    im_array = im_array.astype(np.uint8)\n",
    "    return Image.fromarray(im_array, \"RGB\")"
   ]
  },
  {
   "cell_type": "markdown",
   "metadata": {},
   "source": [
    "... convert the image into a PyTorch tensor ..."
   ]
  },
  {
   "cell_type": "code",
   "execution_count": null,
   "metadata": {},
   "outputs": [],
   "source": [
    "im_tensor = image_to_tensor(im, mean, std)"
   ]
  },
  {
   "cell_type": "markdown",
   "metadata": {},
   "source": [
    "... perform the DeepDream gradient ascent ..."
   ]
  },
  {
   "cell_type": "code",
   "execution_count": null,
   "metadata": {},
   "outputs": [],
   "source": [
    "layer = model.features[1]\n",
    "iter_num=100\n",
    "eta=.1\n",
    "\n",
    "hookdata = {}\n",
    "\n",
    "def hook_func(layer, input, output): \n",
    "    \"\"\"Hook for activations.\"\"\"\n",
    "    hookdata[\"activations\"] = output\n",
    "\n",
    "for _ in range(iter_num):\n",
    "    handle = layer.register_forward_hook(hook_func) \n",
    "    try:\n",
    "        _ = model(im_tensor) \n",
    "    except Exception as e:\n",
    "        print(f\"An error occurred during model predition: {e}\")\n",
    "    finally:\n",
    "        handle.remove()\n",
    "        \n",
    "    loss = hookdata[\"activations\"].mean()\n",
    "    loss.backward()\n",
    "    \n",
    "    grad_mean = torch.mean(im_tensor.grad.data)\n",
    "    grad_std = torch.std(im_tensor.grad.data)\n",
    "    normalized_grad = (im_tensor.grad.data - grad_mean) / (grad_std + 1e-8)\n",
    "    \n",
    "    im_tensor.data += eta * normalized_grad\n",
    "    \n",
    "    im_tensor.grad.zero_()\n",
    "    \n",
    "    im_tensor.data.clamp_(low, high)"
   ]
  },
  {
   "cell_type": "markdown",
   "metadata": {},
   "source": [
    "... convert the PyTorch tensor back to an image ..."
   ]
  },
  {
   "cell_type": "code",
   "execution_count": null,
   "metadata": {},
   "outputs": [],
   "source": [
    "im_deepdream = tensor_to_image(im_tensor, mean, std)"
   ]
  },
  {
   "cell_type": "markdown",
   "metadata": {},
   "source": [
    "... and plot the resulting DeepDream."
   ]
  },
  {
   "cell_type": "code",
   "execution_count": null,
   "metadata": {},
   "outputs": [],
   "source": [
    "plt.imshow(im_deepdream)\n",
    "plt.title(\"DeepDream for Layer 1\")\n",
    "plt.axis(\"off\")\n",
    "plt.show()"
   ]
  },
  {
   "cell_type": "markdown",
   "metadata": {},
   "source": [
    "### Refactoring the DeepDream code as a Function"
   ]
  },
  {
   "cell_type": "code",
   "execution_count": null,
   "metadata": {},
   "outputs": [],
   "source": [
    "import torch\n",
    "\n",
    "def deepdream(im, layer_index, iter_num=100, eta=.1): \n",
    "    \"\"\"Generate DeepDream.\"\"\"\n",
    "    mean = np.array([0.485, 0.456, 0.406], dtype=np.float32) \n",
    "    std = np.array([0.229, 0.224, 0.225], dtype=np.float32)\n",
    "    \n",
    "    low = torch.tensor((-mean / std).reshape(1, -1, 1, 1))\n",
    "    high = torch.tensor(((1 - mean) / std).reshape(1, -1, 1, 1))\n",
    "    \n",
    "    im_tensor = image_to_tensor(im, mean, std)\n",
    "\n",
    "    hookdata = {}\n",
    "\n",
    "    def hook_func(layer, input, output): \n",
    "        \"\"\"Hook for activations.\"\"\"\n",
    "        hookdata[\"activations\"] = output\n",
    "\n",
    "    layer = model.features[layer_index]\n",
    "    for _ in range(iter_num):\n",
    "        handle = layer.register_forward_hook(hook_func) \n",
    "        try:\n",
    "            _ = model(im_tensor) \n",
    "        except Exception as e:\n",
    "            print(f\"An error occurred during model predition: {e}\")\n",
    "        finally:\n",
    "            handle.remove()\n",
    "            \n",
    "        loss = hookdata[\"activations\"].mean()\n",
    "        loss.backward()\n",
    "        \n",
    "        grad_mean = torch.mean(im_tensor.grad.data)\n",
    "        grad_std = torch.std(im_tensor.grad.data)\n",
    "        normalized_grad = (im_tensor.grad.data - grad_mean) / (grad_std + 1e-8)\n",
    "        \n",
    "        im_tensor.data += eta * normalized_grad\n",
    "        \n",
    "        im_tensor.grad.zero_()\n",
    "        \n",
    "        im_tensor.data.clamp_(low, high)\n",
    "        \n",
    "    im_deepdream = tensor_to_image(im_tensor, mean, std)\n",
    "\n",
    "    plt.imshow(im_deepdream)\n",
    "    plt.title(f\"DeepDream at Layer {layer_index}\")\n",
    "    plt.axis(\"off\")\n",
    "    plt.show()"
   ]
  },
  {
   "cell_type": "code",
   "execution_count": null,
   "metadata": {},
   "outputs": [],
   "source": [
    "deepdream(im, layer_index=1, iter_num=100, eta=.1)"
   ]
  },
  {
   "cell_type": "markdown",
   "metadata": {},
   "source": [
    "### Refectoring the DeepDream Function with a Context Manager for the Hook"
   ]
  },
  {
   "cell_type": "code",
   "execution_count": null,
   "metadata": {},
   "outputs": [],
   "source": [
    "class Fwd_Hook():\n",
    "    \"\"\"Forward hook.\"\"\"\n",
    "    \n",
    "    def __init__(self, layer):\n",
    "        \"\"\"Initialize forward hook.\"\"\"\n",
    "        self.hook = layer.register_forward_hook(self.hook_func)\n",
    "    \n",
    "    def hook_func(self, layer, input, output):\n",
    "        \"\"\"Save activations.\"\"\"\n",
    "        self.activations = output\n",
    "\n",
    "    def __enter__(self, *args):\n",
    "        \"\"\"Enter context and register hooks.\"\"\"\n",
    "        return self\n",
    "\n",
    "    def __exit__(self, *args):\n",
    "        \"\"\"Exit context management and remove hook.\"\"\"\n",
    "        self.hook.remove()"
   ]
  },
  {
   "cell_type": "code",
   "execution_count": null,
   "metadata": {},
   "outputs": [],
   "source": [
    "def deepdream(im, layer_index, iter_num=100, eta=.1): \n",
    "    \"\"\"Generate DeepDream.\"\"\"\n",
    "    mean = np.array([0.485, 0.456, 0.406], dtype=np.float32) \n",
    "    std = np.array([0.229, 0.224, 0.225], dtype=np.float32)\n",
    "    \n",
    "    low = torch.tensor((-mean / std).reshape(1, -1, 1, 1))\n",
    "    high = torch.tensor(((1 - mean) / std).reshape(1, -1, 1, 1))\n",
    "    \n",
    "    im_tensor = image_to_tensor(im, mean, std)\n",
    "\n",
    "    hookdata = {}\n",
    "\n",
    "    def hook_func(layer, input, output): \n",
    "        \"\"\"Hook for activations.\"\"\"\n",
    "        hookdata[\"activations\"] = output\n",
    "\n",
    "    layer = model.features[layer_index]\n",
    "    for _ in range(iter_num):\n",
    "        with Fwd_Hook(layer) as fh:\n",
    "            _ = model(im_tensor)\n",
    "        \n",
    "        loss = fh.activations.mean()\n",
    "        loss.backward()        \n",
    "        \n",
    "        handle = layer.register_forward_hook(hook_func) \n",
    "        try:\n",
    "            _ = model(im_tensor) \n",
    "        except Exception as e:\n",
    "            print(f\"An error occurred during model predition: {e}\")\n",
    "        finally:\n",
    "            handle.remove()\n",
    "            \n",
    "        loss = hookdata[\"activations\"].mean()\n",
    "        loss.backward()\n",
    "        \n",
    "        grad_mean = torch.mean(im_tensor.grad.data)\n",
    "        grad_std = torch.std(im_tensor.grad.data)\n",
    "        normalized_grad = (im_tensor.grad.data - grad_mean) / (grad_std + 1e-8)\n",
    "        \n",
    "        im_tensor.data += eta * normalized_grad\n",
    "        \n",
    "        im_tensor.grad.zero_()\n",
    "        \n",
    "        im_tensor.data.clamp_(low, high)\n",
    "        \n",
    "    im_deepdream = tensor_to_image(im_tensor, mean, std)\n",
    "\n",
    "    plt.imshow(im_deepdream)\n",
    "    plt.title(f\"DeepDream at Layer {layer_index}\")\n",
    "    plt.axis(\"off\")\n",
    "    plt.show()"
   ]
  },
  {
   "cell_type": "code",
   "execution_count": null,
   "metadata": {},
   "outputs": [],
   "source": [
    "deepdream(im, layer_index=1, iter_num=100, eta=.1)"
   ]
  },
  {
   "cell_type": "markdown",
   "metadata": {},
   "source": [
    "## Generating DeepDreams from Deeper Layers"
   ]
  },
  {
   "cell_type": "code",
   "execution_count": null,
   "metadata": {},
   "outputs": [],
   "source": [
    "for layer_index in [1, 3, 6, 8, 11, 13, 15, 18, 20, 22, 25, 27, 29]:\n",
    "    deepdream(im, layer_index, iter_num=100, eta=.1)"
   ]
  },
  {
   "cell_type": "markdown",
   "metadata": {},
   "source": [
    "## Generating DeepDreams from Multiple Layers at Once"
   ]
  },
  {
   "cell_type": "code",
   "execution_count": null,
   "metadata": {},
   "outputs": [],
   "source": [
    "class Fwd_Hooks():\n",
    "    \"\"\"Forward hook.\"\"\"\n",
    "    \n",
    "    def __init__(self, layers):\n",
    "        \"\"\"Initialize forward hooks.\"\"\"\n",
    "        self.hooks = []\n",
    "        self.activations = []\n",
    "        for layer in layers:\n",
    "            self.hooks.append(layer.register_forward_hook(self.hook_func))\n",
    "    \n",
    "    def hook_func(self, layer, input, output):\n",
    "        \"\"\"Save activations.\"\"\"\n",
    "        self.activations.append(output)\n",
    "\n",
    "    def __enter__(self, *args):\n",
    "        \"\"\"Enter context and register hooks.\"\"\"\n",
    "        return self\n",
    "\n",
    "    def __exit__(self, *args):\n",
    "        \"\"\"Exit context management and remove hooks.\"\"\"\n",
    "        for hook in self.hooks:\n",
    "            hook.remove()"
   ]
  },
  {
   "cell_type": "code",
   "execution_count": null,
   "metadata": {},
   "outputs": [],
   "source": [
    "def deepdream(im, layer_indices, iter_num=100, eta=.1): \n",
    "    \"\"\"Generate DeepDream.\"\"\"\n",
    "    mean = np.array([0.485, 0.456, 0.406], dtype=np.float32) \n",
    "    std = np.array([0.229, 0.224, 0.225], dtype=np.float32)\n",
    "    \n",
    "    low = torch.tensor((-mean / std).reshape(1, -1, 1, 1))\n",
    "    high = torch.tensor(((1 - mean) / std).reshape(1, -1, 1, 1))\n",
    "    \n",
    "    im_tensor = image_to_tensor(im, mean, std)\n",
    "\n",
    "    hookdata = {}\n",
    "\n",
    "    def hook_func(layer, input, output): \n",
    "        \"\"\"Hook for activations.\"\"\"\n",
    "        hookdata[\"activations\"] = output\n",
    "\n",
    "    layers = [model.features[i] for i in layer_indices]\n",
    "    for _ in range(iter_num):\n",
    "        with Fwd_Hooks(layers) as fh:\n",
    "            _ = model(im_tensor)\n",
    "        \n",
    "        losses = [activations.mean() for activations in fh.activations_list]\n",
    "        loss = torch.stack(losses).sum()\n",
    "        loss.backward()        \n",
    "        \n",
    "        handle = layer.register_forward_hook(hook_func) \n",
    "        try:\n",
    "            _ = model(im_tensor) \n",
    "        except Exception as e:\n",
    "            print(f\"An error occurred during model predition: {e}\")\n",
    "        finally:\n",
    "            handle.remove()\n",
    "            \n",
    "        loss = hookdata[\"activations\"].mean()\n",
    "        loss.backward()\n",
    "        \n",
    "        grad_mean = torch.mean(im_tensor.grad.data)\n",
    "        grad_std = torch.std(im_tensor.grad.data)\n",
    "        normalized_grad = (im_tensor.grad.data - grad_mean) / (grad_std + 1e-8)\n",
    "        \n",
    "        im_tensor.data += eta * normalized_grad\n",
    "        \n",
    "        im_tensor.grad.zero_()\n",
    "        \n",
    "        im_tensor.data.clamp_(low, high)\n",
    "        \n",
    "    im_deepdream = tensor_to_image(im_tensor, mean, std)\n",
    "\n",
    "    plt.imshow(im_deepdream)\n",
    "    plt.title(f\"DeepDream at Layers {layer_indices}\")\n",
    "    plt.axis(\"off\")\n",
    "    plt.show()\n",
    "    \n",
    "    return im_deepdream"
   ]
  },
  {
   "cell_type": "code",
   "execution_count": null,
   "metadata": {},
   "outputs": [],
   "source": [
    "deepdream(im, layer_indices=[1, 8, 11, 18, 25, 27, 29], iter_num=100, eta=.1);"
   ]
  },
  {
   "cell_type": "markdown",
   "metadata": {},
   "source": [
    "## Generating DeepDreams at Multiple Resolutions"
   ]
  },
  {
   "cell_type": "code",
   "execution_count": null,
   "metadata": {},
   "outputs": [],
   "source": [
    "octave_scale = 1.4\n",
    "layers_indices = [18]\n",
    "\n",
    "original_size = im.size\n",
    "\n",
    "im_deepdream = im\n",
    "for octave in range(-2, 3):\n",
    "    new_size = (\n",
    "        int(original_size[0] * (octave_scale ** octave)),\n",
    "        int(original_size[1] * (octave_scale ** octave)),\n",
    "    )\n",
    "    im_deepdream = im_deepdream.resize(new_size, Image.LANCZOS)\n",
    "    \n",
    "    im_deepdream = deepdream(im_deepdream, layers_indices,\n",
    "                             iter_num=100, eta=.1)\n",
    "    \n",
    "    im_deepdream = im_deepdream.resize(original_size, Image.LANCZOS)\n",
    "\n",
    "    plt.imshow(im_deepdream) \n",
    "    plt.title(f\"Octave {octave}\") \n",
    "    plt.axis(\"off\")\n",
    "    plt.show()"
   ]
  },
  {
   "cell_type": "markdown",
   "metadata": {},
   "source": [
    "## Generating DeepDreams at Multiple Resolutions Using Octaves and Multiple Layers"
   ]
  },
  {
   "cell_type": "code",
   "execution_count": null,
   "metadata": {},
   "outputs": [],
   "source": [
    "octave_scale = 1.4\n",
    "layers_indices = [15, 18, 20, 22, 25, 27, 29]\n",
    "\n",
    "original_size = im.size\n",
    "\n",
    "im_deepdream = im\n",
    "for octave in range(-2, 3):\n",
    "    new_size = (\n",
    "        int(original_size[0] * (octave_scale ** octave)),\n",
    "        int(original_size[1] * (octave_scale ** octave)),\n",
    "    )\n",
    "    im_deepdream = im_deepdream.resize(new_size, Image.LANCZOS)\n",
    "    \n",
    "    im_deepdream = deepdream(im_deepdream, layers_indices,\n",
    "                             iter_num=100, eta=.1)\n",
    "    \n",
    "    im_deepdream = im_deepdream.resize(original_size, Image.LANCZOS)\n",
    "\n",
    "    plt.imshow(im_deepdream) \n",
    "    plt.title(f\"Octave {octave}\") \n",
    "    plt.axis(\"off\")\n",
    "    plt.show()"
   ]
  }
 ],
 "metadata": {
  "kernelspec": {
   "display_name": "deeplay_env",
   "language": "python",
   "name": "python3"
  },
  "language_info": {
   "codemirror_mode": {
    "name": "ipython",
    "version": 3
   },
   "file_extension": ".py",
   "mimetype": "text/x-python",
   "name": "python",
   "nbconvert_exporter": "python",
   "pygments_lexer": "ipython3",
   "version": "3.10.13"
  }
 },
 "nbformat": 4,
 "nbformat_minor": 2
}
