{
 "cells": [
  {
   "cell_type": "markdown",
   "metadata": {},
   "source": [
    "#  Denoising Images with an Encoder-Decoder\n",
    "\n",
    "This notebook provides you with a complete code example that generates noisy brightfield microscopy images of particles, trains an encoder-decoder to denoise them, and visualizes the results."
   ]
  },
  {
   "cell_type": "markdown",
   "metadata": {},
   "source": [
    "## Generating the Data\n",
    "\n",
    "Define a spherical particle ..."
   ]
  },
  {
   "cell_type": "code",
   "execution_count": null,
   "metadata": {},
   "outputs": [],
   "source": [
    "import deeptrack as dt\n",
    "import numpy as np\n",
    "\n",
    "particle = dt.Sphere(position=np.array([0.5, 0.5]) * 64, position_unit=\"pixel\",\n",
    "                     radius=500 * dt.units.nm, refractive_index=1.45 + 0.02j)"
   ]
  },
  {
   "cell_type": "markdown",
   "metadata": {},
   "source": [
    "... define the microscope to observe the particle ..."
   ]
  },
  {
   "cell_type": "code",
   "execution_count": null,
   "metadata": {},
   "outputs": [],
   "source": [
    "brightfield_microscope = dt.Brightfield(wavelength=500 * dt.units.nm, NA=1.0,\n",
    "    resolution=1 * dt.units.um, magnification=10, refractive_index_medium=1.33, \n",
    "    upsample=2, output_region=(0, 0, 64, 64))"
   ]
  },
  {
   "cell_type": "markdown",
   "metadata": {},
   "source": [
    "... obtain the image of the microscopic particle ..."
   ]
  },
  {
   "cell_type": "code",
   "execution_count": null,
   "metadata": {},
   "outputs": [],
   "source": [
    "illuminated_sample = brightfield_microscope(particle)"
   ]
  },
  {
   "cell_type": "markdown",
   "metadata": {},
   "source": [
    "... simulate the clean image of the particle ..."
   ]
  },
  {
   "cell_type": "code",
   "execution_count": null,
   "metadata": {},
   "outputs": [],
   "source": [
    "import torch\n",
    "\n",
    "clean_particle = illuminated_sample >> dt.NormalizeMinMax() \\\n",
    "    >> dt.MoveAxis(2, 0) >> dt.pytorch.ToTensor(dtype=torch.float)"
   ]
  },
  {
   "cell_type": "markdown",
   "metadata": {},
   "source": [
    "... simulate the noisy image of the particle ..."
   ]
  },
  {
   "cell_type": "code",
   "execution_count": null,
   "metadata": {},
   "outputs": [],
   "source": [
    "noise = dt.Poisson(snr=lambda: 2.0 + np.random.rand())\n",
    "\n",
    "noisy_particle = illuminated_sample >> noise >> dt.NormalizeMinMax() \\\n",
    "    >> dt.MoveAxis(2, 0) >> dt.pytorch.ToTensor(dtype=torch.float)"
   ]
  },
  {
   "cell_type": "markdown",
   "metadata": {},
   "source": [
    "... combine the noisy and clean particle images into a single simulation pipeline ..."
   ]
  },
  {
   "cell_type": "code",
   "execution_count": null,
   "metadata": {},
   "outputs": [],
   "source": [
    "pip = noisy_particle & clean_particle"
   ]
  },
  {
   "cell_type": "markdown",
   "metadata": {},
   "source": [
    "... and plot a few noisy and corresponding clean particle images."
   ]
  },
  {
   "cell_type": "code",
   "execution_count": null,
   "metadata": {},
   "outputs": [],
   "source": [
    "import matplotlib.pyplot as plt\n",
    "\n",
    "def plot_image(title, image):\n",
    "    \"\"\"Plot a grayscale image with a title.\"\"\"\n",
    "    plt.imshow(image, cmap=\"gray\")\n",
    "    plt.title(title, fontsize=30)\n",
    "    plt.axis(\"off\")\n",
    "    plt.show()"
   ]
  },
  {
   "cell_type": "code",
   "execution_count": null,
   "metadata": {},
   "outputs": [],
   "source": [
    "for i in range(5):\n",
    "    input, target = pip.update().resolve()\n",
    "    plot_image(f\"Input Image {i}\", input.permute(1, 2, 0))\n",
    "    plot_image(f\"Target Image {i}\", target.permute(1, 2, 0))"
   ]
  },
  {
   "cell_type": "markdown",
   "metadata": {},
   "source": [
    "## Creating a Dataset\n",
    "\n",
    "Define a class representing a simulated dataset to generate the data for the training of the denoising encoder-decoder ..."
   ]
  },
  {
   "cell_type": "code",
   "execution_count": null,
   "metadata": {},
   "outputs": [],
   "source": [
    "class SimulatedDataset(torch.utils.data.Dataset):\n",
    "    \"\"\"Simulated dataset generating pairs of noisy and clean images.\"\"\"\n",
    "\n",
    "    def __init__(self, pip, buffer_size, replace=0):\n",
    "        \"\"\"Initialize the dataset.\"\"\"\n",
    "        self.pip, self.buffer_size, self.replace = pip, buffer_size, replace\n",
    "        self.images = [pip.update().resolve() for _ in range(buffer_size)]\n",
    "\n",
    "    def __len__(self):\n",
    "        \"\"\"Return the size of the dataset buffer.\"\"\"\n",
    "        return self.buffer_size\n",
    "\n",
    "    def __getitem__(self, idx):\n",
    "        \"\"\"Retrieve a noisy-clean image pair from the dataset.\"\"\"\n",
    "        if np.random.rand() < self.replace:\n",
    "            self.images[idx] = self.pip.update().resolve()\n",
    "        image_pair = self.images[idx]\n",
    "        noisy_image, clean_image = image_pair[0], image_pair[1]\n",
    "        return noisy_image, clean_image"
   ]
  },
  {
   "cell_type": "markdown",
   "metadata": {},
   "source": [
    "... and create the dataset and the data loader."
   ]
  },
  {
   "cell_type": "code",
   "execution_count": null,
   "metadata": {},
   "outputs": [],
   "source": [
    "dataset = SimulatedDataset(pip, buffer_size=256, replace=0.1)\n",
    "loader = torch.utils.data.DataLoader(dataset, batch_size=8, shuffle=True)"
   ]
  },
  {
   "cell_type": "markdown",
   "metadata": {},
   "source": [
    "## Defining and Training the Encoder-Decoder\n",
    "\n",
    "Define the encoder-decoder ..."
   ]
  },
  {
   "cell_type": "code",
   "execution_count": null,
   "metadata": {},
   "outputs": [],
   "source": [
    "import deeplay as dl\n",
    "\n",
    "encoderdecoder = dl.ConvolutionalEncoderDecoder2d(in_channels=1, \n",
    "    encoder_channels=[16, 16], out_channels=1)\n",
    "\n",
    "print(encoderdecoder)"
   ]
  },
  {
   "cell_type": "markdown",
   "metadata": {},
   "source": [
    "... compile it ..."
   ]
  },
  {
   "cell_type": "code",
   "execution_count": null,
   "metadata": {},
   "outputs": [],
   "source": [
    "regressor_template = dl.Regressor(model=encoderdecoder, loss=torch.nn.L1Loss(),\n",
    "                            optimizer=dl.Adam())\n",
    "ed = regressor_template.create()\n",
    "\n",
    "print(ed)"
   ]
  },
  {
   "cell_type": "markdown",
   "metadata": {},
   "source": [
    "... and train it."
   ]
  },
  {
   "cell_type": "code",
   "execution_count": null,
   "metadata": {},
   "outputs": [],
   "source": [
    "ed_trainer = dl.Trainer(max_epochs=150, accelerator=\"auto\")\n",
    "ed_trainer.fit(ed, loader)"
   ]
  },
  {
   "cell_type": "markdown",
   "metadata": {},
   "source": [
    "## Testing the Trained Encoder-Decoder"
   ]
  },
  {
   "cell_type": "code",
   "execution_count": null,
   "metadata": {},
   "outputs": [],
   "source": [
    "for i in range(5):\n",
    "    input, target = pip.update().resolve()\n",
    "    predicted = ed(input.unsqueeze(0)).detach()\n",
    "    \n",
    "    plot_image(f\"Input Image {i}\", input[0, :, :])\n",
    "    plot_image(f\"Target Image {i}\", target[0, :, :])\n",
    "    plot_image(f\"Predicted Image {i}\", predicted[0, 0, :, :])"
   ]
  },
  {
   "cell_type": "markdown",
   "metadata": {},
   "source": [
    "## Checking Absence of Mode Collapse\n",
    "\n",
    "Use the trained encoder-decoder with a blank image."
   ]
  },
  {
   "cell_type": "code",
   "execution_count": null,
   "metadata": {},
   "outputs": [],
   "source": [
    "blank = brightfield_microscope(particle ^ 0)\n",
    "blank_pip = blank >> noise >> dt.NormalizeMinMax() >> dt.MoveAxis(2, 0) \\\n",
    "    >> dt.pytorch.ToTensor(dtype=torch.float)\n",
    "\n",
    "for i in range(5):\n",
    "    blank_image = blank_pip.update().resolve()\n",
    "    blank_predicted = ed(blank_image.unsqueeze(0)).detach()\n",
    "    plot_image(f\"Input Image {i}\", blank_image[0, :, :])\n",
    "    plot_image(f\"Predicted Image {i}\", np.square(blank_predicted[0, 0, :, :]))"
   ]
  },
  {
   "cell_type": "markdown",
   "metadata": {},
   "source": [
    "## Checking Generalization Capabilities\n",
    "\n",
    "Define a pipeline with a particle with varying position and radius ..."
   ]
  },
  {
   "cell_type": "code",
   "execution_count": null,
   "metadata": {},
   "outputs": [],
   "source": [
    "diverse_particle = dt.Sphere(\n",
    "    position=lambda: np.array([0.2, 0.2] + np.random.rand(2) * 0.6) * 64, \n",
    "    radius=lambda: 500 * dt.units.nm * (1 + np.random.rand()), \n",
    "    position_unit=\"pixel\", refractive_index=1.45 + 0.02j)\n",
    "diverse_illuminated_sample = brightfield_microscope(diverse_particle)\n",
    "diverse_clean_particle = diverse_illuminated_sample \\\n",
    "    >> dt.NormalizeMinMax() >> dt.MoveAxis(2, 0) \\\n",
    "    >> dt.pytorch.ToTensor(dtype=torch.float)\n",
    "diverse_noisy_particle = diverse_illuminated_sample >> noise \\\n",
    "    >> dt.NormalizeMinMax() >> dt.MoveAxis(2, 0) \\\n",
    "    >> dt.pytorch.ToTensor(dtype=torch.float)\n",
    "diverse_pip = diverse_noisy_particle & diverse_clean_particle"
   ]
  },
  {
   "cell_type": "markdown",
   "metadata": {},
   "source": [
    "... and denoise images of diverse particles using the trained encoder-decoder."
   ]
  },
  {
   "cell_type": "code",
   "execution_count": null,
   "metadata": {},
   "outputs": [],
   "source": [
    "for i in range(5):\n",
    "    diverse_input, diverse_target = diverse_pip.update().resolve()\n",
    "    diverse_predicted = ed(diverse_input.unsqueeze(0)).detach()\n",
    "        \n",
    "    plot_image(f\"Input Image {i}\", diverse_input[0, :, :])\n",
    "    plot_image(f\"Target Image {i}\", diverse_target[0, :, :])\n",
    "    plot_image(f\"Predicted Image {i}\", diverse_predicted[0, 0, :, :])"
   ]
  },
  {
   "cell_type": "markdown",
   "metadata": {},
   "source": [
    "## Improving the Training\n",
    "\n",
    "Train with the dataset with varying parameters ..."
   ]
  },
  {
   "cell_type": "code",
   "execution_count": null,
   "metadata": {},
   "outputs": [],
   "source": [
    "diverse_dataset = SimulatedDataset(diverse_pip, buffer_size=256, replace=0.1)\n",
    "diverse_loader = torch.utils.data.DataLoader(diverse_dataset, batch_size=8, \n",
    "                                             shuffle=True)\n",
    "diverse_ed = regressor_template.create()\n",
    "diverse_ed_trainer = dl.Trainer(max_epochs=150, accelerator=\"auto\")\n",
    "diverse_ed_trainer.fit(diverse_ed, diverse_loader)\n"
   ]
  },
  {
   "cell_type": "markdown",
   "metadata": {},
   "source": [
    "... and plot the images obtained with the improved training."
   ]
  },
  {
   "cell_type": "code",
   "execution_count": null,
   "metadata": {},
   "outputs": [],
   "source": [
    "for i in range(5):\n",
    "    diverse_input, diverse_target = diverse_pip.update().resolve()\n",
    "    diverse_predicted = diverse_ed(diverse_input.unsqueeze(0)).detach()\n",
    "        \n",
    "    plot_image(f\"Input Image {i}\", diverse_input[0, :, :])\n",
    "    plot_image(f\"Target Image {i}\", diverse_target[0, :, :])\n",
    "    plot_image(f\"Predicted Image {i}\", diverse_predicted[0, 0, :, :])"
   ]
  }
 ],
 "metadata": {
  "kernelspec": {
   "display_name": "py310",
   "language": "python",
   "name": "python3"
  },
  "language_info": {
   "codemirror_mode": {
    "name": "ipython",
    "version": 3
   },
   "file_extension": ".py",
   "mimetype": "text/x-python",
   "name": "python",
   "nbconvert_exporter": "python",
   "pygments_lexer": "ipython3",
   "version": "3.12.2"
  }
 },
 "nbformat": 4,
 "nbformat_minor": 2
}
