{
 "cells": [
  {
   "cell_type": "markdown",
   "metadata": {},
   "source": [
    "#  Denoising Images with an Encoder-Decoder\n",
    "\n",
    "This notebook provides you with a complete code example that generates noisy brightfield microscopy images of particles, trains an encoder-decoder to denoise them, and visualizes the results."
   ]
  },
  {
   "cell_type": "markdown",
   "metadata": {},
   "source": [
    "## Generating the Data\n",
    "\n",
    "Define a spherical particle ..."
   ]
  },
  {
   "cell_type": "code",
   "execution_count": 1,
   "metadata": {},
   "outputs": [],
   "source": [
    "import deeptrack as dt\n",
    "import numpy as np\n",
    "\n",
    "particle = dt.Sphere(position=np.array([0.5, 0.5]) * 64, position_unit=\"pixel\",\n",
    "                     radius=500 * dt.units.nm, refractive_index=1.45 + 0.02j)"
   ]
  },
  {
   "cell_type": "markdown",
   "metadata": {},
   "source": [
    "... define the microscope to observe the particle ..."
   ]
  },
  {
   "cell_type": "code",
   "execution_count": 2,
   "metadata": {},
   "outputs": [],
   "source": [
    "brightfield_microscope = dt.Brightfield(wavelength=500 * dt.units.nm, NA=1.0,\n",
    "    resolution=1 * dt.units.um, magnification=10, refractive_index_medium=1.33, \n",
    "    upsample=2, output_region=(0, 0, 64, 64))"
   ]
  },
  {
   "cell_type": "markdown",
   "metadata": {},
   "source": [
    "... obtain the image of the microscopic particle ..."
   ]
  },
  {
   "cell_type": "code",
   "execution_count": 3,
   "metadata": {},
   "outputs": [],
   "source": [
    "illuminated_sample = brightfield_microscope(particle)"
   ]
  },
  {
   "cell_type": "markdown",
   "metadata": {},
   "source": [
    "... simulate the clean image of the particle ..."
   ]
  },
  {
   "cell_type": "code",
   "execution_count": 4,
   "metadata": {},
   "outputs": [],
   "source": [
    "import torch\n",
    "\n",
    "clean_particle = illuminated_sample >> dt.NormalizeMinMax() \\\n",
    "    >> dt.MoveAxis(2, 0) >> dt.pytorch.ToTensor(dtype=torch.float)"
   ]
  },
  {
   "cell_type": "markdown",
   "metadata": {},
   "source": [
    "... simulate the noisy image of the particle ..."
   ]
  },
  {
   "cell_type": "code",
   "execution_count": 5,
   "metadata": {},
   "outputs": [],
   "source": [
    "noise = dt.Poisson(snr=lambda: 2.0 + np.random.rand())\n",
    "\n",
    "noisy_particle = illuminated_sample >> noise >> dt.NormalizeMinMax() \\\n",
    "    >> dt.MoveAxis(2, 0) >> dt.pytorch.ToTensor(dtype=torch.float)"
   ]
  },
  {
   "cell_type": "markdown",
   "metadata": {},
   "source": [
    "... combine the noisy and clean particle images into a single simulation pipeline ..."
   ]
  },
  {
   "cell_type": "code",
   "execution_count": 6,
   "metadata": {},
   "outputs": [],
   "source": [
    "pip = noisy_particle & clean_particle"
   ]
  },
  {
   "cell_type": "markdown",
   "metadata": {},
   "source": [
    "... and plot a few noisy and corresponding clean particle images."
   ]
  },
  {
   "cell_type": "code",
   "execution_count": 7,
   "metadata": {},
   "outputs": [],
   "source": [
    "import matplotlib.pyplot as plt\n",
    "\n",
    "def plot_image(title, image, fig_name):  ### def plot_image(title, image):\n",
    "    \"\"\"Plot a grayscale image with a title.\"\"\"\n",
    "    plt.imshow(image, cmap=\"gray\")\n",
    "    plt.title(title, fontsize=30)\n",
    "    plt.axis(\"off\")\n",
    "    plt.savefig(fig_name, bbox_inches='tight')  ### plt.show()"
   ]
  },
  {
   "cell_type": "code",
   "execution_count": 8,
   "metadata": {},
   "outputs": [
    {
     "data": {
      "image/png": "[encoded data removed]",
      "text/plain": [
       "<Figure size 640x480 with 1 Axes>"
      ]
     },
     "metadata": {},
     "output_type": "display_data"
    }
   ],
   "source": [
    "for i in range(5):\n",
    "    input, target = pip.update().resolve()\n",
    "    plot_image(f\"Input Image {i}\", input.permute(1, 2, 0), fig_name=f\"fig_04_02_{i}_1.pdf\")  ### plot_image(f\"Input Image {i}\", input.permute(1, 2, 0))\n",
    "    plot_image(f\"Target Image {i}\", target.permute(1, 2, 0), fig_name=f\"fig_04_02_{i}_2.pdf\")  ### plot_image(f\"Target Image {i}\", target.permute(1, 2, 0))"
   ]
  },
  {
   "cell_type": "markdown",
   "metadata": {},
   "source": [
    "## Creating a Simulated Dataset\n",
    "\n",
    "Define a class representing a simulated dataset to generate the data for the training of the denoising encoder-decoder ..."
   ]
  },
  {
   "cell_type": "code",
   "execution_count": 9,
   "metadata": {},
   "outputs": [],
   "source": [
    "class SimulatedDataset(torch.utils.data.Dataset):\n",
    "    \"\"\"Simulated dataset generating pairs of noisy and clean images.\"\"\"\n",
    "\n",
    "    def __init__(self, pip, buffer_size, replace=0):\n",
    "        \"\"\"Initialize the dataset.\"\"\"\n",
    "        self.pip, self.buffer_size, self.replace = pip, buffer_size, replace\n",
    "        self.images = [pip.update().resolve() for _ in range(buffer_size)]\n",
    "\n",
    "    def __len__(self):\n",
    "        \"\"\"Return the size of the dataset buffer.\"\"\"\n",
    "        return self.buffer_size\n",
    "\n",
    "    def __getitem__(self, idx):\n",
    "        \"\"\"Retrieve a noisy-clean image pair from the dataset.\"\"\"\n",
    "        if np.random.rand() < self.replace:\n",
    "            self.images[idx] = self.pip.update().resolve()\n",
    "        image_pair = self.images[idx]\n",
    "        noisy_image, clean_image = image_pair[0], image_pair[1]\n",
    "        return noisy_image, clean_image"
   ]
  },
  {
   "cell_type": "markdown",
   "metadata": {},
   "source": [
    "... and create the dataset and the data loader."
   ]
  },
  {
   "cell_type": "code",
   "execution_count": 10,
   "metadata": {},
   "outputs": [],
   "source": [
    "dataset = SimulatedDataset(pip, buffer_size=256, replace=0.1)\n",
    "loader = torch.utils.data.DataLoader(dataset, batch_size=8, shuffle=True)"
   ]
  },
  {
   "cell_type": "markdown",
   "metadata": {},
   "source": [
    "## Defining and Training the Encoder-Decoder\n",
    "\n",
    "Define the encoder-decoder ..."
   ]
  },
  {
   "cell_type": "code",
   "execution_count": 11,
   "metadata": {},
   "outputs": [
    {
     "name": "stdout",
     "output_type": "stream",
     "text": [
      "ConvolutionalEncoderDecoder2d(\n",
      "  (encoder): ConvolutionalEncoder2d(\n",
      "    (blocks): LayerList(\n",
      "      (0): Conv2dBlock(\n",
      "        (layer): Layer[Conv2d](in_channels=1, out_channels=16, kernel_size=3, stride=1, padding=1)\n",
      "        (activation): Layer[ReLU]()\n",
      "      )\n",
      "      (1): Conv2dBlock(\n",
      "        (pool): Layer[MaxPool2d](kernel_size=2, stride=2)\n",
      "        (layer): Layer[Conv2d](in_channels=16, out_channels=16, kernel_size=3, stride=1, padding=1)\n",
      "        (activation): Layer[ReLU]()\n",
      "      )\n",
      "    )\n",
      "    (postprocess): Layer[Identity]()\n",
      "  )\n",
      "  (bottleneck): ConvolutionalNeuralNetwork(\n",
      "    (blocks): LayerList(\n",
      "      (0): Conv2dBlock(\n",
      "        (pool): Layer[MaxPool2d](kernel_size=2, stride=2)\n",
      "        (layer): Layer[Conv2d](in_channels=16, out_channels=16, kernel_size=3, stride=1, padding=1)\n",
      "        (activation): Layer[ReLU]()\n",
      "        (upsample): Layer[ConvTranspose2d](kernel_size=2, stride=2, padding=0, in_channels=16, out_channels=16)\n",
      "      )\n",
      "    )\n",
      "  )\n",
      "  (decoder): ConvolutionalDecoder2d(\n",
      "    (blocks): LayerList(\n",
      "      (0): Conv2dBlock(\n",
      "        (layer): Layer[Conv2d](in_channels=16, out_channels=16, kernel_size=3, stride=1, padding=1)\n",
      "        (activation): Layer[ReLU]()\n",
      "        (upsample): Layer[ConvTranspose2d](kernel_size=2, stride=2, padding=0, in_channels=16, out_channels=16)\n",
      "      )\n",
      "      (1): Conv2dBlock(\n",
      "        (layer): Layer[Conv2d](in_channels=16, out_channels=1, kernel_size=3, stride=1, padding=1)\n",
      "        (activation): Layer[Identity]()\n",
      "      )\n",
      "    )\n",
      "    (preprocess): Layer[Identity]()\n",
      "  )\n",
      ")\n"
     ]
    }
   ],
   "source": [
    "import deeplay as dl\n",
    "\n",
    "encoderdecoder = dl.ConvolutionalEncoderDecoder2d(in_channels=1, \n",
    "    encoder_channels=[16, 16], out_channels=1)\n",
    "\n",
    "print(encoderdecoder)"
   ]
  },
  {
   "cell_type": "markdown",
   "metadata": {},
   "source": [
    "... compile it ..."
   ]
  },
  {
   "cell_type": "code",
   "execution_count": 12,
   "metadata": {},
   "outputs": [
    {
     "name": "stdout",
     "output_type": "stream",
     "text": [
      "Regressor(\n",
      "  (loss): L1Loss()\n",
      "  (train_metrics): MetricCollection,\n",
      "    prefix=train\n",
      "  )\n",
      "  (val_metrics): MetricCollection,\n",
      "    prefix=val\n",
      "  )\n",
      "  (test_metrics): MetricCollection,\n",
      "    prefix=test\n",
      "  )\n",
      "  (model): ConvolutionalEncoderDecoder2d(\n",
      "    (encoder): ConvolutionalEncoder2d(\n",
      "      (blocks): LayerList(\n",
      "        (0): Conv2dBlock(\n",
      "          (layer): Conv2d(1, 16, kernel_size=(3, 3), stride=(1, 1), padding=(1, 1))\n",
      "          (activation): ReLU()\n",
      "        )\n",
      "        (1): Conv2dBlock(\n",
      "          (pool): MaxPool2d(kernel_size=2, stride=2, padding=0, dilation=1, ceil_mode=False)\n",
      "          (layer): Conv2d(16, 16, kernel_size=(3, 3), stride=(1, 1), padding=(1, 1))\n",
      "          (activation): ReLU()\n",
      "        )\n",
      "      )\n",
      "      (postprocess): Identity()\n",
      "    )\n",
      "    (bottleneck): ConvolutionalNeuralNetwork(\n",
      "      (blocks): LayerList(\n",
      "        (0): Conv2dBlock(\n",
      "          (pool): MaxPool2d(kernel_size=2, stride=2, padding=0, dilation=1, ceil_mode=False)\n",
      "          (layer): Conv2d(16, 16, kernel_size=(3, 3), stride=(1, 1), padding=(1, 1))\n",
      "          (activation): ReLU()\n",
      "          (upsample): ConvTranspose2d(16, 16, kernel_size=(2, 2), stride=(2, 2))\n",
      "        )\n",
      "      )\n",
      "    )\n",
      "    (decoder): ConvolutionalDecoder2d(\n",
      "      (blocks): LayerList(\n",
      "        (0): Conv2dBlock(\n",
      "          (layer): Conv2d(16, 16, kernel_size=(3, 3), stride=(1, 1), padding=(1, 1))\n",
      "          (activation): ReLU()\n",
      "          (upsample): ConvTranspose2d(16, 16, kernel_size=(2, 2), stride=(2, 2))\n",
      "        )\n",
      "        (1): Conv2dBlock(\n",
      "          (layer): Conv2d(16, 1, kernel_size=(3, 3), stride=(1, 1), padding=(1, 1))\n",
      "          (activation): Identity()\n",
      "        )\n",
      "      )\n",
      "      (preprocess): Identity()\n",
      "    )\n",
      "  )\n",
      "  (optimizer): Adam[Adam]()\n",
      ")\n"
     ]
    }
   ],
   "source": [
    "regressor_template = dl.Regressor(model=encoderdecoder, loss=torch.nn.L1Loss(),\n",
    "                            optimizer=dl.Adam())\n",
    "ed = regressor_template.create()\n",
    "\n",
    "print(ed)"
   ]
  },
  {
   "cell_type": "markdown",
   "metadata": {},
   "source": [
    "... and train it."
   ]
  },
  {
   "cell_type": "code",
   "execution_count": 13,
   "metadata": {},
   "outputs": [
    {
     "name": "stderr",
     "output_type": "stream",
     "text": [
      "/Users/giovannivolpe/Documents/GitHub/DeepLearningCrashCourse/py_env_dlcc/lib/python3.12/site-packages/lightning/pytorch/trainer/connectors/logger_connector/logger_connector.py:75: Starting from v1.9.0, `tensorboardX` has been removed as a dependency of the `lightning.pytorch` package, due to potential conflicts with other packages in the ML ecosystem. For this reason, `logger=True` will use `CSVLogger` as the default logger, unless the `tensorboard` or `tensorboardX` packages are found. Please `pip install lightning[extra]` or one of them to enable TensorBoard support by default\n",
      "/Users/giovannivolpe/Documents/GitHub/DeepLearningCrashCourse/py_env_dlcc/lib/python3.12/site-packages/lightning/pytorch/trainer/configuration_validator.py:74: You defined a `validation_step` but have no `val_dataloader`. Skipping val loop.\n",
      "WARNING: Missing logger folder: /Users/giovannivolpe/Documents/GitHub/DeepLearningCrashCourse/Ch04_AE/ec04_1_denoising/fig04_2_to_6__/lightning_logs\n",
      "WARNING:lightning.fabric.loggers.csv_logs:Missing logger folder: /Users/giovannivolpe/Documents/GitHub/DeepLearningCrashCourse/Ch04_AE/ec04_1_denoising/fig04_2_to_6__/lightning_logs\n"
     ]
    },
    {
     "data": {
      "text/html": [
       "<pre style=\"white-space:pre;overflow-x:auto;line-height:normal;font-family:Menlo,'DejaVu Sans Mono',consolas,'Courier New',monospace\">┏━━━┳━━━━━━━━━━━━━━━┳━━━━━━━━━━━━━━━━━━━━━━━━━━━━━━━┳━━━━━━━━┓\n",
       "┃<span style=\"color: #800080; text-decoration-color: #800080; font-weight: bold\">   </span>┃<span style=\"color: #800080; text-decoration-color: #800080; font-weight: bold\"> Name          </span>┃<span style=\"color: #800080; text-decoration-color: #800080; font-weight: bold\"> Type                          </span>┃<span style=\"color: #800080; text-decoration-color: #800080; font-weight: bold\"> Params </span>┃\n",
       "┡━━━╇━━━━━━━━━━━━━━━╇━━━━━━━━━━━━━━━━━━━━━━━━━━━━━━━╇━━━━━━━━┩\n",
       "│<span style=\"color: #7f7f7f; text-decoration-color: #7f7f7f\"> 0 </span>│ loss          │ L1Loss                        │      0 │\n",
       "│<span style=\"color: #7f7f7f; text-decoration-color: #7f7f7f\"> 1 </span>│ train_metrics │ MetricCollection              │      0 │\n",
       "│<span style=\"color: #7f7f7f; text-decoration-color: #7f7f7f\"> 2 </span>│ val_metrics   │ MetricCollection              │      0 │\n",
       "│<span style=\"color: #7f7f7f; text-decoration-color: #7f7f7f\"> 3 </span>│ test_metrics  │ MetricCollection              │      0 │\n",
       "│<span style=\"color: #7f7f7f; text-decoration-color: #7f7f7f\"> 4 </span>│ model         │ ConvolutionalEncoderDecoder2d │  9.3 K │\n",
       "│<span style=\"color: #7f7f7f; text-decoration-color: #7f7f7f\"> 5 </span>│ optimizer     │ Adam                          │      0 │\n",
       "└───┴───────────────┴───────────────────────────────┴────────┘\n",
       "</pre>\n"
      ],
      "text/plain": [
       "┏━━━┳━━━━━━━━━━━━━━━┳━━━━━━━━━━━━━━━━━━━━━━━━━━━━━━━┳━━━━━━━━┓\n",
       "┃\u001b[1;35m \u001b[0m\u001b[1;35m \u001b[0m\u001b[1;35m \u001b[0m┃\u001b[1;35m \u001b[0m\u001b[1;35mName         \u001b[0m\u001b[1;35m \u001b[0m┃\u001b[1;35m \u001b[0m\u001b[1;35mType                         \u001b[0m\u001b[1;35m \u001b[0m┃\u001b[1;35m \u001b[0m\u001b[1;35mParams\u001b[0m\u001b[1;35m \u001b[0m┃\n",
       "┡━━━╇━━━━━━━━━━━━━━━╇━━━━━━━━━━━━━━━━━━━━━━━━━━━━━━━╇━━━━━━━━┩\n",
       "│\u001b[2m \u001b[0m\u001b[2m0\u001b[0m\u001b[2m \u001b[0m│ loss          │ L1Loss                        │      0 │\n",
       "│\u001b[2m \u001b[0m\u001b[2m1\u001b[0m\u001b[2m \u001b[0m│ train_metrics │ MetricCollection              │      0 │\n",
       "│\u001b[2m \u001b[0m\u001b[2m2\u001b[0m\u001b[2m \u001b[0m│ val_metrics   │ MetricCollection              │      0 │\n",
       "│\u001b[2m \u001b[0m\u001b[2m3\u001b[0m\u001b[2m \u001b[0m│ test_metrics  │ MetricCollection              │      0 │\n",
       "│\u001b[2m \u001b[0m\u001b[2m4\u001b[0m\u001b[2m \u001b[0m│ model         │ ConvolutionalEncoderDecoder2d │  9.3 K │\n",
       "│\u001b[2m \u001b[0m\u001b[2m5\u001b[0m\u001b[2m \u001b[0m│ optimizer     │ Adam                          │      0 │\n",
       "└───┴───────────────┴───────────────────────────────┴────────┘\n"
      ]
     },
     "metadata": {},
     "output_type": "display_data"
    },
    {
     "data": {
      "text/html": [
       "<pre style=\"white-space:pre;overflow-x:auto;line-height:normal;font-family:Menlo,'DejaVu Sans Mono',consolas,'Courier New',monospace\"><span style=\"font-weight: bold\">Trainable params</span>: 9.3 K                                                                                            \n",
       "<span style=\"font-weight: bold\">Non-trainable params</span>: 0                                                                                            \n",
       "<span style=\"font-weight: bold\">Total params</span>: 9.3 K                                                                                                \n",
       "<span style=\"font-weight: bold\">Total estimated model params size (MB)</span>: 0                                                                          \n",
       "</pre>\n"
      ],
      "text/plain": [
       "\u001b[1mTrainable params\u001b[0m: 9.3 K                                                                                            \n",
       "\u001b[1mNon-trainable params\u001b[0m: 0                                                                                            \n",
       "\u001b[1mTotal params\u001b[0m: 9.3 K                                                                                                \n",
       "\u001b[1mTotal estimated model params size (MB)\u001b[0m: 0                                                                          \n"
      ]
     },
     "metadata": {},
     "output_type": "display_data"
    },
    {
     "data": {
      "application/vnd.jupyter.widget-view+json": {
       "model_id": "69f2ac39ea69401c9c05940f5be6bbee",
       "version_major": 2,
       "version_minor": 0
      },
      "text/plain": [
       "Output()"
      ]
     },
     "metadata": {},
     "output_type": "display_data"
    },
    {
     "name": "stderr",
     "output_type": "stream",
     "text": [
      "/Users/giovannivolpe/Documents/GitHub/DeepLearningCrashCourse/py_env_dlcc/lib/python3.12/site-packages/lightning/pytorch/trainer/connectors/data_connector.py:441: The 'train_dataloader' does not have many workers which may be a bottleneck. Consider increasing the value of the `num_workers` argument` to `num_workers=10` in the `DataLoader` to improve performance.\n",
      "/Users/giovannivolpe/Documents/GitHub/DeepLearningCrashCourse/py_env_dlcc/lib/python3.12/site-packages/lightning/pytorch/loops/fit_loop.py:298: The number of training batches (32) is smaller than the logging interval Trainer(log_every_n_steps=50). Set a lower value for log_every_n_steps if you want to see logs for the training epoch.\n"
     ]
    },
    {
     "data": {
      "text/html": [
       "<pre style=\"white-space:pre;overflow-x:auto;line-height:normal;font-family:Menlo,'DejaVu Sans Mono',consolas,'Courier New',monospace\"></pre>\n"
      ],
      "text/plain": []
     },
     "metadata": {},
     "output_type": "display_data"
    },
    {
     "data": {
      "text/html": [
       "<pre style=\"white-space:pre;overflow-x:auto;line-height:normal;font-family:Menlo,'DejaVu Sans Mono',consolas,'Courier New',monospace\">\n",
       "</pre>\n"
      ],
      "text/plain": [
       "\n"
      ]
     },
     "metadata": {},
     "output_type": "display_data"
    }
   ],
   "source": [
    "ed_trainer = dl.Trainer(max_epochs=150, accelerator=\"auto\")\n",
    "ed_trainer.fit(ed, loader)"
   ]
  },
  {
   "cell_type": "markdown",
   "metadata": {},
   "source": [
    "## Testing the Trained Encoder-Decoder"
   ]
  },
  {
   "cell_type": "code",
   "execution_count": 14,
   "metadata": {},
   "outputs": [
    {
     "data": {
      "image/png": "[encoded data removed]",
      "text/plain": [
       "<Figure size 640x480 with 1 Axes>"
      ]
     },
     "metadata": {},
     "output_type": "display_data"
    }
   ],
   "source": [
    "for i in range(5):\n",
    "    input, target = pip.update().resolve()\n",
    "    predicted = ed(input.unsqueeze(0)).detach()\n",
    "    \n",
    "    plot_image(f\"Input Image {i}\", input[0, :, :], fig_name=f\"fig_04_03_{i}_1.pdf\")  ### plot_image(f\"Input Image {i}\", input[0, :, :])\n",
    "    plot_image(f\"Target Image {i}\", target[0, :, :], fig_name=f\"fig_04_03_{i}_2.pdf\")  ## plot_image(f\"Target Image {i}\", target[0, :, :])\n",
    "    plot_image(f\"Predicted Image {i}\", predicted[0, 0, :, :], fig_name=f\"fig_04_03_{i}_3.pdf\")  ## plot_image(f\"Predicted Image {i}\", predicted[0, 0, :, :])"
   ]
  },
  {
   "cell_type": "markdown",
   "metadata": {},
   "source": [
    "## Checking Absence of Mode Collapse\n",
    "\n",
    "Use the trained encoder-decoder with a blank image."
   ]
  },
  {
   "cell_type": "code",
   "execution_count": 15,
   "metadata": {},
   "outputs": [
    {
     "data": {
      "image/png": "[encoded data removed]",
      "text/plain": [
       "<Figure size 640x480 with 1 Axes>"
      ]
     },
     "metadata": {},
     "output_type": "display_data"
    }
   ],
   "source": [
    "blank = brightfield_microscope(particle ^ 0)\n",
    "blank_pip = blank >> noise >> dt.NormalizeMinMax() >> dt.MoveAxis(2, 0) \\\n",
    "    >> dt.pytorch.ToTensor(dtype=torch.float)\n",
    "\n",
    "for i in range(5):\n",
    "    blank_image = blank_pip.update().resolve()\n",
    "    blank_predicted = ed(blank_image.unsqueeze(0)).detach()\n",
    "    \n",
    "    plot_image(f\"Input Image {i}\", blank_image[0, :, :], fig_name=f\"fig_04_04_{i}_1.pdf\")  ### plot_image(f\"Input Image {i}\", blank_image[0, :, :])\n",
    "    plot_image(f\"Predicted Image {i}\", np.square(blank_predicted[0, 0, :, :]), fig_name=f\"fig_04_04_{i}_2.pdf\")  ### plot_image(f\"Predicted Image {i}\", np.square(blank_predicted[0, 0, :, :]))"
   ]
  },
  {
   "cell_type": "markdown",
   "metadata": {},
   "source": [
    "## Checking Generalization Capabilities\n",
    "\n",
    "Define a pipeline with a particle with varying position and radius ..."
   ]
  },
  {
   "cell_type": "code",
   "execution_count": 21,
   "metadata": {},
   "outputs": [],
   "source": [
    "diverse_particle = dt.Sphere(\n",
    "    position=lambda: np.array([0.2, 0.2] + np.random.rand(2) * 0.6) * 64, \n",
    "    radius=lambda: 500 * dt.units.nm * (1 + np.random.rand()), \n",
    "    position_unit=\"pixel\", refractive_index=1.45 + 0.02j)\n",
    "diverse_illuminated_sample = brightfield_microscope(diverse_particle)\n",
    "diverse_clean_particle = diverse_illuminated_sample \\\n",
    "    >> dt.NormalizeMinMax() >> dt.MoveAxis(2, 0) \\\n",
    "    >> dt.pytorch.ToTensor(dtype=torch.float)\n",
    "diverse_noisy_particle = diverse_illuminated_sample >> noise \\\n",
    "    >> dt.NormalizeMinMax() >> dt.MoveAxis(2, 0) \\\n",
    "    >> dt.pytorch.ToTensor(dtype=torch.float)\n",
    "diverse_pip = diverse_noisy_particle & diverse_clean_particle"
   ]
  },
  {
   "cell_type": "markdown",
   "metadata": {},
   "source": [
    "... and denoise images of diverse particles using the trained encoder-decoder."
   ]
  },
  {
   "cell_type": "code",
   "execution_count": 22,
   "metadata": {},
   "outputs": [
    {
     "data": {
      "image/png": "[encoded data removed]",
      "text/plain": [
       "<Figure size 640x480 with 1 Axes>"
      ]
     },
     "metadata": {},
     "output_type": "display_data"
    }
   ],
   "source": [
    "for i in range(5):\n",
    "    diverse_input, diverse_target = diverse_pip.update().resolve()\n",
    "    diverse_predicted = ed(diverse_input.unsqueeze(0)).detach()\n",
    "        \n",
    "    plot_image(f\"Input Image {i}\", diverse_input[0, :, :], fig_name=f\"fig_04_05_{i}_1.pdf\")  ### plot_image(f\"Input Image {i}\", diverse_input[0, :, :])\n",
    "    plot_image(f\"Target Image {i}\", diverse_target[0, :, :], fig_name=f\"fig_04_05_{i}_2.pdf\")  ### plot_image(f\"Target Image {i}\", diverse_target[0, :, :])\n",
    "    plot_image(f\"Predicted Image {i}\", diverse_predicted[0, 0, :, :], fig_name=f\"fig_04_05_{i}_3.pdf\")  ### plot_image(f\"Predicted Image {i}\", diverse_predicted[0, 0, :, :])"
   ]
  },
  {
   "cell_type": "markdown",
   "metadata": {},
   "source": [
    "## Improving the Training\n",
    "\n",
    "Train with the dataset with varying parameters ..."
   ]
  },
  {
   "cell_type": "code",
   "execution_count": 23,
   "metadata": {},
   "outputs": [
    {
     "name": "stderr",
     "output_type": "stream",
     "text": [
      "/Users/giovannivolpe/Documents/GitHub/DeepLearningCrashCourse/py_env_dlcc/lib/python3.12/site-packages/lightning/pytorch/trainer/configuration_validator.py:74: You defined a `validation_step` but have no `val_dataloader`. Skipping val loop.\n"
     ]
    },
    {
     "data": {
      "text/html": [
       "<pre style=\"white-space:pre;overflow-x:auto;line-height:normal;font-family:Menlo,'DejaVu Sans Mono',consolas,'Courier New',monospace\">┏━━━┳━━━━━━━━━━━━━━━┳━━━━━━━━━━━━━━━━━━━━━━━━━━━━━━━┳━━━━━━━━┓\n",
       "┃<span style=\"color: #800080; text-decoration-color: #800080; font-weight: bold\">   </span>┃<span style=\"color: #800080; text-decoration-color: #800080; font-weight: bold\"> Name          </span>┃<span style=\"color: #800080; text-decoration-color: #800080; font-weight: bold\"> Type                          </span>┃<span style=\"color: #800080; text-decoration-color: #800080; font-weight: bold\"> Params </span>┃\n",
       "┡━━━╇━━━━━━━━━━━━━━━╇━━━━━━━━━━━━━━━━━━━━━━━━━━━━━━━╇━━━━━━━━┩\n",
       "│<span style=\"color: #7f7f7f; text-decoration-color: #7f7f7f\"> 0 </span>│ loss          │ L1Loss                        │      0 │\n",
       "│<span style=\"color: #7f7f7f; text-decoration-color: #7f7f7f\"> 1 </span>│ train_metrics │ MetricCollection              │      0 │\n",
       "│<span style=\"color: #7f7f7f; text-decoration-color: #7f7f7f\"> 2 </span>│ val_metrics   │ MetricCollection              │      0 │\n",
       "│<span style=\"color: #7f7f7f; text-decoration-color: #7f7f7f\"> 3 </span>│ test_metrics  │ MetricCollection              │      0 │\n",
       "│<span style=\"color: #7f7f7f; text-decoration-color: #7f7f7f\"> 4 </span>│ model         │ ConvolutionalEncoderDecoder2d │  9.3 K │\n",
       "│<span style=\"color: #7f7f7f; text-decoration-color: #7f7f7f\"> 5 </span>│ optimizer     │ Adam                          │      0 │\n",
       "└───┴───────────────┴───────────────────────────────┴────────┘\n",
       "</pre>\n"
      ],
      "text/plain": [
       "┏━━━┳━━━━━━━━━━━━━━━┳━━━━━━━━━━━━━━━━━━━━━━━━━━━━━━━┳━━━━━━━━┓\n",
       "┃\u001b[1;35m \u001b[0m\u001b[1;35m \u001b[0m\u001b[1;35m \u001b[0m┃\u001b[1;35m \u001b[0m\u001b[1;35mName         \u001b[0m\u001b[1;35m \u001b[0m┃\u001b[1;35m \u001b[0m\u001b[1;35mType                         \u001b[0m\u001b[1;35m \u001b[0m┃\u001b[1;35m \u001b[0m\u001b[1;35mParams\u001b[0m\u001b[1;35m \u001b[0m┃\n",
       "┡━━━╇━━━━━━━━━━━━━━━╇━━━━━━━━━━━━━━━━━━━━━━━━━━━━━━━╇━━━━━━━━┩\n",
       "│\u001b[2m \u001b[0m\u001b[2m0\u001b[0m\u001b[2m \u001b[0m│ loss          │ L1Loss                        │      0 │\n",
       "│\u001b[2m \u001b[0m\u001b[2m1\u001b[0m\u001b[2m \u001b[0m│ train_metrics │ MetricCollection              │      0 │\n",
       "│\u001b[2m \u001b[0m\u001b[2m2\u001b[0m\u001b[2m \u001b[0m│ val_metrics   │ MetricCollection              │      0 │\n",
       "│\u001b[2m \u001b[0m\u001b[2m3\u001b[0m\u001b[2m \u001b[0m│ test_metrics  │ MetricCollection              │      0 │\n",
       "│\u001b[2m \u001b[0m\u001b[2m4\u001b[0m\u001b[2m \u001b[0m│ model         │ ConvolutionalEncoderDecoder2d │  9.3 K │\n",
       "│\u001b[2m \u001b[0m\u001b[2m5\u001b[0m\u001b[2m \u001b[0m│ optimizer     │ Adam                          │      0 │\n",
       "└───┴───────────────┴───────────────────────────────┴────────┘\n"
      ]
     },
     "metadata": {},
     "output_type": "display_data"
    },
    {
     "data": {
      "text/html": [
       "<pre style=\"white-space:pre;overflow-x:auto;line-height:normal;font-family:Menlo,'DejaVu Sans Mono',consolas,'Courier New',monospace\"><span style=\"font-weight: bold\">Trainable params</span>: 9.3 K                                                                                            \n",
       "<span style=\"font-weight: bold\">Non-trainable params</span>: 0                                                                                            \n",
       "<span style=\"font-weight: bold\">Total params</span>: 9.3 K                                                                                                \n",
       "<span style=\"font-weight: bold\">Total estimated model params size (MB)</span>: 0                                                                          \n",
       "</pre>\n"
      ],
      "text/plain": [
       "\u001b[1mTrainable params\u001b[0m: 9.3 K                                                                                            \n",
       "\u001b[1mNon-trainable params\u001b[0m: 0                                                                                            \n",
       "\u001b[1mTotal params\u001b[0m: 9.3 K                                                                                                \n",
       "\u001b[1mTotal estimated model params size (MB)\u001b[0m: 0                                                                          \n"
      ]
     },
     "metadata": {},
     "output_type": "display_data"
    },
    {
     "data": {
      "application/vnd.jupyter.widget-view+json": {
       "model_id": "ff6fa9de124c48b5a2f431c572c79dda",
       "version_major": 2,
       "version_minor": 0
      },
      "text/plain": [
       "Output()"
      ]
     },
     "metadata": {},
     "output_type": "display_data"
    },
    {
     "name": "stderr",
     "output_type": "stream",
     "text": [
      "/Users/giovannivolpe/Documents/GitHub/DeepLearningCrashCourse/py_env_dlcc/lib/python3.12/site-packages/lightning/pytorch/trainer/connectors/data_connector.py:441: The 'train_dataloader' does not have many workers which may be a bottleneck. Consider increasing the value of the `num_workers` argument` to `num_workers=10` in the `DataLoader` to improve performance.\n",
      "/Users/giovannivolpe/Documents/GitHub/DeepLearningCrashCourse/py_env_dlcc/lib/python3.12/site-packages/lightning/pytorch/loops/fit_loop.py:298: The number of training batches (32) is smaller than the logging interval Trainer(log_every_n_steps=50). Set a lower value for log_every_n_steps if you want to see logs for the training epoch.\n"
     ]
    },
    {
     "data": {
      "text/html": [
       "<pre style=\"white-space:pre;overflow-x:auto;line-height:normal;font-family:Menlo,'DejaVu Sans Mono',consolas,'Courier New',monospace\"></pre>\n"
      ],
      "text/plain": []
     },
     "metadata": {},
     "output_type": "display_data"
    },
    {
     "data": {
      "text/html": [
       "<pre style=\"white-space:pre;overflow-x:auto;line-height:normal;font-family:Menlo,'DejaVu Sans Mono',consolas,'Courier New',monospace\">\n",
       "</pre>\n"
      ],
      "text/plain": [
       "\n"
      ]
     },
     "metadata": {},
     "output_type": "display_data"
    }
   ],
   "source": [
    "diverse_dataset = SimulatedDataset(diverse_pip, buffer_size=256, replace=0.1)\n",
    "diverse_loader = torch.utils.data.DataLoader(diverse_dataset, batch_size=8, \n",
    "                                             shuffle=True)\n",
    "diverse_ed = regressor_template.create()\n",
    "diverse_ed_trainer = dl.Trainer(max_epochs=150, accelerator=\"auto\")\n",
    "diverse_ed_trainer.fit(diverse_ed, diverse_loader)\n"
   ]
  },
  {
   "cell_type": "markdown",
   "metadata": {},
   "source": [
    "... and plot the images obtained with the improved training."
   ]
  },
  {
   "cell_type": "code",
   "execution_count": 24,
   "metadata": {},
   "outputs": [
    {
     "data": {
      "image/png": "[encoded data removed]",
      "text/plain": [
       "<Figure size 640x480 with 1 Axes>"
      ]
     },
     "metadata": {},
     "output_type": "display_data"
    }
   ],
   "source": [
    "for i in range(5):\n",
    "    diverse_input, diverse_target = diverse_pip.update().resolve()\n",
    "    diverse_predicted = diverse_ed(diverse_input.unsqueeze(0)).detach()\n",
    "        \n",
    "    plot_image(f\"Input Image {i}\", diverse_input[0, :, :], fig_name=f\"fig_04_06_{i}_1.pdf\") ### plot_image(f\"Input Image {i}\", diverse_input[0, :, :])\n",
    "    plot_image(f\"Target Image {i}\", diverse_target[0, :, :], fig_name=f\"fig_04_06_{i}_2.pdf\")  ### plot_image(f\"Target Image {i}\", diverse_target[0, :, :])\n",
    "    plot_image(f\"Predicted Image {i}\", diverse_predicted[0, 0, :, :], fig_name=f\"fig_04_06_{i}_3.pdf\")  ### plot_image(f\"Predicted Image {i}\", diverse_predicted[0, 0, :, :])"
   ]
  },
  {
   "cell_type": "code",
   "execution_count": null,
   "metadata": {},
   "outputs": [],
   "source": []
  }
 ],
 "metadata": {
  "kernelspec": {
   "display_name": "py310",
   "language": "python",
   "name": "python3"
  },
  "language_info": {
   "codemirror_mode": {
    "name": "ipython",
    "version": 3
   },
   "file_extension": ".py",
   "mimetype": "text/x-python",
   "name": "python",
   "nbconvert_exporter": "python",
   "pygments_lexer": "ipython3",
   "version": "3.12.2"
  }
 },
 "nbformat": 4,
 "nbformat_minor": 2
}
