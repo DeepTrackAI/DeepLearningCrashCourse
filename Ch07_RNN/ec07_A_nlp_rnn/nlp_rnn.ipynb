{
 "cells": [
  {
   "cell_type": "markdown",
   "metadata": {},
   "source": [
    "# Translating with a Recurrent Neural Networks\n",
    "\n",
    "This notebook provides the complete code example that implements a sequence-to-sequence (seq2seq) model for machine translation using recurrent neural networks."
   ]
  },
  {
   "cell_type": "markdown",
   "metadata": {},
   "source": [
    "## Building the Vocabularies\n",
    "\n",
    "Implement a function to tokenize and standardize text ..."
   ]
  },
  {
   "cell_type": "code",
   "execution_count": 32,
   "metadata": {},
   "outputs": [],
   "source": [
    "import spacy\n",
    "import re\n",
    "import contractions\n",
    "import unicodedata\n",
    "\n",
    "tokenizers = {\n",
    "    \"eng\": spacy.blank(\"en\"),\n",
    "    \"spa\": spacy.blank(\"es\")\n",
    "}\n",
    "\n",
    "# Define the verbose pattern to enforce stricter token matching\n",
    "verbose_pattern = re.compile(\n",
    "    unicodedata.normalize(\"NFC\", r\"\"\"\n",
    "    ^[a-zA-Z0-9áéíóúüñÁÉÍÓÚÜÑ.,!?¡¿/:()]+  # 1+ allowed characters.\n",
    "    (-[a-zA-Z0-9áéíóúüñÁÉÍÓÚÜÑ.,!?¡¿/:()]+)*  # Optional hyphen plus chars.\n",
    "    (_[a-zA-Z0-9áéíóúüñÁÉÍÓÚÜÑ.,!?¡¿/:()]+)*  # Optional underscore plus chars.\n",
    "    $  # End of the string.\n",
    "    \"\"\"), re.VERBOSE\n",
    ")\n",
    "\n",
    "\n",
    "def tokenize(text, lang=\"eng\"):\n",
    "    \"\"\"Tokenize text with SpaCy, preserving monetary values and applying filters.\"\"\"\n",
    "\n",
    "    # Standardize text replacements (apostrophes, quotes)\n",
    "    replacements = {\"’\": \"'\", \"‘\": \"'\", \"“\": '\"', \"”\": '\"', \"´\": \"'\", \"´´\": '\"'}\n",
    "    for old, new in replacements.items():\n",
    "        text = text.replace(old, new)\n",
    "\n",
    "    # Replace special characters and expand contractions for English\n",
    "    text = contractions.fix(text) if lang == \"eng\" else text\n",
    "\n",
    "    # Tokenize the text with SpaCy\n",
    "    tokens = tokenizers[lang](text)\n",
    "\n",
    "    # Apply verbose pattern to filter tokens\n",
    "    filtered_tokens = [\n",
    "        token.text\n",
    "        for token in tokens if verbose_pattern.match(token.text)\n",
    "    ]\n",
    "    \n",
    "    return filtered_tokens\n"
   ]
  },
  {
   "cell_type": "markdown",
   "metadata": {},
   "source": [
    "... a function to read and tokenize sentences by iterating through a corpus file ..."
   ]
  },
  {
   "cell_type": "code",
   "execution_count": 33,
   "metadata": {},
   "outputs": [],
   "source": [
    "import unicodedata\n",
    "\n",
    "def corpus_iterator(filename, lang, lang_position):\n",
    "    \"\"\"Read and tokenize texts by iterating through a corpus file.\"\"\"\n",
    "    with open(filename, \"r\", encoding=\"utf-8\") as file:\n",
    "        for line in file:\n",
    "            sentences = line.strip().split(\"\\t\")\n",
    "            sentence = unicodedata.normalize(\"NFC\", sentences[lang_position])\n",
    "            yield tokenize(sentence, lang)"
   ]
  },
  {
   "cell_type": "markdown",
   "metadata": {},
   "source": [
    "... a function to build a vocabulary from a corpus file ..."
   ]
  },
  {
   "cell_type": "code",
   "execution_count": 34,
   "metadata": {},
   "outputs": [],
   "source": [
    "class Vocab:\n",
    "    \"\"\"Wrapper around a dictionary to make it callable like torchtext's Vocab.\"\"\"\n",
    "    def __init__(self, vocab_dict, unk_token=\"<unk>\"):\n",
    "        self.vocab_dict = vocab_dict\n",
    "        self.unk_token = unk_token\n",
    "        self.default_index = vocab_dict.get(unk_token, -1)\n",
    "        self.index_to_token = {idx: token for token, idx in vocab_dict.items()}\n",
    "        \n",
    "    def __call__(self, token_or_tokens):\n",
    "        \"\"\"Make the vocab callable to return the index for a given token or list of tokens.\"\"\"\n",
    "        if isinstance(token_or_tokens, list):\n",
    "            return [self.vocab_dict.get(token, self.default_index) for token in token_or_tokens]\n",
    "        return self.vocab_dict.get(token_or_tokens, self.default_index)\n",
    "    \n",
    "    def set_default_index(self, index):\n",
    "        \"\"\"Set default index for unknown tokens.\"\"\"\n",
    "        self.default_index = index\n",
    "\n",
    "    def lookup_token(self, index_or_indices):\n",
    "        \"\"\"Retrieve the token corresponding to a given index or list of indices.\"\"\"\n",
    "        if isinstance(index_or_indices, list):\n",
    "            return [self.index_to_token.get(int(index), self.unk_token) for index in index_or_indices]\n",
    "        return self.index_to_token.get(int(index_or_indices), self.unk_token)\n",
    "\n",
    "    def get_itos(self):\n",
    "        \"\"\"Return a list of tokens ordered by their index.\"\"\"\n",
    "        itos = [None] * len(self.index_to_token)\n",
    "        for index, token in self.index_to_token.items():\n",
    "            itos[index] = token\n",
    "        return itos\n",
    "        \n",
    "    def __iter__(self):\n",
    "        \"\"\"Iterate over the tokens in the vocabulary.\"\"\"\n",
    "        return iter(self.vocab_dict)\n",
    "\n",
    "    def __len__(self):\n",
    "        \"\"\"Return the number of tokens in the vocabulary.\"\"\"\n",
    "        return len(self.vocab_dict)\n",
    "    \n",
    "    def __contains__(self, token):\n",
    "        \"\"\"Check if a token is in the vocabulary.\"\"\"\n",
    "        return token in self.vocab_dict\n"
   ]
  },
  {
   "cell_type": "code",
   "execution_count": 35,
   "metadata": {},
   "outputs": [],
   "source": [
    "from collections import Counter\n",
    "\n",
    "def build_vocab_from_iterator(iterator, specials=None, min_freq=1):\n",
    "    \"\"\"Build vocabulary from an iterator over tokenized sentences.\"\"\"\n",
    "    # Count the frequency of each token\n",
    "    counter = Counter(token for tokens in iterator for token in tokens)\n",
    "\n",
    "    # Initialize the vocabulary with special tokens\n",
    "    vocab = {}\n",
    "    index = 0\n",
    "\n",
    "    if specials:\n",
    "        for token in specials:\n",
    "            vocab[token] = index\n",
    "            index += 1\n",
    "\n",
    "    # Add tokens that meet the minimum frequency\n",
    "    for token, freq in counter.items():\n",
    "        if freq >= min_freq:\n",
    "            vocab[token] = index\n",
    "            index += 1\n",
    "\n",
    "    return vocab"
   ]
  },
  {
   "cell_type": "code",
   "execution_count": 36,
   "metadata": {},
   "outputs": [],
   "source": [
    "def build_vocab(filename, lang, lang_position, specials=None, min_freq=5):\n",
    "    if specials is None:\n",
    "        specials = [\"<unk>\"]\n",
    "    \n",
    "    vocab_dict = build_vocab_from_iterator(\n",
    "        corpus_iterator(filename, lang, lang_position),\n",
    "        min_freq=min_freq,\n",
    "        specials=specials,\n",
    "    )\n",
    "    vocab = Vocab(vocab_dict, unk_token=specials[0]) \n",
    "    vocab.set_default_index(vocab(specials[0]))\n",
    "    \n",
    "    return vocab"
   ]
  },
  {
   "cell_type": "markdown",
   "metadata": {},
   "source": [
    "... and build the vocabularies."
   ]
  },
  {
   "cell_type": "code",
   "execution_count": 37,
   "metadata": {},
   "outputs": [],
   "source": [
    "in_lang, out_lang, filename = \"eng\", \"spa\", \"eng-spa.txt\"\n",
    "specials = [\"<pad>\", \"<sos>\", \"<eos>\", \"<unk>\"]\n",
    "\n",
    "in_vocab = build_vocab(filename, in_lang, lang_position=0, specials=specials)\n",
    "out_vocab = build_vocab(filename, out_lang, lang_position=1, specials=specials)"
   ]
  },
  {
   "cell_type": "markdown",
   "metadata": {},
   "source": [
    "## Preprocessing the Data\n",
    "\n",
    "Implement a function to check if all words in a sentence are present in a vocabulary ..."
   ]
  },
  {
   "cell_type": "code",
   "execution_count": 38,
   "metadata": {},
   "outputs": [],
   "source": [
    "def all_words_in_vocab(sentence, vocab):\n",
    "    \"\"\"Check whether all words in a sentence are present in a vocabulary\"\"\"\n",
    "    return all(word in vocab for word in sentence)"
   ]
  },
  {
   "cell_type": "markdown",
   "metadata": {},
   "source": [
    "... a function to pad a sequence of tokens ..."
   ]
  },
  {
   "cell_type": "code",
   "execution_count": 39,
   "metadata": {},
   "outputs": [],
   "source": [
    "def pad(tokens, max_length=10):\n",
    "    \"\"\"Pad sequence of tokens.\"\"\"\n",
    "    padding_length = max_length - len(tokens)\n",
    "    return [\"<sos>\"] + tokens + [\"<eos>\"] + [\"<pad>\"] * padding_length"
   ]
  },
  {
   "cell_type": "markdown",
   "metadata": {},
   "source": [
    "... a function to process the language corpus ..."
   ]
  },
  {
   "cell_type": "code",
   "execution_count": 40,
   "metadata": {},
   "outputs": [],
   "source": [
    "import numpy as np\n",
    "\n",
    "def process(filename, in_lang, out_lang, in_vocab, out_vocab, max_length=10):\n",
    "    \"\"\"Process language corpus.\"\"\"\n",
    "    in_sequences, out_sequences = [], []\n",
    "    with open(filename, \"r\", encoding=\"utf-8\") as file:\n",
    "        for line in file:\n",
    "            texts = line.strip().split(\"\\t\")\n",
    "            in_tokens = tokenize(unicodedata.normalize(\"NFC\", texts[0]), in_lang)\n",
    "            out_tokens = tokenize(unicodedata.normalize(\"NFC\", texts[1]), out_lang)\n",
    "\n",
    "            if (all_words_in_vocab(in_tokens, in_vocab)\n",
    "                and len(in_tokens) <= max_length\n",
    "                and all_words_in_vocab(out_tokens, out_vocab)\n",
    "                and len(out_tokens) <= max_length):\n",
    "                \n",
    "                padded_in_tokens = pad(in_tokens)\n",
    "                in_sequence = in_vocab(padded_in_tokens)\n",
    "                in_sequences.append(in_sequence)\n",
    "\n",
    "                padded_out_tokens = pad(out_tokens)\n",
    "                out_sequence = out_vocab(padded_out_tokens)\n",
    "                out_sequences.append(out_sequence)\n",
    "    return np.array(in_sequences), np.array(out_sequences)"
   ]
  },
  {
   "cell_type": "markdown",
   "metadata": {},
   "source": [
    "... and build the datasets and data loaders."
   ]
  },
  {
   "cell_type": "code",
   "execution_count": 41,
   "metadata": {},
   "outputs": [],
   "source": [
    "import deeptrack as dt\n",
    "import torch\n",
    "from torch.utils.data import DataLoader\n",
    "\n",
    "in_sequences, out_sequences = \\\n",
    "    process(filename, in_lang, out_lang, in_vocab, out_vocab)\n",
    "\n",
    "sources = dt.sources.Source(inputs=in_sequences, targets=out_sequences)\n",
    "train_sources, test_sources = dt.sources.random_split(sources, [0.85, 0.15])\n",
    "\n",
    "inputs_pip = dt.Value(sources.inputs) >> dt.pytorch.ToTensor(dtype=torch.int)\n",
    "outputs_pip = dt.Value(sources.targets) >> dt.pytorch.ToTensor(dtype=torch.int)\n",
    "\n",
    "train_dataset = \\\n",
    "    dt.pytorch.Dataset(inputs_pip & outputs_pip, inputs=train_sources)\n",
    "test_dataset = \\\n",
    "    dt.pytorch.Dataset(inputs_pip & outputs_pip, inputs=test_sources)\n",
    "\n",
    "train_loader = DataLoader(train_dataset, batch_size=256, shuffle=True)\n",
    "test_loader = DataLoader(test_dataset, batch_size=256, shuffle=False)"
   ]
  },
  {
   "cell_type": "markdown",
   "metadata": {},
   "source": [
    "## Implementing and Training the Sequence-to-Sequence Architecture\n",
    "\n",
    "Implement the encoder ..."
   ]
  },
  {
   "cell_type": "code",
   "execution_count": 42,
   "metadata": {},
   "outputs": [],
   "source": [
    "import deeplay as dl\n",
    "\n",
    "class Seq2SeqEncoder(dl.DeeplayModule):\n",
    "    \"\"\"Sequence-to-sequence encoder.\"\"\"\n",
    "\n",
    "    def __init__(self, vocab_size, in_features=300, hidden_features=128,\n",
    "                 hidden_layers=1, dropout=0.0):\n",
    "        \"\"\"Initialize sequence-to-sequence encoder.\"\"\"\n",
    "        super().__init__()\n",
    "\n",
    "        self.hidden_features = hidden_features\n",
    "        self.hidden_layers = hidden_layers\n",
    "        \n",
    "        self.embedding = dl.Layer(torch.nn.Embedding, vocab_size, in_features)\n",
    "        self.rnn = dl.Layer(torch.nn.GRU, input_size=in_features, \\\n",
    "            hidden_size=hidden_features, num_layers=hidden_layers, \\\n",
    "            dropout=(0 if hidden_layers == 1 else dropout), \\\n",
    "            bidirectional=True, batch_first=True)\n",
    "\n",
    "    def forward(self, in_sequences, contexts=None):\n",
    "        \"\"\"Perform forward pass.\"\"\"\n",
    "        in_embeddings = self.embedding(in_sequences)\n",
    "        encoded_sequences, contexts = self.rnn(in_embeddings, contexts)\n",
    "        encoded_sequences = (encoded_sequences[:, :, :self.hidden_features]\n",
    "                          + encoded_sequences[:, :, self.hidden_features:])\n",
    "        contexts = contexts[:self.hidden_layers]\n",
    "        return encoded_sequences, contexts"
   ]
  },
  {
   "cell_type": "markdown",
   "metadata": {},
   "source": [
    "... implement the decoder ..."
   ]
  },
  {
   "cell_type": "code",
   "execution_count": 43,
   "metadata": {},
   "outputs": [],
   "source": [
    "class Seq2SeqDecoder(dl.DeeplayModule):\n",
    "    \"\"\"Sequence-to-sequence decoder.\"\"\"\n",
    "\n",
    "    def __init__(self, vocab_size, in_features=300, hidden_features=128, \n",
    "                 hidden_layers=1, dropout=0.0):\n",
    "        \"\"\"Initialize sequence-to-sequence decoder.\"\"\"\n",
    "        super().__init__()\n",
    "\n",
    "        self.embedding = dl.Layer(torch.nn.Embedding, vocab_size, in_features)\n",
    "        self.rnn = dl.Layer(torch.nn.GRU, input_size=in_features, \\\n",
    "            hidden_size=hidden_features, num_layers=hidden_layers, \\\n",
    "            bidirectional=False, batch_first=True, \\\n",
    "            dropout=(0 if hidden_layers == 1 else dropout))\n",
    "        self.dense = dl.Layer(torch.nn.Linear, hidden_features, vocab_size)\n",
    "        self.softmax = dl.Layer(torch.nn.Softmax, dim=-1)\n",
    "\n",
    "    def forward(self, decoder_in_values, contexts):\n",
    "        \"\"\"Perform forward pass.\"\"\"\n",
    "        out_embeddings = self.embedding(decoder_in_values)\n",
    "        decoder_outputs, contexts = self.rnn(out_embeddings, contexts)\n",
    "        decoder_outputs = self.dense(decoder_outputs)\n",
    "        decoder_outputs = self.softmax(decoder_outputs)\n",
    "        return decoder_outputs, contexts"
   ]
  },
  {
   "cell_type": "markdown",
   "metadata": {},
   "source": [
    "... implement the full seq2seq model combining the encoder and decoder ..."
   ]
  },
  {
   "cell_type": "code",
   "execution_count": 44,
   "metadata": {},
   "outputs": [],
   "source": [
    "class Seq2SeqModel(dl.DeeplayModule):\n",
    "    \"\"\"Sequence-to-sequence model.\"\"\"\n",
    "\n",
    "    def __init__(self, in_vocab_size=None, out_vocab_size=None,\n",
    "                 embedding_dim=300, hidden_features=128, hidden_layers=1, \n",
    "                 dropout=0.0, teacher_prob=1.0):\n",
    "        \"\"\"Initialize the sequence-to-sequence model.\"\"\"\n",
    "        super().__init__()\n",
    "        \n",
    "        self.in_vocab_size, self.out_vocab_size = in_vocab_size, out_vocab_size\n",
    "        self.encoder = Seq2SeqEncoder(in_vocab_size, embedding_dim, \\\n",
    "            hidden_features, hidden_layers, dropout)\n",
    "        self.decoder = Seq2SeqDecoder(out_vocab_size, embedding_dim, \\\n",
    "            hidden_features, hidden_layers, dropout)\n",
    "\n",
    "        self.teacher_prob = teacher_prob\n",
    "\n",
    "    def forward(self, batch):\n",
    "        \"\"\"Perform forward pass.\"\"\"\n",
    "        in_sequences, out_sequences = batch\n",
    "        num_sequences, sequence_length = in_sequences.size()\n",
    "        device = next(self.encoder.parameters()).device\n",
    "        \n",
    "        _, contexts = self.encoder(in_sequences)\n",
    "        \n",
    "        decoder_outputs_vec = torch.zeros(num_sequences, sequence_length,\n",
    "                                          self.out_vocab_size).to(device)\n",
    "        decoder_in_values = torch.full(size=(num_sequences, 1), \n",
    "                                       fill_value=1, device=device)  # <sos>\n",
    "        for t in range(sequence_length):\n",
    "            decoder_outputs, contexts = \\\n",
    "                self.decoder(decoder_in_values, contexts)\n",
    "            decoder_outputs_vec[:, t, :] = decoder_outputs.squeeze(1)\n",
    "            \n",
    "            if (np.random.rand() < self.teacher_prob \n",
    "                and t < sequence_length - 1):  # Teacher forcing.\n",
    "                decoder_in_values = \\\n",
    "                    out_sequences[:, t + 1].unsqueeze(-1).to(device)\n",
    "            else:  # Model prediction.\n",
    "                _, top_decoder_outputs = decoder_outputs.topk(1)\n",
    "                decoder_in_values = \\\n",
    "                    top_decoder_outputs.squeeze(-1).detach().to(device)  \n",
    "                  \n",
    "        return decoder_outputs_vec\n",
    "\n",
    "    def evaluate(self, in_sequences):\n",
    "        \"\"\"Evaluate model.\"\"\"\n",
    "        num_sequences, sequence_length = in_sequences.size()\n",
    "        device = next(self.encoder.parameters()).device\n",
    "\n",
    "        with torch.no_grad():\n",
    "            _, contexts = self.encoder(in_sequences)\n",
    "        \n",
    "        pred_sequences = torch.zeros(num_sequences, sequence_length).to(device)\n",
    "        decoder_in_values = torch.full(size=(num_sequences, 1), \n",
    "                                       fill_value=1, device=device)  # <sos>\n",
    "        for t in range(sequence_length):\n",
    "            with torch.no_grad():\n",
    "                decoder_outputs, contexts = \\\n",
    "                    self.decoder(decoder_in_values.to(device), contexts)\n",
    "            _, top_decoder_outputs = decoder_outputs.topk(1)\n",
    "            pred_sequences[:, t] = top_decoder_outputs.squeeze()\n",
    "            \n",
    "            decoder_in_values = top_decoder_outputs.squeeze(-1).detach()\n",
    "            \n",
    "        return pred_sequences"
   ]
  },
  {
   "cell_type": "markdown",
   "metadata": {},
   "source": [
    "... define the loss function ..."
   ]
  },
  {
   "cell_type": "code",
   "execution_count": 45,
   "metadata": {},
   "outputs": [],
   "source": [
    "def maskedNLL(decoder_outputs, out_sequences, padding=0):\n",
    "    \"\"\"Calculate the masked negative log-likelihood (NLL) loss.\"\"\"\n",
    "    flat_pred_sequences = decoder_outputs.view(-1, decoder_outputs.shape[-1])\n",
    "    flat_target_sequences = out_sequences.view(-1, 1)\n",
    "    pred_probs = torch.gather(flat_pred_sequences, 1, flat_target_sequences)\n",
    "\n",
    "    nll = -torch.log(pred_probs)\n",
    "\n",
    "    mask = out_sequences != padding\n",
    "    masked_nll = nll.masked_select(mask.view(-1, 1))\n",
    "\n",
    "    return masked_nll.mean()  # Loss."
   ]
  },
  {
   "cell_type": "markdown",
   "metadata": {},
   "source": [
    "... implement the sequence-to-sequence application ..."
   ]
  },
  {
   "cell_type": "code",
   "execution_count": 46,
   "metadata": {},
   "outputs": [],
   "source": [
    "class Seq2Seq(dl.Application):\n",
    "    \"\"\"Application for the sequence-to-sequence model.\"\"\"\n",
    "\n",
    "    def __init__(self, in_vocab, out_vocab, teacher_prob=1.0):\n",
    "        \"\"\"Initialize the application.\"\"\"\n",
    "        super().__init__(loss=maskedNLL, optimizer=dl.Adam(lr=1e-3))\n",
    "        self.model = Seq2SeqModel(in_vocab_size=len(in_vocab), \\\n",
    "            out_vocab_size=len(out_vocab), teacher_prob=teacher_prob)\n",
    "\n",
    "    def train_preprocess(self, batch):\n",
    "        \"\"\"Adjust the target sequence by shifting it one position backward.\"\"\"\n",
    "        in_sequences, out_sequences = batch\n",
    "        shifted_out_sequences = \\\n",
    "            torch.cat((out_sequences[:, 1:], out_sequences[:, -1:]), dim=1) \n",
    "        return (in_sequences, out_sequences), shifted_out_sequences\n",
    "    \n",
    "    def forward(self, batch):\n",
    "        \"\"\"Perform forward pass.\"\"\"\n",
    "        return self.model(batch)"
   ]
  },
  {
   "cell_type": "markdown",
   "metadata": {},
   "source": [
    "... load some pretrained embeddings (glove.42B.300d.zip) from https://nlp.stanford.edu/projects/glove/ ..."
   ]
  },
  {
   "cell_type": "code",
   "execution_count": null,
   "metadata": {},
   "outputs": [],
   "source": [
    "import os\n",
    "import requests\n",
    "import zipfile\n",
    "\n",
    "def download_glove_embeddings(glove_url, dest_folder='./.glove'):\n",
    "    \"\"\"Download GloVe embeddings from URL if not already downloaded and extracted.\"\"\"\n",
    "    \n",
    "    # File and directory paths\n",
    "    zip_file_path = os.path.join(dest_folder, 'glove.42B.300d.zip')\n",
    "    extracted_file_path = os.path.join(dest_folder, 'glove.42B.300d.txt')\n",
    "\n",
    "    # Create the destination folder if it doesn't exist\n",
    "    if not os.path.exists(dest_folder):\n",
    "        print(f\"Creating folder: {dest_folder}\")\n",
    "        os.makedirs(dest_folder, exist_ok=True)  # Create folder if it doesn't exist\n",
    "    \n",
    "    # Check if the file has already been extracted\n",
    "    if os.path.exists(extracted_file_path):\n",
    "        print(\"GloVe embeddings already extracted.\")\n",
    "        return extracted_file_path\n",
    "    \n",
    "    # Check if the zip file has already been downloaded\n",
    "    if not os.path.exists(zip_file_path):\n",
    "        print(\"Downloading GloVe embeddings...\")\n",
    "        response = requests.get(glove_url, stream=True)\n",
    "        with open(zip_file_path, 'wb') as f:\n",
    "            for chunk in response.iter_content(chunk_size=1024):\n",
    "                if chunk:\n",
    "                    f.write(chunk)\n",
    "        print(\"Download complete.\")\n",
    "    else:\n",
    "        print(\"GloVe zip file already exists.\")\n",
    "    \n",
    "    # Extract the zip file\n",
    "    print(\"Extracting GloVe embeddings...\")\n",
    "    with zipfile.ZipFile(zip_file_path, 'r') as zip_ref:\n",
    "        zip_ref.extractall(dest_folder)\n",
    "    print(\"Extraction complete.\")\n",
    "    \n",
    "    return extracted_file_path\n",
    "\n",
    "# URL for GloVe embeddings\n",
    "glove_url = 'https://nlp.stanford.edu/data/glove.42B.300d.zip'\n",
    "\n",
    "# Call the function to download and extract GloVe embeddings\n",
    "glove_file_path = download_glove_embeddings(glove_url)\n"
   ]
  },
  {
   "cell_type": "code",
   "execution_count": 17,
   "metadata": {},
   "outputs": [],
   "source": [
    "def load_glove_embeddings(file_path):\n",
    "    \"\"\"Load GloVe embeddings from a .npy file if it exists, otherwise load from .txt and save to .npy.\"\"\"\n",
    "    \n",
    "    # Derive the .npy file path from the .txt file path\n",
    "    npy_file_path = file_path.replace('.txt', '.npy')\n",
    "\n",
    "    # If the .npy file exists, load it\n",
    "    if os.path.exists(npy_file_path):\n",
    "        print(f\"Loading GloVe embeddings from {npy_file_path}...\")\n",
    "        glove_embeddings = np.load(npy_file_path, allow_pickle=True).item()  # Load the dictionary stored in .npy\n",
    "    else:\n",
    "        # Otherwise, load from the .txt file and save to .npy\n",
    "        print(f\"Loading GloVe embeddings from {file_path} ...\")\n",
    "        glove_embeddings = {}\n",
    "        with open(file_path, 'r', encoding='utf-8') as f:\n",
    "            for line in f:\n",
    "                values = line.split()\n",
    "                word = values[0]\n",
    "                glove_embeddings[word] = np.round(np.asarray(values[1:], dtype='float32'), decimals=6)\n",
    "\n",
    "        # Save the loaded embeddings as a .npy file\n",
    "        print(f\"Saving GloVe embeddings to {npy_file_path} ...\")\n",
    "        np.save(npy_file_path, glove_embeddings)  # Save dictionary to .npy\n",
    "\n",
    "    return glove_embeddings\n",
    "\n",
    "def get_glove_embeddings(vocab, glove_embeddings, embedding_dim):\n",
    "    \"\"\"Get embeddings for a vocabulary using GloVe.\"\"\"\n",
    "    embeddings_matrix = torch.zeros((len(vocab), embedding_dim), dtype=torch.float32)\n",
    "    \n",
    "    for idx, token in enumerate(vocab):\n",
    "        embedding = glove_embeddings.get(token)\n",
    "        if embedding is None:\n",
    "            embedding = glove_embeddings.get(token.lower())\n",
    "        if embedding is not None:\n",
    "            embedding = torch.tensor(embedding, dtype=torch.float32)\n",
    "            embeddings_matrix[idx] = embedding  \n",
    "    \n",
    "    return embeddings_matrix\n",
    "\n",
    "glove_file_path = './.glove/glove.42B.300d.txt'\n",
    "\n",
    "embedding_dim = 300\n",
    "\n",
    "glove_embeddings = load_glove_embeddings(glove_file_path)\n",
    "\n",
    "glove_embeddings_in = get_glove_embeddings(in_vocab.get_itos(), glove_embeddings, embedding_dim)\n",
    "glove_embeddings_out = get_glove_embeddings(out_vocab.get_itos(), glove_embeddings, embedding_dim)\n",
    "\n",
    "num_specials = len(specials)\n",
    "glove_embeddings_in[1:num_specials] = \\\n",
    "    torch.rand(num_specials - 1, embedding_dim) * 0.01\n",
    "glove_embeddings_out[1:num_specials] = \\\n",
    "    torch.rand(num_specials - 1, embedding_dim) * 0.01"
   ]
  },
  {
   "cell_type": "markdown",
   "metadata": {},
   "source": [
    "... instantiate the seq2seq model ..."
   ]
  },
  {
   "cell_type": "code",
   "execution_count": 49,
   "metadata": {},
   "outputs": [],
   "source": [
    "seq2seq = Seq2Seq(in_vocab=in_vocab, out_vocab=out_vocab, teacher_prob=0.85)\n",
    "seq2seq = seq2seq.create()\n",
    "\n",
    "seq2seq.model.encoder.embedding.weight.data = glove_embeddings_in\n",
    "seq2seq.model.encoder.embedding.weight.requires_grad = False\n",
    "seq2seq.model.decoder.embedding.weight.data = glove_embeddings_out\n",
    "seq2seq.model.decoder.embedding.weight.requires_grad = False"
   ]
  },
  {
   "cell_type": "markdown",
   "metadata": {},
   "source": [
    "... and train the model ..."
   ]
  },
  {
   "cell_type": "code",
   "execution_count": 50,
   "metadata": {},
   "outputs": [
    {
     "data": {
      "text/html": [
       "<pre style=\"white-space:pre;overflow-x:auto;line-height:normal;font-family:Menlo,'DejaVu Sans Mono',consolas,'Courier New',monospace\">┏━━━┳━━━━━━━━━━━━━━━┳━━━━━━━━━━━━━━━━━━┳━━━━━━━━┳━━━━━━━┓\n",
       "┃<span style=\"color: #800080; text-decoration-color: #800080; font-weight: bold\">   </span>┃<span style=\"color: #800080; text-decoration-color: #800080; font-weight: bold\"> Name          </span>┃<span style=\"color: #800080; text-decoration-color: #800080; font-weight: bold\"> Type             </span>┃<span style=\"color: #800080; text-decoration-color: #800080; font-weight: bold\"> Params </span>┃<span style=\"color: #800080; text-decoration-color: #800080; font-weight: bold\"> Mode  </span>┃\n",
       "┡━━━╇━━━━━━━━━━━━━━━╇━━━━━━━━━━━━━━━━━━╇━━━━━━━━╇━━━━━━━┩\n",
       "│<span style=\"color: #7f7f7f; text-decoration-color: #7f7f7f\"> 0 </span>│ train_metrics │ MetricCollection │      0 │ train │\n",
       "│<span style=\"color: #7f7f7f; text-decoration-color: #7f7f7f\"> 1 </span>│ val_metrics   │ MetricCollection │      0 │ train │\n",
       "│<span style=\"color: #7f7f7f; text-decoration-color: #7f7f7f\"> 2 </span>│ test_metrics  │ MetricCollection │      0 │ train │\n",
       "│<span style=\"color: #7f7f7f; text-decoration-color: #7f7f7f\"> 3 </span>│ model         │ Seq2SeqModel     │  6.3 M │ train │\n",
       "│<span style=\"color: #7f7f7f; text-decoration-color: #7f7f7f\"> 4 </span>│ optimizer     │ Adam             │      0 │ train │\n",
       "└───┴───────────────┴──────────────────┴────────┴───────┘\n",
       "</pre>\n"
      ],
      "text/plain": [
       "┏━━━┳━━━━━━━━━━━━━━━┳━━━━━━━━━━━━━━━━━━┳━━━━━━━━┳━━━━━━━┓\n",
       "┃\u001b[1;35m \u001b[0m\u001b[1;35m \u001b[0m\u001b[1;35m \u001b[0m┃\u001b[1;35m \u001b[0m\u001b[1;35mName         \u001b[0m\u001b[1;35m \u001b[0m┃\u001b[1;35m \u001b[0m\u001b[1;35mType            \u001b[0m\u001b[1;35m \u001b[0m┃\u001b[1;35m \u001b[0m\u001b[1;35mParams\u001b[0m\u001b[1;35m \u001b[0m┃\u001b[1;35m \u001b[0m\u001b[1;35mMode \u001b[0m\u001b[1;35m \u001b[0m┃\n",
       "┡━━━╇━━━━━━━━━━━━━━━╇━━━━━━━━━━━━━━━━━━╇━━━━━━━━╇━━━━━━━┩\n",
       "│\u001b[2m \u001b[0m\u001b[2m0\u001b[0m\u001b[2m \u001b[0m│ train_metrics │ MetricCollection │      0 │ train │\n",
       "│\u001b[2m \u001b[0m\u001b[2m1\u001b[0m\u001b[2m \u001b[0m│ val_metrics   │ MetricCollection │      0 │ train │\n",
       "│\u001b[2m \u001b[0m\u001b[2m2\u001b[0m\u001b[2m \u001b[0m│ test_metrics  │ MetricCollection │      0 │ train │\n",
       "│\u001b[2m \u001b[0m\u001b[2m3\u001b[0m\u001b[2m \u001b[0m│ model         │ Seq2SeqModel     │  6.3 M │ train │\n",
       "│\u001b[2m \u001b[0m\u001b[2m4\u001b[0m\u001b[2m \u001b[0m│ optimizer     │ Adam             │      0 │ train │\n",
       "└───┴───────────────┴──────────────────┴────────┴───────┘\n"
      ]
     },
     "metadata": {},
     "output_type": "display_data"
    },
    {
     "data": {
      "text/html": [
       "<pre style=\"white-space:pre;overflow-x:auto;line-height:normal;font-family:Menlo,'DejaVu Sans Mono',consolas,'Courier New',monospace\"><span style=\"font-weight: bold\">Trainable params</span>: 1.7 M                                                                                            \n",
       "<span style=\"font-weight: bold\">Non-trainable params</span>: 4.6 M                                                                                        \n",
       "<span style=\"font-weight: bold\">Total params</span>: 6.3 M                                                                                                \n",
       "<span style=\"font-weight: bold\">Total estimated model params size (MB)</span>: 25                                                                         \n",
       "<span style=\"font-weight: bold\">Modules in train mode</span>: 13                                                                                          \n",
       "<span style=\"font-weight: bold\">Modules in eval mode</span>: 0                                                                                            \n",
       "</pre>\n"
      ],
      "text/plain": [
       "\u001b[1mTrainable params\u001b[0m: 1.7 M                                                                                            \n",
       "\u001b[1mNon-trainable params\u001b[0m: 4.6 M                                                                                        \n",
       "\u001b[1mTotal params\u001b[0m: 6.3 M                                                                                                \n",
       "\u001b[1mTotal estimated model params size (MB)\u001b[0m: 25                                                                         \n",
       "\u001b[1mModules in train mode\u001b[0m: 13                                                                                          \n",
       "\u001b[1mModules in eval mode\u001b[0m: 0                                                                                            \n"
      ]
     },
     "metadata": {},
     "output_type": "display_data"
    },
    {
     "data": {
      "application/vnd.jupyter.widget-view+json": {
       "model_id": "86e785fdfc854389a6b749fde5063549",
       "version_major": 2,
       "version_minor": 0
      },
      "text/plain": [
       "Output()"
      ]
     },
     "metadata": {},
     "output_type": "display_data"
    },
    {
     "data": {
      "text/html": [
       "<pre style=\"white-space:pre;overflow-x:auto;line-height:normal;font-family:Menlo,'DejaVu Sans Mono',consolas,'Courier New',monospace\"></pre>\n"
      ],
      "text/plain": []
     },
     "metadata": {},
     "output_type": "display_data"
    },
    {
     "data": {
      "text/html": [
       "<pre style=\"white-space:pre;overflow-x:auto;line-height:normal;font-family:Menlo,'DejaVu Sans Mono',consolas,'Courier New',monospace\">\n",
       "</pre>\n"
      ],
      "text/plain": [
       "\n"
      ]
     },
     "metadata": {},
     "output_type": "display_data"
    }
   ],
   "source": [
    "trainer = dl.Trainer(max_epochs=25, accelerator=\"auto\")\n",
    "trainer.fit(seq2seq, train_loader)"
   ]
  },
  {
   "cell_type": "markdown",
   "metadata": {},
   "source": [
    "## Testing the Model Perfomance\n",
    "\n",
    "Implement a function to convert numerical sequences into their corresponding text ..."
   ]
  },
  {
   "cell_type": "code",
   "execution_count": 51,
   "metadata": {},
   "outputs": [],
   "source": [
    "def unprocess(sequences, vocab, specials):\n",
    "    \"\"\"Convert numeric sequences to sentences.\"\"\"\n",
    "    sentences = []\n",
    "    for sequence in sequences:\n",
    "        idxs = sequence[sequence > len(specials) - 1]\n",
    "        words = [vocab.lookup_token(idx) for idx in idxs]\n",
    "        sentences.append(\" \".join(words))\n",
    "    return sentences"
   ]
  },
  {
   "cell_type": "markdown",
   "metadata": {},
   "source": [
    "... a function to translate user-defined sentences ..."
   ]
  },
  {
   "cell_type": "code",
   "execution_count": 52,
   "metadata": {},
   "outputs": [],
   "source": [
    "def translate(in_sentence, model, in_lang, in_vocab, out_vocab, specials):\n",
    "    \"\"\"Translate a sentence.\"\"\"\n",
    "    in_sentence = unicodedata.normalize(\"NFC\", in_sentence)\n",
    "    in_tokens = pad(tokenize(in_sentence, in_lang))\n",
    "    in_sequence = (torch.tensor(in_vocab(in_tokens), dtype=torch.int)\n",
    "                   .unsqueeze(0).to(next(model.parameters()).device))\n",
    "    pred_sequence = model.evaluate(in_sequence)\n",
    "    pred_sentence = unprocess(pred_sequence, out_vocab, specials)\n",
    "    print(f\"Predicted Translation: {pred_sentence[0]}\\n\")"
   ]
  },
  {
   "cell_type": "markdown",
   "metadata": {},
   "source": [
    "... try to translate a simple sentence ..."
   ]
  },
  {
   "cell_type": "code",
   "execution_count": 53,
   "metadata": {},
   "outputs": [
    {
     "name": "stdout",
     "output_type": "stream",
     "text": [
      "Predicted Translation: Compré un libro .\n",
      "\n"
     ]
    }
   ],
   "source": [
    "in_sentence = \"I bought a book.\"\n",
    "translate(in_sentence, seq2seq.model, in_lang, in_vocab, out_vocab, specials)"
   ]
  },
  {
   "cell_type": "markdown",
   "metadata": {},
   "source": [
    "... another simple sentence ..."
   ]
  },
  {
   "cell_type": "code",
   "execution_count": 54,
   "metadata": {},
   "outputs": [
    {
     "name": "stdout",
     "output_type": "stream",
     "text": [
      "Predicted Translation: Este libro es muy interesante .\n",
      "\n"
     ]
    }
   ],
   "source": [
    "in_sentence = \"This book is very interesting.\"\n",
    "translate(in_sentence, seq2seq.model, in_lang, in_vocab, out_vocab, specials)"
   ]
  },
  {
   "cell_type": "markdown",
   "metadata": {},
   "source": [
    "... and a more complex one ..."
   ]
  },
  {
   "cell_type": "code",
   "execution_count": 55,
   "metadata": {},
   "outputs": [
    {
     "name": "stdout",
     "output_type": "stream",
     "text": [
      "Predicted Translation: El libro que compré interesante es interesante .\n",
      "\n"
     ]
    }
   ],
   "source": [
    "in_sentence = \"The book that I bought is very interesting.\"\n",
    "translate(in_sentence, seq2seq.model, in_lang, in_vocab, out_vocab, specials)"
   ]
  },
  {
   "cell_type": "markdown",
   "metadata": {},
   "source": [
    "## Evaluating the Model with the BLEU Score"
   ]
  },
  {
   "cell_type": "code",
   "execution_count": 56,
   "metadata": {},
   "outputs": [
    {
     "name": "stdout",
     "output_type": "stream",
     "text": [
      "Input text: I got on the train .\n",
      "Predicted Translation: Me levanté en la playa .\n",
      "Actual Translation: Me subí al tren .\n",
      "\n",
      "Input text: The book is white .\n",
      "Predicted Translation: El libro es blanco .\n",
      "Actual Translation: El libro es blanco .\n",
      "\n",
      "Input text: It seldom snows in this part of the country .\n",
      "Predicted Translation: En invierno nieva en Tokio . .\n",
      "Actual Translation: En esta parte del país casi no nieva .\n",
      "\n",
      "Input text: Tom rarely went there .\n",
      "Predicted Translation: Tom rara vez allí a llorar .\n",
      "Actual Translation: Tomás fue raramente por allí .\n",
      "\n",
      "Input text: You do not have to lie .\n",
      "Predicted Translation: No tienes que creerme .\n",
      "Actual Translation: No tenés que mentir .\n",
      "\n",
      "Input text: The boy takes after his father .\n",
      "Predicted Translation: El hombre le atacó a su padre .\n",
      "Actual Translation: El niño se parece a su padre .\n",
      "\n",
      "Input text: Tom can swim .\n",
      "Predicted Translation: Tom puede nadar .\n",
      "Actual Translation: Tom puede nadar .\n",
      "\n",
      "Input text: I definitely will not do that again .\n",
      "Predicted Translation: No volveré a intentar eso .\n",
      "Actual Translation: Seguro que no volveré a hacerlo .\n",
      "\n",
      "Input text: Roll up your sleeves .\n",
      "Predicted Translation: Levanta a la página .\n",
      "Actual Translation: Súbete las mangas .\n",
      "\n",
      "Input text: I overslept .\n",
      "Predicted Translation: Me dormí .\n",
      "Actual Translation: Me quedé dormido .\n",
      "\n",
      "Input text: This is my bedroom .\n",
      "Predicted Translation: Este es mi dormitorio .\n",
      "Actual Translation: Esta es mi habitación .\n",
      "\n",
      "Input text: Unless you study , you will not learn this .\n",
      "Predicted Translation: Si no hablas esto , no te .\n",
      "Actual Translation: Mientras no estudie usted no aprenderá esto .\n",
      "\n",
      "Input text: Who is your lawyer ?\n",
      "Predicted Translation: ¿ Quién es tu abogado ?\n",
      "Actual Translation: ¿ Quién es tu abogado ?\n",
      "\n",
      "Input text: Can I help with breakfast ?\n",
      "Predicted Translation: ¿ Puedo ayudar a la pregunta ?\n",
      "Actual Translation: ¿ Puedo ayudar con el desayuno ?\n",
      "\n",
      "Input text: Do not leave us .\n",
      "Predicted Translation: No nos dejes .\n",
      "Actual Translation: No nos deje .\n",
      "\n",
      "Input text: Tom could not hear what Mary was saying .\n",
      "Predicted Translation: Tom no pudo entender lo que Mary estaba diciendo .\n",
      "Actual Translation: Tom no pudo oír lo que estaba diciendo Mary .\n",
      "\n",
      "Input text: I do not remember Tom face .\n",
      "Predicted Translation: No recuerdo a Tom .\n",
      "Actual Translation: No me acuerdo de la cara de Tom .\n",
      "\n",
      "Input text: Tom lives nearby .\n",
      "Predicted Translation: Tom vive cerca .\n",
      "Actual Translation: Tom vive cerca .\n",
      "\n",
      "Input text: It took me several hours to write it .\n",
      "Predicted Translation: Me tomó varias horas leerlo .\n",
      "Actual Translation: Me tomó varias horas para escribirlo .\n",
      "\n",
      "Input text: He will not accomplish anything .\n",
      "Predicted Translation: Él no cambiará nada .\n",
      "Actual Translation: Él no va a lograr nada .\n",
      "\n",
      "Input text: Can you give us a minute ?\n",
      "Predicted Translation: ¿ Puedes dar un minuto ?\n",
      "Actual Translation: ¿ Puedes darnos un minuto ?\n",
      "\n",
      "Input text: I met your parents yesterday .\n",
      "Predicted Translation: Ayer me encontré con él .\n",
      "Actual Translation: Ayer me encontré con tus padres .\n",
      "\n",
      "Input text: I think I will change jobs .\n",
      "Predicted Translation: Creo que he decidido .\n",
      "Actual Translation: Creo que cambiaré de trabajo .\n",
      "\n",
      "Input text: It is been hot recently .\n",
      "Predicted Translation: Ha sido muy divertido .\n",
      "Actual Translation: Últimamente ha hecho calor .\n",
      "\n",
      "Input text: Get me a lawyer .\n",
      "Predicted Translation: Consígueme un abogado .\n",
      "Actual Translation: Consígueme un abogado .\n",
      "\n",
      "Input text: Tom died three days after he arrived in Boston .\n",
      "Predicted Translation: Tom murió tres años en Boston por tres años .\n",
      "Actual Translation: Tom murió tres días después de llegar a Boston .\n",
      "\n",
      "Input text: You did this to me .\n",
      "Predicted Translation: Me lo que me .\n",
      "Actual Translation: Tú me hiciste esto .\n",
      "\n",
      "Input text: Tom needs rest now .\n",
      "Predicted Translation: Tom ahora tiene tiempo ahora .\n",
      "Actual Translation: Tom necesita descansar ahora .\n",
      "\n",
      "Input text: You really do have a beautiful smile .\n",
      "Predicted Translation: Realmente se parecen una hermosa hermosa .\n",
      "Actual Translation: Realmente tenés una hermosa sonrisa .\n",
      "\n",
      "Input text: Tom finally arrived .\n",
      "Predicted Translation: Tom finalmente finalmente .\n",
      "Actual Translation: Al fin llego Tom .\n",
      "\n",
      "Input text: I wonder if something has happened .\n",
      "Predicted Translation: Me pregunto si hubiera ocurrido algo .\n",
      "Actual Translation: Me pregunto si pasó algo .\n",
      "\n",
      "Input text: I quit smoking three years ago .\n",
      "Predicted Translation: Paré de fumar solo .\n",
      "Actual Translation: Dejé de fumar hace tres años .\n",
      "\n",
      "Input text: That man stole my bag .\n",
      "Predicted Translation: Ese hombre se robó con mi corazón .\n",
      "Actual Translation: Ese hombre robó mi bolsa .\n",
      "\n",
      "Input text: Please do not be sad .\n",
      "Predicted Translation: Por favor , no puede nadar .\n",
      "Actual Translation: No estés triste , por favor .\n",
      "\n",
      "Input text: He married a girl that he chose for himself .\n",
      "Predicted Translation: Él se casó con él , por una niña .\n",
      "Actual Translation: Se casó con una mujer de su elección .\n",
      "\n",
      "Input text: Are you sure we can not repair this camera ?\n",
      "Predicted Translation: ¿ Estás seguro de que no podemos esta puerta ?\n",
      "Actual Translation: ¿ Estás segura que no podemos arreglar esta cámara ?\n",
      "\n",
      "Input text: Who drove ?\n",
      "Predicted Translation: ¿ Quién vino ?\n",
      "Actual Translation: ¿ Quién condujo ?\n",
      "\n",
      "Input text: At least I know Tom is safe right now .\n",
      "Predicted Translation: Ahora exactamente , Tom ahora es exactamente qué quiero .\n",
      "Actual Translation: Al menos sé que Tom está a salvo ahora .\n",
      "\n",
      "Input text: I might vote for Tom .\n",
      "Predicted Translation: Podría comer a Tom .\n",
      "Actual Translation: Podría votar por Tom .\n",
      "\n",
      "Input text: What are these ?\n",
      "Predicted Translation: ¿ Qué son estas ?\n",
      "Actual Translation: ¿ Qué son éstos ?\n",
      "\n",
      "Input text: He has another son .\n",
      "Predicted Translation: Él tiene la oferta de verdad .\n",
      "Actual Translation: Él tiene otro hijo .\n",
      "\n",
      "Input text: I got married .\n",
      "Predicted Translation: Me casé .\n",
      "Actual Translation: Me casé .\n",
      "\n",
      "Input text: Tom is young and naive .\n",
      "Predicted Translation: Tom es joven y ingenuo .\n",
      "Actual Translation: Tomás es joven e ingenuo .\n",
      "\n",
      "Input text: She tried a third time .\n",
      "Predicted Translation: Ella llegó un momento momento .\n",
      "Actual Translation: Ella lo intentó por tercera vez .\n",
      "\n",
      "Input text: It suddenly started raining .\n",
      "Predicted Translation: Empezó a llover pronto .\n",
      "Actual Translation: De repente comenzó a llover .\n",
      "\n",
      "Input text: I have to use the dictionary .\n",
      "Predicted Translation: Tengo que cambiar el diccionario .\n",
      "Actual Translation: Tengo que usar el diccionario .\n",
      "\n",
      "Input text: Mary is Tom aunt .\n",
      "Predicted Translation: Mary es Tom de Tom .\n",
      "Actual Translation: Mary es la tía de Tom .\n",
      "\n",
      "Input text: She must have been very beautiful .\n",
      "Predicted Translation: Ella debe ser muy guapa .\n",
      "Actual Translation: Debe de haber sido muy hermosa .\n",
      "\n",
      "Input text: Would Tom lie to you ?\n",
      "Predicted Translation: ¿ Te ibas a Tom ?\n",
      "Actual Translation: ¿ Te mentiría Tom ?\n",
      "\n",
      "Input text: You look like a boy .\n",
      "Predicted Translation: Pareces un papión .\n",
      "Actual Translation: Pareces un niño .\n",
      "\n",
      "Input text: I do not want you to tell anyone .\n",
      "Predicted Translation: No quiero que lo que quiero decir .\n",
      "Actual Translation: No quiero que se lo cuentes a nadie .\n",
      "\n",
      "Input text: We were all present at her wedding .\n",
      "Predicted Translation: Todos estábamos en su nombre .\n",
      "Actual Translation: Todos estuvimos presentes en su boda .\n",
      "\n",
      "Input text: You should eat more vegetables .\n",
      "Predicted Translation: Deberías comer algo de comida .\n",
      "Actual Translation: Deberías comer más vegetales .\n",
      "\n",
      "Input text: May I pay by check ?\n",
      "Predicted Translation: ¿ Puedo pagar por pagar ?\n",
      "Actual Translation: ¿ Puedo pagar con cheque ?\n",
      "\n",
      "Validation BLEU Score: 0.224\n"
     ]
    }
   ],
   "source": [
    "from torchmetrics.text import BLEUScore\n",
    "\n",
    "bleu_score = BLEUScore()\n",
    "\n",
    "device = next(seq2seq.model.parameters()).device\n",
    "for batch_index, (in_sequences, out_sequences) in enumerate(test_loader):\n",
    "    in_sentences = unprocess(in_sequences.to(device), in_vocab, specials)\n",
    "    pred_sequences = seq2seq.model.evaluate(in_sequences.to(device))\n",
    "    pred_sentences = unprocess(pred_sequences, out_vocab, specials)\n",
    "    out_sentences = unprocess(out_sequences.to(device), out_vocab, specials)\n",
    "    \n",
    "    bleu_score.update(pred_sentences, [[s] for s in out_sentences])\n",
    "\n",
    "    print(f\"Input text: {in_sentences[0]}\\n\" \n",
    "          + f\"Predicted Translation: {pred_sentences[0]}\\n\"\n",
    "          + f\"Actual Translation: {out_sentences[0]}\\n\")\n",
    "\n",
    "final_bleu = bleu_score.compute()\n",
    "print(f\"Validation BLEU Score: {final_bleu:.3f}\")"
   ]
  }
 ],
 "metadata": {
  "kernelspec": {
   "display_name": "deeplay_env",
   "language": "python",
   "name": "python3"
  },
  "language_info": {
   "codemirror_mode": {
    "name": "ipython",
    "version": 3
   },
   "file_extension": ".py",
   "mimetype": "text/x-python",
   "name": "python",
   "nbconvert_exporter": "python",
   "pygments_lexer": "ipython3",
   "version": "3.10.9"
  }
 },
 "nbformat": 4,
 "nbformat_minor": 2
}
