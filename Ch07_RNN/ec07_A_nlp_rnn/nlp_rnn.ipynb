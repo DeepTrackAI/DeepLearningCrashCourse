{
 "cells": [
  {
   "cell_type": "code",
   "execution_count": 1,
   "metadata": {},
   "outputs": [],
   "source": [
    "import os\n",
    "\n",
    "input_lang = \"eng\"\n",
    "target_lang = \"spa\"\n",
    "\n",
    "if os.path.isfile(f\"{input_lang}-{target_lang}.txt\"):\n",
    "    filepath = f\"{input_lang}-{target_lang}.txt\"\n",
    "    reverse = False\n",
    "elif os.path.isfile(f\"{target_lang}-{input_lang}.txt\"):\n",
    "    filepath = f\"{target_lang}-{input_lang}.txt\"\n",
    "    reverse = True\n",
    "else:\n",
    "    raise FileNotFoundError(\"Missing training set for specified language pair\")"
   ]
  },
  {
   "cell_type": "code",
   "execution_count": 2,
   "metadata": {},
   "outputs": [],
   "source": [
    "import contractions, re\n",
    "from torchtext.data.utils import get_tokenizer\n",
    "\n",
    "tokenizer_eng = get_tokenizer(\"spacy\", language=\"en_core_web_sm\")\n",
    "tokenizer_spa = get_tokenizer(\"spacy\", language=\"es_core_news_sm\")\n",
    "\n",
    "def tokenize(text, lang):\n",
    "    \"\"\"Tokenize, standardize and filter text.\"\"\"\n",
    "    if lang == \"eng\":\n",
    "        text = contractions.fix(text)\n",
    "        tokenizer = tokenizer_eng\n",
    "    elif lang == \"spa\":\n",
    "        tokenizer = tokenizer_spa\n",
    "    else:\n",
    "        raise NotImplementedError(\"Missing tokenizer for specified language \")\n",
    "\n",
    "    standardized_text = (\n",
    "        text.replace(\"’\", \"'\")\n",
    "        .replace(\"‘\", \"'\")\n",
    "        .replace(\"´\", \"'\")\n",
    "        .replace(\"“\", '\"')\n",
    "        .replace(\"”\", '\"')\n",
    "        .replace(\"´´\", '\"')\n",
    "    )\n",
    "    tokens = tokenizer(standardized_text)\n",
    "    filtered_tokens = [\n",
    "        token\n",
    "        for token in tokens\n",
    "        if re.match(\n",
    "            r\"\"\"\n",
    "            ^[a-zA-Z0-9áéíóúüñÁÉÍÓÚÜÑ.,!?¡¿]+  # 1+ allowed characters.\n",
    "            (-[a-zA-Z0-9áéíóúüñÁÉÍÓÚÜÑ.,!?¡¿]+)*  # Opt hyphen plus chars.\n",
    "            (_[a-zA-Z0-9áéíóúüñÁÉÍÓÚÜÑ.,!?¡¿]+)*  # Opt underscore plus chars.\n",
    "            $  # End of the string.\n",
    "            \"\"\",\n",
    "            token,\n",
    "            re.VERBOSE,\n",
    "        )\n",
    "    ]\n",
    "    return filtered_tokens"
   ]
  },
  {
   "cell_type": "code",
   "execution_count": 3,
   "metadata": {},
   "outputs": [],
   "source": [
    "def corpus_iterator(filepath, lang, reverse):\n",
    "    \"\"\"Read and tokenize sentences by iterating through a corpus file.\"\"\"\n",
    "    with open(filepath, \"r\", encoding=\"utf-8\") as file:\n",
    "        for line in file:\n",
    "            elems = line.strip().split(\"\\t\")\n",
    "            selected_text = elems[1 if reverse else 0]\n",
    "            yield tokenize(selected_text, lang)"
   ]
  },
  {
   "cell_type": "code",
   "execution_count": 4,
   "metadata": {},
   "outputs": [],
   "source": [
    "from torchtext.vocab import build_vocab_from_iterator\n",
    "\n",
    "def build_vocab(filepath, lang, reverse, min_freq=5, specials=\"<unk>\"):\n",
    "    \"\"\"Build vocabulary.\"\"\"\n",
    "    vocab = build_vocab_from_iterator(\n",
    "        corpus_iterator(filepath, lang, reverse),\n",
    "        min_freq=min_freq,\n",
    "        specials=specials,\n",
    "    )\n",
    "    vocab.set_default_index(vocab[specials[-1]])\n",
    "    return vocab\n",
    "\n",
    "special_tokens = [\"<pad>\", \"<sos>\", \"<eos>\", \"<unk>\"]\n",
    "\n",
    "vocab_input = build_vocab(filepath, input_lang, reverse, specials=special_tokens)\n",
    "vocab_target = build_vocab(filepath, target_lang, not reverse, specials=special_tokens)"
   ]
  },
  {
   "cell_type": "code",
   "execution_count": 5,
   "metadata": {},
   "outputs": [],
   "source": [
    "special_tokens = [\"<pad>\", \"<sos>\", \"<eos>\", \"<unk>\"]\n",
    "vocab_input = build_vocab(filepath, input_lang, reverse, specials=special_tokens)\n",
    "vocab_target = build_vocab(filepath, target_lang, not reverse, specials=special_tokens)"
   ]
  },
  {
   "cell_type": "code",
   "execution_count": 6,
   "metadata": {},
   "outputs": [],
   "source": [
    "import numpy as np\n",
    "\n",
    "def all_words_in_vocab(sentence, vocab):\n",
    "    \"\"\"Check whether all words in a sentence are present in a vocabulary.\"\"\"\n",
    "    return all(word in vocab for word in sentence)\n",
    "\n",
    "def pad_sentence(sequence, max_length=10):\n",
    "    \"\"\"Pad sentence.\"\"\"\n",
    "    padding_length = max_length - len(sequence)\n",
    "    return [\"<sos>\"] + sequence + [\"<eos>\"] + [\"<pad>\"] * padding_length\n",
    "\n",
    "def process_corpus(lines, reverse, input_lang, target_lang, vocab_input,\n",
    "                   vocab_target, max_length=10):\n",
    "    \"\"\".\"\"\"\n",
    "    processed_inputs, processed_targets = [], []\n",
    "    for line in lines:\n",
    "        elems = line.strip().split(\"\\t\")\n",
    "\n",
    "        input_seq = tokenize(elems[int(reverse)], input_lang)\n",
    "        target_seq = tokenize(elems[int(not reverse)], target_lang)\n",
    "\n",
    "        if (all_words_in_vocab(input_seq, vocab_input)\n",
    "            and all_words_in_vocab(target_seq, vocab_target)\n",
    "            and len(input_seq) <= max_length\n",
    "            and len(target_seq) <= max_length):\n",
    "            padded_input = pad_sentence(input_seq)\n",
    "            padded_target = pad_sentence(target_seq)\n",
    "\n",
    "            processed_inputs.append(vocab_input(padded_input))\n",
    "            processed_targets.append(vocab_target(padded_target))\n",
    "\n",
    "    return np.array(processed_inputs), np.array(processed_targets)"
   ]
  },
  {
   "cell_type": "code",
   "execution_count": 7,
   "metadata": {},
   "outputs": [],
   "source": [
    "import deeptrack as dt\n",
    "import torch\n",
    "from torch.utils.data import DataLoader\n",
    "\n",
    "with open(filepath, \"r\", encoding=\"utf-8\") as file:\n",
    "    inputs, targets = process_corpus(\n",
    "        file, reverse, input_lang, target_lang, vocab_input, vocab_target,\n",
    "    )\n",
    "\n",
    "sources = dt.sources.Source(inputs=inputs, targets=targets)\n",
    "train_sources, test_sources = dt.sources.random_split(sources, [0.85, 0.15])\n",
    "\n",
    "inputs_pl = dt.Value(sources.inputs) >> dt.pytorch.ToTensor(dtype=torch.int)\n",
    "targets_pl = dt.Value(sources.targets) >> dt.pytorch.ToTensor(dtype=torch.int)\n",
    "\n",
    "train_dataset = dt.pytorch.Dataset(\n",
    "    inputs_pl & targets_pl,\n",
    "    inputs=train_sources,\n",
    ")\n",
    "test_dataset = dt.pytorch.Dataset(\n",
    "    inputs_pl & targets_pl, \n",
    "    inputs=test_sources,\n",
    ")\n",
    "\n",
    "train_loader = DataLoader(train_dataset, batch_size=256, shuffle=True)\n",
    "test_loader = DataLoader(test_dataset, batch_size=256, shuffle=False)"
   ]
  },
  {
   "cell_type": "code",
   "execution_count": 8,
   "metadata": {},
   "outputs": [],
   "source": [
    "import deeplay as dl\n",
    "import torch\n",
    "\n",
    "class Seq2SeqEncoder(dl.DeeplayModule):\n",
    "    \"\"\"Seq2seq encoder.\"\"\"\n",
    "\n",
    "    def __init__(self, vocab_size, in_features=300, hidden_features=128,\n",
    "                 hidden_layers=1, dropout= 0.0, rnn_type=\"GRU\",\n",
    "                 bidirectional=True):\n",
    "        \"\"\"Initialize seq2seq encoder.\"\"\"\n",
    "        super().__init__()\n",
    "        if isinstance(rnn_type, type) and issubclass(rnn_type, torch.nn.Module):\n",
    "            self.rnn_class = rnn_type\n",
    "        elif rnn_type == \"LSTM\":\n",
    "            self.rnn_class = torch.nn.LSTM\n",
    "        elif rnn_type == \"GRU\":\n",
    "            self.rnn_class = torch.nn.GRU\n",
    "        else:\n",
    "            self.rnn_class = torch.nn.RNN\n",
    "\n",
    "        self.hidden_features = hidden_features\n",
    "        self.hidden_layers = hidden_layers\n",
    "        self.bidirectional = bidirectional\n",
    "        self.embedding = dl.Layer(torch.nn.Embedding, vocab_size, in_features)\n",
    "        self.rnn = dl.Layer(\n",
    "            self.rnn_class,\n",
    "            input_size=in_features,\n",
    "            hidden_size=hidden_features,\n",
    "            num_layers=hidden_layers,\n",
    "            dropout=(0 if hidden_layers == 1 else dropout),\n",
    "            bidirectional=bidirectional,\n",
    "            batch_first=True,\n",
    "        )\n",
    "\n",
    "    def forward(self, x, hidden=None):\n",
    "        \"\"\"Perform forward pass.\"\"\"\n",
    "        x = self.embedding(x)\n",
    "        outputs, hidden = self.rnn(x, hidden)\n",
    "        if self.bidirectional:\n",
    "            outputs = (\n",
    "                outputs[:, :, :self.hidden_features]\n",
    "                + outputs[:, :, self.hidden_features:]\n",
    "            )\n",
    "            hidden = hidden[: self.hidden_layers]\n",
    "        return outputs, hidden"
   ]
  },
  {
   "cell_type": "code",
   "execution_count": 9,
   "metadata": {},
   "outputs": [],
   "source": [
    "class Seq2SeqDecoder(dl.DeeplayModule):\n",
    "    \"\"\"Seq2seq decoder.\"\"\"\n",
    "\n",
    "    def __init__(self, vocab_size, in_features=300, \n",
    "                 hidden_features=128, hidden_layers=1, dropout=0.0, \n",
    "                 rnn_type=\"GRU\"):\n",
    "        \"\"\"Initialize seq2seq decoder.\"\"\"\n",
    "        super().__init__()\n",
    "        if isinstance(rnn_type, type) and issubclass(rnn_type, torch.nn.Module):\n",
    "            self.rnn_class = rnn_type\n",
    "        elif rnn_type == \"LSTM\":\n",
    "            self.rnn_class = torch.nn.LSTM\n",
    "        elif rnn_type == \"GRU\":\n",
    "            self.rnn_class = torch.nn.GRU\n",
    "        else:\n",
    "            self.rnn_class = torch.nn.RNN\n",
    "\n",
    "        self.in_features = in_features\n",
    "        self.hidden_features = hidden_features\n",
    "        self.num_layers = hidden_layers\n",
    "        self.embedding = dl.Layer(torch.nn.Embedding, vocab_size, in_features)\n",
    "        self.rnn = dl.Layer(\n",
    "            self.rnn_class,\n",
    "            input_size=in_features,\n",
    "            hidden_size=hidden_features,\n",
    "            num_layers=hidden_layers,\n",
    "            bidirectional=False,\n",
    "            batch_first=True,\n",
    "            dropout=(0 if hidden_layers == 1 else dropout),\n",
    "        )\n",
    "        self.dense = dl.Layer(torch.nn.Linear, hidden_features, vocab_size)\n",
    "        self.softmax = dl.Layer(torch.nn.Softmax, dim=-1)\n",
    "        self.relu = dl.Layer(torch.nn.ReLU)\n",
    "\n",
    "    def forward(self, x, hidden):\n",
    "        \"\"\"Perform forward pass.\"\"\"\n",
    "        x = self.embedding(x)\n",
    "        x = self.relu(x)\n",
    "        output, hidden = self.rnn(x, hidden)\n",
    "        output = self.dense(output)\n",
    "        output = self.softmax(output)\n",
    "        return output, hidden"
   ]
  },
  {
   "cell_type": "code",
   "execution_count": 10,
   "metadata": {},
   "outputs": [],
   "source": [
    "class Seq2SeqModel(dl.DeeplayModule):\n",
    "    \"\"\"Seq2seq model.\"\"\"\n",
    "\n",
    "    def __init__(self, in_vocab_size=None, out_vocab_size=None,\n",
    "                 teacher_prob=1.0, embedding_dim=300, hidden_features=128,\n",
    "                 hidden_layers=1, dropout=0.0, rnn_type=\"GRU\",\n",
    "                 bidirectional=True):\n",
    "        \"\"\"Initialize the seq2seq model.\"\"\"\n",
    "        super().__init__()\n",
    "        self.out_vocab_size = out_vocab_size\n",
    "        self.teacher_prob = teacher_prob\n",
    "        self.encoder = \\\n",
    "            Seq2SeqEncoder(in_vocab_size, embedding_dim, hidden_features,\n",
    "                           hidden_layers, dropout, rnn_type, bidirectional)\n",
    "        self.decoder = \\\n",
    "            Seq2SeqDecoder(out_vocab_size, embedding_dim, hidden_features,\n",
    "                           hidden_layers, dropout, rnn_type)\n",
    "\n",
    "    def forward(self, x):\n",
    "        \"\"\"Perform forward pass.\"\"\"\n",
    "        input, target = x\n",
    "        \n",
    "        encoder_outputs, encoder_hidden = self.encoder(input)\n",
    "        \n",
    "        decoder_hidden = encoder_hidden\n",
    "        decoder_outputs = torch.zeros(\n",
    "            (target.size(0), target.size(1), self.out_vocab_size)\n",
    "        ).to(next(self.encoder.parameters()).device)\n",
    "\n",
    "        for t in range(input.size(1)):\n",
    "            if t == 0 or np.random.rand() < self.teacher_prob:\n",
    "                decoder_input = target[:, t].unsqueeze(-1)\n",
    "            else:\n",
    "                decoder_input = topi.squeeze(-1).detach()\n",
    "\n",
    "            decoder_input = \\\n",
    "                decoder_input.to(next(self.decoder.parameters()).device)\n",
    "            decoder_output, decoder_hidden = \\\n",
    "                self.decoder(decoder_input, decoder_hidden)\n",
    "            _, topi = decoder_output.topk(1)\n",
    "            decoder_outputs[:, t, :] = decoder_output.squeeze(1)\n",
    "        return decoder_outputs\n",
    "\n",
    "    def evaluate(self, x):\n",
    "        \"\"\"Evaluate model.\"\"\"\n",
    "        if isinstance(x, (list, tuple)):\n",
    "            input = x[0]\n",
    "        else:\n",
    "            input = x\n",
    "\n",
    "        with torch.no_grad():\n",
    "            encoder_outputs, encoder_hidden = self.encoder(input)\n",
    "        decoder_hidden = encoder_hidden\n",
    "        outputs = torch.zeros(\n",
    "            input.shape,\n",
    "        ).to(next(self.encoder.parameters()).device)\n",
    "        for t in range(input.size(1)):\n",
    "            if t == 0:\n",
    "                decoder_input = torch.full(\n",
    "                    size=(input.size(0), 1),\n",
    "                    fill_value=1,\n",
    "                    device=next(self.encoder.parameters()).device,\n",
    "                )\n",
    "            else:\n",
    "                decoder_input = topi.squeeze(-1).detach()\n",
    "\n",
    "            decoder_input = decoder_input.to(next(self.decoder.parameters()).device)\n",
    "            with torch.no_grad():\n",
    "                decoder_output, decoder_hidden = self.decoder(\n",
    "                    decoder_input,\n",
    "                    decoder_hidden,\n",
    "                )\n",
    "            _, topi = decoder_output.topk(1)\n",
    "            outputs[:, t] = topi.squeeze()\n",
    "\n",
    "        return outputs"
   ]
  },
  {
   "cell_type": "code",
   "execution_count": 11,
   "metadata": {},
   "outputs": [],
   "source": [
    "def maskedNLL(input, target, PADtoken=0):\n",
    "    \"\"\"Calculate the negative log-likelihood loss.\"\"\"\n",
    "    mask = target != PADtoken\n",
    "    NLL = - torch.log(\n",
    "        torch.gather(input.view(-1, input.shape[-1]), 1, target.view(-1, 1))\n",
    "    )\n",
    "    loss = NLL.masked_select(mask.view(-1, 1)).mean()\n",
    "    return loss\n"
   ]
  },
  {
   "cell_type": "code",
   "execution_count": 12,
   "metadata": {},
   "outputs": [],
   "source": [
    "class Seq2Seq(dl.Application):\n",
    "    \"\"\"Application for the seq2seq model.\"\"\"\n",
    "\n",
    "    def __init__(self, in_vocab, out_vocab, teacher_prob=1.0, model=None,\n",
    "                 optimizer=None, loss=None):\n",
    "        \"\"\"Initialize the application.\"\"\"\n",
    "        self.in_vocab = in_vocab\n",
    "        self.in_vocab_size = len(in_vocab)\n",
    "        self.out_vocab = out_vocab\n",
    "        self.out_vocab_size = len(out_vocab)\n",
    "        self.teacher_prob = teacher_prob\n",
    "        self.model = model or Seq2SeqModel(\n",
    "            in_vocab_size=self.in_vocab_size,\n",
    "            out_vocab_size=self.out_vocab_size,\n",
    "            teacher_prob=teacher_prob,\n",
    "        )\n",
    "        self.optimizer = optimizer or dl.Adam(lr=1e-3)\n",
    "        self.loss = loss or maskedNLL\n",
    "\n",
    "        @self.optimizer.params\n",
    "        def params(self):\n",
    "            return self.parameters()\n",
    "\n",
    "        super().__init__(loss=loss)\n",
    "\n",
    "    def train_preprocess(self, batch):\n",
    "        \"\"\"Adjust the target sequence by shifting it one position backward.\"\"\"\n",
    "        x = batch\n",
    "        y = torch.cat((x[-1][:, 1:], x[-1][:, -1:]), dim=1)\n",
    "        return x, y\n",
    "\n",
    "    def forward(self, x):\n",
    "        \"\"\"Perform forward pass.\"\"\"\n",
    "        decoder_outputs = self.model(x)\n",
    "        return decoder_outputs"
   ]
  },
  {
   "cell_type": "code",
   "execution_count": 13,
   "metadata": {},
   "outputs": [
    {
     "name": "stderr",
     "output_type": "stream",
     "text": [
      "INFO:torchtext.vocab.vectors:Loading vectors from ./.vector_cache/glove.42B.300d.txt.pt\n"
     ]
    }
   ],
   "source": [
    "from torchtext.vocab import GloVe\n",
    "\n",
    "embedding_dim = 300\n",
    "\n",
    "glove = GloVe(name=\"42B\", dim=embedding_dim, cache=\"./.vector_cache\")\n",
    "glove_embeddings_input = \\\n",
    "    glove.get_vecs_by_tokens(vocab_input.get_itos(), lower_case_backup=True)\n",
    "glove_embeddings_target = \\\n",
    "    glove.get_vecs_by_tokens(vocab_target.get_itos(), lower_case_backup=True)\n",
    "\n",
    "num_special_tokens = len(special_tokens)\n",
    "glove_embeddings_input[1:num_special_tokens] = \\\n",
    "    torch.rand(num_special_tokens - 1, embedding_dim) * 0.01\n",
    "glove_embeddings_target[1:num_special_tokens] = \\\n",
    "    torch.rand(num_special_tokens - 1, embedding_dim) * 0.01\n"
   ]
  },
  {
   "cell_type": "code",
   "execution_count": 14,
   "metadata": {},
   "outputs": [],
   "source": [
    "seq2seq = Seq2Seq(\n",
    "    in_vocab=vocab_input,\n",
    "    out_vocab=vocab_target,\n",
    "    teacher_prob=0.85,\n",
    ")\n",
    "seq2seq = seq2seq.create()\n",
    "\n",
    "seq2seq.model.encoder.embedding.weight.data = glove_embeddings_input\n",
    "seq2seq.model.encoder.embedding.weight.requires_grad = False\n",
    "seq2seq.model.decoder.embedding.weight.data = glove_embeddings_target\n",
    "seq2seq.model.decoder.embedding.weight.requires_grad = False"
   ]
  },
  {
   "cell_type": "code",
   "execution_count": 15,
   "metadata": {},
   "outputs": [
    {
     "name": "stderr",
     "output_type": "stream",
     "text": [
      "/Users/giovannivolpe/Documents/GitHub/DeepLearningCrashCourse/py_env_dlcc/lib/python3.12/site-packages/lightning/pytorch/trainer/connectors/logger_connector/logger_connector.py:75: Starting from v1.9.0, `tensorboardX` has been removed as a dependency of the `lightning.pytorch` package, due to potential conflicts with other packages in the ML ecosystem. For this reason, `logger=True` will use `CSVLogger` as the default logger, unless the `tensorboard` or `tensorboardX` packages are found. Please `pip install lightning[extra]` or one of them to enable TensorBoard support by default\n",
      "/Users/giovannivolpe/Documents/GitHub/DeepLearningCrashCourse/py_env_dlcc/lib/python3.12/site-packages/lightning/pytorch/trainer/configuration_validator.py:74: You defined a `validation_step` but have no `val_dataloader`. Skipping val loop.\n"
     ]
    },
    {
     "data": {
      "text/html": [
       "<pre style=\"white-space:pre;overflow-x:auto;line-height:normal;font-family:Menlo,'DejaVu Sans Mono',consolas,'Courier New',monospace\">┏━━━┳━━━━━━━━━━━━━━━┳━━━━━━━━━━━━━━━━━━┳━━━━━━━━┓\n",
       "┃<span style=\"color: #800080; text-decoration-color: #800080; font-weight: bold\">   </span>┃<span style=\"color: #800080; text-decoration-color: #800080; font-weight: bold\"> Name          </span>┃<span style=\"color: #800080; text-decoration-color: #800080; font-weight: bold\"> Type             </span>┃<span style=\"color: #800080; text-decoration-color: #800080; font-weight: bold\"> Params </span>┃\n",
       "┡━━━╇━━━━━━━━━━━━━━━╇━━━━━━━━━━━━━━━━━━╇━━━━━━━━┩\n",
       "│<span style=\"color: #7f7f7f; text-decoration-color: #7f7f7f\"> 0 </span>│ in_vocab      │ Vocab            │      0 │\n",
       "│<span style=\"color: #7f7f7f; text-decoration-color: #7f7f7f\"> 1 </span>│ out_vocab     │ Vocab            │      0 │\n",
       "│<span style=\"color: #7f7f7f; text-decoration-color: #7f7f7f\"> 2 </span>│ model         │ Seq2SeqModel     │  5.9 M │\n",
       "│<span style=\"color: #7f7f7f; text-decoration-color: #7f7f7f\"> 3 </span>│ train_metrics │ MetricCollection │      0 │\n",
       "│<span style=\"color: #7f7f7f; text-decoration-color: #7f7f7f\"> 4 </span>│ val_metrics   │ MetricCollection │      0 │\n",
       "│<span style=\"color: #7f7f7f; text-decoration-color: #7f7f7f\"> 5 </span>│ test_metrics  │ MetricCollection │      0 │\n",
       "│<span style=\"color: #7f7f7f; text-decoration-color: #7f7f7f\"> 6 </span>│ optimizer     │ Adam             │      0 │\n",
       "└───┴───────────────┴──────────────────┴────────┘\n",
       "</pre>\n"
      ],
      "text/plain": [
       "┏━━━┳━━━━━━━━━━━━━━━┳━━━━━━━━━━━━━━━━━━┳━━━━━━━━┓\n",
       "┃\u001b[1;35m \u001b[0m\u001b[1;35m \u001b[0m\u001b[1;35m \u001b[0m┃\u001b[1;35m \u001b[0m\u001b[1;35mName         \u001b[0m\u001b[1;35m \u001b[0m┃\u001b[1;35m \u001b[0m\u001b[1;35mType            \u001b[0m\u001b[1;35m \u001b[0m┃\u001b[1;35m \u001b[0m\u001b[1;35mParams\u001b[0m\u001b[1;35m \u001b[0m┃\n",
       "┡━━━╇━━━━━━━━━━━━━━━╇━━━━━━━━━━━━━━━━━━╇━━━━━━━━┩\n",
       "│\u001b[2m \u001b[0m\u001b[2m0\u001b[0m\u001b[2m \u001b[0m│ in_vocab      │ Vocab            │      0 │\n",
       "│\u001b[2m \u001b[0m\u001b[2m1\u001b[0m\u001b[2m \u001b[0m│ out_vocab     │ Vocab            │      0 │\n",
       "│\u001b[2m \u001b[0m\u001b[2m2\u001b[0m\u001b[2m \u001b[0m│ model         │ Seq2SeqModel     │  5.9 M │\n",
       "│\u001b[2m \u001b[0m\u001b[2m3\u001b[0m\u001b[2m \u001b[0m│ train_metrics │ MetricCollection │      0 │\n",
       "│\u001b[2m \u001b[0m\u001b[2m4\u001b[0m\u001b[2m \u001b[0m│ val_metrics   │ MetricCollection │      0 │\n",
       "│\u001b[2m \u001b[0m\u001b[2m5\u001b[0m\u001b[2m \u001b[0m│ test_metrics  │ MetricCollection │      0 │\n",
       "│\u001b[2m \u001b[0m\u001b[2m6\u001b[0m\u001b[2m \u001b[0m│ optimizer     │ Adam             │      0 │\n",
       "└───┴───────────────┴──────────────────┴────────┘\n"
      ]
     },
     "metadata": {},
     "output_type": "display_data"
    },
    {
     "data": {
      "text/html": [
       "<pre style=\"white-space:pre;overflow-x:auto;line-height:normal;font-family:Menlo,'DejaVu Sans Mono',consolas,'Courier New',monospace\"><span style=\"font-weight: bold\">Trainable params</span>: 1.3 M                                                                                            \n",
       "<span style=\"font-weight: bold\">Non-trainable params</span>: 4.6 M                                                                                        \n",
       "<span style=\"font-weight: bold\">Total params</span>: 5.9 M                                                                                                \n",
       "<span style=\"font-weight: bold\">Total estimated model params size (MB)</span>: 23                                                                         \n",
       "</pre>\n"
      ],
      "text/plain": [
       "\u001b[1mTrainable params\u001b[0m: 1.3 M                                                                                            \n",
       "\u001b[1mNon-trainable params\u001b[0m: 4.6 M                                                                                        \n",
       "\u001b[1mTotal params\u001b[0m: 5.9 M                                                                                                \n",
       "\u001b[1mTotal estimated model params size (MB)\u001b[0m: 23                                                                         \n"
      ]
     },
     "metadata": {},
     "output_type": "display_data"
    },
    {
     "data": {
      "application/vnd.jupyter.widget-view+json": {
       "model_id": "96fd9936134a412cab12d9770b933dad",
       "version_major": 2,
       "version_minor": 0
      },
      "text/plain": [
       "Output()"
      ]
     },
     "metadata": {},
     "output_type": "display_data"
    },
    {
     "name": "stderr",
     "output_type": "stream",
     "text": [
      "/Users/giovannivolpe/Documents/GitHub/DeepLearningCrashCourse/py_env_dlcc/lib/python3.12/site-packages/lightning/pytorch/trainer/connectors/data_connector.py:441: The 'train_dataloader' does not have many workers which may be a bottleneck. Consider increasing the value of the `num_workers` argument` to `num_workers=10` in the `DataLoader` to improve performance.\n"
     ]
    },
    {
     "data": {
      "text/html": [
       "<pre style=\"white-space:pre;overflow-x:auto;line-height:normal;font-family:Menlo,'DejaVu Sans Mono',consolas,'Courier New',monospace\"></pre>\n"
      ],
      "text/plain": []
     },
     "metadata": {},
     "output_type": "display_data"
    },
    {
     "data": {
      "text/html": [
       "<pre style=\"white-space:pre;overflow-x:auto;line-height:normal;font-family:Menlo,'DejaVu Sans Mono',consolas,'Courier New',monospace\">\n",
       "</pre>\n"
      ],
      "text/plain": [
       "\n"
      ]
     },
     "metadata": {},
     "output_type": "display_data"
    },
    {
     "data": {
      "text/plain": [
       "(<Figure size 1500x500 with 1 Axes>,\n",
       " array([[<Axes: title={'center': 'Loss'}, xlabel='Step'>]], dtype=object))"
      ]
     },
     "execution_count": 15,
     "metadata": {},
     "output_type": "execute_result"
    },
    {
     "data": {
      "image/png": "[encoded data removed]",
      "text/plain": [
       "<Figure size 1500x500 with 1 Axes>"
      ]
     },
     "metadata": {},
     "output_type": "display_data"
    }
   ],
   "source": [
    "trainer = dl.Trainer(max_epochs=25, accelerator=\"auto\")\n",
    "trainer.fit(seq2seq, train_loader)\n",
    "trainer.history.plot()"
   ]
  },
  {
   "cell_type": "code",
   "execution_count": 16,
   "metadata": {},
   "outputs": [],
   "source": [
    "def unprocess(sequences, vocab):\n",
    "    \"\"\"Convert numeric sequences to sentences.\"\"\"\n",
    "    sentences = []\n",
    "    for sequence in sequences:\n",
    "        idxs = sequence[sequence > 2]\n",
    "        words = [vocab.lookup_token(idx) for idx in idxs]\n",
    "        sentences.append(\" \".join(words))\n",
    "    return sentences\n"
   ]
  },
  {
   "cell_type": "code",
   "execution_count": 17,
   "metadata": {},
   "outputs": [],
   "source": [
    "def translate(source_text, model, input_lang, vocab_input, vocab_target):\n",
    "    \"\"\"Translate sentences.\"\"\"\n",
    "    query_tokens = tokenize(source_text, input_lang)\n",
    "    query_tokens = pad_sentence(query_tokens)\n",
    "    query_indices = vocab_input(query_tokens)\n",
    "    if 3 in query_indices:\n",
    "        print(\"Warning: Unknown word(s) found in the input text. \"\n",
    "              + \"They were replaced by the placeholder token.\")\n",
    "\n",
    "    source_sequence = torch.tensor(query_indices, dtype=torch.int).unsqueeze(0)\n",
    "\n",
    "    source_sequence = source_sequence.to(next(model.parameters()).device)\n",
    "    y_hat = model.evaluate(source_sequence)\n",
    "\n",
    "    translated_text = unprocess(y_hat, vocab_target)\n",
    "    print(f\"Input Sentence: {source_text}\")\n",
    "    print(f\"Predicted Translation: {translated_text[0]}\\n\")"
   ]
  },
  {
   "cell_type": "code",
   "execution_count": 18,
   "metadata": {},
   "outputs": [
    {
     "name": "stdout",
     "output_type": "stream",
     "text": [
      "Warning: Unknown word(s) found in the input text. They were replaced by the placeholder token.\n",
      "Input Sentence: Do you think that we should go home?\n",
      "Predicted Translation: I usually make me angry .\n",
      "\n"
     ]
    }
   ],
   "source": [
    "source_text = \"Do you think that we should go home?\"\n",
    "translate(source_text, seq2seq.model, input_lang, vocab_input, vocab_target)"
   ]
  },
  {
   "cell_type": "code",
   "execution_count": 19,
   "metadata": {},
   "outputs": [
    {
     "name": "stdout",
     "output_type": "stream",
     "text": [
      "Warning: Unknown word(s) found in the input text. They were replaced by the placeholder token.\n",
      "Input Sentence: The book that I bought is very interesting.\n",
      "Predicted Translation: I tried to help me , but I ate .\n",
      "\n"
     ]
    }
   ],
   "source": [
    "source_text = \"The book that I bought is very interesting.\"\n",
    "translate(source_text, seq2seq.model, input_lang, vocab_input, vocab_target)"
   ]
  },
  {
   "cell_type": "code",
   "execution_count": 20,
   "metadata": {},
   "outputs": [],
   "source": [
    "from torchmetrics.text import BLEUScore\n",
    "\n",
    "bleu_score = BLEUScore()"
   ]
  },
  {
   "cell_type": "code",
   "execution_count": 21,
   "metadata": {},
   "outputs": [
    {
     "name": "stdout",
     "output_type": "stream",
     "text": [
      "\n",
      "Examples from batch 1:\n",
      "\n",
      "Input Sentence: Tom admitió que había cometido el homicidio .\n",
      "Predicted Translation: Tom thought that he had been the murder .\n",
      "Actual Translation: Tom admitted that he had committed the murder .\n",
      "\n",
      "Input Sentence: Él habría tenido éxito .\n",
      "Predicted Translation: He had been unsuccessful .\n",
      "Actual Translation: He would have succeeded .\n",
      "\n",
      "Input Sentence: Todavía tienes tiempo suficiente .\n",
      "Predicted Translation: still enough .\n",
      "Actual Translation: You still have enough time .\n",
      "\n",
      "Examples from batch 2:\n",
      "\n",
      "Input Sentence: ¡ No duele tanto !\n",
      "Predicted Translation: She is very afraid .\n",
      "Actual Translation: It hurt so much .\n",
      "\n",
      "Input Sentence: ¿ Tom es tu sobrino ?\n",
      "Predicted Translation: Is Tom your your ?\n",
      "Actual Translation: Is Tom your nephew ?\n",
      "\n",
      "Input Sentence: ¿ Cómo se llevan por estos días ?\n",
      "Predicted Translation: How much of this makes days ?\n",
      "Actual Translation: How are you getting along these days ?\n",
      "\n",
      "Examples from batch 3:\n",
      "\n",
      "Input Sentence: ¿ De quién es esta letra ?\n",
      "Predicted Translation: Whose lyrics is this ?\n",
      "Actual Translation: Whose handwriting is this ?\n",
      "\n",
      "Input Sentence: Tom tuvo un día malo .\n",
      "Predicted Translation: Tom had a bad day .\n",
      "Actual Translation: Tom had a bad day .\n",
      "\n",
      "Input Sentence: No tengo idea de cómo usar esta cosa .\n",
      "Predicted Translation: I have no idea how important to me .\n",
      "Actual Translation: I have no idea how to use this thing .\n",
      "\n",
      "Validation BLEU Score: 0.288\n"
     ]
    }
   ],
   "source": [
    "device = next(seq2seq.model.parameters()).device\n",
    "\n",
    "for batch_index, (inputs, targets) in enumerate(test_loader):\n",
    "    inputs, targets = inputs.to(device), targets.to(device)\n",
    "    y_hat = seq2seq.model.evaluate((inputs, targets))\n",
    "\n",
    "    input_un = unprocess(inputs, vocab_input)\n",
    "    y_hat_un = unprocess(y_hat, vocab_target)\n",
    "    target_un = unprocess(targets, vocab_target)\n",
    "    y = [[yi] for yi in target_un]\n",
    "\n",
    "    bleu_score.update(y_hat_un, y)\n",
    "\n",
    "    if batch_index < 3:\n",
    "        print(f\"\\nExamples from batch {batch_index + 1}:\")\n",
    "        for i in range(min(3, len(input_un))):\n",
    "            print(f\"\\nInput Sentence: {input_un[i]}\")\n",
    "            print(f\"Predicted Translation: {y_hat_un[i]}\")\n",
    "            print(f\"Actual Translation: {target_un[i]}\")\n",
    "\n",
    "final_bleu = bleu_score.compute()\n",
    "print(f\"\\nValidation BLEU Score: {final_bleu:.3f}\")"
   ]
  }
 ],
 "metadata": {
  "kernelspec": {
   "display_name": "py_env_dlcc",
   "language": "python",
   "name": "python3"
  },
  "language_info": {
   "codemirror_mode": {
    "name": "ipython",
    "version": 3
   },
   "file_extension": ".py",
   "mimetype": "text/x-python",
   "name": "python",
   "nbconvert_exporter": "python",
   "pygments_lexer": "ipython3",
   "version": "3.12.2"
  }
 },
 "nbformat": 4,
 "nbformat_minor": 2
}
