{
  "cells": [
    {
      "cell_type": "markdown",
      "metadata": {},
      "source": [
        "# Recurrent Neural Networks\n",
        "\n",
        "We'll introduce the concept of recurrent neural networks, which explicitly model the time-dependency of their inputs to facilitate the analysis of sequential data. We'll demonstrate this functionality using a weather forecasting dataset in a classic time-series analysis approach.\n"
      ]
    },
    {
      "cell_type": "markdown",
      "metadata": {
        "id": "dFVpPnIxlo4w"
      },
      "source": [
        "# Implement a Simple Recurrent Neural Network\n",
        "\n",
        "We start with an example implementing the feed-forward pass of a recurrent neural network in NumPy. To keep things simple, we assume that the signal is a scalar value containing a single feature. \n"
      ]
    },
    {
      "cell_type": "code",
      "execution_count": null,
      "metadata": {},
      "outputs": [],
      "source": [
        "import numpy as np\n",
        "\n",
        "def sigmoid(x):\n",
        "    \"\"\"Simple implementation of sigmoid function.\"\"\"\n",
        "    return 1 / (1 + np.exp(-x))\n",
        "\n",
        "input_series = [0, 1, 1, 2, 3, 5, 8]\n",
        "output_series = []\n",
        "\n",
        "state = 0\n",
        "U, V, W, b = [np.random.normal() for _ in range(4)]\n",
        "for t in input_series:\n",
        "  hidden = sigmoid(np.dot(U, t) + np.dot(V, state) + b)\n",
        "  output = sigmoid(np.dot(hidden, W))\n",
        "  state = output\n",
        "  output_series.append(output)\n",
        "\n",
        "print(f\"Input Series: {[f'{x:.2f}' for x in input_series]}\")\n",
        "print(f\"Output Series: {[f'{x:.2f}' for x in output_series]}\")"
      ]
    },
    {
      "cell_type": "markdown",
      "metadata": {},
      "source": [
        "## Load Weather Dataset\n",
        "\n",
        "We download the uncompressed dataset of the Jena Climate Dataset from https://s3.amazonaws.com/keras-datasets/jena_climate_2009_2016.csv.zip.\n",
        "\n",
        "More information on this dataset can be found at https://www.bgc-jena.mpg.de/wetter/."
      ]
    },
    {
      "cell_type": "code",
      "execution_count": null,
      "metadata": {},
      "outputs": [],
      "source": [
        "import os\n",
        "from torchvision.datasets.utils import download_url, _extract_zip\n",
        "\n",
        "dataset_path = os.path.join(\".\", \"weather_dataset\")\n",
        "if not os.path.exists(dataset_path):\n",
        "    url = \"https://s3.amazonaws.com/keras-datasets/jena_climate_2009_2016.csv.zip\"\n",
        "    download_url(url, \".\")\n",
        "    _extract_zip(\"jena_climate_2009_2016.csv.zip\", dataset_path, None)\n",
        "    os.remove(\"jena_climate_2009_2016.csv.zip\")"
      ]
    },
    {
      "cell_type": "markdown",
      "metadata": {},
      "source": [
        "This dataset contains 14 weather measurements in a `.csv` file. Their meaning is shown in the header."
      ]
    },
    {
      "cell_type": "code",
      "execution_count": null,
      "metadata": {},
      "outputs": [],
      "source": [
        "import csv\n",
        "    \n",
        "filename = os.path.join(dataset_path, 'jena_climate_2009_2016.csv')\n",
        "with open(filename) as f:\n",
        "    reader = csv.reader(f)\n",
        "    header = next(reader)\n",
        "    data = []\n",
        "    for row in reader:\n",
        "        data.append(row[1:])  # The first value ('Date Time') is excluded.\n",
        "    data = np.asarray(data).astype(float)\n",
        "\n",
        "print(header)"
      ]
    },
    {
      "cell_type": "markdown",
      "metadata": {},
      "source": [
        "## Visualize Data\n",
        "\n",
        "We now visualize the 14 measured features of the dataset. "
      ]
    },
    {
      "cell_type": "code",
      "execution_count": null,
      "metadata": {},
      "outputs": [],
      "source": [
        "import matplotlib.pyplot as plt\n",
        "\n",
        "def plot_data(data, start=0, samples_per_cycle=144, cycles=14):\n",
        "    \"\"\"Plot data highlighting periodic cycles.\"\"\"\n",
        "\n",
        "    fig, axes = plt.subplots(7, 2, figsize=(16, 12), sharex=True)\n",
        "\n",
        "    for i, ax in enumerate(axes.flatten()):\n",
        "        ax.plot(np.arange(start, start + samples_per_cycle * cycles),\n",
        "                data[start:start + samples_per_cycle * cycles, i], \n",
        "                label=header[i + 1])\n",
        "        ax.legend()\n",
        "        ax.set_xlim(start, start + samples_per_cycle * cycles)\n",
        "        \n",
        "        for cycle in range(1, cycles):\n",
        "            ax.axvline(x=start + cycle * samples_per_cycle, \n",
        "                    color='gray', linestyle='--', linewidth=0.5)\n",
        "\n",
        "    plt.tight_layout()\n",
        "    plt.show()"
      ]
    },
    {
      "cell_type": "code",
      "execution_count": null,
      "metadata": {},
      "outputs": [],
      "source": [
        "#from fnc_rnn import plot_data\n",
        "\n",
        "daily_samples=144\n",
        "n_days = 14\n",
        "\n",
        "plot_data(data, samples_per_cycle=daily_samples, cycles=n_days)\n"
      ]
    },
    {
      "cell_type": "markdown",
      "metadata": {},
      "source": [
        "## Preprocess Data"
      ]
    },
    {
      "cell_type": "markdown",
      "metadata": {},
      "source": [
        "We start by removing the mean from the data and normalizing them by their standard deviation."
      ]
    },
    {
      "cell_type": "code",
      "execution_count": null,
      "metadata": {},
      "outputs": [],
      "source": [
        "data -= data.mean(axis=0)\n",
        "data /= data.std(axis=0)\n",
        "\n",
        "plot_data(data, samples_per_cycle=daily_samples, cycles=n_days)"
      ]
    },
    {
      "cell_type": "markdown",
      "metadata": {},
      "source": [
        "We now preprocess the data into time series to input into the neural network model, that is, they need to be of shape (batch size, number of samples, number of feature)."
      ]
    },
    {
      "cell_type": "code",
      "execution_count": null,
      "metadata": {},
      "outputs": [],
      "source": [
        "n_samples = data.shape[0]\n",
        "n_features = data.shape[1]\n",
        "pred_window = 288  # Length of the sequences to be fed to the RNN.\n",
        "pred_lag = pred_window + 72  # How many time_steps ahead in time the RNN should predict temperature. 1 very easy. 18 used for course. 144 = 1 day\n",
        "\n",
        "inputs, targets = [], []\n",
        "for i in range(0, n_samples - pred_lag, pred_window):\n",
        "    inputs.append(data[i:i + pred_window, :])\n",
        "    targets.append(data[i + + pred_lag:i + pred_lag + 1, 2])\n",
        "inputs = np.asarray(inputs)\n",
        "targets = np.asarray(targets)\n",
        "\n",
        "print(inputs.shape)\n",
        "print(targets.shape)\n"
      ]
    },
    {
      "cell_type": "markdown",
      "metadata": {
        "id": "OFZUOqT9Rt-U"
      },
      "source": [
        "<!--<badge>--><a href=\"https://colab.research.google.com/github/softmatterlab/DeepTrack-2.0/blob/develop/examples/module-examples/models_example.ipynb\" target=\"_parent\"><img src=\"https://colab.research.google.com/assets/colab-badge.svg\" alt=\"Open In Colab\"/></a><!--</badge>-->"
      ]
    },
    {
      "cell_type": "markdown",
      "metadata": {
        "id": "P5PsOxRzRt-W"
      },
      "source": [
        "# PyTorch RNN model\n",
        "\n",
        "This example introduces the module RNN in PyTorch."
      ]
    },
    {
      "cell_type": "code",
      "execution_count": null,
      "metadata": {
        "id": "UH7b-1TGlkTm"
      },
      "outputs": [],
      "source": [
        "import torch\n",
        "import torch.nn as nn\n",
        "\n",
        "input_size = input.shape[-1] # Define based on your dataset\n",
        "hidden_units = 2  # Example hidden units\n",
        "\n",
        "# Define the RNN and Linear layers separately\n",
        "rnn = nn.RNN(input_size=input_size, hidden_size=hidden_units, batch_first=True)\n",
        "fc = nn.Linear(hidden_units, 1)\n",
        "\n",
        "# Loss and Optimizer\n",
        "criterion = nn.L1Loss()  # MAE Loss\n",
        "optimizer = torch.optim.Adam(list(rnn.parameters()) + list(fc.parameters()), lr=0.001)\n",
        "\n"
      ]
    },
    {
      "cell_type": "code",
      "execution_count": null,
      "metadata": {},
      "outputs": [],
      "source": [
        "from torch.utils.data import random_split,TensorDataset, DataLoader\n",
        "\n",
        "def create_data_loader(input_data, target_data, batch_size=32):\n",
        "\n",
        "    # Convert to PyTorch tensors\n",
        "    input_tensor = torch.tensor(input_data, dtype=torch.float32)\n",
        "    target_tensor = torch.tensor(target_data, dtype=torch.float32)\n",
        "\n",
        "    # Splitting the dataset into training and validation\n",
        "    train_dataset = TensorDataset(input_tensor[:nr_of_sequences], target_tensor[:nr_of_sequences])\n",
        "    train_dataset,val_dataset = random_split(train_dataset, [0.8, 0.2])\n",
        "    # Creating data loaders\n",
        "    train_loader = DataLoader(train_dataset, batch_size=batch_size, shuffle=False)\n",
        "    val_loader = DataLoader(val_dataset, batch_size=batch_size,shuffle=False)\n",
        "\n",
        "    return train_loader, val_loader\n",
        "\n",
        "def create_benchmark(val_loader): #generate benchmark for comparison, i.e. predict T_t = T_{t-1}\n",
        "\n",
        "    mae_benchmark=[]\n",
        "    for inputs, targets in val_loader:\n",
        "        val_predict_sequence = inputs[:, -1, 2]\n",
        "        val_target_sequence = targets[:, 0]\n",
        "        ae=torch.abs(val_predict_sequence - val_target_sequence)\n",
        "        mae_benchmark.append(ae)\n",
        "\n",
        "    mae_benchmark=torch.cat(mae_benchmark)\n",
        "    mae_benchmark=torch.mean(mae_benchmark)\n",
        "    return mae_benchmark\n",
        "\n",
        "def train_model(rnn,fc, nr_of_sequences, epochs, criterion, optimizer,train_loader,val_loader):\n",
        "\n",
        "    rnn.train()\n",
        "    fc.train()\n",
        "    train_losses = []\n",
        "    val_losses = []\n",
        "\n",
        "# Training Loop\n",
        "    for epoch in range(epochs):\n",
        "        running_loss = 0.0\n",
        "        for inputs, targets in train_loader:\n",
        "            optimizer.zero_grad()\n",
        "\n",
        "            # RNN layer\n",
        "            rnn_out, _ = rnn(inputs)\n",
        "            \n",
        "            # Selecting the last output for each sequence\n",
        "            rnn_out = rnn_out[:, -1, :]\n",
        "            \n",
        "            # Linear layer\n",
        "            outputs = fc(rnn_out)\n",
        "            \n",
        "            loss = criterion(outputs, targets)\n",
        "            loss.backward()\n",
        "            optimizer.step()\n",
        "            running_loss += loss.item()\n",
        "\n",
        "        train_losses.append(running_loss / len(train_loader))\n",
        "\n",
        "        # Validation loop\n",
        "        rnn.eval()\n",
        "        fc.eval()\n",
        "        val_loss = 0.0\n",
        "        with torch.no_grad():\n",
        "            for inputs, targets in val_loader:\n",
        "                # RNN layer\n",
        "                rnn_out, _ = rnn(inputs)\n",
        "                \n",
        "                # Selecting the last output for each sequence\n",
        "                rnn_out = rnn_out[:, -1, :]\n",
        "                \n",
        "                # Linear layer\n",
        "                outputs = fc(rnn_out)\n",
        "                loss = criterion(outputs, targets)\n",
        "                val_loss += loss.item()\n",
        "\n",
        "        val_losses.append(val_loss / len(val_loader))\n",
        "        print(\"Current Training Loss: {:.4f}\".format(train_losses[-1])+ \" Current Validation Loss: {:.4f}\".format(val_losses[-1]))\n",
        "\n",
        "    # Generate predictions on validation set\n",
        "    with torch.no_grad():\n",
        "        val_input_tensor = torch.tensor(input_data[nr_of_sequences:], dtype=torch.float32)\n",
        "        val_rnn_out, _ = rnn(val_input_tensor)\n",
        "        val_rnn_out = val_rnn_out[:, -1, :]\n",
        "        val_predict_sequence = fc(val_rnn_out).numpy()\n",
        "        val_target_sequence = target_data[nr_of_sequences:]\n",
        "    return train_losses, val_losses,val_predict_sequence,val_target_sequence\n",
        "\n",
        "import matplotlib.pyplot as plt\n",
        "\n",
        "def plot_losses(train_losses, val_losses,mae_benchmark):\n",
        "    plt.figure(figsize=(12, 12))\n",
        "    plt.scatter(len(train_losses),mae_benchmark,marker='x',c='red', label=r\"$T_t \\approx T_{t-1}$\")\n",
        "    plt.plot(train_losses, label=\"Training loss\")\n",
        "    plt.plot(val_losses, label=\"Validation loss\")\n",
        "    plt.legend(loc=\"best\")\n",
        "    plt.title(\"Loss over epochs\")\n",
        "    plt.grid(True)\n",
        "    plt.show()\n",
        "\n",
        "def train_and_plot(rnn,fc, nr_of_sequences, epochs,criterion, optimizer,train_loader,val_loader):\n",
        "    train_losses, val_losses,val_predict_sequence,val_target_sequence = train_model(rnn,fc, nr_of_sequences,epochs,criterion,optimizer,train_loader, val_loader)\n",
        "    plot_losses(train_losses, val_losses,mae_benchmark)\n",
        "    return val_predict_sequence,val_target_sequence\n",
        "\n",
        "\n",
        "nr_of_sequences=1600\n",
        "epochs=50\n",
        "train_loader, val_loader = create_data_loader(input_data, target_data)\n",
        "mae_benchmark=create_benchmark(val_loader)\n",
        "val_predict_sequence,val_target_sequence = train_and_plot(rnn,fc,nr_of_sequences,epochs,criterion,optimizer,train_loader, val_loader)"
      ]
    },
    {
      "cell_type": "markdown",
      "metadata": {},
      "source": [
        "We implement the RNN in deeplay."
      ]
    },
    {
      "cell_type": "code",
      "execution_count": null,
      "metadata": {},
      "outputs": [],
      "source": [
        "rnn = dl.RNN(in_features=14,hidden_features=[hidden_units],out_features=1,rnn_type=\"RNN\")\n",
        "model = dl.Regressor(rnn,optimizer=dl.Adam(lr=0.001))\n",
        "model=model.create()\n",
        "print(model)\n",
        "\n",
        "from lightning.pytorch.callbacks import Callback\n",
        "class LossHistory(Callback):\n",
        "    def on_train_start(self, trainer, pl_module):\n",
        "        self.train_losses = []\n",
        "        self.val_losses = []\n",
        "\n",
        "    def on_train_epoch_end(self, trainer, pl_module):\n",
        "        train_loss = trainer.callback_metrics.get('train_loss')\n",
        "        if train_loss is not None:\n",
        "            self.train_losses.append(train_loss.item())\n",
        "        val_loss = trainer.callback_metrics.get('val_loss')\n",
        "        if train_loss is not None:\n",
        "            self.val_losses.append(val_loss.item())\n",
        "\n",
        "loss_history = LossHistory()\n",
        "trainer = dl.Trainer(max_epochs=epochs, callbacks=[loss_history],accelerator=\"auto\")\n",
        "trainer.fit(model, train_loader,val_dataloaders=val_loader)\n",
        "\n",
        "plot_losses(loss_history.train_losses, loss_history.val_losses,mae_benchmark)"
      ]
    },
    {
      "cell_type": "markdown",
      "metadata": {},
      "source": [
        "Stacked RNN in Deeplay"
      ]
    },
    {
      "cell_type": "code",
      "execution_count": null,
      "metadata": {
        "id": "TT6m6j4Rv800"
      },
      "outputs": [],
      "source": [
        "\n",
        "hidden_features=[32,32,32,32]\n",
        "rnn = dl.RNN(in_features=14,hidden_features=hidden_features,out_features=1,rnn_type=\"RNN\")\n",
        "model = dl.Regressor(rnn,optimizer=dl.Adam(lr=0.001))\n",
        "model=model.create()\n",
        "print(model)\n",
        "\n",
        "trainer = dl.Trainer(max_epochs=epochs, callbacks=[loss_history],accelerator=\"auto\")\n",
        "trainer.fit(model, train_loader,val_dataloaders=val_loader)\n",
        "plot_losses(loss_history.train_losses, loss_history.val_losses,mae_benchmark)\n"
      ]
    },
    {
      "cell_type": "markdown",
      "metadata": {},
      "source": [
        "Configure to stacked GRU instead"
      ]
    },
    {
      "cell_type": "code",
      "execution_count": null,
      "metadata": {
        "id": "t3dmlkwZfxE9"
      },
      "outputs": [],
      "source": [
        "rnn.blocks[:-1].layer.configure(torch.nn.GRU)\n",
        "model = dl.Regressor(rnn)\n",
        "model=model.create()\n",
        "print(model)\n",
        "\n",
        "trainer = dl.Trainer(max_epochs=epochs, callbacks=[loss_history],accelerator=\"auto\")\n",
        "trainer.fit(model, train_loader,val_dataloaders=val_loader)\n",
        "\n",
        "plot_losses(loss_history.train_losses, loss_history.val_losses,mae_benchmark)"
      ]
    },
    {
      "cell_type": "markdown",
      "metadata": {},
      "source": [
        "Configure to stacked LSTM instead"
      ]
    },
    {
      "cell_type": "code",
      "execution_count": null,
      "metadata": {
        "id": "u-kH-Nf7hfSs"
      },
      "outputs": [],
      "source": [
        "rnn.blocks[:-1].layer.configure(torch.nn.LSTM)\n",
        "model = dl.Regressor(rnn)\n",
        "model=model.create()\n",
        "print(model)\n",
        "\n",
        "trainer = dl.Trainer(max_epochs=epochs, callbacks=[loss_history],accelerator=\"auto\")\n",
        "trainer.fit(model, train_loader,val_dataloaders=val_loader)\n",
        "\n",
        "plot_losses(loss_history.train_losses, loss_history.val_losses,mae_benchmark)"
      ]
    },
    {
      "cell_type": "markdown",
      "metadata": {},
      "source": [
        "Introduce dropout to prevent overfitting"
      ]
    },
    {
      "cell_type": "code",
      "execution_count": null,
      "metadata": {},
      "outputs": [],
      "source": [
        "\n",
        "rnn.blocks.dropout.configure(p=0.2)\n",
        "model = dl.Regressor(rnn)\n",
        "model=model.create()\n",
        "print(model)\n",
        "\n",
        "trainer = dl.Trainer(max_epochs=50, callbacks=[loss_history],accelerator=\"auto\")\n",
        "trainer.fit(model, train_loader,val_dataloaders=val_loader)\n",
        "\n",
        "plot_losses(loss_history.train_losses, loss_history.val_losses,mae_benchmark)"
      ]
    },
    {
      "cell_type": "markdown",
      "metadata": {},
      "source": [
        "Introduce dense preprocessor in feature space"
      ]
    },
    {
      "cell_type": "code",
      "execution_count": null,
      "metadata": {
        "id": "5cxClS-5_Oto"
      },
      "outputs": [],
      "source": [
        "hidden_size=32\n",
        "hidden_features=[hidden_size]*4\n",
        "dense_features=[hidden_size]*2\n",
        "\n",
        "dense_preprocessor = dl.MultiLayerPerceptron(in_features=None,hidden_features=dense_features,out_features=hidden_features[0])\n",
        "dense_preprocessor.dropout.configure(p=0.2)\n",
        "\n",
        "rnn=dl.RNN(in_features=hidden_features[0],hidden_features=hidden_features,out_features=1,dropout=0.2,rnn_type=\"LSTM\")\n",
        "\n",
        "# Custom Reshape Layer\n",
        "class Reshape(nn.Module):\n",
        "    def __init__(self, new_shape):\n",
        "        super(Reshape, self).__init__()\n",
        "        self.new_shape = new_shape\n",
        "\n",
        "    def forward(self, x):\n",
        "        return x.view(self.new_shape)\n",
        "    \n",
        "dense_rnn = dl.Sequential(torch.nn.Flatten(start_dim=0,end_dim=1),dense_preprocessor,Reshape((-1, time_steps,hidden_features[-1])),rnn)\n",
        "   \n",
        "model = dl.Regressor(dense_rnn) \n",
        "model=model.create()\n",
        "print(model)\n",
        "\n",
        "trainer = dl.Trainer(max_epochs=50, callbacks=[loss_history],accelerator=\"auto\")\n",
        "trainer.fit(model, train_loader,val_dataloaders=val_loader)\n",
        "\n",
        "plot_losses(loss_history.train_losses, loss_history.val_losses,mae_benchmark)"
      ]
    }
  ],
  "metadata": {
    "colab": {
      "provenance": []
    },
    "kernelspec": {
      "display_name": "Python 3",
      "language": "python",
      "name": "python3"
    },
    "language_info": {
      "codemirror_mode": {
        "name": "ipython",
        "version": 3
      },
      "file_extension": ".py",
      "mimetype": "text/x-python",
      "name": "python",
      "nbconvert_exporter": "python",
      "pygments_lexer": "ipython3",
      "version": "3.10.13"
    }
  },
  "nbformat": 4,
  "nbformat_minor": 0
}
