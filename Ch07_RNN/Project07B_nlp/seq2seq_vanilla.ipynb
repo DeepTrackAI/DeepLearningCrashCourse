{
 "cells": [
  {
   "cell_type": "markdown",
   "metadata": {},
   "source": [
    "get corpus from https://www.manythings.org/anki/ "
   ]
  },
  {
   "cell_type": "code",
   "execution_count": 1,
   "metadata": {},
   "outputs": [],
   "source": [
    "import os\n",
    "\n",
    "input_lang = \"eng\"\n",
    "target_lang = \"spa\"\n",
    "\n",
    "if os.path.isfile(f\"{input_lang}-{target_lang}.txt\"):\n",
    "    filepath = f\"{input_lang}-{target_lang}.txt\"\n",
    "    reverse = False\n",
    "elif os.path.isfile(f\"{target_lang}-{input_lang}.txt\"):\n",
    "    filepath = f\"{target_lang}-{input_lang}.txt\"\n",
    "    reverse = True\n",
    "else:\n",
    "    raise FileNotFoundError(\"Missing training set for specified language pair\")"
   ]
  },
  {
   "cell_type": "code",
   "execution_count": 2,
   "metadata": {},
   "outputs": [
    {
     "name": "stdout",
     "output_type": "stream",
     "text": [
      "['I', 'am', 'building', 'a', 'translator', '!']\n",
      "['¡', 'Estoy', 'construyendo', 'un', 'traductor', '!']\n"
     ]
    }
   ],
   "source": [
    "from torchtext.data.utils import get_tokenizer\n",
    "import re\n",
    "import contractions\n",
    "\n",
    "tokenizer_eng = get_tokenizer(\"spacy\", language=\"en_core_web_sm\")\n",
    "tokenizer_spa = get_tokenizer(\"spacy\", language=\"es_core_news_sm\")\n",
    "\n",
    "\n",
    "def tokenize(text, lang=None):\n",
    "    if lang == \"eng\":\n",
    "        text = contractions.fix(text)\n",
    "        tokenizer = tokenizer_eng\n",
    "    elif lang == \"spa\":\n",
    "        tokenizer = tokenizer_spa\n",
    "    else:\n",
    "        raise NotImplementedError(\"Missing tokenizer for specified language \")\n",
    "\n",
    "    standardized_text = (\n",
    "        text.replace(\"’\", \"'\")\n",
    "        .replace(\"‘\", \"'\")\n",
    "        .replace(\"´\", \"'\")\n",
    "        .replace(\"“\", '\"')\n",
    "        .replace(\"”\", '\"')\n",
    "        .replace(\"´´\", '\"')\n",
    "    )\n",
    "    tokens = tokenizer(standardized_text)\n",
    "    filtered_tokens = [\n",
    "        token\n",
    "        for token in tokens\n",
    "        if re.match(\n",
    "            r\"^[a-zA-Z0-9áéíóúüñÁÉÍÓÚÜÑ.,!?¡¿]+(-[a-zA-Z0-9áéíóúüñÁÉÍÓÚÜÑ.,!?¡¿]+)*(_[a-zA-Z0-9áéíóúüñÁÉÍÓÚÜÑ.,!?¡¿]+)*$\",\n",
    "            token,\n",
    "        )\n",
    "    ]\n",
    "    return filtered_tokens\n",
    "\n",
    "\n",
    "#\n",
    "#\n",
    "#\n",
    "\n",
    "\n",
    "# Example usage:\n",
    "text_eng = \"I'm building a translator!\"\n",
    "text_spa = \"¡Estoy construyendo un traductor!\"\n",
    "print(tokenize(text_eng, lang=\"eng\"))\n",
    "print(tokenize(text_spa, lang=\"spa\"))"
   ]
  },
  {
   "cell_type": "markdown",
   "metadata": {},
   "source": [
    "define vocabularies from corpu as defined in next chapter"
   ]
  },
  {
   "cell_type": "code",
   "execution_count": 3,
   "metadata": {},
   "outputs": [],
   "source": [
    "def corpus_iterator(filepath, lang, reverse):\n",
    "    with open(filepath, \"r\", encoding=\"utf-8\") as file:\n",
    "\n",
    "        for line in file:\n",
    "\n",
    "            elems = line.strip().split(\"\\t\")\n",
    "            selected_text = elems[1 if reverse else 0]\n",
    "\n",
    "            yield tokenize(selected_text, lang)"
   ]
  },
  {
   "cell_type": "code",
   "execution_count": 4,
   "metadata": {},
   "outputs": [],
   "source": [
    "from torchtext.vocab import build_vocab_from_iterator\n",
    "\n",
    "\n",
    "def build_vocab(filepath, lang, reverse, specials=\"<unk>\", min_freq=5):\n",
    "    vocab = build_vocab_from_iterator(\n",
    "        corpus_iterator(filepath, lang, reverse),\n",
    "        min_freq=min_freq,\n",
    "        specials=specials,\n",
    "    )\n",
    "    vocab.set_default_index(vocab[specials[-1]])\n",
    "    return vocab\n",
    "\n",
    "\n",
    "special_tokens = [\"<pad>\", \"<sos>\", \"<eos>\", \"<unk>\"]\n",
    "\n",
    "vocab_input = build_vocab(filepath, input_lang, reverse, special_tokens)\n",
    "vocab_target = build_vocab(filepath, target_lang, not reverse, special_tokens)"
   ]
  },
  {
   "cell_type": "code",
   "execution_count": 5,
   "metadata": {},
   "outputs": [
    {
     "data": {
      "text/plain": [
       "6082"
      ]
     },
     "execution_count": 5,
     "metadata": {},
     "output_type": "execute_result"
    }
   ],
   "source": [
    "vocab_input.__len__()"
   ]
  },
  {
   "cell_type": "code",
   "execution_count": 6,
   "metadata": {},
   "outputs": [
    {
     "data": {
      "text/plain": [
       "'some'"
      ]
     },
     "execution_count": 6,
     "metadata": {},
     "output_type": "execute_result"
    }
   ],
   "source": [
    "vocab_input.lookup_token(120)"
   ]
  },
  {
   "cell_type": "markdown",
   "metadata": {},
   "source": [
    "process data "
   ]
  },
  {
   "cell_type": "code",
   "execution_count": 7,
   "metadata": {},
   "outputs": [],
   "source": [
    "import numpy as np\n",
    "\n",
    "\n",
    "def all_words_in_vocab(sentence, vocab):\n",
    "    return all(word in vocab for word in sentence)\n",
    "\n",
    "\n",
    "def pad_sentence(sequence, max_length=10):\n",
    "    padding_length = max_length - len(sequence)\n",
    "    return [\"<sos>\"] + sequence + [\"<eos>\"] + [\"<pad>\"] * padding_length\n",
    "\n",
    "\n",
    "def process_corpus(\n",
    "    lines,\n",
    "    reverse,\n",
    "    input_lang,\n",
    "    target_lang,\n",
    "    vocab_input,\n",
    "    vocab_target,\n",
    "    max_length=10,\n",
    "):\n",
    "    processed_inputs, processed_targets = [], []\n",
    "\n",
    "    for line in lines:\n",
    "        elems = line.strip().split(\"\\t\")\n",
    "\n",
    "        input_seq = tokenize(elems[int(reverse)], input_lang)\n",
    "        target_seq = tokenize(elems[int(not reverse)], target_lang)\n",
    "\n",
    "        if (\n",
    "            all_words_in_vocab(input_seq, vocab_input)\n",
    "            and all_words_in_vocab(target_seq, vocab_target)\n",
    "            and len(input_seq) <= max_length\n",
    "            and len(target_seq) <= max_length\n",
    "        ):\n",
    "            padded_input = pad_sentence(input_seq)\n",
    "            padded_target = pad_sentence(target_seq)\n",
    "\n",
    "            processed_inputs.append(vocab_input(padded_input))\n",
    "            processed_targets.append(vocab_target(padded_target))\n",
    "\n",
    "    return np.array(processed_inputs), np.array(processed_targets)\n",
    "\n",
    "\n",
    "with open(filepath, \"r\", encoding=\"utf-8\") as file:\n",
    "    inputs, targets = process_corpus(\n",
    "        file, reverse, input_lang, target_lang, vocab_input, vocab_target\n",
    "    )"
   ]
  },
  {
   "cell_type": "markdown",
   "metadata": {},
   "source": [
    "datasets, dataloader"
   ]
  },
  {
   "cell_type": "code",
   "execution_count": 8,
   "metadata": {},
   "outputs": [],
   "source": [
    "import deeptrack as dt\n",
    "import torch\n",
    "\n",
    "sources = dt.sources.Source(inputs=inputs, targets=targets)\n",
    "train_sources, test_sources = dt.sources.random_split(sources, [0.85, 0.15])\n",
    "\n",
    "inputs_pl = dt.Value(sources.inputs) >> dt.pytorch.ToTensor(dtype=torch.int)\n",
    "targets_pl = dt.Value(sources.targets) >> dt.pytorch.ToTensor(dtype=torch.int)\n",
    "\n",
    "\n",
    "from torch.utils.data import DataLoader\n",
    "\n",
    "train_dataset = dt.pytorch.Dataset(\n",
    "    inputs_pl & targets_pl,\n",
    "    inputs=train_sources,\n",
    ")\n",
    "train_loader = DataLoader(\n",
    "    train_dataset,\n",
    "    batch_size=256,\n",
    "    shuffle=True,\n",
    ")\n",
    "\n",
    "test_dataset = dt.pytorch.Dataset(\n",
    "    inputs_pl & targets_pl,\n",
    "    inputs=test_sources,\n",
    ")\n",
    "test_loader = DataLoader(test_dataset, batch_size=256, shuffle=False)"
   ]
  },
  {
   "cell_type": "code",
   "execution_count": 9,
   "metadata": {},
   "outputs": [
    {
     "name": "stdout",
     "output_type": "stream",
     "text": [
      "Number of queries/responses: 91183\n"
     ]
    }
   ],
   "source": [
    "import numpy as np\n",
    "\n",
    "print(f\"Number of queries/responses: {len(inputs)}\")"
   ]
  },
  {
   "cell_type": "code",
   "execution_count": 10,
   "metadata": {},
   "outputs": [],
   "source": [
    "# pairs = [[s, t] for (s, t) in zip(inputs, targets)]\n",
    "\n",
    "# print([vocab_input.lookup_token(p) for p in pairs[1000][0]])\n",
    "# print([vocab_target.lookup_token(p) for p in pairs[1000][1]])"
   ]
  },
  {
   "cell_type": "markdown",
   "metadata": {},
   "source": [
    "embedding"
   ]
  },
  {
   "cell_type": "markdown",
   "metadata": {},
   "source": [
    "deeplay modules"
   ]
  },
  {
   "cell_type": "markdown",
   "metadata": {},
   "source": [
    "encoder"
   ]
  },
  {
   "cell_type": "code",
   "execution_count": 11,
   "metadata": {},
   "outputs": [],
   "source": [
    "from deeplay import DeeplayModule\n",
    "from typing import Optional, Union, Type, Literal\n",
    "import torch\n",
    "\n",
    "\n",
    "class Seq2SeqEncoder(DeeplayModule):\n",
    "\n",
    "    def __init__(\n",
    "        self,\n",
    "        vocab_size: Optional[int],\n",
    "        in_features: Optional[int] = 300,\n",
    "        hidden_features: Optional[int] = 128,\n",
    "        hidden_layers: Optional[int] = 1,\n",
    "        dropout: Optional[float] = 0.0,\n",
    "        rnn_type: Union[Literal[\"RNN\", \"LSTM\", \"GRU\"], Type[torch.nn.Module]] = \"GRU\",\n",
    "        bidirectional=True,\n",
    "    ):\n",
    "        super().__init__()\n",
    "        if isinstance(rnn_type, type) and issubclass(rnn_type, torch.nn.Module):\n",
    "            self.rnn_class = rnn_type\n",
    "        elif rnn_type == \"LSTM\":\n",
    "            self.rnn_class = torch.nn.LSTM\n",
    "        elif rnn_type == \"GRU\":\n",
    "            self.rnn_class = torch.nn.GRU\n",
    "        else:\n",
    "            self.rnn_class = torch.nn.RNN\n",
    "\n",
    "        self.hidden_features = hidden_features\n",
    "        self.hidden_layers = hidden_layers\n",
    "        self.bidirectional = bidirectional\n",
    "        self.embedding = dl.Layer(torch.nn.Embedding, vocab_size, in_features)\n",
    "        self.rnn = dl.Layer(\n",
    "            self.rnn_class,\n",
    "            input_size=in_features,\n",
    "            hidden_size=hidden_features,\n",
    "            num_layers=hidden_layers,\n",
    "            dropout=(0 if hidden_layers == 1 else dropout),\n",
    "            bidirectional=bidirectional,\n",
    "            batch_first=True,\n",
    "        )\n",
    "\n",
    "    def forward(self, x, hidden=None):\n",
    "        x = self.embedding(x)\n",
    "        outputs, hidden = self.rnn(x, hidden)\n",
    "        if self.bidirectional:\n",
    "            outputs = (\n",
    "                outputs[:, :, : self.hidden_features]\n",
    "                + outputs[:, :, self.hidden_features :]\n",
    "            )\n",
    "            hidden = hidden[: self.hidden_layers]\n",
    "        return outputs, hidden"
   ]
  },
  {
   "cell_type": "markdown",
   "metadata": {},
   "source": [
    "decoder"
   ]
  },
  {
   "cell_type": "code",
   "execution_count": 12,
   "metadata": {},
   "outputs": [],
   "source": [
    "# no attn\n",
    "\n",
    "\n",
    "class Seq2SeqDecoder(DeeplayModule):\n",
    "\n",
    "    def __init__(\n",
    "        self,\n",
    "        vocab_size: Optional[int],\n",
    "        in_features: Optional[int] = 300,\n",
    "        hidden_features: Optional[int] = 128,\n",
    "        hidden_layers: Optional[int] = 1,\n",
    "        dropout: Optional[float] = 0.0,\n",
    "        rnn_type: Union[Literal[\"RNN\", \"LSTM\", \"GRU\"], Type[torch.nn.Module]] = \"GRU\",\n",
    "    ):\n",
    "        super().__init__()\n",
    "        if isinstance(rnn_type, type) and issubclass(rnn_type, torch.nn.Module):\n",
    "            self.rnn_class = rnn_type\n",
    "        elif rnn_type == \"LSTM\":\n",
    "            self.rnn_class = torch.nn.LSTM\n",
    "        elif rnn_type == \"GRU\":\n",
    "            self.rnn_class = torch.nn.GRU\n",
    "        else:\n",
    "            self.rnn_class = torch.nn.RNN\n",
    "\n",
    "        self.in_features = in_features\n",
    "        self.hidden_features = hidden_features\n",
    "        self.num_layers = hidden_layers\n",
    "        self.embedding = dl.Layer(torch.nn.Embedding, vocab_size, in_features)\n",
    "        self.rnn = dl.Layer(\n",
    "            self.rnn_class,\n",
    "            input_size=in_features,\n",
    "            hidden_size=hidden_features,\n",
    "            num_layers=hidden_layers,\n",
    "            bidirectional=False,\n",
    "            batch_first=True,\n",
    "            dropout=(0 if hidden_layers == 1 else dropout),\n",
    "        )\n",
    "        self.dense = dl.Layer(torch.nn.Linear, hidden_features, vocab_size)\n",
    "        self.softmax = dl.Layer(torch.nn.Softmax, dim=-1)\n",
    "        self.relu = dl.Layer(torch.nn.ReLU)\n",
    "\n",
    "    def forward(self, x, hidden):\n",
    "        x = self.embedding(x)\n",
    "        x = self.relu(x)\n",
    "        output, hidden = self.rnn(x, hidden)\n",
    "        output = self.dense(output)\n",
    "        output = self.softmax(output)\n",
    "        return output, hidden"
   ]
  },
  {
   "cell_type": "markdown",
   "metadata": {},
   "source": [
    "seq2seq"
   ]
  },
  {
   "cell_type": "code",
   "execution_count": 13,
   "metadata": {},
   "outputs": [],
   "source": [
    "# no attn\n",
    "\n",
    "\n",
    "class Seq2SeqModel(DeeplayModule):\n",
    "\n",
    "    def __init__(\n",
    "        self,\n",
    "        in_vocab_size: Optional[int] = None,\n",
    "        out_vocab_size: Optional[int] = None,\n",
    "        teacher_prob=1.0,\n",
    "        embedding_dim: Optional[int] = 300,\n",
    "        hidden_features: Optional[int] = 128,\n",
    "        hidden_layers: Optional[int] = 1,\n",
    "        dropout: Optional[float] = 0.0,\n",
    "        rnn_type: Union[Literal[\"RNN\", \"LSTM\", \"GRU\"], Type[torch.nn.Module]] = \"GRU\",\n",
    "        bidirectional=True,\n",
    "    ):\n",
    "        super().__init__()\n",
    "        self.out_vocab_size = out_vocab_size\n",
    "        self.teacher_prob = teacher_prob\n",
    "        self.encoder = Seq2SeqEncoder(\n",
    "            in_vocab_size,\n",
    "            embedding_dim,\n",
    "            hidden_features,\n",
    "            hidden_layers,\n",
    "            dropout,\n",
    "            rnn_type,\n",
    "            bidirectional,\n",
    "        )\n",
    "        self.decoder = Seq2SeqDecoder(\n",
    "            out_vocab_size,\n",
    "            embedding_dim,\n",
    "            hidden_features,\n",
    "            hidden_layers,\n",
    "            dropout,\n",
    "            rnn_type,\n",
    "        )\n",
    "\n",
    "    def forward(self, x):\n",
    "        input, target = x\n",
    "        encoder_outputs, encoder_hidden = self.encoder(input)\n",
    "        decoder_hidden = encoder_hidden\n",
    "        decoder_outputs = torch.zeros(\n",
    "            (\n",
    "                target.size(0),\n",
    "                target.size(1),\n",
    "                self.out_vocab_size,\n",
    "            )\n",
    "        ).to(next(self.encoder.parameters()).device)\n",
    "\n",
    "        for t in range(input.size(1)):\n",
    "            if t == 0 or np.random.rand() < self.teacher_prob:\n",
    "                decoder_input = target[:, t].unsqueeze(-1)\n",
    "            else:\n",
    "                decoder_input = topi.squeeze(-1).detach()\n",
    "\n",
    "            decoder_input = decoder_input.to(next(self.decoder.parameters()).device)\n",
    "\n",
    "            decoder_output, decoder_hidden = self.decoder(\n",
    "                decoder_input,\n",
    "                decoder_hidden,\n",
    "            )\n",
    "\n",
    "            _, topi = decoder_output.topk(1)\n",
    "            decoder_outputs[:, t, :] = decoder_output.squeeze(1)\n",
    "\n",
    "        return decoder_outputs\n",
    "\n",
    "    def evaluate(self, x):\n",
    "        if isinstance(x, (list, tuple)):\n",
    "            input = x[0]\n",
    "        else:\n",
    "            input = x\n",
    "\n",
    "        with torch.no_grad():\n",
    "            encoder_outputs, encoder_hidden = self.encoder(input)\n",
    "        decoder_hidden = encoder_hidden\n",
    "        outputs = torch.zeros(\n",
    "            input.shape,\n",
    "        ).to(next(self.encoder.parameters()).device)\n",
    "        for t in range(input.size(1)):\n",
    "            if t == 0:\n",
    "                decoder_input = torch.full(\n",
    "                    size=(input.size(0), 1),\n",
    "                    fill_value=1,  # self.vocab_input([\"<sos>\"]),\n",
    "                    device=next(self.encoder.parameters()).device,\n",
    "                )\n",
    "            else:\n",
    "                decoder_input = topi.squeeze(-1).detach()\n",
    "\n",
    "            decoder_input = decoder_input.to(next(self.decoder.parameters()).device)\n",
    "            with torch.no_grad():\n",
    "                decoder_output, decoder_hidden = self.decoder(\n",
    "                    decoder_input,\n",
    "                    decoder_hidden,\n",
    "                )\n",
    "            _, topi = decoder_output.topk(1)\n",
    "            outputs[:, t] = topi.squeeze()\n",
    "\n",
    "        return outputs"
   ]
  },
  {
   "cell_type": "code",
   "execution_count": 14,
   "metadata": {},
   "outputs": [],
   "source": [
    "def maskedNLL(inp, target, PADtoken=0):\n",
    "    mask = target != PADtoken\n",
    "    NLL = -torch.log(torch.gather(inp.view(-1, inp.shape[-1]), 1, target.view(-1, 1)))\n",
    "    loss = NLL.masked_select(mask.view(-1, 1)).mean()\n",
    "    return loss"
   ]
  },
  {
   "cell_type": "code",
   "execution_count": 15,
   "metadata": {},
   "outputs": [],
   "source": [
    "from deeplay import Application, Optimizer\n",
    "from typing import Sequence\n",
    "from torchtext import vocab\n",
    "import torchmetrics as tm\n",
    "\n",
    "\n",
    "class Seq2Seq(Application):\n",
    "    in_vocab: vocab\n",
    "    out_vocab: vocab\n",
    "    teacher_prob: float\n",
    "    model: torch.nn.Module\n",
    "    loss: torch.nn.Module\n",
    "    optimizer: Optimizer\n",
    "    loss: torch.nn.Module\n",
    "\n",
    "    def __init__(\n",
    "        self,\n",
    "        in_vocab,\n",
    "        out_vocab,\n",
    "        teacher_prob=1.0,\n",
    "        model=None,\n",
    "        optimizer=None,\n",
    "        loss=None,\n",
    "    ):\n",
    "\n",
    "        in_vocab_size = len(in_vocab)\n",
    "        out_vocab_size = len(out_vocab)\n",
    "\n",
    "        self.model = model or Seq2SeqModel(\n",
    "            in_vocab_size=in_vocab_size,\n",
    "            out_vocab_size=out_vocab_size,\n",
    "            teacher_prob=teacher_prob,\n",
    "        )\n",
    "\n",
    "        self.in_vocab_size = in_vocab_size\n",
    "        self.out_vocab_size = out_vocab_size\n",
    "        self.teacher_prob = teacher_prob\n",
    "        self.optimizer = optimizer or dl.Adam(lr=1e-3)\n",
    "        self.loss = loss or maskedNLL\n",
    "        self.out_vocab = out_vocab\n",
    "\n",
    "        @self.optimizer.params\n",
    "        def params(self):\n",
    "            return self.parameters()\n",
    "\n",
    "        super().__init__(loss=loss)\n",
    "\n",
    "    def train_preprocess(self, batch):\n",
    "        x = batch\n",
    "        y = torch.cat((x[-1][:, 1:], x[-1][:, -1:]), dim=1)\n",
    "        return x, y\n",
    "\n",
    "    val_preprocess = train_preprocess\n",
    "    test_preprocess = train_preprocess\n",
    "\n",
    "    def forward(self, x):\n",
    "        decoder_outputs = self.model(x)\n",
    "\n",
    "        return decoder_outputs"
   ]
  },
  {
   "cell_type": "code",
   "execution_count": 16,
   "metadata": {},
   "outputs": [
    {
     "name": "stderr",
     "output_type": "stream",
     "text": [
      "INFO:torchtext.vocab.vectors:Loading vectors from ./.vector_cache/glove.42B.300d.txt.pt\n"
     ]
    }
   ],
   "source": [
    "# import torch\n",
    "\n",
    "# The dimensionality of GloVe embeddings\n",
    "embedding_dim = 300\n",
    "\n",
    "from torchtext.vocab import GloVe\n",
    "\n",
    "# Load GloVe embeddings\n",
    "glove = GloVe(name=\"42B\", dim=embedding_dim, cache=\"./.vector_cache\")\n",
    "\n",
    "# Get GloVe embeddings for the vocabulary tokens\n",
    "# Assuming 'vocab' is a list of vocabulary tokens including special tokens at the beginning\n",
    "glove_embeddings_input = glove.get_vecs_by_tokens(\n",
    "    vocab_input.get_itos(), lower_case_backup=True\n",
    ")\n",
    "glove_embeddings_target = glove.get_vecs_by_tokens(\n",
    "    vocab_target.get_itos(), lower_case_backup=True\n",
    ")\n",
    "\n",
    "num_special_tokens = len(special_tokens)\n",
    "glove_embeddings_input[1:num_special_tokens] = (\n",
    "    torch.rand(num_special_tokens - 1, embedding_dim) * 0.01\n",
    ")  # Small random numbers for SOS, EOS\n",
    "\n",
    "glove_embeddings_target[1:num_special_tokens] = (\n",
    "    torch.rand(num_special_tokens - 1, embedding_dim) * 0.01\n",
    ")  # Small random numbers for SOS, EOS"
   ]
  },
  {
   "cell_type": "code",
   "execution_count": 17,
   "metadata": {},
   "outputs": [],
   "source": [
    "import deeplay as dl\n",
    "\n",
    "seq2seq = Seq2Seq(\n",
    "    in_vocab=vocab_input,\n",
    "    out_vocab=vocab_target,\n",
    "    teacher_prob=0.85,\n",
    ")\n",
    "\n",
    "seq2seq = seq2seq.create()"
   ]
  },
  {
   "cell_type": "code",
   "execution_count": 18,
   "metadata": {},
   "outputs": [],
   "source": [
    "# # Initialize a tensor to hold the embeddings for special tokens\n",
    "# # Here, PAD is initialized to zeros and SOS, EOS to random values\n",
    "# special_embeddings = torch.zeros(num_special_tokens, embedding_dim)\n",
    "# special_embeddings[1:] = (\n",
    "#     torch.rand(num_special_tokens - 1, embedding_dim) * 0.01\n",
    "# )  # Small random numbers for SOS, EOS\n",
    "\n",
    "\n",
    "# # Concatenate the special token embeddings with the GloVe embeddings\n",
    "# extended_embeddings_input = torch.cat(\n",
    "#     [special_embeddings, glove_embeddings_input], dim=0\n",
    "# )\n",
    "# extended_embeddings_target = torch.cat(\n",
    "#     [special_embeddings, glove_embeddings_target], dim=0\n",
    "# )\n",
    "\n",
    "\n",
    "seq2seq.model.encoder.embedding.weight.data = glove_embeddings_input\n",
    "seq2seq.model.encoder.embedding.weight.requires_grad = False\n",
    "seq2seq.model.decoder.embedding.weight.data = glove_embeddings_target\n",
    "seq2seq.model.decoder.embedding.weight.requires_grad = False"
   ]
  },
  {
   "cell_type": "code",
   "execution_count": 19,
   "metadata": {},
   "outputs": [
    {
     "name": "stderr",
     "output_type": "stream",
     "text": [
      "/Users/841602/Documents/GitHub/Environments/deeplay_env/lib/python3.10/site-packages/lightning/pytorch/trainer/configuration_validator.py:74: You defined a `validation_step` but have no `val_dataloader`. Skipping val loop.\n",
      "2024-05-10 17:15:02.623427: I tensorflow/core/platform/cpu_feature_guard.cc:182] This TensorFlow binary is optimized to use available CPU instructions in performance-critical operations.\n",
      "To enable the following instructions: AVX2 FMA, in other operations, rebuild TensorFlow with the appropriate compiler flags.\n"
     ]
    },
    {
     "data": {
      "text/html": [
       "<pre style=\"white-space:pre;overflow-x:auto;line-height:normal;font-family:Menlo,'DejaVu Sans Mono',consolas,'Courier New',monospace\">┏━━━┳━━━━━━━━━━━━━━━┳━━━━━━━━━━━━━━━━━━┳━━━━━━━━┓\n",
       "┃<span style=\"color: #800080; text-decoration-color: #800080; font-weight: bold\">   </span>┃<span style=\"color: #800080; text-decoration-color: #800080; font-weight: bold\"> Name          </span>┃<span style=\"color: #800080; text-decoration-color: #800080; font-weight: bold\"> Type             </span>┃<span style=\"color: #800080; text-decoration-color: #800080; font-weight: bold\"> Params </span>┃\n",
       "┡━━━╇━━━━━━━━━━━━━━━╇━━━━━━━━━━━━━━━━━━╇━━━━━━━━┩\n",
       "│<span style=\"color: #7f7f7f; text-decoration-color: #7f7f7f\"> 0 </span>│ model         │ Seq2SeqModel     │  6.3 M │\n",
       "│<span style=\"color: #7f7f7f; text-decoration-color: #7f7f7f\"> 1 </span>│ out_vocab     │ Vocab            │      0 │\n",
       "│<span style=\"color: #7f7f7f; text-decoration-color: #7f7f7f\"> 2 </span>│ train_metrics │ MetricCollection │      0 │\n",
       "│<span style=\"color: #7f7f7f; text-decoration-color: #7f7f7f\"> 3 </span>│ val_metrics   │ MetricCollection │      0 │\n",
       "│<span style=\"color: #7f7f7f; text-decoration-color: #7f7f7f\"> 4 </span>│ test_metrics  │ MetricCollection │      0 │\n",
       "│<span style=\"color: #7f7f7f; text-decoration-color: #7f7f7f\"> 5 </span>│ optimizer     │ Adam             │      0 │\n",
       "└───┴───────────────┴──────────────────┴────────┘\n",
       "</pre>\n"
      ],
      "text/plain": [
       "┏━━━┳━━━━━━━━━━━━━━━┳━━━━━━━━━━━━━━━━━━┳━━━━━━━━┓\n",
       "┃\u001b[1;35m \u001b[0m\u001b[1;35m \u001b[0m\u001b[1;35m \u001b[0m┃\u001b[1;35m \u001b[0m\u001b[1;35mName         \u001b[0m\u001b[1;35m \u001b[0m┃\u001b[1;35m \u001b[0m\u001b[1;35mType            \u001b[0m\u001b[1;35m \u001b[0m┃\u001b[1;35m \u001b[0m\u001b[1;35mParams\u001b[0m\u001b[1;35m \u001b[0m┃\n",
       "┡━━━╇━━━━━━━━━━━━━━━╇━━━━━━━━━━━━━━━━━━╇━━━━━━━━┩\n",
       "│\u001b[2m \u001b[0m\u001b[2m0\u001b[0m\u001b[2m \u001b[0m│ model         │ Seq2SeqModel     │  6.3 M │\n",
       "│\u001b[2m \u001b[0m\u001b[2m1\u001b[0m\u001b[2m \u001b[0m│ out_vocab     │ Vocab            │      0 │\n",
       "│\u001b[2m \u001b[0m\u001b[2m2\u001b[0m\u001b[2m \u001b[0m│ train_metrics │ MetricCollection │      0 │\n",
       "│\u001b[2m \u001b[0m\u001b[2m3\u001b[0m\u001b[2m \u001b[0m│ val_metrics   │ MetricCollection │      0 │\n",
       "│\u001b[2m \u001b[0m\u001b[2m4\u001b[0m\u001b[2m \u001b[0m│ test_metrics  │ MetricCollection │      0 │\n",
       "│\u001b[2m \u001b[0m\u001b[2m5\u001b[0m\u001b[2m \u001b[0m│ optimizer     │ Adam             │      0 │\n",
       "└───┴───────────────┴──────────────────┴────────┘\n"
      ]
     },
     "metadata": {},
     "output_type": "display_data"
    },
    {
     "data": {
      "text/html": [
       "<pre style=\"white-space:pre;overflow-x:auto;line-height:normal;font-family:Menlo,'DejaVu Sans Mono',consolas,'Courier New',monospace\"><span style=\"font-weight: bold\">Trainable params</span>: 1.7 M                                                                                            \n",
       "<span style=\"font-weight: bold\">Non-trainable params</span>: 4.6 M                                                                                        \n",
       "<span style=\"font-weight: bold\">Total params</span>: 6.3 M                                                                                                \n",
       "<span style=\"font-weight: bold\">Total estimated model params size (MB)</span>: 25                                                                         \n",
       "</pre>\n"
      ],
      "text/plain": [
       "\u001b[1mTrainable params\u001b[0m: 1.7 M                                                                                            \n",
       "\u001b[1mNon-trainable params\u001b[0m: 4.6 M                                                                                        \n",
       "\u001b[1mTotal params\u001b[0m: 6.3 M                                                                                                \n",
       "\u001b[1mTotal estimated model params size (MB)\u001b[0m: 25                                                                         \n"
      ]
     },
     "metadata": {},
     "output_type": "display_data"
    },
    {
     "data": {
      "application/vnd.jupyter.widget-view+json": {
       "model_id": "e2a3ea1474bd42f69c0b8cde826d7a82",
       "version_major": 2,
       "version_minor": 0
      },
      "text/plain": [
       "Output()"
      ]
     },
     "metadata": {},
     "output_type": "display_data"
    },
    {
     "name": "stderr",
     "output_type": "stream",
     "text": [
      "/Users/841602/Documents/GitHub/Environments/deeplay_env/lib/python3.10/site-packages/lightning/pytorch/trainer/connectors/data_connector.py:441: The 'train_dataloader' does not have many workers which may be a bottleneck. Consider increasing the value of the `num_workers` argument` to `num_workers=15` in the `DataLoader` to improve performance.\n"
     ]
    },
    {
     "data": {
      "text/html": [
       "<pre style=\"white-space:pre;overflow-x:auto;line-height:normal;font-family:Menlo,'DejaVu Sans Mono',consolas,'Courier New',monospace\"></pre>\n"
      ],
      "text/plain": []
     },
     "metadata": {},
     "output_type": "display_data"
    },
    {
     "data": {
      "text/html": [
       "<pre style=\"white-space:pre;overflow-x:auto;line-height:normal;font-family:Menlo,'DejaVu Sans Mono',consolas,'Courier New',monospace\">\n",
       "</pre>\n"
      ],
      "text/plain": [
       "\n"
      ]
     },
     "metadata": {},
     "output_type": "display_data"
    }
   ],
   "source": [
    "trainer = dl.Trainer(max_epochs=25, accelerator=\"mps\")\n",
    "trainer.fit(seq2seq, train_loader)"
   ]
  },
  {
   "cell_type": "code",
   "execution_count": 20,
   "metadata": {},
   "outputs": [
    {
     "data": {
      "text/plain": [
       "(<Figure size 1500x500 with 1 Axes>,\n",
       " array([[<Axes: title={'center': 'Loss'}, xlabel='Step'>]], dtype=object))"
      ]
     },
     "execution_count": 20,
     "metadata": {},
     "output_type": "execute_result"
    },
    {
     "data": {
      "image/png": "[encoded data removed]",
      "text/plain": [
       "<Figure size 1500x500 with 1 Axes>"
      ]
     },
     "metadata": {},
     "output_type": "display_data"
    }
   ],
   "source": [
    "trainer.history.plot()"
   ]
  },
  {
   "cell_type": "markdown",
   "metadata": {},
   "source": [
    "evaluate results"
   ]
  },
  {
   "cell_type": "code",
   "execution_count": 21,
   "metadata": {},
   "outputs": [],
   "source": [
    "from torchmetrics.text import BLEUScore\n",
    "\n",
    "bleu_score = BLEUScore()"
   ]
  },
  {
   "cell_type": "code",
   "execution_count": 22,
   "metadata": {},
   "outputs": [],
   "source": [
    "def unprocess(x, vocab):\n",
    "    unproc = []\n",
    "    for s in x:\n",
    "        idxs = s[s > 2]\n",
    "        current_words = [vocab.lookup_token(idx) for idx in idxs]\n",
    "        unproc.append(\" \".join(current_words))\n",
    "\n",
    "    return unproc"
   ]
  },
  {
   "cell_type": "markdown",
   "metadata": {},
   "source": [
    "calculate BLEU score"
   ]
  },
  {
   "cell_type": "code",
   "execution_count": 23,
   "metadata": {},
   "outputs": [
    {
     "name": "stdout",
     "output_type": "stream",
     "text": [
      "\n",
      "Examples from batch 1:\n",
      "\n",
      "Input Sentence: I am pretty interested in it .\n",
      "Predicted Translation: Estoy bastante interesado en esto .\n",
      "Actual Translation: Estoy muy interesado en eso .\n",
      "\n",
      "Input Sentence: We did not do it .\n",
      "Predicted Translation: No lo hicimos .\n",
      "Actual Translation: Nosotros no lo hicimos .\n",
      "\n",
      "Input Sentence: pay .\n",
      "Predicted Translation: Escoge . .\n",
      "Actual Translation: Tom pagará .\n",
      "\n",
      "Examples from batch 2:\n",
      "\n",
      "Input Sentence: Mary is wearing a silver ring .\n",
      "Predicted Translation: Mary lleva puesto un anillo de madera .\n",
      "Actual Translation: María lleva puesto un anillo de plata .\n",
      "\n",
      "Input Sentence: Tom seems to believe everything Mary says .\n",
      "Predicted Translation: Tom cree que todo lo que dice Mary .\n",
      "Actual Translation: Parece que Tom cree todo lo que dice Mary .\n",
      "\n",
      "Input Sentence: You do not want to go there .\n",
      "Predicted Translation: No debes ir allí .\n",
      "Actual Translation: No queréis ir allí .\n",
      "\n",
      "Examples from batch 3:\n",
      "\n",
      "Input Sentence: I do not know what it is .\n",
      "Predicted Translation: No sé lo que es .\n",
      "Actual Translation: No sé lo que es .\n",
      "\n",
      "Input Sentence: Tom does not know where Mary wants to eat .\n",
      "Predicted Translation: Tom no sabe que Mary sabe ir .\n",
      "Actual Translation: Tom no sabe dónde quiere comer Mary .\n",
      "\n",
      "Input Sentence: What do you want for lunch ?\n",
      "Predicted Translation: ¿ Qué quieres almorzar ?\n",
      "Actual Translation: ¿ Qué quieres de almuerzo ?\n",
      "Validation BLEU Score: 0.263\n"
     ]
    }
   ],
   "source": [
    "device = \"cpu\"\n",
    "seq2seq.model.to(device)\n",
    "# device = next(seq2seq.model.parameters()).device\n",
    "\n",
    "for batch_index, (inputs, targets) in enumerate(test_loader):\n",
    "    inputs, targets = inputs.to(device), targets.to(device)\n",
    "    y_hat = seq2seq.model.evaluate((inputs, targets))\n",
    "\n",
    "    input_un = unprocess(inputs, vocab_input)\n",
    "    y_hat_un = unprocess(y_hat, vocab_target)\n",
    "    target_un = unprocess(targets, vocab_target)\n",
    "    y = [[yi] for yi in target_un]\n",
    "\n",
    "    bleu_score.update(y_hat_un, y)\n",
    "\n",
    "    if batch_index < 3:\n",
    "        print(f\"\\nExamples from batch {batch_index + 1}:\")\n",
    "        for i in range(min(3, len(input_un))):\n",
    "            print(f\"\\nInput Sentence: {input_un[i]}\")\n",
    "            print(f\"Predicted Translation: {y_hat_un[i]}\")\n",
    "            print(f\"Actual Translation: {target_un[i]}\")\n",
    "\n",
    "final_bleu = bleu_score.compute()\n",
    "print(f\"Validation BLEU Score: {final_bleu:.3f}\")"
   ]
  },
  {
   "cell_type": "markdown",
   "metadata": {},
   "source": [
    "try on a few new sentences"
   ]
  },
  {
   "cell_type": "code",
   "execution_count": 24,
   "metadata": {},
   "outputs": [],
   "source": [
    "def translate(\n",
    "    source_text=\"This is an example.\",\n",
    "    model=seq2seq.model,\n",
    "    input_lang=input_lang,\n",
    "    vocab_input=vocab_input,\n",
    "    vocab_target=vocab_target,\n",
    "):\n",
    "    query_tokens = tokenize(source_text, input_lang)\n",
    "    query_tokens = pad_sentence(query_tokens)\n",
    "    query_indices = vocab_input(query_tokens)\n",
    "    if 3 in query_indices:\n",
    "        print(\n",
    "            \"Warning: Unknown word(s) found in the input text. They were replaced by the placeholder token.\"\n",
    "        )\n",
    "\n",
    "    source_sequence = torch.tensor(query_indices, dtype=torch.int).unsqueeze(0)\n",
    "\n",
    "    source_sequence = source_sequence.to(next(model.parameters()).device)\n",
    "    y_hat = model.evaluate(source_sequence)\n",
    "\n",
    "    translated_text = unprocess(y_hat, vocab_target)\n",
    "    print(f\"\\nInput Sentence: {source_text}\")\n",
    "    print(f\"Predicted Translation: {translated_text[0]}\")\n",
    "    # return translated_text[0]"
   ]
  },
  {
   "cell_type": "code",
   "execution_count": 25,
   "metadata": {},
   "outputs": [
    {
     "name": "stdout",
     "output_type": "stream",
     "text": [
      "\n",
      "Input Sentence: should we go?\n",
      "Predicted Translation: ¿ Podemos ir ?\n"
     ]
    }
   ],
   "source": [
    "source_text = \"should we go?\"\n",
    "translate(source_text)"
   ]
  },
  {
   "cell_type": "code",
   "execution_count": 27,
   "metadata": {},
   "outputs": [
    {
     "name": "stdout",
     "output_type": "stream",
     "text": [
      "\n",
      "Input Sentence: what's your name?\n",
      "Predicted Translation: ¿ Cómo se llama ?\n"
     ]
    }
   ],
   "source": [
    "source_text = \"what's your name?\"  # \"¿como te llamas?\"  #\n",
    "translate(source_text)"
   ]
  },
  {
   "cell_type": "code",
   "execution_count": 29,
   "metadata": {},
   "outputs": [
    {
     "name": "stdout",
     "output_type": "stream",
     "text": [
      "Warning: Unknown word(s) found in the input text. They were replaced by the placeholder token.\n",
      "\n",
      "Input Sentence: Don't you have surname?\n",
      "Predicted Translation: ¿ No tienes ? ?\n"
     ]
    }
   ],
   "source": [
    "source_text = \"Don't you have surname?\"\n",
    "translate(source_text)"
   ]
  },
  {
   "cell_type": "code",
   "execution_count": 31,
   "metadata": {},
   "outputs": [
    {
     "name": "stdout",
     "output_type": "stream",
     "text": [
      "\n",
      "Input Sentence: How are you doing?\n",
      "Predicted Translation: ¿ Cómo estás haciendo ?\n"
     ]
    }
   ],
   "source": [
    "source_text = \"How are you doing?\"\n",
    "translate(source_text)"
   ]
  },
  {
   "cell_type": "code",
   "execution_count": 32,
   "metadata": {},
   "outputs": [
    {
     "name": "stdout",
     "output_type": "stream",
     "text": [
      "\n",
      "Input Sentence: I'm doing great too.\n",
      "Predicted Translation: Me estoy muy bien .\n"
     ]
    }
   ],
   "source": [
    "source_text = \"I'm doing great too.\"\n",
    "translate(source_text)"
   ]
  },
  {
   "cell_type": "code",
   "execution_count": 33,
   "metadata": {},
   "outputs": [
    {
     "name": "stdout",
     "output_type": "stream",
     "text": [
      "\n",
      "Input Sentence: are you still happy?\n",
      "Predicted Translation: ¿ Todavía estás feliz ?\n"
     ]
    }
   ],
   "source": [
    "source_text = \"are you still happy?\"\n",
    "translate(source_text)"
   ]
  },
  {
   "cell_type": "code",
   "execution_count": 34,
   "metadata": {},
   "outputs": [
    {
     "name": "stdout",
     "output_type": "stream",
     "text": [
      "Warning: Unknown word(s) found in the input text. They were replaced by the placeholder token.\n",
      "\n",
      "Input Sentence: who is the american president?\n",
      "Predicted Translation: ¿ Quién es la embajada ? ?\n"
     ]
    }
   ],
   "source": [
    "source_text = \"who is the american president?\"\n",
    "translate(source_text)"
   ]
  },
  {
   "cell_type": "code",
   "execution_count": 35,
   "metadata": {},
   "outputs": [
    {
     "name": "stdout",
     "output_type": "stream",
     "text": [
      "Warning: Unknown word(s) found in the input text. They were replaced by the placeholder token.\n",
      "\n",
      "Input Sentence: Are you messing around with me?\n",
      "Predicted Translation: ¿ Estás con con conmigo ?\n"
     ]
    }
   ],
   "source": [
    "source_text = \"Are you messing around with me?\"\n",
    "translate(source_text)"
   ]
  },
  {
   "cell_type": "code",
   "execution_count": 36,
   "metadata": {},
   "outputs": [
    {
     "name": "stdout",
     "output_type": "stream",
     "text": [
      "\n",
      "Input Sentence: why don't you stop laughing at me?\n",
      "Predicted Translation: ¿ Por qué no te rías de reír ?\n"
     ]
    }
   ],
   "source": [
    "source_text = \"why don't you stop laughing at me?\"\n",
    "translate(source_text)"
   ]
  },
  {
   "cell_type": "code",
   "execution_count": 37,
   "metadata": {},
   "outputs": [
    {
     "name": "stdout",
     "output_type": "stream",
     "text": [
      "\n",
      "Input Sentence: I would like a glass of wine\n",
      "Predicted Translation: Quisiera una cerveza .\n"
     ]
    }
   ],
   "source": [
    "source_text = \"I would like a glass of wine\"\n",
    "translate(source_text)"
   ]
  }
 ],
 "metadata": {
  "accelerator": "GPU",
  "colab": {
   "gpuType": "T4",
   "provenance": []
  },
  "kernelspec": {
   "display_name": "Python 3 (ipykernel)",
   "language": "python",
   "name": "python3"
  },
  "language_info": {
   "codemirror_mode": {
    "name": "ipython",
    "version": 3
   },
   "file_extension": ".py",
   "mimetype": "text/x-python",
   "name": "python",
   "nbconvert_exporter": "python",
   "pygments_lexer": "ipython3",
   "version": "3.10.9"
  }
 },
 "nbformat": 4,
 "nbformat_minor": 4
}
