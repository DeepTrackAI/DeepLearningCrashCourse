{
 "cells": [
  {
   "cell_type": "markdown",
   "metadata": {},
   "source": [
    "# Regressing 1D Data with a Single Neuron\n",
    "\n",
    "This notebook provides you with a complete code\n",
    "example that loads the data contained in `data_reg_1d_clean.csv`, trains a neuron to fit them, and finally uses the trained neuron to predict the values of the data in `data_reg_1d_clean_test.csv`."
   ]
  },
  {
   "cell_type": "markdown",
   "metadata": {},
   "source": [
    "## Loading the Data"
   ]
  },
  {
   "cell_type": "code",
   "execution_count": 1,
   "metadata": {},
   "outputs": [
    {
     "name": "stdout",
     "output_type": "stream",
     "text": [
      "x: [[-0.66328127]\n",
      " [-0.19952952]\n",
      " [ 0.91369553]\n",
      " [ 1.51545701]\n",
      " [-0.72826599]\n",
      " [-0.68957772]\n",
      " [-0.26732749]\n",
      " [-0.0595261 ]\n",
      " [ 1.16141758]\n",
      " [ 0.22823167]\n",
      " [-1.27072773]\n",
      " [ 1.40667259]\n",
      " [ 0.34459257]\n",
      " [-0.46928324]\n",
      " [ 0.76608534]\n",
      " [-0.53529957]\n",
      " [ 0.2569357 ]\n",
      " [ 0.34138958]\n",
      " [ 1.46217009]\n",
      " [-1.01929787]]\n",
      "y_gt: [[-0.97032289]\n",
      " [-0.38855149]\n",
      " [ 0.9672598 ]\n",
      " [ 0.11045281]\n",
      " [-0.99347893]\n",
      " [-0.98169302]\n",
      " [-0.5095442 ]\n",
      " [-0.11877118]\n",
      " [ 0.7302976 ]\n",
      " [ 0.4407763 ]\n",
      " [-0.5647557 ]\n",
      " [ 0.32238458]\n",
      " [ 0.63590851]\n",
      " [-0.80671179]\n",
      " [ 0.99925412]\n",
      " [-0.87748801]\n",
      " [ 0.49155232]\n",
      " [ 0.6309516 ]\n",
      " [ 0.21554751]\n",
      " [-0.89256274]]\n"
     ]
    }
   ],
   "source": [
    "from loader import load_data\n",
    "\n",
    "(x, y_gt) = load_data(filename=\"data_reg_1d_nonlinear.csv\")\n",
    "\n",
    "print(\"x:\", x)\n",
    "print(\"y_gt:\", y_gt)"
   ]
  },
  {
   "cell_type": "markdown",
   "metadata": {},
   "source": [
    "## Visualizing the Data"
   ]
  },
  {
   "cell_type": "code",
   "execution_count": 2,
   "metadata": {},
   "outputs": [
    {
     "data": {
      "image/png": "[encoded data removed]",
      "text/plain": [
       "<Figure size 640x480 with 1 Axes>"
      ]
     },
     "metadata": {},
     "output_type": "display_data"
    }
   ],
   "source": [
    "from plotting import plot_data_1d\n",
    "\n",
    "plot_data_1d(x, y_gt, fig_name=\"fig_02_05a.pdf\")  ### plot_data_1d(x, y_gt)"
   ]
  },
  {
   "cell_type": "markdown",
   "metadata": {},
   "source": [
    "## Implementing a Single Neuron\n",
    "\n",
    "Create a single neuron with one scalar weigth `w0` and one input `x` (which can be a scalar or a vector corresponding to multiple inputs) ..."
   ]
  },
  {
   "cell_type": "code",
   "execution_count": 3,
   "metadata": {},
   "outputs": [],
   "source": [
    "def neuron_reg_1d(w0, x):\n",
    "    \"\"\"Artificial neuron for 1D regression.\"\"\"\n",
    "    return w0 * x"
   ]
  },
  {
   "cell_type": "markdown",
   "metadata": {},
   "source": [
    "... randomly initialize its weight ..."
   ]
  },
  {
   "cell_type": "code",
   "execution_count": 4,
   "metadata": {},
   "outputs": [],
   "source": [
    "from numpy.random import default_rng\n",
    "\n",
    "rng = default_rng()\n",
    "w0 = rng.standard_normal()"
   ]
  },
  {
   "cell_type": "markdown",
   "metadata": {},
   "source": [
    "... obtain its predition `y_p` for the input data (which has the same shape as `x`) ..."
   ]
  },
  {
   "cell_type": "code",
   "execution_count": 5,
   "metadata": {},
   "outputs": [],
   "source": [
    "y_p = neuron_reg_1d(w0, x)"
   ]
  },
  {
   "cell_type": "markdown",
   "metadata": {},
   "source": [
    "... and visualize its predictions."
   ]
  },
  {
   "cell_type": "code",
   "execution_count": 6,
   "metadata": {},
   "outputs": [],
   "source": [
    "from plotting import plot_pred_1d\n",
    "\n",
    "### plot_pred_1d(x, y_gt, y_p=neuron_reg_1d(w0, x))"
   ]
  },
  {
   "cell_type": "markdown",
   "metadata": {},
   "source": [
    "## Training the Neuron\n",
    "\n",
    "Train the neuron ..."
   ]
  },
  {
   "cell_type": "code",
   "execution_count": 7,
   "metadata": {},
   "outputs": [
    {
     "name": "stdout",
     "output_type": "stream",
     "text": [
      "i=0 w0=-0.55 error=1.39\n",
      "i=1 w0=-0.52 error=-0.82\n",
      "i=2 w0=-0.51 error=0.49\n",
      "i=3 w0=-0.46 error=1.05\n",
      "i=4 w0=-0.44 error=0.63\n",
      "i=5 w0=-0.35 error=1.32\n",
      "i=6 w0=-0.32 error=-0.76\n",
      "i=7 w0=-0.32 error=0.14\n",
      "i=8 w0=-0.23 error=1.23\n",
      "i=9 w0=-0.19 error=0.92\n",
      "i=10 w0=-0.11 error=1.11\n",
      "i=11 w0=-0.04 error=1.06\n",
      "i=12 w0=0.01 error=0.90\n",
      "i=13 w0=0.03 error=-0.63\n",
      "i=14 w0=0.10 error=0.97\n",
      "i=15 w0=0.17 error=0.92\n",
      "i=16 w0=0.19 error=-0.58\n",
      "i=17 w0=0.25 error=-0.85\n",
      "i=18 w0=0.21 error=0.28\n",
      "i=19 w0=0.27 error=-0.48\n",
      "i=20 w0=0.28 error=-0.42\n",
      "i=21 w0=0.34 error=0.79\n",
      "i=22 w0=0.34 error=0.10\n",
      "i=23 w0=0.40 error=-0.66\n",
      "i=24 w0=0.45 error=0.49\n",
      "i=25 w0=0.48 error=0.60\n",
      "i=26 w0=0.52 error=-0.53\n",
      "i=27 w0=0.42 error=0.68\n",
      "i=28 w0=0.46 error=0.65\n",
      "i=29 w0=0.47 error=-0.37\n",
      "i=30 w0=0.51 error=0.66\n",
      "i=31 w0=0.52 error=0.29\n",
      "i=32 w0=0.41 error=0.67\n",
      "i=33 w0=0.43 error=-0.49\n",
      "i=34 w0=0.48 error=0.68\n",
      "i=35 w0=0.50 error=0.58\n",
      "i=36 w0=0.51 error=0.37\n",
      "i=37 w0=0.44 error=0.54\n",
      "i=38 w0=0.49 error=-0.57\n",
      "i=39 w0=0.50 error=0.38\n",
      "i=40 w0=0.55 error=-0.62\n",
      "i=41 w0=0.58 error=0.34\n",
      "i=42 w0=0.62 error=0.57\n",
      "i=43 w0=0.63 error=-0.30\n",
      "i=44 w0=0.55 error=0.56\n",
      "i=45 w0=0.59 error=0.60\n",
      "i=46 w0=0.50 error=0.65\n",
      "i=47 w0=0.54 error=0.39\n",
      "i=48 w0=0.43 error=0.70\n",
      "i=49 w0=0.44 error=0.30\n",
      "i=50 w0=0.46 error=0.60\n",
      "i=51 w0=0.47 error=-0.37\n",
      "i=52 w0=0.48 error=-0.37\n",
      "i=53 w0=0.51 error=0.58\n",
      "i=54 w0=0.52 error=-0.32\n",
      "i=55 w0=0.42 error=0.67\n",
      "i=56 w0=0.42 error=0.09\n",
      "i=57 w0=0.38 error=0.26\n",
      "i=58 w0=0.33 error=0.34\n",
      "i=59 w0=0.31 error=0.14\n",
      "i=60 w0=0.32 error=0.33\n",
      "i=61 w0=0.28 error=0.25\n",
      "i=62 w0=0.34 error=-0.78\n",
      "i=63 w0=0.39 error=0.74\n",
      "i=64 w0=0.41 error=-0.50\n",
      "i=65 w0=0.42 error=-0.50\n",
      "i=66 w0=0.47 error=0.68\n",
      "i=67 w0=0.47 error=0.09\n",
      "i=68 w0=0.38 error=0.61\n",
      "i=69 w0=0.42 error=-0.29\n",
      "i=70 w0=0.43 error=-0.49\n",
      "i=71 w0=0.46 error=0.60\n",
      "i=72 w0=0.51 error=0.66\n",
      "i=73 w0=0.51 error=0.09\n",
      "i=74 w0=0.52 error=0.37\n",
      "i=75 w0=0.54 error=0.56\n",
      "i=76 w0=0.44 error=0.71\n",
      "i=77 w0=0.49 error=-0.67\n",
      "i=78 w0=0.48 error=-0.05\n",
      "i=79 w0=0.47 error=-0.04\n",
      "i=80 w0=0.49 error=-0.47\n",
      "i=81 w0=0.51 error=-0.47\n",
      "i=82 w0=0.51 error=-0.33\n",
      "i=83 w0=0.56 error=-0.61\n",
      "i=84 w0=0.49 error=0.47\n",
      "i=85 w0=0.51 error=-0.16\n",
      "i=86 w0=0.52 error=-0.32\n",
      "i=87 w0=0.46 error=0.41\n",
      "i=88 w0=0.48 error=-0.47\n",
      "i=89 w0=0.41 error=0.48\n",
      "i=90 w0=0.37 error=0.25\n",
      "i=91 w0=0.30 error=0.45\n",
      "i=92 w0=0.36 error=0.77\n",
      "i=93 w0=0.36 error=0.10\n",
      "i=94 w0=0.37 error=0.32\n",
      "i=95 w0=0.42 error=0.52\n",
      "i=96 w0=0.45 error=0.61\n",
      "i=97 w0=0.50 error=-0.56\n",
      "i=98 w0=0.52 error=-0.15\n",
      "i=99 w0=0.52 error=-0.32\n"
     ]
    }
   ],
   "source": [
    "num_samples = len(x)\n",
    "num_train_iterations = 100\n",
    "eta = .1 # Learning rate.\n",
    "\n",
    "for i in range(num_train_iterations):\n",
    "    selected = rng.integers(0, num_samples) # Select random sample.\n",
    "    x0_selected = x[selected]\n",
    "    y_gt_selected = y_gt[selected]\n",
    "    \n",
    "    y_p_selected = neuron_reg_1d(w0, x0_selected) # Neuron prediction.\n",
    "    \n",
    "    error = y_p_selected - y_gt_selected # Calculate error.\n",
    "    \n",
    "    w0 -= eta * error * x0_selected # Update neuron weight.\n",
    "\n",
    "    print(f\"i={i} w0={w0[0]:.2f} error={error[0]:.2f}\")"
   ]
  },
  {
   "cell_type": "code",
   "execution_count": 8,
   "metadata": {},
   "outputs": [
    {
     "data": {
      "image/png": "[encoded data removed]",
      "text/plain": [
       "<Figure size 640x480 with 1 Axes>"
      ]
     },
     "metadata": {},
     "output_type": "display_data"
    }
   ],
   "source": [
    "plot_pred_1d(x, y_gt, y_p=neuron_reg_1d(w0, x), fig_name=\"fig_02_05b.pdf\")  ### plot_pred_1d(x, y_gt, y_p=neuron_reg_1d(w0, x))"
   ]
  },
  {
   "cell_type": "markdown",
   "metadata": {},
   "source": [
    "## Testing the Trained Neuron\n",
    "\n",
    "Check how the trained neuron works on the test data."
   ]
  },
  {
   "cell_type": "code",
   "execution_count": 9,
   "metadata": {},
   "outputs": [],
   "source": [
    "### (x_test, y_gt_test) = load_data(filename=\"data_reg_1d_clean_test.csv\")\n",
    "\n",
    "### plot_pred_1d(x_test, y_gt_test, y_p=neuron_reg_1d(w0, x_test))"
   ]
  }
 ],
 "metadata": {
  "kernelspec": {
   "display_name": "py310",
   "language": "python",
   "name": "python3"
  },
  "language_info": {
   "codemirror_mode": {
    "name": "ipython",
    "version": 3
   },
   "file_extension": ".py",
   "mimetype": "text/x-python",
   "name": "python",
   "nbconvert_exporter": "python",
   "pygments_lexer": "ipython3",
   "version": "3.10.13"
  }
 },
 "nbformat": 4,
 "nbformat_minor": 2
}
