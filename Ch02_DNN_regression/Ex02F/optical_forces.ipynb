{
  "cells": [
    {
      "cell_type": "markdown",
      "metadata": {},
      "source": [
        "# Optical Forces Calculation\n",
        "\n",
        "We'll build a dense neural network to calculate the forces acting on an optically trapped particle. We will then use the trained neural network as an emulator of a physical system."
      ]
    },
    {
      "cell_type": "markdown",
      "metadata": {},
      "source": [
        "## The Dataset with Optical Forces in Geometrical Optics\n",
        "\n",
        "The following code will download the opical force dataset repository only if the `optical_forces_dataset` directory doesn't already exist."
      ]
    },
    {
      "cell_type": "code",
      "execution_count": 1,
      "metadata": {},
      "outputs": [],
      "source": [
        "import os\n",
        "\n",
        "if not os.path.exists(\"optical_forces_dataset\"):\n",
        "    os.system(\"git clone https://github.com/DeepTrackAI/optical_forces_dataset\")"
      ]
    },
    {
      "cell_type": "markdown",
      "metadata": {},
      "source": [
        "First, we load the theoretical values of the optical force along the z axis $f_z$ as a function of the $z$ coordinate, i.e., $f_z(z)$, which is contained in `fz_vs_z_theory.txt`, which contains two columns corresponding to the z-position in micrometers and to the z-component of the optical force in piconewtons."
      ]
    },
    {
      "cell_type": "code",
      "execution_count": 2,
      "metadata": {},
      "outputs": [
        {
          "name": "stdout",
          "output_type": "stream",
          "text": [
            "Theory: 101 positions and 101 forces\n"
          ]
        },
        {
          "name": "stderr",
          "output_type": "stream",
          "text": [
            "c:\\Users\\Jesus\\AppData\\Local\\Programs\\Python\\Python38\\lib\\site-packages\\numpy\\_distributor_init.py:30: UserWarning: loaded more than 1 DLL from .libs:\n",
            "c:\\Users\\Jesus\\AppData\\Local\\Programs\\Python\\Python38\\lib\\site-packages\\numpy\\.libs\\libopenblas.NOIJJG62EMASZI6NYURL6JBKM4EVBGM7.gfortran-win_amd64.dll\n",
            "c:\\Users\\Jesus\\AppData\\Local\\Programs\\Python\\Python38\\lib\\site-packages\\numpy\\.libs\\libopenblas.WCDJNK7YVMPZQ2ME2ZZHJJRJ3JIKNDB7.gfortran-win_amd64.dll\n",
            "  warnings.warn(\"loaded more than 1 DLL from .libs:\"\n"
          ]
        }
      ],
      "source": [
        "import numpy as np\n",
        "\n",
        "fz_vs_z_path = os.path.join(\"optical_forces_dataset\", \"fz_vs_z_theory.txt\")\n",
        "\n",
        "data_theory = [] \n",
        "with open(fz_vs_z_path, \"r\") as file:\n",
        "\tfor line in file:\n",
        "\t\trow = []\n",
        "\t\tfor number in line.split(\",\"):\n",
        "\t\t\trow.append(float(number))\n",
        "\t\tdata_theory.append(row)\n",
        "\n",
        "data_theory = np.array(data_theory)\n",
        "z_theory = data_theory[:, 0]\n",
        "fz_theory = data_theory[:, 1] * 1e3 # conversion from pN to fN\n",
        "\n",
        "print(f\"Theory: {len(z_theory)} positions and {len(fz_theory)} forces\")"
      ]
    },
    {
      "cell_type": "markdown",
      "metadata": {},
      "source": [
        "Then, we load the optical forces calculated with the geometrical optics approach from two presaved numpy array contained in `xyz_go_100rays.npy` (4D numpy array with the x, y and z position of the particle where the optical forces are calculated) and `fxyz_go_100rays.npy` (4D numpy array with the x-, y- and z-components of the optical force at each position), and extract the positions and forces that are relevant for us."
      ]
    },
    {
      "cell_type": "code",
      "execution_count": 3,
      "metadata": {},
      "outputs": [
        {
          "name": "stdout",
          "output_type": "stream",
          "text": [
            "GO: 101 positions and 101 forces\n"
          ]
        }
      ],
      "source": [
        "xyz_go = np.load(os.path.join(\"optical_forces_dataset\", \"xyz_go_100rays.npy\"))\n",
        "z_go = xyz_go[50, 50, :, 2]\n",
        "\n",
        "fxyz_go = np.load(os.path.join(\"optical_forces_dataset\", \"fxyz_go_100rays.npy\"))\n",
        "fz_go = fxyz_go[50, 50, :, 2]\n",
        "\n",
        "print(f\"GO: {len(z_go)} positions and {len(fz_go)} forces\")"
      ]
    },
    {
      "cell_type": "markdown",
      "metadata": {},
      "source": [
        "Finally, we plot the comparison between the theoretical and computed optical forces."
      ]
    },
    {
      "cell_type": "code",
      "execution_count": 4,
      "metadata": {},
      "outputs": [
        {
          "data": {
            "image/png": "[encoded data removed]",
            "text/plain": [
              "<Figure size 432x288 with 1 Axes>"
            ]
          },
          "metadata": {
            "needs_background": "light"
          },
          "output_type": "display_data"
        }
      ],
      "source": [
        "import matplotlib.pyplot as plt\n",
        "\n",
        "plt.plot(z_go, fz_go, c=\"gray\",linewidth=2, label=\"GO\")\n",
        "plt.plot(z_theory, fz_theory, c=\"k\", linewidth=2, linestyle=\":\", label=\"theory\")\n",
        "plt.title(\"$F_z$ vs $z$ at $x=y=0$\", fontsize=16)\n",
        "plt.xlabel(\"$z$ [$\\mu$m]\", fontsize=16)\n",
        "plt.ylabel(\"$F_z$ [fN]\", fontsize=16)\n",
        "plt.tick_params(axis=\"both\", which=\"major\", labelsize=8)\n",
        "plt.legend(fontsize=16)\n",
        "plt.show()"
      ]
    },
    {
      "cell_type": "markdown",
      "metadata": {},
      "source": [
        "## Load Training Data\n",
        "\n",
        "The training data are contained in the files in the directory `sphere_100rays`. There are 101 files with names `force_grid_3D=1.txt`, `force_grid_3D=2.txt`, and so on. Each row in these file consists of eight numbers with the following format: $[R, n_{\\rm p}, x, y, z, f_{\\rm x}, f_{\\rm y}, f_{\\rm z}]$, where $R \\equiv 1^{−6}\\,{\\rm m}$ is the particle radius, $n_{\\rm p} \\equiv 1.5$ is its refractive index, $(x,y,z)$ are its position (in meters), and $(f_{\\rm x}, f_{\\rm y}, f_{\\rm z})$ are its force (in Newtons). \n",
        "\n",
        "Each file can be loaded with the function `load_data_file()`, which keeps only the positions converted in micrometers and the forces converted in femtonewtons."
      ]
    },
    {
      "cell_type": "code",
      "execution_count": 5,
      "metadata": {},
      "outputs": [
        {
          "name": "stdout",
          "output_type": "stream",
          "text": [
            "[[  -4.          -4.          -6.           0.           0.\n",
            "     0.       ]\n",
            " [  -4.          -4.          -5.88         0.           0.\n",
            "     0.       ]\n",
            " [  -4.          -4.          -5.76       -37.2116747  100.147531\n",
            "    93.7947815]\n",
            " ...\n",
            " [  -4.           4.           5.76      -137.597649   -27.1503227\n",
            "    21.4702215]\n",
            " [  -4.           4.           5.88         0.           0.\n",
            "     0.       ]\n",
            " [  -4.           4.           6.           0.           0.\n",
            "     0.       ]]\n"
          ]
        }
      ],
      "source": [
        "def load_data_file(filename):\n",
        "    data = []\n",
        "    with open(filename, \"r\") as file:\n",
        "        for line in file:\n",
        "            row = []\n",
        "            count = 0\n",
        "            for number in line.split():\n",
        "                if 2 <= count <= 4:\n",
        "                    row.append(float(number) * 1e6) # from m to um\n",
        "                elif 5 <= count <= 7:\n",
        "                    row.append(float(number) * 1e15) # from N to fN\n",
        "                count += 1\n",
        "            data.append(row)\n",
        "        return np.array(data)\n",
        "    \n",
        "data = load_data_file(os.path.join(\"optical_forces_dataset\", \"sphere_100rays\", \"force_grid_3D=1.txt\"))\n",
        "print(data)"
      ]
    },
    {
      "cell_type": "markdown",
      "metadata": {},
      "source": [
        "We can now load all data iterating over all files."
      ]
    },
    {
      "cell_type": "code",
      "execution_count": 6,
      "metadata": {},
      "outputs": [
        {
          "name": "stdout",
          "output_type": "stream",
          "text": [
            "1030301 data points with 6 variables each\n"
          ]
        }
      ],
      "source": [
        "data = np.empty((0, 6))\n",
        "for i in range (1, 102):\n",
        "    filename = os.path.join(\"optical_forces_dataset\", \"sphere_100rays\", f\"force_grid_3D={i}.txt\")\n",
        "    data = np.append(data, load_data_file(filename), axis=0)\n",
        "\n",
        "print(f\"{np.shape(data)[0]} data points with {np.shape(data)[1]} variables each\")"
      ]
    },
    {
      "cell_type": "markdown",
      "metadata": {},
      "source": [
        "## Split Training and Validation Data\n",
        "\n",
        "We now split the data between a training set and a validations set."
      ]
    },
    {
      "cell_type": "code",
      "execution_count": 7,
      "metadata": {},
      "outputs": [
        {
          "name": "stdout",
          "output_type": "stream",
          "text": [
            "824240 training datapoints\n",
            "206061 validation datapoints\n"
          ]
        }
      ],
      "source": [
        "train_split = .80\n",
        "\n",
        "np.random.shuffle(data) # in-place shuffle\n",
        "\n",
        "train_size = int(len(data) * train_split)\n",
        "\n",
        "data_train = data[:train_size]\n",
        "xyz_train = data_train[:, :3]\n",
        "fxyz_train = data_train[:, 3:]\n",
        "\n",
        "data_val = data[train_size:]\n",
        "xyz_val = data_val[:, :3]\n",
        "fxyz_val = data_val[:, 3:]\n",
        "\n",
        "print(f\"{len(xyz_train)} training datapoints\")\n",
        "print(f\"{len(xyz_val)} validation datapoints\")"
      ]
    },
    {
      "cell_type": "markdown",
      "metadata": {},
      "source": [
        "## Neural Network\n",
        "\n",
        "We will create, train, and evaluate the neural network."
      ]
    },
    {
      "cell_type": "markdown",
      "metadata": {},
      "source": [
        "### Neural Network Model\n",
        "\n",
        "We use the class `MultiLayerPerceptron` from `deeplay` to create a _dense neural network_ with three inputs (the particle positions $(x,y,z)$, `.in_features(3)`), three hidden layers with 256 neurons each (`.hidden_dims([256, 256, 256])`), and three outputs (the three components of the force $(f_{\\rm x}, f_{\\rm y}, f_{\\rm z})$, `.out_features(3)`)."
      ]
    },
    {
      "cell_type": "code",
      "execution_count": 8,
      "metadata": {},
      "outputs": [
        {
          "name": "stdout",
          "output_type": "stream",
          "text": [
            "MultiLayerPerceptron(\n",
            "  (in_features): 3\n",
            "  (hidden_dims): [256, 256, 256]\n",
            "  (out_features): 3\n",
            "  (blocks): ModuleList(\n",
            "    (0): Template(\n",
            "      (layer): Linear(in_features=3, out_features=256, bias=True)\n",
            "      (normalization): Identity()\n",
            "      (activation): ReLU()\n",
            "      (dropout): Identity()\n",
            "    )\n",
            "    (1-2): 2 x Template(\n",
            "      (layer): Linear(in_features=256, out_features=256, bias=True)\n",
            "      (normalization): Identity()\n",
            "      (activation): ReLU()\n",
            "      (dropout): Identity()\n",
            "    )\n",
            "  )\n",
            "  (out_layer): Linear(in_features=256, out_features=3, bias=True)\n",
            "  (out_activation): Identity()\n",
            ")\n",
            "133379 trainable parameters\n"
          ]
        }
      ],
      "source": [
        "import deeplay as dl\n",
        "\n",
        "mlp_config = (dl.Config()\n",
        "    .in_features(3)\n",
        "    .hidden_dims([256, 256, 256])\n",
        "    .out_features(3)\n",
        ")\n",
        "mlp_model = dl.MultiLayerPerceptron.from_config(mlp_config)\n",
        "\n",
        "print(mlp_model)\n",
        "print(f\"{sum(p.numel() for p in mlp_model.parameters())} trainable parameters\")"
      ]
    },
    {
      "cell_type": "markdown",
      "metadata": {},
      "source": [
        "### Application as Regressor\n",
        "\n",
        "We use the `Regressor` application class from `deeplay` to define what we want to do with the neural network.\n",
        "\n",
        "We add to the regressor the model we have just created (`.model(dt.MultiLayerPerceptron, mlp_config)`). Then, we set _mean squared error_ as loss function (`.loss(MSELoss)`), and set _Adam_ as optimizer (`.optimizer(Adam)`)."
      ]
    },
    {
      "cell_type": "code",
      "execution_count": 9,
      "metadata": {},
      "outputs": [
        {
          "name": "stdout",
          "output_type": "stream",
          "text": [
            "Regressor(\n",
            "  (model): MultiLayerPerceptron(\n",
            "    (in_features): 3\n",
            "    (hidden_dims): [256, 256, 256]\n",
            "    (out_features): 3\n",
            "    (blocks): ModuleList(\n",
            "      (0): Template(\n",
            "        (layer): Linear(in_features=3, out_features=256, bias=True)\n",
            "        (normalization): Identity()\n",
            "        (activation): ReLU()\n",
            "        (dropout): Identity()\n",
            "      )\n",
            "      (1-2): 2 x Template(\n",
            "        (layer): Linear(in_features=256, out_features=256, bias=True)\n",
            "        (normalization): Identity()\n",
            "        (activation): ReLU()\n",
            "        (dropout): Identity()\n",
            "      )\n",
            "    )\n",
            "    (out_layer): Linear(in_features=256, out_features=3, bias=True)\n",
            "    (out_activation): Identity()\n",
            "  )\n",
            "  (loss): MSELoss()\n",
            ")\n"
          ]
        }
      ],
      "source": [
        "from torch.nn import MSELoss\n",
        "from torch.optim import Adam\n",
        "\n",
        "regressor_config = (dl.Config()\n",
        "    .model(dl.MultiLayerPerceptron, mlp_config)\n",
        "    .loss(MSELoss)\n",
        "    .optimizer(Adam)\n",
        ")\n",
        "regressor = dl.Regressor.from_config(regressor_config)\n",
        "    \n",
        "print(regressor)"
      ]
    },
    {
      "cell_type": "markdown",
      "metadata": {},
      "source": [
        "### Implementing Data Loaders\n",
        "\n",
        "Now, we define a custom dataset to suit our specific task. This dataset will contain pairs of input data (`x`) and corresponding target data (`y`). We do this by creating a class called `MyDataset` that inherits from PyTorch's `Dataset` class. This class will handle tasks like initializing the dataset, determining its length, and retrieving individual samples. \n",
        "\n",
        "We also set up data loaders using these datasets, which will allow us to efficiently load and process data in batches during the training and validation phases of the neural network. Each batch will contain 1024 samples, which helps streamline the training process.\n"
      ]
    },
    {
      "cell_type": "code",
      "execution_count": 10,
      "metadata": {},
      "outputs": [],
      "source": [
        "from torch.utils.data import Dataset\n",
        "\n",
        "class MyDataset(Dataset):\n",
        "    def __init__(self, x, y):\n",
        "        self.x = x\n",
        "        self.y = y\n",
        "\n",
        "    def __len__(self):\n",
        "        return len(self.x)\n",
        "\n",
        "    def __getitem__(self, idx):\n",
        "        return (self.x[idx].astype(np.float32), self.y[idx].astype(np.float32))\n",
        "\n",
        "\n",
        "train_dataset = MyDataset(xyz_train, fxyz_train)\n",
        "val_dataset = MyDataset(xyz_val, fxyz_val)\n",
        "\n",
        "train_dataloader = dl.DataLoader(train_dataset, batch_size=1024)\n",
        "val_dataloader = dl.DataLoader(val_dataset, batch_size=1024)"
      ]
    },
    {
      "cell_type": "markdown",
      "metadata": {},
      "source": [
        "### Training\n",
        "\n",
        "To start training our neural network, we use the `trainer.fit()` method. This command manages the training process, carrying out essential tasks such as forward and backward passes, updating parameters, and keeping a record of the progress. The training runs for a specified number of times, in this case, ten epochs. Additionally, we use the `val_dataloader` to evaluate the model's performance on a different dataset to validate our results.\n",
        "\n",
        "In this setup, the `CSVLogger` acts as a recorder. It is passed as input to the training process (`trainer.fit()`), allowing it to keep track of important training information. `CSVLogger` creates a folder called \"logs\" to store the results in an orderly manner. Inside this folder, the logger records various training metrics and outcomes in a structured CSV file for easy reference. Additionally, the `log_every_n_steps` parameter serves as a control knob for how often the training progress is saved by the `CSVLogger`. In this case, it's set to 20, meaning that for every 20 training steps, the model's current performance metrics are recorded."
      ]
    },
    {
      "cell_type": "code",
      "execution_count": 11,
      "metadata": {},
      "outputs": [
        {
          "name": "stderr",
          "output_type": "stream",
          "text": [
            "GPU available: True (cuda), used: True\n",
            "TPU available: False, using: 0 TPU cores\n",
            "IPU available: False, using: 0 IPUs\n",
            "HPU available: False, using: 0 HPUs\n",
            "Missing logger folder: logs\\regressor\n",
            "LOCAL_RANK: 0 - CUDA_VISIBLE_DEVICES: [0]\n",
            "\n",
            "  | Name  | Type                 | Params\n",
            "-----------------------------------------------\n",
            "0 | model | MultiLayerPerceptron | 133 K \n",
            "1 | loss  | MSELoss              | 0     \n",
            "-----------------------------------------------\n",
            "133 K     Trainable params\n",
            "0         Non-trainable params\n",
            "133 K     Total params\n",
            "0.534     Total estimated model params size (MB)\n"
          ]
        },
        {
          "data": {
            "application/vnd.jupyter.widget-view+json": {
              "model_id": "88ec259a31c245f88b202bf9ad650d7d",
              "version_major": 2,
              "version_minor": 0
            },
            "text/plain": [
              "Sanity Checking: |          | 0/? [00:00<?, ?it/s]"
            ]
          },
          "metadata": {},
          "output_type": "display_data"
        },
        {
          "name": "stderr",
          "output_type": "stream",
          "text": [
            "C:\\Users\\Jesus\\AppData\\Roaming\\Python\\Python38\\site-packages\\lightning\\pytorch\\trainer\\connectors\\data_connector.py:441: The 'val_dataloader' does not have many workers which may be a bottleneck. Consider increasing the value of the `num_workers` argument` to `num_workers=11` in the `DataLoader` to improve performance.\n",
            "C:\\Users\\Jesus\\AppData\\Roaming\\Python\\Python38\\site-packages\\lightning\\pytorch\\trainer\\connectors\\data_connector.py:441: The 'train_dataloader' does not have many workers which may be a bottleneck. Consider increasing the value of the `num_workers` argument` to `num_workers=11` in the `DataLoader` to improve performance.\n"
          ]
        },
        {
          "data": {
            "application/vnd.jupyter.widget-view+json": {
              "model_id": "fe4f11226dc947b59aec5e57278f6537",
              "version_major": 2,
              "version_minor": 0
            },
            "text/plain": [
              "Training: |          | 0/? [00:00<?, ?it/s]"
            ]
          },
          "metadata": {},
          "output_type": "display_data"
        },
        {
          "data": {
            "application/vnd.jupyter.widget-view+json": {
              "model_id": "696e233dee0843dcb3517e1d1053fdf7",
              "version_major": 2,
              "version_minor": 0
            },
            "text/plain": [
              "Validation: |          | 0/? [00:00<?, ?it/s]"
            ]
          },
          "metadata": {},
          "output_type": "display_data"
        },
        {
          "data": {
            "application/vnd.jupyter.widget-view+json": {
              "model_id": "983a8e985113450d91724df04dcf0af3",
              "version_major": 2,
              "version_minor": 0
            },
            "text/plain": [
              "Validation: |          | 0/? [00:00<?, ?it/s]"
            ]
          },
          "metadata": {},
          "output_type": "display_data"
        },
        {
          "data": {
            "application/vnd.jupyter.widget-view+json": {
              "model_id": "f7b4b21986f54b09841a26464f87ec94",
              "version_major": 2,
              "version_minor": 0
            },
            "text/plain": [
              "Validation: |          | 0/? [00:00<?, ?it/s]"
            ]
          },
          "metadata": {},
          "output_type": "display_data"
        },
        {
          "data": {
            "application/vnd.jupyter.widget-view+json": {
              "model_id": "a9948ce4e8b4482ebbf13a99b13ad215",
              "version_major": 2,
              "version_minor": 0
            },
            "text/plain": [
              "Validation: |          | 0/? [00:00<?, ?it/s]"
            ]
          },
          "metadata": {},
          "output_type": "display_data"
        },
        {
          "data": {
            "application/vnd.jupyter.widget-view+json": {
              "model_id": "35413a8d2dc747bfa4c3ac29c55237a0",
              "version_major": 2,
              "version_minor": 0
            },
            "text/plain": [
              "Validation: |          | 0/? [00:00<?, ?it/s]"
            ]
          },
          "metadata": {},
          "output_type": "display_data"
        },
        {
          "data": {
            "application/vnd.jupyter.widget-view+json": {
              "model_id": "07b0258ef57543518595359ed9acc4b2",
              "version_major": 2,
              "version_minor": 0
            },
            "text/plain": [
              "Validation: |          | 0/? [00:00<?, ?it/s]"
            ]
          },
          "metadata": {},
          "output_type": "display_data"
        },
        {
          "data": {
            "application/vnd.jupyter.widget-view+json": {
              "model_id": "fa4e7e681a424eabb65f606d68684335",
              "version_major": 2,
              "version_minor": 0
            },
            "text/plain": [
              "Validation: |          | 0/? [00:00<?, ?it/s]"
            ]
          },
          "metadata": {},
          "output_type": "display_data"
        },
        {
          "data": {
            "application/vnd.jupyter.widget-view+json": {
              "model_id": "8e9a1f7a8e464d4ba9b9adcc4ff1cf37",
              "version_major": 2,
              "version_minor": 0
            },
            "text/plain": [
              "Validation: |          | 0/? [00:00<?, ?it/s]"
            ]
          },
          "metadata": {},
          "output_type": "display_data"
        },
        {
          "data": {
            "application/vnd.jupyter.widget-view+json": {
              "model_id": "0ff3f36200084f4191fb8574d42c40db",
              "version_major": 2,
              "version_minor": 0
            },
            "text/plain": [
              "Validation: |          | 0/? [00:00<?, ?it/s]"
            ]
          },
          "metadata": {},
          "output_type": "display_data"
        },
        {
          "data": {
            "application/vnd.jupyter.widget-view+json": {
              "model_id": "33a106c760d34ca89368d5c21e24f1b6",
              "version_major": 2,
              "version_minor": 0
            },
            "text/plain": [
              "Validation: |          | 0/? [00:00<?, ?it/s]"
            ]
          },
          "metadata": {},
          "output_type": "display_data"
        },
        {
          "name": "stderr",
          "output_type": "stream",
          "text": [
            "`Trainer.fit` stopped: `max_epochs=10` reached.\n"
          ]
        }
      ],
      "source": [
        "from lightning.pytorch.loggers import CSVLogger\n",
        "\n",
        "Logger = CSVLogger(\"logs\", name=\"regressor\")\n",
        "trainer = dl.Trainer(\n",
        "    max_epochs=10, accelerator=\"auto\", logger=Logger, log_every_n_steps=20\n",
        ")\n",
        "\n",
        "trainer.fit(regressor, train_dataloader, val_dataloader)"
      ]
    },
    {
      "cell_type": "markdown",
      "metadata": {},
      "source": [
        "`CSVLogger` creates a new version folder each time the training process is executed. This version folder, labeled with a specific number (in this case, version 0), serves as a snapshot of the training session. It contains a CSV file named `metrics.csv`, which logs the training metrics and outcomes.\n",
        "\n",
        "To access and analyze these results, we use the `pandas` library, a powerful tool for data manipulation and analysis in Python.\n",
        "\n",
        "Within the `metrics.csv` file, information on each epoch's performance is stored in specific columns. The `train_loss_epoch` column holds the training loss for each epoch, while the `val_loss_epoch` column contains the validation loss. By extracting and examining this data, we can assess the performance of our neural network and make informed decisions about potential adjustments or optimizations."
      ]
    },
    {
      "cell_type": "code",
      "execution_count": 13,
      "metadata": {},
      "outputs": [
        {
          "data": {
            "image/png": "[encoded data removed]",
            "text/plain": [
              "<Figure size 432x288 with 1 Axes>"
            ]
          },
          "metadata": {
            "needs_background": "light"
          },
          "output_type": "display_data"
        }
      ],
      "source": [
        "import pandas as pd\n",
        "\n",
        "version = 0\n",
        "logs = pd.read_csv(f\"logs/regressor/version_{version}/metrics.csv\")\n",
        "\n",
        "# Group by epoch and extract train and val loss\n",
        "train_loss = logs[logs.train_loss_epoch.notnull()].train_loss_epoch\n",
        "val_loss = logs[logs.val_loss_epoch.notnull()].val_loss_epoch\n",
        "\n",
        "# plot\n",
        "plt.plot(train_loss, label=\"train\", c=\"gray\")\n",
        "plt.plot(val_loss, label=\"val\", c=\"orange\")\n",
        "plt.xlabel(\"Epoch\", fontsize=16)\n",
        "plt.ylabel(\"Loss\", fontsize=16)\n",
        "plt.tick_params(axis=\"both\", which=\"major\", labelsize=8)\n",
        "plt.legend(fontsize=16)\n",
        "plt.show()"
      ]
    },
    {
      "cell_type": "markdown",
      "metadata": {},
      "source": [
        "### New section\n",
        "\n",
        "complete"
      ]
    },
    {
      "cell_type": "code",
      "execution_count": 14,
      "metadata": {},
      "outputs": [
        {
          "data": {
            "text/plain": [
              "<matplotlib.legend.Legend at 0x1ea197f9790>"
            ]
          },
          "execution_count": 14,
          "metadata": {},
          "output_type": "execute_result"
        },
        {
          "data": {
            "image/png": "[encoded data removed]",
            "text/plain": [
              "<Figure size 432x288 with 1 Axes>"
            ]
          },
          "metadata": {
            "needs_background": "light"
          },
          "output_type": "display_data"
        }
      ],
      "source": [
        "import torch\n",
        "\n",
        "# NN\n",
        "positions_nn = torch.zeros((z_theory.shape[0], 3)).to(regressor.device)\n",
        "positions_nn[:, 2] = torch.from_numpy(z_theory)\n",
        "\n",
        "# Predict. \n",
        "# cpu() collects the data from the GPU to the CPU. \n",
        "# detach() removes the gradient information. \n",
        "# numpy() converts the tensor to a numpy array.\n",
        "forces_nn = regressor(positions_nn).cpu().detach().numpy()\n",
        "\n",
        "fz_nn = forces_nn[:, 2]\n",
        "\n",
        "# Plot\n",
        "plt.plot(z_go, fz_go, c=\"gray\",linewidth=2, label=\"GO\")\n",
        "plt.plot(z_theory, data_theory, c=\"k\", linewidth=2, linestyle=\"--\", \n",
        "         label=\"theory\")\n",
        "plt.plot(z_theory, fz_nn, c=\"orange\",linewidth=2, label=\"NN\")\n",
        "\n",
        "\n",
        "plt.title(\"$F_z$ vs $z$ at $x=y=0$\", fontsize=16)\n",
        "plt.xlabel(\"$z$ [$\\mu$m]\", fontsize=16)\n",
        "plt.ylabel(\"$F_z$ [fN]\", fontsize=16)\n",
        "plt.tick_params(axis=\"both\", which=\"major\", labelsize=8)\n",
        "plt.legend(fontsize=16)"
      ]
    },
    {
      "cell_type": "markdown",
      "metadata": {},
      "source": [
        " ¡\\circled{2}\\circlednote{2}{uses \\code{np.newaxis()} to increase the dimension of the numpy array to \\code{(1, 1, 3)}.}¡\n",
        "\n",
        "for the code below is incorrect. It should be \\code{(1, 3)}. It first reduced dimensionality by 1 by doing [t - 1] and then added it back again with newaxis. I rewrote it to not use newaxis at all."
      ]
    },
    {
      "cell_type": "code",
      "execution_count": 15,
      "metadata": {},
      "outputs": [
        {
          "name": "stderr",
          "output_type": "stream",
          "text": [
            "100%|██████████| 999/999 [00:00<00:00, 2840.22it/s]\n"
          ]
        },
        {
          "data": {
            "image/png": "[encoded data removed]",
            "text/plain": [
              "<Figure size 432x288 with 1 Axes>"
            ]
          },
          "metadata": {
            "needs_background": "light"
          },
          "output_type": "display_data"
        }
      ],
      "source": [
        "import math\n",
        "import tqdm\n",
        "\n",
        "# Parameters\n",
        "kB = 1.3806e-23 # Boltzman constant [(kg m^2)/(K s^2)]\n",
        "\n",
        "laser_power = 1e-3 # laser power [W]\n",
        "T = 293 # absolute temperature [K]\n",
        "R = 1.0e-6 # radius [m]\n",
        "eta = 1e-3 # viscosity [Pa s]\n",
        "\n",
        "gamma = 6 * math.pi * eta * R # friction coefficient\n",
        "D = kB * T / gamma # diffusion coefficient\n",
        "\n",
        "N = 1_000 # number of simulation steps\n",
        "delta_t = 0.001 # simulation time step [s]\n",
        "\n",
        "# Simulation\n",
        "positions = np.zeros((N, 3))\n",
        "\n",
        "for t in tqdm.tqdm(range(N - 1)):\n",
        "\t\n",
        "\n",
        "    position_t_current = positions[t:t+1] # ¡\\circled{2}\\circlednote{2}{uses \\code{np.newaxis()} to increase the dimension of the numpy array to \\code{(1, 1, 3)}.}¡\n",
        "    \n",
        "    # as torch tensor\n",
        "    position_t_current_nn = torch.from_numpy(position_t_current).float().to(regressor.device) * 1e6\n",
        "    forces = regressor(position_t_current_nn).cpu().detach().numpy() * 1e-15 #¡\\circled{3}\\circlednote{3}{predicts the forces acting on the sphere at position \\code{position\\_t\\_minus\\_1}. It also rescales the position from microns to meters and, then, the resulting force from femtonewtons to Newtons.}¡\n",
        "\n",
        "    new_position_delta = (\n",
        "\t\t  # COMMENT: precompute the constant factors? \n",
        "      laser_power / 0.005 / gamma * delta_t * forces +\n",
        "      np.sqrt(2 * D * delta_t) * np.random.normal(0, 1, size=(1, 3))\n",
        "    )\n",
        "\n",
        "    new_position = position_t_current + new_position_delta[0]\n",
        "\n",
        "    positions[t + 1] = new_position\n",
        "\n",
        "\n",
        "# Plot\n",
        "plt.plot(positions[:, 0], positions[:, 1], \"k\", linewidth=0.2)\n",
        "# plt.xlim([-.3e-6, .3e-6])\n",
        "# plt.ylim([-.3e-6, .3e-6])\n",
        "\n",
        "plt.xlabel(\"$x$ [m]\", fontsize=16)\n",
        "plt.ylabel(\"$y$ [m]\", fontsize=16)\n",
        "plt.tick_params(axis=\"both\", which=\"major\", labelsize=8)\n",
        "plt.gca().set_aspect(\"equal\", \"box\")"
      ]
    }
  ],
  "metadata": {
    "kernelspec": {
      "display_name": "Python 3",
      "language": "python",
      "name": "python3"
    },
    "language_info": {
      "codemirror_mode": {
        "name": "ipython",
        "version": 3
      },
      "file_extension": ".py",
      "mimetype": "text/x-python",
      "name": "python",
      "nbconvert_exporter": "python",
      "pygments_lexer": "ipython3",
      "version": "3.8.6"
    },
    "orig_nbformat": 4
  },
  "nbformat": 4,
  "nbformat_minor": 2
}
