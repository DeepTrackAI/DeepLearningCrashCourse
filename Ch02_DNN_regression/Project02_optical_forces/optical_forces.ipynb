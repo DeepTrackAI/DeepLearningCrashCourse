{
  "cells": [
    {
      "cell_type": "markdown",
      "metadata": {},
      "source": [
        "# Optical Forces Calculation\n",
        "\n",
        "We'll build a dense neural network to calculate the forces acting on an optically trapped particle. We will then use the trained neural network as an emulator of a physical system."
      ]
    },
    {
      "cell_type": "markdown",
      "metadata": {},
      "source": [
        "## The Dataset with Optical Forces in Geometrical Optics\n",
        "\n",
        "The following code will download the opical force dataset repository only if the `optical_forces_dataset` directory doesn't already exist."
      ]
    },
    {
      "cell_type": "code",
      "execution_count": null,
      "metadata": {},
      "outputs": [],
      "source": [
        "import os\n",
        "\n",
        "if not os.path.exists(\"optical_forces_dataset\"):\n",
        "    os.system(\"git clone https://github.com/DeepTrackAI/optical_forces_dataset\")"
      ]
    },
    {
      "cell_type": "markdown",
      "metadata": {},
      "source": [
        "First, we load the theoretical values of the optical force along the z axis $f_z$ as a function of the $z$ coordinate, i.e., $f_z(z)$, which is contained in `fz_vs_z_theory.txt`, which contains two columns corresponding to the z-position in micrometers and to the z-component of the optical force in piconewtons."
      ]
    },
    {
      "cell_type": "code",
      "execution_count": null,
      "metadata": {},
      "outputs": [],
      "source": [
        "import numpy as np\n",
        "\n",
        "fz_vs_z_path = os.path.join(\"optical_forces_dataset\", \"fz_vs_z_theory.txt\")\n",
        "\n",
        "data_theory = [] \n",
        "with open(fz_vs_z_path, \"r\") as file:\n",
        "\tfor line in file:\n",
        "\t\trow = []\n",
        "\t\tfor number in line.split(\",\"):\n",
        "\t\t\trow.append(float(number))\n",
        "\t\tdata_theory.append(row)\n",
        "\n",
        "data_theory = np.array(data_theory)\n",
        "z_theory = data_theory[:, 0]\n",
        "fz_theory = data_theory[:, 1] * 1e3 # conversion from pN to fN\n",
        "\n",
        "print(f\"Theory: {len(z_theory)} positions and {len(fz_theory)} forces\")"
      ]
    },
    {
      "cell_type": "markdown",
      "metadata": {},
      "source": [
        "Then, we load the optical forces calculated with the geometrical optics approach from two presaved numpy array contained in `xyz_go_100rays.npy` (4D numpy array with the x, y and z position of the particle where the optical forces are calculated) and `fxyz_go_100rays.npy` (4D numpy array with the x-, y- and z-components of the optical force at each position), and extract the positions and forces that are relevant for us."
      ]
    },
    {
      "cell_type": "code",
      "execution_count": null,
      "metadata": {},
      "outputs": [],
      "source": [
        "xyz_go = np.load(os.path.join(\"optical_forces_dataset\", \"xyz_go_100rays.npy\"))\n",
        "z_go = xyz_go[50, 50, :, 2]\n",
        "\n",
        "fxyz_go = np.load(os.path.join(\"optical_forces_dataset\", \"fxyz_go_100rays.npy\"))\n",
        "fz_go = fxyz_go[50, 50, :, 2]\n",
        "\n",
        "print(f\"GO: {len(z_go)} positions and {len(fz_go)} forces\")"
      ]
    },
    {
      "cell_type": "markdown",
      "metadata": {},
      "source": [
        "Finally, we plot the comparison between the theoretical and computed optical forces."
      ]
    },
    {
      "cell_type": "code",
      "execution_count": null,
      "metadata": {},
      "outputs": [],
      "source": [
        "import matplotlib.pyplot as plt\n",
        "\n",
        "plt.plot(z_go, fz_go, c=\"gray\",linewidth=2, label=\"GO\")\n",
        "plt.plot(z_theory, fz_theory, c=\"k\", linewidth=2, linestyle=\":\", label=\"theory\")\n",
        "plt.title(\"$F_z$ vs $z$ at $x=y=0$\", fontsize=16)\n",
        "plt.xlabel(\"$z$ [$\\mu$m]\", fontsize=16)\n",
        "plt.ylabel(\"$F_z$ [fN]\", fontsize=16)\n",
        "plt.tick_params(axis=\"both\", which=\"major\", labelsize=8)\n",
        "plt.legend(fontsize=16)\n",
        "plt.show()"
      ]
    },
    {
      "cell_type": "markdown",
      "metadata": {},
      "source": [
        "## Load Training Data\n",
        "\n",
        "The training data are contained in the files in the directory `sphere_100rays`. There are 101 files with names `force_grid_3D=1.txt`, `force_grid_3D=2.txt`, and so on. Each row in these file consists of eight numbers with the following format: $[R, n_{\\rm p}, x, y, z, f_{\\rm x}, f_{\\rm y}, f_{\\rm z}]$, where $R \\equiv 1^{−6}\\,{\\rm m}$ is the particle radius, $n_{\\rm p} \\equiv 1.5$ is its refractive index, $(x,y,z)$ are its position (in meters), and $(f_{\\rm x}, f_{\\rm y}, f_{\\rm z})$ are its force (in Newtons). \n",
        "\n",
        "Each file can be loaded with the `load_data_file()` function , which keeps only the positions converted in micrometers and the forces converted in femtonewtons, save it in `fnc_optical_forces.py` ...\n",
        "\n",
        "```python\n",
        "def load_data_file(filename):\n",
        "    data = []\n",
        "    with open(filename, \"r\") as file:\n",
        "        for line in file:\n",
        "            row = []\n",
        "            count = 0\n",
        "            for number in line.split():\n",
        "                if 2 <= count <= 4:\n",
        "                    row.append(float(number) * 1e6) # from m to um\n",
        "                elif 5 <= count <= 7:\n",
        "                    row.append(float(number) * 1e15) # from N to fN\n",
        "                count += 1\n",
        "            data.append(row)\n",
        "        return np.array(data)\n",
        "```\n",
        "\n",
        "... and use it to load a file."
      ]
    },
    {
      "cell_type": "code",
      "execution_count": null,
      "metadata": {},
      "outputs": [],
      "source": [
        "from fnc_optical_forces import load_data_file\n",
        "    \n",
        "data = load_data_file(os.path.join(\"optical_forces_dataset\", \"sphere_100rays\", \"force_grid_3D=1.txt\"))\n",
        "\n",
        "print(data)"
      ]
    },
    {
      "cell_type": "markdown",
      "metadata": {},
      "source": [
        "We can now load all data iterating over all files."
      ]
    },
    {
      "cell_type": "code",
      "execution_count": null,
      "metadata": {},
      "outputs": [],
      "source": [
        "data = np.empty((0, 6))\n",
        "for i in range (1, 102):\n",
        "    filename = os.path.join(\"optical_forces_dataset\", \"sphere_100rays\", f\"force_grid_3D={i}.txt\")\n",
        "    data = np.append(data, load_data_file(filename), axis=0)\n",
        "\n",
        "print(f\"{np.shape(data)[0]} data points with {np.shape(data)[1]} variables each\")"
      ]
    },
    {
      "cell_type": "markdown",
      "metadata": {},
      "source": [
        "## Split Training and Validation Data\n",
        "\n",
        "We now split the data between a training set and a validations set."
      ]
    },
    {
      "cell_type": "code",
      "execution_count": null,
      "metadata": {},
      "outputs": [],
      "source": [
        "train_split = .80\n",
        "\n",
        "np.random.shuffle(data) # in-place shuffle\n",
        "\n",
        "train_size = int(len(data) * train_split)\n",
        "\n",
        "data_train = data[:train_size]\n",
        "xyz_train = data_train[:, :3]\n",
        "fxyz_train = data_train[:, 3:]\n",
        "\n",
        "data_val = data[train_size:]\n",
        "xyz_val = data_val[:, :3]\n",
        "fxyz_val = data_val[:, 3:]\n",
        "\n",
        "print(f\"{len(xyz_train)} training datapoints\")\n",
        "print(f\"{len(xyz_val)} validation datapoints\")"
      ]
    },
    {
      "cell_type": "markdown",
      "metadata": {},
      "source": [
        "## Neural Network\n",
        "\n",
        "We will create, train, and evaluate the neural network."
      ]
    },
    {
      "cell_type": "markdown",
      "metadata": {},
      "source": [
        "### Neural Network Model\n",
        "\n",
        "We use the class `MultiLayerPerceptron` from `deeplay` to create a _dense neural network_ with three inputs (the particle positions $(x,y,z)$, `.in_features(3)`), three hidden layers with 256 neurons each (`.hidden_dims([256, 256, 256])`), and three outputs (the three components of the force $(f_{\\rm x}, f_{\\rm y}, f_{\\rm z})$, `.out_features(3)`)."
      ]
    },
    {
      "cell_type": "code",
      "execution_count": null,
      "metadata": {},
      "outputs": [],
      "source": [
        "import deeplay as dl\n",
        "\n",
        "mlp_config = (dl.Config()\n",
        "    .in_features(3)\n",
        "    .hidden_dims([256, 256, 256])\n",
        "    .out_features(3)\n",
        ")\n",
        "mlp_model = dl.MultiLayerPerceptron.from_config(mlp_config)\n",
        "\n",
        "print(mlp_model)\n",
        "print(f\"{sum(p.numel() for p in mlp_model.parameters())} trainable parameters\")"
      ]
    },
    {
      "cell_type": "markdown",
      "metadata": {},
      "source": [
        "### Application as Regressor\n",
        "\n",
        "We use the `Regressor` application class from `deeplay` to define what we want to do with the neural network.\n",
        "\n",
        "We add to the regressor the model we have just created (`.model(dt.MultiLayerPerceptron, mlp_config)`). Then, we set _mean squared error_ as loss function (`.loss(MSELoss)`), and set _Adam_ as optimizer (`.optimizer(Adam)`)."
      ]
    },
    {
      "cell_type": "code",
      "execution_count": null,
      "metadata": {},
      "outputs": [],
      "source": [
        "from torch.nn import MSELoss\n",
        "from torch.optim import Adam\n",
        "\n",
        "regressor_config = (dl.Config()\n",
        "    .model(dl.MultiLayerPerceptron, mlp_config)\n",
        "    .loss(MSELoss)\n",
        "    .optimizer(Adam)\n",
        ")\n",
        "regressor = dl.Regressor.from_config(regressor_config)\n",
        "    \n",
        "print(regressor)"
      ]
    },
    {
      "cell_type": "markdown",
      "metadata": {},
      "source": [
        "### cd:L02A:NN\n",
        "\n",
<<<<<<< HEAD:Ch02_DNN_regression/Ex02F/optical_forces.ipynb
        "Note that the correct way to do this in pytorch is to have a dataset:\n",
        "\n",
        "```python\n",
        "class MyDataset(Dataset):\n",
        "    def __init__(self, x, y):\n",
        "        self.x = x\n",
        "        self.y = y\n",
        "\n",
        "    def __len__(self):\n",
        "        return len(self.x)\n",
        "        \n",
        "    def __getitem__(self, idx):\n",
        "        return self.x[idx], self.y[idx]\n",
        "```\n"
      ]
    },
    {
      "cell_type": "code",
      "execution_count": null,
      "metadata": {},
      "outputs": [],
      "source": [
=======
        "Now, we define a custom dataset. This dataset contains pairs of input data (`x`) and corresponding target data (`y`). We do this by creating a class called `GODataset` that inherits from PyTorch's `Dataset` class. This class will handle tasks like initializing the dataset, determining its length, and retrieving individual samples. \n",
        "\n",
        "```python\n",
>>>>>>> 9a7f649620e1d9f13a10d2c6de46a16ae690d796:Ch02_DNN_regression/Project02_optical_forces/optical_forces.ipynb
        "from torch.utils.data import Dataset\n",
        "\n",
        "class MyDataset(Dataset):\n",
        "    def __init__(self, x, y):\n",
        "        self.x = x\n",
        "        self.y = y\n",
        "\n",
        "    def __len__(self):\n",
        "        return len(self.x)\n",
        "        \n",
        "    def __getitem__(self, idx):\n",
        "        return (\n",
        "            self.x[idx].astype(np.float32), \n",
        "            self.y[idx].astype(np.float32)\n",
        "        )\n",
        "    \n",
        "train_dataset = MyDataset(xyz_train, fxyz_train)\n",
        "val_dataset = MyDataset(xyz_val, fxyz_val)\n",
        "\n",
<<<<<<< HEAD:Ch02_DNN_regression/Ex02F/optical_forces.ipynb
=======
        "    def __getitem__(self, i):\n",
        "        return (self.r[i].astype(np.float32), self.f[i].astype(np.float32))\n",
        "```\n",
        "\n",
        "We save also `GODataset` in `fnc_optical_forces.py`.\n",
        "\n",
        "We also set up data loaders using these datasets, which will allow us to efficiently load and process data in batches during the training and validation phases of the neural network. Each batch will contain 1024 samples, which helps streamline the training process.\n"
      ]
    },
    {
      "cell_type": "code",
      "execution_count": null,
      "metadata": {},
      "outputs": [],
      "source": [
        "from fnc_optical_forces import GODataset\n",
        "\n",
        "train_dataset = GODataset(xyz_train, fxyz_train)\n",
>>>>>>> 9a7f649620e1d9f13a10d2c6de46a16ae690d796:Ch02_DNN_regression/Project02_optical_forces/optical_forces.ipynb
        "train_dataloader = dl.DataLoader(train_dataset, batch_size=1024)\n",
        "val_dataloader = dl.DataLoader(val_dataset, batch_size=1024)\n",
        "\n",
        "trainer = dl.Trainer(max_epochs=2, accelerator=\"auto\")\n",
        "\n",
        "trainer.fit(regressor, train_dataloader, val_dataloader)"
      ]
    },
    {
      "cell_type": "code",
      "execution_count": null,
      "metadata": {},
      "outputs": [],
      "source": [
        "next(iter(train_dataloader))"
      ]
    },
    {
      "cell_type": "code",
      "execution_count": null,
      "metadata": {},
      "outputs": [],
      "source": [
        "%load_ext tensorboard\n",
        "%tensorboard --logdir lightning_logs --port 6006\n"
      ]
    },
    {
      "cell_type": "code",
      "execution_count": null,
      "metadata": {},
      "outputs": [],
      "source": [
        "# NN\n",
        "positions_nn = torch.zeros((z_theory.shape[0], 3)).to(regressor.device)\n",
        "positions_nn[:, 2] = torch.from_numpy(z_theory)\n",
        "\n",
        "# Predict. \n",
        "# cpu() collects the data from the GPU to the CPU. \n",
        "# detach() removes the gradient information. \n",
        "# numpy() converts the tensor to a numpy array.\n",
        "forces_nn = regressor(positions_nn).cpu().detach().numpy()\n",
        "\n",
        "fz_nn = forces_nn[:, 2]\n",
        "\n",
        "# Plot\n",
        "plt.plot(z_go, fz_go, c=\"gray\",linewidth=2, label=\"GO\")\n",
        "plt.plot(z_theory, data_theory, c=\"k\", linewidth=2, linestyle=\"--\", \n",
        "         label=\"theory\")\n",
        "plt.plot(z_theory, fz_nn, c=\"orange\",linewidth=2, label=\"NN\")\n",
        "\n",
        "\n",
        "plt.title(\"$F_z$ vs $z$ at $x=y=0$\", fontsize=16)\n",
        "plt.xlabel(\"$z$ [$\\mu$m]\", fontsize=16)\n",
        "plt.ylabel(\"$F_z$ [fN]\", fontsize=16)\n",
        "plt.tick_params(axis=\"both\", which=\"major\", labelsize=8)\n",
        "plt.legend(fontsize=16)"
      ]
    },
    {
      "cell_type": "markdown",
      "metadata": {},
      "source": [
        " ¡\\circled{2}\\circlednote{2}{uses \\code{np.newaxis()} to increase the dimension of the numpy array to \\code{(1, 1, 3)}.}¡\n",
        "\n",
        "for the code below is incorrect. It should be \\code{(1, 3)}. It first reduced dimensionality by 1 by doing [t - 1] and then added it back again with newaxis. I rewrote it to not use newaxis at all."
      ]
    },
    {
      "cell_type": "code",
      "execution_count": null,
      "metadata": {},
      "outputs": [],
      "source": [
        "import math\n",
        "import tqdm\n",
        "\n",
        "# Parameters\n",
        "kB = 1.3806e-23 # Boltzman constant [(kg m^2)/(K s^2)]\n",
        "\n",
        "laser_power = 1e-3 # laser power [W]\n",
        "T = 293 # absolute temperature [K]\n",
        "R = 1.0e-6 # radius [m]\n",
        "eta = 1e-3 # viscosity [Pa s]\n",
        "\n",
        "gamma = 6 * math.pi * eta * R # friction coefficient\n",
        "D = kB * T / gamma # diffusion coefficient\n",
        "\n",
        "N = 1_000 # number of simulation steps\n",
        "delta_t = 0.001 # simulation time step [s]\n",
        "\n",
        "# Simulation\n",
        "positions = np.zeros((N, 3))\n",
        "\n",
        "for t in tqdm.tqdm(range(N - 1)):\n",
        "\t\n",
        "\n",
        "    position_t_current = positions[t:t+1] # ¡\\circled{2}\\circlednote{2}{uses \\code{np.newaxis()} to increase the dimension of the numpy array to \\code{(1, 1, 3)}.}¡\n",
        "    \n",
        "    # as torch tensor\n",
        "    position_t_current_nn = torch.from_numpy(position_t_current).float().to(regressor.device) * 1e6\n",
        "    forces = regressor(position_t_current_nn).cpu().detach().numpy() * 1e-15 #¡\\circled{3}\\circlednote{3}{predicts the forces acting on the sphere at position \\code{position\\_t\\_minus\\_1}. It also rescales the position from microns to meters and, then, the resulting force from femtonewtons to Newtons.}¡\n",
        "\n",
        "    new_position_delta = (\n",
        "\t\t  # COMMENT: precompute the constant factors? \n",
        "      laser_power / 0.005 / gamma * delta_t * forces +\n",
        "      np.sqrt(2 * D * delta_t) * np.random.normal(0, 1, size=(1, 3))\n",
        "    )\n",
        "\n",
        "    new_position = position_t_current + new_position_delta[0]\n",
        "\n",
        "    positions[t + 1] = new_position\n",
        "\n",
        "\n",
        "# Plot\n",
        "plt.plot(positions[:, 0], positions[:, 1], \"k\", linewidth=0.2)\n",
        "# plt.xlim([-.3e-6, .3e-6])\n",
        "# plt.ylim([-.3e-6, .3e-6])\n",
        "\n",
        "plt.xlabel(\"$x$ [m]\", fontsize=16)\n",
        "plt.ylabel(\"$y$ [m]\", fontsize=16)\n",
        "plt.tick_params(axis=\"both\", which=\"major\", labelsize=8)\n",
        "plt.gca().set_aspect(\"equal\", \"box\")"
      ]
    }
  ],
  "metadata": {
    "kernelspec": {
      "display_name": "Python 3",
      "language": "python",
      "name": "python3"
    },
    "language_info": {
      "codemirror_mode": {
        "name": "ipython",
        "version": 3
      },
      "file_extension": ".py",
      "mimetype": "text/x-python",
      "name": "python",
      "nbconvert_exporter": "python",
      "pygments_lexer": "ipython3",
      "version": "3.10.13"
    },
    "orig_nbformat": 4
  },
  "nbformat": 4,
  "nbformat_minor": 2
}
