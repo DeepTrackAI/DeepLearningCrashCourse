{
 "cells": [
  {
   "cell_type": "code",
   "execution_count": 1,
   "metadata": {},
   "outputs": [
    {
     "name": "stdout",
     "output_type": "stream",
     "text": [
      "mps\n"
     ]
    }
   ],
   "source": [
    "import torch\n",
    "\n",
    "if torch.cuda.is_available():\n",
    "    device = torch.device(\"cuda:0\")\n",
    "elif torch.backends.mps.is_available():\n",
    "    device = torch.device(\"mps\")\n",
    "else:\n",
    "    device = torch.device(\"cpu\")\n",
    "    \n",
    "print(device)"
   ]
  },
  {
   "cell_type": "code",
   "execution_count": 2,
   "metadata": {},
   "outputs": [],
   "source": [
    "import deeplay as dl \n",
    "import torch\n",
    "\n",
    "x = torch.zeros(100000, 28 * 28).to(device)\n",
    "model = dl.MultiLayerPerceptron(28 * 28, [], 1).build().to(device)\n",
    "model.predict(x);"
   ]
  },
  {
   "cell_type": "code",
   "execution_count": 3,
   "metadata": {},
   "outputs": [],
   "source": [
    "import deeplay as dl \n",
    "import torch\n",
    "\n",
    "x = torch.zeros(100000, 28 * 28).to(device)\n",
    "model = dl.LinearBlock(28 * 28, 1).build().to(device)\n",
    "model.predict(x);"
   ]
  },
  {
   "cell_type": "code",
   "execution_count": 4,
   "metadata": {},
   "outputs": [],
   "source": [
    "import deeplay as dl \n",
    "import torch\n",
    "\n",
    "x = torch.zeros(100000, 3, 32, 32).to(device)\n",
    "model = dl.ConvolutionalNeuralNetwork(3, [], 1).build().to(device)\n",
    "model.predict(x);"
   ]
  },
  {
   "cell_type": "code",
   "execution_count": 5,
   "metadata": {},
   "outputs": [
    {
     "name": "stdout",
     "output_type": "stream",
     "text": [
      "Start predict backbone\n",
      "Start predict head\n"
     ]
    },
    {
     "ename": "",
     "evalue": "",
     "output_type": "error",
     "traceback": [
      "\u001b[1;31mThe Kernel crashed while executing code in the current cell or a previous cell. \n",
      "\u001b[1;31mPlease review the code in the cell(s) to identify a possible cause of the failure. \n",
      "\u001b[1;31mClick <a href='https://aka.ms/vscodeJupyterKernelCrash'>here</a> for more info. \n",
      "\u001b[1;31mView Jupyter <a href='command:jupyter.viewOutput'>log</a> for further details."
     ]
    }
   ],
   "source": [
    "import deeplay as dl \n",
    "import torch\n",
    "\n",
    "x = torch.zeros(59998, 1, 28, 28).to(device)\n",
    "backbone = dl.models.BackboneResnet18(1, pool_output=True).build().to(device)\n",
    "head = dl.MultiLayerPerceptron(512, [512, 512], 10).build().to(device)\n",
    "\n",
    "print(\"Start predict backbone\", flush=True)\n",
    "y = backbone.predict(x)\n",
    "print(\"Start predict head\", flush=True)\n",
    "y = head.predict(y)\n",
    "print(\"End predict\", flush=True)"
   ]
  },
  {
   "cell_type": "code",
   "execution_count": 2,
   "metadata": {},
   "outputs": [
    {
     "name": "stdout",
     "output_type": "stream",
     "text": [
      "Start predict backbone\n",
      "Start predict head\n",
      "End predict\n"
     ]
    }
   ],
   "source": [
    "import deeplay as dl \n",
    "import torch\n",
    "\n",
    "x = torch.zeros(59998, 1, 28, 28)\n",
    "\n",
    "backbone = dl.ConvolutionalNeuralNetwork(1, [], 512).to(\"mps\")\n",
    "backbone.blocks[-1].append(dl.Layer(torch.nn.AdaptiveAvgPool2d, 1))\n",
    "backbone.build().to(\"mps\")\n",
    "\n",
    "head = dl.MultiLayerPerceptron(512, [512, 512], 10).build().to(\"mps\")\n",
    "\n",
    "print(\"Start predict backbone\", flush=True)\n",
    "y = backbone.predict(x)\n",
    "print(\"Start predict head\", flush=True)\n",
    "y = head.predict(y)\n",
    "print(\"End predict\", flush=True)"
   ]
  },
  {
   "cell_type": "code",
   "execution_count": null,
   "metadata": {},
   "outputs": [],
   "source": []
  }
 ],
 "metadata": {
  "kernelspec": {
   "display_name": "Python 3",
   "language": "python",
   "name": "python3"
  },
  "language_info": {
   "codemirror_mode": {
    "name": "ipython",
    "version": 3
   },
   "file_extension": ".py",
   "mimetype": "text/x-python",
   "name": "python",
   "nbconvert_exporter": "python",
   "pygments_lexer": "ipython3",
   "version": "3.12.2"
  }
 },
 "nbformat": 4,
 "nbformat_minor": 2
}
