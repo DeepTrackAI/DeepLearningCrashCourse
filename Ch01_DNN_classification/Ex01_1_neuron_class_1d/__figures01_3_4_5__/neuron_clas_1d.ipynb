{
 "cells": [
  {
   "cell_type": "markdown",
   "metadata": {},
   "source": [
    "# Classifying 1D with a Single Neuron\n",
    "\n",
    "This notebook provides you with a complete code example that loads the data in `data_class_1d_clean.csv`, trains a neuron to classify it, and finally uses it to predict the classification of the data in `data_class_1d_clean_test.csv`. "
   ]
  },
  {
   "cell_type": "markdown",
   "metadata": {},
   "source": [
    "## Loading the Data"
   ]
  },
  {
   "cell_type": "code",
   "execution_count": null,
   "metadata": {},
   "outputs": [],
   "source": [
    "from loader import load_data_1d\n",
    "\n",
    "(x, y_gt) = load_data_1d(filename=\"data_class_1d_clean.csv\")\n",
    "\n",
    "print(\"x:\", x)\n",
    "print(\"y_gt:\", y_gt)"
   ]
  },
  {
   "cell_type": "markdown",
   "metadata": {},
   "source": [
    "## Visualizing the Data"
   ]
  },
  {
   "cell_type": "code",
   "execution_count": null,
   "metadata": {},
   "outputs": [],
   "source": [
    "from plotting import plot_data_1d\n",
    "\n",
    "plot_data_1d(x, y_gt, fig_name=\"fig_01_03.pdf\")  ### plot_data_1d(x, y_gt)"
   ]
  },
  {
   "cell_type": "markdown",
   "metadata": {},
   "source": [
    "## Implementing a Single Neuron\n",
    "\n",
    "Create a single neuron with one scalar weigth `w0` and one input `x` (which can be a scalar or a vector corresponding to multiple inputs) ..."
   ]
  },
  {
   "cell_type": "code",
   "execution_count": null,
   "metadata": {},
   "outputs": [],
   "source": [
    "def neuron_clas_1d(w0, x):\n",
    "    \"\"\"Artificial neuron for 1D classification.\"\"\" \n",
    "    return (w0 * x > 0).astype(int)"
   ]
  },
  {
   "cell_type": "markdown",
   "metadata": {},
   "source": [
    "... randomly initialize its weights ..."
   ]
  },
  {
   "cell_type": "code",
   "execution_count": null,
   "metadata": {},
   "outputs": [],
   "source": [
    "from numpy.random import default_rng\n",
    "\n",
    "rng = default_rng()\n",
    "w0 = rng.standard_normal()"
   ]
  },
  {
   "cell_type": "markdown",
   "metadata": {},
   "source": [
    "... obtain its predition `y_p` for the input data (which has the same shape as `x`) ..."
   ]
  },
  {
   "cell_type": "code",
   "execution_count": null,
   "metadata": {},
   "outputs": [],
   "source": [
    "y_p = neuron_clas_1d(w0, x)"
   ]
  },
  {
   "cell_type": "markdown",
   "metadata": {},
   "source": [
    "... and visualize its predictions."
   ]
  },
  {
   "cell_type": "code",
   "execution_count": null,
   "metadata": {},
   "outputs": [],
   "source": [
    "from plotting import plot_pred_1d\n",
    "\n",
    "plot_pred_1d(x, y_gt, y_p=neuron_clas_1d(w0, x), fig_name=\"fig_01_04.pdf\")  ### plot_pred_1d(x, y_gt, y_p=neuron_clas_1d(w0, x))"
   ]
  },
  {
   "cell_type": "markdown",
   "metadata": {},
   "source": [
    "## Training the Neuron\n",
    "\n",
    "Train the neuron ..."
   ]
  },
  {
   "cell_type": "code",
   "execution_count": null,
   "metadata": {},
   "outputs": [],
   "source": [
    "num_samples = len(x)\n",
    "num_train_iterations = 100\n",
    "eta = .1  # Learning rate.\n",
    "\n",
    "for i in range(num_train_iterations):\n",
    "    selected = rng.integers(0, num_samples) # Select random sample. \n",
    "    x0_selected = x[selected]\n",
    "    y_gt_selected = y_gt[selected]\n",
    "    \n",
    "    y_p_selected = neuron_clas_1d(w0, x0_selected)  # Neuron prediction.\n",
    "    \n",
    "    error = y_p_selected - y_gt_selected  # Calculate error.\n",
    "    \n",
    "    w0 -= eta * error * x0_selected  # Update neuron weight.\n",
    "\n",
    "    print(f\"i={i} w0={w0:.2f} error={error:.2f}\")"
   ]
  },
  {
   "cell_type": "markdown",
   "metadata": {},
   "source": [
    "... and plot its performance."
   ]
  },
  {
   "cell_type": "code",
   "execution_count": null,
   "metadata": {},
   "outputs": [],
   "source": [
    "plot_pred_1d(x, y_gt, y_p=neuron_clas_1d(w0, x), fig_name=\"fig_01_05.pdf\") ### plot_pred_1d(x, y_gt, y_p=neuron_clas_1d(w0, x))"
   ]
  },
  {
   "cell_type": "markdown",
   "metadata": {},
   "source": [
    "## Training\n",
    "\n",
    "We now train the neuron..."
   ]
  },
  {
   "cell_type": "markdown",
   "metadata": {},
   "source": [
    "... and plot its performance, again using the function `plot_pred_1d` from `plotting.py`."
   ]
  },
  {
   "cell_type": "code",
   "execution_count": null,
   "metadata": {},
   "outputs": [],
   "source": [
    "plot_pred_1d(x, y_gt, y_p=neuron_clas_1d(w0, x))"
   ]
  },
  {
   "cell_type": "markdown",
   "metadata": {},
   "source": [
    "## Testing the Trained Neuron\n",
    "\n",
    "Check how the trained neuron works on the test data."
   ]
  },
  {
   "cell_type": "code",
   "execution_count": null,
   "metadata": {},
   "outputs": [],
   "source": [
    "(x_test, y_gt_test) = load_data_1d(filename=\"data_class_1d_clean_test.csv\")\n",
    "\n",
    "plot_pred_1d(x_test, y_gt_test, y_p=neuron_clas_1d(w0, x_test))"
   ]
  },
  {
   "cell_type": "code",
   "execution_count": null,
   "metadata": {},
   "outputs": [],
   "source": []
  }
 ],
 "metadata": {
  "kernelspec": {
   "display_name": "py310",
   "language": "python",
   "name": "python3"
  },
  "language_info": {
   "codemirror_mode": {
    "name": "ipython",
    "version": 3
   },
   "file_extension": ".py",
   "mimetype": "text/x-python",
   "name": "python",
   "nbconvert_exporter": "python",
   "pygments_lexer": "ipython3",
   "version": "3.10.13"
  }
 },
 "nbformat": 4,
 "nbformat_minor": 2
}
