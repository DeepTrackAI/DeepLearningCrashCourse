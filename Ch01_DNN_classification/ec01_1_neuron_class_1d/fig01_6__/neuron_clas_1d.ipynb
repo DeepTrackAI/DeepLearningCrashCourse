{
 "cells": [
  {
   "cell_type": "markdown",
   "metadata": {},
   "source": [
    "# Classifying 1D with a Single Neuron\n",
    "\n",
    "This notebook provides you with a complete code example that loads the data in `data_class_1d_clean.csv`, trains a neuron to classify it, and finally uses it to predict the classification of the data in `data_class_1d_clean_test.csv`. "
   ]
  },
  {
   "cell_type": "markdown",
   "metadata": {},
   "source": [
    "## Loading the Data"
   ]
  },
  {
   "cell_type": "code",
   "execution_count": 1,
   "metadata": {},
   "outputs": [
    {
     "name": "stdout",
     "output_type": "stream",
     "text": [
      "x: [ 0.25106942 -1.4526217   0.08321064  1.29589268 -1.16278646  0.67081204\n",
      " -0.26344517 -0.19462802  0.06992607  0.79651493]\n",
      "y_gt: [1. 0. 0. 1. 0. 1. 1. 1. 1. 1.]\n"
     ]
    }
   ],
   "source": [
    "from loader import load_data_1d\n",
    "\n",
    "(x, y_gt) = load_data_1d(filename=\"data_class_1d_noisy.csv\")\n",
    "\n",
    "print(\"x:\", x)\n",
    "print(\"y_gt:\", y_gt)"
   ]
  },
  {
   "cell_type": "markdown",
   "metadata": {},
   "source": [
    "## Visualizing the Data"
   ]
  },
  {
   "cell_type": "code",
   "execution_count": 2,
   "metadata": {},
   "outputs": [
    {
     "data": {
      "image/png": "[encoded data removed]",
      "text/plain": [
       "<Figure size 640x480 with 1 Axes>"
      ]
     },
     "metadata": {},
     "output_type": "display_data"
    }
   ],
   "source": [
    "from plotting import plot_data_1d\n",
    "\n",
    "plot_data_1d(x, y_gt, fig_name=\"fig_01_06a.pdf\")  ### plot_data_1d(x, y_gt)"
   ]
  },
  {
   "cell_type": "markdown",
   "metadata": {},
   "source": [
    "## Implementing a Single Neuron\n",
    "\n",
    "Create a single neuron with one scalar weigth `w0` and one input `x` (which can be a scalar or a vector corresponding to multiple inputs) ..."
   ]
  },
  {
   "cell_type": "code",
   "execution_count": 3,
   "metadata": {},
   "outputs": [],
   "source": [
    "def neuron_clas_1d(w0, x):\n",
    "    \"\"\"Artificial neuron for 1D classification.\"\"\" \n",
    "    return (w0 * x > 0).astype(int)"
   ]
  },
  {
   "cell_type": "markdown",
   "metadata": {},
   "source": [
    "... randomly initialize its weights ..."
   ]
  },
  {
   "cell_type": "code",
   "execution_count": 4,
   "metadata": {},
   "outputs": [],
   "source": [
    "from numpy.random import default_rng\n",
    "\n",
    "rng = default_rng()\n",
    "w0 = rng.standard_normal()"
   ]
  },
  {
   "cell_type": "markdown",
   "metadata": {},
   "source": [
    "... obtain its predition `y_p` for the input data (which has the same shape as `x`) ..."
   ]
  },
  {
   "cell_type": "code",
   "execution_count": 5,
   "metadata": {},
   "outputs": [],
   "source": [
    "y_p = neuron_clas_1d(w0, x)"
   ]
  },
  {
   "cell_type": "markdown",
   "metadata": {},
   "source": [
    "... and visualize its predictions."
   ]
  },
  {
   "cell_type": "code",
   "execution_count": 6,
   "metadata": {},
   "outputs": [],
   "source": [
    "from plotting import plot_pred_1d\n",
    "\n",
    "### plot_pred_1d(x, y_gt, y_p=neuron_clas_1d(w0, x))"
   ]
  },
  {
   "cell_type": "markdown",
   "metadata": {},
   "source": [
    "## Training the Neuron\n",
    "\n",
    "Train the neuron ..."
   ]
  },
  {
   "cell_type": "code",
   "execution_count": 7,
   "metadata": {},
   "outputs": [
    {
     "name": "stdout",
     "output_type": "stream",
     "text": [
      "i=0 w0=0.39 error=0.00\n",
      "i=1 w0=0.39 error=0.00\n",
      "i=2 w0=0.39 error=0.00\n",
      "i=3 w0=0.37 error=-1.00\n",
      "i=4 w0=0.35 error=-1.00\n",
      "i=5 w0=0.35 error=0.00\n",
      "i=6 w0=0.34 error=-1.00\n",
      "i=7 w0=0.33 error=1.00\n",
      "i=8 w0=0.33 error=0.00\n",
      "i=9 w0=0.33 error=0.00\n",
      "i=10 w0=0.31 error=-1.00\n",
      "i=11 w0=0.29 error=-1.00\n",
      "i=12 w0=0.29 error=0.00\n",
      "i=13 w0=0.28 error=1.00\n",
      "i=14 w0=0.28 error=0.00\n",
      "i=15 w0=0.26 error=-1.00\n",
      "i=16 w0=0.26 error=0.00\n",
      "i=17 w0=0.25 error=1.00\n",
      "i=18 w0=0.25 error=0.00\n",
      "i=19 w0=0.25 error=0.00\n",
      "i=20 w0=0.25 error=0.00\n",
      "i=21 w0=0.25 error=0.00\n",
      "i=22 w0=0.25 error=0.00\n",
      "i=23 w0=0.25 error=0.00\n",
      "i=24 w0=0.25 error=0.00\n",
      "i=25 w0=0.25 error=0.00\n",
      "i=26 w0=0.25 error=0.00\n",
      "i=27 w0=0.25 error=0.00\n",
      "i=28 w0=0.25 error=0.00\n",
      "i=29 w0=0.25 error=0.00\n",
      "i=30 w0=0.24 error=1.00\n",
      "i=31 w0=0.24 error=0.00\n",
      "i=32 w0=0.22 error=-1.00\n",
      "i=33 w0=0.22 error=0.00\n",
      "i=34 w0=0.22 error=0.00\n",
      "i=35 w0=0.22 error=0.00\n",
      "i=36 w0=0.22 error=0.00\n",
      "i=37 w0=0.22 error=0.00\n",
      "i=38 w0=0.21 error=1.00\n",
      "i=39 w0=0.21 error=0.00\n",
      "i=40 w0=0.21 error=0.00\n",
      "i=41 w0=0.21 error=0.00\n",
      "i=42 w0=0.21 error=0.00\n",
      "i=43 w0=0.21 error=0.00\n",
      "i=44 w0=0.18 error=-1.00\n",
      "i=45 w0=0.16 error=-1.00\n",
      "i=46 w0=0.16 error=0.00\n",
      "i=47 w0=0.16 error=0.00\n",
      "i=48 w0=0.16 error=0.00\n",
      "i=49 w0=0.14 error=-1.00\n",
      "i=50 w0=0.14 error=0.00\n",
      "i=51 w0=0.14 error=0.00\n",
      "i=52 w0=0.14 error=0.00\n",
      "i=53 w0=0.14 error=0.00\n",
      "i=54 w0=0.14 error=0.00\n",
      "i=55 w0=0.14 error=0.00\n",
      "i=56 w0=0.14 error=0.00\n",
      "i=57 w0=0.12 error=-1.00\n",
      "i=58 w0=0.12 error=0.00\n",
      "i=59 w0=0.12 error=0.00\n",
      "i=60 w0=0.10 error=-1.00\n",
      "i=61 w0=0.07 error=-1.00\n",
      "i=62 w0=0.06 error=1.00\n",
      "i=63 w0=0.04 error=-1.00\n",
      "i=64 w0=0.04 error=0.00\n",
      "i=65 w0=0.04 error=0.00\n",
      "i=66 w0=0.01 error=-1.00\n",
      "i=67 w0=0.00 error=1.00\n",
      "i=68 w0=-0.01 error=1.00\n",
      "i=69 w0=0.02 error=-1.00\n",
      "i=70 w0=0.02 error=0.00\n",
      "i=71 w0=-0.01 error=-1.00\n",
      "i=72 w0=0.07 error=-1.00\n",
      "i=73 w0=0.06 error=1.00\n",
      "i=74 w0=0.06 error=0.00\n",
      "i=75 w0=0.06 error=0.00\n",
      "i=76 w0=0.06 error=1.00\n",
      "i=77 w0=0.06 error=0.00\n",
      "i=78 w0=0.06 error=0.00\n",
      "i=79 w0=0.04 error=-1.00\n",
      "i=80 w0=0.04 error=0.00\n",
      "i=81 w0=0.04 error=0.00\n",
      "i=82 w0=0.04 error=0.00\n",
      "i=83 w0=0.04 error=0.00\n",
      "i=84 w0=0.04 error=0.00\n",
      "i=85 w0=0.04 error=0.00\n",
      "i=86 w0=0.04 error=0.00\n",
      "i=87 w0=0.04 error=0.00\n",
      "i=88 w0=0.01 error=-1.00\n",
      "i=89 w0=0.00 error=1.00\n",
      "i=90 w0=0.00 error=0.00\n",
      "i=91 w0=0.00 error=0.00\n",
      "i=92 w0=0.00 error=0.00\n",
      "i=93 w0=-0.01 error=1.00\n",
      "i=94 w0=-0.01 error=0.00\n",
      "i=95 w0=0.06 error=-1.00\n",
      "i=96 w0=0.06 error=0.00\n",
      "i=97 w0=0.06 error=0.00\n",
      "i=98 w0=0.06 error=0.00\n",
      "i=99 w0=0.06 error=0.00\n"
     ]
    }
   ],
   "source": [
    "num_samples = len(x)\n",
    "num_train_iterations = 100\n",
    "eta = .1  # Learning rate.\n",
    "\n",
    "for i in range(num_train_iterations):\n",
    "    selected = rng.integers(0, num_samples) # Select random sample. \n",
    "    x0_selected = x[selected]\n",
    "    y_gt_selected = y_gt[selected]\n",
    "    \n",
    "    y_p_selected = neuron_clas_1d(w0, x0_selected)  # Neuron prediction.\n",
    "    \n",
    "    error = y_p_selected - y_gt_selected  # Calculate error.\n",
    "    \n",
    "    w0 -= eta * error * x0_selected  # Update neuron weight.\n",
    "\n",
    "    print(f\"i={i} w0={w0:.2f} error={error:.2f}\")"
   ]
  },
  {
   "cell_type": "markdown",
   "metadata": {},
   "source": [
    "... and plot its performance."
   ]
  },
  {
   "cell_type": "code",
   "execution_count": 8,
   "metadata": {},
   "outputs": [
    {
     "data": {
      "image/png": "[encoded data removed]",
      "text/plain": [
       "<Figure size 640x480 with 1 Axes>"
      ]
     },
     "metadata": {},
     "output_type": "display_data"
    }
   ],
   "source": [
    "plot_pred_1d(x, y_gt, y_p=neuron_clas_1d(w0, x), fig_name=\"fig_01_06b.pdf\") ### plot_pred_1d(x, y_gt, y_p=neuron_clas_1d(w0, x))"
   ]
  },
  {
   "cell_type": "markdown",
   "metadata": {},
   "source": [
    "## Testing the Trained Neuron\n",
    "\n",
    "Check how the trained neuron works on the test data."
   ]
  },
  {
   "cell_type": "code",
   "execution_count": 9,
   "metadata": {},
   "outputs": [],
   "source": [
    "### (x_test, y_gt_test) = load_data_1d(filename=\"data_class_1d_clean_test.csv\")\n",
    "\n",
    "### plot_pred_1d(x_test, y_gt_test, y_p=neuron_clas_1d(w0, x_test))"
   ]
  },
  {
   "cell_type": "code",
   "execution_count": null,
   "metadata": {},
   "outputs": [],
   "source": []
  }
 ],
 "metadata": {
  "kernelspec": {
   "display_name": "py310",
   "language": "python",
   "name": "python3"
  },
  "language_info": {
   "codemirror_mode": {
    "name": "ipython",
    "version": 3
   },
   "file_extension": ".py",
   "mimetype": "text/x-python",
   "name": "python",
   "nbconvert_exporter": "python",
   "pygments_lexer": "ipython3",
   "version": "3.10.13"
  }
 },
 "nbformat": 4,
 "nbformat_minor": 2
}
