{
 "cells": [
  {
   "cell_type": "markdown",
   "metadata": {},
   "source": [
    "get corpus from https://www.manythings.org/anki/ "
   ]
  },
  {
   "cell_type": "code",
   "execution_count": 24,
   "metadata": {},
   "outputs": [],
   "source": [
    "import os\n",
    "\n",
    "input_lang = \"eng\"\n",
    "target_lang = \"spa\"\n",
    "\n",
    "if os.path.isfile(f\"{input_lang}-{target_lang}.txt\"):\n",
    "    filepath = f\"{input_lang}-{target_lang}.txt\"\n",
    "    reverse = False\n",
    "elif os.path.isfile(f\"{target_lang}-{input_lang}.txt\"):\n",
    "    filepath = f\"{target_lang}-{input_lang}.txt\"\n",
    "    reverse = True\n",
    "else:\n",
    "    raise FileNotFoundError(\"Missing training set for specified language pair\")"
   ]
  },
  {
   "cell_type": "markdown",
   "metadata": {},
   "source": [
    "tokenize"
   ]
  },
  {
   "cell_type": "code",
   "execution_count": 25,
   "metadata": {},
   "outputs": [
    {
     "name": "stdout",
     "output_type": "stream",
     "text": [
      "['I', 'am', 'building', 'a', 'translator', '!']\n",
      "['¡', 'Estoy', 'construyendo', 'un', 'traductor', '!']\n"
     ]
    }
   ],
   "source": [
    "import re, contractions\n",
    "from torchtext.data.utils import get_tokenizer\n",
    "\n",
    "tokenizer_eng = get_tokenizer(\"spacy\", language=\"en_core_web_sm\")\n",
    "tokenizer_spa = get_tokenizer(\"spacy\", language=\"es_core_news_sm\")\n",
    "\n",
    "\n",
    "def tokenize(text, lang=None):\n",
    "    if lang == \"eng\":\n",
    "        text = contractions.fix(text)\n",
    "        tokenizer = tokenizer_eng\n",
    "    elif lang == \"spa\":\n",
    "        tokenizer = tokenizer_spa\n",
    "    else:\n",
    "        raise NotImplementedError(\"Missing tokenizer for specified language \")\n",
    "\n",
    "    standardized_text = (\n",
    "        text.replace(\"’\", \"'\")\n",
    "        .replace(\"‘\", \"'\")\n",
    "        .replace(\"´\", \"'\")\n",
    "        .replace(\"“\", '\"')\n",
    "        .replace(\"”\", '\"')\n",
    "        .replace(\"´´\", '\"')\n",
    "    )\n",
    "    tokens = tokenizer(standardized_text)\n",
    "    filtered_tokens = [\n",
    "        token\n",
    "        for token in tokens\n",
    "        if re.match(\n",
    "            r\"^[a-zA-Z0-9áéíóúüñÁÉÍÓÚÜÑ.,!?¡¿]+(-[a-zA-Z0-9áéíóúüñÁÉÍÓÚÜÑ.,!?¡¿]+)*(_[a-zA-Z0-9áéíóúüñÁÉÍÓÚÜÑ.,!?¡¿]+)*$\",\n",
    "            token,\n",
    "            re.VERBOSE,\n",
    "        )\n",
    "    ]\n",
    "    return filtered_tokens\n",
    "\n",
    "\n",
    "#\n",
    "#\n",
    "#\n",
    "#\n",
    "# Example usage:\n",
    "text_eng = \"I'm building a translator!\"\n",
    "text_spa = \"¡Estoy construyendo un traductor!\"\n",
    "print(tokenize(text_eng, lang=\"eng\"))\n",
    "print(tokenize(text_spa, lang=\"spa\"))"
   ]
  },
  {
   "cell_type": "markdown",
   "metadata": {},
   "source": [
    "define vocabularies from corpu as defined in next chapter"
   ]
  },
  {
   "cell_type": "code",
   "execution_count": 26,
   "metadata": {},
   "outputs": [],
   "source": [
    "def corpus_iterator(filepath, lang, reverse):\n",
    "    with open(filepath, \"r\", encoding=\"utf-8\") as file:\n",
    "        for line in file:\n",
    "            elems = line.strip().split(\"\\t\")\n",
    "            selected_text = elems[1 if reverse else 0]\n",
    "            yield tokenize(selected_text, lang)"
   ]
  },
  {
   "cell_type": "code",
   "execution_count": 27,
   "metadata": {},
   "outputs": [],
   "source": [
    "from torchtext.vocab import build_vocab_from_iterator\n",
    "\n",
    "\n",
    "def build_vocab(filepath, lang, reverse, specials=\"<unk>\", min_freq=5):\n",
    "    vocab = build_vocab_from_iterator(\n",
    "        corpus_iterator(filepath, lang, reverse),\n",
    "        min_freq=min_freq,\n",
    "        specials=specials,\n",
    "    )\n",
    "    vocab.set_default_index(vocab[specials[-1]])\n",
    "    return vocab\n",
    "\n",
    "\n",
    "special_tokens = [\"<pad>\", \"<sos>\", \"<eos>\", \"<unk>\"]\n",
    "\n",
    "vocab_input = build_vocab(filepath, input_lang, reverse, special_tokens)\n",
    "vocab_target = build_vocab(filepath, target_lang, not reverse, special_tokens)"
   ]
  },
  {
   "cell_type": "code",
   "execution_count": 28,
   "metadata": {},
   "outputs": [
    {
     "data": {
      "text/plain": [
       "6082"
      ]
     },
     "execution_count": 28,
     "metadata": {},
     "output_type": "execute_result"
    }
   ],
   "source": [
    "vocab_input.__len__()"
   ]
  },
  {
   "cell_type": "code",
   "execution_count": 29,
   "metadata": {},
   "outputs": [
    {
     "data": {
      "text/plain": [
       "'some'"
      ]
     },
     "execution_count": 29,
     "metadata": {},
     "output_type": "execute_result"
    }
   ],
   "source": [
    "vocab_input.lookup_token(120)"
   ]
  },
  {
   "cell_type": "markdown",
   "metadata": {},
   "source": [
    "preprocess data "
   ]
  },
  {
   "cell_type": "code",
   "execution_count": 30,
   "metadata": {},
   "outputs": [],
   "source": [
    "import numpy as np\n",
    "\n",
    "\n",
    "def all_words_in_vocab(sentence, vocab):\n",
    "    return all(word in vocab for word in sentence)\n",
    "\n",
    "\n",
    "def pad_sentence(sequence, max_length=10):\n",
    "    padding_length = max_length - len(sequence)\n",
    "    return [\"<sos>\"] + sequence + [\"<eos>\"] + [\"<pad>\"] * padding_length\n",
    "\n",
    "\n",
    "def process_corpus(\n",
    "    lines,\n",
    "    reverse,\n",
    "    input_lang,\n",
    "    target_lang,\n",
    "    vocab_input,\n",
    "    vocab_target,\n",
    "    max_length=10,\n",
    "):\n",
    "    processed_inputs, processed_targets = [], []\n",
    "\n",
    "    for line in lines:\n",
    "        elems = line.strip().split(\"\\t\")\n",
    "\n",
    "        input_seq = tokenize(elems[int(reverse)], input_lang)\n",
    "        target_seq = tokenize(elems[int(not reverse)], target_lang)\n",
    "\n",
    "        if (\n",
    "            all_words_in_vocab(input_seq, vocab_input)\n",
    "            and all_words_in_vocab(target_seq, vocab_target)\n",
    "            and len(input_seq) <= max_length\n",
    "            and len(target_seq) <= max_length\n",
    "        ):\n",
    "            padded_input = pad_sentence(input_seq)\n",
    "            padded_target = pad_sentence(target_seq)\n",
    "\n",
    "            processed_inputs.append(vocab_input(padded_input))\n",
    "            processed_targets.append(vocab_target(padded_target))\n",
    "\n",
    "    return np.array(processed_inputs), np.array(processed_targets)"
   ]
  },
  {
   "cell_type": "markdown",
   "metadata": {},
   "source": [
    "datasets, dataloader"
   ]
  },
  {
   "cell_type": "code",
   "execution_count": 31,
   "metadata": {},
   "outputs": [],
   "source": [
    "import deeptrack as dt\n",
    "import torch\n",
    "from torch.utils.data import DataLoader\n",
    "\n",
    "\n",
    "with open(filepath, \"r\", encoding=\"utf-8\") as file:\n",
    "    inputs, targets = process_corpus(\n",
    "        file, reverse, input_lang, target_lang, vocab_input, vocab_target\n",
    "    )\n",
    "\n",
    "sources = dt.sources.Source(inputs=inputs, targets=targets)\n",
    "train_sources, test_sources = dt.sources.random_split(sources, [0.85, 0.15])\n",
    "\n",
    "inputs_pl = dt.Value(sources.inputs) >> dt.pytorch.ToTensor(dtype=torch.int)\n",
    "targets_pl = dt.Value(sources.targets) >> dt.pytorch.ToTensor(dtype=torch.int)\n",
    "\n",
    "\n",
    "from torch.utils.data import DataLoader\n",
    "\n",
    "train_dataset = dt.pytorch.Dataset(\n",
    "    inputs_pl & targets_pl,\n",
    "    inputs=train_sources\n",
    ")\n",
    "\n",
    "test_dataset = dt.pytorch.Dataset(\n",
    "    inputs_pl & targets_pl,\n",
    "    inputs=test_sources\n",
    ")\n",
    "\n",
    "train_loader = DataLoader(train_dataset, batch_size=256, shuffle=True)\n",
    "test_loader = DataLoader(test_dataset, batch_size=256, shuffle=False)"
   ]
  },
  {
   "cell_type": "code",
   "execution_count": 32,
   "metadata": {},
   "outputs": [
    {
     "name": "stdout",
     "output_type": "stream",
     "text": [
      "Number of queries/responses: 91183\n"
     ]
    }
   ],
   "source": [
    "import numpy as np\n",
    "\n",
    "print(f\"Number of queries/responses: {len(inputs)}\")"
   ]
  },
  {
   "cell_type": "markdown",
   "metadata": {},
   "source": [
    "encoder"
   ]
  },
  {
   "cell_type": "code",
   "execution_count": 33,
   "metadata": {},
   "outputs": [],
   "source": [
    "from deeplay import DeeplayModule\n",
    "import torch\n",
    "\n",
    "\n",
    "class Seq2SeqEncoder(DeeplayModule):\n",
    "\n",
    "    def __init__(\n",
    "        self,\n",
    "        vocab_size,\n",
    "        in_features = 300,\n",
    "        hidden_features = 128,\n",
    "        hidden_layers = 1,\n",
    "        dropout = 0.0,\n",
    "        rnn_type= \"GRU\",\n",
    "        bidirectional=True,\n",
    "    ):\n",
    "        super().__init__()\n",
    "        if isinstance(rnn_type, type) and issubclass(rnn_type, torch.nn.Module):\n",
    "            self.rnn_class = rnn_type\n",
    "        elif rnn_type == \"LSTM\":\n",
    "            self.rnn_class = torch.nn.LSTM\n",
    "        elif rnn_type == \"GRU\":\n",
    "            self.rnn_class = torch.nn.GRU\n",
    "        else:\n",
    "            self.rnn_class = torch.nn.RNN\n",
    "\n",
    "        self.hidden_features = hidden_features\n",
    "        self.hidden_layers = hidden_layers\n",
    "        self.bidirectional = bidirectional\n",
    "        self.embedding = dl.Layer(torch.nn.Embedding, vocab_size, in_features)\n",
    "        self.rnn = dl.Layer(\n",
    "            self.rnn_class,\n",
    "            input_size=in_features,\n",
    "            hidden_size=hidden_features,\n",
    "            num_layers=hidden_layers,\n",
    "            dropout=(0 if hidden_layers == 1 else dropout),\n",
    "            bidirectional=bidirectional,\n",
    "            batch_first=True,\n",
    "        )\n",
    "\n",
    "    def forward(self, x, hidden=None):\n",
    "        x = self.embedding(x)\n",
    "        outputs, hidden = self.rnn(x, hidden)\n",
    "        if self.bidirectional:\n",
    "            outputs = (\n",
    "                outputs[:, :, : self.hidden_features]\n",
    "                + outputs[:, :, self.hidden_features :]\n",
    "            )\n",
    "            hidden = hidden[: self.hidden_layers]\n",
    "        return outputs, hidden"
   ]
  },
  {
   "cell_type": "markdown",
   "metadata": {},
   "source": [
    "decoder"
   ]
  },
  {
   "cell_type": "code",
   "execution_count": 34,
   "metadata": {},
   "outputs": [],
   "source": [
    "class Seq2SeqDecoder(DeeplayModule):\n",
    "\n",
    "    def __init__(\n",
    "        self,\n",
    "        vocab_size,\n",
    "        in_features = 300,\n",
    "        hidden_features = 128,\n",
    "        hidden_layers = 1,\n",
    "        dropout = 0.0,\n",
    "        rnn_type= \"GRU\",\n",
    "        attn = None,  #####\n",
    "    ):\n",
    "        super().__init__()\n",
    "        if isinstance(rnn_type, type) and issubclass(rnn_type, torch.nn.Module):\n",
    "            self.rnn_class = rnn_type\n",
    "        elif rnn_type == \"LSTM\":\n",
    "            self.rnn_class = torch.nn.LSTM\n",
    "        elif rnn_type == \"GRU\":\n",
    "            self.rnn_class = torch.nn.GRU\n",
    "        else:\n",
    "            self.rnn_class = torch.nn.RNN\n",
    "\n",
    "        self.in_features = in_features\n",
    "        self.hidden_features = hidden_features\n",
    "        self.num_layers = hidden_layers\n",
    "        self.attn = attn  #####\n",
    "        self.embedding = dl.Layer(torch.nn.Embedding, vocab_size, in_features)\n",
    "        self.rnn = dl.Layer(\n",
    "            self.rnn_class,\n",
    "            input_size=(\n",
    "                in_features + hidden_features if attn is not None else in_features\n",
    "            ),  #####\n",
    "            hidden_size=hidden_features,\n",
    "            num_layers=hidden_layers,\n",
    "            bidirectional=False,\n",
    "            batch_first=True,\n",
    "            dropout=(0 if hidden_layers == 1 else dropout),\n",
    "        )\n",
    "        self.dense = dl.Layer(torch.nn.Linear, hidden_features, vocab_size)\n",
    "        self.softmax = dl.Layer(torch.nn.Softmax, dim=-1)\n",
    "        self.relu = dl.Layer(torch.nn.ReLU)\n",
    "\n",
    "    def forward(self, x, hidden, encoder_outputs):  #####\n",
    "        x = self.embedding(x) ##### from\n",
    "        if self.attn:  \n",
    "            query = hidden[-1:, :, :].permute(1, 0, 2)\n",
    "            context, attn_weights = self.attn(query, encoder_outputs)\n",
    "            x = torch.cat((x, context), dim=2)\n",
    "        else:\n",
    "            x = self.relu(x)\n",
    "            attn_weights = []  ##### to\n",
    "        output, hidden = self.rnn(x, hidden)\n",
    "        output = self.dense(output)\n",
    "        output = self.softmax(output)\n",
    "        return output, hidden, attn_weights  ###"
   ]
  },
  {
   "cell_type": "markdown",
   "metadata": {},
   "source": [
    "seq2seq"
   ]
  },
  {
   "cell_type": "code",
   "execution_count": 35,
   "metadata": {},
   "outputs": [],
   "source": [
    "class Seq2SeqModel(DeeplayModule):\n",
    "\n",
    "    def __init__(\n",
    "        self,\n",
    "        in_vocab_size,\n",
    "        out_vocab_size,\n",
    "        teacher_prob=1.0,\n",
    "        embedding_dim = 300,\n",
    "        hidden_features = 128,\n",
    "        hidden_layers = 1,\n",
    "        dropout = 0.0,\n",
    "        rnn_type = \"GRU\",\n",
    "        bidirectional=True,\n",
    "        attn = None,  #####\n",
    "    ):\n",
    "        super().__init__()\n",
    "        self.out_vocab_size = out_vocab_size\n",
    "        self.teacher_prob = teacher_prob\n",
    "        self.attn = attn  #####\n",
    "        self.encoder = Seq2SeqEncoder(\n",
    "            in_vocab_size,\n",
    "            embedding_dim,\n",
    "            hidden_features,\n",
    "            hidden_layers,\n",
    "            dropout,\n",
    "            rnn_type,\n",
    "            bidirectional,\n",
    "        )\n",
    "        self.decoder = Seq2SeqDecoder(\n",
    "            out_vocab_size,\n",
    "            embedding_dim,\n",
    "            hidden_features,\n",
    "            hidden_layers,\n",
    "            dropout,\n",
    "            rnn_type,\n",
    "            attn,  #####\n",
    "        )\n",
    "\n",
    "    def forward(self, x):\n",
    "        input, target = x\n",
    "        encoder_outputs, encoder_hidden = self.encoder(input)\n",
    "        decoder_hidden = encoder_hidden\n",
    "        decoder_outputs = torch.zeros(\n",
    "            (\n",
    "                target.size(0),\n",
    "                target.size(1),\n",
    "                self.out_vocab_size,\n",
    "            )\n",
    "        ).to(next(self.encoder.parameters()).device)\n",
    "\n",
    "        for t in range(input.size(1)):\n",
    "            if t == 0 or np.random.rand() < self.teacher_prob:\n",
    "                decoder_input = target[:, t].unsqueeze(-1)\n",
    "            else:\n",
    "                decoder_input = topi.squeeze(-1).detach()\n",
    "\n",
    "            decoder_input = decoder_input.to(next(self.decoder.parameters()).device)\n",
    "\n",
    "            decoder_output, decoder_hidden, _ = self.decoder(  #####\n",
    "                decoder_input,\n",
    "                decoder_hidden,\n",
    "                encoder_outputs,  #####\n",
    "            )\n",
    "\n",
    "            _, topi = decoder_output.topk(1)\n",
    "            decoder_outputs[:, t, :] = decoder_output.squeeze(1)\n",
    "\n",
    "        return decoder_outputs  # , decoder_hidden  ##### CARLO\n",
    "\n",
    "    def evaluate(self, x):\n",
    "        if isinstance(x, (list, tuple)):\n",
    "            input = x[0]\n",
    "        else:\n",
    "            input = x\n",
    "\n",
    "        with torch.no_grad():\n",
    "            encoder_outputs, encoder_hidden = self.encoder(input)\n",
    "        decoder_hidden = encoder_hidden\n",
    "        outputs = torch.zeros(\n",
    "            input.shape,\n",
    "        ).to(next(self.encoder.parameters()).device)\n",
    "        attentions = []  #####\n",
    "        for t in range(input.size(1)):\n",
    "            if t == 0:\n",
    "                decoder_input = torch.full(\n",
    "                    size=(input.size(0), 1),\n",
    "                    fill_value=1,\n",
    "                    device=next(self.encoder.parameters()).device,\n",
    "                )\n",
    "            else:\n",
    "                decoder_input = topi.squeeze(-1).detach()\n",
    "\n",
    "            decoder_input = decoder_input.to(next(self.decoder.parameters()).device)\n",
    "            with torch.no_grad():\n",
    "                decoder_output, decoder_hidden, attn_weights = self.decoder(  #####\n",
    "                    decoder_input,\n",
    "                    decoder_hidden,\n",
    "                    encoder_outputs,  #####\n",
    "                )\n",
    "                attentions.append(attn_weights)  #####\n",
    "            _, topi = decoder_output.topk(1)\n",
    "            outputs[:, t] = topi.squeeze()\n",
    "\n",
    "        return outputs, attentions  #####"
   ]
  },
  {
   "cell_type": "markdown",
   "metadata": {},
   "source": [
    "loss"
   ]
  },
  {
   "cell_type": "code",
   "execution_count": 36,
   "metadata": {},
   "outputs": [],
   "source": [
    "def maskedNLL(inp, target, PADtoken=0):\n",
    "    mask = target != PADtoken\n",
    "    NLL = -torch.log(torch.gather(inp.view(-1, inp.shape[-1]), 1, target.view(-1, 1)))\n",
    "    loss = NLL.masked_select(mask.view(-1, 1)).mean()\n",
    "    return loss"
   ]
  },
  {
   "cell_type": "markdown",
   "metadata": {},
   "source": [
    "application"
   ]
  },
  {
   "cell_type": "code",
   "execution_count": 37,
   "metadata": {},
   "outputs": [],
   "source": [
    "from deeplay import Application, Optimizer\n",
    "# import torchmetrics as tm\n",
    "\n",
    "\n",
    "class Seq2Seq(Application):\n",
    "\n",
    "    def __init__(\n",
    "        self,\n",
    "        in_vocab,\n",
    "        out_vocab,\n",
    "        teacher_prob=1.0,\n",
    "        model=None,\n",
    "        optimizer=None,\n",
    "        loss=None,\n",
    "        attn = None,  #####\n",
    "    ):\n",
    "\n",
    "        in_vocab_size = len(in_vocab)\n",
    "        out_vocab_size = len(out_vocab)\n",
    "\n",
    "        self.model = model or Seq2SeqModel(\n",
    "            in_vocab_size=in_vocab_size,\n",
    "            out_vocab_size=out_vocab_size,\n",
    "            teacher_prob=teacher_prob,\n",
    "            attn=attn,  #####\n",
    "        )\n",
    "\n",
    "        self.in_vocab_size = in_vocab_size\n",
    "        self.out_vocab_size = out_vocab_size\n",
    "        self.teacher_prob = teacher_prob\n",
    "        self.optimizer = optimizer or dl.Adam(lr=1e-3)\n",
    "        self.loss = loss or maskedNLL\n",
    "        self.out_vocab = out_vocab\n",
    "\n",
    "        @self.optimizer.params\n",
    "        def params(self):\n",
    "            return self.parameters()\n",
    "\n",
    "        super().__init__(loss=loss)\n",
    "\n",
    "    def train_preprocess(self, batch):\n",
    "        x = batch\n",
    "        y = torch.cat((x[-1][:, 1:], x[-1][:, -1:]), dim=1)\n",
    "        return x, y\n",
    "\n",
    "    val_preprocess = train_preprocess\n",
    "    test_preprocess = train_preprocess\n",
    "\n",
    "    def forward(self, x):\n",
    "        decoder_outputs = self.model(x)  ##### #, decoder_hidden CARLO\n",
    "\n",
    "        return decoder_outputs"
   ]
  },
  {
   "cell_type": "markdown",
   "metadata": {},
   "source": [
    "embeddings"
   ]
  },
  {
   "cell_type": "code",
   "execution_count": 38,
   "metadata": {},
   "outputs": [
    {
     "name": "stderr",
     "output_type": "stream",
     "text": [
      "INFO:torchtext.vocab.vectors:Loading vectors from ./.vector_cache/glove.42B.300d.txt.pt\n"
     ]
    }
   ],
   "source": [
    "from torchtext.vocab import GloVe\n",
    "\n",
    "embedding_dim = 300\n",
    "\n",
    "glove = GloVe(name=\"42B\", dim=embedding_dim, cache=\"./.vector_cache\")\n",
    "\n",
    "glove_embeddings_input = glove.get_vecs_by_tokens(\n",
    "    vocab_input.get_itos(), lower_case_backup=True\n",
    ")\n",
    "glove_embeddings_target = glove.get_vecs_by_tokens(\n",
    "    vocab_target.get_itos(), lower_case_backup=True\n",
    ")\n",
    "\n",
    "num_special_tokens = len(special_tokens)\n",
    "glove_embeddings_input[1:num_special_tokens] = (\n",
    "    torch.rand(num_special_tokens - 1, embedding_dim) * 0.01\n",
    ")  \n",
    "\n",
    "glove_embeddings_target[1:num_special_tokens] = (\n",
    "    torch.rand(num_special_tokens - 1, embedding_dim) * 0.01\n",
    ") "
   ]
  },
  {
   "cell_type": "markdown",
   "metadata": {},
   "source": [
    "attentions"
   ]
  },
  {
   "cell_type": "code",
   "execution_count": 39,
   "metadata": {},
   "outputs": [],
   "source": [
    "class DotProductAttention(DeeplayModule):\n",
    "\n",
    "    def __init__(self):\n",
    "        super().__init__()\n",
    "        self.act = dl.Layer(torch.nn.Softmax, dim=-1)\n",
    "\n",
    "    def forward(self, query, keys):\n",
    "        scores = torch.sum(query * keys, dim=2).unsqueeze(1)\n",
    "        weights = self.act(scores)\n",
    "        context = torch.bmm(weights, keys)\n",
    "\n",
    "        return context, weights"
   ]
  },
  {
   "cell_type": "code",
   "execution_count": 40,
   "metadata": {},
   "outputs": [],
   "source": [
    "class AdditiveAttention(DeeplayModule):\n",
    "\n",
    "    def __init__(self, in_features=128, emb_dim=300):\n",
    "        super().__init__()\n",
    "        self.Wa = dl.Layer(torch.nn.Linear, in_features, emb_dim)\n",
    "        self.Ua = dl.Layer(torch.nn.Linear, in_features, emb_dim)\n",
    "        self.Va = dl.Layer(torch.nn.Linear, emb_dim, 1)\n",
    "        self.act = dl.Layer(torch.nn.Softmax, dim=-1)\n",
    "\n",
    "    def forward(self, query, keys):\n",
    "        scores = self.Va(torch.tanh(self.Wa(query) + self.Ua(keys)))\n",
    "        scores = scores.squeeze(2).unsqueeze(1)\n",
    "        weights = self.act(scores)\n",
    "        context = torch.bmm(weights, keys)\n",
    "\n",
    "        return context, weights"
   ]
  },
  {
   "cell_type": "markdown",
   "metadata": {},
   "source": [
    "model (select the kind of attention you want to use)"
   ]
  },
  {
   "cell_type": "code",
   "execution_count": 41,
   "metadata": {},
   "outputs": [],
   "source": [
    "import deeplay as dl\n",
    "\n",
    "#attn = DotProductAttention()\n",
    "attn = AdditiveAttention()\n",
    "\n",
    "seq2seq = Seq2Seq(\n",
    "    in_vocab=vocab_input,\n",
    "    out_vocab=vocab_target,\n",
    "    teacher_prob=0.85,\n",
    "    attn=attn,\n",
    ")\n",
    "\n",
    "seq2seq = seq2seq.create()"
   ]
  },
  {
   "cell_type": "code",
   "execution_count": 42,
   "metadata": {},
   "outputs": [],
   "source": [
    "seq2seq.model.encoder.embedding.weight.data = glove_embeddings_input\n",
    "seq2seq.model.encoder.embedding.weight.requires_grad = False\n",
    "seq2seq.model.decoder.embedding.weight.data = glove_embeddings_target\n",
    "seq2seq.model.decoder.embedding.weight.requires_grad = False"
   ]
  },
  {
   "cell_type": "code",
   "execution_count": 43,
   "metadata": {},
   "outputs": [
    {
     "data": {
      "text/html": [
       "<pre style=\"white-space:pre;overflow-x:auto;line-height:normal;font-family:Menlo,'DejaVu Sans Mono',consolas,'Courier New',monospace\">┏━━━┳━━━━━━━━━━━━━━━┳━━━━━━━━━━━━━━━━━━┳━━━━━━━━┓\n",
       "┃<span style=\"color: #800080; text-decoration-color: #800080; font-weight: bold\">   </span>┃<span style=\"color: #800080; text-decoration-color: #800080; font-weight: bold\"> Name          </span>┃<span style=\"color: #800080; text-decoration-color: #800080; font-weight: bold\"> Type             </span>┃<span style=\"color: #800080; text-decoration-color: #800080; font-weight: bold\"> Params </span>┃\n",
       "┡━━━╇━━━━━━━━━━━━━━━╇━━━━━━━━━━━━━━━━━━╇━━━━━━━━┩\n",
       "│<span style=\"color: #7f7f7f; text-decoration-color: #7f7f7f\"> 0 </span>│ model         │ Seq2SeqModel     │  6.4 M │\n",
       "│<span style=\"color: #7f7f7f; text-decoration-color: #7f7f7f\"> 1 </span>│ out_vocab     │ Vocab            │      0 │\n",
       "│<span style=\"color: #7f7f7f; text-decoration-color: #7f7f7f\"> 2 </span>│ train_metrics │ MetricCollection │      0 │\n",
       "│<span style=\"color: #7f7f7f; text-decoration-color: #7f7f7f\"> 3 </span>│ val_metrics   │ MetricCollection │      0 │\n",
       "│<span style=\"color: #7f7f7f; text-decoration-color: #7f7f7f\"> 4 </span>│ test_metrics  │ MetricCollection │      0 │\n",
       "│<span style=\"color: #7f7f7f; text-decoration-color: #7f7f7f\"> 5 </span>│ optimizer     │ Adam             │      0 │\n",
       "└───┴───────────────┴──────────────────┴────────┘\n",
       "</pre>\n"
      ],
      "text/plain": [
       "┏━━━┳━━━━━━━━━━━━━━━┳━━━━━━━━━━━━━━━━━━┳━━━━━━━━┓\n",
       "┃\u001b[1;35m \u001b[0m\u001b[1;35m \u001b[0m\u001b[1;35m \u001b[0m┃\u001b[1;35m \u001b[0m\u001b[1;35mName         \u001b[0m\u001b[1;35m \u001b[0m┃\u001b[1;35m \u001b[0m\u001b[1;35mType            \u001b[0m\u001b[1;35m \u001b[0m┃\u001b[1;35m \u001b[0m\u001b[1;35mParams\u001b[0m\u001b[1;35m \u001b[0m┃\n",
       "┡━━━╇━━━━━━━━━━━━━━━╇━━━━━━━━━━━━━━━━━━╇━━━━━━━━┩\n",
       "│\u001b[2m \u001b[0m\u001b[2m0\u001b[0m\u001b[2m \u001b[0m│ model         │ Seq2SeqModel     │  6.4 M │\n",
       "│\u001b[2m \u001b[0m\u001b[2m1\u001b[0m\u001b[2m \u001b[0m│ out_vocab     │ Vocab            │      0 │\n",
       "│\u001b[2m \u001b[0m\u001b[2m2\u001b[0m\u001b[2m \u001b[0m│ train_metrics │ MetricCollection │      0 │\n",
       "│\u001b[2m \u001b[0m\u001b[2m3\u001b[0m\u001b[2m \u001b[0m│ val_metrics   │ MetricCollection │      0 │\n",
       "│\u001b[2m \u001b[0m\u001b[2m4\u001b[0m\u001b[2m \u001b[0m│ test_metrics  │ MetricCollection │      0 │\n",
       "│\u001b[2m \u001b[0m\u001b[2m5\u001b[0m\u001b[2m \u001b[0m│ optimizer     │ Adam             │      0 │\n",
       "└───┴───────────────┴──────────────────┴────────┘\n"
      ]
     },
     "metadata": {},
     "output_type": "display_data"
    },
    {
     "data": {
      "text/html": [
       "<pre style=\"white-space:pre;overflow-x:auto;line-height:normal;font-family:Menlo,'DejaVu Sans Mono',consolas,'Courier New',monospace\"><span style=\"font-weight: bold\">Trainable params</span>: 1.8 M                                                                                            \n",
       "<span style=\"font-weight: bold\">Non-trainable params</span>: 4.6 M                                                                                        \n",
       "<span style=\"font-weight: bold\">Total params</span>: 6.4 M                                                                                                \n",
       "<span style=\"font-weight: bold\">Total estimated model params size (MB)</span>: 25                                                                         \n",
       "</pre>\n"
      ],
      "text/plain": [
       "\u001b[1mTrainable params\u001b[0m: 1.8 M                                                                                            \n",
       "\u001b[1mNon-trainable params\u001b[0m: 4.6 M                                                                                        \n",
       "\u001b[1mTotal params\u001b[0m: 6.4 M                                                                                                \n",
       "\u001b[1mTotal estimated model params size (MB)\u001b[0m: 25                                                                         \n"
      ]
     },
     "metadata": {},
     "output_type": "display_data"
    },
    {
     "data": {
      "application/vnd.jupyter.widget-view+json": {
       "model_id": "2b39ef56d5d84ab1a355303689c1cf3c",
       "version_major": 2,
       "version_minor": 0
      },
      "text/plain": [
       "Output()"
      ]
     },
     "metadata": {},
     "output_type": "display_data"
    },
    {
     "data": {
      "text/html": [
       "<pre style=\"white-space:pre;overflow-x:auto;line-height:normal;font-family:Menlo,'DejaVu Sans Mono',consolas,'Courier New',monospace\"></pre>\n"
      ],
      "text/plain": []
     },
     "metadata": {},
     "output_type": "display_data"
    },
    {
     "data": {
      "text/html": [
       "<pre style=\"white-space:pre;overflow-x:auto;line-height:normal;font-family:Menlo,'DejaVu Sans Mono',consolas,'Courier New',monospace\">\n",
       "</pre>\n"
      ],
      "text/plain": [
       "\n"
      ]
     },
     "metadata": {},
     "output_type": "display_data"
    }
   ],
   "source": [
    "trainer = dl.Trainer(max_epochs=25, accelerator=\"auto\")\n",
    "trainer.fit(seq2seq, train_loader)"
   ]
  },
  {
   "cell_type": "code",
   "execution_count": 44,
   "metadata": {},
   "outputs": [
    {
     "data": {
      "text/plain": [
       "(<Figure size 1500x500 with 1 Axes>,\n",
       " array([[<Axes: title={'center': 'Loss'}, xlabel='Step'>]], dtype=object))"
      ]
     },
     "execution_count": 44,
     "metadata": {},
     "output_type": "execute_result"
    },
    {
     "data": {
      "image/png": "[encoded data removed]",
      "text/plain": [
       "<Figure size 1500x500 with 1 Axes>"
      ]
     },
     "metadata": {},
     "output_type": "display_data"
    }
   ],
   "source": [
    "trainer.history.plot()"
   ]
  },
  {
   "cell_type": "markdown",
   "metadata": {},
   "source": [
    "evaluate results"
   ]
  },
  {
   "cell_type": "code",
   "execution_count": 45,
   "metadata": {},
   "outputs": [],
   "source": [
    "def unprocess(x, vocab):\n",
    "    unproc = []\n",
    "    for s in x:\n",
    "        idxs = s[s > 2]\n",
    "        current_words = [vocab.lookup_token(idx) for idx in idxs]\n",
    "        unproc.append(\" \".join(current_words))\n",
    "\n",
    "    return unproc"
   ]
  },
  {
   "cell_type": "code",
   "execution_count": 46,
   "metadata": {},
   "outputs": [],
   "source": [
    "from matplotlib import pyplot as plt\n",
    "from matplotlib.ticker import MultipleLocator\n",
    "\n",
    "\n",
    "def translate_and_display_attn(\n",
    "    source_text,\n",
    "    model,\n",
    "    input_lang,\n",
    "    vocab_input,\n",
    "    vocab_target,\n",
    "):\n",
    "    query_tokens = tokenize(source_text, input_lang)\n",
    "    query_tokens = pad_sentence(query_tokens)\n",
    "    query_indices = vocab_input(query_tokens)\n",
    "    if 3 in query_indices:\n",
    "        print(\n",
    "            \"Warning: Unknown word(s) found in the input text. They were replaced by the placeholder token.\"\n",
    "        )\n",
    "\n",
    "    source_sequence = torch.tensor(query_indices, dtype=torch.int).unsqueeze(0)\n",
    "\n",
    "    source_sequence = source_sequence.to(next(model.parameters()).device)\n",
    "    y_hat, attns = model.evaluate(source_sequence)  #####\n",
    "\n",
    "    y_hat_un = [vocab_target.lookup_token(y) for y in y_hat.squeeze()]\n",
    "\n",
    "    att = torch.cat(attns, dim=1).squeeze()\n",
    "    fig = plt.figure()\n",
    "    ax = fig.add_subplot(111)\n",
    "    cax = ax.matshow(att, cmap=\"bone\")\n",
    "    fig.colorbar(cax)\n",
    "\n",
    "    ax.set_xticklabels(\n",
    "        [\"\"] + query_tokens, rotation=90\n",
    "    )\n",
    "    ax.set_yticklabels([\"\"] + y_hat_un)\n",
    "\n",
    "    ax.xaxis.set_major_locator(MultipleLocator(1))\n",
    "    ax.yaxis.set_major_locator(MultipleLocator(1))\n",
    "\n",
    "    plt.show()\n",
    "\n",
    "    translated_text = unprocess(y_hat, vocab_target)\n",
    "    print(f\"\\nInput Sentence: {source_text}\")\n",
    "    print(f\"Predicted Translation: {translated_text[0]}\")"
   ]
  },
  {
   "cell_type": "code",
   "execution_count": 49,
   "metadata": {},
   "outputs": [
    {
     "name": "stderr",
     "output_type": "stream",
     "text": [
      "/var/folders/m1/pc2jmjl93c7chdf35rtyxdg0h6sh_6/T/ipykernel_9509/782198433.py:33: UserWarning: set_ticklabels() should only be used with a fixed number of ticks, i.e. after set_ticks() or using a FixedLocator.\n",
      "  ax.set_xticklabels(\n",
      "/var/folders/m1/pc2jmjl93c7chdf35rtyxdg0h6sh_6/T/ipykernel_9509/782198433.py:36: UserWarning: set_ticklabels() should only be used with a fixed number of ticks, i.e. after set_ticks() or using a FixedLocator.\n",
      "  ax.set_yticklabels([\"\"] + y_hat_un)\n"
     ]
    },
    {
     "data": {
      "image/png": "[encoded data removed]",
      "text/plain": [
       "<Figure size 640x480 with 2 Axes>"
      ]
     },
     "metadata": {},
     "output_type": "display_data"
    },
    {
     "name": "stdout",
     "output_type": "stream",
     "text": [
      "\n",
      "Input Sentence: Do you think that we should go home?\n",
      "Predicted Translation: ¿ Crees que deberíamos ir a casa ?\n"
     ]
    }
   ],
   "source": [
    "source_text = \"Do you think that we should go home?\"\n",
    "translate_and_display_attn(source_text,seq2seq.model,input_lang, vocab_input,vocab_target)"
   ]
  },
  {
   "cell_type": "code",
   "execution_count": 54,
   "metadata": {},
   "outputs": [
    {
     "name": "stderr",
     "output_type": "stream",
     "text": [
      "/var/folders/m1/pc2jmjl93c7chdf35rtyxdg0h6sh_6/T/ipykernel_9509/782198433.py:33: UserWarning: set_ticklabels() should only be used with a fixed number of ticks, i.e. after set_ticks() or using a FixedLocator.\n",
      "  ax.set_xticklabels(\n",
      "/var/folders/m1/pc2jmjl93c7chdf35rtyxdg0h6sh_6/T/ipykernel_9509/782198433.py:36: UserWarning: set_ticklabels() should only be used with a fixed number of ticks, i.e. after set_ticks() or using a FixedLocator.\n",
      "  ax.set_yticklabels([\"\"] + y_hat_un)\n"
     ]
    },
    {
     "data": {
      "image/png": "[encoded data removed]",
      "text/plain": [
       "<Figure size 640x480 with 2 Axes>"
      ]
     },
     "metadata": {},
     "output_type": "display_data"
    },
    {
     "name": "stdout",
     "output_type": "stream",
     "text": [
      "\n",
      "Input Sentence: The book I bought is very interesting.\n",
      "Predicted Translation: El libro que compré es muy interesante .\n"
     ]
    }
   ],
   "source": [
    "source_text = \"The book I bought is very interesting.\"\n",
    "translate_and_display_attn(source_text,seq2seq.model,input_lang, vocab_input,vocab_target)"
   ]
  },
  {
   "cell_type": "markdown",
   "metadata": {},
   "source": [
    "calculate BLEU score"
   ]
  },
  {
   "cell_type": "code",
   "execution_count": 52,
   "metadata": {},
   "outputs": [],
   "source": [
    "from torchmetrics.text import BLEUScore\n",
    "\n",
    "bleu_score = BLEUScore()"
   ]
  },
  {
   "cell_type": "code",
   "execution_count": 53,
   "metadata": {},
   "outputs": [
    {
     "name": "stdout",
     "output_type": "stream",
     "text": [
      "\n",
      "Examples from batch 1:\n",
      "\n",
      "Input Sentence: The old man spoke with me in French .\n",
      "Predicted Translation: El anciano habló conmigo francés .\n",
      "Actual Translation: El anciano me habló en francés .\n",
      "\n",
      "Input Sentence: Tell me it is not true .\n",
      "Predicted Translation: Dime que no es verdad .\n",
      "Actual Translation: Decime que no es verdad .\n",
      "\n",
      "Input Sentence: He got off to a flying start .\n",
      "Predicted Translation: Él se puso a volar un un domingo .\n",
      "Actual Translation: Empezó con mucho impulso .\n",
      "\n",
      "Examples from batch 2:\n",
      "\n",
      "Input Sentence: She is Tom younger sister .\n",
      "Predicted Translation: Ella es la hermana menor de Tom .\n",
      "Actual Translation: Ella es la hermana menor de Tom .\n",
      "\n",
      "Input Sentence: You may not have heard about this .\n",
      "Predicted Translation: Puede que no has oído de esto .\n",
      "Actual Translation: Puede que no hayas escuchado hablar sobre esto .\n",
      "\n",
      "Input Sentence: What did you say ?\n",
      "Predicted Translation: ¿ Qué dijo ?\n",
      "Actual Translation: ¿ Qué has dicho ?\n",
      "\n",
      "Examples from batch 3:\n",
      "\n",
      "Input Sentence: Tom , Mary and John are all here .\n",
      "Predicted Translation: Mary , Mary y John están aquí de Tom .\n",
      "Actual Translation: Tom , Mary y John están todos aquí .\n",
      "\n",
      "Input Sentence: Do not interrupt me while I am speaking .\n",
      "Predicted Translation: No me interrumpas cuando estoy hablando .\n",
      "Actual Translation: No me interrumpas mientras estoy hablando .\n",
      "\n",
      "Input Sentence: Why do not we have lunch together ?\n",
      "Predicted Translation: ¿ Por qué no comemos juntos ?\n",
      "Actual Translation: ¿ Por qué no almorzamos juntos ?\n",
      "\n",
      "Validation BLEU Score: 0.415\n"
     ]
    }
   ],
   "source": [
    "# device = \"cpu\"\n",
    "# seq2seq.model.to(device)\n",
    "device = next(seq2seq.model.parameters()).device\n",
    "\n",
    "for batch_index, (inputs, targets) in enumerate(test_loader):\n",
    "    inputs, targets = inputs.to(device), targets.to(device)\n",
    "    y_hat, _ = seq2seq.model.evaluate((inputs, targets))  #####\n",
    "\n",
    "    input_un = unprocess(inputs, vocab_input)\n",
    "    y_hat_un = unprocess(y_hat, vocab_target)\n",
    "    target_un = unprocess(targets, vocab_target)\n",
    "    y = [[yi] for yi in target_un]\n",
    "\n",
    "    bleu_score.update(y_hat_un, y)\n",
    "\n",
    "    if batch_index < 3:\n",
    "        print(f\"\\nExamples from batch {batch_index + 1}:\")\n",
    "        for i in range(min(3, len(input_un))):\n",
    "            print(f\"\\nInput Sentence: {input_un[i]}\")\n",
    "            print(f\"Predicted Translation: {y_hat_un[i]}\")\n",
    "            print(f\"Actual Translation: {target_un[i]}\")\n",
    "\n",
    "final_bleu = bleu_score.compute()\n",
    "print(f\"\\nValidation BLEU Score: {final_bleu:.3f}\")"
   ]
  },
  {
   "cell_type": "markdown",
   "metadata": {},
   "source": [
    "try on a few new sentences"
   ]
  }
 ],
 "metadata": {
  "accelerator": "GPU",
  "colab": {
   "gpuType": "T4",
   "provenance": []
  },
  "kernelspec": {
   "display_name": "Python 3 (ipykernel)",
   "language": "python",
   "name": "python3"
  },
  "language_info": {
   "codemirror_mode": {
    "name": "ipython",
    "version": 3
   },
   "file_extension": ".py",
   "mimetype": "text/x-python",
   "name": "python",
   "nbconvert_exporter": "python",
   "pygments_lexer": "ipython3",
   "version": "3.10.9"
  }
 },
 "nbformat": 4,
 "nbformat_minor": 4
}
