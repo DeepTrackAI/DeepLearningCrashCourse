{
 "cells": [
  {
   "cell_type": "markdown",
   "metadata": {},
   "source": [
    "## Cell Counting\n",
    "\n",
    "This notebook provides you with a complete code example that counts the cells in a microscopic image using a U-Net."
   ]
  },
  {
   "cell_type": "markdown",
   "metadata": {},
   "source": [
    "## Loading the Dataset\n",
    "\n",
    "This is the BBBC039v1 dataset by Caicedo et al. 2018, available from the Broad Bioimage Benchmark Collection https://data.broadinstitute.org/bbbc/BBBC039/ (Ljosa et al., Nature Methods, 2012).\n",
    "\n",
    "This data set has a total of 200 fields of view of nuclei captured with fluorescence microscopy using the Hoechst stain. The collection has around 23,000 single nuclei manually annotated to establish a ground truth collection for segmentation evaluation.\n",
    "\n",
    "The images are stored as TIFF files with 520 x 696 pixels at 16 bits. Ground truth annotations are stored as PNG files encoding masks of independent nuclei."
   ]
  },
  {
   "cell_type": "code",
   "execution_count": null,
   "metadata": {},
   "outputs": [],
   "source": [
    "import os\n",
    "import deeptrack as dt\n",
    "\n",
    "if not os.path.exists(\"cell_counting_dataset\"):\n",
    "    os.system(\"git clone https://github.com/DeepTrackAI/cell_counting_dataset\")\n",
    "\n",
    "image_paths = dt.sources.ImageFolder(\n",
    "    root=os.path.join(\"cell_counting_dataset\", \"cell nuclei\", \"images\")\n",
    ")\n",
    "label_paths = dt.sources.ImageFolder(\n",
    "    root=os.path.join(\"cell_counting_dataset\", \"cell nuclei\", \"masks\")\n",
    ")\n",
    "sources = dt.sources.Source(image=image_paths, label=label_paths)"
   ]
  },
  {
   "cell_type": "markdown",
   "metadata": {},
   "source": [
    "## Creating a Pipeline to Load the Images and Segmentation Masks\n",
    "\n",
    "Create a pipeline to load the images and labels ..."
   ]
  },
  {
   "cell_type": "code",
   "execution_count": null,
   "metadata": {},
   "outputs": [],
   "source": [
    "import numpy as np\n",
    "import torch\n",
    "from torch.utils.data import DataLoader\n",
    "\n",
    "im_pipeline = (dt.LoadImage(sources.image.path) >> dt.Divide(3000)\n",
    "               >> dt.Clip(0, 1) >> dt.AsType(\"float\"))\n",
    "lab_pipeline = dt.LoadImage(sources.label.path)[..., :1] >> dt.AsType(\"float\")\n",
    "\n",
    "pipeline = (\n",
    "    (im_pipeline & lab_pipeline)\n",
    "    >> dt.Crop(crop=(512, 688, None), corner=(0, 0))\n",
    "    >> dt.MoveAxis(2, 0)\n",
    "    >> dt.pytorch.ToTensor(dtype=torch.float)\n",
    ")\n",
    "\n",
    "test_dataset = dt.pytorch.Dataset(pipeline, sources)\n",
    "test_loader = DataLoader(test_dataset, batch_size=32, shuffle=False)"
   ]
  },
  {
   "cell_type": "markdown",
   "metadata": {},
   "source": [
    "... count cells using connected components ..."
   ]
  },
  {
   "cell_type": "code",
   "execution_count": null,
   "metadata": {},
   "outputs": [],
   "source": [
    "from skimage import morphology as skmorph\n",
    "\n",
    "image, mask = test_dataset[np.random.choice(len(test_dataset))]\n",
    "labeled_mask = skmorph.label(mask)\n",
    "number_of_cells = labeled_mask.max()"
   ]
  },
  {
   "cell_type": "markdown",
   "metadata": {},
   "source": [
    "... and visualize the data."
   ]
  },
  {
   "cell_type": "code",
   "execution_count": null,
   "metadata": {},
   "outputs": [],
   "source": [
    "from matplotlib import pyplot as plt\n",
    "\n",
    "fig, axs = plt.subplots(1, 3, figsize=(10, 4))\n",
    "\n",
    "axs[0].imshow(image.permute(1, 2, 0), vmin=0, vmax=1, cmap=\"gray\")\n",
    "\n",
    "axs[1].imshow(mask.permute(1, 2, 0), vmin=0, vmax=1, cmap=\"gray\")\n",
    "axs[1].axis(\"off\")\n",
    "axs[1].set_title(f\"Number of cells = {number_of_cells}\")\n",
    "\n",
    "axs[2].hist(np.array(image).flatten(), bins=200, range=(0, 1))\n",
    "axs[2].set_xlim([0, 1])\n",
    "axs[2].set_xlabel(\"Pixel Intensity\")\n",
    "axs[2].set_yscale(\"log\")\n",
    "axs[2].set_ylabel(\"Log Frequency\")\n",
    "axs[2].set_title(\"Pixel Intensity Distribution\")\n",
    "\n",
    "plt.tight_layout()\n",
    "plt.show()"
   ]
  },
  {
   "cell_type": "markdown",
   "metadata": {},
   "source": [
    "## Simulating the Cell Images and Segmentation Masks"
   ]
  },
  {
   "cell_type": "markdown",
   "metadata": {},
   "source": [
    "### Simulating Images of Cell Nuclei\n",
    "\n",
    "Simulate a single cell nucleus as an ellipse ..."
   ]
  },
  {
   "cell_type": "code",
   "execution_count": null,
   "metadata": {},
   "outputs": [],
   "source": [
    "training_image_size = 256\n",
    "\n",
    "def random_ellipse_radius():\n",
    "    \"\"\"Return the three axes of an ellipse.\"\"\"\n",
    "    desired_ellipse_area = (np.random.uniform(3, 4)) ** 2\n",
    "    desired_radius_ratio = np.random.uniform(1, 1.5)\n",
    "    major_axis_radius = np.sqrt(desired_ellipse_area) * desired_radius_ratio\n",
    "    minor_axis_radius = np.sqrt(desired_ellipse_area) / desired_radius_ratio\n",
    "    z_radius = np.sqrt(desired_ellipse_area) * np.random.uniform(0.2, 0.4)\n",
    "    return (major_axis_radius, minor_axis_radius, z_radius) * dt.units.um\n",
    "\n",
    "ellipse = dt.Ellipsoid(\n",
    "    radius=random_ellipse_radius,\n",
    "    intensity=lambda: np.random.uniform(0.5, 1.5),\n",
    "    position=lambda: np.random.uniform(5, training_image_size - 5, size=2),\n",
    "    rotation=lambda: np.random.uniform(0, 2 * np.pi),\n",
    ")\n",
    "optics = dt.Fluorescence(\n",
    "    resolution=1e-6,\n",
    "    magnification=6,\n",
    "    wavelength=400e-9,\n",
    "    NA=lambda: np.random.uniform(0.9, 1.1),\n",
    "    output_region=(0, 0, training_image_size, training_image_size),\n",
    ")\n",
    "image_pipeline = optics(ellipse)\n",
    "\n",
    "fig, axs = plt.subplots(1, 5, figsize=(10, 2))\n",
    "for ax in axs:\n",
    "    image_pipeline.update()\n",
    "    image = image_pipeline()\n",
    "    ax.imshow(image, cmap=\"gray\")\n",
    "    ax.axis(\"off\")\n",
    "plt.tight_layout()\n",
    "plt.show()"
   ]
  },
  {
   "cell_type": "markdown",
   "metadata": {},
   "source": [
    "... simulate multiple nuclei as ellipses with elastic deformations ..."
   ]
  },
  {
   "cell_type": "code",
   "execution_count": null,
   "metadata": {},
   "outputs": [],
   "source": [
    "training_image_size = 256\n",
    "\n",
    "def random_ellipse_radius():\n",
    "    \"\"\"Return the three axes of an ellipse.\"\"\"\n",
    "    desired_ellipse_area = (np.random.uniform(3, 4)) ** 2\n",
    "    desired_radius_ratio = np.random.uniform(1, 1.5)\n",
    "    major_axis_radius = np.sqrt(desired_ellipse_area) * desired_radius_ratio\n",
    "    minor_axis_radius = np.sqrt(desired_ellipse_area) / desired_radius_ratio\n",
    "    z_radius = np.sqrt(desired_ellipse_area) * np.random.uniform(0.2, 0.4)\n",
    "    return (major_axis_radius, minor_axis_radius, z_radius) * dt.units.um\n",
    "\n",
    "ellipse = dt.Ellipsoid(\n",
    "    radius=random_ellipse_radius,\n",
    "    intensity=lambda: np.random.uniform(0.5, 1.5),\n",
    "    position=lambda: np.random.uniform(5, training_image_size - 5, size=2),\n",
    "    rotation=lambda: np.random.uniform(0, 2 * np.pi),\n",
    ")\n",
    "synthetic_nuclei = (\n",
    "    (ellipse ^ (lambda: np.random.randint(5, 10)))\n",
    "    >> dt.Pad(px=(10, 10, 10, 10), keep_size=False)\n",
    "    >> dt.ElasticTransformation(alpha=100, sigma=10, order=1)\n",
    "    >> dt.CropTight()\n",
    ")\n",
    "optics = dt.Fluorescence(\n",
    "    resolution=1e-6,\n",
    "    magnification=6,\n",
    "    wavelength=400e-9,\n",
    "    NA=lambda: np.random.uniform(0.9, 1.1),\n",
    "    output_region=(0, 0, training_image_size, training_image_size),\n",
    ")\n",
    "image_pipeline = optics(synthetic_nuclei)\n",
    "\n",
    "fig, axs = plt.subplots(1, 5, figsize=(10, 2))\n",
    "for ax in axs:\n",
    "    image_pipeline.update()\n",
    "    image = image_pipeline()\n",
    "    ax.imshow(image, cmap=\"gray\")\n",
    "    ax.axis(\"off\")\n",
    "plt.tight_layout()\n",
    "plt.show()"
   ]
  },
  {
   "cell_type": "markdown",
   "metadata": {},
   "source": [
    "... simulate multiple nuclei as ellipses with elastic deformations and noise ..."
   ]
  },
  {
   "cell_type": "code",
   "execution_count": null,
   "metadata": {},
   "outputs": [],
   "source": [
    "training_image_size = 256\n",
    "\n",
    "def random_ellipse_radius():\n",
    "    \"\"\"Return the three axes of an ellipse.\"\"\"\n",
    "    desired_ellipse_area = (np.random.uniform(3, 4)) ** 2\n",
    "    desired_radius_ratio = np.random.uniform(1, 1.5)\n",
    "    major_axis_radius = np.sqrt(desired_ellipse_area) * desired_radius_ratio\n",
    "    minor_axis_radius = np.sqrt(desired_ellipse_area) / desired_radius_ratio\n",
    "    z_radius = np.sqrt(desired_ellipse_area) * np.random.uniform(0.2, 0.4)\n",
    "    return (major_axis_radius, minor_axis_radius, z_radius) * dt.units.um\n",
    "\n",
    "ellipse = dt.Ellipsoid(\n",
    "    radius=random_ellipse_radius,\n",
    "    intensity=lambda: np.random.uniform(0.5, 1.5),\n",
    "    position=lambda: np.random.uniform(5, training_image_size - 5, size=2),\n",
    "    rotation=lambda: np.random.uniform(0, 2 * np.pi),\n",
    ")\n",
    "synthetic_nuclei = (\n",
    "    (ellipse ^ (lambda: np.random.randint(5, 10)))\n",
    "    >> dt.Pad(px=(10, 10, 10, 10), keep_size=False)\n",
    "    >> dt.ElasticTransformation(alpha=100, sigma=10, order=1)\n",
    "    >> dt.CropTight()\n",
    ")\n",
    "synthetic_nuclei_mask = synthetic_nuclei > 0\n",
    "long_range_noise = (\n",
    "    synthetic_nuclei\n",
    "    >> dt.Poisson(snr=lambda: 0.2)\n",
    "    >> dt.GaussianBlur(sigma=3.5)\n",
    ")\n",
    "short_range_noise = (\n",
    "    synthetic_nuclei\n",
    "    >> dt.Poisson(snr=lambda: 1.0)\n",
    "    >> dt.GaussianBlur(sigma=1.5)\n",
    ")\n",
    "random_range_noise = (\n",
    "    synthetic_nuclei\n",
    "    >> dt.Poisson(snr=lambda: np.random.uniform(0.5, 1.5))\n",
    "    >> dt.GaussianBlur(sigma=lambda: np.random.uniform(0.75, 1.5))\n",
    ")\n",
    "noisy_synthetic_nuclei = synthetic_nuclei_mask * (\n",
    "    long_range_noise + short_range_noise + random_range_noise\n",
    ") / 3\n",
    "optics = dt.Fluorescence(\n",
    "    resolution=1e-6,\n",
    "    magnification=6,\n",
    "    wavelength=400e-9,\n",
    "    NA=lambda: np.random.uniform(0.9, 1.1),\n",
    "    output_region=(0, 0, training_image_size, training_image_size),\n",
    ")\n",
    "image_pipeline = optics(noisy_synthetic_nuclei)\n",
    "\n",
    "fig, axs = plt.subplots(1, 5, figsize=(10, 2))\n",
    "for ax in axs:\n",
    "    image_pipeline.update()\n",
    "    image = image_pipeline()\n",
    "    ax.imshow(image, cmap=\"gray\")\n",
    "    ax.axis(\"off\")\n",
    "plt.tight_layout()\n",
    "plt.show()"
   ]
  },
  {
   "cell_type": "markdown",
   "metadata": {},
   "source": [
    "... simulate multiple nuclei as non-overlapping ellipses with elastic deformations and noise ..."
   ]
  },
  {
   "cell_type": "code",
   "execution_count": null,
   "metadata": {},
   "outputs": [],
   "source": [
    "training_image_size = 256\n",
    "\n",
    "def random_ellipse_radius():\n",
    "    \"\"\"Return the three axes of an ellipse.\"\"\"\n",
    "    desired_ellipse_area = (np.random.uniform(3, 4)) ** 2\n",
    "    desired_radius_ratio = np.random.uniform(1, 1.5)\n",
    "    major_axis_radius = np.sqrt(desired_ellipse_area) * desired_radius_ratio\n",
    "    minor_axis_radius = np.sqrt(desired_ellipse_area) / desired_radius_ratio\n",
    "    z_radius = np.sqrt(desired_ellipse_area) * np.random.uniform(0.2, 0.4)\n",
    "    return (major_axis_radius, minor_axis_radius, z_radius) * dt.units.um\n",
    "\n",
    "ellipse = dt.Ellipsoid(\n",
    "    radius=random_ellipse_radius,\n",
    "    intensity=lambda: np.random.uniform(0.5, 1.5),\n",
    "    position=lambda: np.random.uniform(5, training_image_size - 5, size=2),\n",
    "    rotation=lambda: np.random.uniform(0, 2 * np.pi),\n",
    ")\n",
    "synthetic_nuclei = (\n",
    "    (ellipse ^ (lambda: np.random.randint(5, 10)))\n",
    "    >> dt.Pad(px=(10, 10, 10, 10), keep_size=False)\n",
    "    >> dt.ElasticTransformation(alpha=100, sigma=10, order=1)\n",
    "    >> dt.CropTight()\n",
    ")\n",
    "synthetic_nuclei_mask = synthetic_nuclei > 0\n",
    "long_range_noise = (\n",
    "    synthetic_nuclei\n",
    "    >> dt.Poisson(snr=lambda: 0.2)\n",
    "    >> dt.GaussianBlur(sigma=3.5)\n",
    ")\n",
    "short_range_noise = (\n",
    "    synthetic_nuclei\n",
    "    >> dt.Poisson(snr=lambda: 1.0)\n",
    "    >> dt.GaussianBlur(sigma=1.5)\n",
    ")\n",
    "random_range_noise = (\n",
    "    synthetic_nuclei\n",
    "    >> dt.Poisson(snr=lambda: np.random.uniform(0.5, 1.5))\n",
    "    >> dt.GaussianBlur(sigma=lambda: np.random.uniform(0.75, 1.5))\n",
    ")\n",
    "noisy_synthetic_nuclei = synthetic_nuclei_mask * (\n",
    "    long_range_noise + short_range_noise + random_range_noise\n",
    ") / 3\n",
    "non_overlap_nuclei = dt.NonOverlapping(noisy_synthetic_nuclei, min_distance=-6)\n",
    "optics = dt.Fluorescence(\n",
    "    resolution=1e-6,\n",
    "    magnification=6,\n",
    "    wavelength=400e-9,\n",
    "    NA=lambda: np.random.uniform(0.9, 1.1),\n",
    "    output_region=(0, 0, training_image_size, training_image_size),\n",
    ")\n",
    "image_pipeline = (optics(non_overlap_nuclei)\n",
    "                  >> dt.Gaussian(sigma=lambda: np.random.uniform(0, 0.1))\n",
    "                  >> dt.Divide(lambda: np.random.uniform(14, 20))\n",
    "                  >> dt.Add(lambda: np.random.uniform(-0.05, 0.15))\n",
    "                  >> dt.Clip(0, 1)\n",
    "                  >> dt.AsType(\"float\"))\n",
    "\n",
    "fig, axs = plt.subplots(1, 5, figsize=(10, 2))\n",
    "for ax in axs:\n",
    "    image_pipeline.update()\n",
    "    image = image_pipeline()\n",
    "    ax.imshow(image, cmap=\"gray\")\n",
    "    ax.axis(\"off\")\n",
    "plt.tight_layout()\n",
    "plt.show()"
   ]
  },
  {
   "cell_type": "markdown",
   "metadata": {},
   "source": [
    "### Simulating the Segmentation Masks"
   ]
  },
  {
   "cell_type": "code",
   "execution_count": null,
   "metadata": {},
   "outputs": [],
   "source": [
    "from skimage.morphology import isotropic_erosion\n",
    "\n",
    "def get_mask(radius):\n",
    "    \"\"\"Apply isotropic erosion to a binary mask.\"\"\"\n",
    "    def inner(mask):\n",
    "        mask = np.sum(mask, -1, keepdims=True) > 0\n",
    "        mask = np.pad(mask, [(1, 1), (1, 1), (0, 0)], mode=\"constant\")\n",
    "        mask = isotropic_erosion(mask, radius=radius)\n",
    "        mask = mask[1:-1, 1:-1]\n",
    "        return mask\n",
    "    return inner\n",
    "\n",
    "label_pipeline = (\n",
    "    non_overlap_nuclei\n",
    "    >> dt.SampleToMasks(get_mask, radius=6, output_region=optics.output_region,\n",
    "                        merge_method=\"or\")\n",
    "    >> dt.AsType(\"float\")\n",
    ")"
   ]
  },
  {
   "cell_type": "markdown",
   "metadata": {},
   "source": [
    "### Combining the Image and Segmentation Pipelines"
   ]
  },
  {
   "cell_type": "code",
   "execution_count": null,
   "metadata": {},
   "outputs": [],
   "source": [
    "image_and_gt_pipeline = (\n",
    "    (image_pipeline & label_pipeline)\n",
    "    >> dt.MoveAxis(2, 0)\n",
    "    >> dt.pytorch.ToTensor(dtype=torch.float)\n",
    ")\n",
    "\n",
    "train_dataset = dt.pytorch.Dataset(image_and_gt_pipeline, length=640,\n",
    "                                   replace=0.01)"
   ]
  },
  {
   "cell_type": "markdown",
   "metadata": {},
   "source": [
    "### Visualizing a simulated image and relative segmentation mask"
   ]
  },
  {
   "cell_type": "code",
   "execution_count": null,
   "metadata": {},
   "outputs": [],
   "source": [
    "image, mask = train_dataset[np.random.choice(len(train_dataset))]\n",
    "\n",
    "fig, axs = plt.subplots(1, 3, figsize=(10, 4))\n",
    "\n",
    "axs[0].imshow(image.permute(1, 2, 0), vmin=0, vmax=1, cmap=\"gray\")\n",
    "axs[0].set_title(\"Simulated Image\")\n",
    "\n",
    "axs[1].imshow(mask.permute(1, 2, 0), vmin=0, vmax=1, cmap=\"gray\")\n",
    "axs[1].axis(\"off\")\n",
    "axs[1].set_title(\"Simulated Mask\")\n",
    "\n",
    "axs[2].hist(np.array(image).flatten(), bins=200, range=(0, 1))\n",
    "axs[2].set_xlim([0, 1])\n",
    "axs[2].set_xlabel(\"Pixel Intensity\")\n",
    "axs[2].set_yscale(\"log\")\n",
    "axs[2].set_ylabel(\"Log Frequency\")\n",
    "axs[2].set_title(\"Pixel Intensity Distribution\")\n",
    "\n",
    "plt.tight_layout()\n",
    "plt.show()"
   ]
  },
  {
   "cell_type": "markdown",
   "metadata": {},
   "source": [
    "## Implementing and Training the U-Net\n",
    "\n",
    "Instantiate the U-Net ..."
   ]
  },
  {
   "cell_type": "code",
   "execution_count": null,
   "metadata": {},
   "outputs": [],
   "source": [
    "import deeplay as dl\n",
    "\n",
    "unet = dl.UNet2d(in_channels=1, channels=[16, 32, 64], out_channels=1)"
   ]
  },
  {
   "cell_type": "markdown",
   "metadata": {},
   "source": [
    "... compile it ..."
   ]
  },
  {
   "cell_type": "code",
   "execution_count": null,
   "metadata": {},
   "outputs": [],
   "source": [
    "from torch.nn import BCEWithLogitsLoss\n",
    "\n",
    "unet_regressor = dl.Regressor(model=unet, loss=BCEWithLogitsLoss(), \n",
    "                              optimizer=dl.Adam()).create()\n"
   ]
  },
  {
   "cell_type": "markdown",
   "metadata": {},
   "source": [
    "... and train it."
   ]
  },
  {
   "cell_type": "code",
   "execution_count": null,
   "metadata": {},
   "outputs": [],
   "source": [
    "train_loader = DataLoader(train_dataset, batch_size=8, shuffle=True)\n",
    "unet_trainer = dl.Trainer(max_epochs=200, accelerator=\"auto\")\n",
    "unet_trainer.fit(unet_regressor, train_loader)"
   ]
  },
  {
   "cell_type": "markdown",
   "metadata": {},
   "source": [
    "## Testing the Trained U-Net on Simulated Data"
   ]
  },
  {
   "cell_type": "code",
   "execution_count": null,
   "metadata": {},
   "outputs": [],
   "source": [
    "image_and_gt_pipeline.update()\n",
    "image, mask = image_and_gt_pipeline()\n",
    "pred = unet_regressor(image.unsqueeze(0)).sigmoid().detach()\n",
    "\n",
    "fig, axs = plt.subplots(1, 3, figsize=(10, 4))\n",
    "\n",
    "axs[0].imshow(image.squeeze(), vmin=0, vmax=1, cmap=\"gray\")\n",
    "axs[0].set_title(\"Simulated Image\")\n",
    "\n",
    "axs[1].imshow(mask.squeeze(), vmin=0, vmax=1, cmap=\"gray\")\n",
    "axs[1].axis(\"off\")\n",
    "axs[1].set_title(\"Simulated Mask\")\n",
    "\n",
    "axs[2].imshow(pred.squeeze(), cmap=\"gray\")\n",
    "axs[2].axis(\"off\")\n",
    "axs[2].set_title(\"Prediction\")\n",
    "\n",
    "plt.tight_layout()\n",
    "plt.show()"
   ]
  },
  {
   "cell_type": "markdown",
   "metadata": {},
   "source": [
    "## Testing on Experimental Data"
   ]
  },
  {
   "cell_type": "markdown",
   "metadata": {},
   "source": [
    "Calculate the cell counts using the labeled and predicted segmentation masks ..."
   ]
  },
  {
   "cell_type": "code",
   "execution_count": null,
   "metadata": {},
   "outputs": [],
   "source": [
    "images, labels, preds = [], [], []\n",
    "for image, label in test_loader:\n",
    "    images.append(image)\n",
    "    labels.append(label)\n",
    "    pred = unet_regressor(image).detach()\n",
    "    pred = torch.nn.functional.sigmoid(pred).cpu()\n",
    "    preds.append(pred)\n",
    "images = torch.cat(images, dim=0)\n",
    "labels = torch.cat(labels, dim=0)\n",
    "preds = torch.cat(preds, dim=0)\n",
    "\n",
    "true_count = np.array([skmorph.label(l.squeeze()).max() for l in labels])\n",
    "pred_count = np.array([skmorph.label(p.squeeze() > .995).max() for p in preds])\n",
    "\n",
    "mae = abs(pred_count - true_count).mean()\n",
    "mpe = (abs(pred_count[true_count > 0] - true_count[true_count > 0])\n",
    "       / (true_count[true_count > 0])).mean()\n",
    "\n",
    "print(f\"MAE: {mae:.2f} MPE: {mpe:.2f}\")"
   ]
  },
  {
   "cell_type": "markdown",
   "metadata": {},
   "source": [
    "... plot an image of cells with labeled and predicted segmentations ..."
   ]
  },
  {
   "cell_type": "code",
   "execution_count": null,
   "metadata": {},
   "outputs": [],
   "source": [
    "i = np.random.choice(len(images))\n",
    "\n",
    "fig, axs = plt.subplots(1, 3, figsize=(10, 4))\n",
    "\n",
    "axs[0].imshow(images[i].squeeze(), vmin=0, vmax=1, cmap=\"gray\")\n",
    "axs[0].set_title(\"Image\")\n",
    "\n",
    "axs[1].imshow(labels[i].squeeze(), vmin=0, vmax=1, cmap=\"gray\")\n",
    "axs[1].axis(\"off\")\n",
    "axs[1].set_title(f\"Label - {true_count[i]} cells\")\n",
    "\n",
    "axs[2].imshow(preds[i].squeeze(), cmap=\"gray\")\n",
    "axs[2].axis(\"off\")\n",
    "axs[2].set_title(f\"Prediction - {pred_count[i]} cells\")\n",
    "\n",
    "plt.tight_layout()\n",
    "plt.show()"
   ]
  },
  {
   "cell_type": "markdown",
   "metadata": {},
   "source": [
    "... and plot the predicted cell counts vs. the true cell counts."
   ]
  },
  {
   "cell_type": "code",
   "execution_count": null,
   "metadata": {},
   "outputs": [],
   "source": [
    "plt.figure(figsize=(10, 10))\n",
    "plt.scatter(true_count, pred_count, alpha=0.75)\n",
    "plt.axline([0, 0], [1, 1], color=\"black\")\n",
    "plt.xlabel(\"True Count\")\n",
    "plt.ylabel(\"Predicted Count\")\n",
    "plt.xlim(0, 250)\n",
    "plt.ylim(0, 250)\n",
    "plt.show()"
   ]
  }
 ],
 "metadata": {
  "kernelspec": {
   "display_name": "py310",
   "language": "python",
   "name": "python3"
  },
  "language_info": {
   "codemirror_mode": {
    "name": "ipython",
    "version": 3
   },
   "file_extension": ".py",
   "mimetype": "text/x-python",
   "name": "python",
   "nbconvert_exporter": "python",
   "pygments_lexer": "ipython3",
   "version": "3.10.13"
  }
 },
 "nbformat": 4,
 "nbformat_minor": 2
}
