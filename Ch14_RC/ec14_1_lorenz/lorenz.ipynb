{
 "cells": [
  {
   "cell_type": "markdown",
   "metadata": {},
   "source": [
    "# Training a Reservoir Computer to Predict the Lorenz System\n",
    "\n",
    "This notebook provides you a complete code example that trains a reservoir computer to predict the evolution of the Lorenz system. "
   ]
  },
  {
   "cell_type": "markdown",
   "metadata": {},
   "source": [
    "## Numerically Integrating the Lorenz System\n",
    "\n",
    "Implement a function to propagate the Lorenz system one step ..."
   ]
  },
  {
   "cell_type": "code",
   "execution_count": null,
   "metadata": {},
   "outputs": [],
   "source": [
    "def lorenz_step(t, x, y, z, dt, sigma, rho, beta):\n",
    "    \"\"\"Calculate the next step in the Lorenz system.\"\"\"\n",
    "    dx = sigma * (y - x) * dt\n",
    "    dy = (x * (rho - z) - y) * dt\n",
    "    dz = (x * y - beta * z) * dt\n",
    "    \n",
    "    return t + dt, x + dx, y + dy, z + dz"
   ]
  },
  {
   "cell_type": "markdown",
   "metadata": {},
   "source": [
    "... implement a function to obtain a trajectory for the Lorenz system ..."
   ]
  },
  {
   "cell_type": "code",
   "execution_count": null,
   "metadata": {},
   "outputs": [],
   "source": [
    "import numpy as np\n",
    "\n",
    "def lorenz(t0, x0, y0, z0, dt, sigma, rho, beta, iter_num):\n",
    "    \"\"\"Calculate the evolution of the Lorenz system.\"\"\"\n",
    "    t = np.zeros(iter_num + 1)\n",
    "    x = np.zeros(iter_num + 1)\n",
    "    y = np.zeros(iter_num + 1)\n",
    "    z = np.zeros(iter_num + 1)\n",
    "\n",
    "    t[0], x[0], y[0], z[0] = t0, x0, y0, z0\n",
    "    for i in range(iter_num):\n",
    "        t[i + 1], x[i + 1], y[i + 1], z[i + 1] = (\n",
    "            lorenz_step(t[i], x[i], y[i], z[i], dt, sigma, rho, beta)\n",
    "        )\n",
    "        \n",
    "    return t, x, y, z"
   ]
  },
  {
   "cell_type": "markdown",
   "metadata": {},
   "source": [
    "... and integrate the Lorenz system."
   ]
  },
  {
   "cell_type": "code",
   "execution_count": null,
   "metadata": {},
   "outputs": [],
   "source": [
    "t, x, y, z = lorenz(t0=0, x0=1, y0=1, z0=1, dt=0.01,\n",
    "                    sigma=10, rho=28, beta=8 / 3, iter_num=5_000)"
   ]
  },
  {
   "cell_type": "markdown",
   "metadata": {},
   "source": [
    "### Visualizing the Time Evolution of the Lorenz System"
   ]
  },
  {
   "cell_type": "code",
   "execution_count": null,
   "metadata": {},
   "outputs": [],
   "source": [
    "import matplotlib.pyplot as plt\n",
    "\n",
    "fig, axs = plt.subplots(3, 1, figsize=(8, 6))  \n",
    "\n",
    "axs[0].plot(t, x, label=\"x\", color=\"k\", lw=1.1)\n",
    "axs[0].set_ylabel(\"x\")\n",
    "axs[0].legend()\n",
    "\n",
    "axs[1].plot(t, y, label=\"y\", color=\"k\", lw=1.1)\n",
    "axs[1].set_ylabel(\"y\")\n",
    "axs[1].legend()\n",
    "\n",
    "axs[2].plot(t, z, label=\"z\", color=\"k\", lw=1.1)\n",
    "axs[2].set_ylabel(\"z\")\n",
    "axs[2].legend()\n",
    "\n",
    "axs[2].set_xlabel(\"Time Step\")\n",
    "\n",
    "fig.tight_layout()\n",
    "plt.show()"
   ]
  },
  {
   "cell_type": "markdown",
   "metadata": {},
   "source": [
    "### Visualizing the Lorenz Attractor"
   ]
  },
  {
   "cell_type": "code",
   "execution_count": null,
   "metadata": {},
   "outputs": [],
   "source": [
    "fig = plt.figure()\n",
    "ax = fig.add_subplot(projection=\"3d\")\n",
    "ax.plot(x, y, z, lw=0.5)\n",
    "ax.set_xlabel(\"X Axis\")\n",
    "ax.set_ylabel(\"Y Axis\")\n",
    "ax.set_zlabel(\"Z Axis\")\n",
    "plt.show()"
   ]
  },
  {
   "cell_type": "markdown",
   "metadata": {},
   "source": [
    "### Demonstrating the Butterfly Effect\n",
    "\n",
    "Integrate the Lorenz system with a slightly perturbed initial condition ..."
   ]
  },
  {
   "cell_type": "code",
   "execution_count": null,
   "metadata": {},
   "outputs": [],
   "source": [
    "t_a, x_a, y_a, z_a = lorenz(t0=0, x0=1 + 0.000_001, y0=1, z0=1, dt=0.01,\n",
    "                            sigma=10, rho=28, beta=8 / 3, iter_num=5_000)"
   ]
  },
  {
   "cell_type": "markdown",
   "metadata": {},
   "source": [
    "... plotting the time evolution of the Lorenz system with a slightly perturbed initial\n",
    "condition ..."
   ]
  },
  {
   "cell_type": "code",
   "execution_count": null,
   "metadata": {},
   "outputs": [],
   "source": [
    "import matplotlib.pyplot as plt\n",
    "\n",
    "fig, axs = plt.subplots(3, 1, figsize=(8, 6))  \n",
    "\n",
    "axs[0].plot(t, x, label=\"x\", color=\"k\", lw=1.1)\n",
    "axs[0].plot(t_a, x_a, label=\"x_a\", color=\"cyan\", lw=0.9)\n",
    "axs[0].set_ylabel(\"x\")\n",
    "axs[0].legend()\n",
    "\n",
    "axs[1].plot(t, y, label=\"y\", color=\"k\", lw=1.1)\n",
    "axs[1].plot(t_a, y_a, label=\"y_a\", color=\"cyan\", lw=0.9)\n",
    "axs[1].set_ylabel(\"y\")\n",
    "axs[1].legend()\n",
    "\n",
    "axs[2].plot(t, z, label=\"z\", color=\"k\", lw=1.1)\n",
    "axs[2].plot(t_a, z_a, label=\"z_a\", color=\"cyan\", lw=0.9)\n",
    "axs[2].set_ylabel(\"z\")\n",
    "axs[2].legend()\n",
    "\n",
    "axs[2].set_xlabel(\"Time Step\")\n",
    "\n",
    "fig.tight_layout()\n",
    "plt.show()"
   ]
  },
  {
   "cell_type": "markdown",
   "metadata": {},
   "source": [
    "... and plot the Lorenz attractor with slightly perturbed initial conditions."
   ]
  },
  {
   "cell_type": "code",
   "execution_count": null,
   "metadata": {},
   "outputs": [],
   "source": [
    "fig = plt.figure()\n",
    "ax = fig.add_subplot(projection=\"3d\")\n",
    "ax.plot(x, y, z, lw=0.5, label=\"original\")\n",
    "ax.plot(x_a, y_a, z_a, lw=0.5, color=\"cyan\", label=\"perturbed\")\n",
    "ax.set_xlabel(\"X Axis\")\n",
    "ax.set_ylabel(\"Y Axis\")\n",
    "ax.set_zlabel(\"Z Axis\")\n",
    "plt.show()"
   ]
  },
  {
   "cell_type": "markdown",
   "metadata": {},
   "source": [
    "## Implementing a Reservoir Computer"
   ]
  },
  {
   "cell_type": "markdown",
   "metadata": {},
   "source": [
    "### Setting Up the Reservoir\n",
    "\n",
    "Define the reservoir input ..."
   ]
  },
  {
   "cell_type": "code",
   "execution_count": null,
   "metadata": {},
   "outputs": [],
   "source": [
    "dim_system = 3\n",
    "dim_reservoir = 300\n",
    "edge_probability = 0.1\n",
    "\n",
    "W_in = 2 * edge_probability * (np.random.rand(dim_reservoir, dim_system) - .5)"
   ]
  },
  {
   "cell_type": "markdown",
   "metadata": {},
   "source": [
    "... define the reservoir state ..."
   ]
  },
  {
   "cell_type": "code",
   "execution_count": null,
   "metadata": {},
   "outputs": [],
   "source": [
    "reservoir_state = np.zeros(dim_reservoir)"
   ]
  },
  {
   "cell_type": "markdown",
   "metadata": {},
   "source": [
    "... define the reservoir connections ..."
   ]
  },
  {
   "cell_type": "code",
   "execution_count": null,
   "metadata": {},
   "outputs": [],
   "source": [
    "import networkx as nx\n",
    "\n",
    "scaling_factor = 1.1\n",
    "graph = nx.gnp_random_graph(dim_reservoir, edge_probability)\n",
    "graph = nx.to_numpy_array(graph)\n",
    "A = 2 * (np.random.rand(dim_reservoir, dim_reservoir) - 0.5) * graph\n",
    "eigenvalues, _ = np.linalg.eig(A)\n",
    "A = A / np.absolute(np.amax(eigenvalues)) * scaling_factor"
   ]
  },
  {
   "cell_type": "markdown",
   "metadata": {},
   "source": [
    "... and initialize the output weights ..."
   ]
  },
  {
   "cell_type": "code",
   "execution_count": null,
   "metadata": {},
   "outputs": [],
   "source": [
    "W_out = np.zeros((dim_system, dim_reservoir))"
   ]
  },
  {
   "cell_type": "markdown",
   "metadata": {},
   "source": [
    "### Preparing the Training and Validation Data"
   ]
  },
  {
   "cell_type": "code",
   "execution_count": null,
   "metadata": {},
   "outputs": [],
   "source": [
    "iter_num = 10_000\n",
    "\n",
    "t, x, y, z = lorenz(t0=0, x0=1, y0=1, z0=1, dt=0.01,\n",
    "                    sigma=10, rho=28, beta=8 / 3, iter_num=iter_num)\n",
    "xyz = list(zip(x, y, z))\n",
    "\n",
    "split_ratio = 0.50\n",
    "split_idx = int(iter_num * split_ratio)\n",
    "t_train, xyz_train = t[:split_idx], np.array(xyz[:split_idx])\n",
    "t_val, xyz_val = t[split_idx:], np.array(xyz[split_idx:])"
   ]
  },
  {
   "cell_type": "markdown",
   "metadata": {},
   "source": [
    "### Training the Reservoir Computer\n",
    "\n",
    "Implement a numerically stable sigmoid function ..."
   ]
  },
  {
   "cell_type": "code",
   "execution_count": null,
   "metadata": {},
   "outputs": [],
   "source": [
    "def sigmoid(x):\n",
    "    \"\"\"Compute the sigmoid function for the input array.\"\"\"\n",
    "    return np.where(x >= 0, 1 / (1 + np.exp(-x)), np.exp(x) / (1 + np.exp(x)))"
   ]
  },
  {
   "cell_type": "markdown",
   "metadata": {},
   "source": [
    "... train the reservoir computer ..."
   ]
  },
  {
   "cell_type": "code",
   "execution_count": null,
   "metadata": {},
   "outputs": [],
   "source": [
    "R = np.zeros((dim_reservoir, xyz_train.shape[0]))\n",
    "for i in range(xyz_train.shape[0]):\n",
    "    R[:, i] = reservoir_state\n",
    "    reservoir_state = sigmoid(np.dot(A, reservoir_state)\n",
    "                              + np.dot(W_in, xyz_train[i]))\n",
    "\n",
    "Rt = np.transpose(R)\n",
    "regularization_factor = 0.0001\n",
    "inverse_part = np.linalg.inv(np.dot(R, Rt)\n",
    "                             + regularization_factor * np.identity(R.shape[0]))\n",
    "W_out = np.dot(np.dot(xyz_train.T, Rt), inverse_part)"
   ]
  },
  {
   "cell_type": "markdown",
   "metadata": {},
   "source": [
    "... and predict the behavior of the Lorenz system with the trained reservoir computer."
   ]
  },
  {
   "cell_type": "code",
   "execution_count": null,
   "metadata": {},
   "outputs": [],
   "source": [
    "step_to_be_predicted = len(xyz_val)\n",
    "\n",
    "xyz_pred = np.zeros((step_to_be_predicted, dim_system))\n",
    "for i in range(step_to_be_predicted):\n",
    "    xyz_pred[i] = np.dot(W_out, reservoir_state)\n",
    "    reservoir_state = sigmoid(np.dot(A, reservoir_state)\n",
    "                              + np.dot(W_in, xyz_pred[i]))"
   ]
  },
  {
   "cell_type": "markdown",
   "metadata": {},
   "source": [
    "## Checking the Performance of the Reservoir Computer\n",
    "\n",
    "Extract the validation dataset’s individual components and the predicted outcomes from the reservoir computer ..."
   ]
  },
  {
   "cell_type": "code",
   "execution_count": null,
   "metadata": {},
   "outputs": [],
   "source": [
    "x_val, y_val, z_val = xyz_val[:, 0], xyz_val[:, 1], xyz_val[:, 2]\n",
    "x_pred, y_pred, z_pred = xyz_pred[:, 0], xyz_pred[:, 1], xyz_pred[:, 2]"
   ]
  },
  {
   "cell_type": "markdown",
   "metadata": {},
   "source": [
    "... compare the trajectories ..."
   ]
  },
  {
   "cell_type": "code",
   "execution_count": null,
   "metadata": {},
   "outputs": [],
   "source": [
    "fig, axs = plt.subplots(3, 1, figsize=(8, 6))  \n",
    "\n",
    "axs[0].plot(t_val, x_val, label=\"x Lorenz\", color=\"k\", lw=1.1)\n",
    "axs[0].plot(t_val, x_pred, label=\"x prediction\", color=\"orange\", lw=0.9)\n",
    "axs[0].set_ylabel(\"x\")\n",
    "axs[0].legend()\n",
    "\n",
    "axs[1].plot(t_val, y_val, label=\"y Lorenz\", color=\"k\", lw=1.1)\n",
    "axs[1].plot(t_val, y_pred, label=\"y prediction\", color=\"orange\", lw=0.9)\n",
    "axs[1].set_ylabel(\"y\")\n",
    "axs[1].legend()\n",
    "\n",
    "axs[2].plot(t_val, z_val, label=\"z Lorenz\", color=\"k\", lw=1.1)\n",
    "axs[2].plot(t_val, z_pred, label=\"z prediction\", color=\"orange\", lw=0.9)\n",
    "axs[2].set_ylabel(\"z\")\n",
    "axs[2].legend()\n",
    "\n",
    "axs[2].set_xlabel(\"Time Step\")\n",
    "\n",
    "fig.tight_layout()\n",
    "plt.show()\n"
   ]
  },
  {
   "cell_type": "markdown",
   "metadata": {},
   "source": [
    "... compare the Lorenz attractors ..."
   ]
  },
  {
   "cell_type": "code",
   "execution_count": null,
   "metadata": {},
   "outputs": [],
   "source": [
    "fig = plt.figure()\n",
    "ax = fig.add_subplot(projection=\"3d\")\n",
    "\n",
    "ax.plot(x_val, y_val, z_val, lw=0.5, label=\"Lorenz system\")\n",
    "ax.plot(x_pred, y_pred, z_pred, lw=0.5, color=\"orange\", label=\"prediction\")\n",
    "\n",
    "ax.set_xlabel(\"X Axis\")\n",
    "ax.set_ylabel(\"Y Axis\")\n",
    "ax.set_zlabel(\"Z Axis\")\n",
    "\n",
    "plt.show()"
   ]
  }
 ],
 "metadata": {
  "kernelspec": {
   "display_name": "py_env_dlcc",
   "language": "python",
   "name": "python3"
  },
  "language_info": {
   "codemirror_mode": {
    "name": "ipython",
    "version": 3
   },
   "file_extension": ".py",
   "mimetype": "text/x-python",
   "name": "python",
   "nbconvert_exporter": "python",
   "pygments_lexer": "ipython3",
   "version": "3.12.2"
  }
 },
 "nbformat": 4,
 "nbformat_minor": 2
}
