{
 "cells": [
  {
   "cell_type": "markdown",
   "metadata": {},
   "source": [
    "# Reservoir Computing to Predict the Lorenz System\n",
    "\n",
    "We'll use reservoir computing to predict the evolution of the Lorenz model."
   ]
  },
  {
   "cell_type": "markdown",
   "metadata": {},
   "source": [
    "## The Lorenz System\n",
    "\n",
    "The Lorenz model, developed by meteorologist Edward Lorenz, is a simplified representation of atmospheric convection. It's expressed through a system of three differential equations, nonlinear and deterministic, showcasing chaotic behavior. The equations relate to a two-dimensional fluid layer uniformly warmed from below and cooled from above. In this model:\n",
    "\n",
    "- $x$ is proportional to the rate of convection,\n",
    "- $y$ represents the horizontal temperature variation,\n",
    "- $z$ corresponds to the vertical temperature variation.\n",
    "\n",
    "These quantities are described in terms of their rate of change with respect to time. The Lorenz model is famous for its 'Lorenz attractor,' a butterfly-shaped pattern formed by its set of chaotic solutions. This attractor illustrates the concept of the \"butterfly effect,\" where small changes in initial conditions can lead to vastly different outcomes.\n",
    "\n",
    "### Constants in the Lorenz System\n",
    "\n",
    "The constants in the Lorenz equations are:\n",
    "\n",
    "- $\\sigma$: Proportional to the Prandtl number, representing the fluid's viscosity and thermal conductivity.\n",
    "- $\\rho$: Related to the Rayleigh number, signifying the temperature difference between the bottom and top of the layer.\n",
    "- $\\beta$: Associated with certain physical dimensions of the fluid layer.\n",
    "\n",
    "These parameters are crucial in determining the system's behavior, highlighting the interplay between fluid dynamics, temperature variations, and chaotic systems. The Lorenz model's simplicity, coupled with its ability to exhibit complex and unpredictable behavior, makes it a cornerstone in the study of dynamical systems and chaos theory.\n"
   ]
  },
  {
   "cell_type": "markdown",
   "metadata": {},
   "source": [
    "We implement a function to calculate the next step in the Lorenz system."
   ]
  },
  {
   "cell_type": "code",
   "execution_count": null,
   "metadata": {},
   "outputs": [],
   "source": [
    "def lorenz_step(t, x, y, z, dt, sigma, rho, beta):\n",
    "    \"\"\"Calculate the next step in the Lorenz system.\"\"\"\n",
    "    \n",
    "    dx = sigma * (y - x) * dt\n",
    "    dy = (x * (rho - z) - y) * dt\n",
    "    dz = (x * y - beta * z) * dt\n",
    "    \n",
    "    return t + dt, x + dx, y + dy, z + dz"
   ]
  },
  {
   "cell_type": "markdown",
   "metadata": {},
   "source": [
    "We now propagate it to obtain some trajectories, starting from the initial conditions used by Lorenz."
   ]
  },
  {
   "cell_type": "code",
   "execution_count": null,
   "metadata": {},
   "outputs": [],
   "source": [
    "import numpy as np\n",
    "\n",
    "def lorenz(t0, x0, y0, z0, dt, sigma, rho, beta, iter_num):\n",
    "    \"\"\"Calculate the evolution of the Lorenz system.\"\"\"\n",
    "\n",
    "    # Preallocate arrays for the trajectory\n",
    "    t = np.zeros(iter_num + 1)\n",
    "    x = np.zeros(iter_num + 1)\n",
    "    y = np.zeros(iter_num + 1)\n",
    "    z = np.zeros(iter_num + 1)\n",
    "\n",
    "    # Set initial values\n",
    "    t[0], x[0], y[0], z[0] = t0, x0, y0, z0\n",
    "\n",
    "    # Integration loop for the Lorenz system\n",
    "    for i in range(iter_num):\n",
    "        t[i + 1], x[i + 1], y[i + 1], z[i + 1] = (\n",
    "            lorenz_step(t[i], x[i], y[i], z[i], dt, sigma, rho, beta)\n",
    "        )\n",
    "    \n",
    "    return t, x, y, z"
   ]
  },
  {
   "cell_type": "code",
   "execution_count": null,
   "metadata": {},
   "outputs": [],
   "source": [
    "t, x, y, z = lorenz(t0=0, x0=1, y0=1, z0=1, dt=0.01, \n",
    "                    sigma=10, rho=28, beta=8 / 3, iter_num=5_000)"
   ]
  },
  {
   "cell_type": "markdown",
   "metadata": {},
   "source": [
    "We finally plot the trajectory in phase space illustrating the Lorenz attractor."
   ]
  },
  {
   "cell_type": "code",
   "execution_count": null,
   "metadata": {},
   "outputs": [],
   "source": [
    "import matplotlib.pyplot as plt\n",
    "\n",
    "fig = plt.figure()\n",
    "ax = fig.add_subplot(projection=\"3d\")\n",
    "\n",
    "ax.plot(x, y, z, lw=0.5)\n",
    "\n",
    "ax.set_xlabel(\"X Axis\")\n",
    "ax.set_ylabel(\"Y Axis\")\n",
    "ax.set_zlabel(\"Z Axis\")\n",
    "ax.set_title(\"Lorenz Attractor\")\n",
    "\n",
    "plt.show()"
   ]
  },
  {
   "cell_type": "markdown",
   "metadata": {},
   "source": [
    "We can also plot the trajectories in time."
   ]
  },
  {
   "cell_type": "code",
   "execution_count": null,
   "metadata": {},
   "outputs": [],
   "source": [
    "fig, axs = plt.subplots(3, 1, figsize=(8, 6))  \n",
    "\n",
    "axs[0].plot(t, x, label=\"x\", color='b', lw=1.1)  # lw is line width\n",
    "axs[0].set_ylabel(\"x\")\n",
    "axs[0].legend()\n",
    "\n",
    "axs[1].plot(t, y, label=\"y\", color='r', lw=1.1)\n",
    "axs[1].set_ylabel(\"y\")\n",
    "axs[1].legend()\n",
    "\n",
    "axs[2].plot(t, z, label=\"z\", color='g', lw=1.1)\n",
    "axs[2].set_ylabel(\"z\")\n",
    "axs[2].legend()\n",
    "\n",
    "axs[2].set_xlabel(\"Time Step\")\n",
    "\n",
    "fig.tight_layout()\n",
    "plt.show()\n"
   ]
  },
  {
   "cell_type": "markdown",
   "metadata": {},
   "source": [
    "## Demonstrate the Butterfly Effect\n",
    "\n",
    "We now demonstrate the chaotic nature of the Lorenz system, popularly known as the \"butterfly effect\".\n",
    "We change the numpy array from the default float64 to float32 and repeat the previous calculations."
   ]
  },
  {
   "cell_type": "code",
   "execution_count": null,
   "metadata": {},
   "outputs": [],
   "source": [
    "print(f\"8 / 3 as float64 = {np.array(8 / 3)}\")\n",
    "print(f\"8 / 3 as float32 = {np.array(8 / 3).astype(np.float32)}\")"
   ]
  },
  {
   "cell_type": "code",
   "execution_count": null,
   "metadata": {},
   "outputs": [],
   "source": [
    "t32, x32, y32, z32 = lorenz(t0=0, x0=1, y0=1, z0=1, dt=0.01, \n",
    "                    sigma=10, rho=28, beta=np.array(8 / 3).astype(np.float32), \n",
    "                    iter_num=5_000)"
   ]
  },
  {
   "cell_type": "code",
   "execution_count": null,
   "metadata": {},
   "outputs": [],
   "source": [
    "import matplotlib.pyplot as plt\n",
    "\n",
    "fig = plt.figure()\n",
    "ax = fig.add_subplot(projection=\"3d\")\n",
    "\n",
    "ax.plot(x, y, z, lw=0.5, label=\"float64\")\n",
    "ax.plot(x32, y32, z32, lw=0.5, color=\"orange\", label=\"float32\")\n",
    "\n",
    "ax.set_xlabel(\"X Axis\")\n",
    "ax.set_ylabel(\"Y Axis\")\n",
    "ax.set_zlabel(\"Z Axis\")\n",
    "ax.set_title(\"Lorenz Attractor\")\n",
    "\n",
    "plt.show()"
   ]
  },
  {
   "cell_type": "code",
   "execution_count": null,
   "metadata": {},
   "outputs": [],
   "source": [
    "fig, axs = plt.subplots(3, 1, figsize=(8, 6))  \n",
    "\n",
    "axs[0].plot(t, x, label=\"x\", color='b', lw=1.1)\n",
    "axs[0].plot(t32, x32, label=\"x32\", color='orange', lw=1.1)\n",
    "axs[0].set_ylabel(\"x\")\n",
    "axs[0].legend()\n",
    "\n",
    "axs[1].plot(t, y, label=\"y\", color='r', lw=1.1)\n",
    "axs[1].plot(t32, y32, label=\"y32\", color='orange', lw=1.1)\n",
    "axs[1].set_ylabel(\"y\")\n",
    "axs[1].legend()\n",
    "\n",
    "axs[2].plot(t, z, label=\"z\", color='g', lw=1.1)\n",
    "axs[2].plot(t32, z32, label=\"z32\", color='orange', lw=1.1)\n",
    "axs[2].set_ylabel(\"z\")\n",
    "axs[2].legend()\n",
    "\n",
    "axs[2].set_xlabel(\"Time Step\")\n",
    "\n",
    "fig.tight_layout()\n",
    "plt.show()\n"
   ]
  },
  {
   "cell_type": "markdown",
   "metadata": {},
   "source": [
    "## Implement Reservoir Computer\n",
    "\n",
    "We now implement a reservoir computer."
   ]
  },
  {
   "cell_type": "markdown",
   "metadata": {},
   "source": [
    "We start by implementing the sigmoid function with a twist to carefully handle large positive and negative values of `x` to prevent issues with floating-point arithmetic overflow, common in the standard sigmoid function for extreme values of `x`."
   ]
  },
  {
   "cell_type": "code",
   "execution_count": 21,
   "metadata": {},
   "outputs": [],
   "source": [
    "def sigmoid(x):\n",
    "    \"\"\"Compute the sigmoid function for the input array.\"\"\"\n",
    "    \n",
    "    return np.where(x >= 0, \n",
    "                    1 / (1 + np.exp(-x)), \n",
    "                    np.exp(x) / (1 + np.exp(x)))\n"
   ]
  },
  {
   "cell_type": "raw",
   "metadata": {},
   "source": [
    "We define the dimensions of the Lorenz system and of the reservoir."
   ]
  },
  {
   "cell_type": "code",
   "execution_count": null,
   "metadata": {},
   "outputs": [],
   "source": [
    "dim_system = 3\n",
    "dim_reservoir = 300"
   ]
  },
  {
   "cell_type": "code",
   "execution_count": null,
   "metadata": {},
   "outputs": [],
   "source": []
  },
  {
   "cell_type": "markdown",
   "metadata": {},
   "source": [
    "## Obtain Reservoir Computer Predictions\n",
    "\n",
    "Finally, we can use the reservoir computer to get some predictions."
   ]
  },
  {
   "cell_type": "markdown",
   "metadata": {},
   "source": [
    "We start by generaing a long Lorenz trajectory and splitting it into training and validation sets."
   ]
  },
  {
   "cell_type": "code",
   "execution_count": null,
   "metadata": {},
   "outputs": [],
   "source": [
    "iter_num = 10_000\n",
    "\n",
    "t, x, y, z = lorenz(t0=0, x0=1, y0=1, z0=1, dt=0.01, \n",
    "                    sigma=10, rho=28, beta=8 / 3, iter_num=iter_num)\n",
    "\n",
    "# Combine the lists into a single list of 3-tuples\n",
    "xyz = list(zip(x, y, z))\n",
    "\n",
    "# Split the data into training and validation sets\n",
    "split_ratio = 0.50\n",
    "split_idx = int(iter_num * split_ratio)\n",
    "\n",
    "xyz_train = np.array(xyz[:split_idx])\n",
    "xyz_val = np.array(xyz[split_idx:])"
   ]
  },
  {
   "cell_type": "markdown",
   "metadata": {},
   "source": [
    "## Compare Reservoir Computer Predictions with "
   ]
  }
 ],
 "metadata": {
  "kernelspec": {
   "display_name": "py310",
   "language": "python",
   "name": "python3"
  },
  "language_info": {
   "codemirror_mode": {
    "name": "ipython",
    "version": 3
   },
   "file_extension": ".py",
   "mimetype": "text/x-python",
   "name": "python",
   "nbconvert_exporter": "python",
   "pygments_lexer": "ipython3",
   "version": "3.10.13"
  }
 },
 "nbformat": 4,
 "nbformat_minor": 2
}
