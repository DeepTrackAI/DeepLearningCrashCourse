{
 "cells": [
  {
   "cell_type": "markdown",
   "metadata": {},
   "source": [
    "### Understanding Graph Convolutions\n",
    "\n",
    "Graph convolutions are pivotal to graph neural networks (GNNs). To understand graph convolutions, it's helpful to first consider convolutions in the context of images. In image processing, convolution operations involve applying a filter or kernel to an image. This filter moves systematically over the image, performing element-wise multiplication with the part of the image it covers and adding up these products to create a new, transformed image.\n",
    "\n",
    "Graphs differ from images in that they do not have a regular, grid-like structure. Instead, they consist of nodes (vertices) and edges (connections or relationships), which are not arranged in any fixed, orderly pattern. This lack of structure presents a unique challenge for applying convolution operations, as there is no straightforward way to \"slide\" a kernel over the nodes of a graph.\n",
    "\n",
    "Graph convolutions redefine the convolution operation to suit the unique structure of graphs. The idea is to aggregate information from nodes' neighborhood (i.e., the immediate connections of a node) by computing a weighted sum of the adjacent node features. The weights can be determined in various ways, often involving the properties of the edges or the nodes themselves. \n",
    "\n",
    "The graph connectivity defines how information flows during convolution. This connectivity is often represented by an adjacency matrix $A$, where each entry $A_{ij}$ is set to 1 if there is a link between nodes $i$ and $j$, and 0 otherwise. $A$ can represent both directed and undirected graphs. In a directed graph, an entry $A_{ij}​=1$ implies a directed edge from node $i$ to node $j$, indicating the direction of information flow. Conversely, in undirected graphs, $A_{ij} = A_{ji} = 1$ reflects bidirectional edges, allowing information to flow in both directions. This structure underpins the aggregation process in graph convolution, steering the feature integration from neighboring nodes to capture the graph's topology. \n",
    "\n",
    "As an example, consider a simple cycle graph."
   ]
  },
  {
   "cell_type": "code",
   "execution_count": 3,
   "metadata": {},
   "outputs": [
    {
     "name": "stdout",
     "output_type": "stream",
     "text": [
      "A:\n",
      " [[0. 1. 0. 0. 0.]\n",
      " [0. 0. 1. 0. 0.]\n",
      " [0. 0. 0. 1. 0.]\n",
      " [0. 0. 0. 0. 1.]\n",
      " [1. 0. 0. 0. 0.]] \n",
      "\n",
      "x: [1 0 0 0 0]\n"
     ]
    }
   ],
   "source": [
    "import numpy as np\n",
    "\n",
    "nnodes = 5\n",
    "\n",
    "# (1-2): Create an adjacency matrix\n",
    "A = np.zeros((nnodes, nnodes))  # (1)\n",
    "for i in range(nnodes):\n",
    "    A[i, (i + 1) % nnodes] = 1  # (2)\n",
    "\n",
    "# (3): Create node features\n",
    "x = np.pad([1], (0, nnodes - 1), \"constant\", constant_values=(0))\n",
    "\n",
    "print(\"A:\\n\", A, \"\\n\")\n",
    "print(\"x:\", x)"
   ]
  },
  {
   "cell_type": "markdown",
   "metadata": {},
   "source": [
    "This code defines a graph with an adjacency matrix `A`, (1) initially filled with zeros. (2) This matrix is later updated to represent connections where each node is cyclically linked to the next node. \n",
    "\n",
    "(3) A graph signal `x` (representing the node features) is also initialized with the first node set to 1 and the rest set to 0."
   ]
  },
  {
   "cell_type": "code",
   "execution_count": 4,
   "metadata": {},
   "outputs": [
    {
     "name": "stdout",
     "output_type": "stream",
     "text": [
      "Output sequence of convolved node features:\n",
      "Convolution 1: [0. 0. 0. 0. 1.]\n",
      "Convolution 2: [0. 0. 0. 1. 0.]\n",
      "Convolution 3: [0. 0. 1. 0. 0.]\n",
      "Convolution 4: [0. 1. 0. 0. 0.]\n",
      "Convolution 5: [1. 0. 0. 0. 0.]\n"
     ]
    }
   ],
   "source": [
    "def GraphConvolution(A, x):\n",
    "    return A @ x \n",
    "\n",
    "convolved_x = []\n",
    "for _ in range(nnodes): # (1)\n",
    "    x = GraphConvolution(A, x) # (2)  \n",
    "    convolved_x.append(x) # (3)\n",
    "\n",
    "print(\"Output sequence of convolved node features:\")\n",
    "for i, x in enumerate(convolved_x):\n",
    "    print(f\"Convolution {i + 1}:\", x) # (4)"
   ]
  },
  {
   "cell_type": "markdown",
   "metadata": {},
   "source": [
    "(1) A loop runs for the number of nodes in the graph. (2) During each iteration, the node features vector `x` is updated through a graph convolution operation. This operation involves multiplying the adjacency matrix `A` by the current node features vector to simulate the spread of features across the graph. Here, the updated feature for each node is computed as the sum of the features of its neighbors. (3) The resulting feature vector is stored in the `convolved_x` list to (4) keep track of changes over each iteration."
   ]
  },
  {
   "cell_type": "code",
   "execution_count": 5,
   "metadata": {},
   "outputs": [
    {
     "name": "stdout",
     "output_type": "stream",
     "text": [
      "A:\n",
      " [[0. 1. 0. 0. 0.]\n",
      " [0. 0. 1. 0. 0.]\n",
      " [0. 0. 0. 1. 0.]\n",
      " [0. 0. 0. 0. 1.]\n",
      " [1. 0. 0. 0. 0.]]\n",
      "x: [1. 0. 0. 0. 0.]\n",
      "Convolution 1: [0. 1. 0. 0. 0.]\n",
      "Convolution 2: [0. 0. 1. 0. 0.]\n",
      "Convolution 3: [0. 0. 0. 1. 0.]\n",
      "Convolution 4: [0. 0. 0. 0. 1.]\n",
      "Convolution 5: [1. 0. 0. 0. 0.]\n"
     ]
    }
   ],
   "source": [
    "import numpy as np\n",
    "\n",
    "node_num = 5\n",
    "\n",
    "A = np.zeros((node_num, node_num))\n",
    "for i in range(node_num):\n",
    "    for j in range(node_num):\n",
    "        if j % node_num == (i + 1) % node_num:\n",
    "            A[i, j] = 1\n",
    "print(\"A:\\n\", A)\n",
    "\n",
    "\n",
    "x = np.zeros(node_num)\n",
    "x[0] = 1\n",
    "print(\"x:\", x)\n",
    "\n",
    "def graph_convolution(A, x):\n",
    "    \"\"\"Calculate graph convolution.\"\"\"\n",
    "    conv = np.zeros(node_num)\n",
    "    for i in range(node_num):\n",
    "        for j in range(node_num):\n",
    "            conv[j] += A[i, j] * x[i]\n",
    "    return conv\n",
    "\n",
    "for c in range(5):\n",
    "    x = graph_convolution(A, x)\n",
    "    print(f\"Convolution {c + 1}:\", x)\n"
   ]
  },
  {
   "cell_type": "markdown",
   "metadata": {},
   "source": [
    "### Implementing Graph Convolution Layer\n",
    "\n",
    "We will now delve into implementing a Graph Convolution Layer (GCL). You will find out that moving from theory to implementation is straightforward since the fundamental concept of graph convolution remains the same. Yet, a few extra considerations are needed for implementing a GCL.\n",
    "\n",
    "\n",
    "#### The Fingerprint of a GCL\n",
    "\n",
    "Although implementing GCLs can vary, it typically involves three sequential operations, i.e., **Transform**, **Propagate**, and **Update**.\n",
    "\n",
    "**Transform** is the initial step, where each node's features are transformed through a *learnable* function. This transformation prepares the node features for further processing, allowing the GCL to learn complex representations of the nodes' attributes. \n",
    "\n",
    "**Propagate** is responsible for the diffusion of information across the graph. During this phase, each node's transformed features are shared with its neighbors, allowing for information aggregation from node's local neighborhood. \n",
    "\n",
    "Finally, **Update**  refines each node's features based on the aggregated information collected during the propagation step. This typically involves applying another learnable function to the aggregated features or a non-linear activation function."
   ]
  },
  {
   "cell_type": "code",
   "execution_count": 58,
   "metadata": {},
   "outputs": [],
   "source": [
    "import torch\n",
    "import torch.nn as nn\n",
    "\n",
    "#from deeplay import DeeplayModule, Layer\n",
    "import deeplay as dl\n",
    "\n",
    "class GraphConvolution(nn.Module):\n",
    "    def forward(self, A, x):\n",
    "        return A @ x\n",
    "\n",
    "class GCL(dl.DeeplayModule):\n",
    "    def __init__(self, in_features, out_features):\n",
    "        super().__init__()\n",
    "\n",
    "        self.in_features = in_features\n",
    "        self.out_features = out_features\n",
    "        \n",
    "        self.Transform = dl.Layer(nn.Linear, in_features, out_features)\n",
    "        self.Propagate = dl.Layer(GraphConvolution)\n",
    "        self.Update = dl.Layer(nn.ReLU)\n",
    "\n",
    "    def forward(self, A, x):\n",
    "        x = self.Transform(x)\n",
    "        x = self.Propagate(A, x)\n",
    "        x = self.Update(x)\n",
    "        return x"
   ]
  },
  {
   "cell_type": "markdown",
   "metadata": {},
   "source": [
    "This code implements a simple `GCL` comprising the `Transform`, `Propagate`, and `Update` operations.\n",
    "\n",
    "`Transform` is implemented as a linear layer that takes the node features `x` (with `in_features` dimensions) and transforms them into a new feature space with `out_features` dimensions. \n",
    "\n",
    "`Propagate` is implemented as a matrix multiplication between the adjacency matrix `A` and the transformed node features. Note this operation is equivalent to the graph convolution operation implemented in the previous example. \n",
    "\n",
    "Once the transformed features are propagated across the graph, the `Update` operation applies a non-linear activation function (ReLU) to the aggregated features to produce the final node features."
   ]
  },
  {
   "cell_type": "markdown",
   "metadata": {},
   "source": [
    "#### Functional, yet not practical"
   ]
  },
  {
   "cell_type": "markdown",
   "metadata": {},
   "source": [
    "Before proceeding, it is essential to note that the `GCL` implementation is functional but not practical. This is because two major limitations hinder its effectiveness in real-world scenarios.\n",
    "\n",
    "First, our current implementation of `GraphConvolution` aggregates features from neighboring nodes, but it does not consider the attributes of the nodes themselves. The significance of this shortfall cannot be overstated, as in real-world scenarios, node's intrinsic attributes often play a pivotal role in the convolution operation, influencing the outcome and effectiveness of the model.\n",
    "\n",
    "The second major limitation revolves around the lack of normalization within $A$. Normalization is crucial in ensuring that the aggregation of features across nodes is balanced and meaningful. Without normalization, nodes with a higher degree (i.e., a greater number of neighbors) will naturally result in larger aggregated feature values than those with fewer neighbors. This discrepancy can lead to a pronounced variance in the aggregated features, potentially skewing the model's performance and its ability to generalize across the graph. \n",
    "\n",
    "To solve these issues, [Kipf and Welling (2017)](https://arxiv.org/abs/1609.02907) proposed a simple yet effective solution that addresses both limitations. Their approach introduces self-loops to the adjacency matrix and normalizes the aggregated features. This normalization is achieved by dividing the aggregated features by the square root of the product of the degree of the source and target nodes."
   ]
  },
  {
   "cell_type": "code",
   "execution_count": 7,
   "metadata": {},
   "outputs": [],
   "source": [
    "class GraphConvolution(nn.Module):\n",
    "    def normalize(self, A):\n",
    "        A = A + torch.eye(A.size(0)).to(A.device) # (1)\n",
    "\n",
    "        deg = torch.sum(A, dim=1)\n",
    "        deg = deg.pow(-0.5)\n",
    "        deg[deg == float(\"inf\")] = 0\n",
    "        D = torch.diag(deg) # (2)\n",
    "\n",
    "        A_norm = D @ A @ D\n",
    "        return A_norm\n",
    "\n",
    "    def forward(self, A, x):\n",
    "        A_norm = self.normalize(A) #(3)\n",
    "        return A_norm @ x # (4)"
   ]
  },
  {
   "cell_type": "markdown",
   "metadata": {},
   "source": [
    "This code adds `self.normalize` to the `GraphConvolution` class. This method (1) adds self-loops to the adjacency matrix and (2) normalizes `A` by dividing its entries by the square root of the product of the degree of the source and target nodes. \n",
    "\n",
    " (3-4) The normalized adjacency matrix is then used to propagate the transformed features across the graph."
   ]
  },
  {
   "cell_type": "markdown",
   "metadata": {},
   "source": [
    "### Implementing a Graph Convolutional Network for Molecular Property Prediction"
   ]
  },
  {
   "cell_type": "markdown",
   "metadata": {},
   "source": [
    "We will now apply our GCL to a real-world problem: molecular property prediction. This task involves predicting the properties of molecules based on their structural information. \n",
    "\n",
    "##### The ZINC dataset\n",
    "\n",
    "We will use the ZINC dataset, a molecular graph dataset in which the task is to regress the penalized water-octanol partition coefficient (logP) of molecules. This coefficient is a measure widely used in drug discovery. \n",
    "\n",
    "For reproducibility, we will use the splits provided by Dwivedi et al. (2020) in their paper [\"Benchmarking Graph Neural Networks\"](https://arxiv.org/abs/2003.00982): 10,000 molecules for training, 1,000 for validation, and 1,000 for testing.\n",
    "\n",
    "We start by downloading the dataset using the following code snippet, which automatically downloads and prepares the data:"
   ]
  },
  {
   "cell_type": "code",
   "execution_count": 8,
   "metadata": {},
   "outputs": [],
   "source": [
    "from torch_geometric.datasets import ZINC\n",
    "\n",
    "train_dataset = ZINC(root='ZINC_dataset/', subset=True, split='train')\n",
    "val_dataset = ZINC(root='ZINC_dataset/', subset=True, split='val')\n",
    "test_dataset = ZINC(root='ZINC_dataset/', subset=True, split='test')"
   ]
  },
  {
   "cell_type": "markdown",
   "metadata": {},
   "source": [
    "##### Visualizing the dataset"
   ]
  },
  {
   "cell_type": "markdown",
   "metadata": {},
   "source": [
    "In the dataset, molecules are represented as a graph, with nodes and edges describing atoms and chemical bonds, respectively. \n",
    "\n",
    "Let us write a function that displays the structures of a molecule by visualizing their adjacency matrices. "
   ]
  },
  {
   "cell_type": "raw",
   "metadata": {
    "vscode": {
     "languageId": "raw"
    }
   },
   "source": [
    "import matplotlib.pyplot as plt\n",
    "from torch_geometric.utils import to_dense_adj\n",
    "\n",
    "def plot_molecule(G, ax, title):\n",
    "    A = to_dense_adj(G[\"edge_index\"]).numpy().squeeze(0) #(1)\n",
    "    x = G[\"x\"].numpy().squeeze() # (2)\n",
    "    \n",
    "    ax.matshow(A, cmap='viridis') # (3)\n",
    "\n",
    "    indices = np.arange(len(x))\n",
    "    ax.set_xticks(indices)\n",
    "    ax.set_yticks(indices)\n",
    "    ax.set_xticklabels(x, fontsize=12) # (4)\n",
    "    ax.xaxis.set_ticks_position('bottom')\n",
    "    ax.set_yticklabels(x, fontsize=12) # (5)\n",
    "    \n",
    "    ax.set_xlabel('Atom type', fontsize=12)\n",
    "    ax.set_ylabel('Atom type', fontsize=12)\n",
    "\n",
    "    ax.set_title(title, fontsize=14) # (6)"
   ]
  },
  {
   "cell_type": "markdown",
   "metadata": {},
   "source": [
    "The input to the function is a graph comprising the following attributes: `x` (node features), `edge_index` (edge connectivity), and `y` (target property).\n",
    "\n",
    "(1) The adjacency matrix `A` is computed from the `edge_index` tensor. `edge_index` stores the indices of the nodes connected by an edge. We convert `edge_index` into an adjacency matrix `A` for better visualization and alignment with our graph convolution implementation.\n",
    "\n",
    "(2) As explained earlier, nodes represent atoms, with features describing the atom type. These features are stored in the `x` attribute of the graph as a tensor of shape `(num_nodes, 1)`. \n",
    "\n",
    "(3) Next, the adjacency matrix `A` is plotted, with each entry colored according to the value of the adjacency matrix. A value of 1 is colored in yellow, while 0 is colored in blue. The atom type is also displayed on every (4) row and (5) column. \n",
    "\n",
    "(6) Finally, the target property, logP (stored in the `y` attribute), is printed."
   ]
  },
  {
   "cell_type": "markdown",
   "metadata": {},
   "source": [
    "We can now visualize the structure of three randomly selected molecules from the dataset using the `plot_molecule` function."
   ]
  },
  {
   "cell_type": "code",
   "execution_count": 69,
   "metadata": {},
   "outputs": [],
   "source": [
    "import matplotlib.pyplot as plt\n",
    "from torch_geometric.utils import to_dense_adj\n",
    "\n",
    "def plot_molecule(molecule):\n",
    "    \"\"\"Plot adjacency matrix of a molecule.\"\"\"\n",
    "    x = molecule[\"x\"].numpy().squeeze()\n",
    "    A = to_dense_adj(molecule[\"edge_index\"]).numpy().squeeze(0)\n",
    "    y = molecule[\"y\"].item()\n",
    "    \n",
    "    fig, ax = plt.subplots()\n",
    "    ax.matshow(A, cmap=plt.cm.get_cmap('gray').reversed())\n",
    "\n",
    "    indices = np.arange(len(x))\n",
    "    ax.set_xticks(indices, x, fontsize=12)\n",
    "    ax.xaxis.set_ticks_position('bottom')\n",
    "    ax.set_xlabel('Atom type', fontsize=16)\n",
    "    \n",
    "    ax.set_yticks(indices, x, fontsize=12)\n",
    "    ax.set_ylabel('Atom type', fontsize=16)\n",
    "\n",
    "    ax.set_title(f\"LogP={np.round(y, 2)}\", fontsize=24)"
   ]
  },
  {
   "cell_type": "code",
   "execution_count": 70,
   "metadata": {},
   "outputs": [
    {
     "name": "stderr",
     "output_type": "stream",
     "text": [
      "/var/folders/hq/wmcbgp7s56b98c9mjf167rz40000gn/T/ipykernel_43290/4137441414.py:11: MatplotlibDeprecationWarning: The get_cmap function was deprecated in Matplotlib 3.7 and will be removed two minor releases later. Use ``matplotlib.colormaps[name]`` or ``matplotlib.colormaps.get_cmap(obj)`` instead.\n",
      "  ax.matshow(A, cmap=plt.cm.get_cmap('gray').reversed())\n"
     ]
    },
    {
     "data": {
      "image/png": "[encoded data removed]",
      "text/plain": [
       "<Figure size 640x480 with 1 Axes>"
      ]
     },
     "metadata": {},
     "output_type": "display_data"
    },
    {
     "data": {
      "image/png": "[encoded data removed]",
      "text/plain": [
       "<Figure size 640x480 with 1 Axes>"
      ]
     },
     "metadata": {},
     "output_type": "display_data"
    },
    {
     "data": {
      "image/png": "[encoded data removed]",
      "text/plain": [
       "<Figure size 640x480 with 1 Axes>"
      ]
     },
     "metadata": {},
     "output_type": "display_data"
    }
   ],
   "source": [
    "for i in [2, 1235, 9887]:\n",
    "    plot_molecule(molecule=train_dataset[i])"
   ]
  },
  {
   "cell_type": "code",
   "execution_count": 42,
   "metadata": {},
   "outputs": [
    {
     "data": {
      "text/plain": [
       "tensor([-2.9462])"
      ]
     },
     "execution_count": 42,
     "metadata": {},
     "output_type": "execute_result"
    }
   ],
   "source": [
    "graph[\"y\"]"
   ]
  },
  {
   "cell_type": "raw",
   "metadata": {
    "vscode": {
     "languageId": "raw"
    }
   },
   "source": [
    "selected_graphs = [2633, 9447, 9887]\n",
    "\n",
    "fig, ax = plt.subplots(1, 3, figsize=(20, 5))\n",
    "for i, index in enumerate(selected_graphs):\n",
    "    graph = train_dataset[index]\n",
    "    plot_molecule(\n",
    "        G=graph,\n",
    "        ax=ax[i],\n",
    "        title=f\"LogP: {np.round(graph['y'].item(), 2)}\",\n",
    "    )\n",
    "\n",
    "plt.show()"
   ]
  },
  {
   "cell_type": "markdown",
   "metadata": {},
   "source": [
    "#### Building a Graph Convolutional Network\n",
    "\n",
    "A Graph Convolutional Network (GCN), in its simplest form, consists of a series of graph convolution layers.\n",
    "\n",
    "The following code defines a simple GCN model. "
   ]
  },
  {
   "cell_type": "raw",
   "metadata": {
    "vscode": {
     "languageId": "raw"
    }
   },
   "source": [
    "from deeplay import DeeplayModule, LayerList\n",
    "\n",
    "\n",
    "class GCN(DeeplayModule):\n",
    "    def __init__(\n",
    "        self,\n",
    "        in_features,\n",
    "        hidden_features,\n",
    "        out_features,\n",
    "    ):\n",
    "        super().__init__()\n",
    "\n",
    "        self.in_features = in_features\n",
    "        self.hidden_features = hidden_features\n",
    "        self.out_features = out_features\n",
    "\n",
    "        self.blocks = LayerList()  # (1)\n",
    "        for f_in, f_out in zip(\n",
    "            [in_features, *hidden_features], [*hidden_features, out_features]\n",
    "        ):\n",
    "            GCL_layer = GCL(f_in, f_out)  # (2)\n",
    "            self.blocks.append(GCL_layer)  # (3)\n",
    "\n",
    "    def forward(self, G):\n",
    "        G[\"x\"] = G[\"x\"]                                                         ### Why is this line needed?\n",
    "        for block in self.blocks:\n",
    "            G[\"x\"] = block(G[\"A\"], G[\"x\"])  # (4)\n",
    "\n",
    "        return G[\"x\"]"
   ]
  },
  {
   "cell_type": "code",
   "execution_count": 60,
   "metadata": {},
   "outputs": [],
   "source": [
    "class GCN(dl.DeeplayModule):\n",
    "    \"\"\"Graph convolutional network.\"\"\"\n",
    "    \n",
    "    def __init__(self, in_features, hidden_features, out_features):\n",
    "        \"\"\"Initialize graph convolutional network.\"\"\"\n",
    "        super().__init__()\n",
    "\n",
    "        self.in_features = in_features\n",
    "        self.hidden_features = hidden_features\n",
    "        self.out_features = out_features\n",
    "\n",
    "        self.blocks = dl.LayerList()\n",
    "        for f_in, f_out in zip([in_features, *hidden_features], \n",
    "                               [*hidden_features, out_features]):\n",
    "            self.blocks.append(GCL(f_in, f_out))\n",
    "\n",
    "    def forward(self, G):\n",
    "        \"\"\"Calculate forward pass.\"\"\"\n",
    "        for block in self.blocks:\n",
    "            G[\"x\"] = block(G[\"A\"], G[\"x\"])\n",
    "        return G[\"x\"]"
   ]
  },
  {
   "cell_type": "markdown",
   "metadata": {},
   "source": [
    "The model architecture consists of a stack of GCLs, (1) initialized as an empty list of layers, yet later (2-3) populated with `GCL` instances. \n",
    "\n",
    "The input to the model is a graph `G`, which contains the node features `x` and the adjacency matrix `A`. The graph is passed through each GCL in the list, with the output of each layer serving as the input to the next layer."
   ]
  },
  {
   "cell_type": "markdown",
   "metadata": {},
   "source": [
    "Importantly, the model is not yet complete. Three additional components are needed to make the model functional for our molecular property prediction task: \n",
    "\n",
    "1. In the ZINC dataset, nodes represent atom types encoded as categorical features (i.e., integers). To process such features, we need to use an *embedding layer*, which acts as a lookup table to convert each atom type into a continuous vector representation.\n",
    "\n",
    "2. The current model outputs features for each node. However, the ultimate goal is to predict the property of the entire molecule (in our case, the logP value). To accomplish this, we need to combine the features of all nodes into a single representation for the entire graph. This can be done using a *global average pooling*, which involves computing the mean of all node features.\n",
    "\n",
    "3. Finally, a *dense top* is added to the model to perform the regression task. This layer takes the graph-level representation and maps it to a single output value, which is the predicted logP.\n",
    "\n",
    "Let's add these components to the model."
   ]
  },
  {
   "cell_type": "raw",
   "metadata": {
    "vscode": {
     "languageId": "raw"
    }
   },
   "source": [
    "from deeplay import DeeplayModule, Layer, LayerList, Sequential\n",
    "\n",
    "class GCN(DeeplayModule):\n",
    "    def __init__(\n",
    "        self,\n",
    "        num_node_embedding,  # (1)\n",
    "        embedding_dim,  # (2)\n",
    "        hidden_features,\n",
    "        out_features,\n",
    "    ):\n",
    "        super().__init__()\n",
    "\n",
    "        self.num_node_embedding = num_node_embedding\n",
    "        self.hidden_features = hidden_features\n",
    "        self.out_features = out_features\n",
    "\n",
    "        self.node_embedding = Layer(nn.Embedding, num_node_embedding, embedding_dim)  # (3)\n",
    "\n",
    "        self.blocks = LayerList()\n",
    "        for f_in, f_out in zip([embedding_dim, *hidden_features[:-1]], hidden_features):\n",
    "            GCL_layer = GCL(f_in, f_out)\n",
    "            self.blocks.append(GCL_layer)\n",
    "\n",
    "        self.dense_top = Sequential(\n",
    "            Layer(nn.Linear, hidden_features[-1], hidden_features[-1] // 4),  # (4)\n",
    "            Layer(nn.ReLU),  # (5)\n",
    "            Layer(nn.Linear, hidden_features[-1] // 4, out_features),  # (6)\n",
    "        )\n",
    "\n",
    "    def forward(self, G):\n",
    "        G[\"x\"] = self.node_embedding(G[\"x\"])\n",
    "        for block in self.blocks:\n",
    "            G[\"x\"] = block(G[\"A\"], G[\"x\"])\n",
    "\n",
    "        h = torch.mean(G[\"x\"], dim=0)  # (7)\n",
    "        \n",
    "        output = self.dense_top(h)\n",
    "        return output"
   ]
  },
  {
   "cell_type": "code",
   "execution_count": null,
   "metadata": {},
   "outputs": [],
   "source": [
    "class GCN(dl.DeeplayModule):\n",
    "    \"\"\"Graph convolutional network.\"\"\"\n",
    "    \n",
    "    def __init__(self, in_features, hidden_features, out_features, \n",
    "                 num_node_embedding, embedding_dim):\n",
    "        \"\"\"Initialize graph convolutional network.\"\"\"\n",
    "        super().__init__()\n",
    "\n",
    "        self.in_features = in_features\n",
    "        self.hidden_features = hidden_features\n",
    "        self.out_features = out_features\n",
    "\n",
    "        self.node_embedding = dl.Layer(nn.Embedding, num_node_embedding, \n",
    "                                       embedding_dim)\n",
    "\n",
    "        self.blocks = dl.LayerList()\n",
    "        for f_in, f_out in zip([in_features, *hidden_features], \n",
    "                               [*hidden_features, out_features]):\n",
    "            self.blocks.append(GCL(f_in, f_out))\n",
    "\n",
    "        self.dense_top = dl.Sequential(\n",
    "            dl.Layer(nn.Linear, hidden_features[-1], hidden_features[-1] // 4),\n",
    "            dl.Layer(nn.ReLU),\n",
    "            dl.Layer(nn.Linear, hidden_features[-1] // 4, out_features),\n",
    "        )\n",
    "\n",
    "    def forward(self, G):\n",
    "        \"\"\"Calculate forward pass.\"\"\"\n",
    "        G[\"x\"] = self.node_embedding(G[\"x\"])\n",
    "        for block in self.blocks:\n",
    "            G[\"x\"] = block(G[\"A\"], G[\"x\"])\n",
    "        \n",
    "        h = torch.mean(G[\"x\"], dim=0)\n",
    "        \n",
    "        return self.dense_top(h)"
   ]
  },
  {
   "cell_type": "markdown",
   "metadata": {},
   "source": [
    "This code modifies the `GCN` class to include the embedding layer, global average pooling, and dense top.\n",
    "\n",
    "(1-2) The class receives the number of atom types `num_node_embedding` and the number of embedding dimensions `embedding_dim` as input. These parameters are used to (3) initialize the embedding layer.\n",
    "\n",
    "(4-6) The dense top is defined as a sequential model comprising two linear layers with a ReLU activation function in between. (4) The first linear layer maps the graph-level representation to a hidden layer, while (6) the second linear layer maps the hidden layer to the output logP value.\n",
    "\n",
    "(7) The global average pooling operation is added to the forward method to aggregate the node features into a single graph-level representation. This is achieved by computing the mean of the node features across the graph."
   ]
  },
  {
   "cell_type": "markdown",
   "metadata": {},
   "source": [
    "#### Batch Processing"
   ]
  },
  {
   "cell_type": "markdown",
   "metadata": {},
   "source": [
    "The final step in preparing the model is to enable batch processing. This is crucial for training the model, as it allows us to process multiple graphs simultaneously, improving the model's efficiency and scalability.\n",
    "\n",
    "To enable batch processing, we need to modify the `GCN` class to handle a batch of graphs:"
   ]
  },
  {
   "cell_type": "raw",
   "metadata": {
    "vscode": {
     "languageId": "raw"
    }
   },
   "source": [
    "class GCN(DeeplayModule):\n",
    "    def __init__(\n",
    "        self,\n",
    "        num_node_embedding,\n",
    "        embedding_dim,\n",
    "        hidden_features,\n",
    "        out_features,\n",
    "    ):\n",
    "        super().__init__()\n",
    "\n",
    "        self.num_embedding = num_node_embedding\n",
    "        self.hidden_features = hidden_features\n",
    "        self.out_features = out_features\n",
    "\n",
    "        self.embedding = Layer(nn.Embedding, num_node_embedding, embedding_dim)\n",
    "\n",
    "        self.blocks = LayerList()\n",
    "        for f_in, f_out in zip([embedding_dim, *hidden_features[:-1]], hidden_features):\n",
    "            GCL_layer = GCL(f_in, f_out)\n",
    "            self.blocks.append(GCL_layer)\n",
    "\n",
    "        self.dense_top = Sequential(\n",
    "            Layer(nn.Linear, hidden_features[-1], hidden_features[-1] // 4),\n",
    "            Layer(nn.ReLU),\n",
    "            Layer(nn.Linear, hidden_features[-1] // 4, out_features),\n",
    "        )\n",
    "\n",
    "    def forward(self, G):\n",
    "        G[\"x\"] = self.embedding(G[\"x\"])\n",
    "        for block in self.blocks:\n",
    "            G[\"x\"] = block(G[\"A\"], G[\"x\"])\n",
    "\n",
    "        batch_size = torch.max(G[\"batch\"]) + 1\n",
    "        h = torch.zeros(batch_size, G[\"x\"].shape[1], device=G[\"x\"].device)  # (1)\n",
    "        h = h.scatter_add(0, G[\"batch\"][:, None].expand_as(G[\"x\"]), G[\"x\"])  # (2)\n",
    "        h = h / torch.bincount(G[\"batch\"])[:, None]  # (3)\n",
    "\n",
    "        output = self.dense_top(h)\n",
    "        return output.squeeze()"
   ]
  },
  {
   "cell_type": "code",
   "execution_count": null,
   "metadata": {},
   "outputs": [],
   "source": [
    "class GCN(dl.DeeplayModule):\n",
    "    \"\"\"Graph convolutional network.\"\"\"\n",
    "    \n",
    "    def __init__(self, in_features, hidden_features, out_features, \n",
    "                 num_node_embedding, embedding_dim):\n",
    "        \"\"\"Initialize graph convolutional network.\"\"\"\n",
    "        super().__init__()\n",
    "\n",
    "        self.in_features = in_features\n",
    "        self.hidden_features = hidden_features\n",
    "        self.out_features = out_features\n",
    "\n",
    "        self.node_embedding = dl.Layer(nn.Embedding, num_node_embedding, \n",
    "                                       embedding_dim)\n",
    "\n",
    "        self.blocks = dl.LayerList()\n",
    "        for f_in, f_out in zip([in_features, *hidden_features], \n",
    "                               [*hidden_features, out_features]):\n",
    "            self.blocks.append(GCL(f_in, f_out))\n",
    "\n",
    "        self.dense_top = dl.Sequential(\n",
    "            dl.Layer(nn.Linear, hidden_features[-1], hidden_features[-1] // 4),\n",
    "            dl.Layer(nn.ReLU),\n",
    "            dl.Layer(nn.Linear, hidden_features[-1] // 4, out_features),\n",
    "        )\n",
    "\n",
    "    def forward(self, G):\n",
    "        \"\"\"Calculate forward pass.\"\"\"\n",
    "        G[\"x\"] = self.node_embedding(G[\"x\"])\n",
    "        for block in self.blocks:\n",
    "            G[\"x\"] = block(G[\"A\"], G[\"x\"])\n",
    "        \n",
    "        batch_size = torch.max(G[\"batch\"]) + 1\n",
    "        h = torch.zeros(batch_size, G[\"x\"].shape[1], device=G[\"x\"].device)\n",
    "        h = h.scatter_add(0, G[\"batch\"][:, None].expand_as(G[\"x\"]), G[\"x\"])\n",
    "        h = h / torch.bincount(G[\"batch\"])[:, None]\n",
    "        \n",
    "        return self.dense_top(h).squeeze()"
   ]
  },
  {
   "cell_type": "markdown",
   "metadata": {},
   "source": [
    "The forward method is updated to accept a batched graph `G` as input. \n",
    "\n",
    "Since graphs can have different numbers of nodes, `G[\"x\"]` stores the node features of all graphs in a single tensor of shape `(total_num_nodes, num_node_features)`. \n",
    "\n",
    "Similarly, `G[\"A\"]` stores all the adjacency matrices of the graphs as a block-diagonal matrix with shape`(total_num_nodes, total_num_nodes)`, where each block corresponds to the adjacency matrix of a single graph in the batch.\n",
    "\n",
    "Last, `G[\"batch\"]` is a tensor of shape `(total_num_nodes)` that stores the graph indices to which each node belongs.\n",
    "\n",
    "In the forward method, all the operations are performed on the entire batch. This includes the embedding layer, graph convolution layers, global average pooling, and dense top. It's important to note that all the operations are the same as before. However, the graph-level representation is computed for each graph in the batch. To achieve this,\n",
    "\n",
    "(1) we create a tensor with shape `torch.zeros(batch_dim, x.shape[1])` and initialize it with zeros. \n",
    "\n",
    "(2) We apply the `scatter_add` function to this tensor along the first dimension, using `G[\"batch\"][:, None].expand_as(x)` as the index. This results in a tensor with aggregated values, where each row represents the summed node features for the respective graph in the batch. \n",
    "\n",
    "Last, (3) we normalize the aggregated features by the number of nodes in each graph to compute the mean node features per graph.\n",
    "\n",
    "Let us now instantiate the model."
   ]
  },
  {
   "cell_type": "raw",
   "metadata": {
    "vscode": {
     "languageId": "raw"
    }
   },
   "source": [
    "GCN_model = GCN(\n",
    "    num_node_embedding=28, # Given by the ZINC dataset (28 atom types)\n",
    "    embedding_dim=64,  \n",
    "    hidden_features=[64, 64, 64, 64],  \n",
    "    out_features=1,  \n",
    ").create()\n",
    "\n",
    "print(GCN_model)"
   ]
  },
  {
   "cell_type": "code",
   "execution_count": null,
   "metadata": {},
   "outputs": [],
   "source": [
    "GCN_model = GCN(\n",
    "    hidden_features=[64, 64, 64, 64],  \n",
    "    out_features=1,  \n",
    "    num_node_embedding=28, # Given by the ZINC dataset (28 atom types)\n",
    "    embedding_dim=64,  \n",
    ").create()\n",
    "\n",
    "print(GCN_model)"
   ]
  },
  {
   "cell_type": "markdown",
   "metadata": {},
   "source": [
    "#### Defining the data loaders\n",
    "\n",
    "Before training the model, we need to define the data loaders, which are responsible for feeding the data to the model during training and evaluation."
   ]
  },
  {
   "cell_type": "code",
   "execution_count": 12,
   "metadata": {},
   "outputs": [
    {
     "name": "stderr",
     "output_type": "stream",
     "text": [
      "c:\\Users\\Jesus\\AppData\\Local\\Programs\\Python\\Python38\\lib\\site-packages\\torch_geometric\\deprecation.py:22: UserWarning: 'data.DataLoader' is deprecated, use 'loader.DataLoader' instead\n",
      "  warnings.warn(out)\n"
     ]
    }
   ],
   "source": [
    "from torch_geometric.data import DataLoader\n",
    "\n",
    "train_loader = DataLoader(dataset=train_dataset, batch_size=32, shuffle=True)\n",
    "val_loader = DataLoader(dataset=val_dataset, batch_size=16, shuffle=False)\n",
    "test_loader = DataLoader(dataset=test_dataset, batch_size=32, shuffle=False)"
   ]
  },
  {
   "cell_type": "markdown",
   "metadata": {},
   "source": [
    "#### Training the model"
   ]
  },
  {
   "cell_type": "markdown",
   "metadata": {},
   "source": [
    "We will now proceed to create the `MolecularRegressor` class, which will be responsible for training and evaluating the model. \n",
    "\n",
    "This class is designed to handle batch processing, training, and evaluation loops correctly."
   ]
  },
  {
   "cell_type": "raw",
   "metadata": {
    "vscode": {
     "languageId": "raw"
    }
   },
   "source": [
    "from deeplay import Regressor\n",
    "from torch_geometric.utils import to_dense_adj\n",
    "\n",
    "\n",
    "class MolecularRegressor(Regressor):\n",
    "    def __init__(self, model, **kwargs):\n",
    "        super().__init__(model, **kwargs)\n",
    "\n",
    "    def batch_preprocess(self, batch):\n",
    "        batch[\"x\"] = batch[\"x\"].squeeze()  # (1)\n",
    "        batch[\"A\"] = to_dense_adj(batch[\"edge_index\"]).squeeze(0)  # (2)\n",
    "        batch = batch.to(self.device)\n",
    "        return batch\n",
    "    \n",
    "    def forward(self, batch):\n",
    "        batch = self.batch_preprocess(batch)\n",
    "        return self.model(batch)"
   ]
  },
  {
   "cell_type": "code",
   "execution_count": null,
   "metadata": {},
   "outputs": [],
   "source": [
    "class MolecularRegressor(dl.Regressor):\n",
    "    \"\"\"Molecular regressor.\"\"\"\n",
    "    \n",
    "    def __init__(self, model, **kwargs):\n",
    "        \"\"\"Initialize molecular regressor.\"\"\"\n",
    "        super().__init__(model, **kwargs)\n",
    "\n",
    "    def batch_preprocess(self, batch):\n",
    "        \"\"\"Preprocess batch.\"\"\"\n",
    "        batch[\"x\"] = batch[\"x\"].squeeze()\n",
    "        batch[\"A\"] = to_dense_adj(batch[\"edge_index\"]).squeeze(0)\n",
    "        return batch.to(self.device)\n",
    "    \n",
    "    def forward(self, batch):\n",
    "        \"\"\"Calculate forward pass.\"\"\"\n",
    "        return self.model(self.batch_preprocess(batch))"
   ]
  },
  {
   "cell_type": "markdown",
   "metadata": {},
   "source": [
    "The `MolecularRegressor` class implements the `batch_preprocess` method, which is responsible for preparing the input to the model. It comprises the following steps:\n",
    "\n",
    "(1) The `x` tensor is squeezed. This operation eliminates any singleton dimensions from `x`, ensuring that its shape matches the model requirements.\n",
    "\n",
    "(2) The adjacency matrix `A` is calculated from the edge index."
   ]
  },
  {
   "cell_type": "markdown",
   "metadata": {},
   "source": [
    "Let's instantiate this class and train the model."
   ]
  },
  {
   "cell_type": "raw",
   "metadata": {
    "vscode": {
     "languageId": "raw"
    }
   },
   "source": [
    "from deeplay import Adam, Trainer\n",
    "from lightning.pytorch.callbacks import ModelCheckpoint\n",
    "\n",
    "\n",
    "regresor = MolecularRegressor(\n",
    "    GCN_model, loss=nn.L1Loss(), optimizer=Adam(lr=1e-3)  # (1)\n",
    ").create()\n",
    "\n",
    "checkpoint_callback = ModelCheckpoint( #(2)\n",
    "    monitor=\"val_loss\",\n",
    "    dirpath=\"models\", \n",
    "    filename=\"ZINC-GCN-model{epoch:02d}-val_loss{val_loss:.2f}\",\n",
    "    auto_insert_metric_name=False, \n",
    ")\n",
    "\n",
    "trainer = Trainer( # (3)\n",
    "    max_epochs=400, \n",
    "    callbacks=[checkpoint_callback]\n",
    ")\n",
    "trainer.fit(regresor, train_loader, val_loader)  # (4)"
   ]
  },
  {
   "cell_type": "code",
   "execution_count": null,
   "metadata": {},
   "outputs": [],
   "source": [
    "from lightning.pytorch.callbacks import ModelCheckpoint\n",
    "\n",
    "regresor = MolecularRegressor(\n",
    "    GCN_model, loss=nn.L1Loss(), optimizer=dl.Adam(lr=1e-3)\n",
    ").create()\n",
    "\n",
    "checkpoint_callback = ModelCheckpoint(\n",
    "    monitor=\"val_loss\",\n",
    "    dirpath=\"models\", \n",
    "    filename=\"ZINC-GCN-model{epoch:02d}-val_loss{val_loss:.2f}\",\n",
    "    auto_insert_metric_name=False, \n",
    ")\n",
    "trainer = dl.Trainer(max_epochs=400, callbacks=[checkpoint_callback])\n",
    "trainer.fit(regresor, train_loader, val_loader)"
   ]
  },
  {
   "cell_type": "markdown",
   "metadata": {},
   "source": [
    "The model is compiled using the (1) using the Mean Absolute Error (MAE) as the loss function and the Adam optimizer.\n",
    "\n",
    "(2) A checkpoint callback is implemented to save the best model during training. This callback monitors the validation loss and saves the model with the lowest loss in the `dirpath` directory. It's important to note that the filename includes the epoch and the validation loss for easy identification.\n",
    "\n",
    "(3) The trainer is instantiated specifying the number of epochs and checkpoint callback.\n",
    "\n",
    "(4) Last, the model is trained with the fit method using the training and validation data loaders as input."
   ]
  },
  {
   "cell_type": "markdown",
   "metadata": {},
   "source": [
    "After training the model and saving its weights, we can evaluate it on the test set by loading the best model with the following code snippet."
   ]
  },
  {
   "cell_type": "raw",
   "metadata": {
    "vscode": {
     "languageId": "raw"
    }
   },
   "source": [
    "import glob\n",
    "import os\n",
    "\n",
    "best_model_path = glob.glob(os.path.join(\"models\", \"ZINC-GCN-model*.ckpt\"))\n",
    "best_model_path = sorted(best_model_path, key=os.path.getmtime)[-1]\n",
    "\n",
    "regresor = MolecularRegressor.load_from_checkpoint(\n",
    "    best_model_path,\n",
    "    model=GCN_model,\n",
    "    loss=nn.L1Loss(),\n",
    ")\n",
    "\n",
    "test_results = trainer.test(regresor, test_loader)"
   ]
  },
  {
   "cell_type": "code",
   "execution_count": null,
   "metadata": {},
   "outputs": [],
   "source": [
    "import glob\n",
    "import os\n",
    "\n",
    "best_model_path = glob.glob(os.path.join(\"models\", \"ZINC-GCN-model*.ckpt\"))\n",
    "best_model_path = sorted(best_model_path, key=os.path.getmtime)[-1]\n",
    "regresor = MolecularRegressor.load_from_checkpoint(\n",
    "    best_model_path,\n",
    "    model=GCN_model,\n",
    "    loss=nn.L1Loss(),\n",
    ")\n",
    "\n",
    "test_results = trainer.test(regresor, test_loader)"
   ]
  },
  {
   "cell_type": "markdown",
   "metadata": {},
   "source": [
    "You should expect an MAE of around 0.46, which is in line with results published in the  [literature](https://arxiv.org/pdf/2205.00354v1.pdf) for GCNs on the ZINC dataset."
   ]
  },
  {
   "cell_type": "markdown",
   "metadata": {},
   "source": [
    "#### Visualizing the predictions vs the ground truth"
   ]
  },
  {
   "cell_type": "markdown",
   "metadata": {},
   "source": [
    "To evaluate the model further, let's create a visualization that compares the predicted logP values with the actual ones."
   ]
  },
  {
   "cell_type": "code",
   "execution_count": 16,
   "metadata": {},
   "outputs": [],
   "source": [
    "gts, preds = [], []\n",
    "for batch in test_loader:\n",
    "    y = batch.pop(\"y\")\n",
    "    pred = regresor(batch)  # (2)\n",
    "\n",
    "    gts.append(y) # (3)\n",
    "    preds.append(pred) # (4)\n",
    "\n",
    "preds = torch.cat(preds).detach().cpu().numpy() # (5)\n",
    "gts = torch.cat(gts).cpu().numpy() # (6)"
   ]
  },
  {
   "cell_type": "markdown",
   "metadata": {},
   "source": [
    "In the loop, we iterate over the test set. \n",
    "\n",
    "Each batch is (1) preprocessed and (2) passed through the model to get the predicted logP values. Then, (3-4) the true and predicted logP values are stored in separate lists.\n",
    "\n",
    "After finishing the loop, the lists (5-6) are concatenated into tensors and converted to NumPy arrays. \n",
    "\n",
    "Finally, the predictions are plotted against the ground truth logP values for visualization."
   ]
  },
  {
   "cell_type": "code",
   "execution_count": 17,
   "metadata": {},
   "outputs": [
    {
     "data": {
      "image/png": "[encoded data removed]",
      "text/plain": [
       "<Figure size 432x288 with 1 Axes>"
      ]
     },
     "metadata": {
      "needs_background": "light"
     },
     "output_type": "display_data"
    }
   ],
   "source": [
    "heatmap, xedges, yedges = np.histogram2d(preds, gts, bins=50) # (1)\n",
    "extent = [xedges[0], xedges[-1], yedges[0], yedges[-1]] # (2)\n",
    "\n",
    "plt.clf()\n",
    "plt.plot([min(gts), max(gts)], [min(gts), max(gts)], \"r--\") # (3)\n",
    "plt.imshow(heatmap.T, extent=extent, origin=\"lower\") # (4)\n",
    "plt.xlabel(\"Predicted LogP\")\n",
    "plt.ylabel(\"True LogP\")\n",
    "plt.show()"
   ]
  },
  {
   "cell_type": "markdown",
   "metadata": {},
   "source": [
    "This code snippet generates a heatmap to visualize the correlation between predicted and ground truth logP values. \n",
    "\n",
    "Initially, (1) `np.histogram2d` is used to compute a 2D histogram for the two data sets, dividing them into 50 bins along each dimension to create the heatmap data. \n",
    "\n",
    "(2) The `extent` variable is defined to specify the bounds of the x and y axes based on the edges of the bins, ensuring the heatmap aligns with the actual data range. \n",
    "\n",
    "(3) A dashed red line is plotted to represent the ideal case where predicted values equal the true values, serving as a reference for evaluating the predictions. \n",
    "\n",
    "Last, (4) `plt.imshow` displays the heatmap with the specified extent and origin."
   ]
  },
  {
   "cell_type": "markdown",
   "metadata": {},
   "source": [
    "Note that the predicted logP values are highly correlated with the ground truth values, as indicated by the strong diagonal line in the heatmap. This suggests that the model is effective at predicting the logP values of the molecules in the test set."
   ]
  },
  {
   "cell_type": "markdown",
   "metadata": {},
   "source": [
    "### Message Passing in Graph Neural Networks"
   ]
  },
  {
   "cell_type": "markdown",
   "metadata": {},
   "source": [
    "In the realm of graphs, valuable information is found not only at the node level but also at the edge level. This information, known as edge features, is crucial for capturing relationships between nodes in the graph. For example, in molecular graphs, edge features can represent the type of chemical bond between atoms, essential for understanding the molecule's structure and properties. \n",
    "\n",
    "However, a simple Graph Convolutional Layer (GCL) is insufficient to capture the full complexity of the graph when edge features are present. Instead, a more expressive model that utilizes both node and edge features to learn a richer representation of the graph is needed. [Message Passing Layers (MPLs)](https://arxiv.org/pdf/1704.01212.pdf) serve this purpose.\n",
    "\n",
    "\n",
    "#### The Fingerprint of a MPL\n",
    "\n",
    "Algorithmically, both MPLs and GCLs share a foundational structure, distilled into three pivotal steps: **Transform**, **Propagate**, and **Update**. Indeed, [GCLs can be viewed as a special case of MPLs](https://arxiv.org/pdf/2104.13478.pdf) (although it is not of our concern here). MPLs, however, uniquely tailor these steps to incorporate edge features, thereby equipping the model with the capability to integrate insights from both nodes and edges.\n",
    "\n",
    "**Transform** is the initial step, where node and edge features are merged into a single, unified feature vector called *message*. A message is a representation that encodes information about the interaction between two connected nodes."
   ]
  },
  {
   "cell_type": "code",
   "execution_count": 18,
   "metadata": {},
   "outputs": [],
   "source": [
    "class TransformLayer(nn.Module):\n",
    "    def __init__(self, hidden_features):\n",
    "        super().__init__()\n",
    "\n",
    "        self.hideen_features = hidden_features\n",
    "\n",
    "        self.layer = nn.LazyLinear(hidden_features)\n",
    "        self.activation = nn.ReLU()\n",
    "\n",
    "    def forward(self, G):\n",
    "        G[\"message\"] = torch.cat( # (1)\n",
    "            [\n",
    "                G[\"x\"][G[\"edge_index\"][0]], \n",
    "                G[\"x\"][G[\"edge_index\"][1]],\n",
    "                G[\"edge_attr\"],\n",
    "            ],\n",
    "            dim=-1,\n",
    "        )\n",
    "        G[\"message\"] = self.layer(G[\"message\"]) # (2)\n",
    "        G[\"message\"] = self.activation(G[\"message\"]) # (3)\n",
    "\n",
    "        return G"
   ]
  },
  {
   "cell_type": "markdown",
   "metadata": {},
   "source": [
    "Messages are computed by (1) concatenating the source and target nodes' features with the connecting edge features and passing the result through a learnable function, in this case, (1-2) a linear layer followed by a non-linear activation function.\n",
    "\n",
    "It's important to note that `edge_index` is used instead of `A` to represent graph connectivity. Although both representations are equivalent, `edge_index` is favored in Message Passing Layers (MPLs) because it offers a more intuitive method for accessing graph edges."
   ]
  },
  {
   "cell_type": "markdown",
   "metadata": {},
   "source": [
    "Once the messages are computed, **Propagate** is responsible for sharing the messages across the graph. This is achieved by aggregating the messages from neighboring nodes."
   ]
  },
  {
   "cell_type": "code",
   "execution_count": 19,
   "metadata": {},
   "outputs": [],
   "source": [
    "class PropagateLayer(nn.Module):\n",
    "    def __init__(self, hidden_features):\n",
    "        super().__init__()\n",
    "\n",
    "        self.hidden_features = hidden_features\n",
    "\n",
    "    def forward(self, G):\n",
    "        G[\"aggregate\"] = torch.zeros(G[\"x\"].size(0), self.hidden_features) # (1)\n",
    "        G[\"aggregate\"] = G[\"aggregate\"].type_as(G[\"x\"])\n",
    "        G[\"aggregate\"] = G[\"aggregate\"].to(G[\"x\"].device)\n",
    "\n",
    "        indices = G[\"edge_index\"][1].unsqueeze(1).expand_as(G[\"message\"])  # (2)\n",
    "        G[\"aggregate\"] = G[\"aggregate\"].scatter_add(0, indices, G[\"message\"]) # (3)\n",
    "\n",
    "        return G"
   ]
  },
  {
   "cell_type": "markdown",
   "metadata": {},
   "source": [
    "\n",
    "The aggregation starts by (1) zero-initializing a tensor to store the aggregated messages. This tensor is then adjusted to match the data type and device (e.g., CPU or GPU) of the node features tensor (`G[\"x\"]`), ensuring it is compatible with the computation settings of the input graph data. \n",
    "\n",
    "(2) The next step in the process involves preparing the target node indices for each message. This is done by unsqueezing and expanding the target edge indices (`G[\"edge_index\"][1]`) to match the shape of the messages (`G[\"message\"]`). This alignment ensures that each message is associated with its corresponding target node, thereby facilitating the directed aggregation of messages to their designated receivers in the graph.\n",
    "\n",
    "Finally, (3) the aggregation is performed via a scatter add operation, where the prepared messages are added to the zero-initialized tensor at the positions specified by the expanded indices tensor. This operation sums up all messages directed to each node, effectively updating the aggregate tensor with the aggregated message information from neighboring nodes."
   ]
  },
  {
   "cell_type": "markdown",
   "metadata": {},
   "source": [
    "**Update** is the final step, where the aggregated messages are used to update the node features."
   ]
  },
  {
   "cell_type": "code",
   "execution_count": 20,
   "metadata": {},
   "outputs": [],
   "source": [
    "class UpdateLayer(nn.Module):\n",
    "    def __init__(self, hidden_features):\n",
    "        super().__init__()\n",
    "\n",
    "        self.hidden_features = hidden_features\n",
    "\n",
    "        self.layer = nn.LazyLinear(hidden_features)\n",
    "        self.activation = nn.ReLU()\n",
    "\n",
    "    def forward(self, G):\n",
    "        G[\"x\"] = self.layer( # (1)\n",
    "            torch.cat( # (2)\n",
    "                [\n",
    "                    G[\"x\"],\n",
    "                    G[\"aggregate\"],\n",
    "                ],\n",
    "                dim=-1,\n",
    "            )\n",
    "        )\n",
    "        G[\"x\"] = self.activation(G[\"x\"]) # (3)\n",
    "\n",
    "        G[\"edge_attr\"] = G[\"message\"] # (4)\n",
    "    \n",
    "        return G"
   ]
  },
  {
   "cell_type": "markdown",
   "metadata": {},
   "source": [
    "The node features are updated by (1) applying a linear layer to the (2) concatenated node features and aggregated messages. This operation is followed by (3) a non-linear activation function to produce the final updated node features. \n",
    "\n",
    "Importantly, the messages are used as the updated edge features for the next iteration of message passing. "
   ]
  },
  {
   "cell_type": "markdown",
   "metadata": {},
   "source": [
    "let us define a simple MPL."
   ]
  },
  {
   "cell_type": "raw",
   "metadata": {
    "vscode": {
     "languageId": "raw"
    }
   },
   "source": [
    "from deeplay import Sequential\n",
    "\n",
    "hidden_features = 64\n",
    "\n",
    "MessagePassingLayer = Sequential(\n",
    "    Layer(TransformLayer, hidden_features),\n",
    "    Layer(PropagateLayer, hidden_features),\n",
    "    Layer(UpdateLayer, hidden_features),\n",
    ").create()\n",
    "\n",
    "print(MessagePassingLayer)"
   ]
  },
  {
   "cell_type": "code",
   "execution_count": null,
   "metadata": {},
   "outputs": [],
   "source": [
    "MessagePassingLayer = dl.Sequential(\n",
    "    dl.Layer(TransformLayer, hidden_features=64),\n",
    "    dl.Layer(PropagateLayer, hidden_features=64),\n",
    "    dl.Layer(UpdateLayer, hidden_features=64),\n",
    ").create()\n",
    "\n",
    "print(MessagePassingLayer)"
   ]
  },
  {
   "cell_type": "markdown",
   "metadata": {},
   "source": [
    "The layer is defined as a sequential layer comprising the `Transform`, `Propagate`, and `Update` operations."
   ]
  },
  {
   "cell_type": "markdown",
   "metadata": {},
   "source": [
    "#### Building a Message Passing Neural Network for Molecular Property Prediction\n",
    "\n",
    "Now, we will construct a Message Passing Network (MPN) and train it to predict the logP values of molecules in the ZINC dataset.\n",
    "\n",
    "Our MPN, architecturally, will look similar to the GCN model, with some modifications to incorporate edge features."
   ]
  },
  {
   "cell_type": "raw",
   "metadata": {
    "vscode": {
     "languageId": "raw"
    }
   },
   "source": [
    "class MPN(DeeplayModule):\n",
    "    def __init__(\n",
    "        self,\n",
    "        num_node_embedding,\n",
    "        num_edge_embeddings,\n",
    "        embedding_dim,\n",
    "        hidden_features,\n",
    "        out_features,\n",
    "    ):\n",
    "        super().__init__()\n",
    "\n",
    "        self.num_node_embedding = num_node_embedding\n",
    "        self.num_edge_embeddings = num_edge_embeddings\n",
    "        self.hidden_features = hidden_features\n",
    "        self.out_features = out_features\n",
    "\n",
    "        self.node_embedding = Layer(nn.Embedding, num_node_embedding, embedding_dim)\n",
    "        self.edge_embedding = Layer(nn.Embedding, num_edge_embeddings, embedding_dim)  # (1)\n",
    "\n",
    "        self.blocks = LayerList()\n",
    "        \n",
    "        for f_out in hidden_features:\n",
    "            MessagePassingLayer = Sequential( # (2)\n",
    "                Layer(TransformLayer, f_out),\n",
    "                Layer(PropagateLayer, f_out),\n",
    "                Layer(UpdateLayer, f_out),\n",
    "            )\n",
    "            self.blocks.append(MessagePassingLayer)\n",
    "\n",
    "        self.dense_top = Sequential(\n",
    "            Layer(nn.Linear, hidden_features[-1], hidden_features[-1] // 4),\n",
    "            Layer(nn.ReLU),\n",
    "            Layer(nn.Linear, hidden_features[-1] // 4, out_features),\n",
    "        )\n",
    "\n",
    "    def forward(self, G):\n",
    "        G[\"x\"] = self.node_embedding(G[\"x\"])\n",
    "        G[\"edge_attr\"] = self.edge_embedding(G[\"edge_attr\"])\n",
    "\n",
    "        for block in self.blocks:\n",
    "            G = block(G)\n",
    "\n",
    "        batch_size = torch.max(G[\"batch\"]) + 1\n",
    "        h = torch.zeros(batch_size, G[\"x\"].shape[1], device=G[\"x\"].device)  # (1)\n",
    "        h = h.scatter_add(0, G[\"batch\"][:, None].expand_as(G[\"x\"]), G[\"x\"])  # (2)\n",
    "        h = h / torch.bincount(G[\"batch\"])[:, None]  # (3)\n",
    "\n",
    "        output = self.dense_top(h)\n",
    "        return output.squeeze()"
   ]
  },
  {
   "cell_type": "code",
   "execution_count": null,
   "metadata": {},
   "outputs": [],
   "source": [
    "class MPN(DeeplayModule):\n",
    "    \"\"\"Message passing network.\"\"\"\n",
    "    \n",
    "    def __init__(self, num_node_embedding, num_edge_embeddings, embedding_dim, \n",
    "                 hidden_features, out_features):\n",
    "        \"\"\"Initialize message passing network.\"\"\"\n",
    "        super().__init__()\n",
    "\n",
    "        self.num_node_embedding = num_node_embedding\n",
    "        self.num_edge_embeddings = num_edge_embeddings\n",
    "        self.hidden_features = hidden_features\n",
    "        self.out_features = out_features\n",
    "\n",
    "        self.node_embedding = dl.Layer(nn.Embedding, num_node_embedding, \n",
    "                                       embedding_dim)\n",
    "        self.edge_embedding = dl.Layer(nn.Embedding, num_edge_embeddings, \n",
    "                                       embedding_dim)\n",
    "\n",
    "        self.blocks = dl.LayerList()\n",
    "        for f_out in hidden_features:\n",
    "            mpl = dl.Sequential(\n",
    "                dl.Layer(TransformLayer, f_out),\n",
    "                dl.Layer(PropagateLayer, f_out),\n",
    "                dl.Layer(UpdateLayer, f_out),\n",
    "            )\n",
    "            self.blocks.append(mpl)\n",
    "\n",
    "        self.dense_top = dl.Sequential(\n",
    "            dl.Layer(nn.Linear, hidden_features[-1], hidden_features[-1] // 4),\n",
    "            dl.Layer(nn.ReLU),\n",
    "            dl.Layer(nn.Linear, hidden_features[-1] // 4, out_features),\n",
    "        )\n",
    "\n",
    "    def forward(self, G):\n",
    "        \"\"\"Calculate forward pass.\"\"\"\n",
    "        G[\"x\"] = self.node_embedding(G[\"x\"])\n",
    "        G[\"edge_attr\"] = self.edge_embedding(G[\"edge_attr\"])\n",
    "        for block in self.blocks:\n",
    "            G = block(G)\n",
    "\n",
    "        batch_size = torch.max(G[\"batch\"]) + 1\n",
    "        h = torch.zeros(batch_size, G[\"x\"].shape[1], device=G[\"x\"].device)\n",
    "        h = h.scatter_add(0, G[\"batch\"][:, None].expand_as(G[\"x\"]), G[\"x\"])\n",
    "        h = h / torch.bincount(G[\"batch\"])[:, None]  # (3)\n",
    "\n",
    "        return self.dense_top(h).squeeze()"
   ]
  },
  {
   "cell_type": "markdown",
   "metadata": {},
   "source": [
    "In the ZINC dataset, edge features represent the type of chemical bond between atoms encoded as categorical features. \n",
    "\n",
    "(1) To process these features, `MPN` uses an edge embedding layer that converts each bond type into a continuous vector representation. \n",
    "\n",
    "Furthermore, (2) `MPL`s are used instead of `GCL` instances to enable the model to learn from both node and edge features."
   ]
  },
  {
   "cell_type": "markdown",
   "metadata": {},
   "source": [
    "Let us instantiate the MPN model."
   ]
  },
  {
   "cell_type": "code",
   "execution_count": 23,
   "metadata": {},
   "outputs": [
    {
     "name": "stdout",
     "output_type": "stream",
     "text": [
      "MPN(\n",
      "  (node_embedding): Embedding(28, 64)\n",
      "  (edge_embedding): Embedding(4, 64)\n",
      "  (blocks): LayerList(\n",
      "    (0-3): 4 x Sequential(\n",
      "      (0): TransformLayer(\n",
      "        (layer): LazyLinear(in_features=0, out_features=64, bias=True)\n",
      "        (activation): ReLU()\n",
      "      )\n",
      "      (1): PropagateLayer()\n",
      "      (2): UpdateLayer(\n",
      "        (layer): LazyLinear(in_features=0, out_features=64, bias=True)\n",
      "        (activation): ReLU()\n",
      "      )\n",
      "    )\n",
      "  )\n",
      "  (dense_top): Sequential(\n",
      "    (0): Linear(in_features=64, out_features=16, bias=True)\n",
      "    (1): ReLU()\n",
      "    (2): Linear(in_features=16, out_features=1, bias=True)\n",
      "  )\n",
      ")\n"
     ]
    }
   ],
   "source": [
    "MPN_model = MPN(\n",
    "    num_node_embedding=28,  \n",
    "    num_edge_embeddings=4,  \n",
    "    embedding_dim=64,  \n",
    "    hidden_features=[64, 64, 64, 64],  \n",
    "    out_features=1,  \n",
    ").create()\n",
    "\n",
    "print(MPN_model )"
   ]
  },
  {
   "cell_type": "markdown",
   "metadata": {},
   "source": [
    "We can use the `MolecularRegressor` class to train and evaluate the MPN model."
   ]
  },
  {
   "cell_type": "code",
   "execution_count": null,
   "metadata": {},
   "outputs": [],
   "source": [
    "regresor = MolecularRegressor(\n",
    "    MPN_model, loss=nn.L1Loss(), optimizer=Adam(lr=1e-3)\n",
    ").create()\n",
    "\n",
    "checkpoint_callback = ModelCheckpoint(\n",
    "    monitor=\"val_loss\",\n",
    "    dirpath=\"models\", \n",
    "    filename=\"ZINC-MPN-model{epoch:02d}-val_loss{val_loss:.2f}\",\n",
    "    auto_insert_metric_name=False, \n",
    ")\n",
    "\n",
    "trainer = Trainer(\n",
    "    max_epochs=400, \n",
    "    callbacks=[checkpoint_callback]\n",
    ")\n",
    "trainer.fit(regresor, train_loader, val_loader)  # (4)"
   ]
  },
  {
   "cell_type": "markdown",
   "metadata": {},
   "source": [
    "You should expect an MAE of around 0.22, which is in line with results published in the  [literature](https://arxiv.org/pdf/2004.05718.pdf) for MPNs on the ZINC dataset."
   ]
  },
  {
   "cell_type": "code",
   "execution_count": 25,
   "metadata": {},
   "outputs": [
    {
     "name": "stderr",
     "output_type": "stream",
     "text": [
      "LOCAL_RANK: 0 - CUDA_VISIBLE_DEVICES: [0]\n"
     ]
    },
    {
     "data": {
      "application/vnd.jupyter.widget-view+json": {
       "model_id": "dfa12a9a72554e7db324edfa1dbf3f77",
       "version_major": 2,
       "version_minor": 0
      },
      "text/plain": [
       "Testing: |          | 0/? [00:00<?, ?it/s]"
      ]
     },
     "metadata": {},
     "output_type": "display_data"
    },
    {
     "data": {
      "text/html": [
       "<pre style=\"white-space:pre;overflow-x:auto;line-height:normal;font-family:Menlo,'DejaVu Sans Mono',consolas,'Courier New',monospace\">┏━━━━━━━━━━━━━━━━━━━━━━━━━━━┳━━━━━━━━━━━━━━━━━━━━━━━━━━━┓\n",
       "┃<span style=\"font-weight: bold\">        Test metric        </span>┃<span style=\"font-weight: bold\">       DataLoader 0        </span>┃\n",
       "┡━━━━━━━━━━━━━━━━━━━━━━━━━━━╇━━━━━━━━━━━━━━━━━━━━━━━━━━━┩\n",
       "│<span style=\"color: #008080; text-decoration-color: #008080\">      test_loss_epoch      </span>│<span style=\"color: #800080; text-decoration-color: #800080\">    0.22203123569488525    </span>│\n",
       "└───────────────────────────┴───────────────────────────┘\n",
       "</pre>\n"
      ],
      "text/plain": [
       "┏━━━━━━━━━━━━━━━━━━━━━━━━━━━┳━━━━━━━━━━━━━━━━━━━━━━━━━━━┓\n",
       "┃\u001b[1m \u001b[0m\u001b[1m       Test metric       \u001b[0m\u001b[1m \u001b[0m┃\u001b[1m \u001b[0m\u001b[1m      DataLoader 0       \u001b[0m\u001b[1m \u001b[0m┃\n",
       "┡━━━━━━━━━━━━━━━━━━━━━━━━━━━╇━━━━━━━━━━━━━━━━━━━━━━━━━━━┩\n",
       "│\u001b[36m \u001b[0m\u001b[36m     test_loss_epoch     \u001b[0m\u001b[36m \u001b[0m│\u001b[35m \u001b[0m\u001b[35m   0.22203123569488525   \u001b[0m\u001b[35m \u001b[0m│\n",
       "└───────────────────────────┴───────────────────────────┘\n"
      ]
     },
     "metadata": {},
     "output_type": "display_data"
    }
   ],
   "source": [
    "best_model_path = glob.glob(os.path.join(\"models\", \"ZINC-MPN-model*.ckpt\"))\n",
    "best_model_path = sorted(best_model_path, key=os.path.getmtime)[-1]\n",
    "\n",
    "regresor = MolecularRegressor.load_from_checkpoint(\n",
    "    best_model_path,\n",
    "    model=MPN_model,\n",
    "    loss=nn.L1Loss(),\n",
    ")\n",
    "\n",
    "test_results = trainer.test(regresor, test_loader)"
   ]
  },
  {
   "cell_type": "markdown",
   "metadata": {},
   "source": [
    "This result is a significant improvement over the GCN model, demonstrating the effectiveness of MPNs in capturing the underlying structure of molecular graphs.\n",
    "\n",
    "You can also visualize the predictions vs the ground truth for the MPN model."
   ]
  },
  {
   "cell_type": "code",
   "execution_count": 26,
   "metadata": {},
   "outputs": [],
   "source": [
    "gts, preds = [], []\n",
    "for batch in test_loader:\n",
    "    y = batch.pop(\"y\")\n",
    "    pred = regresor(batch)  # (2)\n",
    "\n",
    "    gts.append(y) # (3)\n",
    "    preds.append(pred.squeeze()) # (4)\n",
    "\n",
    "preds = torch.cat(preds).detach().cpu().numpy() # (5)\n",
    "gts = torch.cat(gts).cpu().numpy() # (6)"
   ]
  },
  {
   "cell_type": "code",
   "execution_count": 27,
   "metadata": {},
   "outputs": [
    {
     "data": {
      "image/png": "[encoded data removed]",
      "text/plain": [
       "<Figure size 432x288 with 1 Axes>"
      ]
     },
     "metadata": {
      "needs_background": "light"
     },
     "output_type": "display_data"
    }
   ],
   "source": [
    "heatmap, xedges, yedges = np.histogram2d(preds, gts, bins=50) # (1)\n",
    "extent = [xedges[0], xedges[-1], yedges[0], yedges[-1]] # (2)\n",
    "\n",
    "plt.clf()\n",
    "plt.plot([min(gts), max(gts)], [min(gts), max(gts)], 'r--') # (3)\n",
    "plt.imshow(heatmap.T, extent=extent, origin='lower') # (4)\n",
    "plt.xlabel('Predicted LogP')\n",
    "plt.ylabel('True LogP')\n",
    "plt.show()"
   ]
  },
  {
   "cell_type": "markdown",
   "metadata": {},
   "source": [
    "Note, there is a significant improvement in the correlation between predicted and ground truth logP values, as indicated by the stronger diagonal line in the heatmap."
   ]
  }
 ],
 "metadata": {
  "kernelspec": {
   "display_name": "Python 3",
   "language": "python",
   "name": "python3"
  },
  "language_info": {
   "codemirror_mode": {
    "name": "ipython",
    "version": 3
   },
   "file_extension": ".py",
   "mimetype": "text/x-python",
   "name": "python",
   "nbconvert_exporter": "python",
   "pygments_lexer": "ipython3",
   "version": "3.10.13"
  }
 },
 "nbformat": 4,
 "nbformat_minor": 2
}
