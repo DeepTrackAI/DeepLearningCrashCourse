{
 "cells": [
  {
   "cell_type": "markdown",
   "metadata": {},
   "source": [
    "# Identifying Trajectories with MAGIK\n",
    "\n",
    "This notebook provides you with a complete code example to track the motion of cells using a simplified version of MAGIK."
   ]
  },
  {
   "cell_type": "markdown",
   "metadata": {},
   "source": []
  }
 ],
 "metadata": {
  "language_info": {
   "name": "python"
  }
 },
 "nbformat": 4,
 "nbformat_minor": 2
}
