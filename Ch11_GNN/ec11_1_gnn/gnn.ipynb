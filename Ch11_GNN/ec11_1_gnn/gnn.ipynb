{
 "cells": [
  {
   "cell_type": "markdown",
   "metadata": {},
   "source": [
    "# Predicting Molecular Properties with Graph Neural Networks\n",
    "\n",
    "This notebook provides you with a complete code example to predict the properties of small molecules using graph convolutional layers with message passing."
   ]
  },
  {
   "cell_type": "markdown",
   "metadata": {},
   "source": [
    "## Understanding Graph Convolutions\n",
    "\n",
    "Calculate the adjacency matrix of a simple cycle graph ..."
   ]
  },
  {
   "cell_type": "code",
   "execution_count": 1,
   "metadata": {},
   "outputs": [],
   "source": [
    "import numpy as np\n",
    "\n",
    "node_num = 5\n",
    "\n",
    "A = np.zeros((node_num, node_num))\n",
    "for i in range(node_num):\n",
    "    for j in range(node_num):\n",
    "        if j % node_num == (i + 1) % node_num:\n",
    "            A[i, j] = 1"
   ]
  },
  {
   "cell_type": "code",
   "execution_count": 2,
   "metadata": {},
   "outputs": [
    {
     "name": "stdout",
     "output_type": "stream",
     "text": [
      "A: [[0. 1. 0. 0. 0.]\n",
      " [0. 0. 1. 0. 0.]\n",
      " [0. 0. 0. 1. 0.]\n",
      " [0. 0. 0. 0. 1.]\n",
      " [1. 0. 0. 0. 0.]]\n"
     ]
    }
   ],
   "source": [
    "print(f\"A: {A}\")"
   ]
  },
  {
   "cell_type": "markdown",
   "metadata": {},
   "source": [
    "... assign node features ..."
   ]
  },
  {
   "cell_type": "code",
   "execution_count": 3,
   "metadata": {},
   "outputs": [],
   "source": [
    "x = np.zeros(node_num)\n",
    "x[0] = 1"
   ]
  },
  {
   "cell_type": "code",
   "execution_count": 4,
   "metadata": {},
   "outputs": [
    {
     "name": "stdout",
     "output_type": "stream",
     "text": [
      "x: [1. 0. 0. 0. 0.]\n"
     ]
    }
   ],
   "source": [
    "print(\"x:\", x)"
   ]
  },
  {
   "cell_type": "markdown",
   "metadata": {},
   "source": [
    "... implement a function to perform a graph convolution ..."
   ]
  },
  {
   "cell_type": "code",
   "execution_count": 5,
   "metadata": {},
   "outputs": [],
   "source": [
    "def graph_convolution(A, x):\n",
    "    \"\"\"Calculate graph convolution.\"\"\"\n",
    "    conv = np.zeros(node_num)\n",
    "    for i in range(node_num):\n",
    "        for j in range(node_num):\n",
    "            conv[j] = conv[j] + A[i, j] * x[i]\n",
    "    return conv"
   ]
  },
  {
   "cell_type": "markdown",
   "metadata": {},
   "source": [
    "... and apply the graph convolution."
   ]
  },
  {
   "cell_type": "code",
   "execution_count": 6,
   "metadata": {},
   "outputs": [
    {
     "name": "stdout",
     "output_type": "stream",
     "text": [
      "Convolution 1:  [0. 1. 0. 0. 0.]\n",
      "Convolution 2:  [0. 0. 1. 0. 0.]\n",
      "Convolution 3:  [0. 0. 0. 1. 0.]\n",
      "Convolution 4:  [0. 0. 0. 0. 1.]\n",
      "Convolution 5:  [1. 0. 0. 0. 0.]\n"
     ]
    }
   ],
   "source": [
    "for c in range(5):\n",
    "    x = graph_convolution(A, x)\n",
    "    print(f\"Convolution {c + 1}: \", x)"
   ]
  },
  {
   "cell_type": "markdown",
   "metadata": {},
   "source": [
    "## Predicting Molecular Properties with Graph Convolutions"
   ]
  },
  {
   "cell_type": "markdown",
   "metadata": {},
   "source": [
    "### Implementing a Graph Convolution Layer\n",
    "\n",
    "Define a class to implement a graph convolution ..."
   ]
  },
  {
   "cell_type": "code",
   "execution_count": 7,
   "metadata": {},
   "outputs": [],
   "source": [
    "import torch\n",
    "import torch.nn as nn\n",
    "\n",
    "class GraphConvolution(nn.Module):\n",
    "    \"\"\"Graph convolution.\"\"\"\n",
    "    \n",
    "    def forward(self, A, node_attr):\n",
    "        \"\"\"Compute the graph convolution.\"\"\"\n",
    "        return torch.matmul(A, node_attr)"
   ]
  },
  {
   "cell_type": "markdown",
   "metadata": {},
   "source": [
    "... and a class to implement the class convolution layer."
   ]
  },
  {
   "cell_type": "code",
   "execution_count": 8,
   "metadata": {},
   "outputs": [],
   "source": [
    "import deeplay as dl\n",
    "\n",
    "class GCL(dl.DeeplayModule):\n",
    "    \"\"\"Graph convolution layer.\"\"\"\n",
    "    \n",
    "    def __init__(self, in_feats, out_feats):\n",
    "        \"\"\"Initialize graph convolution layer.\"\"\"\n",
    "        super().__init__()\n",
    "        self.transform = dl.Layer(nn.Linear, in_feats, out_feats)\n",
    "        self.propagate = dl.Layer(GraphConvolution)\n",
    "        self.update = dl.Layer(nn.ReLU)\n",
    "\n",
    "    def diagonalize(self, A):\n",
    "        \"\"\"Add diagonal to adjacency matrix.\"\"\"\n",
    "        return A + torch.eye(A.size(0)).to(A.device)\n",
    "\n",
    "    def normalize(seft, A):\n",
    "        \"\"\"Normalize ajacency matrix.\"\"\"\n",
    "        node_degrees = torch.sum(A, dim=1)\n",
    "        inv_sqrt_node_degreed = node_degrees.pow(-0.5)\n",
    "        inv_sqrt_node_degreed[inv_sqrt_node_degreed == float(\"inf\")] = 0\n",
    "        degree_matrix = torch.diag(inv_sqrt_node_degreed)\n",
    "        return torch.matmul(torch.matmul(degree_matrix, A), degree_matrix)\n",
    "\n",
    "    def forward(self, A, node_attr):\n",
    "        \"\"\"Transform, propagate and update the node attributes.\"\"\"\n",
    "        A = self.normalize(self.diagonalize(A))\n",
    "        transformed_node_attr = self.transform(node_attr)\n",
    "        propagated_node_attr = self.propagate(A, transformed_node_attr)\n",
    "        updated_node_attr = self.update(propagated_node_attr)\n",
    "        return updated_node_attr"
   ]
  },
  {
   "cell_type": "markdown",
   "metadata": {},
   "source": [
    "### Using the ZINC Dataset\n",
    "\n",
    "Download the ZINC dataset ..."
   ]
  },
  {
   "cell_type": "code",
   "execution_count": 9,
   "metadata": {},
   "outputs": [],
   "source": [
    "from torch_geometric.datasets import ZINC\n",
    "\n",
    "train_set = ZINC(root=\"ZINC_dataset/\", subset=True, split=\"train\")\n",
    "val_set = ZINC(root=\"ZINC_dataset/\", subset=True, split=\"val\")\n",
    "test_set = ZINC(root=\"ZINC_dataset/\", subset=True, split=\"test\")"
   ]
  },
  {
   "cell_type": "markdown",
   "metadata": {},
   "source": [
    "... implement a function to plot the adjacency matrix of a molecule ..."
   ]
  },
  {
   "cell_type": "code",
   "execution_count": 10,
   "metadata": {},
   "outputs": [],
   "source": [
    "import matplotlib.pyplot as plt\n",
    "from matplotlib import colormaps\n",
    "from torch_geometric.utils import to_dense_adj\n",
    "\n",
    "def plot_molecule(molecule):\n",
    "    \"\"\"Plot adjacency matrix of a molecule.\"\"\"\n",
    "    node_attr = molecule[\"x\"].numpy().squeeze()  # Atom type numbers.\n",
    "    A = to_dense_adj(molecule[\"edge_index\"]).numpy().squeeze(0)\n",
    "    logP = molecule[\"y\"].item()\n",
    "    \n",
    "    plt.matshow(A, cmap=colormaps[\"gray\"].reversed())\n",
    "    plt.title(f\"LogP={np.round(logP, 2)}\", fontsize=24)\n",
    "    plt.xlabel(\"Atom type\", fontsize=16); plt.ylabel(\"Atom type\", fontsize=16)\n",
    "    plt.xticks(np.arange(len(node_attr)), node_attr, fontsize=12)\n",
    "    plt.yticks(np.arange(len(node_attr)), node_attr, fontsize=12)\n",
    "    ax = plt.gca(); ax.xaxis.set_ticks_position(\"bottom\")\n",
    "    plt.show()"
   ]
  },
  {
   "cell_type": "markdown",
   "metadata": {},
   "source": [
    "... and use to visualize the structures of some molecules."
   ]
  },
  {
   "cell_type": "code",
   "execution_count": 11,
   "metadata": {},
   "outputs": [
    {
     "data": {
      "image/png": "[encoded data removed]",
      "text/plain": [
       "<Figure size 480x480 with 1 Axes>"
      ]
     },
     "metadata": {},
     "output_type": "display_data"
    },
    {
     "data": {
      "image/png": "[encoded data removed]",
      "text/plain": [
       "<Figure size 480x480 with 1 Axes>"
      ]
     },
     "metadata": {},
     "output_type": "display_data"
    },
    {
     "data": {
      "image/png": "[encoded data removed]",
      "text/plain": [
       "<Figure size 480x480 with 1 Axes>"
      ]
     },
     "metadata": {},
     "output_type": "display_data"
    }
   ],
   "source": [
    "for molecule_index in [2, 1235, 9887]:\n",
    "    plot_molecule(molecule=train_set[molecule_index])"
   ]
  },
  {
   "cell_type": "markdown",
   "metadata": {},
   "source": [
    "### Implementing a Graph Convolutional Network\n",
    "\n",
    "Create a class to implement a graph convolutional network ..."
   ]
  },
  {
   "cell_type": "code",
   "execution_count": 12,
   "metadata": {},
   "outputs": [],
   "source": [
    "class GCN(dl.DeeplayModule):\n",
    "    \"\"\"Graph convolutional network.\"\"\"\n",
    "    \n",
    "    def __init__(self, num_atoms, embed_dim, hidden_feats, out_feats):\n",
    "        \"\"\"Initialize graph convolutional network.\"\"\"\n",
    "        super().__init__()\n",
    "        self.node_embedding = dl.Layer(nn.Embedding, num_atoms, embed_dim)\n",
    "        self.blocks = dl.LayerList()\n",
    "        for f_in, f_out in zip([embed_dim, *hidden_feats[:-1]], \n",
    "                               hidden_feats):\n",
    "            self.blocks.append(GCL(in_feats=f_in, out_feats=f_out))\n",
    "        self.dense_top = dl.Sequential(\n",
    "            dl.Layer(nn.Linear, hidden_feats[-1], hidden_feats[-1] // 4),\n",
    "            dl.Layer(nn.ReLU),\n",
    "            dl.Layer(nn.Linear, hidden_feats[-1] // 4, out_feats),\n",
    "        )\n",
    "\n",
    "    def forward(self, G):\n",
    "        \"\"\"***Predict graph properties***.\"\"\"\n",
    "        G[\"node_attr\"] = self.node_embedding(G[\"node_attr\"])\n",
    "        for block in self.blocks:\n",
    "            G[\"node_attr\"] = block(G[\"A\"], G[\"node_attr\"])\n",
    "        \n",
    "        num_graphs = torch.max(G[\"graph_ids\"]) + 1\n",
    "        pooled_graph_attr = torch.zeros(\n",
    "            num_graphs, G[\"node_attr\"].shape[1], device=G[\"node_attr\"].device,\n",
    "        )\n",
    "        pooled_graph_attr = pooled_graph_attr.scatter_add(\n",
    "            0, G[\"graph_ids\"][:, None].expand_as(G[\"node_attr\"]), \n",
    "            G[\"node_attr\"], \n",
    "        )\n",
    "        node_counts = torch.bincount(G[\"graph_ids\"])\n",
    "        pooled_graph_attr = pooled_graph_attr / node_counts[:, None]\n",
    "        \n",
    "        return self.dense_top(pooled_graph_attr).squeeze()  # LogP."
   ]
  },
  {
   "cell_type": "markdown",
   "metadata": {},
   "source": [
    "... instantiate it ..."
   ]
  },
  {
   "cell_type": "code",
   "execution_count": 13,
   "metadata": {},
   "outputs": [
    {
     "name": "stdout",
     "output_type": "stream",
     "text": [
      "GCN(\n",
      "  (node_embedding): Embedding(28, 64)\n",
      "  (blocks): LayerList(\n",
      "    (0-3): 4 x GCL(\n",
      "      (transform): Linear(in_features=64, out_features=64, bias=True)\n",
      "      (propagate): GraphConvolution()\n",
      "      (update): ReLU()\n",
      "    )\n",
      "  )\n",
      "  (dense_top): Sequential(\n",
      "    (0): Linear(in_features=64, out_features=16, bias=True)\n",
      "    (1): ReLU()\n",
      "    (2): Linear(in_features=16, out_features=1, bias=True)\n",
      "  )\n",
      ")\n"
     ]
    }
   ],
   "source": [
    "gcn_model = GCN(num_atoms=28, embed_dim=64, hidden_feats=[64,] * 4, \n",
    "                out_feats=1).create()\n",
    "\n",
    "print(gcn_model)"
   ]
  },
  {
   "cell_type": "markdown",
   "metadata": {},
   "source": [
    "... define the data loaders ..."
   ]
  },
  {
   "cell_type": "code",
   "execution_count": 14,
   "metadata": {},
   "outputs": [],
   "source": [
    "from torch_geometric.loader import DataLoader\n",
    "\n",
    "train_loader = DataLoader(dataset=train_set, batch_size=32, shuffle=True)\n",
    "val_loader = DataLoader(dataset=val_set, batch_size=32, shuffle=False)\n",
    "test_loader = DataLoader(dataset=test_set, batch_size=32, shuffle=False)"
   ]
  },
  {
   "cell_type": "markdown",
   "metadata": {},
   "source": [
    "... implement a class to compile, train, and evaluate the graph convolutional network ..."
   ]
  },
  {
   "cell_type": "code",
   "execution_count": 15,
   "metadata": {},
   "outputs": [],
   "source": [
    "class MolecularRegressor(dl.Regressor):\n",
    "    \"\"\"Regressor model for molecular property prediction.\"\"\"\n",
    "\n",
    "    def __init__(self, model, **kwargs):\n",
    "        \"\"\"Initialize molecular regressor.\"\"\"\n",
    "        super().__init__(model, **kwargs)\n",
    "    \n",
    "    def batch_preprocess(self, G):\n",
    "        \"\"\"Preprocess the graph batch for model input.\"\"\"\n",
    "        G[\"node_attr\"] = G[\"x\"].squeeze()\n",
    "        G[\"A\"] = to_dense_adj(G[\"edge_index\"]).squeeze(0)\n",
    "        G[\"graph_ids\"] = G[\"batch\"]\n",
    "        return G.to(self.device)\n",
    "    \n",
    "    def forward(self, G):\n",
    "        \"\"\"Calculate model output for input graph batch.\"\"\"\n",
    "        return self.model(self.batch_preprocess(G))"
   ]
  },
  {
   "cell_type": "markdown",
   "metadata": {},
   "source": [
    "... and train the graph convolutional network."
   ]
  },
  {
   "cell_type": "code",
   "execution_count": 16,
   "metadata": {},
   "outputs": [
    {
     "name": "stderr",
     "output_type": "stream",
     "text": [
      "/Users/giovannivolpe/Documents/GitHub/DeepLearningCrashCourse/py_env_book/lib/python3.10/site-packages/lightning/pytorch/trainer/connectors/logger_connector/logger_connector.py:75: Starting from v1.9.0, `tensorboardX` has been removed as a dependency of the `lightning.pytorch` package, due to potential conflicts with other packages in the ML ecosystem. For this reason, `logger=True` will use `CSVLogger` as the default logger, unless the `tensorboard` or `tensorboardX` packages are found. Please `pip install lightning[extra]` or one of them to enable TensorBoard support by default\n",
      "/Users/giovannivolpe/Documents/GitHub/DeepLearningCrashCourse/py_env_book/lib/python3.10/site-packages/lightning/pytorch/callbacks/model_checkpoint.py:654: Checkpoint directory /Users/giovannivolpe/Documents/GitHub/DeepLearningCrashCourse/Ch11_GNN/ec11_1_gnn/models/gcn exists and is not empty.\n"
     ]
    },
    {
     "data": {
      "text/html": [
       "<pre style=\"white-space:pre;overflow-x:auto;line-height:normal;font-family:Menlo,'DejaVu Sans Mono',consolas,'Courier New',monospace\">┏━━━┳━━━━━━━━━━━━━━━┳━━━━━━━━━━━━━━━━━━┳━━━━━━━━┳━━━━━━━┓\n",
       "┃<span style=\"color: #800080; text-decoration-color: #800080; font-weight: bold\">   </span>┃<span style=\"color: #800080; text-decoration-color: #800080; font-weight: bold\"> Name          </span>┃<span style=\"color: #800080; text-decoration-color: #800080; font-weight: bold\"> Type             </span>┃<span style=\"color: #800080; text-decoration-color: #800080; font-weight: bold\"> Params </span>┃<span style=\"color: #800080; text-decoration-color: #800080; font-weight: bold\"> Mode  </span>┃\n",
       "┡━━━╇━━━━━━━━━━━━━━━╇━━━━━━━━━━━━━━━━━━╇━━━━━━━━╇━━━━━━━┩\n",
       "│<span style=\"color: #7f7f7f; text-decoration-color: #7f7f7f\"> 0 </span>│ loss          │ L1Loss           │      0 │ train │\n",
       "│<span style=\"color: #7f7f7f; text-decoration-color: #7f7f7f\"> 1 </span>│ train_metrics │ MetricCollection │      0 │ train │\n",
       "│<span style=\"color: #7f7f7f; text-decoration-color: #7f7f7f\"> 2 </span>│ val_metrics   │ MetricCollection │      0 │ train │\n",
       "│<span style=\"color: #7f7f7f; text-decoration-color: #7f7f7f\"> 3 </span>│ test_metrics  │ MetricCollection │      0 │ train │\n",
       "│<span style=\"color: #7f7f7f; text-decoration-color: #7f7f7f\"> 4 </span>│ model         │ GCN              │ 19.5 K │ train │\n",
       "│<span style=\"color: #7f7f7f; text-decoration-color: #7f7f7f\"> 5 </span>│ optimizer     │ Adam             │      0 │ train │\n",
       "└───┴───────────────┴──────────────────┴────────┴───────┘\n",
       "</pre>\n"
      ],
      "text/plain": [
       "┏━━━┳━━━━━━━━━━━━━━━┳━━━━━━━━━━━━━━━━━━┳━━━━━━━━┳━━━━━━━┓\n",
       "┃\u001b[1;35m \u001b[0m\u001b[1;35m \u001b[0m\u001b[1;35m \u001b[0m┃\u001b[1;35m \u001b[0m\u001b[1;35mName         \u001b[0m\u001b[1;35m \u001b[0m┃\u001b[1;35m \u001b[0m\u001b[1;35mType            \u001b[0m\u001b[1;35m \u001b[0m┃\u001b[1;35m \u001b[0m\u001b[1;35mParams\u001b[0m\u001b[1;35m \u001b[0m┃\u001b[1;35m \u001b[0m\u001b[1;35mMode \u001b[0m\u001b[1;35m \u001b[0m┃\n",
       "┡━━━╇━━━━━━━━━━━━━━━╇━━━━━━━━━━━━━━━━━━╇━━━━━━━━╇━━━━━━━┩\n",
       "│\u001b[2m \u001b[0m\u001b[2m0\u001b[0m\u001b[2m \u001b[0m│ loss          │ L1Loss           │      0 │ train │\n",
       "│\u001b[2m \u001b[0m\u001b[2m1\u001b[0m\u001b[2m \u001b[0m│ train_metrics │ MetricCollection │      0 │ train │\n",
       "│\u001b[2m \u001b[0m\u001b[2m2\u001b[0m\u001b[2m \u001b[0m│ val_metrics   │ MetricCollection │      0 │ train │\n",
       "│\u001b[2m \u001b[0m\u001b[2m3\u001b[0m\u001b[2m \u001b[0m│ test_metrics  │ MetricCollection │      0 │ train │\n",
       "│\u001b[2m \u001b[0m\u001b[2m4\u001b[0m\u001b[2m \u001b[0m│ model         │ GCN              │ 19.5 K │ train │\n",
       "│\u001b[2m \u001b[0m\u001b[2m5\u001b[0m\u001b[2m \u001b[0m│ optimizer     │ Adam             │      0 │ train │\n",
       "└───┴───────────────┴──────────────────┴────────┴───────┘\n"
      ]
     },
     "metadata": {},
     "output_type": "display_data"
    },
    {
     "data": {
      "text/html": [
       "<pre style=\"white-space:pre;overflow-x:auto;line-height:normal;font-family:Menlo,'DejaVu Sans Mono',consolas,'Courier New',monospace\"><span style=\"font-weight: bold\">Trainable params</span>: 19.5 K                                                                                           \n",
       "<span style=\"font-weight: bold\">Non-trainable params</span>: 0                                                                                            \n",
       "<span style=\"font-weight: bold\">Total params</span>: 19.5 K                                                                                               \n",
       "<span style=\"font-weight: bold\">Total estimated model params size (MB)</span>: 0                                                                          \n",
       "<span style=\"font-weight: bold\">Modules in train mode</span>: 28                                                                                          \n",
       "<span style=\"font-weight: bold\">Modules in eval mode</span>: 0                                                                                            \n",
       "</pre>\n"
      ],
      "text/plain": [
       "\u001b[1mTrainable params\u001b[0m: 19.5 K                                                                                           \n",
       "\u001b[1mNon-trainable params\u001b[0m: 0                                                                                            \n",
       "\u001b[1mTotal params\u001b[0m: 19.5 K                                                                                               \n",
       "\u001b[1mTotal estimated model params size (MB)\u001b[0m: 0                                                                          \n",
       "\u001b[1mModules in train mode\u001b[0m: 28                                                                                          \n",
       "\u001b[1mModules in eval mode\u001b[0m: 0                                                                                            \n"
      ]
     },
     "metadata": {},
     "output_type": "display_data"
    },
    {
     "data": {
      "application/vnd.jupyter.widget-view+json": {
       "model_id": "b938960e3c674772aa770693dc5266e4",
       "version_major": 2,
       "version_minor": 0
      },
      "text/plain": [
       "Output()"
      ]
     },
     "metadata": {},
     "output_type": "display_data"
    },
    {
     "data": {
      "text/html": [
       "<pre style=\"white-space:pre;overflow-x:auto;line-height:normal;font-family:Menlo,'DejaVu Sans Mono',consolas,'Courier New',monospace\">/Users/giovannivolpe/Documents/GitHub/DeepLearningCrashCourse/py_env_book/lib/python3.10/site-packages/lightning/py\n",
       "torch/trainer/connectors/data_connector.py:424: The 'val_dataloader' does not have many workers which may be a \n",
       "bottleneck. Consider increasing the value of the `num_workers` argument` to `num_workers=10` in the `DataLoader` to\n",
       "improve performance.\n",
       "</pre>\n"
      ],
      "text/plain": [
       "/Users/giovannivolpe/Documents/GitHub/DeepLearningCrashCourse/py_env_book/lib/python3.10/site-packages/lightning/py\n",
       "torch/trainer/connectors/data_connector.py:424: The 'val_dataloader' does not have many workers which may be a \n",
       "bottleneck. Consider increasing the value of the `num_workers` argument` to `num_workers=10` in the `DataLoader` to\n",
       "improve performance.\n"
      ]
     },
     "metadata": {},
     "output_type": "display_data"
    },
    {
     "data": {
      "text/html": [
       "<pre style=\"white-space:pre;overflow-x:auto;line-height:normal;font-family:Menlo,'DejaVu Sans Mono',consolas,'Courier New',monospace\">/Users/giovannivolpe/Documents/GitHub/DeepLearningCrashCourse/py_env_book/lib/python3.10/site-packages/lightning/py\n",
       "torch/trainer/connectors/data_connector.py:424: The 'train_dataloader' does not have many workers which may be a \n",
       "bottleneck. Consider increasing the value of the `num_workers` argument` to `num_workers=10` in the `DataLoader` to\n",
       "improve performance.\n",
       "</pre>\n"
      ],
      "text/plain": [
       "/Users/giovannivolpe/Documents/GitHub/DeepLearningCrashCourse/py_env_book/lib/python3.10/site-packages/lightning/py\n",
       "torch/trainer/connectors/data_connector.py:424: The 'train_dataloader' does not have many workers which may be a \n",
       "bottleneck. Consider increasing the value of the `num_workers` argument` to `num_workers=10` in the `DataLoader` to\n",
       "improve performance.\n"
      ]
     },
     "metadata": {},
     "output_type": "display_data"
    },
    {
     "data": {
      "text/html": [
       "<pre style=\"white-space:pre;overflow-x:auto;line-height:normal;font-family:Menlo,'DejaVu Sans Mono',consolas,'Courier New',monospace\"></pre>\n"
      ],
      "text/plain": []
     },
     "metadata": {},
     "output_type": "display_data"
    }
   ],
   "source": [
    "from lightning.pytorch.callbacks import ModelCheckpoint\n",
    "import os\n",
    "\n",
    "gcn = MolecularRegressor(gcn_model, loss=nn.L1Loss(), \n",
    "                         optimizer=dl.Adam(lr=1e-3)).create()\n",
    "checkpoint_callback = ModelCheckpoint(\n",
    "    monitor=\"val_loss\", dirpath=os.path.join(\"models\", \"gcn\"), \n",
    "    filename=\"ZINC-{epoch:02d}-{val_loss:.2f}\", auto_insert_metric_name=False,\n",
    ")\n",
    "trainer = dl.Trainer(max_epochs=400, callbacks=[checkpoint_callback])\n",
    "trainer.fit(gcn, train_loader, val_loader)"
   ]
  },
  {
   "cell_type": "markdown",
   "metadata": {},
   "source": [
    "### Evaluating the Trained Graph Convolutional Network\n",
    "\n",
    "Evaluate the performance of the trained graph convolutional network ..."
   ]
  },
  {
   "cell_type": "code",
   "execution_count": 17,
   "metadata": {},
   "outputs": [
    {
     "data": {
      "application/vnd.jupyter.widget-view+json": {
       "model_id": "78a5ca0e632a400bbfaa18cfceb431f7",
       "version_major": 2,
       "version_minor": 0
      },
      "text/plain": [
       "Output()"
      ]
     },
     "metadata": {},
     "output_type": "display_data"
    },
    {
     "name": "stderr",
     "output_type": "stream",
     "text": [
      "/Users/giovannivolpe/Documents/GitHub/DeepLearningCrashCourse/py_env_book/lib/python3.10/site-packages/lightning/pytorch/trainer/connectors/data_connector.py:424: The 'test_dataloader' does not have many workers which may be a bottleneck. Consider increasing the value of the `num_workers` argument` to `num_workers=10` in the `DataLoader` to improve performance.\n"
     ]
    },
    {
     "data": {
      "text/html": [
       "<pre style=\"white-space:pre;overflow-x:auto;line-height:normal;font-family:Menlo,'DejaVu Sans Mono',consolas,'Courier New',monospace\">┏━━━━━━━━━━━━━━━━━━━━━━━━━━━┳━━━━━━━━━━━━━━━━━━━━━━━━━━━┓\n",
       "┃<span style=\"font-weight: bold\">        Test metric        </span>┃<span style=\"font-weight: bold\">       DataLoader 0        </span>┃\n",
       "┡━━━━━━━━━━━━━━━━━━━━━━━━━━━╇━━━━━━━━━━━━━━━━━━━━━━━━━━━┩\n",
       "│<span style=\"color: #008080; text-decoration-color: #008080\">      test_loss_epoch      </span>│<span style=\"color: #800080; text-decoration-color: #800080\">     0.486503928899765     </span>│\n",
       "└───────────────────────────┴───────────────────────────┘\n",
       "</pre>\n"
      ],
      "text/plain": [
       "┏━━━━━━━━━━━━━━━━━━━━━━━━━━━┳━━━━━━━━━━━━━━━━━━━━━━━━━━━┓\n",
       "┃\u001b[1m \u001b[0m\u001b[1m       Test metric       \u001b[0m\u001b[1m \u001b[0m┃\u001b[1m \u001b[0m\u001b[1m      DataLoader 0       \u001b[0m\u001b[1m \u001b[0m┃\n",
       "┡━━━━━━━━━━━━━━━━━━━━━━━━━━━╇━━━━━━━━━━━━━━━━━━━━━━━━━━━┩\n",
       "│\u001b[36m \u001b[0m\u001b[36m     test_loss_epoch     \u001b[0m\u001b[36m \u001b[0m│\u001b[35m \u001b[0m\u001b[35m    0.486503928899765    \u001b[0m\u001b[35m \u001b[0m│\n",
       "└───────────────────────────┴───────────────────────────┘\n"
      ]
     },
     "metadata": {},
     "output_type": "display_data"
    },
    {
     "data": {
      "text/html": [
       "<pre style=\"white-space:pre;overflow-x:auto;line-height:normal;font-family:Menlo,'DejaVu Sans Mono',consolas,'Courier New',monospace\"></pre>\n"
      ],
      "text/plain": []
     },
     "metadata": {},
     "output_type": "display_data"
    }
   ],
   "source": [
    "import glob\n",
    "\n",
    "model_paths = glob.glob(os.path.join(\"models\", \"gcn\", \"ZINC-*.ckpt\"))\n",
    "best_model_path = sorted(model_paths, key=os.path.getmtime)[-1]\n",
    "gcn_best = MolecularRegressor.load_from_checkpoint(best_model_path, \n",
    "                                                   model=gcn_model)\n",
    "test_results = trainer.test(gcn_best, test_loader)"
   ]
  },
  {
   "cell_type": "markdown",
   "metadata": {},
   "source": [
    "... obtain the predicted and actual logP ..."
   ]
  },
  {
   "cell_type": "code",
   "execution_count": 18,
   "metadata": {},
   "outputs": [],
   "source": [
    "logP_gts, logP_preds = [], []\n",
    "for G in test_loader:\n",
    "    logP_gts.append(G.pop(\"y\"))\n",
    "    logP_preds.append(gcn_best(G))\n",
    "logP_gts = torch.cat(logP_gts).cpu().numpy()\n",
    "logP_preds = torch.cat(logP_preds).detach().cpu().numpy()"
   ]
  },
  {
   "cell_type": "markdown",
   "metadata": {},
   "source": [
    "... and plot the predicted logP versus their ground truth values."
   ]
  },
  {
   "cell_type": "code",
   "execution_count": 19,
   "metadata": {},
   "outputs": [
    {
     "data": {
      "image/png": "[encoded data removed]",
      "text/plain": [
       "<Figure size 640x480 with 1 Axes>"
      ]
     },
     "metadata": {},
     "output_type": "display_data"
    }
   ],
   "source": [
    "heatmap, xedges, yedges = np.histogram2d(logP_preds, logP_gts, bins=50)\n",
    "extent = [xedges[0], xedges[-1], yedges[0], yedges[-1]]\n",
    "\n",
    "plt.plot([min(logP_gts), max(logP_gts)], [min(logP_gts), max(logP_gts)], \"r--\")\n",
    "plt.imshow(heatmap.T, extent=extent, origin=\"lower\")\n",
    "plt.xlabel(\"Predicted LogP\"); plt.ylabel(\"True LogP\")\n",
    "plt.show()"
   ]
  },
  {
   "cell_type": "markdown",
   "metadata": {},
   "source": [
    "## Predicting Molecular Properties with Message Passing"
   ]
  },
  {
   "cell_type": "markdown",
   "metadata": {},
   "source": [
    "### Implementing a Message Passing Layer\n",
    "\n",
    "Implement a class to implement a layer to perform the transform step ..."
   ]
  },
  {
   "cell_type": "code",
   "execution_count": 20,
   "metadata": {},
   "outputs": [],
   "source": [
    "class TransformLayer(nn.Module):\n",
    "    \"\"\"Transform layer.\"\"\"\n",
    "    \n",
    "    def __init__(self, hidden_feats):\n",
    "        \"\"\"Initialize the transform layer.\"\"\"\n",
    "        super().__init__()\n",
    "        self.linear = nn.LazyLinear(hidden_feats)\n",
    "        self.activation = nn.ReLU()\n",
    "\n",
    "    def forward(self, G):\n",
    "        \"\"\"Compute messages by transforming node and edge features.\"\"\"\n",
    "        src_node_attr = G[\"node_attr\"][G[\"edge_index\"][0]]\n",
    "        tgt_node_attr = G[\"node_attr\"][G[\"edge_index\"][1]]\n",
    "        edge_attr = G[\"edge_attr\"]\n",
    "\n",
    "        msg = torch.cat([src_node_attr, tgt_node_attr, edge_attr], dim=-1)\n",
    "        G[\"msg\"] = self.activation(self.linear(msg))\n",
    "        return G"
   ]
  },
  {
   "cell_type": "markdown",
   "metadata": {},
   "source": [
    "... a class to implement a layer to perform the propagate step ..."
   ]
  },
  {
   "cell_type": "code",
   "execution_count": 21,
   "metadata": {},
   "outputs": [],
   "source": [
    "class PropagateLayer(nn.Module):\n",
    "    \"\"\"Propagate layer.\"\"\"\n",
    "\n",
    "    def __init__(self, hidden_feats):\n",
    "        \"\"\"Initialize propagate layer.\"\"\"\n",
    "        super().__init__()\n",
    "        self.hidden_feats = hidden_feats\n",
    "\n",
    "    def forward(self, G):\n",
    "        \"\"\"Aggregate messages from neighboring nodes.\"\"\"\n",
    "        num_nodes = G[\"node_attr\"].size(0)\n",
    "        aggregated_msg = torch.zeros(num_nodes, self.hidden_feats, \n",
    "                                     dtype=G[\"node_attr\"].dtype,\n",
    "                                     device=G[\"node_attr\"].device)\n",
    "        tgt_node_idxs = (G[\"edge_index\"][1].unsqueeze(1).expand_as(G[\"msg\"]))\n",
    "        aggregated_msg = aggregated_msg.scatter_add(0, tgt_node_idxs, G[\"msg\"])\n",
    "        G[\"aggregated_msg\"] = aggregated_msg\n",
    "        return G"
   ]
  },
  {
   "cell_type": "markdown",
   "metadata": {},
   "source": [
    "... a class to implement a layer to perform the update step ..."
   ]
  },
  {
   "cell_type": "code",
   "execution_count": 22,
   "metadata": {},
   "outputs": [],
   "source": [
    "class UpdateLayer(nn.Module):\n",
    "    \"\"\"Update layer.\"\"\"\n",
    "\n",
    "    def __init__(self, hidden_feats):\n",
    "        \"\"\"Initialize update layer.\"\"\"\n",
    "        super().__init__()\n",
    "        self.linear = nn.LazyLinear(hidden_feats)\n",
    "        self.activation = nn.ReLU()\n",
    "\n",
    "    def forward(self, G):\n",
    "        \"\"\"Update node attributes combining them with aggregated messages.\"\"\"\n",
    "        attr = torch.cat([G[\"node_attr\"], G[\"aggregated_msg\"]], dim=-1)\n",
    "        G[\"node_attr\"] = self.activation(self.linear(attr))\n",
    "        G[\"edge_attr\"] = G[\"msg\"]\n",
    "        return G"
   ]
  },
  {
   "cell_type": "markdown",
   "metadata": {},
   "source": [
    "... and use them to define a message passing layer."
   ]
  },
  {
   "cell_type": "code",
   "execution_count": 23,
   "metadata": {},
   "outputs": [
    {
     "name": "stdout",
     "output_type": "stream",
     "text": [
      "Sequential(\n",
      "  (0): TransformLayer(\n",
      "    (linear): LazyLinear(in_features=0, out_features=64, bias=True)\n",
      "    (activation): ReLU()\n",
      "  )\n",
      "  (1): PropagateLayer()\n",
      "  (2): UpdateLayer(\n",
      "    (linear): LazyLinear(in_features=0, out_features=64, bias=True)\n",
      "    (activation): ReLU()\n",
      "  )\n",
      ")\n"
     ]
    }
   ],
   "source": [
    "mpl = dl.Sequential(\n",
    "    dl.Layer(TransformLayer, hidden_feats=64),\n",
    "    dl.Layer(PropagateLayer, hidden_feats=64),\n",
    "    dl.Layer(UpdateLayer, hidden_feats=64),\n",
    ").create()\n",
    "\n",
    "print(mpl)"
   ]
  },
  {
   "cell_type": "markdown",
   "metadata": {},
   "source": [
    "### Implementing a Message Passing Network\n",
    "\n",
    "Create a class to implement a message passing network ..."
   ]
  },
  {
   "cell_type": "code",
   "execution_count": 24,
   "metadata": {},
   "outputs": [],
   "source": [
    "class MPN(dl.DeeplayModule):\n",
    "    \"\"\"Message passing network.\"\"\"\n",
    "    \n",
    "    def __init__(self, num_atoms, num_edge_embed, embed_dim, hidden_feats, \n",
    "                 out_feats):\n",
    "        \"\"\"Initialize message passing network.\"\"\"\n",
    "        super().__init__()\n",
    "        self.node_embedding = dl.Layer(nn.Embedding, num_atoms, embed_dim)\n",
    "        self.edge_embedding = dl.Layer(nn.Embedding, num_edge_embed, embed_dim)\n",
    "        self.blocks = dl.LayerList()\n",
    "        for f_out in hidden_feats:\n",
    "            mpl = dl.Sequential(\n",
    "                dl.Layer(TransformLayer, f_out),\n",
    "                dl.Layer(PropagateLayer, f_out),\n",
    "                dl.Layer(UpdateLayer, f_out),\n",
    "            )\n",
    "            self.blocks.append(mpl)\n",
    "        self.dense_top = dl.Sequential(\n",
    "            dl.Layer(nn.Linear, hidden_feats[-1], hidden_feats[-1] // 4),\n",
    "            dl.Layer(nn.ReLU),\n",
    "            dl.Layer(nn.Linear, hidden_feats[-1] // 4, out_feats),\n",
    "        )\n",
    "\n",
    "    def forward(self, G):\n",
    "        \"\"\"Predict graph properties.\"\"\"\n",
    "        G[\"node_attr\"] = self.node_embedding(G[\"node_attr\"])\n",
    "        G[\"edge_attr\"] = self.edge_embedding(G[\"edge_attr\"])\n",
    "        for block in self.blocks:\n",
    "            G = block(G)\n",
    "        \n",
    "        num_graphs = torch.max(G[\"graph_ids\"]) + 1\n",
    "        pooled_graph_attr = torch.zeros(\n",
    "            num_graphs, G[\"node_attr\"].shape[1], device=G[\"node_attr\"].device,\n",
    "        )\n",
    "        pooled_graph_attr = pooled_graph_attr.scatter_add(\n",
    "            0, G[\"graph_ids\"][:, None].expand_as(G[\"node_attr\"]), \n",
    "            G[\"node_attr\"],\n",
    "        )\n",
    "        node_counts = torch.bincount(G[\"graph_ids\"])\n",
    "        pooled_graph_attr = pooled_graph_attr / node_counts[:, None]\n",
    "        \n",
    "        return self.dense_top(pooled_graph_attr).squeeze()  # LogP."
   ]
  },
  {
   "cell_type": "markdown",
   "metadata": {},
   "source": [
    "... instantiate the message passing network ..."
   ]
  },
  {
   "cell_type": "code",
   "execution_count": 25,
   "metadata": {},
   "outputs": [
    {
     "name": "stdout",
     "output_type": "stream",
     "text": [
      "MPN(\n",
      "  (node_embedding): Embedding(28, 64)\n",
      "  (edge_embedding): Embedding(4, 64)\n",
      "  (blocks): LayerList(\n",
      "    (0-3): 4 x Sequential(\n",
      "      (0): TransformLayer(\n",
      "        (linear): LazyLinear(in_features=0, out_features=64, bias=True)\n",
      "        (activation): ReLU()\n",
      "      )\n",
      "      (1): PropagateLayer()\n",
      "      (2): UpdateLayer(\n",
      "        (linear): LazyLinear(in_features=0, out_features=64, bias=True)\n",
      "        (activation): ReLU()\n",
      "      )\n",
      "    )\n",
      "  )\n",
      "  (dense_top): Sequential(\n",
      "    (0): Linear(in_features=64, out_features=16, bias=True)\n",
      "    (1): ReLU()\n",
      "    (2): Linear(in_features=16, out_features=1, bias=True)\n",
      "  )\n",
      ")\n"
     ]
    }
   ],
   "source": [
    "mpn_model = MPN(num_atoms=28, num_edge_embed=4, embed_dim=64, \n",
    "                hidden_feats=[64,] * 4, out_feats=1).create()\n",
    "\n",
    "print(mpn_model)"
   ]
  },
  {
   "cell_type": "markdown",
   "metadata": {},
   "source": [
    "... train the message passing network ..."
   ]
  },
  {
   "cell_type": "code",
   "execution_count": 26,
   "metadata": {},
   "outputs": [
    {
     "name": "stderr",
     "output_type": "stream",
     "text": [
      "/Users/giovannivolpe/Documents/GitHub/DeepLearningCrashCourse/py_env_book/lib/python3.10/site-packages/lightning/pytorch/callbacks/model_checkpoint.py:654: Checkpoint directory /Users/giovannivolpe/Documents/GitHub/DeepLearningCrashCourse/Ch11_GNN/ec11_1_gnn/models/mpn exists and is not empty.\n",
      "/Users/giovannivolpe/Documents/GitHub/DeepLearningCrashCourse/py_env_book/lib/python3.10/site-packages/lightning/pytorch/utilities/model_summary/model_summary.py:477: The total number of parameters detected may be inaccurate because the model contains an instance of `UninitializedParameter`. To get an accurate number, set `self.example_input_array` in your LightningModule.\n"
     ]
    },
    {
     "data": {
      "text/html": [
       "<pre style=\"white-space:pre;overflow-x:auto;line-height:normal;font-family:Menlo,'DejaVu Sans Mono',consolas,'Courier New',monospace\">┏━━━┳━━━━━━━━━━━━━━━┳━━━━━━━━━━━━━━━━━━┳━━━━━━━━┳━━━━━━━┓\n",
       "┃<span style=\"color: #800080; text-decoration-color: #800080; font-weight: bold\">   </span>┃<span style=\"color: #800080; text-decoration-color: #800080; font-weight: bold\"> Name          </span>┃<span style=\"color: #800080; text-decoration-color: #800080; font-weight: bold\"> Type             </span>┃<span style=\"color: #800080; text-decoration-color: #800080; font-weight: bold\"> Params </span>┃<span style=\"color: #800080; text-decoration-color: #800080; font-weight: bold\"> Mode  </span>┃\n",
       "┡━━━╇━━━━━━━━━━━━━━━╇━━━━━━━━━━━━━━━━━━╇━━━━━━━━╇━━━━━━━┩\n",
       "│<span style=\"color: #7f7f7f; text-decoration-color: #7f7f7f\"> 0 </span>│ loss          │ L1Loss           │      0 │ train │\n",
       "│<span style=\"color: #7f7f7f; text-decoration-color: #7f7f7f\"> 1 </span>│ train_metrics │ MetricCollection │      0 │ train │\n",
       "│<span style=\"color: #7f7f7f; text-decoration-color: #7f7f7f\"> 2 </span>│ val_metrics   │ MetricCollection │      0 │ train │\n",
       "│<span style=\"color: #7f7f7f; text-decoration-color: #7f7f7f\"> 3 </span>│ test_metrics  │ MetricCollection │      0 │ train │\n",
       "│<span style=\"color: #7f7f7f; text-decoration-color: #7f7f7f\"> 4 </span>│ model         │ MPN              │  3.1 K │ train │\n",
       "│<span style=\"color: #7f7f7f; text-decoration-color: #7f7f7f\"> 5 </span>│ optimizer     │ Adam             │      0 │ train │\n",
       "└───┴───────────────┴──────────────────┴────────┴───────┘\n",
       "</pre>\n"
      ],
      "text/plain": [
       "┏━━━┳━━━━━━━━━━━━━━━┳━━━━━━━━━━━━━━━━━━┳━━━━━━━━┳━━━━━━━┓\n",
       "┃\u001b[1;35m \u001b[0m\u001b[1;35m \u001b[0m\u001b[1;35m \u001b[0m┃\u001b[1;35m \u001b[0m\u001b[1;35mName         \u001b[0m\u001b[1;35m \u001b[0m┃\u001b[1;35m \u001b[0m\u001b[1;35mType            \u001b[0m\u001b[1;35m \u001b[0m┃\u001b[1;35m \u001b[0m\u001b[1;35mParams\u001b[0m\u001b[1;35m \u001b[0m┃\u001b[1;35m \u001b[0m\u001b[1;35mMode \u001b[0m\u001b[1;35m \u001b[0m┃\n",
       "┡━━━╇━━━━━━━━━━━━━━━╇━━━━━━━━━━━━━━━━━━╇━━━━━━━━╇━━━━━━━┩\n",
       "│\u001b[2m \u001b[0m\u001b[2m0\u001b[0m\u001b[2m \u001b[0m│ loss          │ L1Loss           │      0 │ train │\n",
       "│\u001b[2m \u001b[0m\u001b[2m1\u001b[0m\u001b[2m \u001b[0m│ train_metrics │ MetricCollection │      0 │ train │\n",
       "│\u001b[2m \u001b[0m\u001b[2m2\u001b[0m\u001b[2m \u001b[0m│ val_metrics   │ MetricCollection │      0 │ train │\n",
       "│\u001b[2m \u001b[0m\u001b[2m3\u001b[0m\u001b[2m \u001b[0m│ test_metrics  │ MetricCollection │      0 │ train │\n",
       "│\u001b[2m \u001b[0m\u001b[2m4\u001b[0m\u001b[2m \u001b[0m│ model         │ MPN              │  3.1 K │ train │\n",
       "│\u001b[2m \u001b[0m\u001b[2m5\u001b[0m\u001b[2m \u001b[0m│ optimizer     │ Adam             │      0 │ train │\n",
       "└───┴───────────────┴──────────────────┴────────┴───────┘\n"
      ]
     },
     "metadata": {},
     "output_type": "display_data"
    },
    {
     "data": {
      "text/html": [
       "<pre style=\"white-space:pre;overflow-x:auto;line-height:normal;font-family:Menlo,'DejaVu Sans Mono',consolas,'Courier New',monospace\"><span style=\"font-weight: bold\">Trainable params</span>: 3.1 K                                                                                            \n",
       "<span style=\"font-weight: bold\">Non-trainable params</span>: 0                                                                                            \n",
       "<span style=\"font-weight: bold\">Total params</span>: 3.1 K                                                                                                \n",
       "<span style=\"font-weight: bold\">Total estimated model params size (MB)</span>: 0                                                                          \n",
       "<span style=\"font-weight: bold\">Modules in train mode</span>: 45                                                                                          \n",
       "<span style=\"font-weight: bold\">Modules in eval mode</span>: 0                                                                                            \n",
       "</pre>\n"
      ],
      "text/plain": [
       "\u001b[1mTrainable params\u001b[0m: 3.1 K                                                                                            \n",
       "\u001b[1mNon-trainable params\u001b[0m: 0                                                                                            \n",
       "\u001b[1mTotal params\u001b[0m: 3.1 K                                                                                                \n",
       "\u001b[1mTotal estimated model params size (MB)\u001b[0m: 0                                                                          \n",
       "\u001b[1mModules in train mode\u001b[0m: 45                                                                                          \n",
       "\u001b[1mModules in eval mode\u001b[0m: 0                                                                                            \n"
      ]
     },
     "metadata": {},
     "output_type": "display_data"
    },
    {
     "data": {
      "application/vnd.jupyter.widget-view+json": {
       "model_id": "4cdc438468d441dd8cf429ae708d5e9e",
       "version_major": 2,
       "version_minor": 0
      },
      "text/plain": [
       "Output()"
      ]
     },
     "metadata": {},
     "output_type": "display_data"
    },
    {
     "data": {
      "text/html": [
       "<pre style=\"white-space:pre;overflow-x:auto;line-height:normal;font-family:Menlo,'DejaVu Sans Mono',consolas,'Courier New',monospace\"></pre>\n"
      ],
      "text/plain": []
     },
     "metadata": {},
     "output_type": "display_data"
    }
   ],
   "source": [
    "mpn = MolecularRegressor(mpn_model, loss=nn.L1Loss(), \n",
    "                         optimizer=dl.Adam(lr=1e-3)).create()\n",
    "checkpoint_callback = ModelCheckpoint(\n",
    "    monitor=\"val_loss\", dirpath=os.path.join(\"models\", \"mpn\"), \n",
    "    filename=\"ZINC-{epoch:02d}-{val_loss:.2f}\", auto_insert_metric_name=False,\n",
    ")\n",
    "trainer = dl.Trainer(max_epochs=400, callbacks=[checkpoint_callback])\n",
    "trainer.fit(mpn, train_loader, val_loader)"
   ]
  },
  {
   "cell_type": "markdown",
   "metadata": {},
   "source": [
    "... evaluate the performance of the trained message passing network ..."
   ]
  },
  {
   "cell_type": "code",
   "execution_count": 27,
   "metadata": {},
   "outputs": [
    {
     "data": {
      "application/vnd.jupyter.widget-view+json": {
       "model_id": "69cb2e327e8e4e118c6b63e1456287f2",
       "version_major": 2,
       "version_minor": 0
      },
      "text/plain": [
       "Output()"
      ]
     },
     "metadata": {},
     "output_type": "display_data"
    },
    {
     "data": {
      "text/html": [
       "<pre style=\"white-space:pre;overflow-x:auto;line-height:normal;font-family:Menlo,'DejaVu Sans Mono',consolas,'Courier New',monospace\">┏━━━━━━━━━━━━━━━━━━━━━━━━━━━┳━━━━━━━━━━━━━━━━━━━━━━━━━━━┓\n",
       "┃<span style=\"font-weight: bold\">        Test metric        </span>┃<span style=\"font-weight: bold\">       DataLoader 0        </span>┃\n",
       "┡━━━━━━━━━━━━━━━━━━━━━━━━━━━╇━━━━━━━━━━━━━━━━━━━━━━━━━━━┩\n",
       "│<span style=\"color: #008080; text-decoration-color: #008080\">      test_loss_epoch      </span>│<span style=\"color: #800080; text-decoration-color: #800080\">    0.23601101338863373    </span>│\n",
       "└───────────────────────────┴───────────────────────────┘\n",
       "</pre>\n"
      ],
      "text/plain": [
       "┏━━━━━━━━━━━━━━━━━━━━━━━━━━━┳━━━━━━━━━━━━━━━━━━━━━━━━━━━┓\n",
       "┃\u001b[1m \u001b[0m\u001b[1m       Test metric       \u001b[0m\u001b[1m \u001b[0m┃\u001b[1m \u001b[0m\u001b[1m      DataLoader 0       \u001b[0m\u001b[1m \u001b[0m┃\n",
       "┡━━━━━━━━━━━━━━━━━━━━━━━━━━━╇━━━━━━━━━━━━━━━━━━━━━━━━━━━┩\n",
       "│\u001b[36m \u001b[0m\u001b[36m     test_loss_epoch     \u001b[0m\u001b[36m \u001b[0m│\u001b[35m \u001b[0m\u001b[35m   0.23601101338863373   \u001b[0m\u001b[35m \u001b[0m│\n",
       "└───────────────────────────┴───────────────────────────┘\n"
      ]
     },
     "metadata": {},
     "output_type": "display_data"
    },
    {
     "data": {
      "text/html": [
       "<pre style=\"white-space:pre;overflow-x:auto;line-height:normal;font-family:Menlo,'DejaVu Sans Mono',consolas,'Courier New',monospace\"></pre>\n"
      ],
      "text/plain": []
     },
     "metadata": {},
     "output_type": "display_data"
    }
   ],
   "source": [
    "model_paths = glob.glob(os.path.join(\"models\", \"mpn\", \"ZINC-*.ckpt\"))\n",
    "best_model_path = sorted(model_paths, key=os.path.getmtime)[-1]\n",
    "mpn_best = MolecularRegressor.load_from_checkpoint(best_model_path, \n",
    "                                                   model=mpn_model)\n",
    "test_results = trainer.test(mpn_best, test_loader)"
   ]
  },
  {
   "cell_type": "markdown",
   "metadata": {},
   "source": [
    "... obtaining the predicted and actual logP ..."
   ]
  },
  {
   "cell_type": "code",
   "execution_count": 28,
   "metadata": {},
   "outputs": [],
   "source": [
    "logP_gts, logP_preds = [], []\n",
    "for G in test_loader:\n",
    "    logP_gts.append(G.pop(\"y\"))\n",
    "    logP_preds.append(mpn_best(G))\n",
    "logP_gts = torch.cat(logP_gts).cpu().numpy()\n",
    "logP_preds = torch.cat(logP_preds).detach().cpu().numpy()"
   ]
  },
  {
   "cell_type": "markdown",
   "metadata": {},
   "source": [
    "... and plot the predicted logP versus their ground truth values."
   ]
  },
  {
   "cell_type": "code",
   "execution_count": 29,
   "metadata": {},
   "outputs": [
    {
     "data": {
      "image/png": "[encoded data removed]",
      "text/plain": [
       "<Figure size 640x480 with 1 Axes>"
      ]
     },
     "metadata": {},
     "output_type": "display_data"
    }
   ],
   "source": [
    "heatmap, xedges, yedges = np.histogram2d(logP_preds, logP_gts, bins=50)\n",
    "extent = [xedges[0], xedges[-1], yedges[0], yedges[-1]]\n",
    "\n",
    "plt.plot([min(logP_gts), max(logP_gts)], [min(logP_gts), max(logP_gts)], \"r--\")\n",
    "plt.imshow(heatmap.T, extent=extent, origin=\"lower\")\n",
    "plt.xlabel(\"Predicted LogP\"); plt.ylabel(\"True LogP\")\n",
    "plt.show()"
   ]
  }
 ],
 "metadata": {
  "kernelspec": {
   "display_name": "Python 3",
   "language": "python",
   "name": "python3"
  },
  "language_info": {
   "codemirror_mode": {
    "name": "ipython",
    "version": 3
   },
   "file_extension": ".py",
   "mimetype": "text/x-python",
   "name": "python",
   "nbconvert_exporter": "python",
   "pygments_lexer": "ipython3",
   "version": "3.8.6"
  }
 },
 "nbformat": 4,
 "nbformat_minor": 2
}
