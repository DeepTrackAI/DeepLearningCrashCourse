{
 "cells": [
  {
   "cell_type": "markdown",
   "metadata": {},
   "source": [
    "# Predicting Molecular Properties with Graph Neural Networks\n",
    "\n",
    "This notebook provides you with a complete code example to predict the properties of small molecules using graph convolutional layers with message passing."
   ]
  },
  {
   "cell_type": "markdown",
   "metadata": {},
   "source": [
    "## Understanding Graph Convolutions\n",
    "\n",
    "Calculate the adjacency matrix of a simple cycle graph ..."
   ]
  },
  {
   "cell_type": "code",
   "execution_count": 1,
   "metadata": {},
   "outputs": [],
   "source": [
    "import numpy as np\n",
    "\n",
    "node_num = 5\n",
    "\n",
    "A = np.zeros((node_num, node_num))\n",
    "for i in range(node_num):\n",
    "    for j in range(node_num):\n",
    "        if j % node_num == (i + 1) % node_num:\n",
    "            A[i, j] = 1"
   ]
  },
  {
   "cell_type": "code",
   "execution_count": null,
   "metadata": {},
   "outputs": [],
   "source": [
    "print(f\"A: {A}\")"
   ]
  },
  {
   "cell_type": "markdown",
   "metadata": {},
   "source": [
    "... assign node features ..."
   ]
  },
  {
   "cell_type": "code",
   "execution_count": 3,
   "metadata": {},
   "outputs": [],
   "source": [
    "x = np.zeros(node_num)\n",
    "x[0] = 1"
   ]
  },
  {
   "cell_type": "code",
   "execution_count": null,
   "metadata": {},
   "outputs": [],
   "source": [
    "print(\"x:\", x)"
   ]
  },
  {
   "cell_type": "markdown",
   "metadata": {},
   "source": [
    "... implement a function to perform a graph convolution ..."
   ]
  },
  {
   "cell_type": "code",
   "execution_count": 5,
   "metadata": {},
   "outputs": [],
   "source": [
    "def graph_convolution(A, x):\n",
    "    \"\"\"Calculate graph convolution.\"\"\"\n",
    "    conv = np.zeros(node_num)\n",
    "    for i in range(node_num):\n",
    "        for j in range(node_num):\n",
    "            conv[j] = conv[j] + A[i, j] * x[i]\n",
    "    return conv"
   ]
  },
  {
   "cell_type": "markdown",
   "metadata": {},
   "source": [
    "... and apply the graph convolution."
   ]
  },
  {
   "cell_type": "code",
   "execution_count": null,
   "metadata": {},
   "outputs": [],
   "source": [
    "for c in range(5):\n",
    "    x = graph_convolution(A, x)\n",
    "    print(f\"Convolution {c + 1}: \", x)"
   ]
  },
  {
   "cell_type": "markdown",
   "metadata": {},
   "source": [
    "## Predicting Molecular Properties with Graph Convolutions"
   ]
  },
  {
   "cell_type": "markdown",
   "metadata": {},
   "source": [
    "### Implementing a Graph Convolution Layer\n",
    "\n",
    "Define a class to implement a graph convolution ..."
   ]
  },
  {
   "cell_type": "code",
   "execution_count": 7,
   "metadata": {},
   "outputs": [],
   "source": [
    "import torch.nn as nn\n",
    "\n",
    "class GraphConvolution(nn.Module):\n",
    "    \"\"\"Graph convolution.\"\"\"\n",
    "    \n",
    "    def forward(self, A, node_attr):\n",
    "        \"\"\"Compute the graph convolution.\"\"\"\n",
    "        return A @ node_attr"
   ]
  },
  {
   "cell_type": "markdown",
   "metadata": {},
   "source": [
    "... and a class to implement the class convolution layer."
   ]
  },
  {
   "cell_type": "code",
   "execution_count": 8,
   "metadata": {},
   "outputs": [],
   "source": [
    "import deeplay as dl\n",
    "import torch\n",
    "\n",
    "class GCL(dl.DeeplayModule):\n",
    "    \"\"\"Graph convolution layer.\"\"\"\n",
    "    \n",
    "    def __init__(self, in_feats, out_feats):\n",
    "        \"\"\"Initialize graph convolution layer.\"\"\"\n",
    "        super().__init__()\n",
    "        self.transform = dl.Layer(nn.Linear, in_feats, out_feats)\n",
    "        self.propagate = dl.Layer(GraphConvolution)\n",
    "        self.update = dl.Layer(nn.ReLU)\n",
    "\n",
    "    def diagonalize(self, A):\n",
    "        \"\"\"Add diagonal to adjacency matrix.\"\"\"\n",
    "        return A + torch.eye(A.size(0)).to(A.device)\n",
    "\n",
    "    def normalize(seft, A):\n",
    "        \"\"\"Normalize ajacency matrix.\"\"\"\n",
    "        node_degrees = torch.sum(A, dim=1)\n",
    "        inv_sqrt_node_degreed = node_degrees.pow(-0.5)\n",
    "        inv_sqrt_node_degreed[inv_sqrt_node_degreed == float(\"inf\")] = 0\n",
    "        degree_matrix = torch.diag(inv_sqrt_node_degreed)\n",
    "        return degree_matrix @ A @ degree_matrix\n",
    "    \n",
    "    def forward(self, A, node_attr):\n",
    "        \"\"\"Transform, propagate and update the node attributes.\"\"\"\n",
    "        A = self.normalize(self.diagonalize(A))\n",
    "        transformed_node_attr = self.transform(node_attr)\n",
    "        propagated_node_attr = self.propagate(A, transformed_node_attr)\n",
    "        updated_node_attr = self.update(propagated_node_attr)\n",
    "        return updated_node_attr"
   ]
  },
  {
   "cell_type": "markdown",
   "metadata": {},
   "source": [
    "### Using the ZINC Dataset\n",
    "\n",
    "Download the ZINC dataset ..."
   ]
  },
  {
   "cell_type": "code",
   "execution_count": 9,
   "metadata": {},
   "outputs": [],
   "source": [
    "from torch_geometric.datasets import ZINC\n",
    "\n",
    "train_set = ZINC(root=\"ZINC_dataset/\", subset=True, split=\"train\")\n",
    "val_set = ZINC(root=\"ZINC_dataset/\", subset=True, split=\"val\")\n",
    "test_set = ZINC(root=\"ZINC_dataset/\", subset=True, split=\"test\")"
   ]
  },
  {
   "cell_type": "markdown",
   "metadata": {},
   "source": [
    "... implement a function to plot the adjacency matrix of a molecule ..."
   ]
  },
  {
   "cell_type": "code",
   "execution_count": 10,
   "metadata": {},
   "outputs": [],
   "source": [
    "import matplotlib.pyplot as plt\n",
    "from matplotlib import colormaps\n",
    "from torch_geometric.utils import to_dense_adj\n",
    "\n",
    "def plot_molecule(molecule):\n",
    "    \"\"\"Plot adjacency matrix of a molecule.\"\"\"\n",
    "    node_attr = molecule[\"x\"].numpy().squeeze()  # Atom type numbers.\n",
    "    A = to_dense_adj(molecule[\"edge_index\"]).numpy().squeeze(0)\n",
    "    logP = molecule[\"y\"].item()\n",
    "    \n",
    "    plt.matshow(A, cmap=colormaps[\"gray\"].reversed())\n",
    "    plt.title(f\"LogP={np.round(logP, 2)}\", fontsize=24)\n",
    "    plt.xlabel(\"Atom type\", fontsize=16); plt.ylabel(\"Atom type\", fontsize=16)\n",
    "    plt.xticks(np.arange(len(node_attr)), node_attr, fontsize=12)\n",
    "    plt.yticks(np.arange(len(node_attr)), node_attr, fontsize=12)\n",
    "    ax = plt.gca(); ax.xaxis.set_ticks_position(\"bottom\")\n",
    "    plt.show()"
   ]
  },
  {
   "cell_type": "markdown",
   "metadata": {},
   "source": [
    "... and use to visualize the structures of some molecules."
   ]
  },
  {
   "cell_type": "code",
   "execution_count": null,
   "metadata": {},
   "outputs": [],
   "source": [
    "for molecule_index in [2, 1235, 9887]:\n",
    "    plot_molecule(molecule=train_set[molecule_index])"
   ]
  },
  {
   "cell_type": "markdown",
   "metadata": {},
   "source": [
    "### Implementing a Graph Convolutional Network\n",
    "\n",
    "Create a class to implement a graph convolutional network ..."
   ]
  },
  {
   "cell_type": "code",
   "execution_count": 12,
   "metadata": {},
   "outputs": [],
   "source": [
    "class GCN(dl.DeeplayModule):\n",
    "    \"\"\"Graph convolutional network.\"\"\"\n",
    "    \n",
    "    def __init__(self, num_atoms, embed_dim, hidden_feats, out_feats):\n",
    "        \"\"\"Initialize graph convolutional network.\"\"\"\n",
    "        super().__init__()\n",
    "        self.node_embedding = dl.Layer(nn.Embedding, num_atoms, embed_dim)\n",
    "        self.blocks = dl.LayerList()\n",
    "        for f_in, f_out in zip([embed_dim, *hidden_feats[:-1]], \n",
    "                               hidden_feats):\n",
    "            self.blocks.append(GCL(in_feats=f_in, out_feats=f_out))\n",
    "        self.dense_top = dl.Sequential(\n",
    "            dl.Layer(nn.Linear, hidden_feats[-1], hidden_feats[-1] // 4),\n",
    "            dl.Layer(nn.ReLU),\n",
    "            dl.Layer(nn.Linear, hidden_feats[-1] // 4, out_feats),\n",
    "        )\n",
    "\n",
    "    def forward(self, G):\n",
    "        \"\"\"***Predict graph properties***.\"\"\"\n",
    "        G[\"node_attr\"] = self.node_embedding(G[\"node_attr\"])\n",
    "        for block in self.blocks:\n",
    "            G[\"node_attr\"] = block(G[\"A\"], G[\"node_attr\"])\n",
    "        \n",
    "        num_graphs = torch.max(G[\"graph_ids\"]) + 1\n",
    "        aggregated_node_feats = torch.zeros(\n",
    "            num_graphs, G[\"node_attr\"].shape[1], device=G[\"node_attr\"].device,\n",
    "        )\n",
    "        aggregated_node_attr = aggregated_node_attr.scatter_add(\n",
    "            0, G[\"graph_ids\"][:, None].expand_as(G[\"node_attr\"]), \n",
    "            G[\"node_attr\"],\n",
    "        )\n",
    "        node_counts = torch.bincount(G[\"graph_ids\"])\n",
    "        aggregated_node_attr = aggregated_node_attr / node_counts[:, None]\n",
    "        \n",
    "        return self.dense_top(aggregated_node_attr).squeeze()  # LogP."
   ]
  },
  {
   "cell_type": "markdown",
   "metadata": {},
   "source": [
    "... instantiate it ..."
   ]
  },
  {
   "cell_type": "code",
   "execution_count": null,
   "metadata": {},
   "outputs": [],
   "source": [
    "gcn_model = GCN(num_atoms=28, embed_dim=64, hidden_feats=[64,] * 4, \n",
    "                out_feats=1).create()\n",
    "\n",
    "print(gcn_model)"
   ]
  },
  {
   "cell_type": "markdown",
   "metadata": {},
   "source": [
    "... define the data loaders ..."
   ]
  },
  {
   "cell_type": "code",
   "execution_count": 14,
   "metadata": {},
   "outputs": [],
   "source": [
    "from torch_geometric.loader import DataLoader\n",
    "\n",
    "train_loader = DataLoader(dataset=train_set, batch_size=32, shuffle=True)\n",
    "val_loader = DataLoader(dataset=val_set, batch_size=32, shuffle=False)\n",
    "test_loader = DataLoader(dataset=test_set, batch_size=32, shuffle=False)"
   ]
  },
  {
   "cell_type": "markdown",
   "metadata": {},
   "source": [
    "... implement a class to compile, train, and evaluate the graph convolutional network ..."
   ]
  },
  {
   "cell_type": "code",
   "execution_count": 15,
   "metadata": {},
   "outputs": [],
   "source": [
    "class MolecularRegressor(dl.Regressor):\n",
    "    \"\"\"Regressor model for molecular property prediction.\"\"\"\n",
    "\n",
    "    def __init__(self, model, **kwargs):\n",
    "        \"\"\"Initialize molecular regressor.\"\"\"\n",
    "        super().__init__(model, **kwargs)\n",
    "    \n",
    "    def batch_preprocess(self, G):\n",
    "        \"\"\"Preprocess the graph batch for model input.\"\"\"\n",
    "        G[\"node_attr\"] = G[\"x\"].squeeze()\n",
    "        G[\"A\"] = to_dense_adj(G[\"edge_index\"]).squeeze(0)\n",
    "        G[\"graph_ids\"] = G[\"batch\"]\n",
    "        return G.to(self.device)\n",
    "    \n",
    "    def forward(self, G):\n",
    "        \"\"\"Calculate model output for input graph batch.\"\"\"\n",
    "        return self.model(self.batch_preprocess(G))"
   ]
  },
  {
   "cell_type": "markdown",
   "metadata": {},
   "source": [
    "... and train the graph convolutional network."
   ]
  },
  {
   "cell_type": "code",
   "execution_count": null,
   "metadata": {},
   "outputs": [],
   "source": [
    "from lightning.pytorch.callbacks import ModelCheckpoint\n",
    "import os\n",
    "\n",
    "gcn = MolecularRegressor(gcn_model, loss=nn.L1Loss(), \n",
    "                         optimizer=dl.Adam(lr=1e-3)).create()\n",
    "checkpoint_callback = ModelCheckpoint(\n",
    "    monitor=\"val_loss\", dirpath=os.path.join(\"models\", \"gcn\"), \n",
    "    filename=\"ZINC-{epoch:02d}-{val_loss:.2f}\", auto_insert_metric_name=False,\n",
    ")\n",
    "trainer = dl.Trainer(max_epochs=400, callbacks=[checkpoint_callback])\n",
    "trainer.fit(gcn, train_loader, val_loader)"
   ]
  },
  {
   "cell_type": "markdown",
   "metadata": {},
   "source": [
    "### Evaluating the Trained Graph Convolutional Network\n",
    "\n",
    "Evaluate the performance of the trained graph convolutional network ..."
   ]
  },
  {
   "cell_type": "code",
   "execution_count": null,
   "metadata": {},
   "outputs": [],
   "source": [
    "import glob\n",
    "\n",
    "model_paths = glob.glob(os.path.join(\"models\", \"gcn\", \"ZINC-*.ckpt\"))\n",
    "best_model_path = sorted(model_paths, key=os.path.getmtime)[-1]\n",
    "gcn_best = MolecularRegressor.load_from_checkpoint(best_model_path, \n",
    "                                                   model=gcn_model)\n",
    "test_results = trainer.test(gcn_best, test_loader)"
   ]
  },
  {
   "cell_type": "markdown",
   "metadata": {},
   "source": [
    "... obtain the predicted and actual logP ..."
   ]
  },
  {
   "cell_type": "code",
   "execution_count": 18,
   "metadata": {},
   "outputs": [],
   "source": [
    "logP_gts, logP_preds = [], []\n",
    "for G in test_loader:\n",
    "    logP_gts.append(G.pop(\"y\"))\n",
    "    logP_preds.append(gcn_best(G))\n",
    "logP_gts = torch.cat(logP_gts).cpu().numpy()\n",
    "logP_preds = torch.cat(logP_preds).detach().cpu().numpy()"
   ]
  },
  {
   "cell_type": "markdown",
   "metadata": {},
   "source": [
    "... and plot the predicted logP versus their ground truth values."
   ]
  },
  {
   "cell_type": "code",
   "execution_count": null,
   "metadata": {},
   "outputs": [],
   "source": [
    "heatmap, xedges, yedges = np.histogram2d(logP_preds, logP_gts, bins=50)\n",
    "extent = [xedges[0], xedges[-1], yedges[0], yedges[-1]]\n",
    "\n",
    "plt.plot([min(logP_gts), max(logP_gts)], [min(logP_gts), max(logP_gts)], \"r--\")\n",
    "plt.imshow(heatmap.T, extent=extent, origin=\"lower\")\n",
    "plt.xlabel(\"Predicted LogP\"); plt.ylabel(\"True LogP\")\n",
    "plt.show()"
   ]
  },
  {
   "cell_type": "markdown",
   "metadata": {},
   "source": [
    "## Predicting Molecular Properties with Message Passing"
   ]
  },
  {
   "cell_type": "markdown",
   "metadata": {},
   "source": [
    "### Implementing a Message Passing Layer\n",
    "\n",
    "Implement a class to implement a layer to perform the transform step ..."
   ]
  },
  {
   "cell_type": "code",
   "execution_count": 20,
   "metadata": {},
   "outputs": [],
   "source": [
    "class TransformLayer(nn.Module):\n",
    "    \"\"\"Transform layer.\"\"\"\n",
    "    \n",
    "    def __init__(self, hidden_feats):\n",
    "        \"\"\"Initialize the transform layer.\"\"\"\n",
    "        super().__init__()\n",
    "        self.linear = nn.LazyLinear(hidden_feats)\n",
    "        self.activation = nn.ReLU()\n",
    "\n",
    "    def forward(self, G):\n",
    "        \"\"\"Compute messages by transforming node and edge features.\"\"\"\n",
    "        src_node_attr = G[\"node_attr\"][G[\"edge_index\"][0]]\n",
    "        tgt_node_attr = G[\"node_attr\"][G[\"edge_index\"][1]]\n",
    "        edge_attr = G[\"edge_attr\"]\n",
    "\n",
    "        msg = torch.cat([src_node_attr, tgt_node_attr, edge_attr], dim=-1)\n",
    "        G[\"msg\"] = self.activation(self.linear(msg))\n",
    "        return G"
   ]
  },
  {
   "cell_type": "markdown",
   "metadata": {},
   "source": [
    "... a class to implement a layer to perform the propagate step ..."
   ]
  },
  {
   "cell_type": "code",
   "execution_count": 21,
   "metadata": {},
   "outputs": [],
   "source": [
    "class PropagateLayer(nn.Module):\n",
    "    \"\"\"Propagate layer.\"\"\"\n",
    "\n",
    "    def __init__(self, hidden_feats):\n",
    "        \"\"\"Initialize propagate layer.\"\"\"\n",
    "        super().__init__()\n",
    "        self.hidden_feats = hidden_feats\n",
    "\n",
    "    def forward(self, G):\n",
    "        \"\"\"Aggregate messages from neighboring nodes.\"\"\"\n",
    "        num_nodes = G[\"node_attr\"].size(0)\n",
    "        aggregated_msg = torch.zeros(num_nodes, self.hidden_feats, \n",
    "                                     dtype=G[\"node_attr\"].dtype,\n",
    "                                     device=G[\"node_attr\"].device)\n",
    "        tgt_node_idxs = (G[\"edge_index\"][1].unsqueeze(1).expand_as(G[\"msg\"]))\n",
    "        aggregated_msg = aggregated_msg.scatter_add(0, tgt_node_idxs, G[\"msg\"])\n",
    "        G[\"aggregated_msg\"] = aggregated_msg\n",
    "        return G"
   ]
  },
  {
   "cell_type": "markdown",
   "metadata": {},
   "source": [
    "... a class to implement a layer to perform the update step ..."
   ]
  },
  {
   "cell_type": "code",
   "execution_count": 22,
   "metadata": {},
   "outputs": [],
   "source": [
    "class UpdateLayer(nn.Module):\n",
    "    \"\"\"Update layer.\"\"\"\n",
    "\n",
    "    def __init__(self, hidden_feats):\n",
    "        \"\"\"Initialize update layer.\"\"\"\n",
    "        super().__init__()\n",
    "        self.linear = nn.LazyLinear(hidden_feats)\n",
    "        self.activation = nn.ReLU()\n",
    "\n",
    "    def forward(self, G):\n",
    "        \"\"\"Update node attributes combining them with aggregated messages.\"\"\"\n",
    "        attr = torch.cat([G[\"node_attr\"], G[\"aggregated_msg\"]], dim=-1)\n",
    "        G[\"node_attr\"] = self.activation(self.linear(attr))\n",
    "        G[\"edge_attr\"] = G[\"msg\"]\n",
    "        return G"
   ]
  },
  {
   "cell_type": "markdown",
   "metadata": {},
   "source": [
    "... and use them to define a message passing layer."
   ]
  },
  {
   "cell_type": "code",
   "execution_count": null,
   "metadata": {},
   "outputs": [],
   "source": [
    "mpl = dl.Sequential(\n",
    "    dl.Layer(TransformLayer, hidden_feats=64),\n",
    "    dl.Layer(PropagateLayer, hidden_feats=64),\n",
    "    dl.Layer(UpdateLayer, hidden_feats=64),\n",
    ").create()\n",
    "\n",
    "print(mpl)"
   ]
  },
  {
   "cell_type": "markdown",
   "metadata": {},
   "source": [
    "### Implementing a Message Passing Network\n",
    "\n",
    "Create a class to implement a message passing network ..."
   ]
  },
  {
   "cell_type": "code",
   "execution_count": 24,
   "metadata": {},
   "outputs": [],
   "source": [
    "class MPN(dl.DeeplayModule):\n",
    "    \"\"\"Message passing network.\"\"\"\n",
    "\n",
    "    def __init__(self, num_atoms, num_edge_embed, embed_dim, hidden_feats, \n",
    "                 out_feats):\n",
    "        \"\"\"Initialize graph convolutional network.\"\"\"\n",
    "        super().__init__()\n",
    "        \n",
    "        self.node_embedding = dl.Layer(nn.Embedding, num_node_embed, embed_dim)\n",
    "        self.edge_embedding = dl.Layer(nn.Embedding, num_edge_embed, embed_dim)\n",
    "\n",
    "        self.blocks = dl.LayerList()\n",
    "        for f_out in hidden_feats:\n",
    "            mpl = dl.Sequential(\n",
    "                dl.Layer(TransformLayer, f_out),\n",
    "                dl.Layer(PropagateLayer, f_out),\n",
    "                dl.Layer(UpdateLayer, f_out),\n",
    "            )\n",
    "            self.blocks.append(mpl)\n",
    "\n",
    "        self.dense_top = dl.Sequential(\n",
    "            dl.Layer(nn.Linear, hidden_feats[-1], hidden_feats[-1] // 4),\n",
    "            dl.Layer(nn.ReLU),\n",
    "            dl.Layer(nn.Linear, hidden_feats[-1] // 4, out_feats),\n",
    "        )\n",
    "        \n",
    "    def forward(self, G):\n",
    "        \"\"\"Calculate forward pass.\"\"\"\n",
    "        G[\"node_attr\"] = self.node_embedding(G[\"node_attr\"])\n",
    "        G[\"edge_attr\"] = self.edge_embedding(G[\"edge_attr\"])\n",
    "        for block in self.blocks:\n",
    "            G = block(G)\n",
    "        \n",
    "        batch_size = torch.max(G[\"graph_ids\"]) + 1\n",
    "        aggregated_node_feats = torch.zeros(batch_size, \n",
    "                                            G[\"node_attr\"].shape[1], \n",
    "                                            device=G[\"node_attr\"].device)\n",
    "        aggregated_node_feats = aggregated_node_feats.scatter_add(\n",
    "            0, G[\"graph_ids\"][:, None].expand_as(G[\"node_attr\"]), \n",
    "            G[\"node_attr\"],\n",
    "        )\n",
    "        node_counts = torch.bincount(G[\"graph_ids\"])\n",
    "        aggregated_node_feats = aggregated_node_feats / node_counts[:, None]\n",
    "        \n",
    "        return self.dense_top(aggregated_node_feats).squeeze()  # LogP.\n",
    "    \n",
    "        '''batch_size = torch.max(G[\"graph_ids\"]) + 1\n",
    "        h = torch.zeros(batch_size, G[\"node_attr\"].shape[1], device=G[\"node_attr\"].device)\n",
    "        h = h.scatter_add(0, G[\"graph_ids\"][:, None].expand_as(G[\"node_attr\"]), G[\"node_attr\"])\n",
    "        h = h / torch.bincount(G[\"graph_ids\"])[:, None]\n",
    "         \n",
    "        return self.dense_top(h).squeeze()'''"
   ]
  },
  {
   "cell_type": "markdown",
   "metadata": {},
   "source": [
    "... instantiate the message passing network ..."
   ]
  },
  {
   "cell_type": "code",
   "execution_count": null,
   "metadata": {},
   "outputs": [],
   "source": [
    "mpn_model = MPN(num_node_embed=28, num_edge_embed=4, embed_dim=64, \n",
    "                hidden_feats=[64,] * 4, out_feats=1).create()\n",
    "\n",
    "print(mpn_model)"
   ]
  },
  {
   "cell_type": "markdown",
   "metadata": {},
   "source": [
    "... train the message passing network ..."
   ]
  },
  {
   "cell_type": "code",
   "execution_count": null,
   "metadata": {},
   "outputs": [],
   "source": [
    "mpn = MolecularRegressor(\n",
    "    mpn_model, loss=nn.L1Loss(), optimizer=dl.Adam(lr=1e-3),\n",
    ").create()\n",
    "checkpoint_callback = ModelCheckpoint(\n",
    "    monitor=\"val_loss\", dirpath=os.path.join(\"models\", \"mpn\"),\n",
    "    filename=\"ZINC-{epoch:02d}-{val_loss:.2f}\",auto_insert_metric_name=False,\n",
    ")\n",
    "trainer = dl.Trainer(max_epochs=400, callbacks=[checkpoint_callback])\n",
    "trainer.fit(mpn, train_loader, val_loader)"
   ]
  },
  {
   "cell_type": "markdown",
   "metadata": {},
   "source": [
    "... evaluate the performance of the trained message passing network ..."
   ]
  },
  {
   "cell_type": "code",
   "execution_count": null,
   "metadata": {},
   "outputs": [],
   "source": [
    "model_paths = glob.glob(os.path.join(\"models\", \"mpn\", \"ZINC-*.ckpt\"))\n",
    "best_model_path = sorted(model_paths, key=os.path.getmtime)[-1]\n",
    "mpn_best = MolecularRegressor.load_from_checkpoint(best_model_path, \n",
    "                                                   model=mpn_model)\n",
    "test_results = trainer.test(mpn_best, test_loader)"
   ]
  },
  {
   "cell_type": "markdown",
   "metadata": {},
   "source": [
    "... obtaining the predicted and actual logP ..."
   ]
  },
  {
   "cell_type": "code",
   "execution_count": 28,
   "metadata": {},
   "outputs": [],
   "source": [
    "logP_gts, logP_preds = [], []\n",
    "for G in test_loader:\n",
    "    logP_gts.append(G.pop(\"y\"))\n",
    "    logP_preds.append(mpn_best(G))\n",
    "logP_gts = torch.cat(logP_gts).cpu().numpy()\n",
    "logP_preds = torch.cat(logP_preds).detach().cpu().numpy()"
   ]
  },
  {
   "cell_type": "markdown",
   "metadata": {},
   "source": [
    "... and plot the predicted logP versus their ground truth values."
   ]
  },
  {
   "cell_type": "code",
   "execution_count": null,
   "metadata": {},
   "outputs": [],
   "source": [
    "heatmap, xedges, yedges = np.histogram2d(logP_preds, logP_gts, bins=50)\n",
    "extent = [xedges[0], xedges[-1], yedges[0], yedges[-1]]\n",
    "\n",
    "plt.plot([min(logP_gts), max(logP_gts)], [min(logP_gts), max(logP_gts)], \"r--\")\n",
    "plt.imshow(heatmap.T, extent=extent, origin=\"lower\")\n",
    "plt.xlabel(\"Predicted LogP\"); plt.ylabel(\"True LogP\")\n",
    "plt.show()"
   ]
  }
 ],
 "metadata": {
  "kernelspec": {
   "display_name": "py_env_book",
   "language": "python",
   "name": "python3"
  },
  "language_info": {
   "codemirror_mode": {
    "name": "ipython",
    "version": 3
   },
   "file_extension": ".py",
   "mimetype": "text/x-python",
   "name": "python",
   "nbconvert_exporter": "python",
   "pygments_lexer": "ipython3",
   "version": "3.10.15"
  }
 },
 "nbformat": 4,
 "nbformat_minor": 2
}
