{
 "cells": [
  {
   "cell_type": "markdown",
   "metadata": {},
   "source": [
    "# Predicting Molecular Properties with Graph Neural Networks\n",
    "\n",
    "This notebook provides you with a complete code example to predict the properties of small molecules using graph convolutional layers with message passing."
   ]
  },
  {
   "cell_type": "markdown",
   "metadata": {},
   "source": [
    "## Understanding Graph Convolutions\n",
    "\n",
    "Calculate the adjacency matrix of a simple cycle graph ..."
   ]
  },
  {
   "cell_type": "code",
   "execution_count": 1,
   "metadata": {},
   "outputs": [],
   "source": [
    "import numpy as np\n",
    "\n",
    "node_num = 5\n",
    "\n",
    "A = np.zeros((node_num, node_num))\n",
    "for i in range(node_num):\n",
    "    for j in range(node_num):\n",
    "        if j % node_num == (i + 1) % node_num:\n",
    "            A[i, j] = 1"
   ]
  },
  {
   "cell_type": "code",
   "execution_count": null,
   "metadata": {},
   "outputs": [],
   "source": [
    "print(f\"A: {A}\")"
   ]
  },
  {
   "cell_type": "markdown",
   "metadata": {},
   "source": [
    "... assign node features ..."
   ]
  },
  {
   "cell_type": "code",
   "execution_count": 3,
   "metadata": {},
   "outputs": [],
   "source": [
    "x = np.zeros(node_num)\n",
    "x[0] = 1"
   ]
  },
  {
   "cell_type": "code",
   "execution_count": null,
   "metadata": {},
   "outputs": [],
   "source": [
    "print(\"x:\", x)"
   ]
  },
  {
   "cell_type": "markdown",
   "metadata": {},
   "source": [
    "... implement a function to perform a graph convolution ..."
   ]
  },
  {
   "cell_type": "code",
   "execution_count": 5,
   "metadata": {},
   "outputs": [],
   "source": [
    "def graph_convolution(A, x):\n",
    "    \"\"\"Calculate graph convolution.\"\"\"\n",
    "    conv = np.zeros(node_num)\n",
    "    for i in range(node_num):\n",
    "        for j in range(node_num):\n",
    "            conv[j] = conv[j] + A[i, j] * x[i]\n",
    "    return conv"
   ]
  },
  {
   "cell_type": "markdown",
   "metadata": {},
   "source": [
    "... and apply the graph convolution."
   ]
  },
  {
   "cell_type": "code",
   "execution_count": null,
   "metadata": {},
   "outputs": [],
   "source": [
    "for c in range(5):\n",
    "    x = graph_convolution(A, x)\n",
    "    print(f\"Convolution {c + 1}: \", x)"
   ]
  },
  {
   "cell_type": "markdown",
   "metadata": {},
   "source": [
    "## Predicting Molecular Properties with Graph Convolutions"
   ]
  },
  {
   "cell_type": "markdown",
   "metadata": {},
   "source": [
    "### Implementing a Graph Convolution Layer\n",
    "\n",
    "Define a class to implement a graph convolution ..."
   ]
  },
  {
   "cell_type": "code",
   "execution_count": 7,
   "metadata": {},
   "outputs": [],
   "source": [
    "import torch.nn as nn\n",
    "\n",
    "class GraphConvolution(nn.Module):\n",
    "    \"\"\"Graph convolution.\"\"\"\n",
    "    \n",
    "    def forward(self, A, x):\n",
    "        \"\"\"Calculate forward pass.\"\"\"\n",
    "        return A @ x"
   ]
  },
  {
   "cell_type": "markdown",
   "metadata": {},
   "source": [
    "... and a class to implement the class convolution layer."
   ]
  },
  {
   "cell_type": "code",
   "execution_count": 8,
   "metadata": {},
   "outputs": [],
   "source": [
    "import deeplay as dl\n",
    "import torch\n",
    "\n",
    "class GCL(dl.DeeplayModule):\n",
    "    \"\"\"Graph convolution layer.\"\"\"\n",
    "    \n",
    "    def __init__(self, in_features, out_features):\n",
    "        \"\"\"Initialize graph convolution layer.\"\"\"\n",
    "        super().__init__()\n",
    "\n",
    "        self.in_features, self.out_features = in_features, out_features\n",
    "        \n",
    "        self.Transform = dl.Layer(nn.Linear, in_features, out_features)\n",
    "        self.Propagate = dl.Layer(GraphConvolution)\n",
    "        self.Update = dl.Layer(nn.ReLU)\n",
    "\n",
    "    def diagonalize(self, A):\n",
    "        \"\"\"Add diagonal to adjacency matrix.\"\"\"\n",
    "        return A + torch.eye(A.size(0)).to(A.device)\n",
    "\n",
    "    def normalize(seft, A):\n",
    "        \"\"\"Normalize ajacency matrix.\"\"\"\n",
    "        deg = torch.sum(A, dim=1)\n",
    "        deg = deg.pow(-0.5)\n",
    "        deg[deg == float(\"inf\")] = 0\n",
    "        D = torch.diag(deg)\n",
    "        return D @ A @ D\n",
    "    \n",
    "    def forward(self, A, x):\n",
    "        \"\"\"Calculate forward pass.\"\"\"\n",
    "        A = self.diagonalize(A)\n",
    "        A = self.normalize(A)\n",
    "        x = self.Transform(x)\n",
    "        x = self.Propagate(A, x)\n",
    "        x = self.Update(x)\n",
    "        return x"
   ]
  },
  {
   "cell_type": "markdown",
   "metadata": {},
   "source": [
    "### Using the ZINC Dataset\n",
    "\n",
    "Download the ZINC dataset ..."
   ]
  },
  {
   "cell_type": "code",
   "execution_count": 9,
   "metadata": {},
   "outputs": [],
   "source": [
    "from torch_geometric.datasets import ZINC\n",
    "\n",
    "train_dataset = ZINC(root=\"ZINC_dataset/\", subset=True, split=\"train\")\n",
    "val_dataset = ZINC(root=\"ZINC_dataset/\", subset=True, split=\"val\")\n",
    "test_dataset = ZINC(root=\"ZINC_dataset/\", subset=True, split=\"test\")"
   ]
  },
  {
   "cell_type": "markdown",
   "metadata": {},
   "source": [
    "... implement a function to plot the adjacency matrix of a molecule ..."
   ]
  },
  {
   "cell_type": "code",
   "execution_count": 10,
   "metadata": {},
   "outputs": [],
   "source": [
    "import matplotlib.pyplot as plt\n",
    "from matplotlib import colormaps\n",
    "from torch_geometric.utils import to_dense_adj\n",
    "\n",
    "def plot_molecule(molecule):\n",
    "    \"\"\"Plot adjacency matrix of a molecule.\"\"\"\n",
    "    x = molecule[\"x\"].numpy().squeeze()\n",
    "    A = to_dense_adj(molecule[\"edge_index\"]).numpy().squeeze(0)\n",
    "    y = molecule[\"y\"].item()\n",
    "    \n",
    "    fig, ax = plt.subplots()\n",
    "    ax.matshow(A, cmap=colormaps[\"gray\"].reversed())\n",
    "    indices = np.arange(len(x))\n",
    "    ax.set_xticks(indices, x, fontsize=12)\n",
    "    ax.xaxis.set_ticks_position(\"bottom\")\n",
    "    ax.set_xlabel(\"Atom type\", fontsize=16)\n",
    "    ax.set_yticks(indices, x, fontsize=12)\n",
    "    ax.set_ylabel(\"Atom type\", fontsize=16)\n",
    "    ax.set_title(f\"LogP={np.round(y, 2)}\", fontsize=24)\n",
    "    plt.show()"
   ]
  },
  {
   "cell_type": "markdown",
   "metadata": {},
   "source": [
    "... and use to visualize the structures of some molecules."
   ]
  },
  {
   "cell_type": "code",
   "execution_count": null,
   "metadata": {},
   "outputs": [],
   "source": [
    "for i in [2, 1235, 9887]:\n",
    "    plot_molecule(molecule=train_dataset[i])"
   ]
  },
  {
   "cell_type": "markdown",
   "metadata": {},
   "source": [
    "### Implementing a Graph Convolutional Network\n",
    "\n",
    "Create a class to implement a graph convolutional network ..."
   ]
  },
  {
   "cell_type": "code",
   "execution_count": 12,
   "metadata": {},
   "outputs": [],
   "source": [
    "class GCN(dl.DeeplayModule):\n",
    "    \"\"\"Graph convolutional network.\"\"\"\n",
    "\n",
    "    def __init__(self, num_node_embedding, embedding_dim, hidden_features, \n",
    "                 out_features):\n",
    "        \"\"\"Initialize graph convolutional network.\"\"\"\n",
    "        super().__init__()\n",
    "\n",
    "        self.node_embedding = dl.Layer(nn.Embedding, num_node_embedding,\n",
    "                                       embedding_dim)\n",
    "\n",
    "        self.blocks = dl.LayerList()\n",
    "        for f_in, f_out in zip([embedding_dim, *hidden_features[:-1]],\n",
    "                               [*hidden_features, out_features]):\n",
    "            self.blocks.append(GCL(f_in, f_out))\n",
    "\n",
    "        self.dense_top = dl.Sequential(\n",
    "            dl.Layer(nn.Linear, hidden_features[-1], hidden_features[-1] // 4),\n",
    "            dl.Layer(nn.ReLU),\n",
    "            dl.Layer(nn.Linear, hidden_features[-1] // 4, out_features),\n",
    "        )\n",
    "        \n",
    "    def forward(self, G):\n",
    "        \"\"\"Calculate forward pass.\"\"\"\n",
    "        G[\"x\"] = self.node_embedding(G[\"x\"])\n",
    "        for block in self.blocks:\n",
    "            G[\"x\"] = block(G[\"A\"], G[\"x\"])\n",
    "        \n",
    "        batch_size = torch.max(G[\"batch\"]) + 1\n",
    "        h = torch.zeros(batch_size, G[\"x\"].shape[1], device=G[\"x\"].device)\n",
    "        h = h.scatter_add(0, G[\"batch\"][:, None].expand_as(G[\"x\"]), G[\"x\"])\n",
    "        h = h / torch.bincount(G[\"batch\"])[:, None]\n",
    "         \n",
    "        return self.dense_top(h).squeeze()"
   ]
  },
  {
   "cell_type": "markdown",
   "metadata": {},
   "source": [
    "... instantiate it ..."
   ]
  },
  {
   "cell_type": "code",
   "execution_count": null,
   "metadata": {},
   "outputs": [],
   "source": [
    "gcn_model = GCN(\n",
    "    num_node_embedding=28, embedding_dim=64, hidden_features=[64, 64, 64, 64], \n",
    "    out_features=1,\n",
    ").create()\n",
    "\n",
    "print(gcn_model)"
   ]
  },
  {
   "cell_type": "markdown",
   "metadata": {},
   "source": [
    "... define the data loaders ..."
   ]
  },
  {
   "cell_type": "code",
   "execution_count": 14,
   "metadata": {},
   "outputs": [],
   "source": [
    "from torch_geometric.loader import DataLoader\n",
    "\n",
    "train_loader = DataLoader(dataset=train_dataset, batch_size=32, shuffle=True)\n",
    "val_loader = DataLoader(dataset=val_dataset, batch_size=32, shuffle=False)\n",
    "test_loader = DataLoader(dataset=test_dataset, batch_size=32, shuffle=False)"
   ]
  },
  {
   "cell_type": "markdown",
   "metadata": {},
   "source": [
    "... implement a class to compile, train, and evaluate the graph convolutional network ..."
   ]
  },
  {
   "cell_type": "code",
   "execution_count": 15,
   "metadata": {},
   "outputs": [],
   "source": [
    "class MolecularRegressor(dl.Regressor):\n",
    "    \"\"\"Molecular regressor.\"\"\"\n",
    "\n",
    "    def __init__(self, model, **kwargs):\n",
    "        \"\"\"Initialize molecular regressor.\"\"\"\n",
    "        super().__init__(model, **kwargs)\n",
    "    \n",
    "    def batch_preprocess(self, batch):\n",
    "        \"\"\"Preprocess batch.\"\"\"\n",
    "        batch[\"x\"] = batch[\"x\"].squeeze()\n",
    "        batch[\"A\"] = to_dense_adj(batch[\"edge_index\"]).squeeze(0)\n",
    "        return batch.to(self.device)\n",
    "    \n",
    "    def forward(self, batch):\n",
    "        \"\"\"Calculate forward pass.\"\"\"\n",
    "        return self.model(self.batch_preprocess(batch))"
   ]
  },
  {
   "cell_type": "markdown",
   "metadata": {},
   "source": [
    "... and train the graph convolutional network."
   ]
  },
  {
   "cell_type": "code",
   "execution_count": null,
   "metadata": {},
   "outputs": [],
   "source": [
    "from lightning.pytorch.callbacks import ModelCheckpoint\n",
    "import os\n",
    "\n",
    "gcn = MolecularRegressor(\n",
    "    gcn_model, loss=nn.L1Loss(), optimizer=dl.Adam(lr=1e-3),\n",
    ").create()\n",
    "checkpoint_callback = ModelCheckpoint(\n",
    "    monitor=\"val_loss\", dirpath=os.path.join(\"models\", \"gcn\"), \n",
    "    filename=\"ZINC-{epoch:02d}-{val_loss:.2f}\", auto_insert_metric_name=False,\n",
    ")\n",
    "trainer = dl.Trainer(max_epochs=400, callbacks=[checkpoint_callback])\n",
    "trainer.fit(gcn, train_loader, val_loader)"
   ]
  },
  {
   "cell_type": "markdown",
   "metadata": {},
   "source": [
    "### Evaluating the Trained Graph Convolutional Network\n",
    "\n",
    "Evaluate the performance of the trained graph convolutional network ..."
   ]
  },
  {
   "cell_type": "code",
   "execution_count": null,
   "metadata": {},
   "outputs": [],
   "source": [
    "import glob\n",
    "\n",
    "best_model_path = glob.glob(os.path.join(\"models\", \"gcn\", \"ZINC-*.ckpt\"))\n",
    "best_model_path = sorted(best_model_path, key=os.path.getmtime)[-1]\n",
    "gcn_best = MolecularRegressor.load_from_checkpoint(\n",
    "    best_model_path, model=gcn_model, loss=nn.L1Loss(), \n",
    ")\n",
    "test_results = trainer.test(gcn_best, test_loader)"
   ]
  },
  {
   "cell_type": "markdown",
   "metadata": {},
   "source": [
    "... obtain the predicted and actual logP ..."
   ]
  },
  {
   "cell_type": "code",
   "execution_count": 18,
   "metadata": {},
   "outputs": [],
   "source": [
    "gts, preds = [], []\n",
    "for batch in test_loader:\n",
    "    y = batch.pop(\"y\")\n",
    "    gts.append(y)\n",
    "    \n",
    "    pred = gcn_best(batch)\n",
    "    preds.append(pred)\n",
    "gts = torch.cat(gts).cpu().numpy()\n",
    "preds = torch.cat(preds).detach().cpu().numpy()"
   ]
  },
  {
   "cell_type": "markdown",
   "metadata": {},
   "source": [
    "... and plot the predicted logP versus their ground truth values."
   ]
  },
  {
   "cell_type": "code",
   "execution_count": null,
   "metadata": {},
   "outputs": [],
   "source": [
    "heatmap, xedges, yedges = np.histogram2d(preds, gts, bins=50)\n",
    "extent = [xedges[0], xedges[-1], yedges[0], yedges[-1]]\n",
    "\n",
    "plt.clf()\n",
    "plt.plot([min(gts), max(gts)], [min(gts), max(gts)], \"r--\")\n",
    "plt.imshow(heatmap.T, extent=extent, origin=\"lower\")\n",
    "plt.xlabel(\"Predicted LogP\")\n",
    "plt.ylabel(\"True LogP\")\n",
    "plt.savefig(\"fig_11_04.pdf\", bbox_inches=\"tight\")  ### plt.show()"
   ]
  },
  {
   "cell_type": "markdown",
   "metadata": {},
   "source": [
    "## Predicting Molecular Properties with Message Passing"
   ]
  },
  {
   "cell_type": "markdown",
   "metadata": {},
   "source": [
    "### Implementing a Message Passing Layer\n",
    "\n",
    "Implement a class to implement a layer to perform the transform step ..."
   ]
  },
  {
   "cell_type": "code",
   "execution_count": 20,
   "metadata": {},
   "outputs": [],
   "source": [
    "class TransformLayer(nn.Module):\n",
    "    \"\"\"Transform layer.\"\"\"\n",
    "\n",
    "    def __init__(self, hidden_features):\n",
    "        \"\"\"Initialize the transform layer.\"\"\"\n",
    "        super().__init__()\n",
    "        self.layer = nn.LazyLinear(hidden_features)\n",
    "        self.activation = nn.ReLU()\n",
    "\n",
    "    def forward(self, G):\n",
    "        \"\"\"Calculate forward pass.\"\"\"\n",
    "        G[\"message\"] = torch.cat([\n",
    "            G[\"x\"][G[\"edge_index\"][0]],  # Source node features.\n",
    "            G[\"x\"][G[\"edge_index\"][1]],  # Target node features.\n",
    "            G[\"edge_attr\"]  # Edge features.\n",
    "            ], dim=-1)\n",
    "        G[\"message\"] = self.layer(G[\"message\"])\n",
    "        G[\"message\"] = self.activation(G[\"message\"])\n",
    "        return G"
   ]
  },
  {
   "cell_type": "markdown",
   "metadata": {},
   "source": [
    "... a class to implement a layer to perform the propagate step ..."
   ]
  },
  {
   "cell_type": "code",
   "execution_count": 21,
   "metadata": {},
   "outputs": [],
   "source": [
    "class PropagateLayer(nn.Module):\n",
    "    \"\"\"PropagateLayer.\"\"\"\n",
    "\n",
    "    def __init__(self, hidden_features):\n",
    "        \"\"\"Initialize propagate layer.\"\"\"\n",
    "        super().__init__()\n",
    "        self.hidden_features = hidden_features\n",
    "\n",
    "    def forward(self, G):\n",
    "        \"\"\"Calculate forward pass.\"\"\"\n",
    "        G[\"aggregate\"] = torch.zeros(G[\"x\"].size(0), self.hidden_features)\n",
    "        G[\"aggregate\"] = G[\"aggregate\"].type_as(G[\"x\"])\n",
    "        G[\"aggregate\"] = G[\"aggregate\"].to(G[\"x\"].device)\n",
    "\n",
    "        indices = G[\"edge_index\"][1].unsqueeze(1).expand_as(G[\"message\"]) \n",
    "        G[\"aggregate\"] = G[\"aggregate\"].scatter_add(0, indices, G[\"message\"])\n",
    "        return G"
   ]
  },
  {
   "cell_type": "markdown",
   "metadata": {},
   "source": [
    "... a class to implement a layer to perform the update step ..."
   ]
  },
  {
   "cell_type": "code",
   "execution_count": 22,
   "metadata": {},
   "outputs": [],
   "source": [
    "class UpdateLayer(nn.Module):\n",
    "    \"\"\"Update layer.\"\"\"\n",
    "\n",
    "    def __init__(self, hidden_features):\n",
    "        \"\"\"Initialize update layer.\"\"\"\n",
    "        super().__init__()\n",
    "        self.layer = nn.LazyLinear(hidden_features)\n",
    "        self.activation = nn.ReLU()\n",
    "\n",
    "    def forward(self, G):\n",
    "        \"\"\"Calculate forward pass.\"\"\"\n",
    "        G[\"x\"] = self.layer(torch.cat([G[\"x\"], G[\"aggregate\"]], dim=-1))\n",
    "        G[\"x\"] = self.activation(G[\"x\"])\n",
    "        G[\"edge_attr\"] = G[\"message\"]\n",
    "        return G"
   ]
  },
  {
   "cell_type": "markdown",
   "metadata": {},
   "source": [
    "... and use them to define a message passing layer."
   ]
  },
  {
   "cell_type": "code",
   "execution_count": null,
   "metadata": {},
   "outputs": [],
   "source": [
    "mpl = dl.Sequential(\n",
    "    dl.Layer(TransformLayer, hidden_features=64),\n",
    "    dl.Layer(PropagateLayer, hidden_features=64),\n",
    "    dl.Layer(UpdateLayer, hidden_features=64),\n",
    ").create()\n",
    "\n",
    "print(mpl)"
   ]
  },
  {
   "cell_type": "markdown",
   "metadata": {},
   "source": [
    "### Implementing a Message Passing Network\n",
    "\n",
    "Create a class to implement a message passing network ..."
   ]
  },
  {
   "cell_type": "code",
   "execution_count": 24,
   "metadata": {},
   "outputs": [],
   "source": [
    "class MPN(dl.DeeplayModule):\n",
    "    \"\"\"Message passing network.\"\"\"\n",
    "\n",
    "    def __init__(self, num_node_embedding, num_edge_embedding, embedding_dim, \n",
    "                 hidden_features, out_features):\n",
    "        \"\"\"Initialize graph convolutional network.\"\"\"\n",
    "        super().__init__()\n",
    "        \n",
    "        self.node_embedding = dl.Layer(nn.Embedding, num_node_embedding,\n",
    "                                       embedding_dim)\n",
    "        self.edge_embedding = dl.Layer(nn.Embedding, num_edge_embedding, \n",
    "                                       embedding_dim)\n",
    "\n",
    "        self.blocks = dl.LayerList()\n",
    "        for f_out in hidden_features:\n",
    "            mpl = dl.Sequential(\n",
    "                dl.Layer(TransformLayer, f_out),\n",
    "                dl.Layer(PropagateLayer, f_out),\n",
    "                dl.Layer(UpdateLayer, f_out),\n",
    "            )\n",
    "            self.blocks.append(mpl)\n",
    "\n",
    "        self.dense_top = dl.Sequential(\n",
    "            dl.Layer(nn.Linear, hidden_features[-1], hidden_features[-1] // 4),\n",
    "            dl.Layer(nn.ReLU),\n",
    "            dl.Layer(nn.Linear, hidden_features[-1] // 4, out_features),\n",
    "        )\n",
    "        \n",
    "    def forward(self, G):\n",
    "        \"\"\"Calculate forward pass.\"\"\"\n",
    "        G[\"x\"] = self.node_embedding(G[\"x\"])\n",
    "        G[\"edge_attr\"] = self.edge_embedding(G[\"edge_attr\"])\n",
    "        for block in self.blocks:\n",
    "            G = block(G)\n",
    "        \n",
    "        batch_size = torch.max(G[\"batch\"]) + 1\n",
    "        h = torch.zeros(batch_size, G[\"x\"].shape[1], device=G[\"x\"].device)\n",
    "        h = h.scatter_add(0, G[\"batch\"][:, None].expand_as(G[\"x\"]), G[\"x\"])\n",
    "        h = h / torch.bincount(G[\"batch\"])[:, None]\n",
    "         \n",
    "        return self.dense_top(h).squeeze()"
   ]
  },
  {
   "cell_type": "markdown",
   "metadata": {},
   "source": [
    "... instantiate the message passing network ..."
   ]
  },
  {
   "cell_type": "code",
   "execution_count": null,
   "metadata": {},
   "outputs": [],
   "source": [
    "mpn_model = MPN(\n",
    "    num_node_embedding=28, num_edge_embedding=4, embedding_dim=64, \n",
    "    hidden_features=[64, 64, 64, 64], out_features=1,\n",
    ").create()\n",
    "\n",
    "print(mpn_model)"
   ]
  },
  {
   "cell_type": "markdown",
   "metadata": {},
   "source": [
    "... train the message passing network ..."
   ]
  },
  {
   "cell_type": "code",
   "execution_count": null,
   "metadata": {},
   "outputs": [],
   "source": [
    "mpn = MolecularRegressor(\n",
    "    mpn_model, loss=nn.L1Loss(), optimizer=dl.Adam(lr=1e-3),\n",
    ").create()\n",
    "checkpoint_callback = ModelCheckpoint(\n",
    "    monitor=\"val_loss\", dirpath=os.path.join(\"models\", \"mpn\"),\n",
    "    filename=\"ZINC-{epoch:02d}-{val_loss:.2f}\",auto_insert_metric_name=False,\n",
    ")\n",
    "trainer = dl.Trainer(max_epochs=400, callbacks=[checkpoint_callback])\n",
    "trainer.fit(mpn, train_loader, val_loader)"
   ]
  },
  {
   "cell_type": "markdown",
   "metadata": {},
   "source": [
    "... evaluate the performance of the trained message passing network ..."
   ]
  },
  {
   "cell_type": "code",
   "execution_count": null,
   "metadata": {},
   "outputs": [],
   "source": [
    "best_model_path = glob.glob(os.path.join(\"models\", \"mpn\", \"ZINC-*.ckpt\"))\n",
    "best_model_path = sorted(best_model_path, key=os.path.getmtime)[-1]\n",
    "mpn_best = MolecularRegressor.load_from_checkpoint(\n",
    "    best_model_path, model=mpn_model, loss=nn.L1Loss(),\n",
    ")\n",
    "test_results = trainer.test(mpn_best, test_loader)"
   ]
  },
  {
   "cell_type": "markdown",
   "metadata": {},
   "source": [
    "... obtaining the predicted and actual logP ..."
   ]
  },
  {
   "cell_type": "code",
   "execution_count": 28,
   "metadata": {},
   "outputs": [],
   "source": [
    "gts, preds = [], []\n",
    "for batch in test_loader:\n",
    "    y = batch.pop(\"y\"); gts.append(y)\n",
    "    pred = mpn_best(batch); preds.append(pred)\n",
    "gts = torch.cat(gts).cpu().numpy()\n",
    "preds = torch.cat(preds).detach().cpu().numpy()"
   ]
  },
  {
   "cell_type": "markdown",
   "metadata": {},
   "source": [
    "... and plot the predicted logP versus their ground truth values."
   ]
  },
  {
   "cell_type": "code",
   "execution_count": null,
   "metadata": {},
   "outputs": [],
   "source": [
    "heatmap, xedges, yedges = np.histogram2d(preds, gts, bins=50)\n",
    "extent = [xedges[0], xedges[-1], yedges[0], yedges[-1]]\n",
    "\n",
    "plt.clf()\n",
    "plt.plot([min(gts), max(gts)], [min(gts), max(gts)], \"r--\")\n",
    "plt.imshow(heatmap.T, extent=extent, origin=\"lower\")\n",
    "plt.xlabel(\"Predicted LogP\")\n",
    "plt.ylabel(\"True LogP\")\n",
    "plt.savefig(\"fig_11_05.pdf\", bbox_inches=\"tight\")  ### plt.show()"
   ]
  },
  {
   "cell_type": "code",
   "execution_count": null,
   "metadata": {},
   "outputs": [],
   "source": []
  }
 ],
 "metadata": {
  "kernelspec": {
   "display_name": "py_env_book",
   "language": "python",
   "name": "python3"
  },
  "language_info": {
   "codemirror_mode": {
    "name": "ipython",
    "version": 3
   },
   "file_extension": ".py",
   "mimetype": "text/x-python",
   "name": "python",
   "nbconvert_exporter": "python",
   "pygments_lexer": "ipython3",
   "version": "3.10.15"
  }
 },
 "nbformat": 4,
 "nbformat_minor": 2
}
