{
 "cells": [
  {
   "cell_type": "markdown",
   "metadata": {},
   "source": [
    "# Predicting Molecular Properties with Graph Neural Networks\n",
    "\n",
    "This notebook provides you with a complete code example to predict the properties of small molecules using graph convolutional layers with message passing."
   ]
  },
  {
   "cell_type": "markdown",
   "metadata": {},
   "source": [
    "## Understanding Graph Convolutions\n",
    "\n",
    "Calculate the adjacency matrix of a simple cycle graph ..."
   ]
  },
  {
   "cell_type": "code",
   "execution_count": 1,
   "metadata": {},
   "outputs": [
    {
     "name": "stdout",
     "output_type": "stream",
     "text": [
      "A:\n",
      " [[0. 1. 0. 0. 0.]\n",
      " [0. 0. 1. 0. 0.]\n",
      " [0. 0. 0. 1. 0.]\n",
      " [0. 0. 0. 0. 1.]\n",
      " [1. 0. 0. 0. 0.]]\n"
     ]
    }
   ],
   "source": [
    "import numpy as np\n",
    "\n",
    "node_num = 5\n",
    "\n",
    "A = np.zeros((node_num, node_num))\n",
    "for i in range(node_num):\n",
    "    for j in range(node_num):\n",
    "        if j % node_num == (i + 1) % node_num:\n",
    "            A[i, j] = 1\n",
    "\n",
    "print(\"A:\\n\", A)"
   ]
  },
  {
   "cell_type": "markdown",
   "metadata": {},
   "source": [
    "... assign node features ..."
   ]
  },
  {
   "cell_type": "code",
   "execution_count": 2,
   "metadata": {},
   "outputs": [
    {
     "name": "stdout",
     "output_type": "stream",
     "text": [
      "x: [1. 0. 0. 0. 0.]\n"
     ]
    }
   ],
   "source": [
    "x = np.zeros(node_num)\n",
    "x[0] = 1\n",
    "\n",
    "print(\"x:\", x)"
   ]
  },
  {
   "cell_type": "markdown",
   "metadata": {},
   "source": [
    "... implement a function to perform a graph convolution ..."
   ]
  },
  {
   "cell_type": "code",
   "execution_count": 3,
   "metadata": {},
   "outputs": [],
   "source": [
    "def graph_convolution(A, x):\n",
    "    \"\"\"Calculate graph convolution.\"\"\"\n",
    "    conv = np.zeros(node_num)\n",
    "    for i in range(node_num):\n",
    "        for j in range(node_num):\n",
    "            conv[j] += A[i, j] * x[i]\n",
    "    return conv"
   ]
  },
  {
   "cell_type": "markdown",
   "metadata": {},
   "source": [
    "... and apply the graph convolution."
   ]
  },
  {
   "cell_type": "code",
   "execution_count": 4,
   "metadata": {},
   "outputs": [
    {
     "name": "stdout",
     "output_type": "stream",
     "text": [
      "Convolution 1:  [0. 1. 0. 0. 0.]\n",
      "Convolution 2:  [0. 0. 1. 0. 0.]\n",
      "Convolution 3:  [0. 0. 0. 1. 0.]\n",
      "Convolution 4:  [0. 0. 0. 0. 1.]\n",
      "Convolution 5:  [1. 0. 0. 0. 0.]\n"
     ]
    }
   ],
   "source": [
    "for c in range(5):\n",
    "    x = graph_convolution(A, x)\n",
    "    print(f\"Convolution {c + 1}: \", x)"
   ]
  },
  {
   "cell_type": "markdown",
   "metadata": {},
   "source": [
    "## Predicting Molecular Properties with Graph Convolutions"
   ]
  },
  {
   "cell_type": "markdown",
   "metadata": {},
   "source": [
    "### Implementing a Graph Convolution Layer\n",
    "\n",
    "Define a class to implement a graph convolution ..."
   ]
  },
  {
   "cell_type": "code",
   "execution_count": 5,
   "metadata": {},
   "outputs": [],
   "source": [
    "import torch.nn as nn\n",
    "\n",
    "class GraphConvolution(nn.Module):\n",
    "    \"\"\"Graph convolution.\"\"\"\n",
    "    \n",
    "    def forward(self, A, x):\n",
    "        \"\"\"Calculate forward pass.\"\"\"\n",
    "        return A @ x"
   ]
  },
  {
   "cell_type": "markdown",
   "metadata": {},
   "source": [
    "... and a class to implement the class convolution layer."
   ]
  },
  {
   "cell_type": "code",
   "execution_count": 6,
   "metadata": {},
   "outputs": [],
   "source": [
    "import deeplay as dl\n",
    "import torch\n",
    "\n",
    "class GCL(dl.DeeplayModule):\n",
    "    \"\"\"Graph convolution layer.\"\"\"\n",
    "    \n",
    "    def __init__(self, in_features, out_features):\n",
    "        \"\"\"Initialize graph convolution layer.\"\"\"\n",
    "        super().__init__()\n",
    "        \n",
    "        self.in_features = in_features\n",
    "        self.out_features = out_features\n",
    "        \n",
    "        self.Transform = dl.Layer(nn.Linear, in_features, out_features)\n",
    "        self.Propagate = dl.Layer(GraphConvolution)\n",
    "        self.Update = dl.Layer(nn.ReLU)\n",
    "\n",
    "    def diagonalize(self, A):\n",
    "        \"\"\"Add diagonal to adjacency matrix.\"\"\"\n",
    "        return A + torch.eye(A.size(0)).to(A.device)\n",
    "    \n",
    "    def normalize(seft, A):\n",
    "        \"\"\"Normalize ajacency matrix.\"\"\"\n",
    "        deg = torch.sum(A, dim=1)\n",
    "        deg = deg.pow(-0.5)\n",
    "        deg[deg == float(\"inf\")] = 0\n",
    "        D = torch.diag(deg)\n",
    "        return D @ A @ D\n",
    "\n",
    "    def forward(self, A, x):\n",
    "        \"\"\"Calculate forward pass.\"\"\"\n",
    "        A = self.diagonalize(A)\n",
    "        A = self.normalize(A)\n",
    "        x = self.Transform(x)\n",
    "        x = self.Propagate(A, x)\n",
    "        x = self.Update(x)\n",
    "        return x"
   ]
  },
  {
   "cell_type": "markdown",
   "metadata": {},
   "source": [
    "### Using the ZINC Dataset\n",
    "\n",
    "Download the ZINC dataset ..."
   ]
  },
  {
   "cell_type": "code",
   "execution_count": 18,
   "metadata": {},
   "outputs": [],
   "source": [
    "from torch_geometric.datasets import ZINC\n",
    "\n",
    "train_dataset = ZINC(root=\"ZINC_dataset/\", subset=True, split=\"train\")\n",
    "val_dataset = ZINC(root=\"ZINC_dataset/\", subset=True, split=\"val\")\n",
    "test_dataset = ZINC(root=\"ZINC_dataset/\", subset=True, split=\"test\")"
   ]
  },
  {
   "cell_type": "markdown",
   "metadata": {},
   "source": [
    "... implement a function to plot the adjacency matrix of a molecule ..."
   ]
  },
  {
   "cell_type": "code",
   "execution_count": 19,
   "metadata": {},
   "outputs": [],
   "source": [
    "import matplotlib.pyplot as plt\n",
    "from matplotlib import colormaps\n",
    "from torch_geometric.utils import to_dense_adj\n",
    "\n",
    "def plot_molecule(molecule):\n",
    "    \"\"\"Plot adjacency matrix of a molecule.\"\"\"\n",
    "    x = molecule[\"x\"].numpy().squeeze()\n",
    "    A = to_dense_adj(molecule[\"edge_index\"]).numpy().squeeze(0)\n",
    "    y = molecule[\"y\"].item()\n",
    "    \n",
    "    fig, ax = plt.subplots()\n",
    "    ax.matshow(A, cmap=colormaps[\"gray\"].reversed())\n",
    "\n",
    "    indices = np.arange(len(x))\n",
    "    ax.set_xticks(indices, x, fontsize=12)\n",
    "    ax.xaxis.set_ticks_position('bottom')\n",
    "    ax.set_xlabel('Atom type', fontsize=16)\n",
    "\n",
    "    ax.set_yticks(indices, x, fontsize=12)\n",
    "    ax.set_ylabel('Atom type', fontsize=16)\n",
    "    \n",
    "    ax.set_title(f\"LogP={np.round(y, 2)}\", fontsize=24)\n",
    "    plt.show()"
   ]
  },
  {
   "cell_type": "markdown",
   "metadata": {},
   "source": [
    "... and use to visualize the structures of some molecules."
   ]
  },
  {
   "cell_type": "code",
   "execution_count": 20,
   "metadata": {},
   "outputs": [
    {
     "ename": "NameError",
     "evalue": "name 'np' is not defined",
     "output_type": "error",
     "traceback": [
      "\u001b[0;31m---------------------------------------------------------------------------\u001b[0m",
      "\u001b[0;31mNameError\u001b[0m                                 Traceback (most recent call last)",
      "Cell \u001b[0;32mIn[20], line 2\u001b[0m\n\u001b[1;32m      1\u001b[0m \u001b[38;5;28;01mfor\u001b[39;00m i \u001b[38;5;129;01min\u001b[39;00m [\u001b[38;5;241m2\u001b[39m, \u001b[38;5;241m1235\u001b[39m, \u001b[38;5;241m9887\u001b[39m]:\n\u001b[0;32m----> 2\u001b[0m     \u001b[43mplot_molecule\u001b[49m\u001b[43m(\u001b[49m\u001b[43mmolecule\u001b[49m\u001b[38;5;241;43m=\u001b[39;49m\u001b[43mtrain_dataset\u001b[49m\u001b[43m[\u001b[49m\u001b[43mi\u001b[49m\u001b[43m]\u001b[49m\u001b[43m)\u001b[49m\n",
      "Cell \u001b[0;32mIn[19], line 14\u001b[0m, in \u001b[0;36mplot_molecule\u001b[0;34m(molecule)\u001b[0m\n\u001b[1;32m     11\u001b[0m fig, ax \u001b[38;5;241m=\u001b[39m plt\u001b[38;5;241m.\u001b[39msubplots()\n\u001b[1;32m     12\u001b[0m ax\u001b[38;5;241m.\u001b[39mmatshow(A, cmap\u001b[38;5;241m=\u001b[39mcolormaps[\u001b[38;5;124m\"\u001b[39m\u001b[38;5;124mgray\u001b[39m\u001b[38;5;124m\"\u001b[39m]\u001b[38;5;241m.\u001b[39mreversed())\n\u001b[0;32m---> 14\u001b[0m indices \u001b[38;5;241m=\u001b[39m \u001b[43mnp\u001b[49m\u001b[38;5;241m.\u001b[39marange(\u001b[38;5;28mlen\u001b[39m(x))\n\u001b[1;32m     15\u001b[0m ax\u001b[38;5;241m.\u001b[39mset_xticks(indices, x, fontsize\u001b[38;5;241m=\u001b[39m\u001b[38;5;241m12\u001b[39m)\n\u001b[1;32m     16\u001b[0m ax\u001b[38;5;241m.\u001b[39mxaxis\u001b[38;5;241m.\u001b[39mset_ticks_position(\u001b[38;5;124m'\u001b[39m\u001b[38;5;124mbottom\u001b[39m\u001b[38;5;124m'\u001b[39m)\n",
      "\u001b[0;31mNameError\u001b[0m: name 'np' is not defined"
     ]
    },
    {
     "data": {
      "image/png": "[encoded data removed]",
      "text/plain": [
       "<Figure size 640x480 with 1 Axes>"
      ]
     },
     "metadata": {},
     "output_type": "display_data"
    }
   ],
   "source": [
    "for i in [2, 1235, 9887]:\n",
    "    plot_molecule(molecule=train_dataset[i])"
   ]
  },
  {
   "cell_type": "markdown",
   "metadata": {},
   "source": [
    "### Implementing a Graph Convolutional Network\n",
    "\n",
    "Create a class to implement a graph convolutional network ..."
   ]
  },
  {
   "cell_type": "code",
   "execution_count": 10,
   "metadata": {},
   "outputs": [],
   "source": [
    "class GCN(dl.DeeplayModule):\n",
    "    \"\"\"Graph convolutional network.\"\"\"\n",
    "\n",
    "    def __init__(self, num_node_embedding, embedding_dim, hidden_features, \n",
    "                 out_features):\n",
    "        \"\"\"Initialize graph convolutional network.\"\"\"\n",
    "        super().__init__()\n",
    "        \n",
    "        self.num_node_embedding = num_node_embedding\n",
    "        self.hidden_features = hidden_features\n",
    "        self.out_features = out_features\n",
    "        \n",
    "        self.node_embedding = dl.Layer(nn.Embedding, num_node_embedding,\n",
    "                                       embedding_dim)\n",
    "        \n",
    "        self.blocks = dl.LayerList()\n",
    "        for f_in, f_out in zip([embedding_dim, *hidden_features[:-1]],\n",
    "                               [*hidden_features, out_features]):\n",
    "            self.blocks.append(GCL(f_in, f_out))\n",
    "        \n",
    "        self.dense_top = dl.Sequential(\n",
    "\t\t\tdl.Layer(nn.Linear, hidden_features[-1], hidden_features[-1] // 4),\n",
    "\t\t\tdl.Layer(nn.ReLU),\n",
    "\t\t\tdl.Layer(nn.Linear, hidden_features[-1] // 4, out_features),\n",
    "\t\t)\n",
    "\n",
    "    def forward(self, G):\n",
    "        \"\"\"Calculate forward pass.\"\"\"\n",
    "        G[\"x\"] = self.node_embedding(G[\"x\"])\n",
    "        for block in self.blocks:\n",
    "            G[\"x\"] = block(G[\"A\"], G[\"x\"])\n",
    "        \n",
    "        batch_size = torch.max(G[\"batch\"]) + 1\n",
    "        h = torch.zeros(batch_size, G[\"x\"].shape[1], device=G[\"x\"].device)\n",
    "        h = h.scatter_add(0, G[\"batch\"][:, None].expand_as(G[\"x\"]), G[\"x\"])\n",
    "        h = h / torch.bincount(G[\"batch\"])[:, None]\n",
    "         \n",
    "        return self.dense_top(h).squeeze()"
   ]
  },
  {
   "cell_type": "markdown",
   "metadata": {},
   "source": [
    "... instantiate it ..."
   ]
  },
  {
   "cell_type": "code",
   "execution_count": 11,
   "metadata": {},
   "outputs": [],
   "source": [
    "gcn_model = GCN(\n",
    "    num_node_embedding=28,\n",
    "    embedding_dim=64,\n",
    "    hidden_features=[64, 64, 64, 64],\n",
    "    out_features=1,\n",
    ").create()\n",
    "\n",
    "print(gcn_model)"
   ]
  },
  {
   "cell_type": "markdown",
   "metadata": {},
   "source": [
    "... define the data loaders ..."
   ]
  },
  {
   "cell_type": "code",
   "execution_count": 21,
   "metadata": {},
   "outputs": [],
   "source": [
    "from torch_geometric.loader import DataLoader\n",
    "\n",
    "train_loader = DataLoader(dataset=train_dataset, batch_size=32, shuffle=True)\n",
    "val_loader = DataLoader(dataset=val_dataset, batch_size=16, shuffle=False)\n",
    "test_loader = DataLoader(dataset=test_dataset, batch_size=32, shuffle=False)"
   ]
  },
  {
   "cell_type": "markdown",
   "metadata": {},
   "source": [
    "... implement a class to compile, train, and evaluate the graph convolutional network ..."
   ]
  },
  {
   "cell_type": "code",
   "execution_count": 22,
   "metadata": {},
   "outputs": [],
   "source": [
    "class MolecularRegressor(dl.Regressor):\n",
    "    \"\"\"Molecular regressor.\"\"\"\n",
    "\n",
    "    def __init__(self, model, **kwargs):\n",
    "        \"\"\"Initialize molecular regressor.\"\"\"\n",
    "        super().__init__(model, **kwargs)\n",
    "    \n",
    "    def batch_preprocess(self, batch):\n",
    "        \"\"\"Preprocess batch.\"\"\"\n",
    "        batch[\"x\"] = batch[\"x\"].squeeze()\n",
    "        batch[\"A\"] = to_dense_adj(batch[\"edge_index\"]).squeeze(0)\n",
    "        return batch.to(self.device)\n",
    "    \n",
    "    def forward(self, batch):\n",
    "        \"\"\"Calculate forward pass.\"\"\"\n",
    "        return self.model(self.batch_preprocess(batch))"
   ]
  },
  {
   "cell_type": "markdown",
   "metadata": {},
   "source": [
    "... and train the graph convolutional network."
   ]
  },
  {
   "cell_type": "code",
   "execution_count": 16,
   "metadata": {},
   "outputs": [
    {
     "name": "stderr",
     "output_type": "stream",
     "text": [
      "/Users/giovannivolpe/Documents/GitHub/DeepLearningCrashCourse/py_env_dlcc/lib/python3.12/site-packages/lightning/pytorch/trainer/connectors/logger_connector/logger_connector.py:75: Starting from v1.9.0, `tensorboardX` has been removed as a dependency of the `lightning.pytorch` package, due to potential conflicts with other packages in the ML ecosystem. For this reason, `logger=True` will use `CSVLogger` as the default logger, unless the `tensorboard` or `tensorboardX` packages are found. Please `pip install lightning[extra]` or one of them to enable TensorBoard support by default\n",
      "Missing logger folder: /Users/giovannivolpe/Documents/GitHub/DeepLearningCrashCourse/Ch11_GNN/lightning_logs\n"
     ]
    },
    {
     "data": {
      "text/html": [
       "<pre style=\"white-space:pre;overflow-x:auto;line-height:normal;font-family:Menlo,'DejaVu Sans Mono',consolas,'Courier New',monospace\">┏━━━┳━━━━━━━━━━━━━━━┳━━━━━━━━━━━━━━━━━━┳━━━━━━━━┓\n",
       "┃<span style=\"color: #800080; text-decoration-color: #800080; font-weight: bold\">   </span>┃<span style=\"color: #800080; text-decoration-color: #800080; font-weight: bold\"> Name          </span>┃<span style=\"color: #800080; text-decoration-color: #800080; font-weight: bold\"> Type             </span>┃<span style=\"color: #800080; text-decoration-color: #800080; font-weight: bold\"> Params </span>┃\n",
       "┡━━━╇━━━━━━━━━━━━━━━╇━━━━━━━━━━━━━━━━━━╇━━━━━━━━┩\n",
       "│<span style=\"color: #7f7f7f; text-decoration-color: #7f7f7f\"> 0 </span>│ loss          │ L1Loss           │      0 │\n",
       "│<span style=\"color: #7f7f7f; text-decoration-color: #7f7f7f\"> 1 </span>│ train_metrics │ MetricCollection │      0 │\n",
       "│<span style=\"color: #7f7f7f; text-decoration-color: #7f7f7f\"> 2 </span>│ val_metrics   │ MetricCollection │      0 │\n",
       "│<span style=\"color: #7f7f7f; text-decoration-color: #7f7f7f\"> 3 </span>│ test_metrics  │ MetricCollection │      0 │\n",
       "│<span style=\"color: #7f7f7f; text-decoration-color: #7f7f7f\"> 4 </span>│ model         │ GCN              │ 19.5 K │\n",
       "│<span style=\"color: #7f7f7f; text-decoration-color: #7f7f7f\"> 5 </span>│ optimizer     │ Adam             │      0 │\n",
       "└───┴───────────────┴──────────────────┴────────┘\n",
       "</pre>\n"
      ],
      "text/plain": [
       "┏━━━┳━━━━━━━━━━━━━━━┳━━━━━━━━━━━━━━━━━━┳━━━━━━━━┓\n",
       "┃\u001b[1;35m \u001b[0m\u001b[1;35m \u001b[0m\u001b[1;35m \u001b[0m┃\u001b[1;35m \u001b[0m\u001b[1;35mName         \u001b[0m\u001b[1;35m \u001b[0m┃\u001b[1;35m \u001b[0m\u001b[1;35mType            \u001b[0m\u001b[1;35m \u001b[0m┃\u001b[1;35m \u001b[0m\u001b[1;35mParams\u001b[0m\u001b[1;35m \u001b[0m┃\n",
       "┡━━━╇━━━━━━━━━━━━━━━╇━━━━━━━━━━━━━━━━━━╇━━━━━━━━┩\n",
       "│\u001b[2m \u001b[0m\u001b[2m0\u001b[0m\u001b[2m \u001b[0m│ loss          │ L1Loss           │      0 │\n",
       "│\u001b[2m \u001b[0m\u001b[2m1\u001b[0m\u001b[2m \u001b[0m│ train_metrics │ MetricCollection │      0 │\n",
       "│\u001b[2m \u001b[0m\u001b[2m2\u001b[0m\u001b[2m \u001b[0m│ val_metrics   │ MetricCollection │      0 │\n",
       "│\u001b[2m \u001b[0m\u001b[2m3\u001b[0m\u001b[2m \u001b[0m│ test_metrics  │ MetricCollection │      0 │\n",
       "│\u001b[2m \u001b[0m\u001b[2m4\u001b[0m\u001b[2m \u001b[0m│ model         │ GCN              │ 19.5 K │\n",
       "│\u001b[2m \u001b[0m\u001b[2m5\u001b[0m\u001b[2m \u001b[0m│ optimizer     │ Adam             │      0 │\n",
       "└───┴───────────────┴──────────────────┴────────┘\n"
      ]
     },
     "metadata": {},
     "output_type": "display_data"
    },
    {
     "data": {
      "text/html": [
       "<pre style=\"white-space:pre;overflow-x:auto;line-height:normal;font-family:Menlo,'DejaVu Sans Mono',consolas,'Courier New',monospace\"><span style=\"font-weight: bold\">Trainable params</span>: 19.5 K                                                                                           \n",
       "<span style=\"font-weight: bold\">Non-trainable params</span>: 0                                                                                            \n",
       "<span style=\"font-weight: bold\">Total params</span>: 19.5 K                                                                                               \n",
       "<span style=\"font-weight: bold\">Total estimated model params size (MB)</span>: 0                                                                          \n",
       "</pre>\n"
      ],
      "text/plain": [
       "\u001b[1mTrainable params\u001b[0m: 19.5 K                                                                                           \n",
       "\u001b[1mNon-trainable params\u001b[0m: 0                                                                                            \n",
       "\u001b[1mTotal params\u001b[0m: 19.5 K                                                                                               \n",
       "\u001b[1mTotal estimated model params size (MB)\u001b[0m: 0                                                                          \n"
      ]
     },
     "metadata": {},
     "output_type": "display_data"
    },
    {
     "data": {
      "application/vnd.jupyter.widget-view+json": {
       "model_id": "3d42d881d8c0499d9f0cd99581129452",
       "version_major": 2,
       "version_minor": 0
      },
      "text/plain": [
       "Output()"
      ]
     },
     "metadata": {},
     "output_type": "display_data"
    },
    {
     "data": {
      "text/html": [
       "<pre style=\"white-space:pre;overflow-x:auto;line-height:normal;font-family:Menlo,'DejaVu Sans Mono',consolas,'Courier New',monospace\">/Users/giovannivolpe/Documents/GitHub/DeepLearningCrashCourse/py_env_dlcc/lib/python3.12/site-packages/lightning/py\n",
       "torch/trainer/connectors/data_connector.py:441: The 'val_dataloader' does not have many workers which may be a \n",
       "bottleneck. Consider increasing the value of the `num_workers` argument` to `num_workers=10` in the `DataLoader` to\n",
       "improve performance.\n",
       "</pre>\n"
      ],
      "text/plain": [
       "/Users/giovannivolpe/Documents/GitHub/DeepLearningCrashCourse/py_env_dlcc/lib/python3.12/site-packages/lightning/py\n",
       "torch/trainer/connectors/data_connector.py:441: The 'val_dataloader' does not have many workers which may be a \n",
       "bottleneck. Consider increasing the value of the `num_workers` argument` to `num_workers=10` in the `DataLoader` to\n",
       "improve performance.\n"
      ]
     },
     "metadata": {},
     "output_type": "display_data"
    },
    {
     "data": {
      "text/html": [
       "<pre style=\"white-space:pre;overflow-x:auto;line-height:normal;font-family:Menlo,'DejaVu Sans Mono',consolas,'Courier New',monospace\">/Users/giovannivolpe/Documents/GitHub/DeepLearningCrashCourse/py_env_dlcc/lib/python3.12/site-packages/lightning/py\n",
       "torch/trainer/connectors/data_connector.py:441: The 'train_dataloader' does not have many workers which may be a \n",
       "bottleneck. Consider increasing the value of the `num_workers` argument` to `num_workers=10` in the `DataLoader` to\n",
       "improve performance.\n",
       "</pre>\n"
      ],
      "text/plain": [
       "/Users/giovannivolpe/Documents/GitHub/DeepLearningCrashCourse/py_env_dlcc/lib/python3.12/site-packages/lightning/py\n",
       "torch/trainer/connectors/data_connector.py:441: The 'train_dataloader' does not have many workers which may be a \n",
       "bottleneck. Consider increasing the value of the `num_workers` argument` to `num_workers=10` in the `DataLoader` to\n",
       "improve performance.\n"
      ]
     },
     "metadata": {},
     "output_type": "display_data"
    },
    {
     "data": {
      "text/html": [
       "<pre style=\"white-space:pre;overflow-x:auto;line-height:normal;font-family:Menlo,'DejaVu Sans Mono',consolas,'Courier New',monospace\"></pre>\n"
      ],
      "text/plain": []
     },
     "metadata": {},
     "output_type": "display_data"
    },
    {
     "data": {
      "text/html": [
       "<pre style=\"white-space:pre;overflow-x:auto;line-height:normal;font-family:Menlo,'DejaVu Sans Mono',consolas,'Courier New',monospace\">\n",
       "</pre>\n"
      ],
      "text/plain": [
       "\n"
      ]
     },
     "metadata": {},
     "output_type": "display_data"
    }
   ],
   "source": [
    "from lightning.pytorch.callbacks import ModelCheckpoint\n",
    "\n",
    "gcn = MolecularRegressor(\n",
    "    gcn_model, loss=nn.L1Loss(), optimizer=dl.Adam(lr=1e-3)\n",
    ").create()\n",
    "\n",
    "checkpoint_callback = ModelCheckpoint(\n",
    "    monitor=\"val_loss\",\n",
    "    dirpath=\"models\",\n",
    "    filename=\"ZINC-GCN-model{epoch:02d}-val_loss{val_loss:.2f}\",\n",
    "    auto_insert_metric_name=False,\n",
    ")\n",
    "trainer = dl.Trainer(max_epochs=400, callbacks=[checkpoint_callback])\n",
    "trainer.fit(gcn, train_loader, val_loader)"
   ]
  },
  {
   "cell_type": "markdown",
   "metadata": {},
   "source": [
    "### Evaluating the Trained Graph Convolutional Network\n",
    "\n",
    "Evaluate the performance of the trained graph convolutional network ..."
   ]
  },
  {
   "cell_type": "code",
   "execution_count": 20,
   "metadata": {},
   "outputs": [
    {
     "data": {
      "application/vnd.jupyter.widget-view+json": {
       "model_id": "3b3c5c98c3174b5aab0c43355c7dbfd8",
       "version_major": 2,
       "version_minor": 0
      },
      "text/plain": [
       "Output()"
      ]
     },
     "metadata": {},
     "output_type": "display_data"
    },
    {
     "name": "stderr",
     "output_type": "stream",
     "text": [
      "/Users/giovannivolpe/Documents/GitHub/DeepLearningCrashCourse/py_env_dlcc/lib/python3.12/site-packages/lightning/pytorch/trainer/connectors/data_connector.py:441: The 'test_dataloader' does not have many workers which may be a bottleneck. Consider increasing the value of the `num_workers` argument` to `num_workers=10` in the `DataLoader` to improve performance.\n"
     ]
    },
    {
     "data": {
      "text/html": [
       "<pre style=\"white-space:pre;overflow-x:auto;line-height:normal;font-family:Menlo,'DejaVu Sans Mono',consolas,'Courier New',monospace\">┏━━━━━━━━━━━━━━━━━━━━━━━━━━━┳━━━━━━━━━━━━━━━━━━━━━━━━━━━┓\n",
       "┃<span style=\"font-weight: bold\">        Test metric        </span>┃<span style=\"font-weight: bold\">       DataLoader 0        </span>┃\n",
       "┡━━━━━━━━━━━━━━━━━━━━━━━━━━━╇━━━━━━━━━━━━━━━━━━━━━━━━━━━┩\n",
       "│<span style=\"color: #008080; text-decoration-color: #008080\">      test_loss_epoch      </span>│<span style=\"color: #800080; text-decoration-color: #800080\">    0.47084325551986694    </span>│\n",
       "└───────────────────────────┴───────────────────────────┘\n",
       "</pre>\n"
      ],
      "text/plain": [
       "┏━━━━━━━━━━━━━━━━━━━━━━━━━━━┳━━━━━━━━━━━━━━━━━━━━━━━━━━━┓\n",
       "┃\u001b[1m \u001b[0m\u001b[1m       Test metric       \u001b[0m\u001b[1m \u001b[0m┃\u001b[1m \u001b[0m\u001b[1m      DataLoader 0       \u001b[0m\u001b[1m \u001b[0m┃\n",
       "┡━━━━━━━━━━━━━━━━━━━━━━━━━━━╇━━━━━━━━━━━━━━━━━━━━━━━━━━━┩\n",
       "│\u001b[36m \u001b[0m\u001b[36m     test_loss_epoch     \u001b[0m\u001b[36m \u001b[0m│\u001b[35m \u001b[0m\u001b[35m   0.47084325551986694   \u001b[0m\u001b[35m \u001b[0m│\n",
       "└───────────────────────────┴───────────────────────────┘\n"
      ]
     },
     "metadata": {},
     "output_type": "display_data"
    },
    {
     "data": {
      "text/html": [
       "<pre style=\"white-space:pre;overflow-x:auto;line-height:normal;font-family:Menlo,'DejaVu Sans Mono',consolas,'Courier New',monospace\"></pre>\n"
      ],
      "text/plain": []
     },
     "metadata": {},
     "output_type": "display_data"
    },
    {
     "data": {
      "text/html": [
       "<pre style=\"white-space:pre;overflow-x:auto;line-height:normal;font-family:Menlo,'DejaVu Sans Mono',consolas,'Courier New',monospace\">\n",
       "</pre>\n"
      ],
      "text/plain": [
       "\n"
      ]
     },
     "metadata": {},
     "output_type": "display_data"
    }
   ],
   "source": [
    "import glob\n",
    "import os\n",
    "\n",
    "best_model_path = glob.glob(os.path.join(\"models\", \"ZINC-GCN-model*.ckpt\"))\n",
    "best_model_path = sorted(best_model_path, key=os.path.getmtime)[-1]\n",
    "gcn_best = MolecularRegressor.load_from_checkpoint(\n",
    "    best_model_path, \n",
    "    model=gcn_model, \n",
    "    loss=nn.L1Loss(),\n",
    ")\n",
    "test_results = trainer.test(gcn_best, test_loader)"
   ]
  },
  {
   "cell_type": "markdown",
   "metadata": {},
   "source": [
    "... obtain the predicted and actual logP ..."
   ]
  },
  {
   "cell_type": "code",
   "execution_count": 23,
   "metadata": {},
   "outputs": [],
   "source": [
    "gts, preds = [], []\n",
    "for batch in test_loader:\n",
    "    y = batch.pop(\"y\")\n",
    "    gts.append(y)\n",
    "    \n",
    "    pred = gcn_best(batch)\n",
    "    preds.append(pred)\n",
    "    \n",
    "gts = torch.cat(gts).cpu().numpy()\n",
    "preds = torch.cat(preds).detach().cpu().numpy()"
   ]
  },
  {
   "cell_type": "markdown",
   "metadata": {},
   "source": [
    "... and plot the predicted logP versus their ground truth values."
   ]
  },
  {
   "cell_type": "code",
   "execution_count": 24,
   "metadata": {},
   "outputs": [
    {
     "data": {
      "image/png": "[encoded data removed]",
      "text/plain": [
       "<Figure size 640x480 with 1 Axes>"
      ]
     },
     "metadata": {},
     "output_type": "display_data"
    }
   ],
   "source": [
    "heatmap, xedges, yedges = np.histogram2d(preds, gts, bins=50)\n",
    "extent = [xedges[0], xedges[-1], yedges[0], yedges[-1]]\n",
    "\n",
    "plt.clf()\n",
    "plt.plot([min(gts), max(gts)], [min(gts), max(gts)], \"r--\")\n",
    "plt.imshow(heatmap.T, extent=extent, origin=\"lower\")\n",
    "plt.xlabel(\"Predicted LogP\")\n",
    "plt.ylabel(\"True LogP\")\n",
    "plt.show()"
   ]
  },
  {
   "cell_type": "markdown",
   "metadata": {},
   "source": [
    "## Predicting Molecular Properties with Message Passing"
   ]
  },
  {
   "cell_type": "markdown",
   "metadata": {},
   "source": [
    "### Implementing a Message Passing Layer\n",
    "\n",
    "Implement a class to implement a layer to perform the transform step ..."
   ]
  },
  {
   "cell_type": "code",
   "execution_count": 7,
   "metadata": {},
   "outputs": [],
   "source": [
    "class TransformLayer(nn.Module):\n",
    "    \"\"\"Transform layer.\"\"\"\n",
    "\n",
    "    def __init__(self, hidden_features):\n",
    "        \"\"\"Initialize the transform layer.\"\"\"\n",
    "        super().__init__()\n",
    "\n",
    "        self.hideen_features = hidden_features\n",
    "        self.layer = nn.LazyLinear(hidden_features)\n",
    "        self.activation = nn.ReLU()\n",
    "\n",
    "    def forward(self, G):\n",
    "        \"\"\"Calculate forward pass.\"\"\"\n",
    "        G[\"message\"] = torch.cat(\n",
    "            [\n",
    "                G[\"x\"][G[\"edge_index\"][0]],\n",
    "                G[\"x\"][G[\"edge_index\"][1]],\n",
    "                G[\"edge_attr\"],\n",
    "            ],\n",
    "            dim=-1,\n",
    "        )\n",
    "        G[\"message\"] = self.layer(G[\"message\"])\n",
    "        G[\"message\"] = self.activation(G[\"message\"])\n",
    "        return G"
   ]
  },
  {
   "cell_type": "markdown",
   "metadata": {},
   "source": [
    "... a class to implement a layer to perform the propagate step ..."
   ]
  },
  {
   "cell_type": "code",
   "execution_count": 8,
   "metadata": {},
   "outputs": [],
   "source": [
    "class PropagateLayer(nn.Module):\n",
    "    \"\"\"PropagateLayer.\"\"\"\n",
    "\n",
    "    def __init__(self, hidden_features):\n",
    "        \"\"\"Initialize propagate layer.\"\"\"\n",
    "        super().__init__()\n",
    "        self.hidden_features = hidden_features\n",
    "\n",
    "    def forward(self, G):\n",
    "        \"\"\"Calculate forward pass.\"\"\"\n",
    "        G[\"aggregate\"] = torch.zeros(G[\"x\"].size(0), self.hidden_features)\n",
    "        G[\"aggregate\"] = G[\"aggregate\"].type_as(G[\"x\"])\n",
    "        G[\"aggregate\"] = G[\"aggregate\"].to(G[\"x\"].device)\n",
    "        \n",
    "        indices = G[\"edge_index\"][1].unsqueeze(1).expand_as(G[\"message\"])\n",
    "        G[\"aggregate\"] = G[\"aggregate\"].scatter_add(0, indices, G[\"message\"])\n",
    "        \n",
    "        return G"
   ]
  },
  {
   "cell_type": "markdown",
   "metadata": {},
   "source": [
    "... a class to implement a layer to perform the update step ..."
   ]
  },
  {
   "cell_type": "code",
   "execution_count": 9,
   "metadata": {},
   "outputs": [],
   "source": [
    "class UpdateLayer(nn.Module):\n",
    "    \"\"\"Update layer.\"\"\"\n",
    "\n",
    "    def __init__(self, hidden_features):\n",
    "        \"\"\"Initialize update layer.\"\"\"\n",
    "        super().__init__()\n",
    "        self.hidden_features = hidden_features\n",
    "        self.layer = nn.LazyLinear(hidden_features)\n",
    "        self.activation = nn.ReLU()\n",
    "\n",
    "    def forward(self, G):\n",
    "        \"\"\"Calculate forward pass.\"\"\"\n",
    "        G[\"x\"] = self.layer(\n",
    "            torch.cat(\n",
    "                [\n",
    "                    G[\"x\"],\n",
    "                    G[\"aggregate\"],\n",
    "                ],\n",
    "                dim=-1,\n",
    "            )\n",
    "        )\n",
    "        G[\"x\"] = self.activation(G[\"x\"])\n",
    "        \n",
    "        G[\"edge_attr\"] = G[\"message\"]\n",
    "\n",
    "        return G"
   ]
  },
  {
   "cell_type": "markdown",
   "metadata": {},
   "source": [
    "... and use them to define a message passing layer."
   ]
  },
  {
   "cell_type": "code",
   "execution_count": 10,
   "metadata": {},
   "outputs": [
    {
     "name": "stdout",
     "output_type": "stream",
     "text": [
      "Sequential(\n",
      "  (0): TransformLayer(\n",
      "    (layer): LazyLinear(in_features=0, out_features=64, bias=True)\n",
      "    (activation): ReLU()\n",
      "  )\n",
      "  (1): PropagateLayer()\n",
      "  (2): UpdateLayer(\n",
      "    (layer): LazyLinear(in_features=0, out_features=64, bias=True)\n",
      "    (activation): ReLU()\n",
      "  )\n",
      ")\n"
     ]
    }
   ],
   "source": [
    "mpl = dl.Sequential(\n",
    "    dl.Layer(TransformLayer, hidden_features=64),\n",
    "    dl.Layer(PropagateLayer, hidden_features=64),\n",
    "    dl.Layer(UpdateLayer, hidden_features=64),\n",
    ").create()\n",
    "\n",
    "print(mpl)"
   ]
  },
  {
   "cell_type": "markdown",
   "metadata": {},
   "source": [
    "### Implementing a Message Passing Network\n",
    "\n",
    "Create a class to implement a message passing network ..."
   ]
  },
  {
   "cell_type": "code",
   "execution_count": 11,
   "metadata": {},
   "outputs": [],
   "source": [
    "class MPN(dl.DeeplayModule):\n",
    "    \"\"\"Message passing network.\"\"\"\n",
    "\n",
    "    def __init__(self, num_node_embedding, num_edge_embeddings, embedding_dim, \n",
    "                 hidden_features, out_features):\n",
    "        \"\"\"Initialize message passing network.\"\"\"\n",
    "        super().__init__()\n",
    "        \n",
    "        self.num_node_embedding = num_node_embedding\n",
    "        self.num_edge_embeddings = num_edge_embeddings\n",
    "        self.hidden_features = hidden_features\n",
    "        self.out_features = out_features\n",
    "        \n",
    "        self.node_embedding = dl.Layer(nn.Embedding, num_node_embedding,\n",
    "                                       embedding_dim)\n",
    "        self.edge_embedding = dl.Layer(nn.Embedding, num_edge_embeddings,\n",
    "                                       embedding_dim)\n",
    "        \n",
    "        self.blocks = dl.LayerList()\n",
    "        for f_out in hidden_features:\n",
    "            mpl = dl.Sequential(\n",
    "                dl.Layer(TransformLayer, f_out),\n",
    "                dl.Layer(PropagateLayer, f_out),\n",
    "                dl.Layer(UpdateLayer, f_out),\n",
    "            )\n",
    "            self.blocks.append(mpl)\n",
    "        \n",
    "        self.dense_top = dl.Sequential(\n",
    "\t\t\tdl.Layer(nn.Linear, hidden_features[-1], hidden_features[-1] // 4),\n",
    "\t\t\tdl.Layer(nn.ReLU),\n",
    "\t\t\tdl.Layer(nn.Linear, hidden_features[-1] // 4, out_features),\n",
    "\t\t)\n",
    "\n",
    "    def forward(self, G):\n",
    "        \"\"\"Calculate forward pass.\"\"\"\n",
    "        G[\"x\"] = self.node_embedding(G[\"x\"])\n",
    "        G[\"edge_attr\"] = self.edge_embedding(G[\"edge_attr\"])\n",
    "        for block in self.blocks:\n",
    "            G = block(G)\n",
    "        \n",
    "        batch_size = torch.max(G[\"batch\"]) + 1\n",
    "        h = torch.zeros(batch_size, G[\"x\"].shape[1], device=G[\"x\"].device)\n",
    "        h = h.scatter_add(0, G[\"batch\"][:, None].expand_as(G[\"x\"]), G[\"x\"])\n",
    "        h = h / torch.bincount(G[\"batch\"])[:, None]\n",
    "         \n",
    "        return self.dense_top(h).squeeze()"
   ]
  },
  {
   "cell_type": "markdown",
   "metadata": {},
   "source": [
    "... instantiate the message passing network ..."
   ]
  },
  {
   "cell_type": "code",
   "execution_count": 12,
   "metadata": {},
   "outputs": [
    {
     "name": "stdout",
     "output_type": "stream",
     "text": [
      "MPN(\n",
      "  (node_embedding): Embedding(28, 64)\n",
      "  (edge_embedding): Embedding(4, 64)\n",
      "  (blocks): LayerList(\n",
      "    (0-3): 4 x Sequential(\n",
      "      (0): TransformLayer(\n",
      "        (layer): LazyLinear(in_features=0, out_features=64, bias=True)\n",
      "        (activation): ReLU()\n",
      "      )\n",
      "      (1): PropagateLayer()\n",
      "      (2): UpdateLayer(\n",
      "        (layer): LazyLinear(in_features=0, out_features=64, bias=True)\n",
      "        (activation): ReLU()\n",
      "      )\n",
      "    )\n",
      "  )\n",
      "  (dense_top): Sequential(\n",
      "    (0): Linear(in_features=64, out_features=16, bias=True)\n",
      "    (1): ReLU()\n",
      "    (2): Linear(in_features=16, out_features=1, bias=True)\n",
      "  )\n",
      ")\n"
     ]
    }
   ],
   "source": [
    "mpn_model = MPN(\n",
    "    num_node_embedding=28,\n",
    "    num_edge_embeddings=4,\n",
    "    embedding_dim=64,\n",
    "    hidden_features=[64, 64, 64, 64],\n",
    "    out_features=1,\n",
    ").create()\n",
    "\n",
    "print(mpn_model)"
   ]
  },
  {
   "cell_type": "markdown",
   "metadata": {},
   "source": [
    "... train the message passing network ..."
   ]
  },
  {
   "cell_type": "code",
   "execution_count": 23,
   "metadata": {},
   "outputs": [
    {
     "name": "stderr",
     "output_type": "stream",
     "text": [
      "/Users/giovannivolpe/Documents/GitHub/DeepLearningCrashCourse/py_env_dlcc/lib/python3.12/site-packages/lightning/pytorch/callbacks/model_checkpoint.py:653: Checkpoint directory /Users/giovannivolpe/Documents/GitHub/DeepLearningCrashCourse/Ch11_GNN/models exists and is not empty.\n",
      "/Users/giovannivolpe/Documents/GitHub/DeepLearningCrashCourse/py_env_dlcc/lib/python3.12/site-packages/lightning/pytorch/utilities/model_summary/model_summary.py:454: A layer with UninitializedParameter was found. Thus, the total number of parameters detected may be inaccurate.\n"
     ]
    },
    {
     "data": {
      "text/html": [
       "<pre style=\"white-space:pre;overflow-x:auto;line-height:normal;font-family:Menlo,'DejaVu Sans Mono',consolas,'Courier New',monospace\">┏━━━┳━━━━━━━━━━━━━━━┳━━━━━━━━━━━━━━━━━━┳━━━━━━━━┓\n",
       "┃<span style=\"color: #800080; text-decoration-color: #800080; font-weight: bold\">   </span>┃<span style=\"color: #800080; text-decoration-color: #800080; font-weight: bold\"> Name          </span>┃<span style=\"color: #800080; text-decoration-color: #800080; font-weight: bold\"> Type             </span>┃<span style=\"color: #800080; text-decoration-color: #800080; font-weight: bold\"> Params </span>┃\n",
       "┡━━━╇━━━━━━━━━━━━━━━╇━━━━━━━━━━━━━━━━━━╇━━━━━━━━┩\n",
       "│<span style=\"color: #7f7f7f; text-decoration-color: #7f7f7f\"> 0 </span>│ loss          │ L1Loss           │      0 │\n",
       "│<span style=\"color: #7f7f7f; text-decoration-color: #7f7f7f\"> 1 </span>│ train_metrics │ MetricCollection │      0 │\n",
       "│<span style=\"color: #7f7f7f; text-decoration-color: #7f7f7f\"> 2 </span>│ val_metrics   │ MetricCollection │      0 │\n",
       "│<span style=\"color: #7f7f7f; text-decoration-color: #7f7f7f\"> 3 </span>│ test_metrics  │ MetricCollection │      0 │\n",
       "│<span style=\"color: #7f7f7f; text-decoration-color: #7f7f7f\"> 4 </span>│ model         │ MPN              │  3.1 K │\n",
       "│<span style=\"color: #7f7f7f; text-decoration-color: #7f7f7f\"> 5 </span>│ optimizer     │ Adam             │      0 │\n",
       "└───┴───────────────┴──────────────────┴────────┘\n",
       "</pre>\n"
      ],
      "text/plain": [
       "┏━━━┳━━━━━━━━━━━━━━━┳━━━━━━━━━━━━━━━━━━┳━━━━━━━━┓\n",
       "┃\u001b[1;35m \u001b[0m\u001b[1;35m \u001b[0m\u001b[1;35m \u001b[0m┃\u001b[1;35m \u001b[0m\u001b[1;35mName         \u001b[0m\u001b[1;35m \u001b[0m┃\u001b[1;35m \u001b[0m\u001b[1;35mType            \u001b[0m\u001b[1;35m \u001b[0m┃\u001b[1;35m \u001b[0m\u001b[1;35mParams\u001b[0m\u001b[1;35m \u001b[0m┃\n",
       "┡━━━╇━━━━━━━━━━━━━━━╇━━━━━━━━━━━━━━━━━━╇━━━━━━━━┩\n",
       "│\u001b[2m \u001b[0m\u001b[2m0\u001b[0m\u001b[2m \u001b[0m│ loss          │ L1Loss           │      0 │\n",
       "│\u001b[2m \u001b[0m\u001b[2m1\u001b[0m\u001b[2m \u001b[0m│ train_metrics │ MetricCollection │      0 │\n",
       "│\u001b[2m \u001b[0m\u001b[2m2\u001b[0m\u001b[2m \u001b[0m│ val_metrics   │ MetricCollection │      0 │\n",
       "│\u001b[2m \u001b[0m\u001b[2m3\u001b[0m\u001b[2m \u001b[0m│ test_metrics  │ MetricCollection │      0 │\n",
       "│\u001b[2m \u001b[0m\u001b[2m4\u001b[0m\u001b[2m \u001b[0m│ model         │ MPN              │  3.1 K │\n",
       "│\u001b[2m \u001b[0m\u001b[2m5\u001b[0m\u001b[2m \u001b[0m│ optimizer     │ Adam             │      0 │\n",
       "└───┴───────────────┴──────────────────┴────────┘\n"
      ]
     },
     "metadata": {},
     "output_type": "display_data"
    },
    {
     "data": {
      "text/html": [
       "<pre style=\"white-space:pre;overflow-x:auto;line-height:normal;font-family:Menlo,'DejaVu Sans Mono',consolas,'Courier New',monospace\"><span style=\"font-weight: bold\">Trainable params</span>: 3.1 K                                                                                            \n",
       "<span style=\"font-weight: bold\">Non-trainable params</span>: 0                                                                                            \n",
       "<span style=\"font-weight: bold\">Total params</span>: 3.1 K                                                                                                \n",
       "<span style=\"font-weight: bold\">Total estimated model params size (MB)</span>: 0                                                                          \n",
       "</pre>\n"
      ],
      "text/plain": [
       "\u001b[1mTrainable params\u001b[0m: 3.1 K                                                                                            \n",
       "\u001b[1mNon-trainable params\u001b[0m: 0                                                                                            \n",
       "\u001b[1mTotal params\u001b[0m: 3.1 K                                                                                                \n",
       "\u001b[1mTotal estimated model params size (MB)\u001b[0m: 0                                                                          \n"
      ]
     },
     "metadata": {},
     "output_type": "display_data"
    },
    {
     "data": {
      "application/vnd.jupyter.widget-view+json": {
       "model_id": "06e4ff152ff4499191d48b3a961c53df",
       "version_major": 2,
       "version_minor": 0
      },
      "text/plain": [
       "Output()"
      ]
     },
     "metadata": {},
     "output_type": "display_data"
    },
    {
     "data": {
      "text/html": [
       "<pre style=\"white-space:pre;overflow-x:auto;line-height:normal;font-family:Menlo,'DejaVu Sans Mono',consolas,'Courier New',monospace\">/Users/giovannivolpe/Documents/GitHub/DeepLearningCrashCourse/py_env_dlcc/lib/python3.12/site-packages/lightning/py\n",
       "torch/trainer/connectors/data_connector.py:441: The 'val_dataloader' does not have many workers which may be a \n",
       "bottleneck. Consider increasing the value of the `num_workers` argument` to `num_workers=10` in the `DataLoader` to\n",
       "improve performance.\n",
       "</pre>\n"
      ],
      "text/plain": [
       "/Users/giovannivolpe/Documents/GitHub/DeepLearningCrashCourse/py_env_dlcc/lib/python3.12/site-packages/lightning/py\n",
       "torch/trainer/connectors/data_connector.py:441: The 'val_dataloader' does not have many workers which may be a \n",
       "bottleneck. Consider increasing the value of the `num_workers` argument` to `num_workers=10` in the `DataLoader` to\n",
       "improve performance.\n"
      ]
     },
     "metadata": {},
     "output_type": "display_data"
    },
    {
     "data": {
      "text/html": [
       "<pre style=\"white-space:pre;overflow-x:auto;line-height:normal;font-family:Menlo,'DejaVu Sans Mono',consolas,'Courier New',monospace\">/Users/giovannivolpe/Documents/GitHub/DeepLearningCrashCourse/py_env_dlcc/lib/python3.12/site-packages/lightning/py\n",
       "torch/trainer/connectors/data_connector.py:441: The 'train_dataloader' does not have many workers which may be a \n",
       "bottleneck. Consider increasing the value of the `num_workers` argument` to `num_workers=10` in the `DataLoader` to\n",
       "improve performance.\n",
       "</pre>\n"
      ],
      "text/plain": [
       "/Users/giovannivolpe/Documents/GitHub/DeepLearningCrashCourse/py_env_dlcc/lib/python3.12/site-packages/lightning/py\n",
       "torch/trainer/connectors/data_connector.py:441: The 'train_dataloader' does not have many workers which may be a \n",
       "bottleneck. Consider increasing the value of the `num_workers` argument` to `num_workers=10` in the `DataLoader` to\n",
       "improve performance.\n"
      ]
     },
     "metadata": {},
     "output_type": "display_data"
    },
    {
     "data": {
      "text/html": [
       "<pre style=\"white-space:pre;overflow-x:auto;line-height:normal;font-family:Menlo,'DejaVu Sans Mono',consolas,'Courier New',monospace\"></pre>\n"
      ],
      "text/plain": []
     },
     "metadata": {},
     "output_type": "display_data"
    },
    {
     "data": {
      "text/html": [
       "<pre style=\"white-space:pre;overflow-x:auto;line-height:normal;font-family:Menlo,'DejaVu Sans Mono',consolas,'Courier New',monospace\">\n",
       "</pre>\n"
      ],
      "text/plain": [
       "\n"
      ]
     },
     "metadata": {},
     "output_type": "display_data"
    }
   ],
   "source": [
    "mpn = MolecularRegressor(\n",
    "    mpn_model, loss=nn.L1Loss(), optimizer=dl.Adam(lr=1e-3)\n",
    ").create()\n",
    "\n",
    "checkpoint_callback = ModelCheckpoint(\n",
    "    monitor=\"val_loss\",\n",
    "    dirpath=\"models\",\n",
    "    filename=\"ZINC-GCN-model{epoch:02d}-val_loss{val_loss:.2f}\",\n",
    "    auto_insert_metric_name=False,\n",
    ")\n",
    "trainer = dl.Trainer(max_epochs=400, callbacks=[checkpoint_callback])\n",
    "trainer.fit(mpn, train_loader, val_loader)"
   ]
  },
  {
   "cell_type": "markdown",
   "metadata": {},
   "source": [
    "... evaluate the performance of the trained message passing network ..."
   ]
  },
  {
   "cell_type": "code",
   "execution_count": 26,
   "metadata": {},
   "outputs": [
    {
     "data": {
      "application/vnd.jupyter.widget-view+json": {
       "model_id": "6171b8f1c5434c25b6813abbdd433f72",
       "version_major": 2,
       "version_minor": 0
      },
      "text/plain": [
       "Output()"
      ]
     },
     "metadata": {},
     "output_type": "display_data"
    },
    {
     "name": "stderr",
     "output_type": "stream",
     "text": [
      "/Users/giovannivolpe/Documents/GitHub/DeepLearningCrashCourse/py_env_dlcc/lib/python3.12/site-packages/lightning/pytorch/trainer/connectors/data_connector.py:441: The 'test_dataloader' does not have many workers which may be a bottleneck. Consider increasing the value of the `num_workers` argument` to `num_workers=10` in the `DataLoader` to improve performance.\n"
     ]
    },
    {
     "data": {
      "text/html": [
       "<pre style=\"white-space:pre;overflow-x:auto;line-height:normal;font-family:Menlo,'DejaVu Sans Mono',consolas,'Courier New',monospace\">┏━━━━━━━━━━━━━━━━━━━━━━━━━━━┳━━━━━━━━━━━━━━━━━━━━━━━━━━━┓\n",
       "┃<span style=\"font-weight: bold\">        Test metric        </span>┃<span style=\"font-weight: bold\">       DataLoader 0        </span>┃\n",
       "┡━━━━━━━━━━━━━━━━━━━━━━━━━━━╇━━━━━━━━━━━━━━━━━━━━━━━━━━━┩\n",
       "│<span style=\"color: #008080; text-decoration-color: #008080\">      test_loss_epoch      </span>│<span style=\"color: #800080; text-decoration-color: #800080\">    0.22786061465740204    </span>│\n",
       "└───────────────────────────┴───────────────────────────┘\n",
       "</pre>\n"
      ],
      "text/plain": [
       "┏━━━━━━━━━━━━━━━━━━━━━━━━━━━┳━━━━━━━━━━━━━━━━━━━━━━━━━━━┓\n",
       "┃\u001b[1m \u001b[0m\u001b[1m       Test metric       \u001b[0m\u001b[1m \u001b[0m┃\u001b[1m \u001b[0m\u001b[1m      DataLoader 0       \u001b[0m\u001b[1m \u001b[0m┃\n",
       "┡━━━━━━━━━━━━━━━━━━━━━━━━━━━╇━━━━━━━━━━━━━━━━━━━━━━━━━━━┩\n",
       "│\u001b[36m \u001b[0m\u001b[36m     test_loss_epoch     \u001b[0m\u001b[36m \u001b[0m│\u001b[35m \u001b[0m\u001b[35m   0.22786061465740204   \u001b[0m\u001b[35m \u001b[0m│\n",
       "└───────────────────────────┴───────────────────────────┘\n"
      ]
     },
     "metadata": {},
     "output_type": "display_data"
    },
    {
     "data": {
      "text/html": [
       "<pre style=\"white-space:pre;overflow-x:auto;line-height:normal;font-family:Menlo,'DejaVu Sans Mono',consolas,'Courier New',monospace\"></pre>\n"
      ],
      "text/plain": []
     },
     "metadata": {},
     "output_type": "display_data"
    },
    {
     "data": {
      "text/html": [
       "<pre style=\"white-space:pre;overflow-x:auto;line-height:normal;font-family:Menlo,'DejaVu Sans Mono',consolas,'Courier New',monospace\">\n",
       "</pre>\n"
      ],
      "text/plain": [
       "\n"
      ]
     },
     "metadata": {},
     "output_type": "display_data"
    }
   ],
   "source": [
    "best_model_path = glob.glob(os.path.join(\"models\", \"ZINC-GCN-model*.ckpt\"))\n",
    "best_model_path = sorted(best_model_path, key=os.path.getmtime)[-1]\n",
    "mpn_best = MolecularRegressor.load_from_checkpoint(\n",
    "    best_model_path, \n",
    "    model=mpn_model, \n",
    "    loss=nn.L1Loss(),\n",
    ")\n",
    "test_results = trainer.test(mpn_best, test_loader)"
   ]
  },
  {
   "cell_type": "markdown",
   "metadata": {},
   "source": [
    "... obtaining the predicted and actual logP ..."
   ]
  },
  {
   "cell_type": "code",
   "execution_count": 28,
   "metadata": {},
   "outputs": [],
   "source": [
    "gts, preds = [], []\n",
    "for batch in test_loader:\n",
    "    y = batch.pop(\"y\")\n",
    "    gts.append(y)\n",
    "    \n",
    "    pred = mpn_best(batch)\n",
    "    preds.append(pred)\n",
    "\n",
    "gts = torch.cat(gts).cpu().numpy()\n",
    "preds = torch.cat(preds).detach().cpu().numpy()"
   ]
  },
  {
   "cell_type": "markdown",
   "metadata": {},
   "source": [
    "... and plot the predicted logP versus their ground truth values."
   ]
  },
  {
   "cell_type": "code",
   "execution_count": 31,
   "metadata": {},
   "outputs": [
    {
     "data": {
      "image/png": "[encoded data removed]",
      "text/plain": [
       "<Figure size 640x480 with 1 Axes>"
      ]
     },
     "metadata": {},
     "output_type": "display_data"
    }
   ],
   "source": [
    "heatmap, xedges, yedges = np.histogram2d(preds, gts, bins=50)\n",
    "extent = [xedges[0], xedges[-1], yedges[0], yedges[-1]]\n",
    "\n",
    "plt.clf()\n",
    "plt.plot([min(gts), max(gts)], [min(gts), max(gts)], \"r--\")\n",
    "plt.imshow(heatmap.T, extent=extent, origin=\"lower\")\n",
    "plt.xlabel(\"Predicted LogP\")\n",
    "plt.ylabel(\"True LogP\")\n",
    "plt.show()"
   ]
  },
  {
   "cell_type": "code",
   "execution_count": null,
   "metadata": {},
   "outputs": [],
   "source": []
  }
 ],
 "metadata": {
  "kernelspec": {
   "display_name": "py_env_dlcc",
   "language": "python",
   "name": "python3"
  },
  "language_info": {
   "codemirror_mode": {
    "name": "ipython",
    "version": 3
   },
   "file_extension": ".py",
   "mimetype": "text/x-python",
   "name": "python",
   "nbconvert_exporter": "python",
   "pygments_lexer": "ipython3",
   "version": "3.12.2"
  }
 },
 "nbformat": 4,
 "nbformat_minor": 2
}
