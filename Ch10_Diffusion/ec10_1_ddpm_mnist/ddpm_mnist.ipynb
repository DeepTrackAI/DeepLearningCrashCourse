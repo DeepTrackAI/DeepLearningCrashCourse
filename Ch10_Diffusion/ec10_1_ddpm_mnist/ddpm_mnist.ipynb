{
 "cells": [
  {
   "cell_type": "markdown",
   "metadata": {},
   "source": [
    "# Generating Digits with a Diffusion Model\n",
    "\n",
    "This notebook provides you with a complete code example to generate MNIST digits with a diffusion model."
   ]
  },
  {
   "cell_type": "markdown",
   "metadata": {},
   "source": [
    "## Loading the MNIST Dataset with PyTorch\n",
    "\n",
    "Implement the normalization of the digits ..."
   ]
  },
  {
   "cell_type": "code",
   "execution_count": 1,
   "metadata": {},
   "outputs": [],
   "source": [
    "from torchvision.transforms import Compose, Normalize, ToTensor\n",
    "\n",
    "trans = Compose([ToTensor(), Normalize(mean=[0.5], std=[0.5], inplace=True)])"
   ]
  },
  {
   "cell_type": "markdown",
   "metadata": {},
   "source": [
    "... import the MNIST digits ..."
   ]
  },
  {
   "cell_type": "code",
   "execution_count": 2,
   "metadata": {},
   "outputs": [],
   "source": [
    "from torchvision.datasets import MNIST\n",
    "\n",
    "trainset = MNIST(root=\"data\", train=True, transform=trans, download=True)"
   ]
  },
  {
   "cell_type": "markdown",
   "metadata": {},
   "source": [
    "... and plot some of the transformed MNIST digits."
   ]
  },
  {
   "cell_type": "code",
   "execution_count": null,
   "metadata": {},
   "outputs": [],
   "source": [
    "import torch\n",
    "import matplotlib.pyplot as plt\n",
    "\n",
    "fig, axs = plt.subplots(1, 8, figsize=(15, 3))\n",
    "for ax in axs.ravel():\n",
    "    img, label = trainset[torch.randint(0, len(trainset), (1,)).squeeze()]\n",
    "    ax.imshow(img.squeeze(), cmap=\"gray\")\n",
    "    ax.set_title(f\"Label: {label}\", fontsize=16)\n",
    "    ax.axis(\"off\")\n",
    "plt.tight_layout()\n",
    "plt.show()"
   ]
  },
  {
   "cell_type": "markdown",
   "metadata": {},
   "source": [
    "## Implementing the Forward Process\n",
    "\n",
    "Define the device on which the computations are performed ..."
   ]
  },
  {
   "cell_type": "code",
   "execution_count": 4,
   "metadata": {},
   "outputs": [],
   "source": [
    "import torch\n",
    "\n",
    "def get_device():\n",
    "    \"\"\"Select device where to perform computations.\"\"\"\n",
    "    if torch.cuda.is_available():\n",
    "        return torch.device(\"cuda:0\")\n",
    "    elif torch.backends.mps.is_available():\n",
    "        return torch.device(\"mps\")\n",
    "    else:\n",
    "        return torch.device(\"cpu\")"
   ]
  },
  {
   "cell_type": "code",
   "execution_count": 5,
   "metadata": {},
   "outputs": [],
   "source": [
    "device = get_device()"
   ]
  },
  {
   "cell_type": "code",
   "execution_count": null,
   "metadata": {},
   "outputs": [],
   "source": [
    "print(device)"
   ]
  },
  {
   "cell_type": "markdown",
   "metadata": {},
   "source": [
    "... implement the forward diffusion process ..."
   ]
  },
  {
   "cell_type": "code",
   "execution_count": 7,
   "metadata": {},
   "outputs": [],
   "source": [
    "class Diffusion:\n",
    "    \"\"\"Denoising diffusion probabilstic model (DDPM).\"\"\"\n",
    "    \n",
    "    def __init__(self, noise_steps=1000, beta_start=1e-4, beta_end=0.02,\n",
    "                 device=device):\n",
    "        \"\"\"Initialize the diffusion model.\"\"\"\n",
    "        self.noise_steps, self.beta_start, self.beta_end, self.device = \\\n",
    "            noise_steps, beta_start, beta_end, device\n",
    "\n",
    "        self.beta = self.prepare_noise_schedule().to(device)\n",
    "        self.alpha = 1.0 - self.beta\n",
    "        self.alpha_bar = torch.cumprod(self.alpha, dim=0)\n",
    "\n",
    "    def prepare_noise_schedule(self):\n",
    "        \"\"\"Prepare the noise schedule.\"\"\"\n",
    "        return torch.linspace(self.beta_start, self.beta_end, self.noise_steps)\n",
    "\n",
    "    def forward_diffusion(self, x, t):\n",
    "        \"\"\"Implement the forward diffusion process.\"\"\"\n",
    "        sqrt_alpha_bar = torch.sqrt(self.alpha_bar[t])[:, None, None, None]\n",
    "        sqrt_one_minus_alpha_bar = \\\n",
    "            torch.sqrt(1 - self.alpha_bar[t])[:, None, None, None]\n",
    "        noise = torch.randn_like(x)\n",
    "\n",
    "        return sqrt_alpha_bar * x + sqrt_one_minus_alpha_bar * noise, noise"
   ]
  },
  {
   "cell_type": "markdown",
   "metadata": {},
   "source": [
    "... sampling images in the forward diffusion process .."
   ]
  },
  {
   "cell_type": "code",
   "execution_count": 8,
   "metadata": {},
   "outputs": [],
   "source": [
    "diffusion = Diffusion(noise_steps=401, beta_start=0.0001, beta_end=0.02)\n",
    "\n",
    "clean_image, label = trainset[torch.randint(0, len(trainset), (1,)).squeeze()]\n",
    "\n",
    "time_steps = [0, 100, 200, 300, 400]\n",
    "noisy_images = []\n",
    "for i in range(len(time_steps)):\n",
    "    noisy_image, noise = diffusion.forward_diffusion(\n",
    "        x=clean_image[None, ...].to(device), \n",
    "        t=torch.tensor([time_steps[i]]).to(device)\n",
    "    )\n",
    "    noisy_images.append(noisy_image)"
   ]
  },
  {
   "cell_type": "markdown",
   "metadata": {},
   "source": [
    "... and visualize the noisy digits generated in the forward diffusion process."
   ]
  },
  {
   "cell_type": "code",
   "execution_count": null,
   "metadata": {},
   "outputs": [],
   "source": [
    "fig, axs = plt.subplots(1, len(time_steps))\n",
    "for i, ax in enumerate(axs.flatten()):\n",
    "    ax.imshow(noisy_images[i].cpu().numpy().squeeze(), cmap=\"gray\")\n",
    "    ax.set_title(f\"t = {time_steps[i]}\", fontsize=10)\n",
    "    ax.axis(\"off\")\n",
    "plt.tight_layout()\n",
    "plt.show()"
   ]
  },
  {
   "cell_type": "markdown",
   "metadata": {},
   "source": [
    "## Implementing the Reverse Diffusion Process\n",
    "\n",
    "Update the `Diffusion` class to implement the reverse diffusion process."
   ]
  },
  {
   "cell_type": "code",
   "execution_count": 10,
   "metadata": {},
   "outputs": [],
   "source": [
    "from tqdm import tqdm\n",
    "\n",
    "class Diffusion:\n",
    "    \"\"\"Denoising diffusion probabilstic model (DDPM).\"\"\"\n",
    "    \n",
    "    def __init__(self, noise_steps=1000, beta_start=1e-4, beta_end=0.02,\n",
    "                 img_size=28, device=device):\n",
    "        \"\"\"Initialize the diffusion model.\"\"\"\n",
    "        self.noise_steps, self.beta_start, self.beta_end, self.device = \\\n",
    "            noise_steps, beta_start, beta_end, device\n",
    "\n",
    "        self.beta = self.prepare_noise_schedule().to(device)\n",
    "        self.alpha = 1.0 - self.beta\n",
    "        self.alpha_bar = torch.cumprod(self.alpha, dim=0)\n",
    "        \n",
    "        self.img_size = img_size\n",
    "\n",
    "    def prepare_noise_schedule(self):\n",
    "        \"\"\"Prepare the noise schedule.\"\"\"\n",
    "        return torch.linspace(self.beta_start, self.beta_end, self.noise_steps)\n",
    "\n",
    "    def forward_diffusion(self, x, t):\n",
    "        \"\"\"Implement the forward diffusion process.\"\"\"\n",
    "        sqrt_alpha_bar = torch.sqrt(self.alpha_bar[t])[:, None, None, None]\n",
    "        sqrt_one_minus_alpha_bar = \\\n",
    "            torch.sqrt(1 - self.alpha_bar[t])[:, None, None, None]\n",
    "        noise = torch.randn_like(x)\n",
    "\n",
    "        return sqrt_alpha_bar * x + sqrt_one_minus_alpha_bar * noise, noise\n",
    "    \n",
    "    def reverse_diffusion(self, model, n_images, n_channels, \n",
    "                          position_encoding_dim, position_encoding_function,\n",
    "                          fix_noise=None, save_time_steps=None):\n",
    "        \"\"\"Reverse diffusion process\"\"\"\n",
    "        with torch.no_grad():\n",
    "            if fix_noise is not None:\n",
    "                x = fix_noise.to(self.device)\n",
    "            else:\n",
    "                x = torch.randn(\n",
    "                    (n_images, n_channels, self.img_size, self.img_size)\n",
    "                ).to(self.device)\n",
    "            \n",
    "            denoised_images = []\n",
    "            for i in tqdm(reversed(range(0, self.noise_steps)),\n",
    "                          desc=\"U-Net inference\", total=self.noise_steps):\n",
    "                t = (torch.ones(n_images) * i).long()\n",
    "                t_pos_enc = position_encoding_function(\n",
    "                    t.unsqueeze(1), position_encoding_dim\n",
    "                ).to(self.device)\n",
    "\n",
    "                predicted_noise = model(x=x, t=t_pos_enc)\n",
    "\n",
    "                alpha = self.alpha[t][:, None, None, None]\n",
    "                alpha_bar = self.alpha_bar[t][:, None, None, None]\n",
    "                \n",
    "                noise = torch.randn_like(x) if i > 0 else torch.zeros_like(x)\n",
    "                    \n",
    "                x = (1 / torch.sqrt(alpha) * (x - ((1 - alpha) \n",
    "                    / torch.sqrt(1 - alpha_bar)) * predicted_noise) \n",
    "                    + torch.sqrt(1-alpha) * noise)\n",
    "\n",
    "                if i in save_time_steps: denoised_images.append(x)\n",
    "\n",
    "            denoised_images = torch.stack(denoised_images)\n",
    "            denoised_images = denoised_images.swapaxes(0, 1)\n",
    "            return denoised_images"
   ]
  },
  {
   "cell_type": "markdown",
   "metadata": {},
   "source": [
    "## Defining the Position Encoding Function\n",
    "\n",
    "Implement the position encoding function ..."
   ]
  },
  {
   "cell_type": "code",
   "execution_count": 11,
   "metadata": {},
   "outputs": [],
   "source": [
    "def positional_encoding(t, enc_dim):\n",
    "    \"\"\"Encode position information with a sinusoid.\"\"\"\n",
    "    scaled_positions = torch.arange(0, enc_dim, 2).float() / enc_dim\n",
    "    frequency = 10000 ** scaled_positions\n",
    "    inverse_frequency = (1.0 / frequency).to(t.device)\n",
    "    x = t.repeat(1, enc_dim // 2) * inverse_frequency\n",
    "    pos_enc_a, pos_enc_b = torch.sin(x), torch.cos(x)\n",
    "    pos_enc = torch.cat([pos_enc_a, pos_enc_b], dim=-1)\n",
    "    return pos_enc"
   ]
  },
  {
   "cell_type": "markdown",
   "metadata": {},
   "source": [
    "... sinusoidal position encodings for different time steps ..."
   ]
  },
  {
   "cell_type": "code",
   "execution_count": 12,
   "metadata": {},
   "outputs": [],
   "source": [
    "position_encoding_dim = 256\n",
    "\n",
    "pos_encs = []\n",
    "for i in range(0, 100):\n",
    "    t = torch.tensor([i])\n",
    "    pos_enc = positional_encoding(t, position_encoding_dim)\n",
    "    pos_encs.append(pos_enc.squeeze())\n",
    "pos_encs = torch.stack(pos_encs)"
   ]
  },
  {
   "cell_type": "markdown",
   "metadata": {},
   "source": [
    "... and visualize the position encodings."
   ]
  },
  {
   "cell_type": "code",
   "execution_count": null,
   "metadata": {},
   "outputs": [],
   "source": [
    "fig = plt.figure()\n",
    "plt.imshow(pos_encs.cpu().numpy())\n",
    "plt.xlabel(\"Encoding dimension\")\n",
    "plt.ylabel(\"Time step (t)\")\n",
    "plt.show()"
   ]
  },
  {
   "cell_type": "markdown",
   "metadata": {},
   "source": [
    "## Defining the Attention U-Net"
   ]
  },
  {
   "cell_type": "code",
   "execution_count": null,
   "metadata": {},
   "outputs": [],
   "source": [
    "import deeplay as dl\n",
    "\n",
    "position_encoding_dim = 256\n",
    "\n",
    "unet = dl.AttentionUNet(\n",
    "    in_channels=1, channels=[32, 64, 128], base_channels=[256, 256], \n",
    "    channel_attention=[True, True, True], out_channels=1, \n",
    "    position_embedding_dim=position_encoding_dim,\n",
    ")\n",
    "unet.build()\n",
    "unet.to(device);\n",
    "\n",
    "print(unet)"
   ]
  },
  {
   "cell_type": "markdown",
   "metadata": {},
   "source": [
    "## Training the Diffusion Model\n",
    "\n",
    "Define the data loader ..."
   ]
  },
  {
   "cell_type": "code",
   "execution_count": 15,
   "metadata": {},
   "outputs": [],
   "source": [
    "from torch.utils.data import DataLoader\n",
    "\n",
    "loader = DataLoader(dataset=trainset, batch_size=128, shuffle=True)"
   ]
  },
  {
   "cell_type": "markdown",
   "metadata": {},
   "source": [
    "... define the loss function ..."
   ]
  },
  {
   "cell_type": "code",
   "execution_count": 16,
   "metadata": {},
   "outputs": [],
   "source": [
    "criterion = torch.nn.MSELoss()"
   ]
  },
  {
   "cell_type": "markdown",
   "metadata": {},
   "source": [
    "... define the optimizer ..."
   ]
  },
  {
   "cell_type": "code",
   "execution_count": 17,
   "metadata": {},
   "outputs": [],
   "source": [
    "optimizer = torch.optim.AdamW(unet.parameters(), lr=1e-4)"
   ]
  },
  {
   "cell_type": "markdown",
   "metadata": {},
   "source": [
    "...  instantiate the diffusion class for training ..."
   ]
  },
  {
   "cell_type": "code",
   "execution_count": 18,
   "metadata": {},
   "outputs": [],
   "source": [
    "diffusion = Diffusion(\n",
    "    noise_steps=1000, img_size=28, beta_start=1e-4, beta_end=0.02,\n",
    ")"
   ]
  },
  {
   "cell_type": "markdown",
   "metadata": {},
   "source": [
    "...implement a function to prepare the data ..."
   ]
  },
  {
   "cell_type": "code",
   "execution_count": 19,
   "metadata": {},
   "outputs": [],
   "source": [
    "def prepare_data(image, noise_steps=1000, device=device):\n",
    "    \"\"\"Prepare data.\"\"\"\n",
    "    batch_size = image.shape[0]\n",
    "    t = torch.randint(low=0, high=noise_steps, size=(batch_size,)).to(device)\n",
    "    image = image.to(device)\n",
    "    x_t, noise = diffusion.forward_diffusion(image, t)\n",
    "    t = positional_encoding(t.unsqueeze(1), position_encoding_dim)\n",
    "    return x_t.to(device), t.to(device), noise.to(device)"
   ]
  },
  {
   "cell_type": "markdown",
   "metadata": {},
   "source": [
    "... implement the training cycle ..."
   ]
  },
  {
   "cell_type": "code",
   "execution_count": null,
   "metadata": {},
   "outputs": [],
   "source": [
    "import time\n",
    "from datetime import timedelta\n",
    "\n",
    "epochs = 20\n",
    "n_images = 5\n",
    "save_time_steps = [999, 900, 800, 700, 600, 500, 400, 300, 200, 100, 0]\n",
    "\n",
    "train_loss = []\n",
    "for epoch in range(epochs):\n",
    "    start_time = time.time()\n",
    "    num_batches = len(loader)\n",
    "\n",
    "    print(\"\\n\" + f\"Epoch {epoch + 1}/{epochs}\" + \"\\n\" + \"_\" * 10)\n",
    "    \n",
    "    unet.train()\n",
    "    \n",
    "    running_loss = 0.0\n",
    "    for batch_idx, (images, class_labels) in enumerate(loader, start=0):\n",
    "        x_t, t, noise = prepare_data(images)\n",
    "\n",
    "        outputs = unet(x=x_t, t=t)\n",
    "\n",
    "        optimizer.zero_grad()\n",
    "        loss = criterion(outputs, noise)\n",
    "        loss.backward()\n",
    "        optimizer.step()\n",
    "        \n",
    "        if batch_idx % 100 == 0:\n",
    "            print(f\"Batch {batch_idx + 1}/{num_batches}: \"\n",
    "                  + f\"Train loss: {loss.item():.4f}\")\n",
    "        running_loss += loss.item()\n",
    "\n",
    "    train_loss.append(running_loss / len(loader))\n",
    "    end_time = time.time()\n",
    "\n",
    "    print(\"-\" * 10 + \"\\n\" + f\"Epoch {epoch + 1}/{epochs} : \" \n",
    "          + f\"Train loss: {train_loss[-1]:.4f}, \" \n",
    "          + f\"Time taken: {timedelta(seconds=end_time - start_time)}\")\n",
    "    \n",
    "    unet.eval()\n",
    "    generated_images = diffusion.reverse_diffusion(\n",
    "        model=unet, n_images=n_images, n_channels=1, \n",
    "        position_encoding_dim=position_encoding_dim,\n",
    "        position_encoding_function=positional_encoding,\n",
    "        save_time_steps=save_time_steps,\n",
    "    )\n",
    "\n",
    "    fig = plt.figure(figsize=(len(save_time_steps), n_images))\n",
    "    for idx in range(n_images):\n",
    "        image_reverse_diff_traj = generated_images[idx]\n",
    "        for j in range(len(image_reverse_diff_traj)):\n",
    "            plt.subplot(n_images, len(image_reverse_diff_traj), \n",
    "                        idx * len(image_reverse_diff_traj) + j + 1)\n",
    "            plt.imshow(image_reverse_diff_traj[j]\n",
    "                       .permute(1, 2, 0).cpu().numpy(), cmap=\"gray\")\n",
    "            if idx == 0: plt.title(f\"t={save_time_steps[j]}\", fontsize=10)\n",
    "            plt.axis(\"off\")\n",
    "    plt.show()\n",
    "    plt.close()"
   ]
  },
  {
   "cell_type": "markdown",
   "metadata": {},
   "source": [
    "## Sampling Images From Fixed Noise"
   ]
  },
  {
   "cell_type": "raw",
   "metadata": {
    "vscode": {
     "languageId": "raw"
    }
   },
   "source": [
    "unet.eval()\n",
    "\n",
    "fix_noise = torch.randn((1, 1, 28, 28))\n",
    "for i in range(2):\n",
    "    generated_images = diffusion.reverse_diffusion(\n",
    "        model=unet, n_images=1, n_channels=1, fix_noise=fix_noise,\n",
    "        position_encoding_dim=position_encoding_dim,\n",
    "        position_encoding_function=positional_encoding,\n",
    "        save_time_steps=save_time_steps,\n",
    "    )\n",
    "\n",
    "    fig, axs = plt.subplots(1, len(save_time_steps))\n",
    "    for j in range(len(save_time_steps)):\n",
    "        axs[j].imshow(generated_images[0, j].permute(1, 2, 0).cpu().numpy(), \n",
    "                      cmap=\"gray\")\n",
    "        if i == 0: axs[j].set_title(f\"t={save_time_steps[j]}\", fontsize=10)\n",
    "        axs[j].axis(\"off\")\n",
    "    plt.tight_layout()\n",
    "    plt.show()"
   ]
  },
  {
   "cell_type": "code",
   "execution_count": null,
   "metadata": {},
   "outputs": [],
   "source": [
    "unet.eval()\n",
    "\n",
    "fix_noise = torch.randn((1, 1, 28, 28))\n",
    "n_images_fix_noise = 2\n",
    "\n",
    "fig = plt.figure(figsize=(len(save_time_steps), n_images_fix_noise))\n",
    "for idx in range(n_images_fix_noise):\n",
    "    generated_images = diffusion.reverse_diffusion(\n",
    "        model=unet, n_images=1, n_channels=1, fix_noise=fix_noise,\n",
    "        position_encoding_dim=position_encoding_dim,\n",
    "        position_encoding_function=positional_encoding,\n",
    "        save_time_steps=save_time_steps,\n",
    "    )\n",
    "    \n",
    "    image_reverse_diff_traj = generated_images[0]\n",
    "    for j in range(len(image_reverse_diff_traj)):\n",
    "        plt.subplot(n_images_fix_noise, len(image_reverse_diff_traj), \n",
    "                    idx * len(image_reverse_diff_traj) + j + 1)\n",
    "        plt.imshow(image_reverse_diff_traj[j]\n",
    "                    .permute(1, 2, 0).cpu().numpy(), cmap=\"gray\")\n",
    "        if idx == 0: plt.title(f\"t={save_time_steps[j]}\", fontsize=10)\n",
    "        plt.axis(\"off\")\n",
    "plt.show()"
   ]
  }
 ],
 "metadata": {
  "kernelspec": {
   "display_name": "py_env_book",
   "language": "python",
   "name": "python3"
  },
  "language_info": {
   "codemirror_mode": {
    "name": "ipython",
    "version": 3
   },
   "file_extension": ".py",
   "mimetype": "text/x-python",
   "name": "python",
   "nbconvert_exporter": "python",
   "pygments_lexer": "ipython3",
   "version": "3.10.15"
  }
 },
 "nbformat": 4,
 "nbformat_minor": 2
}
