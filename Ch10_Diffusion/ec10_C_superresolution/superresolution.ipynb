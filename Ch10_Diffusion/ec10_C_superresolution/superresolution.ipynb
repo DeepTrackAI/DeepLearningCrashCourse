{
 "cells": [
  {
   "cell_type": "markdown",
   "metadata": {},
   "source": [
    "# Generating Super-Resolution Images\n",
    "\n",
    "This notebook provides you with a complete code example to increase the resolution of microscopy images using a diffusion model."
   ]
  },
  {
   "cell_type": "markdown",
   "metadata": {},
   "source": [
    "## Downloading the BioSR Dataset"
   ]
  },
  {
   "cell_type": "code",
   "execution_count": 1,
   "metadata": {},
   "outputs": [],
   "source": [
    "import os\n",
    "\n",
    "if not os.path.exists(\"biosr_dataset\"):\n",
    "    os.system(\"git clone https://github.com/DeepTrackAI/biosr_dataset\")"
   ]
  },
  {
   "cell_type": "markdown",
   "metadata": {},
   "source": [
    "## Managing the Dataset"
   ]
  },
  {
   "cell_type": "code",
   "execution_count": 2,
   "metadata": {},
   "outputs": [],
   "source": [
    "import torch\n",
    "from tifffile import tifffile as tiff\n",
    "\n",
    "class BioSRDataset(torch.utils.data.Dataset):\n",
    "    \"\"\"Dataset class to load the BioSR dataset.\"\"\"\n",
    "\n",
    "    def __init__(self, lr_dir, hr_dir, transform):\n",
    "        \"\"\"Initialize dataset.\"\"\"\n",
    "        self.lr_dir, self.hr_dir, self.transform = lr_dir, hr_dir, transform\n",
    "        self.file_list = [file for file in os.listdir(self.lr_dir) \n",
    "                          if file.endswith(\".tif\")]\n",
    "\n",
    "    def __len__(self):\n",
    "        \"\"\"Return the number of image pairs.\"\"\"\n",
    "        return len(self.file_list)\n",
    "\n",
    "    def __getitem__(self, index):\n",
    "        \"\"\"Get a low-resolution--high-resolution image pair.\"\"\"\n",
    "        lr_image = tiff.imread(os.path.join(self.lr_dir, self.file_list[index]))\n",
    "        hr_image = tiff.imread(os.path.join(self.hr_dir, self.file_list[index]))\n",
    "        if self.transform:\n",
    "            lr_image = self.transform(lr_image)\n",
    "            hr_image = self.transform(hr_image)\n",
    "        return lr_image, hr_image"
   ]
  },
  {
   "cell_type": "markdown",
   "metadata": {},
   "source": [
    "## Preprocessing the Images"
   ]
  },
  {
   "cell_type": "code",
   "execution_count": 3,
   "metadata": {},
   "outputs": [],
   "source": [
    "from torchvision.transforms import Compose, Normalize, ToTensor\n",
    "\n",
    "transform = Compose([ToTensor(), Normalize(mean=(0.5,), std=(0.5,))])"
   ]
  },
  {
   "cell_type": "markdown",
   "metadata": {},
   "source": [
    "## Creating the Training and Testing Datasets\n",
    "\n",
    "Create the datasets ..."
   ]
  },
  {
   "cell_type": "code",
   "execution_count": 4,
   "metadata": {},
   "outputs": [],
   "source": [
    "root = os.path.join(\"biosr_dataset\", \"BioSR\", \"Microtubules\")\n",
    "train_set = BioSRDataset(lr_dir=os.path.join(root, \"training_wf\"),\n",
    "                         hr_dir=os.path.join(root, \"training_gt\"),\n",
    "                         transform=transform)\n",
    "test_set = BioSRDataset(lr_dir=os.path.join(root, \"test_wf\", \"level_09\"),\n",
    "                        hr_dir=os.path.join(root, \"test_gt\"),\n",
    "                        transform=transform)"
   ]
  },
  {
   "cell_type": "markdown",
   "metadata": {},
   "source": [
    "... plot some low-resolution and high-resolution images ..."
   ]
  },
  {
   "cell_type": "code",
   "execution_count": null,
   "metadata": {},
   "outputs": [],
   "source": [
    "import matplotlib.pyplot as plt\n",
    "import numpy as np\n",
    "\n",
    "lr_image, hr_image = train_set[np.random.randint(0, len(train_set))]\n",
    "\n",
    "plt.figure()\n",
    "\n",
    "plt.subplot(1, 2, 1)\n",
    "plt.imshow(lr_image.permute(1, 2, 0), cmap=\"gray\")\n",
    "plt.title(\"Low-resolution image\")\n",
    "\n",
    "plt.subplot(1, 2, 2)\n",
    "plt.imshow(hr_image.permute(1, 2, 0), cmap=\"gray\")\n",
    "plt.title(\"High-resolution image\")\n",
    "\n",
    "plt.tight_layout()\n",
    "plt.show()"
   ]
  },
  {
   "cell_type": "markdown",
   "metadata": {},
   "source": [
    "## Adapting the Diffusion Process for Super-Resolution\n",
    "\n",
    "Define the device on which the computations are performed ..."
   ]
  },
  {
   "cell_type": "code",
   "execution_count": 6,
   "metadata": {},
   "outputs": [],
   "source": [
    "import torch\n",
    "\n",
    "def get_device():\n",
    "    \"\"\"Select device where to perform computations.\"\"\"\n",
    "    if torch.cuda.is_available():\n",
    "        return torch.device(\"cuda:0\")\n",
    "    elif torch.backends.mps.is_available():\n",
    "        return torch.device(\"mps\")\n",
    "    else:\n",
    "        return torch.device(\"cpu\")"
   ]
  },
  {
   "cell_type": "code",
   "execution_count": 7,
   "metadata": {},
   "outputs": [],
   "source": [
    "device = get_device()"
   ]
  },
  {
   "cell_type": "code",
   "execution_count": null,
   "metadata": {},
   "outputs": [],
   "source": [
    "print(device)"
   ]
  },
  {
   "cell_type": "markdown",
   "metadata": {},
   "source": [
    "... implement the reverse diffusion for super-resolution ..."
   ]
  },
  {
   "cell_type": "code",
   "execution_count": 9,
   "metadata": {},
   "outputs": [],
   "source": [
    "from tqdm import tqdm\n",
    "\n",
    "class Diffusion:\n",
    "    \"\"\"Denoising diffusion probabilstic model (DDPM).\"\"\"\n",
    "    \n",
    "    def __init__(self, steps=1000, beta_start=1e-4, beta_end=0.02, img_size=28,\n",
    "                 device=device):\n",
    "        \"\"\"Initialize the diffusion model.\"\"\"\n",
    "        self.steps, self.img_size, self.device = steps, img_size, device\n",
    "        self.beta = torch.linspace(beta_start, beta_end, self.steps).to(device)\n",
    "        self.alpha = 1.0 - self.beta\n",
    "        self.alpha_bar = torch.cumprod(self.alpha, dim=0)\n",
    "\n",
    "    def forward_diffusion(self, x, t):\n",
    "        \"\"\"Implement the forward diffusion process.\"\"\"\n",
    "        sqrt_alpha_bar = torch.sqrt(self.alpha_bar[t])[:, None, None, None]\n",
    "        sqrt_one_minus_alpha_bar = \\\n",
    "            torch.sqrt(1 - self.alpha_bar[t])[:, None, None, None]\n",
    "        noise = torch.randn_like(x)\n",
    "        return sqrt_alpha_bar * x + sqrt_one_minus_alpha_bar * noise, noise\n",
    "    \n",
    "    def reverse_diffusion(self, model, n_images, n_channels, pos_enc_dim, \n",
    "                          pos_enc_func, input_image, fix_noise=None, \n",
    "                          save_time_steps=None):\n",
    "        \"\"\"Reverse diffusion process\"\"\"\n",
    "        with torch.no_grad():\n",
    "            if fix_noise is not None:\n",
    "                x = fix_noise.to(self.device)\n",
    "            else:\n",
    "                x = torch.randn(\n",
    "                    (n_images, n_channels, self.img_size, self.img_size)\n",
    "                ).to(self.device)\n",
    "            \n",
    "            denoised_images = []\n",
    "            for i in tqdm(reversed(range(0, self.steps)),\n",
    "                          desc=\"U-Net inference\", total=self.steps):\n",
    "                t = (torch.ones(n_images) * i).long()\n",
    "                t_pos_enc = (pos_enc_func(t.unsqueeze(1), pos_enc_dim)\n",
    "                             .to(self.device))\n",
    "                predicted_noise = model(\n",
    "                    torch.cat((input_image.to(self.device), x), dim=1), \n",
    "                    t=t_pos_enc,\n",
    "                )\n",
    "                alpha = self.alpha[t][:, None, None, None]\n",
    "                alpha_bar = self.alpha_bar[t][:, None, None, None]\n",
    "                noise = torch.randn_like(x) if i > 0 else torch.zeros_like(x)\n",
    "                x = (1 / torch.sqrt(alpha) * (x - ((1 - alpha) \n",
    "                     / torch.sqrt(1 - alpha_bar)) * predicted_noise) \n",
    "                     + torch.sqrt(1-alpha) * noise)\n",
    "                if i in save_time_steps: denoised_images.append(x)\n",
    "\n",
    "            denoised_images = torch.stack(denoised_images)\n",
    "            denoised_images = denoised_images.swapaxes(0, 1)\n",
    "            return denoised_images"
   ]
  },
  {
   "cell_type": "markdown",
   "metadata": {},
   "source": [
    "## Defining the Conditional Attention U-Net"
   ]
  },
  {
   "cell_type": "code",
   "execution_count": null,
   "metadata": {},
   "outputs": [],
   "source": [
    "import deeplay as dl\n",
    "\n",
    "pos_enc_dim = 256\n",
    "\n",
    "unet = dl.AttentionUNet(in_channels=2, channels=[32, 64, 128], \n",
    "                        base_channels=[256, 256], \n",
    "                        channel_attention=[False, False, False], \n",
    "                        out_channels=1, position_embedding_dim=pos_enc_dim)\n",
    "unet.build()\n",
    "unet.to(device);"
   ]
  },
  {
   "cell_type": "markdown",
   "metadata": {},
   "source": [
    "## Training the Conditional Diffusion Model\n",
    "\n",
    "Define the data loaders ..."
   ]
  },
  {
   "cell_type": "code",
   "execution_count": 11,
   "metadata": {},
   "outputs": [],
   "source": [
    "from torch.utils.data import DataLoader\n",
    "\n",
    "train_loader = DataLoader(train_set, batch_size=64, shuffle=True)\n",
    "test_loader = DataLoader(test_set, batch_size=64, shuffle=False)"
   ]
  },
  {
   "cell_type": "markdown",
   "metadata": {},
   "source": [
    "... instantiate the diffusion class ..."
   ]
  },
  {
   "cell_type": "code",
   "execution_count": 12,
   "metadata": {},
   "outputs": [],
   "source": [
    "diffusion = Diffusion(steps=2000, img_size=128, beta_start=1e-6, beta_end=0.01)"
   ]
  },
  {
   "cell_type": "markdown",
   "metadata": {},
   "source": [
    "... define the loss function ..."
   ]
  },
  {
   "cell_type": "code",
   "execution_count": 13,
   "metadata": {},
   "outputs": [],
   "source": [
    "criterion = torch.nn.L1Loss()"
   ]
  },
  {
   "cell_type": "markdown",
   "metadata": {},
   "source": [
    "... define the position encoding function ..."
   ]
  },
  {
   "cell_type": "code",
   "execution_count": 14,
   "metadata": {},
   "outputs": [],
   "source": [
    "def positional_encoding(t, enc_dim):\n",
    "    \"\"\"Encode position information with a sinusoid.\"\"\"\n",
    "    scaled_positions = torch.arange(0, enc_dim, 2).float() / enc_dim\n",
    "    frequency = 10000 ** scaled_positions\n",
    "    inverse_frequency = (1.0 / frequency).to(t.device)\n",
    "    angle = t.repeat(1, enc_dim // 2) * inverse_frequency\n",
    "    pos_enc_a, pos_enc_b = torch.sin(angle), torch.cos(angle)\n",
    "    pos_enc = torch.cat([pos_enc_a, pos_enc_b], dim=-1)\n",
    "    return pos_enc"
   ]
  },
  {
   "cell_type": "markdown",
   "metadata": {},
   "source": [
    "... define the optimizer ..."
   ]
  },
  {
   "cell_type": "code",
   "execution_count": 15,
   "metadata": {},
   "outputs": [],
   "source": [
    "optimizer = torch.optim.AdamW(unet.parameters(), lr=1e-4)"
   ]
  },
  {
   "cell_type": "markdown",
   "metadata": {},
   "source": [
    "... implement the function to prepare the data for super-resolution task ..."
   ]
  },
  {
   "cell_type": "code",
   "execution_count": 16,
   "metadata": {},
   "outputs": [],
   "source": [
    "def prepare_data(input_image, target_image, steps=2000, device=device):\n",
    "    \"\"\"Prepare data.\"\"\"\n",
    "    batch_size = input_image.shape[0]\n",
    "    t = torch.randint(low=0, high=steps, size=(batch_size,)).to(device)\n",
    "    input_image, target_image = input_image.to(device), target_image.to(device)\n",
    "    x_t, noise = diffusion.forward_diffusion(target_image, t)\n",
    "    x_t = torch.cat((input_image, x_t), dim=1)\n",
    "    t_pos_enc = positional_encoding(t.unsqueeze(1), pos_enc_dim)\n",
    "    return x_t.to(device), t_pos_enc.to(device), noise.to(device)"
   ]
  },
  {
   "cell_type": "markdown",
   "metadata": {},
   "source": [
    "... implement the training loop ..."
   ]
  },
  {
   "cell_type": "code",
   "execution_count": null,
   "metadata": {},
   "outputs": [],
   "source": [
    "import time\n",
    "from datetime import timedelta\n",
    "\n",
    "epochs = 30\n",
    "\n",
    "train_loss = []\n",
    "for epoch in range(epochs):\n",
    "    unet.train()\n",
    "    \n",
    "    start_time = time.time()\n",
    "    num_batches = len(train_loader)\n",
    "\n",
    "    print(\"\\n\" + f\"Epoch {epoch + 1}/{epochs}\" + \"\\n\" + \"_\" * 10)\n",
    "    \n",
    "    running_loss = 0.0\n",
    "    for batch_idx, (input_images, target_images) in enumerate(train_loader, start=0):\n",
    "        x_t, t_pos_enc, noise = prepare_data(input_images, target_images)\n",
    "        \n",
    "        outputs = unet(x=x_t, t=t_pos_enc)\n",
    "\n",
    "        optimizer.zero_grad()\n",
    "        loss = criterion(outputs, noise)\n",
    "        loss.backward()\n",
    "        optimizer.step()\n",
    "        \n",
    "        if batch_idx % 100 == 0:\n",
    "            print(f\"Batch {batch_idx + 1}/{num_batches}: \"\n",
    "                  + f\"Train loss: {loss.item():.4f}\")\n",
    "        running_loss += loss.item()\n",
    "\n",
    "    train_loss.append(running_loss / len(train_loader))\n",
    "    end_time = time.time()\n",
    "\n",
    "    print(\"-\" * 10 + \"\\n\" + f\"Epoch {epoch + 1}/{epochs} : \" \n",
    "          + f\"Train loss: {train_loss[-1]:.4f}, \" \n",
    "          + f\"Time taken: {timedelta(seconds=end_time - start_time)}\")\n",
    "    \n",
    "    unet.eval()\n",
    "    for test_input_images, test_target_images in test_loader:\n",
    "        generated_images = diffusion.reverse_diffusion(\n",
    "            model=unet, n_images=1, n_channels=1, \n",
    "            pos_enc_dim=pos_enc_dim, pos_enc_func=positional_encoding, \n",
    "            input_image=test_input_images[:1], save_time_steps=[0],\n",
    "        )\n",
    "        break\n",
    "\n",
    "    lr_image = test_input_images[0]\n",
    "    image_diff_traj = generated_images[0]\n",
    "    hr_generated_image = image_diff_traj[-1]\n",
    "    target_image = test_target_images[0]\n",
    "\n",
    "    fig = plt.figure(figsize=(7, 3))\n",
    "\n",
    "    plt.subplot(1, 3, 1)\n",
    "    plt.imshow(lr_image.permute(1, 2, 0), cmap=\"gray\")\n",
    "    plt.title(\"Input\")\n",
    "    \n",
    "    plt.subplot(1, 3, 2)\n",
    "    plt.imshow(hr_image.permute(1, 2, 0).cpu().numpy(), cmap=\"gray\")\n",
    "    plt.title(\"Output\")\n",
    "    \n",
    "    plt.subplot(1, 3, 3)\n",
    "    plt.imshow(target_image.permute(1, 2, 0), cmap=\"gray\")\n",
    "    plt.title(\"Target\")\n",
    "\n",
    "    plt.tight_layout()\n",
    "    plt.show()\n",
    "    plt.savefig(\"fig_10_C2_{epoch}.pdf\", bbox_inches=\"tight\")  ### plt.close()"
   ]
  },
  {
   "cell_type": "markdown",
   "metadata": {},
   "source": [
    "...Plot the training loss..."
   ]
  },
  {
   "cell_type": "code",
   "execution_count": null,
   "metadata": {},
   "outputs": [],
   "source": [
    "plt.figure()\n",
    "plt.plot(train_loss, \"g-o\", label=\"Training loss\")\n",
    "plt.xlabel(\"Epochs\")\n",
    "plt.ylabel(\"Loss\")\n",
    "plt.legend()\n",
    "plt.show()"
   ]
  }
 ],
 "metadata": {
  "kernelspec": {
   "display_name": "py_env_book",
   "language": "python",
   "name": "python3"
  },
  "language_info": {
   "codemirror_mode": {
    "name": "ipython",
    "version": 3
   },
   "file_extension": ".py",
   "mimetype": "text/x-python",
   "name": "python",
   "nbconvert_exporter": "python",
   "pygments_lexer": "ipython3",
   "version": "3.10.15"
  }
 },
 "nbformat": 4,
 "nbformat_minor": 2
}
