{
 "cells": [
  {
   "cell_type": "markdown",
   "metadata": {},
   "source": [
    "## create sentence file associated to MNIST from templates"
   ]
  },
  {
   "cell_type": "code",
   "execution_count": 19,
   "metadata": {},
   "outputs": [],
   "source": [
    "import random\n",
    "\n",
    "\n",
    "def number_to_string(number):\n",
    "    num_to_str = {\n",
    "        0: 'zero',\n",
    "        1: 'one',\n",
    "        2: 'two',\n",
    "        3: 'three',\n",
    "        4: 'four',\n",
    "        5: 'five',\n",
    "        6: 'six',\n",
    "        7: 'seven',\n",
    "        8: 'eight',\n",
    "        9: 'nine'\n",
    "    }\n",
    "    return num_to_str[number]\n",
    "\n",
    "def number_representation(number):\n",
    "    if random.choice([True, False]):\n",
    "        return str(number)\n",
    "    else:\n",
    "        return number_to_string(number)"
   ]
  },
  {
   "cell_type": "code",
   "execution_count": 1,
   "metadata": {},
   "outputs": [],
   "source": [
    "import random\n",
    "def generate_sentence(class_label, templates_file):\n",
    "    class_labels = list(range(10))\n",
    "    with open(templates_file, 'r', encoding='utf-8') as file:\n",
    "        templates = file.readlines()\n",
    "\n",
    "    class_labels_=class_labels.copy()\n",
    "    class_labels_.remove(class_label)\n",
    "\n",
    "    sentence, lab = random.choice(templates).strip().split('\\t')\n",
    "\n",
    "\n",
    "    if lab=='s':\n",
    "        completed_sentence = sentence.replace(\"{class_label}\", number_representation(class_label))\n",
    "    elif lab=='t':\n",
    "        rand1 =  random.randint(class_label, 9)\n",
    "        completed_sentence = sentence.replace(\"{class_label}\", number_representation(class_label)) \\\n",
    "            .replace(\"{rand1}\", number_representation(rand1))\n",
    "    elif lab=='u':\n",
    "        rand1 =  random.sample(class_labels_,1)[0]\n",
    "        rand2 =  random.sample(class_labels_,1)[0]\n",
    "        completed_sentence = sentence.replace(\"{class_label}\", number_representation(class_label)) \\\n",
    "            .replace(\"{rand1}\", number_representation(rand1)) \\\n",
    "            .replace(\"{rand2}\", number_representation(rand2))\n",
    "    \n",
    "    \n",
    "    return completed_sentence\n"
   ]
  },
  {
   "cell_type": "raw",
   "metadata": {
    "vscode": {
     "languageId": "raw"
    }
   },
   "source": [
    "import random\n",
    "def generate_sentences(labels, templates_file):\n",
    "    class_labels = list(range(10))\n",
    "    with open(templates_file, 'r') as file:\n",
    "        templates = file.readlines()\n",
    "\n",
    "    sentences = []\n",
    "    \n",
    "    for class_label in labels:\n",
    "        class_labels_=class_labels.copy()\n",
    "        class_labels_.remove(class_label)\n",
    "\n",
    "        sentence, lab = random.choice(templates).strip().split('\\t')\n",
    "        if lab=='s':\n",
    "            completed_sentence = sentence.replace(\"{class_label}\", number_representation(class_label))\n",
    "        elif lab=='t':\n",
    "            rand1 =  random.randint(class_label, 9)\n",
    "            completed_sentence = sentence.replace(\"{class_label}\", number_representation(class_label)) \\\n",
    "                .replace(\"{rand1}\", number_representation(rand1))\n",
    "        elif lab=='u':\n",
    "            rand1 =  random.sample(class_labels_,1)[0]\n",
    "            rand2 =  random.sample(class_labels_,1)[0]\n",
    "            completed_sentence = sentence.replace(\"{class_label}\", number_representation(class_label)) \\\n",
    "                .replace(\"{rand1}\", number_representation(rand1)) \\\n",
    "                .replace(\"{rand2}\", number_representation(rand2))\n",
    "        \n",
    "        sentences.append((completed_sentence, class_label))\n",
    "    \n",
    "    return sentences\n"
   ]
  },
  {
   "cell_type": "markdown",
   "metadata": {},
   "source": [
    "load MNIST dataset"
   ]
  },
  {
   "cell_type": "raw",
   "metadata": {
    "vscode": {
     "languageId": "raw"
    }
   },
   "source": [
    "from torchvision.transforms import Compose, Normalize, ToTensor\n",
    "\n",
    "trans = Compose([ToTensor(), Normalize(mean=[0.5], std=[0.5], inplace=True)])"
   ]
  },
  {
   "cell_type": "code",
   "execution_count": null,
   "metadata": {},
   "outputs": [],
   "source": [
    "import os\n",
    "\n",
    "if not os.path.exists(\"../MNIST_dataset\"):\n",
    "    os.system(\"git clone https://github.com/DeepTrackAI/MNIST_dataset\")\n",
    "\n",
    "train_path = os.path.join(\"..\",\"MNIST_dataset\", \"mnist\", \"train\")\n",
    "train_images_files = sorted(os.listdir(train_path))\n",
    "\n",
    "print(len(train_images_files))"
   ]
  },
  {
   "cell_type": "raw",
   "metadata": {
    "vscode": {
     "languageId": "raw"
    }
   },
   "source": [
    "from torchvision.datasets import MNIST\n",
    "\n",
    "trainset = MNIST(root=\"data\", train=True, transform=trans, download=True)"
   ]
  },
  {
   "cell_type": "markdown",
   "metadata": {},
   "source": [
    "generate and save sentences"
   ]
  },
  {
   "cell_type": "code",
   "execution_count": null,
   "metadata": {},
   "outputs": [],
   "source": [
    "import csv\n",
    "\n",
    "# Create the CSV file with MNIST filename and sentence\n",
    "with open('../mnist_sentences.csv', 'w', newline='') as csvfile:\n",
    "    fieldnames = ['MNIST filename', 'sentence']\n",
    "    writer = csv.DictWriter(csvfile, fieldnames=fieldnames)  \n",
    "    writer.writeheader()\n",
    "    \n",
    "    for file in train_images_files:\n",
    "        mnist_filename = os.path.basename(file)\n",
    "        digit = int(mnist_filename[0])\n",
    "        sentence = generate_sentence(digit, 'train_text_prompts.txt')\n",
    "        writer.writerow({'MNIST filename': mnist_filename, 'sentence': sentence})\n",
    "\n",
    "print(\"CSV file 'mnist_sentences.csv' has been created successfully.\")"
   ]
  },
  {
   "cell_type": "raw",
   "metadata": {
    "vscode": {
     "languageId": "raw"
    }
   },
   "source": [
    "labels = [label for _, label in trainset]\n",
    "sentences = generate_sentences(labels, 'train_text_prompts.txt')\n",
    "\n",
    "# Save the sentences to a text file\n",
    "with open(\"../training_sentences.txt\", \"w\") as f:\n",
    "    for sentence, label in sentences:\n",
    "        # f.write(f\"{sentence}\\n\")\n",
    "        f.write(f\"{sentence}\\t{label}\\n\")"
   ]
  },
  {
   "cell_type": "code",
   "execution_count": 16,
   "metadata": {},
   "outputs": [],
   "source": [
    "labels = [random.randint(0, 9) for _ in range(2000)]\n",
    "sentences = generate_sentences(labels, 'test_text_prompts.txt')\n",
    "\n",
    "# Save the sentences to a text file\n",
    "with open(\"../validation_sentences.txt\", \"w\") as f:\n",
    "    for sentence, label in sentences:\n",
    "        # f.write(f\"{sentence}\\n\")\n",
    "        f.write(f\"{sentence}\\t{label}\\n\")"
   ]
  }
 ],
 "metadata": {
  "kernelspec": {
   "display_name": "deeplay_env",
   "language": "python",
   "name": "python3"
  },
  "language_info": {
   "codemirror_mode": {
    "name": "ipython",
    "version": 3
   },
   "file_extension": ".py",
   "mimetype": "text/x-python",
   "name": "python",
   "nbconvert_exporter": "python",
   "pygments_lexer": "ipython3",
   "version": "3.10.9"
  }
 },
 "nbformat": 4,
 "nbformat_minor": 2
}
