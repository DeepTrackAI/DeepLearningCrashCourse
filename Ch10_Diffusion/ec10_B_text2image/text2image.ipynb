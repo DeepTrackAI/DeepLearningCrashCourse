{
 "cells": [
  {
   "cell_type": "markdown",
   "metadata": {},
   "source": [
    "# Generating Images of Digits from Text Prompts\n",
    "\n",
    "This notebook provides you with a complete code example to generate MNIST digits from text prompts. The `train_text_prompts.txt` and `test_text_prompts.txt` files provide the text data used for training and testing."
   ]
  },
  {
   "cell_type": "markdown",
   "metadata": {},
   "source": [
    "## Loading the MNIST Dataset with PyTorch\n",
    "\n",
    "Implement the normalization of the digits ..."
   ]
  },
  {
   "cell_type": "code",
   "execution_count": 24,
   "metadata": {},
   "outputs": [],
   "source": [
    "from torchvision.transforms import Compose, Normalize, ToTensor\n",
    "\n",
    "trans = Compose([ToTensor(), Normalize(mean=[0.5], std=[0.5], inplace=True)])"
   ]
  },
  {
   "cell_type": "markdown",
   "metadata": {},
   "source": [
    "... import the MNIST digits ..."
   ]
  },
  {
   "cell_type": "code",
   "execution_count": 25,
   "metadata": {},
   "outputs": [],
   "source": [
    "from torchvision.datasets import MNIST\n",
    "\n",
    "trainset = MNIST(root=\"data\", train=True, transform=trans, download=True)"
   ]
  },
  {
   "cell_type": "markdown",
   "metadata": {},
   "source": [
    "... and plot some of the transformed MNIST digits."
   ]
  },
  {
   "cell_type": "code",
   "execution_count": null,
   "metadata": {},
   "outputs": [],
   "source": [
    "import torch\n",
    "import matplotlib.pyplot as plt\n",
    "\n",
    "fig, axs = plt.subplots(1, 8, figsize=(15, 3))\n",
    "for ax in axs.ravel():\n",
    "    img, label = trainset[torch.randint(0, len(trainset), (1,)).squeeze()]\n",
    "    ax.imshow(img.squeeze(), cmap=\"gray\")\n",
    "    ax.set_title(f\"Label: {label}\", fontsize=16)\n",
    "    ax.axis(\"off\")\n",
    "plt.tight_layout()\n",
    "plt.show()"
   ]
  },
  {
   "cell_type": "markdown",
   "metadata": {},
   "source": [
    "## Implementing the Forward Process\n",
    "\n",
    "Define the device on which the computations are performed ..."
   ]
  },
  {
   "cell_type": "code",
   "execution_count": 27,
   "metadata": {},
   "outputs": [],
   "source": [
    "import torch\n",
    "\n",
    "def get_device():\n",
    "    \"\"\"Select device where to perform computations.\"\"\"\n",
    "    if torch.cuda.is_available():\n",
    "        return torch.device(\"cuda:0\")\n",
    "    elif torch.backends.mps.is_available():\n",
    "       return torch.device(\"mps\")\n",
    "    else:\n",
    "        return torch.device(\"cpu\")"
   ]
  },
  {
   "cell_type": "code",
   "execution_count": 28,
   "metadata": {},
   "outputs": [],
   "source": [
    "device = get_device()"
   ]
  },
  {
   "cell_type": "code",
   "execution_count": null,
   "metadata": {},
   "outputs": [],
   "source": [
    "print(device)"
   ]
  },
  {
   "cell_type": "markdown",
   "metadata": {},
   "source": [
    "... implement the forward diffusion process ..."
   ]
  },
  {
   "cell_type": "code",
   "execution_count": 30,
   "metadata": {},
   "outputs": [],
   "source": [
    "class Diffusion:\n",
    "    \"\"\"Denoising diffusion probabilstic model (DDPM).\"\"\"\n",
    "    \n",
    "    def __init__(self, noise_steps=1000, beta_start=1e-4, beta_end=0.02,\n",
    "                 device=device):\n",
    "        \"\"\"Initialize the diffusion model.\"\"\"\n",
    "        self.noise_steps, self.beta_start, self.beta_end, self.device = \\\n",
    "            noise_steps, beta_start, beta_end, device\n",
    "\n",
    "        self.beta = self.prepare_noise_schedule().to(device)\n",
    "        self.alpha = 1.0 - self.beta\n",
    "        self.alpha_bar = torch.cumprod(self.alpha, dim=0)\n",
    "\n",
    "    def prepare_noise_schedule(self):\n",
    "        \"\"\"Prepare the noise schedule.\"\"\"\n",
    "        return torch.linspace(self.beta_start, self.beta_end, self.noise_steps)\n",
    "\n",
    "    def forward_diffusion(self, x, t):\n",
    "        \"\"\"Implement the forward diffusion process.\"\"\"\n",
    "        sqrt_alpha_bar = torch.sqrt(self.alpha_bar[t])[:, None, None, None]\n",
    "        sqrt_one_minus_alpha_bar = \\\n",
    "            torch.sqrt(1 - self.alpha_bar[t])[:, None, None, None]\n",
    "        noise = torch.randn_like(x)\n",
    "\n",
    "        return sqrt_alpha_bar * x + sqrt_one_minus_alpha_bar * noise, noise"
   ]
  },
  {
   "cell_type": "markdown",
   "metadata": {},
   "source": [
    "... sampling images in the forward diffusion process .."
   ]
  },
  {
   "cell_type": "code",
   "execution_count": 31,
   "metadata": {},
   "outputs": [],
   "source": [
    "diffusion = Diffusion(noise_steps=401, beta_start=0.0001, beta_end=0.02)\n",
    "\n",
    "clean_image, label = trainset[torch.randint(0, len(trainset), (1,)).squeeze()]\n",
    "\n",
    "time_steps = [0, 100, 200, 300, 400]\n",
    "noisy_images = []\n",
    "for i in range(len(time_steps)):\n",
    "    noisy_image, noise = diffusion.forward_diffusion(\n",
    "        x=clean_image[None, ...].to(device), \n",
    "        t=torch.tensor([time_steps[i]]).to(device)\n",
    "    )\n",
    "    noisy_images.append(noisy_image)"
   ]
  },
  {
   "cell_type": "markdown",
   "metadata": {},
   "source": [
    "... and visualize the noisy digits generated in the forward diffusion process."
   ]
  },
  {
   "cell_type": "code",
   "execution_count": null,
   "metadata": {},
   "outputs": [],
   "source": [
    "fig, axs = plt.subplots(1, len(time_steps))\n",
    "for i, ax in enumerate(axs.flatten()):\n",
    "    ax.imshow(noisy_images[i].cpu().numpy().squeeze(), cmap=\"gray\")\n",
    "    ax.set_title(f\"t = {time_steps[i]}\", fontsize=10)\n",
    "    ax.axis(\"off\")\n",
    "plt.tight_layout()\n",
    "plt.show()"
   ]
  },
  {
   "cell_type": "markdown",
   "metadata": {},
   "source": [
    "## Implementing the Reverse Diffusion Process\n",
    "\n",
    "Update the `Diffusion` class to implement the reverse diffusion process."
   ]
  },
  {
   "cell_type": "code",
   "execution_count": 33,
   "metadata": {},
   "outputs": [],
   "source": [
    "from tqdm import tqdm\n",
    "\n",
    "class Diffusion:\n",
    "    \"\"\"Denoising diffusion probabilstic model (DDPM).\"\"\"\n",
    "    \n",
    "    def __init__(self, noise_steps=1000, beta_start=1e-4, beta_end=0.02,\n",
    "                 img_size=28, device=device):\n",
    "        \"\"\"Initialize the diffusion model.\"\"\"\n",
    "        self.noise_steps, self.beta_start, self.beta_end, self.device = \\\n",
    "            noise_steps, beta_start, beta_end, device\n",
    "\n",
    "        self.beta = self.prepare_noise_schedule().to(device)\n",
    "        self.alpha = 1.0 - self.beta\n",
    "        self.alpha_bar = torch.cumprod(self.alpha, dim=0)\n",
    "        \n",
    "        self.img_size = img_size\n",
    "\n",
    "    def prepare_noise_schedule(self):\n",
    "        \"\"\"Prepare the noise schedule.\"\"\"\n",
    "        return torch.linspace(self.beta_start, self.beta_end, self.noise_steps)\n",
    "\n",
    "    def forward_diffusion(self, x, t):\n",
    "        \"\"\"Implement the forward diffusion process.\"\"\"\n",
    "        sqrt_alpha_bar = torch.sqrt(self.alpha_bar[t])[:, None, None, None]\n",
    "        sqrt_one_minus_alpha_bar = \\\n",
    "            torch.sqrt(1 - self.alpha_bar[t])[:, None, None, None]\n",
    "        noise = torch.randn_like(x)\n",
    "\n",
    "        return sqrt_alpha_bar * x + sqrt_one_minus_alpha_bar * noise, noise\n",
    "    \n",
    "    def reverse_diffusion(self, model, n_images, n_channels, \n",
    "                          position_encoding_dim, position_encoding_function,\n",
    "                          fix_noise=None, save_time_steps=None, \n",
    "                          context=None, guidance_strength=None):\n",
    "        \"\"\"Reverse diffusion process\"\"\"\n",
    "        with torch.no_grad():\n",
    "            if fix_noise is not None:\n",
    "                x = fix_noise.to(self.device)\n",
    "            else:\n",
    "                x = torch.randn(\n",
    "                    (n_images, n_channels, self.img_size, self.img_size)\n",
    "                ).to(self.device)\n",
    "            \n",
    "            denoised_images = []\n",
    "            for i in tqdm(reversed(range(0, self.noise_steps)),\n",
    "                          desc=\"U-Net inference\", total=self.noise_steps):\n",
    "                t = (torch.ones(n_images) * i).long()\n",
    "                t_pos_enc = position_encoding_function(\n",
    "                    t.unsqueeze(1), position_encoding_dim\n",
    "                ).to(self.device)\n",
    "\n",
    "                if context is None:\n",
    "                    predicted_noise = model(x=x, t=t_pos_enc)\n",
    "                else:\n",
    "                    conditional_pred = model(x=x, t=t_pos_enc, context=context)\n",
    "                    unconditional_pred = model(x=x, t=t_pos_enc, context=None)\n",
    "                    predicted_noise = torch.lerp(unconditional_pred,\n",
    "                                                 conditional_pred,\n",
    "                                                 guidance_strength)\n",
    "\n",
    "                alpha = self.alpha[t][:, None, None, None]\n",
    "                alpha_bar = self.alpha_bar[t][:, None, None, None]\n",
    "                \n",
    "                noise = torch.randn_like(x) if i > 0 else torch.zeros_like(x)\n",
    "                    \n",
    "                x = (1 / torch.sqrt(alpha) * (x - ((1 - alpha) \n",
    "                    / torch.sqrt(1 - alpha_bar)) * predicted_noise) \n",
    "                    + torch.sqrt(1-alpha) * noise)\n",
    "\n",
    "                if i in save_time_steps: denoised_images.append(x)\n",
    "\n",
    "            denoised_images = torch.stack(denoised_images)\n",
    "            denoised_images = denoised_images.swapaxes(0, 1)\n",
    "            return denoised_images"
   ]
  },
  {
   "cell_type": "markdown",
   "metadata": {},
   "source": [
    "## Preparing the Text Prompts\n",
    "\n",
    "Load the text prompts ..."
   ]
  },
  {
   "cell_type": "code",
   "execution_count": 34,
   "metadata": {},
   "outputs": [],
   "source": [
    "train_text_prompts = []\n",
    "with open(\"train_text_prompts.txt\", \"r\") as f:\n",
    "    for line in f: train_text_prompts.append(line.strip())\n",
    "\n",
    "test_text_prompts = []\n",
    "with open(\"test_text_prompts.txt\", \"r\") as f:\n",
    "    for line in f: test_text_prompts.append(line.strip())"
   ]
  },
  {
   "cell_type": "code",
   "execution_count": null,
   "metadata": {},
   "outputs": [],
   "source": [
    "for text_prompt in train_text_prompts: print(text_prompt)"
   ]
  },
  {
   "cell_type": "code",
   "execution_count": null,
   "metadata": {},
   "outputs": [],
   "source": [
    "for text_prompt in test_text_prompts: print(text_prompt)"
   ]
  },
  {
   "cell_type": "markdown",
   "metadata": {},
   "source": [
    "... implement a function to generate text prompts from given class labels ..."
   ]
  },
  {
   "cell_type": "code",
   "execution_count": 37,
   "metadata": {},
   "outputs": [],
   "source": [
    "import inflect, random\n",
    "\n",
    "numbers = {i: inflect.engine().number_to_words(i) for i in range(10)}\n",
    "\n",
    "def generate_text_prompts(class_labels, text_inputs):\n",
    "    \"\"\"Generate text prompts.\"\"\"\n",
    "    texts = []\n",
    "    for i in class_labels:\n",
    "        if random.random() > 0.3:\n",
    "            prompt = random.choice(text_inputs).format(class_label=numbers[i])\n",
    "        else:\n",
    "            prompt = random.choice(text_inputs).format(class_label=str(i))\n",
    "        texts.append(prompt)\n",
    "    return texts"
   ]
  },
  {
   "cell_type": "markdown",
   "metadata": {},
   "source": [
    "... and generate and print some example text prompts."
   ]
  },
  {
   "cell_type": "code",
   "execution_count": null,
   "metadata": {},
   "outputs": [],
   "source": [
    "class_labels = random.sample(list(range(10)), 4)\n",
    "example_text_prompts = generate_text_prompts(class_labels, test_text_prompts)\n",
    "for text_prompt in example_text_prompts: print(text_prompt)"
   ]
  },
  {
   "cell_type": "markdown",
   "metadata": {},
   "source": [
    "## Defining the Position Encoding Function\n",
    "\n",
    "Implement the position encoding function ..."
   ]
  },
  {
   "cell_type": "code",
   "execution_count": 39,
   "metadata": {},
   "outputs": [],
   "source": [
    "def positional_encoding(t, enc_dim):\n",
    "    \"\"\"Encode position information with a sinusoid.\"\"\"\n",
    "    scaled_positions = torch.arange(0, enc_dim, 2).float() / enc_dim\n",
    "    frequency = 10000 ** scaled_positions\n",
    "    inverse_frequency = (1.0 / frequency).to(t.device)\n",
    "    x = t.repeat(1, enc_dim // 2) * inverse_frequency\n",
    "    pos_enc_a, pos_enc_b = torch.sin(x), torch.cos(x)\n",
    "    pos_enc = torch.cat([pos_enc_a, pos_enc_b], dim=-1)\n",
    "    return pos_enc"
   ]
  },
  {
   "cell_type": "markdown",
   "metadata": {},
   "source": [
    "... sinusoidal position encodings for different time steps ..."
   ]
  },
  {
   "cell_type": "code",
   "execution_count": 40,
   "metadata": {},
   "outputs": [],
   "source": [
    "position_encoding_dim = 256\n",
    "\n",
    "pos_encs = []\n",
    "for i in range(0, 100):\n",
    "    t = torch.tensor([i])\n",
    "    pos_enc = positional_encoding(t, position_encoding_dim)\n",
    "    pos_encs.append(pos_enc.squeeze())\n",
    "pos_encs = torch.stack(pos_encs)"
   ]
  },
  {
   "cell_type": "markdown",
   "metadata": {},
   "source": [
    "... and visualize the position encodings."
   ]
  },
  {
   "cell_type": "code",
   "execution_count": null,
   "metadata": {},
   "outputs": [],
   "source": [
    "fig = plt.figure()\n",
    "plt.imshow(pos_encs.cpu().numpy())\n",
    "plt.xlabel(\"Encoding dimension\")\n",
    "plt.ylabel(\"Time step (t)\")\n",
    "plt.show()"
   ]
  },
  {
   "cell_type": "markdown",
   "metadata": {},
   "source": [
    "## Defining a Custom Tokenizer and Text Encoder\n",
    "\n",
    "Implement the function to tokenize the text ..."
   ]
  },
  {
   "cell_type": "raw",
   "metadata": {
    "vscode": {
     "languageId": "raw"
    }
   },
   "source": [
    "import contractions, re\n",
    "from torchtext.data.utils import get_tokenizer\n",
    "\n",
    "tokenizer = get_tokenizer(\"basic_english\")\n",
    "\n",
    "def tokenize(text):\n",
    "    \"\"\"Tokenize text.\"\"\"\n",
    "    text = contractions.fix(text)\n",
    "    replacements = {\"’\": \"'\", \"‘\": \"'\", \"“\": '\"', \"”\": '\"', \"´\": \"'\", \"´´\": '\"'}\n",
    "    for old, new in replacements.items():\n",
    "        text = text.replace(old, new)\n",
    "    tokens = tokenizer(text)\n",
    "    filtered_tokens = [\n",
    "        token for token in tokens\n",
    "        if re.match(r\"^[a-zA-Z0-9]+(-[a-zA-Z0-9]+)*(_[a-zA-Z0-9]+)*$\", token)\n",
    "    ]\n",
    "    return filtered_tokens"
   ]
  },
  {
   "cell_type": "code",
   "execution_count": 42,
   "metadata": {},
   "outputs": [],
   "source": [
    "import contractions, re\n",
    "from transformers import BasicTokenizer\n",
    "\n",
    "tokenizer= BasicTokenizer(do_lower_case=True)\n",
    "\n",
    "def tokenize(text):\n",
    "    \"\"\"Tokenize text with preprocessing and special character handling.\"\"\"\n",
    "    \n",
    "    # Define replacement mappings for common characters\n",
    "    replacements = {\"’\": \"'\", \"‘\": \"'\", \"“\": '\"', \"”\": '\"', \"´\": \"'\", \"´´\": '\"'}\n",
    "    for old, new in replacements.items():\n",
    "        text = text.replace(old, new)\n",
    "        \n",
    "    text = contractions.fix(text.translate(replacements))\n",
    "    \n",
    "    # Preprocess to replace hyphenated and underscored words with placeholders\n",
    "    text = re.sub(r'(\\w+)-(\\w+)', r'\\1HYPHEN\\2', text)\n",
    "    text = re.sub(r'(\\w+)_(\\w+)', r'\\1UNDERSCORE\\2', text)\n",
    "    \n",
    "    # Tokenize the text\n",
    "    tokens = tokenizer.tokenize(text)\n",
    "    \n",
    "    # Find tokens with the HYPHEN placeholder and replace the placeholder back with a hyphen\n",
    "    tokens = [token.replace('HYPHEN', '-').replace('UNDERSCORE','_') for token in tokens]\n",
    "    \n",
    "    return tokens\n"
   ]
  },
  {
   "cell_type": "code",
   "execution_count": 43,
   "metadata": {},
   "outputs": [],
   "source": [
    "class Vocab:\n",
    "    \"\"\"Wrapper around a dictionary to make it callable like torchtext's Vocab.\"\"\"\n",
    "    def __init__(self, vocab_dict, unk_token=\"<unk>\"):\n",
    "        self.vocab_dict = vocab_dict\n",
    "        self.unk_token = unk_token\n",
    "        self.default_index = vocab_dict.get(unk_token, -1)\n",
    "        self.index_to_token = {idx: token for token, idx in vocab_dict.items()}\n",
    "        \n",
    "    def __call__(self, token_or_tokens):\n",
    "        \"\"\"Make the vocab callable to return the index for a given token or list of tokens.\"\"\"\n",
    "        if isinstance(token_or_tokens, list):\n",
    "            return [self.vocab_dict.get(token, self.default_index) for token in token_or_tokens]\n",
    "        return self.vocab_dict.get(token_or_tokens, self.default_index)\n",
    "    \n",
    "    def set_default_index(self, index):\n",
    "        \"\"\"Set default index for unknown tokens.\"\"\"\n",
    "        self.default_index = index\n",
    "\n",
    "    def lookup_token(self, index_or_indices):\n",
    "        \"\"\"Retrieve the token corresponding to a given index or list of indices.\"\"\"\n",
    "        if isinstance(index_or_indices, list):\n",
    "            return [self.index_to_token.get(int(index), self.unk_token) for index in index_or_indices]\n",
    "        return self.index_to_token.get(int(index_or_indices), self.unk_token)\n",
    "\n",
    "    def get_itos(self):\n",
    "        \"\"\"Return a list of tokens ordered by their index.\"\"\"\n",
    "        itos = [None] * len(self.index_to_token)\n",
    "        for index, token in self.index_to_token.items():\n",
    "            itos[index] = token\n",
    "        return itos\n",
    "    \n",
    "    def get_stoi(self):\n",
    "        \"\"\"Return the dictionary mapping from tokens to indices (string to index).\"\"\"\n",
    "        return self.vocab_dict\n",
    "\n",
    "    def __iter__(self):\n",
    "        \"\"\"Iterate over the tokens in the vocabulary.\"\"\"\n",
    "        return iter(self.vocab_dict)\n",
    "\n",
    "    def __len__(self):\n",
    "        \"\"\"Return the number of tokens in the vocabulary.\"\"\"\n",
    "        return len(self.vocab_dict)\n",
    "    \n",
    "    def __contains__(self, token):\n",
    "        \"\"\"Check if a token is in the vocabulary.\"\"\"\n",
    "        return token in self.vocab_dict\n"
   ]
  },
  {
   "cell_type": "code",
   "execution_count": 44,
   "metadata": {},
   "outputs": [],
   "source": [
    "from collections import Counter\n",
    "\n",
    "def build_vocab_from_iterator(iterator, specials=None, min_freq=1):\n",
    "    \"\"\"Build vocabulary from an iterator over tokenized sentences.\"\"\"\n",
    "    # Count the frequency of each token\n",
    "    counter = Counter(token for tokens in iterator for token in tokens)\n",
    "\n",
    "    # Initialize the vocabulary with special tokens\n",
    "    vocab = {}import numpy as np\n",
    "import time\n",
    "from datetime import timedelta\n",
    "\n",
    "epochs = 20\n",
    "n_images = 5\n",
    "save_time_steps = [999, 900, 800, 700, 600, 500, 400, 300, 200, 100, 0]\n",
    "\n",
    "train_loss = []\n",
    "for epoch in range(epochs):\n",
    "    start_time = time.time()\n",
    "    num_batches = len(loader)\n",
    "\n",
    "    print(\"\\n\" + f\"Epoch {epoch + 1}/{epochs}\" + \"\\n\" + \"_\" * 10)\n",
    "    \n",
    "    unet_clip.train() ###, custom_text_encoder.train()\n",
    "    \n",
    "    running_loss = 0.0\n",
    "    for batch_idx, (images, class_labels) in enumerate(loader, start=0):\n",
    "        x_t, t, noise = prepare_data(images)\n",
    "\n",
    "        text_inputs = generate_text_prompts(class_labels.numpy(), \n",
    "                                            train_text_prompts)\n",
    "        \n",
    "        # Custom Tokenizer.\n",
    "        \"\"\"tokens = custom_tokenizer(text_inputs)\n",
    "        text_embeddings = custom_text_encoder(tokens.to(device))\"\"\"\n",
    "\n",
    "        # CLIP.\n",
    "        tokens = CLIP_tokenizer(\n",
    "            text_inputs, padding=\"max_length\",\n",
    "            max_length=CLIP_tokenizer.model_max_length, truncation=True,\n",
    "            return_tensors=\"pt\",\n",
    "        )\n",
    "        text_embeddings = CLIP_text_encoder(tokens.input_ids.to(device))[0]\n",
    "        \n",
    "        context = None if np.random.rand() < 0.1 else text_embeddings\n",
    "        \n",
    "        outputs = unet_clip(x=x_t, t=t, context=context)  ###\n",
    "\n",
    "        optimizer.zero_grad()\n",
    "        loss = criterion(outputs, noise)\n",
    "        loss.backward()\n",
    "        optimizer.step()\n",
    "        \n",
    "        if batch_idx % 100 == 0:\n",
    "            print(f\"Batch {batch_idx + 1}/{num_batches}: \"\n",
    "                  + f\"Train loss: {loss.item():.4f}\")\n",
    "        running_loss += loss.item()\n",
    "\n",
    "    train_loss.append(running_loss / len(loader))\n",
    "    end_time = time.time()\n",
    "\n",
    "    print(\"-\" * 10 + \"\\n\" + f\"Epoch {epoch + 1}/{epochs} : \" \n",
    "          + f\"Train loss: {train_loss[-1]:.4f}, \" \n",
    "          + f\"Time taken: {timedelta(seconds=end_time - start_time)}\")\n",
    "    \n",
    "    unet_clip.eval() ###, custom_text_encoder.eval()\n",
    "\n",
    "    class_labels = random.sample(list(range(10)), n_images)\n",
    "    example_texts = generate_text_prompts(class_labels, test_text_prompts)\n",
    "\n",
    "    # Custom Tokenizer.\n",
    "    \"\"\"tokens = custom_tokenizer(example_texts)\n",
    "    text_embeddings = custom_text_encoder(tokens.to(device))\"\"\"\n",
    "    \n",
    "    # CLIP.\n",
    "    tokens = CLIP_tokenizer(\n",
    "        example_texts, padding=\"max_length\",\n",
    "        max_length=CLIP_tokenizer.model_max_length, truncation=True,\n",
    "        return_tensors=\"pt\",\n",
    "    )\n",
    "    text_embeddings = CLIP_text_encoder(tokens.input_ids.to(device))[0]\n",
    "    \n",
    "    generated_images = diffusion.reverse_diffusion(\n",
    "        model=unet_clip, n_images=n_images, n_channels=1,  ###\n",
    "        position_encoding_dim=position_encoding_dim,\n",
    "        position_encoding_function=positional_encoding,\n",
    "        save_time_steps=save_time_steps, \n",
    "        context=text_embeddings, guidance_strength=3,\n",
    "    )\n",
    "\n",
    "    fig = plt.figure(figsize=(len(save_time_steps), 1.2 * n_images))\n",
    "    for idx in range(n_images):\n",
    "        image_reverse_diff_traj = generated_images[idx]\n",
    "        for j in range(len(image_reverse_diff_traj)):\n",
    "            plt.subplot(n_images, len(image_reverse_diff_traj), \n",
    "                        idx * len(image_reverse_diff_traj) + j + 1)\n",
    "            plt.imshow(image_reverse_diff_traj[j]\n",
    "                       .permute(1, 2, 0).cpu().numpy(), cmap=\"gray\")\n",
    "            if j == 5: plt.title(example_texts[idx], fontsize=10)\n",
    "            plt.axis(\"off\")\n",
    "    plt.show()\n",
    "    plt.close()\n",
    "    index = 0\n",
    "\n",
    "    if specials:\n",
    "        for token in specials:\n",
    "            vocab[token] = index\n",
    "            index += 1\n",
    "\n",
    "    # Add tokens that meet the minimum frequency\n",
    "    for token, freq in counter.items():\n",
    "        if freq >= min_freq:\n",
    "            vocab[token] = index\n",
    "            index += 1\n",
    "\n",
    "    return vocab"
   ]
  },
  {
   "cell_type": "markdown",
   "metadata": {},
   "source": [
    "... build a custom vocabulary ..."
   ]
  },
  {
   "cell_type": "raw",
   "metadata": {
    "vscode": {
     "languageId": "raw"
    }
   },
   "source": [
    "from torchtext.vocab import build_vocab_from_iterator\n",
    "\n",
    "def token_iterator(texts):\n",
    "    \"\"\"Iterate on tokens.\"\"\"\n",
    "    for text in texts:\n",
    "        yield tokenize(text)\n",
    "\n",
    "digits_and_words = [str(item) for item in list(numbers.keys()) \n",
    "                    + list(numbers.values())]\n",
    "\n",
    "vocab = build_vocab_from_iterator(\n",
    "    token_iterator(train_text_prompts + test_text_prompts + digits_and_words),\n",
    "    specials=[\"<unk>\", \"<sos>\", \"<eos>\", \"<pad>\"],\n",
    ") \n",
    "\n",
    "vocab.set_default_index(vocab[\"<unk>\"])"
   ]
  },
  {
   "cell_type": "code",
   "execution_count": 45,
   "metadata": {},
   "outputs": [],
   "source": [
    "def token_iterator(texts):\n",
    "    \"\"\"Iterate on tokens.\"\"\"\n",
    "    for text in texts:\n",
    "        yield tokenize(text)\n",
    "\n",
    "digits_and_words = [str(item) for item in list(numbers.keys()) \n",
    "                    + list(numbers.values())]\n",
    "\n",
    "vocab_dict = build_vocab_from_iterator(\n",
    "    token_iterator(train_text_prompts + test_text_prompts + digits_and_words),\n",
    "    specials=[\"<unk>\", \"<sos>\", \"<eos>\", \"<pad>\"],\n",
    ") \n",
    "\n",
    "vocab = Vocab(vocab_dict, unk_token=\"<unk>\")\n",
    "vocab.set_default_index(vocab(vocab.unk_token))"
   ]
  },
  {
   "cell_type": "markdown",
   "metadata": {},
   "source": [
    "... check the vocabulary and string-to-numerical indices mapping ..."
   ]
  },
  {
   "cell_type": "code",
   "execution_count": null,
   "metadata": {},
   "outputs": [],
   "source": [
    "# vocab_dict = vocab.get_stoi()\n",
    "# vocab_dict = dict(sorted(vocab_dict.items(), key=lambda item: item[1]))\n",
    "for word, index in vocab_dict.items(): print(f\"{word}: {index}\")"
   ]
  },
  {
   "cell_type": "markdown",
   "metadata": {},
   "source": [
    "... write a function to implemet a custom text toknizer ..."
   ]
  },
  {
   "cell_type": "raw",
   "metadata": {
    "vscode": {
     "languageId": "raw"
    }
   },
   "source": [
    "def custom_tokenizer(texts, vocab=vocab, max_token_length=77):\n",
    "    \"\"\"Tokenize a sentence.\"\"\"\n",
    "    batch_tokens = []\n",
    "    for text_prompt in texts:\n",
    "        tokens = ([vocab[\"<sos>\"]] + \n",
    "                  [vocab[token] for token in tokenize(text_prompt)] + \n",
    "                  [vocab[\"<eos>\"]])\n",
    "\n",
    "        if len(tokens) > max_token_length:\n",
    "            tokens = tokens[:max_token_length]\n",
    "        else:\n",
    "            tokens += [vocab[\"<pad>\"]] * (max_token_length - len(tokens))\n",
    "        \n",
    "        tokens = torch.tensor(tokens, dtype=torch.long)\n",
    "        batch_tokens.append(tokens)\n",
    "    return torch.stack(batch_tokens)"
   ]
  },
  {
   "cell_type": "code",
   "execution_count": 49,
   "metadata": {},
   "outputs": [],
   "source": [
    "def custom_tokenizer(texts, vocab=vocab, max_token_length=77):\n",
    "    \"\"\"Tokenize a sentence.\"\"\"\n",
    "    batch_tokens = []\n",
    "    for text_prompt in texts:\n",
    "        tokens = ([vocab(\"<sos>\")] + \n",
    "                  [vocab(token) for token in tokenize(text_prompt)] + \n",
    "                  [vocab(\"<eos>\")])\n",
    "\n",
    "        if len(tokens) > max_token_length:\n",
    "            tokens = tokens[:max_token_length]\n",
    "        else:\n",
    "            tokens += [vocab(\"<pad>\")] * (max_token_length - len(tokens))\n",
    "        \n",
    "        tokens = torch.tensor(tokens, dtype=torch.long)\n",
    "        batch_tokens.append(tokens)\n",
    "    return torch.stack(batch_tokens)"
   ]
  },
  {
   "cell_type": "markdown",
   "metadata": {},
   "source": [
    "... observe a tokenized version of an example text prompt ..."
   ]
  },
  {
   "cell_type": "code",
   "execution_count": null,
   "metadata": {},
   "outputs": [],
   "source": [
    "class_labels = random.sample(list(range(10)), 1)\n",
    "example_text = generate_text_prompts(class_labels, train_text_prompts)\n",
    "tokens = custom_tokenizer(example_text)\n",
    "print(example_text), print(tokens.shape), print(tokens);"
   ]
  },
  {
   "cell_type": "markdown",
   "metadata": {},
   "source": [
    "... implement a class for a custom text encoder ..."
   ]
  },
  {
   "cell_type": "code",
   "execution_count": 62,
   "metadata": {},
   "outputs": [],
   "source": [
    "import torch.nn as nn\n",
    "\n",
    "class TextEncoder(nn.Module):\n",
    "    \"\"\"Text encoder.\"\"\"\n",
    "\n",
    "    def __init__(self, max_token_length, vocab_size, embedding_dim, num_heads):\n",
    "        \"\"\"Initialize the text encoder module.\"\"\"\n",
    "        super(TextEncoder, self).__init__()\n",
    "        \n",
    "        self.token_embedding = nn.Embedding(vocab_size, embedding_dim)\n",
    "        self.position_encoding = positional_encoding(\n",
    "            torch.arange(0, max_token_length).unsqueeze(1), embedding_dim,\n",
    "        )\n",
    "\n",
    "        self.self_attention = nn.MultiheadAttention(\n",
    "            embedding_dim, num_heads=num_heads, batch_first=True,\n",
    "        )\n",
    "        self.layer_norm1 = nn.LayerNorm(embedding_dim)\n",
    "        self.layer_norm2 = nn.LayerNorm(embedding_dim)\n",
    "\n",
    "        self.feed_forward = nn.Sequential(\n",
    "            nn.Linear(embedding_dim, embedding_dim), nn.GELU(),\n",
    "            nn.Linear(embedding_dim, embedding_dim),\n",
    "        )\n",
    "\n",
    "    def forward(self, tokens):\n",
    "        \"\"\"Forward pass of text encoder module.\"\"\"\n",
    "        token_embeddings = self.token_embedding(tokens)\n",
    "        position_encodings = (self.position_encoding\n",
    "                              .repeat(tokens.size(0), 1, 1).to(tokens.device))\n",
    "\n",
    "        token_embeddings_with_pos = token_embeddings + position_encodings\n",
    "\n",
    "        normalized_embeddings = self.layer_norm1(token_embeddings_with_pos)\n",
    "        attention_output, _ = self.self_attention(\n",
    "            query=normalized_embeddings, \n",
    "            key=normalized_embeddings, \n",
    "            value= normalized_embeddings,\n",
    "        )\n",
    "        attention_output = attention_output + normalized_embeddings\n",
    "\n",
    "        residual_input = attention_output\n",
    "        normalized_attention_output = self.layer_norm2(attention_output)\n",
    "        feed_forward_output = self.feed_forward(normalized_attention_output)\n",
    "        residual_output = feed_forward_output + residual_input\n",
    "\n",
    "        return residual_output"
   ]
  },
  {
   "cell_type": "markdown",
   "metadata": {},
   "source": [
    "... instantiate a custom text encoder ..."
   ]
  },
  {
   "cell_type": "code",
   "execution_count": 63,
   "metadata": {},
   "outputs": [],
   "source": [
    "custom_text_encoder = TextEncoder(max_token_length=77, vocab_size=len(vocab),\n",
    "                                  embedding_dim=768, num_heads=4).to(device)"
   ]
  },
  {
   "cell_type": "markdown",
   "metadata": {},
   "source": [
    "... and check the shape of example text prompts."
   ]
  },
  {
   "cell_type": "code",
   "execution_count": null,
   "metadata": {},
   "outputs": [],
   "source": [
    "class_labels = random.sample(list(range(10)), 4)\n",
    "example_texts = generate_text_prompts(class_labels, train_text_prompts)\n",
    "tokens = custom_tokenizer(example_texts)\n",
    "text_embedding = custom_text_encoder(tokens.to(device))\n",
    "\n",
    "print(f\"tokens shape: {tokens.shape}\")\n",
    "print(f\"text embeddings shape: {text_embedding.shape}\")"
   ]
  },
  {
   "cell_type": "markdown",
   "metadata": {},
   "source": [
    "## Defining the Conditional Attention U-Net"
   ]
  },
  {
   "cell_type": "code",
   "execution_count": null,
   "metadata": {},
   "outputs": [],
   "source": [
    "import deeplay as dl\n",
    "\n",
    "position_encoding_dim = 256\n",
    "\n",
    "unet_template = dl.AttentionUNet(  ###\n",
    "    in_channels=1, channels=[32, 64, 128], base_channels=[256, 256], \n",
    "    channel_attention=[True, True, True], out_channels=1, \n",
    "    position_embedding_dim=position_encoding_dim, num_classes=10,\n",
    "    context_embedding_dim=768,\n",
    ")\n",
    "unet = unet_template.create()  ### unet.build()\n",
    "unet.to(device);\n",
    "\n",
    "print(unet)"
   ]
  },
  {
   "cell_type": "markdown",
   "metadata": {},
   "source": [
    "## Training the Diffusion Model\n",
    "\n",
    "Define the data loader ..."
   ]
  },
  {
   "cell_type": "code",
   "execution_count": 66,
   "metadata": {},
   "outputs": [],
   "source": [
    "from torch.utils.data import DataLoader\n",
    "\n",
    "loader = DataLoader(dataset=trainset, batch_size=128, shuffle=True)"
   ]
  },
  {
   "cell_type": "markdown",
   "metadata": {},
   "source": [
    "... define the loss function ..."
   ]
  },
  {
   "cell_type": "code",
   "execution_count": 67,
   "metadata": {},
   "outputs": [],
   "source": [
    "criterion = torch.nn.MSELoss()"
   ]
  },
  {
   "cell_type": "markdown",
   "metadata": {},
   "source": [
    "... define the optimizer ..."
   ]
  },
  {
   "cell_type": "code",
   "execution_count": 68,
   "metadata": {},
   "outputs": [],
   "source": [
    "optimizer = torch.optim.AdamW(list(unet.parameters())\n",
    "                              + list(custom_text_encoder.parameters()), \n",
    "                              lr=1e-4)"
   ]
  },
  {
   "cell_type": "markdown",
   "metadata": {},
   "source": [
    "...  instantiate the diffusion class for training ..."
   ]
  },
  {
   "cell_type": "code",
   "execution_count": 69,
   "metadata": {},
   "outputs": [],
   "source": [
    "diffusion = Diffusion(\n",
    "    noise_steps=1000, img_size=28, beta_start=1e-4, beta_end=0.02,\n",
    ")"
   ]
  },
  {
   "cell_type": "markdown",
   "metadata": {},
   "source": [
    "...implement a function to prepare the data ..."
   ]
  },
  {
   "cell_type": "code",
   "execution_count": 70,
   "metadata": {},
   "outputs": [],
   "source": [
    "def prepare_data(image, noise_steps=1000, device=device):\n",
    "    \"\"\"Prepare data.\"\"\"\n",
    "    batch_size = image.shape[0]\n",
    "    t = torch.randint(low=0, high=noise_steps, size=(batch_size,)).to(device)\n",
    "    image = image.to(device)\n",
    "    x_t, noise = diffusion.forward_diffusion(image, t)\n",
    "    t = positional_encoding(t.unsqueeze(1), position_encoding_dim)\n",
    "    return x_t.to(device), t.to(device), noise.to(device)"
   ]
  },
  {
   "cell_type": "markdown",
   "metadata": {},
   "source": [
    "... implement the training cycle ..."
   ]
  },
  {
   "cell_type": "code",
   "execution_count": null,
   "metadata": {},
   "outputs": [],
   "source": [
    "import numpy as np\n",
    "import time\n",
    "from datetime import timedelta\n",
    "\n",
    "epochs = 20\n",
    "n_images = 5\n",
    "save_time_steps = [999, 900, 800, 700, 600, 500, 400, 300, 200, 100, 0]\n",
    "\n",
    "train_loss = []\n",
    "for epoch in range(epochs):\n",
    "    start_time = time.time()\n",
    "    num_batches = len(loader)\n",
    "\n",
    "    print(\"\\n\" + f\"Epoch {epoch + 1}/{epochs}\" + \"\\n\" + \"_\" * 10)\n",
    "    \n",
    "    unet.train(), custom_text_encoder.train()\n",
    "    \n",
    "    running_loss = 0.0\n",
    "    for batch_idx, (images, class_labels) in enumerate(loader, start=0):\n",
    "        x_t, t, noise = prepare_data(images)\n",
    "\n",
    "        text_inputs = generate_text_prompts(class_labels.numpy(), \n",
    "                                            train_text_prompts)\n",
    "        \n",
    "        # Custom Tokenizer.\n",
    "        tokens = custom_tokenizer(text_inputs)\n",
    "        text_embeddings = custom_text_encoder(tokens.to(device))\n",
    "\n",
    "        # CLIP.\n",
    "        \"\"\"tokens = CLIP_tokenizer(\n",
    "            text_inputs, padding=\"max_length\",\n",
    "            max_length=CLIP_tokenizer.model_max_length, truncation=True,\n",
    "            return_tensors=\"pt\",\n",
    "        )\n",
    "        text_embeddings = CLIP_text_encoder(tokens.input_ids.to(device))[0]\"\"\"\n",
    "        \n",
    "        context = None if np.random.rand() < 0.1 else text_embeddings\n",
    "\n",
    "        outputs = unet(x=x_t, t=t, context=context)\n",
    "\n",
    "        optimizer.zero_grad()\n",
    "        loss = criterion(outputs, noise)\n",
    "        loss.backward()\n",
    "        optimizer.step()\n",
    "        \n",
    "        if batch_idx % 100 == 0:\n",
    "            print(f\"Batch {batch_idx + 1}/{num_batches}: \"\n",
    "                  + f\"Train loss: {loss.item():.4f}\")\n",
    "        running_loss += loss.item()\n",
    "\n",
    "    train_loss.append(running_loss / len(loader))\n",
    "    end_time = time.time()\n",
    "\n",
    "    print(\"-\" * 10 + \"\\n\" + f\"Epoch {epoch + 1}/{epochs} : \" \n",
    "          + f\"Train loss: {train_loss[-1]:.4f}, \" \n",
    "          + f\"Time taken: {timedelta(seconds=end_time - start_time)}\")\n",
    "    \n",
    "    unet.eval(), custom_text_encoder.eval()\n",
    "\n",
    "    class_labels = random.sample(list(range(10)), n_images)\n",
    "    example_texts = generate_text_prompts(class_labels, test_text_prompts)\n",
    "\n",
    "    # Custom Tokenizer.\n",
    "    tokens = custom_tokenizer(example_texts)\n",
    "    text_embeddings = custom_text_encoder(tokens.to(device))\n",
    "    \n",
    "    # CLIP.\n",
    "    \"\"\"tokens = CLIP_tokenizer(\n",
    "        example_texts, padding=\"max_length\",\n",
    "        max_length=CLIP_tokenizer.model_max_length, truncation=True,\n",
    "        return_tensors=\"pt\",\n",
    "    )\n",
    "    text_embeddings = CLIP_text_encoder(tokens.input_ids.to(device))[0]\"\"\"\n",
    "    \n",
    "    generated_images = diffusion.reverse_diffusion(\n",
    "        model=unet, n_images=n_images, n_channels=1, \n",
    "        position_encoding_dim=position_encoding_dim,\n",
    "        position_encoding_function=positional_encoding,\n",
    "        save_time_steps=save_time_steps, \n",
    "        context=text_embeddings, guidance_strength=3,\n",
    "    )\n",
    "\n",
    "    fig = plt.figure(figsize=(len(save_time_steps), 1.2 * n_images))\n",
    "    for idx in range(n_images):\n",
    "        image_reverse_diff_traj = generated_images[idx]\n",
    "        for j in range(len(image_reverse_diff_traj)):\n",
    "            plt.subplot(n_images, len(image_reverse_diff_traj), \n",
    "                        idx * len(image_reverse_diff_traj) + j + 1)\n",
    "            plt.imshow(image_reverse_diff_traj[j]\n",
    "                       .permute(1, 2, 0).cpu().numpy(), cmap=\"gray\")\n",
    "            if j == 5: plt.title(example_texts[idx], fontsize=10)\n",
    "            plt.axis(\"off\")\n",
    "    plt.show()\n",
    "    plt.close()"
   ]
  },
  {
   "cell_type": "code",
   "execution_count": null,
   "metadata": {},
   "outputs": [],
   "source": [
    "unet.eval(), custom_text_encoder.eval()\n",
    "\n",
    "''' class_labels = random.sample(list(range(10)), n_images)\n",
    "example_texts = generate_text_prompts(class_labels, test_text_prompts)'''\n",
    "\n",
    "example_texts = [\n",
    "    \"Can you get me a picture of the number 2?\",\n",
    "    \"Can you get me a picture of the number four?\",\n",
    "    \"A chef makes nine dishes, and five are vegetarian. How many dishes are vegetarian?\",\n",
    "    \"Eight people finished their tasks, and four were volunteers. How many volunteers completed their tasks?\",\n",
    "    \"A magazine has seven articles on technology out of nine total. How many articles cover tech events?\",\n",
    "]\n",
    "\n",
    "# Custom Tokenizer.\n",
    "tokens = custom_tokenizer(example_texts)\n",
    "text_embeddings = custom_text_encoder(tokens.to(device))\n",
    "\n",
    "generated_images = diffusion.reverse_diffusion(\n",
    "        model=unet, n_images=n_images, n_channels=1, \n",
    "        position_encoding_dim=position_encoding_dim,\n",
    "        position_encoding_function=positional_encoding,\n",
    "        save_time_steps=save_time_steps, \n",
    "        context=text_embeddings, guidance_strength=3,\n",
    "    )\n",
    "\n",
    "fig = plt.figure(figsize=(len(save_time_steps), 1.2 * n_images))\n",
    "for idx in range(n_images):\n",
    "    image_reverse_diff_traj = generated_images[idx]\n",
    "    for j in range(len(image_reverse_diff_traj)):\n",
    "        plt.subplot(n_images, len(image_reverse_diff_traj), \n",
    "                    idx * len(image_reverse_diff_traj) + j + 1)\n",
    "        plt.imshow(image_reverse_diff_traj[j]\n",
    "                    .permute(1, 2, 0).cpu().numpy(), cmap=\"gray\")\n",
    "        if j == 5: plt.title(example_texts[idx], fontsize=10)\n",
    "        plt.axis(\"off\")\n",
    "# plt.savefig(f\"fig_10_B1.pdf\", bbox_inches=\"tight\")  ### plt.show()\n",
    "plt.close()"
   ]
  },
  {
   "cell_type": "markdown",
   "metadata": {},
   "source": [
    "## Defining CLIP Tokenizer and CLIP Text Encoder\n",
    "\n",
    "Import the CLIP tokenizer and CLIP text encoder ..."
   ]
  },
  {
   "cell_type": "code",
   "execution_count": 73,
   "metadata": {},
   "outputs": [
    {
     "data": {
      "application/vnd.jupyter.widget-view+json": {
       "model_id": "4d93abf3b1b44246b8bac7f8d05f134e",
       "version_major": 2,
       "version_minor": 0
      },
      "text/plain": [
       "tokenizer_config.json:   0%|          | 0.00/905 [00:00<?, ?B/s]"
      ]
     },
     "metadata": {},
     "output_type": "display_data"
    },
    {
     "data": {
      "application/vnd.jupyter.widget-view+json": {
       "model_id": "71162db3880842218ce0e51e8daecbb2",
       "version_major": 2,
       "version_minor": 0
      },
      "text/plain": [
       "vocab.json:   0%|          | 0.00/961k [00:00<?, ?B/s]"
      ]
     },
     "metadata": {},
     "output_type": "display_data"
    },
    {
     "data": {
      "application/vnd.jupyter.widget-view+json": {
       "model_id": "5c7afce8744748769eef70139a22e71d",
       "version_major": 2,
       "version_minor": 0
      },
      "text/plain": [
       "merges.txt:   0%|          | 0.00/525k [00:00<?, ?B/s]"
      ]
     },
     "metadata": {},
     "output_type": "display_data"
    },
    {
     "data": {
      "application/vnd.jupyter.widget-view+json": {
       "model_id": "9c84009070314d24bdf322634ed020a4",
       "version_major": 2,
       "version_minor": 0
      },
      "text/plain": [
       "special_tokens_map.json:   0%|          | 0.00/389 [00:00<?, ?B/s]"
      ]
     },
     "metadata": {},
     "output_type": "display_data"
    },
    {
     "data": {
      "application/vnd.jupyter.widget-view+json": {
       "model_id": "2c2985692649474ba7f16afd298bc906",
       "version_major": 2,
       "version_minor": 0
      },
      "text/plain": [
       "tokenizer.json:   0%|          | 0.00/2.22M [00:00<?, ?B/s]"
      ]
     },
     "metadata": {},
     "output_type": "display_data"
    },
    {
     "name": "stderr",
     "output_type": "stream",
     "text": [
      "/Users/841602/Documents/GitHub/Environments/deeplay_env/lib/python3.10/site-packages/transformers/tokenization_utils_base.py:1617: FutureWarning: `clean_up_tokenization_spaces` was not set. It will be set to `True` by default. This behavior will be deprecated in transformers v4.45, and will be then set to `False` by default. For more details check this issue: https://github.com/huggingface/transformers/issues/31884\n",
      "  warnings.warn(\n"
     ]
    },
    {
     "data": {
      "application/vnd.jupyter.widget-view+json": {
       "model_id": "638e3384e2724f84b31b83ab8c4dc8ed",
       "version_major": 2,
       "version_minor": 0
      },
      "text/plain": [
       "config.json:   0%|          | 0.00/4.52k [00:00<?, ?B/s]"
      ]
     },
     "metadata": {},
     "output_type": "display_data"
    },
    {
     "data": {
      "application/vnd.jupyter.widget-view+json": {
       "model_id": "47f4a5a3e72749f2b6cc33dd492cedff",
       "version_major": 2,
       "version_minor": 0
      },
      "text/plain": [
       "model.safetensors:   0%|          | 0.00/1.71G [00:00<?, ?B/s]"
      ]
     },
     "metadata": {},
     "output_type": "display_data"
    }
   ],
   "source": [
    "from transformers import CLIPTextModel, CLIPTokenizer\n",
    "\n",
    "CLIP_tokenizer = CLIPTokenizer.from_pretrained(\n",
    "    \"openai/clip-vit-large-patch14\", torch_dtype=torch.float32,\n",
    ")\n",
    "CLIP_text_encoder = CLIPTextModel.from_pretrained(\n",
    "    \"openai/clip-vit-large-patch14\", torch_dtype=torch.float32,\n",
    ").to(device)"
   ]
  },
  {
   "cell_type": "markdown",
   "metadata": {},
   "source": [
    "... check the tokens and the text embeddings of an example text prompt generated by CLIP ..."
   ]
  },
  {
   "cell_type": "code",
   "execution_count": 74,
   "metadata": {},
   "outputs": [
    {
     "name": "stdout",
     "output_type": "stream",
     "text": [
      "text: ['During a survey, 6 out of nine respondents said they travel regularly. How many participants travel regularly?']\n",
      "tokens: tensor([[49406,  1590,   320,  6809,   267,   277,   620,   539,  7330, 49253,\n",
      "          1946,   889,  1949, 17263,   269,   829,  1346, 10237,  1949, 17263,\n",
      "           286, 49407, 49407, 49407, 49407, 49407, 49407, 49407, 49407, 49407,\n",
      "         49407, 49407, 49407, 49407, 49407, 49407, 49407, 49407, 49407, 49407,\n",
      "         49407, 49407, 49407, 49407, 49407, 49407, 49407, 49407, 49407, 49407,\n",
      "         49407, 49407, 49407, 49407, 49407, 49407, 49407, 49407, 49407, 49407,\n",
      "         49407, 49407, 49407, 49407, 49407, 49407, 49407, 49407, 49407, 49407,\n",
      "         49407, 49407, 49407, 49407, 49407, 49407, 49407]])\n",
      "tokens shape: torch.Size([1, 77])\n",
      "text embeddings: torch.Size([1, 77, 768])\n"
     ]
    }
   ],
   "source": [
    "class_label = random.sample(list(range(10)), 1)\n",
    "example_text = generate_text_prompts(class_label, train_text_prompts)\n",
    "\n",
    "tokens = CLIP_tokenizer(\n",
    "    example_text, padding=\"max_length\", \n",
    "    max_length=CLIP_tokenizer.model_max_length,\n",
    "    truncation=True, return_tensors=\"pt\",\n",
    ")\n",
    "text_embedding = CLIP_text_encoder(tokens.input_ids.to(device))[0]\n",
    "\n",
    "print(f\"text: {example_text}\")\n",
    "print(f\"tokens: {tokens.input_ids}\")\n",
    "print(f\"tokens shape: {tokens.input_ids.shape}\")\n",
    "print(f\"text embeddings: {text_embedding.shape}\")"
   ]
  },
  {
   "cell_type": "markdown",
   "metadata": {},
   "source": [
    "... and freeze the weights of CLIP."
   ]
  },
  {
   "cell_type": "code",
   "execution_count": 36,
   "metadata": {},
   "outputs": [],
   "source": [
    "for param in CLIP_text_encoder.parameters():\n",
    "    param.requires_grad = False"
   ]
  },
  {
   "cell_type": "markdown",
   "metadata": {},
   "source": [
    "### Defining the Conditional Attention U-Net for CLIP"
   ]
  },
  {
   "cell_type": "code",
   "execution_count": 75,
   "metadata": {},
   "outputs": [
    {
     "name": "stdout",
     "output_type": "stream",
     "text": [
      "AttentionUNet(\n",
      "  (class_embedding): Embedding(10, 256)\n",
      "  (encoder): UNetEncoder(\n",
      "    (conv_block1): DoubleConvBlock(\n",
      "      (blocks): LayerList(\n",
      "        (0): Block(\n",
      "          (layer): Conv2d(1, 32, kernel_size=(3, 3), stride=(1, 1), padding=(1, 1))\n",
      "          (normalization): GroupNorm(1, 32, eps=1e-05, affine=True)\n",
      "          (activation): GELU(approximate='none')\n",
      "        )\n",
      "        (1): Block(\n",
      "          (layer): Conv2d(32, 32, kernel_size=(3, 3), stride=(1, 1), padding=(1, 1))\n",
      "          (normalization): GroupNorm(1, 32, eps=1e-05, affine=True)\n",
      "          (activation): Identity()\n",
      "        )\n",
      "      )\n",
      "    )\n",
      "    (blocks): LayerList(\n",
      "      (0): FeatureIntegrationModule(\n",
      "        (conv_block): Sequential(\n",
      "          (0): DoubleConvBlock(\n",
      "            (blocks): LayerList(\n",
      "              (0): Block(\n",
      "                (layer): Conv2d(32, 32, kernel_size=(3, 3), stride=(1, 1), padding=(1, 1))\n",
      "                (normalization): GroupNorm(1, 32, eps=1e-05, affine=True)\n",
      "                (activation): GELU(approximate='none')\n",
      "              )\n",
      "              (1): Block(\n",
      "                (layer): Conv2d(32, 32, kernel_size=(3, 3), stride=(1, 1), padding=(1, 1))\n",
      "                (normalization): GroupNorm(1, 32, eps=1e-05, affine=True)\n",
      "                (activation): Identity()\n",
      "              )\n",
      "            )\n",
      "          )\n",
      "          (1): DoubleConvBlock(\n",
      "            (blocks): LayerList(\n",
      "              (0): Block(\n",
      "                (layer): Conv2d(32, 64, kernel_size=(3, 3), stride=(1, 1), padding=(1, 1))\n",
      "                (normalization): GroupNorm(1, 64, eps=1e-05, affine=True)\n",
      "                (activation): GELU(approximate='none')\n",
      "              )\n",
      "              (1): Block(\n",
      "                (layer): Conv2d(64, 64, kernel_size=(3, 3), stride=(1, 1), padding=(1, 1))\n",
      "                (normalization): GroupNorm(1, 64, eps=1e-05, affine=True)\n",
      "                (activation): Identity()\n",
      "              )\n",
      "            )\n",
      "          )\n",
      "        )\n",
      "        (feed_forward_positional_embedding): Linear(in_features=256, out_features=64, bias=True)\n",
      "        (attention_layer): AttentionBlock(\n",
      "          (layer_norm1): LayerNorm((64,), eps=1e-05, elementwise_affine=True)\n",
      "          (self_attention): MultiheadAttention(\n",
      "            (out_proj): NonDynamicallyQuantizableLinear(in_features=64, out_features=64, bias=True)\n",
      "          )\n",
      "          (cross_attention): MultiheadAttention(\n",
      "            (out_proj): NonDynamicallyQuantizableLinear(in_features=64, out_features=64, bias=True)\n",
      "          )\n",
      "          (layer_norm2): LayerNorm((64,), eps=1e-05, elementwise_affine=True)\n",
      "          (context_projection): Linear(in_features=768, out_features=64, bias=True)\n",
      "          (layer_norm3): LayerNorm((64,), eps=1e-05, elementwise_affine=True)\n",
      "          (feed_forward): Sequential(\n",
      "            (0): Linear(in_features=64, out_features=64, bias=True)\n",
      "            (1): GELU(approximate='none')\n",
      "            (2): Linear(in_features=64, out_features=64, bias=True)\n",
      "          )\n",
      "        )\n",
      "      )\n",
      "      (1): FeatureIntegrationModule(\n",
      "        (conv_block): Sequential(\n",
      "          (0): DoubleConvBlock(\n",
      "            (blocks): LayerList(\n",
      "              (0): Block(\n",
      "                (layer): Conv2d(64, 64, kernel_size=(3, 3), stride=(1, 1), padding=(1, 1))\n",
      "                (normalization): GroupNorm(1, 64, eps=1e-05, affine=True)\n",
      "                (activation): GELU(approximate='none')\n",
      "              )\n",
      "              (1): Block(\n",
      "                (layer): Conv2d(64, 64, kernel_size=(3, 3), stride=(1, 1), padding=(1, 1))\n",
      "                (normalization): GroupNorm(1, 64, eps=1e-05, affine=True)\n",
      "                (activation): Identity()\n",
      "              )\n",
      "            )\n",
      "          )\n",
      "          (1): DoubleConvBlock(\n",
      "            (blocks): LayerList(\n",
      "              (0): Block(\n",
      "                (layer): Conv2d(64, 128, kernel_size=(3, 3), stride=(1, 1), padding=(1, 1))\n",
      "                (normalization): GroupNorm(1, 128, eps=1e-05, affine=True)\n",
      "                (activation): GELU(approximate='none')\n",
      "              )\n",
      "              (1): Block(\n",
      "                (layer): Conv2d(128, 128, kernel_size=(3, 3), stride=(1, 1), padding=(1, 1))\n",
      "                (normalization): GroupNorm(1, 128, eps=1e-05, affine=True)\n",
      "                (activation): Identity()\n",
      "              )\n",
      "            )\n",
      "          )\n",
      "        )\n",
      "        (feed_forward_positional_embedding): Linear(in_features=256, out_features=128, bias=True)\n",
      "        (attention_layer): AttentionBlock(\n",
      "          (layer_norm1): LayerNorm((128,), eps=1e-05, elementwise_affine=True)\n",
      "          (self_attention): MultiheadAttention(\n",
      "            (out_proj): NonDynamicallyQuantizableLinear(in_features=128, out_features=128, bias=True)\n",
      "          )\n",
      "          (cross_attention): MultiheadAttention(\n",
      "            (out_proj): NonDynamicallyQuantizableLinear(in_features=128, out_features=128, bias=True)\n",
      "          )\n",
      "          (layer_norm2): LayerNorm((128,), eps=1e-05, elementwise_affine=True)\n",
      "          (context_projection): Linear(in_features=768, out_features=128, bias=True)\n",
      "          (layer_norm3): LayerNorm((128,), eps=1e-05, elementwise_affine=True)\n",
      "          (feed_forward): Sequential(\n",
      "            (0): Linear(in_features=128, out_features=128, bias=True)\n",
      "            (1): GELU(approximate='none')\n",
      "            (2): Linear(in_features=128, out_features=128, bias=True)\n",
      "          )\n",
      "        )\n",
      "      )\n",
      "    )\n",
      "    (pool): MaxPool2d(kernel_size=2, stride=2, padding=0, dilation=1, ceil_mode=False)\n",
      "  )\n",
      "  (base_blocks): LayerList(\n",
      "    (0): DoubleConvBlock(\n",
      "      (blocks): LayerList(\n",
      "        (0): Block(\n",
      "          (layer): Conv2d(128, 256, kernel_size=(3, 3), stride=(1, 1), padding=(1, 1))\n",
      "          (normalization): GroupNorm(1, 256, eps=1e-05, affine=True)\n",
      "          (activation): GELU(approximate='none')\n",
      "        )\n",
      "        (1): Block(\n",
      "          (layer): Conv2d(256, 256, kernel_size=(3, 3), stride=(1, 1), padding=(1, 1))\n",
      "          (normalization): GroupNorm(1, 256, eps=1e-05, affine=True)\n",
      "          (activation): Identity()\n",
      "        )\n",
      "      )\n",
      "    )\n",
      "    (1): DoubleConvBlock(\n",
      "      (blocks): LayerList(\n",
      "        (0): Block(\n",
      "          (layer): Conv2d(256, 256, kernel_size=(3, 3), stride=(1, 1), padding=(1, 1))\n",
      "          (normalization): GroupNorm(1, 256, eps=1e-05, affine=True)\n",
      "          (activation): GELU(approximate='none')\n",
      "        )\n",
      "        (1): Block(\n",
      "          (layer): Conv2d(256, 256, kernel_size=(3, 3), stride=(1, 1), padding=(1, 1))\n",
      "          (normalization): GroupNorm(1, 256, eps=1e-05, affine=True)\n",
      "          (activation): Identity()\n",
      "        )\n",
      "      )\n",
      "    )\n",
      "    (2): DoubleConvBlock(\n",
      "      (blocks): LayerList(\n",
      "        (0): Block(\n",
      "          (layer): Conv2d(256, 128, kernel_size=(3, 3), stride=(1, 1), padding=(1, 1))\n",
      "          (normalization): GroupNorm(1, 128, eps=1e-05, affine=True)\n",
      "          (activation): GELU(approximate='none')\n",
      "        )\n",
      "        (1): Block(\n",
      "          (layer): Conv2d(128, 128, kernel_size=(3, 3), stride=(1, 1), padding=(1, 1))\n",
      "          (normalization): GroupNorm(1, 128, eps=1e-05, affine=True)\n",
      "          (activation): Identity()\n",
      "        )\n",
      "      )\n",
      "    )\n",
      "  )\n",
      "  (decoder): UNetDecoder(\n",
      "    (blocks): LayerList(\n",
      "      (0): LayerList(\n",
      "        (0): ConvTranspose2d(128, 64, kernel_size=(2, 2), stride=(2, 2))\n",
      "        (1): FeatureIntegrationModule(\n",
      "          (conv_block): Sequential(\n",
      "            (0): DoubleConvBlock(\n",
      "              (blocks): LayerList(\n",
      "                (0): Block(\n",
      "                  (layer): Conv2d(128, 128, kernel_size=(3, 3), stride=(1, 1), padding=(1, 1))\n",
      "                  (normalization): GroupNorm(1, 128, eps=1e-05, affine=True)\n",
      "                  (activation): GELU(approximate='none')\n",
      "                )\n",
      "                (1): Block(\n",
      "                  (layer): Conv2d(128, 128, kernel_size=(3, 3), stride=(1, 1), padding=(1, 1))\n",
      "                  (normalization): GroupNorm(1, 128, eps=1e-05, affine=True)\n",
      "                  (activation): Identity()\n",
      "                )\n",
      "              )\n",
      "            )\n",
      "            (1): DoubleConvBlock(\n",
      "              (blocks): LayerList(\n",
      "                (0): Block(\n",
      "                  (layer): Conv2d(128, 64, kernel_size=(3, 3), stride=(1, 1), padding=(1, 1))\n",
      "                  (normalization): GroupNorm(1, 64, eps=1e-05, affine=True)\n",
      "                  (activation): GELU(approximate='none')\n",
      "                )\n",
      "                (1): Block(\n",
      "                  (layer): Conv2d(64, 64, kernel_size=(3, 3), stride=(1, 1), padding=(1, 1))\n",
      "                  (normalization): GroupNorm(1, 64, eps=1e-05, affine=True)\n",
      "                  (activation): Identity()\n",
      "                )\n",
      "              )\n",
      "            )\n",
      "          )\n",
      "          (feed_forward_positional_embedding): Linear(in_features=256, out_features=64, bias=True)\n",
      "          (attention_layer): AttentionBlock(\n",
      "            (layer_norm1): LayerNorm((64,), eps=1e-05, elementwise_affine=True)\n",
      "            (self_attention): MultiheadAttention(\n",
      "              (out_proj): NonDynamicallyQuantizableLinear(in_features=64, out_features=64, bias=True)\n",
      "            )\n",
      "            (cross_attention): MultiheadAttention(\n",
      "              (out_proj): NonDynamicallyQuantizableLinear(in_features=64, out_features=64, bias=True)\n",
      "            )\n",
      "            (layer_norm2): LayerNorm((64,), eps=1e-05, elementwise_affine=True)\n",
      "            (context_projection): Linear(in_features=768, out_features=64, bias=True)\n",
      "            (layer_norm3): LayerNorm((64,), eps=1e-05, elementwise_affine=True)\n",
      "            (feed_forward): Sequential(\n",
      "              (0): Linear(in_features=64, out_features=64, bias=True)\n",
      "              (1): GELU(approximate='none')\n",
      "              (2): Linear(in_features=64, out_features=64, bias=True)\n",
      "            )\n",
      "          )\n",
      "        )\n",
      "      )\n",
      "      (1): LayerList(\n",
      "        (0): ConvTranspose2d(64, 32, kernel_size=(2, 2), stride=(2, 2))\n",
      "        (1): FeatureIntegrationModule(\n",
      "          (conv_block): Sequential(\n",
      "            (0): DoubleConvBlock(\n",
      "              (blocks): LayerList(\n",
      "                (0): Block(\n",
      "                  (layer): Conv2d(64, 64, kernel_size=(3, 3), stride=(1, 1), padding=(1, 1))\n",
      "                  (normalization): GroupNorm(1, 64, eps=1e-05, affine=True)\n",
      "                  (activation): GELU(approximate='none')\n",
      "                )\n",
      "                (1): Block(\n",
      "                  (layer): Conv2d(64, 64, kernel_size=(3, 3), stride=(1, 1), padding=(1, 1))\n",
      "                  (normalization): GroupNorm(1, 64, eps=1e-05, affine=True)\n",
      "                  (activation): Identity()\n",
      "                )\n",
      "              )\n",
      "            )\n",
      "            (1): DoubleConvBlock(\n",
      "              (blocks): LayerList(\n",
      "                (0): Block(\n",
      "                  (layer): Conv2d(64, 32, kernel_size=(3, 3), stride=(1, 1), padding=(1, 1))\n",
      "                  (normalization): GroupNorm(1, 32, eps=1e-05, affine=True)\n",
      "                  (activation): GELU(approximate='none')\n",
      "                )\n",
      "                (1): Block(\n",
      "                  (layer): Conv2d(32, 32, kernel_size=(3, 3), stride=(1, 1), padding=(1, 1))\n",
      "                  (normalization): GroupNorm(1, 32, eps=1e-05, affine=True)\n",
      "                  (activation): Identity()\n",
      "                )\n",
      "              )\n",
      "            )\n",
      "          )\n",
      "          (feed_forward_positional_embedding): Linear(in_features=256, out_features=32, bias=True)\n",
      "          (attention_layer): AttentionBlock(\n",
      "            (layer_norm1): LayerNorm((32,), eps=1e-05, elementwise_affine=True)\n",
      "            (self_attention): MultiheadAttention(\n",
      "              (out_proj): NonDynamicallyQuantizableLinear(in_features=32, out_features=32, bias=True)\n",
      "            )\n",
      "            (cross_attention): MultiheadAttention(\n",
      "              (out_proj): NonDynamicallyQuantizableLinear(in_features=32, out_features=32, bias=True)\n",
      "            )\n",
      "            (layer_norm2): LayerNorm((32,), eps=1e-05, elementwise_affine=True)\n",
      "            (context_projection): Linear(in_features=768, out_features=32, bias=True)\n",
      "            (layer_norm3): LayerNorm((32,), eps=1e-05, elementwise_affine=True)\n",
      "            (feed_forward): Sequential(\n",
      "              (0): Linear(in_features=32, out_features=32, bias=True)\n",
      "              (1): GELU(approximate='none')\n",
      "              (2): Linear(in_features=32, out_features=32, bias=True)\n",
      "            )\n",
      "          )\n",
      "        )\n",
      "      )\n",
      "    )\n",
      "  )\n",
      "  (output): Conv2d(32, 1, kernel_size=(1, 1), stride=(1, 1))\n",
      ")\n"
     ]
    }
   ],
   "source": [
    "import deeplay as dl\n",
    "\n",
    "position_encoding_dim = 256\n",
    "\n",
    "unet_template = dl.AttentionUNet(  ###\n",
    "    in_channels=1, channels=[32, 64, 128], base_channels=[256, 256], \n",
    "    channel_attention=[True, True, True], out_channels=1, \n",
    "    position_embedding_dim=position_encoding_dim, num_classes=10,\n",
    "    context_embedding_dim=768,\n",
    ")\n",
    "unet_clip = unet_template.create()  ### unet.build()\n",
    "unet_clip.to(device);  ###\n",
    "\n",
    "print(unet_clip)  ###"
   ]
  },
  {
   "cell_type": "markdown",
   "metadata": {},
   "source": [
    "## Training the Diffusion Model with CLIP"
   ]
  },
  {
   "cell_type": "markdown",
   "metadata": {},
   "source": [
    "Remove the `custom_text_encoder` parameters from the optimizer ..."
   ]
  },
  {
   "cell_type": "code",
   "execution_count": 38,
   "metadata": {},
   "outputs": [],
   "source": [
    "optimizer_clip = torch.optim.AdamW(unet_clip.parameters(), lr=1e-4)  ###"
   ]
  },
  {
   "cell_type": "markdown",
   "metadata": {},
   "source": [
    "... remove `custom_text_encoder` and add CLIP to training cycle ..."
   ]
  },
  {
   "cell_type": "code",
   "execution_count": null,
   "metadata": {},
   "outputs": [],
   "source": [
    "import numpy as np\n",
    "import time\n",
    "from datetime import timedelta\n",
    "\n",
    "epochs = 20\n",
    "n_images = 5\n",
    "save_time_steps = [999, 900, 800, 700, 600, 500, 400, 300, 200, 100, 0]\n",
    "\n",
    "train_loss = []\n",
    "for epoch in range(epochs):\n",
    "    start_time = time.time()\n",
    "    num_batches = len(loader)\n",
    "\n",
    "    print(\"\\n\" + f\"Epoch {epoch + 1}/{epochs}\" + \"\\n\" + \"_\" * 10)\n",
    "    \n",
    "    unet_clip.train() ###, custom_text_encoder.train()\n",
    "    \n",
    "    running_loss = 0.0\n",
    "    for batch_idx, (images, class_labels) in enumerate(loader, start=0):\n",
    "        x_t, t, noise = prepare_data(images)\n",
    "\n",
    "        text_inputs = generate_text_prompts(class_labels.numpy(), \n",
    "                                            train_text_prompts)\n",
    "        \n",
    "        # Custom Tokenizer.\n",
    "        \"\"\"tokens = custom_tokenizer(text_inputs)\n",
    "        text_embeddings = custom_text_encoder(tokens.to(device))\"\"\"\n",
    "\n",
    "        # CLIP.\n",
    "        tokens = CLIP_tokenizer(\n",
    "            text_inputs, padding=\"max_length\",\n",
    "            max_length=CLIP_tokenizer.model_max_length, truncation=True,\n",
    "            return_tensors=\"pt\",\n",
    "        )\n",
    "        text_embeddings = CLIP_text_encoder(tokens.input_ids.to(device))[0]\n",
    "        \n",
    "        context = None if np.random.rand() < 0.1 else text_embeddings\n",
    "        \n",
    "        outputs = unet_clip(x=x_t, t=t, context=context)  ###\n",
    "\n",
    "        optimizer_clip.zero_grad()\n",
    "        loss = criterion(outputs, noise)\n",
    "        loss.backward()\n",
    "        optimizer_clip.step()\n",
    "        \n",
    "        if batch_idx % 100 == 0:\n",
    "            print(f\"Batch {batch_idx + 1}/{num_batches}: \"\n",
    "                  + f\"Train loss: {loss.item():.4f}\")\n",
    "        running_loss += loss.item()\n",
    "\n",
    "    train_loss.append(running_loss / len(loader))\n",
    "    end_time = time.time()\n",
    "\n",
    "    print(\"-\" * 10 + \"\\n\" + f\"Epoch {epoch + 1}/{epochs} : \" \n",
    "          + f\"Train loss: {train_loss[-1]:.4f}, \" \n",
    "          + f\"Time taken: {timedelta(seconds=end_time - start_time)}\")\n",
    "    \n",
    "    unet_clip.eval() ###, custom_text_encoder.eval()\n",
    "\n",
    "    class_labels = random.sample(list(range(10)), n_images)\n",
    "    example_texts = generate_text_prompts(class_labels, test_text_prompts)\n",
    "\n",
    "    # Custom Tokenizer.\n",
    "    \"\"\"tokens = custom_tokenizer(example_texts)\n",
    "    text_embeddings = custom_text_encoder(tokens.to(device))\"\"\"\n",
    "    \n",
    "    # CLIP.\n",
    "    tokens = CLIP_tokenizer(\n",
    "        example_texts, padding=\"max_length\",\n",
    "        max_length=CLIP_tokenizer.model_max_length, truncation=True,\n",
    "        return_tensors=\"pt\",\n",
    "    )\n",
    "    text_embeddings = CLIP_text_encoder(tokens.input_ids.to(device))[0]\n",
    "    \n",
    "    generated_images = diffusion.reverse_diffusion(\n",
    "        model=unet_clip, n_images=n_images, n_channels=1,  ###\n",
    "        position_encoding_dim=position_encoding_dim,\n",
    "        position_encoding_function=positional_encoding,\n",
    "        save_time_steps=save_time_steps, \n",
    "        context=text_embeddings, guidance_strength=3,\n",
    "    )\n",
    "\n",
    "    fig = plt.figure(figsize=(len(save_time_steps), 1.2 * n_images))\n",
    "    for idx in range(n_images):\n",
    "        image_reverse_diff_traj = generated_images[idx]\n",
    "        for j in range(len(image_reverse_diff_traj)):\n",
    "            plt.subplot(n_images, len(image_reverse_diff_traj), \n",
    "                        idx * len(image_reverse_diff_traj) + j + 1)\n",
    "            plt.imshow(image_reverse_diff_traj[j]\n",
    "                       .permute(1, 2, 0).cpu().numpy(), cmap=\"gray\")\n",
    "            if j == 5: plt.title(example_texts[idx], fontsize=10)\n",
    "            plt.axis(\"off\")\n",
    "    plt.show()\n",
    "    plt.close()"
   ]
  },
  {
   "cell_type": "code",
   "execution_count": null,
   "metadata": {},
   "outputs": [],
   "source": [
    "unet_clip.eval()\n",
    "\n",
    "''' class_labels = random.sample(list(range(10)), n_images)\n",
    "example_texts = generate_text_prompts(class_labels, test_text_prompts)'''\n",
    "\n",
    "example_texts = [\n",
    "    \"Can you get me a picture of the number 2?\",\n",
    "    \"Can you get me a picture of the number four?\",\n",
    "    \"A chef makes nine dishes, and five are vegetarian. How many dishes are vegetarian?\",\n",
    "    \"Eight people finished their tasks, and four were volunteers. How many volunteers completed their tasks?\",\n",
    "    \"A magazine has seven articles on technology out of nine total. How many articles cover tech events?\",\n",
    "]\n",
    "\n",
    "# Custom Tokenizer.\n",
    "tokens = custom_tokenizer(example_texts)\n",
    "text_embeddings = custom_text_encoder(tokens.to(device))\n",
    "\n",
    "generated_images = diffusion.reverse_diffusion(\n",
    "        model=unet_clip, n_images=n_images, n_channels=1, \n",
    "        position_encoding_dim=position_encoding_dim,\n",
    "        position_encoding_function=positional_encoding,\n",
    "        save_time_steps=save_time_steps, \n",
    "        context=text_embeddings, guidance_strength=3,\n",
    "    )\n",
    "\n",
    "fig = plt.figure(figsize=(len(save_time_steps), 1.2 * n_images))\n",
    "for idx in range(n_images):\n",
    "    image_reverse_diff_traj = generated_images[idx]\n",
    "    for j in range(len(image_reverse_diff_traj)):\n",
    "        plt.subplot(n_images, len(image_reverse_diff_traj), \n",
    "                    idx * len(image_reverse_diff_traj) + j + 1)\n",
    "        plt.imshow(image_reverse_diff_traj[j]\n",
    "                    .permute(1, 2, 0).cpu().numpy(), cmap=\"gray\")\n",
    "        if j == 5: plt.title(example_texts[idx], fontsize=10)\n",
    "        plt.axis(\"off\")\n",
    "# plt.savefig(f\"fig_10_B2.pdf\", bbox_inches=\"tight\")\n",
    "plt.close()"
   ]
  },
  {
   "cell_type": "code",
   "execution_count": null,
   "metadata": {},
   "outputs": [],
   "source": []
  }
 ],
 "metadata": {
  "kernelspec": {
   "display_name": "deeplay_env",
   "language": "python",
   "name": "python3"
  },
  "language_info": {
   "codemirror_mode": {
    "name": "ipython",
    "version": 3
   },
   "file_extension": ".py",
   "mimetype": "text/x-python",
   "name": "python",
   "nbconvert_exporter": "python",
   "pygments_lexer": "ipython3",
   "version": "3.10.9"
  }
 },
 "nbformat": 4,
 "nbformat_minor": 2
}
