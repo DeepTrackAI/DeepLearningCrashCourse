{
 "cells": [
  {
   "cell_type": "markdown",
   "metadata": {},
   "source": [
    "# Generating Images of Digits from Text Prompts\n",
    "\n",
    "This notebook provides you with a complete code example to generate MNIST digits from text prompts. The `train_text_prompts.txt` and `test_text_prompts.txt` files provide the text data used for training and testing."
   ]
  },
  {
   "cell_type": "raw",
   "metadata": {
    "vscode": {
     "languageId": "raw"
    }
   },
   "source": [
    "!pip install deeplay contractions  ### REMOVE"
   ]
  },
  {
   "cell_type": "markdown",
   "metadata": {},
   "source": [
    "## Loading the MNIST Dataset with PyTorch"
   ]
  },
  {
   "cell_type": "markdown",
   "metadata": {},
   "source": [
    "Implement the normalization of the images ..."
   ]
  },
  {
   "cell_type": "code",
   "execution_count": null,
   "metadata": {},
   "outputs": [],
   "source": [
    "from torchvision.transforms import Compose, Normalize, ToTensor\n",
    "\n",
    "trans = Compose([ToTensor(), Normalize(mean=[0.5], std=[0.5], inplace=True)])"
   ]
  },
  {
   "cell_type": "markdown",
   "metadata": {},
   "source": [
    "...create the dataset..."
   ]
  },
  {
   "cell_type": "code",
   "execution_count": null,
   "metadata": {},
   "outputs": [],
   "source": [
    "import json\n",
    "\n",
    "with open(\"mnist_sentences.json\", \"r\") as file:\n",
    "    filenames_sentences = json.load(file)"
   ]
  },
  {
   "cell_type": "code",
   "execution_count": null,
   "metadata": {},
   "outputs": [],
   "source": [
    "for filename, sentence in filenames_sentences.items():\n",
    "    print(f\"{filename} : {sentence}\")"
   ]
  },
  {
   "cell_type": "code",
   "execution_count": null,
   "metadata": {},
   "outputs": [],
   "source": [
    "import os\n",
    "\n",
    "if not os.path.exists(\"MNIST_dataset\"):\n",
    "    os.system(\"git clone https://github.com/DeepTrackAI/MNIST_dataset\")\n",
    "MNIST_path = os.path.join(\"MNIST_dataset\", \"mnist\", \"train\")\n",
    "MNIST_images_files = sorted(os.listdir(MNIST_path))"
   ]
  },
  {
   "cell_type": "code",
   "execution_count": null,
   "metadata": {},
   "outputs": [],
   "source": [
    "import matplotlib.pyplot as plt\n",
    "\n",
    "images, digits, sentences = [], [],[]\n",
    "for filename in MNIST_images_files:\n",
    "    image = plt.imread(os.path.join(MNIST_path, filename))\n",
    "    images.append(trans(image))\n",
    "    \n",
    "    digit = int(filename[0])\n",
    "    digits.append(digit)\n",
    "\n",
    "    sentence = filenames_sentences.get(filename, \"\")\n",
    "    sentences.append(sentence)\n",
    "\n",
    "trainset = list(zip(images, digits, sentences))\n"
   ]
  },
  {
   "cell_type": "markdown",
   "metadata": {},
   "source": [
    "... and plot some of the transformed MNIST digits."
   ]
  },
  {
   "cell_type": "code",
   "execution_count": null,
   "metadata": {},
   "outputs": [],
   "source": [
    "import torch\n",
    "\n",
    "fig, axs = plt.subplots(1, 8, figsize=(15, 3))\n",
    "for ax in axs.ravel():\n",
    "    img, label, _ = trainset[torch.randint(0, len(trainset), (1,)).squeeze()]\n",
    "    ax.imshow(img.squeeze(), cmap=\"gray\")\n",
    "    ax.set_title(f\"Label: {label}\", fontsize=16)\n",
    "    ax.axis(\"off\")\n",
    "plt.tight_layout()\n",
    "plt.show()\n"
   ]
  },
  {
   "cell_type": "markdown",
   "metadata": {},
   "source": [
    "## Implementing the Forward Process\n",
    "\n",
    "Define the device on which the computations are performed ..."
   ]
  },
  {
   "cell_type": "code",
   "execution_count": null,
   "metadata": {},
   "outputs": [],
   "source": [
    "import torch\n",
    "\n",
    "def get_device():\n",
    "    \"\"\"Select device where to perform computations.\"\"\"\n",
    "    if torch.cuda.is_available():\n",
    "        return torch.device(\"cuda:0\")\n",
    "    # elif torch.backends.mps.is_available():\n",
    "    #    return torch.device(\"mps\")\n",
    "    else:\n",
    "        return torch.device(\"cpu\")"
   ]
  },
  {
   "cell_type": "code",
   "execution_count": null,
   "metadata": {},
   "outputs": [],
   "source": [
    "device = get_device()"
   ]
  },
  {
   "cell_type": "code",
   "execution_count": null,
   "metadata": {},
   "outputs": [],
   "source": [
    "print(device)"
   ]
  },
  {
   "cell_type": "markdown",
   "metadata": {},
   "source": [
    "... implement the forward diffusion process ..."
   ]
  },
  {
   "cell_type": "code",
   "execution_count": null,
   "metadata": {},
   "outputs": [],
   "source": [
    "class Diffusion:\n",
    "    \"\"\"Denoising diffusion probabilstic model (DDPM).\"\"\"\n",
    "    \n",
    "    def __init__(self, steps=1000, beta_start=1e-4, beta_end=0.02,\n",
    "                 device=device):\n",
    "        \"\"\"Initialize the diffusion model.\"\"\"\n",
    "        self.steps, self.device = steps, device\n",
    "        self.beta = torch.linspace(beta_start, beta_end, self.steps).to(device)\n",
    "        self.alpha = 1.0 - self.beta\n",
    "        self.alpha_bar = torch.cumprod(self.alpha, dim=0)\n",
    "\n",
    "    def forward_diffusion(self, x, t):\n",
    "        \"\"\"Implement the forward diffusion process.\"\"\"\n",
    "        sqrt_alpha_bar = torch.sqrt(self.alpha_bar[t])[:, None, None, None]\n",
    "        sqrt_one_minus_alpha_bar = \\\n",
    "            torch.sqrt(1 - self.alpha_bar[t])[:, None, None, None]\n",
    "        noise = torch.randn_like(x)\n",
    "        return sqrt_alpha_bar * x + sqrt_one_minus_alpha_bar * noise, noise"
   ]
  },
  {
   "cell_type": "markdown",
   "metadata": {},
   "source": [
    "... sampling images in the forward diffusion process .."
   ]
  },
  {
   "cell_type": "code",
   "execution_count": null,
   "metadata": {},
   "outputs": [],
   "source": [
    "diffusion = Diffusion(steps=401, beta_start=0.0001, beta_end=0.02)\n",
    "\n",
    "clean_image, label, _ = trainset[torch.randint(0, len(trainset), (1,)).squeeze()]\n",
    "\n",
    "steps = [0, 100, 200, 300, 400] \n",
    "noisy_images = []\n",
    "for t in steps:\n",
    "    noisy_image, noise = diffusion.forward_diffusion(\n",
    "        x=clean_image[None, ...].to(device), t=torch.tensor([t]).to(device),\n",
    "    )\n",
    "    noisy_images.append(noisy_image)"
   ]
  },
  {
   "cell_type": "markdown",
   "metadata": {},
   "source": [
    "... and visualize the noisy digits generated in the forward diffusion process."
   ]
  },
  {
   "cell_type": "code",
   "execution_count": null,
   "metadata": {},
   "outputs": [],
   "source": [
    "fig, axs = plt.subplots(1, len(steps))\n",
    "for i, ax in enumerate(axs.flatten()):\n",
    "    ax.imshow(noisy_images[i].cpu().numpy().squeeze(), cmap=\"gray\")\n",
    "    ax.set_title(f\"t = {steps[i]}\", fontsize=10)\n",
    "    ax.axis(\"off\")\n",
    "plt.tight_layout()\n",
    "plt.show()"
   ]
  },
  {
   "cell_type": "markdown",
   "metadata": {},
   "source": [
    "## Implementing the Reverse Diffusion Process\n",
    "\n",
    "Update the `Diffusion` class to implement the reverse diffusion process."
   ]
  },
  {
   "cell_type": "code",
   "execution_count": null,
   "metadata": {},
   "outputs": [],
   "source": [
    "from tqdm import tqdm\n",
    "\n",
    "class Diffusion:\n",
    "    \"\"\"Denoising diffusion probabilstic model (DDPM).\"\"\"\n",
    "    \n",
    "    def __init__(self, steps=1000, beta_start=1e-4, beta_end=0.02, img_size=28, \n",
    "                 device=device):\n",
    "        \"\"\"Initialize the diffusion model.\"\"\"\n",
    "        self.steps, self.img_size, self.device = steps, img_size, device\n",
    "        self.beta = torch.linspace(beta_start, beta_end, self.steps).to(device)\n",
    "        self.alpha = 1.0 - self.beta\n",
    "        self.alpha_bar = torch.cumprod(self.alpha, dim=0)\n",
    "\n",
    "    def forward_diffusion(self, x, t):\n",
    "        \"\"\"Implement the forward diffusion process.\"\"\"\n",
    "        sqrt_alpha_bar = torch.sqrt(self.alpha_bar[t])[:, None, None, None]\n",
    "        sqrt_one_minus_alpha_bar = \\\n",
    "            torch.sqrt(1 - self.alpha_bar[t])[:, None, None, None]\n",
    "        noise = torch.randn_like(x)\n",
    "        return sqrt_alpha_bar * x + sqrt_one_minus_alpha_bar * noise, noise\n",
    "    \n",
    "    def reverse_diffusion(self, model, n_images, n_channels, pos_enc_dim, \n",
    "                          pos_enc_func, fix_noise=None, save_time_steps=None, \n",
    "                          context=None, guidance_strength=None):\n",
    "        \"\"\"Reverse diffusion process\"\"\"\n",
    "        with torch.no_grad():\n",
    "            if fix_noise is not None:\n",
    "                x = fix_noise.to(self.device)\n",
    "            else:\n",
    "                x = torch.randn(\n",
    "                    (n_images, n_channels, self.img_size, self.img_size)\n",
    "                ).to(self.device)\n",
    "            \n",
    "            denoised_images = []\n",
    "            for i in tqdm(reversed(range(0, self.steps)),\n",
    "                          desc=\"U-Net inference\", total=self.steps):\n",
    "                t = (torch.ones(n_images) * i).long()\n",
    "                t_pos_enc = (pos_enc_func(t.unsqueeze(1), pos_enc_dim)\n",
    "                             .to(self.device))\n",
    "                if context is None:\n",
    "                    predicted_noise = model(x=x, t=t_pos_enc)\n",
    "                else:\n",
    "                    conditional_pred = model(x=x, t=t_pos_enc, context=context)\n",
    "                    unconditional_pred = model(x=x, t=t_pos_enc, context=None)\n",
    "                    predicted_noise = torch.lerp(unconditional_pred,\n",
    "                                                 conditional_pred,\n",
    "                                                 guidance_strength)\n",
    "                alpha = self.alpha[t][:, None, None, None]\n",
    "                alpha_bar = self.alpha_bar[t][:, None, None, None]\n",
    "                noise = torch.randn_like(x) if i > 0 else torch.zeros_like(x)\n",
    "                x = (1 / torch.sqrt(alpha) * (x - ((1 - alpha) \n",
    "                     / torch.sqrt(1 - alpha_bar)) * predicted_noise) \n",
    "                     + torch.sqrt(1-alpha) * noise)\n",
    "                if i in save_time_steps: denoised_images.append(x)\n",
    "\n",
    "            denoised_images = torch.stack(denoised_images)\n",
    "            denoised_images = denoised_images.swapaxes(0, 1)\n",
    "            return denoised_images"
   ]
  },
  {
   "cell_type": "markdown",
   "metadata": {},
   "source": [
    "## Defining the Position Encoding Function\n",
    "\n",
    "Implement the position encoding function ..."
   ]
  },
  {
   "cell_type": "code",
   "execution_count": null,
   "metadata": {},
   "outputs": [],
   "source": [
    "def positional_encoding(t, enc_dim):\n",
    "    \"\"\"Encode position information with a sinusoid.\"\"\"\n",
    "    scaled_positions = torch.arange(0, enc_dim, 2).float() / enc_dim\n",
    "    frequency = 10000 ** scaled_positions\n",
    "    inverse_frequency = (1.0 / frequency).to(t.device)\n",
    "    angle = t.repeat(1, enc_dim // 2) * inverse_frequency\n",
    "    pos_enc_a, pos_enc_b = torch.sin(angle), torch.cos(angle)\n",
    "    pos_enc = torch.cat([pos_enc_a, pos_enc_b], dim=-1)\n",
    "    return pos_enc"
   ]
  },
  {
   "cell_type": "markdown",
   "metadata": {},
   "source": [
    "... sinusoidal position encodings for different time steps ..."
   ]
  },
  {
   "cell_type": "code",
   "execution_count": null,
   "metadata": {},
   "outputs": [],
   "source": [
    "pos_enc_dim = 256\n",
    "\n",
    "pos_encs = []\n",
    "for i in range(0, 100):\n",
    "    t = torch.tensor([i])\n",
    "    pos_enc = positional_encoding(t, pos_enc_dim)\n",
    "    pos_encs.append(pos_enc.squeeze())\n",
    "pos_encs = torch.stack(pos_encs)"
   ]
  },
  {
   "cell_type": "markdown",
   "metadata": {},
   "source": [
    "... and visualize the position encodings."
   ]
  },
  {
   "cell_type": "code",
   "execution_count": null,
   "metadata": {},
   "outputs": [],
   "source": [
    "fig = plt.figure()\n",
    "plt.imshow(pos_encs.cpu().numpy())\n",
    "plt.xlabel(\"Encoding dimension\")\n",
    "plt.ylabel(\"Time step (t)\")\n",
    "plt.show()"
   ]
  },
  {
   "cell_type": "markdown",
   "metadata": {},
   "source": [
    "## Defining a Custom Tokenizer and Text Encoder\n",
    "\n",
    "Implement the function to tokenize the text ..."
   ]
  },
  {
   "cell_type": "code",
   "execution_count": null,
   "metadata": {},
   "outputs": [],
   "source": [
    "import contractions, re, spacy, unicodedata\n",
    "\n",
    "tokenizers = {\"eng\": spacy.blank(\"en\"), \"spa\": spacy.blank(\"es\")}\n",
    "\n",
    "regular_expression = r\"^[a-zA-Z0-9áéíóúüñÁÉÍÓÚÜÑ.,!?¡¿/:()]+$\"\n",
    "pattern = re.compile(unicodedata.normalize(\"NFC\", regular_expression))\n",
    "\n",
    "def tokenize(text, lang=\"eng\"):\n",
    "    \"\"\"Tokenize text.\"\"\"\n",
    "    swaps = {\"’\": \"'\", \"‘\": \"'\", \"“\": '\"', \"”\": '\"', \"´\": \"'\", \"´´\": '\"'}\n",
    "    for old, new in swaps.items():\n",
    "        text = text.replace(old, new)\n",
    "    text = contractions.fix(text) if lang == \"eng\" else text\n",
    "    tokens = tokenizers[lang](text)\n",
    "    return [token.text for token in tokens if pattern.match(token.text)]"
   ]
  },
  {
   "cell_type": "code",
   "execution_count": null,
   "metadata": {},
   "outputs": [],
   "source": [
    "class Vocab:\n",
    "    \"\"\"Vocabulary as callable dictionary.\"\"\"\n",
    "    \n",
    "    def __init__(self, vocab_dict, unk_token=\"<unk>\"):\n",
    "        \"\"\"Initialize vocabulary\"\"\"\n",
    "        self.vocab_dict, self.unk_token = vocab_dict, unk_token\n",
    "        self.default_index = vocab_dict.get(unk_token, -1)\n",
    "        self.index_to_token = {idx: token for token, idx in vocab_dict.items()}\n",
    "        \n",
    "    def __call__(self, token_or_tokens):\n",
    "        \"\"\"Return the index(es) for given token or list of tokens.\"\"\"\n",
    "        if not isinstance(token_or_tokens, list):\n",
    "            return self.vocab_dict.get(token_or_tokens, self.default_index)\n",
    "        else:\n",
    "            return [self.vocab_dict.get(token, self.default_index) \n",
    "                    for token in token_or_tokens]\n",
    "    \n",
    "    def set_default_index(self, index):\n",
    "        \"\"\"Set default index for unknown tokens.\"\"\"\n",
    "        self.default_index = index\n",
    "\n",
    "    def lookup_token(self, index_or_indices):\n",
    "        \"\"\"Retrieve token corresponding to given index or list of indices.\"\"\"\n",
    "        if not isinstance(index_or_indices, list):\n",
    "            return self.index_to_token.get(int(index_or_indices), self.unk_token)\n",
    "        else:\n",
    "            return [self.index_to_token.get(int(index), self.unk_token) \n",
    "                    for index in index_or_indices]\n",
    "\n",
    "    def get_itos(self):\n",
    "        \"\"\"Return a list of tokens ordered by their index.\"\"\"\n",
    "        itos = [None] * len(self.index_to_token)\n",
    "        for index, token in self.index_to_token.items():\n",
    "            itos[index] = token\n",
    "        return itos\n",
    "        \n",
    "    def __iter__(self):\n",
    "        \"\"\"Iterate over the tokens in the vocabulary.\"\"\"\n",
    "        return iter(self.vocab_dict)\n",
    "\n",
    "    def __len__(self):\n",
    "        \"\"\"Return the number of tokens in the vocabulary.\"\"\"\n",
    "        return len(self.vocab_dict)\n",
    "    \n",
    "    def __contains__(self, token):\n",
    "        \"\"\"Check if a token is in the vocabulary.\"\"\"\n",
    "        return token in self.vocab_dict"
   ]
  },
  {
   "cell_type": "code",
   "execution_count": null,
   "metadata": {},
   "outputs": [],
   "source": [
    "from collections import Counter\n",
    "\n",
    "def build_vocab_from_iterator(iterator, specials=None, min_freq=1):\n",
    "    \"\"\"Build vocabulary from an iterator over tokenized sentences.\"\"\"\n",
    "    token_freq = Counter(token for tokens in iterator for token in tokens)\n",
    "    vocab, index = {}, 0\n",
    "    if specials: \n",
    "        for token in specials: \n",
    "            vocab[token] = index\n",
    "            index += 1\n",
    "    for token, freq in token_freq.items():\n",
    "        if freq >= min_freq:\n",
    "            vocab[token] = index\n",
    "            index += 1\n",
    "    return vocab"
   ]
  },
  {
   "cell_type": "markdown",
   "metadata": {},
   "source": [
    "... build a custom vocabulary ..."
   ]
  },
  {
   "cell_type": "code",
   "execution_count": null,
   "metadata": {},
   "outputs": [],
   "source": [
    "def sentence_iterator(dataset):\n",
    "    \"\"\"Iterate over the dataset.\"\"\"\n",
    "    for sentence in dataset:\n",
    "        yield tokenize(sentence)\n",
    "\n",
    "with open(\"test_sentences.txt\", \"r\") as file:\n",
    "    test_sentences = [line.strip() for line in file.readlines()]\n",
    "\n",
    "vocab_dict = build_vocab_from_iterator(\n",
    "    sentence_iterator(sentences + test_sentences), \n",
    "    specials=[\"<unk>\", \"<sos>\", \"<eos>\", \"<pad>\"], min_freq=1,\n",
    ")\n",
    "vocab = Vocab(vocab_dict, unk_token=\"<unk>\")\n",
    "vocab.set_default_index(vocab(vocab.unk_token))"
   ]
  },
  {
   "cell_type": "markdown",
   "metadata": {},
   "source": [
    "... check the vocabulary and string-to-numerical indices mapping ..."
   ]
  },
  {
   "cell_type": "code",
   "execution_count": null,
   "metadata": {},
   "outputs": [],
   "source": [
    "for word, index in vocab_dict.items(): print(f\"{word}: {index}\")"
   ]
  },
  {
   "cell_type": "markdown",
   "metadata": {},
   "source": [
    "... write a function to implemet a function to pad and process ..."
   ]
  },
  {
   "cell_type": "code",
   "execution_count": null,
   "metadata": {},
   "outputs": [],
   "source": [
    "def pad_and_process(texts, vocab=vocab, max_token_length=77):\n",
    "    \"\"\"Tokenize a sentence.\"\"\"\n",
    "    batch_tokens = []\n",
    "    for text_prompt in texts:\n",
    "        tokens = ([vocab(\"<sos>\")] + \n",
    "                  [vocab(token) for token in tokenize(text_prompt)] + \n",
    "                  [vocab(\"<eos>\")])\n",
    "\n",
    "        if len(tokens) > max_token_length:\n",
    "            tokens = tokens[:max_token_length]\n",
    "        else:\n",
    "            tokens += [vocab(\"<pad>\")] * (max_token_length - len(tokens))\n",
    "        \n",
    "        tokens = torch.tensor(tokens, dtype=torch.long)\n",
    "        batch_tokens.append(tokens)\n",
    "    return torch.stack(batch_tokens)"
   ]
  },
  {
   "cell_type": "markdown",
   "metadata": {},
   "source": [
    "... observe a tokenized version of an example text prompt ..."
   ]
  },
  {
   "cell_type": "code",
   "execution_count": null,
   "metadata": {},
   "outputs": [],
   "source": [
    "import random\n",
    "\n",
    "_, _, example_text = random.choice(trainset)\n",
    "tokens = pad_and_process([example_text])\n",
    "print(example_text), print(tokens.shape), print(tokens);"
   ]
  },
  {
   "cell_type": "markdown",
   "metadata": {},
   "source": [
    "... implement a class for a custom text encoder ..."
   ]
  },
  {
   "cell_type": "code",
   "execution_count": null,
   "metadata": {},
   "outputs": [],
   "source": [
    "import torch.nn as nn\n",
    "\n",
    "class TextEncoder(nn.Module):\n",
    "    \"\"\"Text encoder.\"\"\"\n",
    "\n",
    "    def __init__(self, max_token_length, vocab_size, embedding_dim, num_heads):\n",
    "        \"\"\"Initialize the text encoder module.\"\"\"\n",
    "        super(TextEncoder, self).__init__()\n",
    "        \n",
    "        self.token_embedding = nn.Embedding(vocab_size, embedding_dim)\n",
    "        self.position_encoding = positional_encoding(\n",
    "            torch.arange(0, max_token_length).unsqueeze(1), embedding_dim,\n",
    "        )\n",
    "\n",
    "        self.self_attention = nn.MultiheadAttention(\n",
    "            embedding_dim, num_heads=num_heads, batch_first=True,\n",
    "        )\n",
    "        self.layer_norm1 = nn.LayerNorm(embedding_dim)\n",
    "        self.layer_norm2 = nn.LayerNorm(embedding_dim)\n",
    "\n",
    "        self.feed_forward = nn.Sequential(\n",
    "            nn.Linear(embedding_dim, embedding_dim), nn.GELU(),\n",
    "            nn.Linear(embedding_dim, embedding_dim),\n",
    "        )\n",
    "\n",
    "    def forward(self, tokens):\n",
    "        \"\"\"Forward pass of text encoder module.\"\"\"\n",
    "        token_embeddings = self.token_embedding(tokens)\n",
    "        position_encodings = (self.position_encoding\n",
    "                              .repeat(tokens.size(0), 1, 1).to(tokens.device))\n",
    "\n",
    "        token_embeddings_with_pos = token_embeddings + position_encodings\n",
    "\n",
    "        normalized_embeddings = self.layer_norm1(token_embeddings_with_pos)\n",
    "        attention_output, _ = self.self_attention(\n",
    "            query=normalized_embeddings, \n",
    "            key=normalized_embeddings, \n",
    "            value=normalized_embeddings,\n",
    "        )\n",
    "        attention_output = attention_output + normalized_embeddings\n",
    "\n",
    "        residual_input = attention_output\n",
    "        normalized_attention_output = self.layer_norm2(attention_output)\n",
    "        feed_forward_output = self.feed_forward(normalized_attention_output)\n",
    "        residual_output = feed_forward_output + residual_input\n",
    "\n",
    "        return residual_output"
   ]
  },
  {
   "cell_type": "markdown",
   "metadata": {},
   "source": [
    "... instantiate a custom text encoder ..."
   ]
  },
  {
   "cell_type": "code",
   "execution_count": null,
   "metadata": {},
   "outputs": [],
   "source": [
    "custom_text_encoder = TextEncoder(max_token_length=77, vocab_size=len(vocab),\n",
    "                                  embedding_dim=768, num_heads=4).to(device)"
   ]
  },
  {
   "cell_type": "markdown",
   "metadata": {},
   "source": [
    "... and check the shape of example text prompts."
   ]
  },
  {
   "cell_type": "code",
   "execution_count": null,
   "metadata": {},
   "outputs": [],
   "source": [
    "_, _, example_text = random.choice(trainset)  ### ADD\n",
    "tokens = pad_and_process([example_text])\n",
    "text_embedding = custom_text_encoder(tokens.to(device))\n",
    "\n",
    "print(f\"tokens shape: {tokens.shape}\")\n",
    "print(f\"text embeddings shape: {text_embedding.shape}\")"
   ]
  },
  {
   "cell_type": "markdown",
   "metadata": {},
   "source": [
    "## Defining the Conditional Attention U-Net"
   ]
  },
  {
   "cell_type": "code",
   "execution_count": null,
   "metadata": {},
   "outputs": [],
   "source": [
    "import deeplay as dl\n",
    "\n",
    "pos_enc_dim = 256\n",
    "\n",
    "unet_template = dl.AttentionUNet(in_channels=1, channels=[32, 64, 128], \n",
    "                                 base_channels=[256, 256], \n",
    "                                 channel_attention=[True, True, True], \n",
    "                                 out_channels=1, \n",
    "                                 position_embedding_dim=pos_enc_dim, \n",
    "                                 num_classes=10, context_embedding_dim=768)\n",
    "unet = unet_template.create()\n",
    "unet.to(device);"
   ]
  },
  {
   "cell_type": "code",
   "execution_count": null,
   "metadata": {},
   "outputs": [],
   "source": [
    "print(unet)"
   ]
  },
  {
   "cell_type": "markdown",
   "metadata": {},
   "source": [
    "## Training the Diffusion Model\n",
    "\n",
    "Define the data loader ..."
   ]
  },
  {
   "cell_type": "code",
   "execution_count": null,
   "metadata": {},
   "outputs": [],
   "source": [
    "from torch.utils.data import DataLoader\n",
    "\n",
    "loader = DataLoader(dataset=trainset, batch_size=128, shuffle=True)"
   ]
  },
  {
   "cell_type": "markdown",
   "metadata": {},
   "source": [
    "... define the loss function ..."
   ]
  },
  {
   "cell_type": "code",
   "execution_count": null,
   "metadata": {},
   "outputs": [],
   "source": [
    "criterion = torch.nn.MSELoss()"
   ]
  },
  {
   "cell_type": "markdown",
   "metadata": {},
   "source": [
    "... define the optimizer ..."
   ]
  },
  {
   "cell_type": "code",
   "execution_count": null,
   "metadata": {},
   "outputs": [],
   "source": [
    "optimizer = torch.optim.AdamW(list(unet.parameters())\n",
    "                              + list(custom_text_encoder.parameters()), \n",
    "                              lr=1e-4)"
   ]
  },
  {
   "cell_type": "markdown",
   "metadata": {},
   "source": [
    "...  instantiate the diffusion class for training ..."
   ]
  },
  {
   "cell_type": "code",
   "execution_count": null,
   "metadata": {},
   "outputs": [],
   "source": [
    "diffusion = Diffusion(steps=1000, beta_start=1e-4, beta_end=0.02, img_size=28)"
   ]
  },
  {
   "cell_type": "markdown",
   "metadata": {},
   "source": [
    "...implement a function to prepare the data ..."
   ]
  },
  {
   "cell_type": "code",
   "execution_count": null,
   "metadata": {},
   "outputs": [],
   "source": [
    "def prepare_data(image, steps=1000, device=device):\n",
    "    \"\"\"Prepare data.\"\"\"\n",
    "    batch_size = image.shape[0]\n",
    "    t = torch.randint(low=0, high=steps, size=(batch_size,)).to(device)\n",
    "    image = image.to(device)\n",
    "    x_t, noise = diffusion.forward_diffusion(image, t)\n",
    "    t_pos_enc = positional_encoding(t.unsqueeze(1), pos_enc_dim)\n",
    "    return x_t.to(device), t_pos_enc.to(device), noise.to(device)"
   ]
  },
  {
   "cell_type": "markdown",
   "metadata": {},
   "source": [
    "... implement the training cycle ..."
   ]
  },
  {
   "cell_type": "code",
   "execution_count": null,
   "metadata": {},
   "outputs": [],
   "source": [
    "import numpy as np\n",
    "import time\n",
    "from datetime import timedelta\n",
    "\n",
    "epochs = 20\n",
    "\n",
    "n_images = 5\n",
    "example_sentences = random.sample(test_sentences, n_images)\n",
    "save_time_steps = [999, 900, 800, 700, 600, 500, 400, 300, 200, 100, 0]\n",
    "train_loss = []\n",
    "for epoch in range(epochs):\n",
    "    unet.train(), custom_text_encoder.train()\n",
    "\n",
    "    start_time = time.time()\n",
    "    num_batches = len(loader)\n",
    "\n",
    "    print(\"\\n\" + f\"Epoch {epoch + 1}/{epochs}\" + \"\\n\" + \"_\" * 10)\n",
    "        \n",
    "    running_loss = 0.0\n",
    "    for batch_idx, (images, _, sentences) in enumerate(loader, start=0):\n",
    "        x_t, t, noise = prepare_data(images)\n",
    "\n",
    "        # Custom Tokenizer.\n",
    "        tokens = pad_and_process(sentences)\n",
    "        text_embeddings = custom_text_encoder(tokens.to(device))\n",
    "\n",
    "        # CLIP.\n",
    "        \"\"\"tokens = CLIP_tokenizer(\n",
    "            sentences, padding=\"max_length\",\n",
    "            max_length=CLIP_tokenizer.model_max_length, truncation=True,\n",
    "            return_tensors=\"pt\",\n",
    "        )\n",
    "        text_embeddings = CLIP_text_encoder(tokens.input_ids.to(device))[0]\"\"\"\n",
    "        \n",
    "        context = None if np.random.rand() < 0.1 else text_embeddings\n",
    "\n",
    "        outputs = unet(x=x_t, t=t, context=context)\n",
    "\n",
    "        optimizer.zero_grad()\n",
    "        loss = criterion(outputs, noise)\n",
    "        loss.backward()\n",
    "        optimizer.step()\n",
    "        \n",
    "        if batch_idx % 100 == 0:\n",
    "            print(f\"Batch {batch_idx + 1}/{num_batches}: \"\n",
    "                  + f\"Train loss: {loss.item():.4f}\")\n",
    "        running_loss += loss.item()\n",
    "\n",
    "    train_loss.append(running_loss / len(loader))\n",
    "    end_time = time.time()\n",
    "\n",
    "    print(\"-\" * 10 + \"\\n\" + f\"Epoch {epoch + 1}/{epochs} : \" \n",
    "          + f\"Train loss: {train_loss[-1]:.4f}, \" \n",
    "          + f\"Time taken: {timedelta(seconds=end_time - start_time)}\")\n",
    "    \n",
    "    unet.eval(), custom_text_encoder.eval()\n",
    "\n",
    "    # Custom Tokenizer.\n",
    "    tokens = pad_and_process(example_sentences)\n",
    "    text_embeddings = custom_text_encoder(tokens.to(device))\n",
    "    \n",
    "    # CLIP.\n",
    "    \"\"\"tokens = CLIP_tokenizer(\n",
    "        example_texts, padding=\"max_length\",\n",
    "        max_length=CLIP_tokenizer.model_max_length, truncation=True,\n",
    "        return_tensors=\"pt\",\n",
    "    )\n",
    "    text_embeddings = CLIP_text_encoder(tokens.input_ids.to(device))[0]\"\"\"\n",
    "    \n",
    "    generated_images = diffusion.reverse_diffusion(\n",
    "        model=unet, n_images=n_images, n_channels=1, pos_enc_dim=pos_enc_dim,\n",
    "        pos_enc_func=positional_encoding, save_time_steps=save_time_steps, \n",
    "        context=text_embeddings, guidance_strength=3,\n",
    "    )\n",
    "    #########################\n",
    "    fig = plt.figure(figsize=(len(save_time_steps), 1.2 * n_images))\n",
    "    for idx in range(n_images):\n",
    "        image_reverse_diff_traj = generated_images[idx]\n",
    "        for j in range(len(image_reverse_diff_traj)):\n",
    "            plt.subplot(n_images, len(image_reverse_diff_traj), \n",
    "                        idx * len(image_reverse_diff_traj) + j + 1)\n",
    "            plt.imshow(image_reverse_diff_traj[j]\n",
    "                       .permute(1, 2, 0).cpu().numpy(), cmap=\"gray\")\n",
    "            if j == 5: plt.title(example_sentences[idx], fontsize=10)\n",
    "            plt.axis(\"off\")\n",
    "    plt.show()\n",
    "    plt.close()"
   ]
  },
  {
   "cell_type": "code",
   "execution_count": null,
   "metadata": {},
   "outputs": [],
   "source": [
    "unet.eval(), custom_text_encoder.eval()\n",
    "\n",
    "''' class_labels = random.sample(list(range(10)), n_images)\n",
    "example_texts = generate_text_prompts(class_labels, test_text_prompts)'''\n",
    "\n",
    "example_texts = random.sample(test_sentences, n_images)\n",
    "\n",
    "\n",
    "# Custom Tokenizer.\n",
    "tokens = pad_and_process(example_texts)\n",
    "text_embeddings = custom_text_encoder(tokens.to(device))\n",
    "\n",
    "generated_images = diffusion.reverse_diffusion(\n",
    "        model=unet, n_images=n_images, n_channels=1, \n",
    "        position_encoding_dim=position_encoding_dim,\n",
    "        position_encoding_function=positional_encoding,\n",
    "        save_time_steps=save_time_steps, \n",
    "        context=text_embeddings, guidance_strength=3,\n",
    "    )\n",
    "\n",
    "fig = plt.figure(figsize=(len(save_time_steps), 1.2 * n_images))\n",
    "for idx in range(n_images):\n",
    "    image_reverse_diff_traj = generated_images[idx]\n",
    "    for j in range(len(image_reverse_diff_traj)):\n",
    "        plt.subplot(n_images, len(image_reverse_diff_traj), \n",
    "                    idx * len(image_reverse_diff_traj) + j + 1)\n",
    "        plt.imshow(image_reverse_diff_traj[j]\n",
    "                    .permute(1, 2, 0).cpu().numpy(), cmap=\"gray\")\n",
    "        if j == 5: plt.title(example_texts[idx], fontsize=10)\n",
    "        plt.axis(\"off\")\n",
    "plt.savefig(f\"fig_10_B1.pdf\", bbox_inches=\"tight\")  ### plt.show()"
   ]
  },
  {
   "cell_type": "code",
   "execution_count": null,
   "metadata": {},
   "outputs": [],
   "source": [
    "# raise KeyboardInterrupt  ### REMOVE"
   ]
  },
  {
   "cell_type": "markdown",
   "metadata": {},
   "source": [
    "## Defining CLIP Tokenizer and CLIP Text Encoder\n",
    "\n",
    "Import the CLIP tokenizer and CLIP text encoder ..."
   ]
  },
  {
   "cell_type": "code",
   "execution_count": null,
   "metadata": {},
   "outputs": [],
   "source": [
    "from transformers import CLIPTextModel, CLIPTokenizer\n",
    "\n",
    "CLIP_tokenizer = CLIPTokenizer.from_pretrained(\n",
    "    \"openai/clip-vit-large-patch14\", torch_dtype=torch.float32,\n",
    ")\n",
    "CLIP_text_encoder = CLIPTextModel.from_pretrained(\n",
    "    \"openai/clip-vit-large-patch14\", torch_dtype=torch.float32,\n",
    ").to(device)"
   ]
  },
  {
   "cell_type": "markdown",
   "metadata": {},
   "source": [
    "... check the tokens and the text embeddings of an example text prompt generated by CLIP ..."
   ]
  },
  {
   "cell_type": "code",
   "execution_count": null,
   "metadata": {},
   "outputs": [],
   "source": [
    "example_text = random.choice(test_sentences)\n",
    "\n",
    "tokens = CLIP_tokenizer(\n",
    "    example_text, padding=\"max_length\", \n",
    "    max_length=CLIP_tokenizer.model_max_length,\n",
    "    truncation=True, return_tensors=\"pt\",\n",
    ")\n",
    "text_embedding = CLIP_text_encoder(tokens.input_ids.to(device))[0]\n",
    "\n",
    "print(f\"text: {example_text}\")\n",
    "print(f\"tokens: {tokens.input_ids}\")\n",
    "print(f\"tokens shape: {tokens.input_ids.shape}\")\n",
    "print(f\"text embeddings: {text_embedding.shape}\")"
   ]
  },
  {
   "cell_type": "markdown",
   "metadata": {},
   "source": [
    "... and freeze the weights of CLIP."
   ]
  },
  {
   "cell_type": "code",
   "execution_count": null,
   "metadata": {},
   "outputs": [],
   "source": [
    "for param in CLIP_text_encoder.parameters():\n",
    "    param.requires_grad = False"
   ]
  },
  {
   "cell_type": "markdown",
   "metadata": {},
   "source": [
    "### Defining the Conditional Attention U-Net for CLIP"
   ]
  },
  {
   "cell_type": "code",
   "execution_count": null,
   "metadata": {},
   "outputs": [],
   "source": [
    "import deeplay as dl\n",
    "\n",
    "position_encoding_dim = 256\n",
    "\n",
    "unet_template = dl.AttentionUNet(  ###\n",
    "    in_channels=1, channels=[32, 64, 128], base_channels=[256, 256], \n",
    "    channel_attention=[True, True, True], out_channels=1, \n",
    "    position_embedding_dim=position_encoding_dim, num_classes=10,\n",
    "    context_embedding_dim=768,\n",
    ")\n",
    "unet_clip = unet_template.create()  ### unet.build()\n",
    "unet_clip.to(device);  ###\n",
    "\n",
    "print(unet_clip)  ###"
   ]
  },
  {
   "cell_type": "markdown",
   "metadata": {},
   "source": [
    "## Training the Diffusion Model with CLIP"
   ]
  },
  {
   "cell_type": "markdown",
   "metadata": {},
   "source": [
    "Remove the `custom_text_encoder` parameters from the optimizer ..."
   ]
  },
  {
   "cell_type": "code",
   "execution_count": null,
   "metadata": {},
   "outputs": [],
   "source": [
    "optimizer_clip = torch.optim.AdamW(unet_clip.parameters(), lr=1e-4)  ###"
   ]
  },
  {
   "cell_type": "markdown",
   "metadata": {},
   "source": [
    "... remove `custom_text_encoder` and add CLIP to training cycle ..."
   ]
  },
  {
   "cell_type": "code",
   "execution_count": null,
   "metadata": {},
   "outputs": [],
   "source": [
    "import numpy as np\n",
    "import time\n",
    "from datetime import timedelta\n",
    "\n",
    "epochs = 20\n",
    "n_images = 5\n",
    "\n",
    "example_texts = random.sample(test_sentences, n_images)\n",
    "\n",
    "save_time_steps = [999, 900, 800, 700, 600, 500, 400, 300, 200, 100, 0]\n",
    "\n",
    "train_loss = []\n",
    "for epoch in range(epochs):\n",
    "    start_time = time.time()\n",
    "    num_batches = len(loader)\n",
    "\n",
    "    print(\"\\n\" + f\"Epoch {epoch + 1}/{epochs}\" + \"\\n\" + \"_\" * 10)\n",
    "    \n",
    "    unet_clip.train() ###, custom_text_encoder.train()\n",
    "    \n",
    "    running_loss = 0.0\n",
    "    for batch_idx, (images, class_labels, text_inputs) in enumerate(loader, start=0):\n",
    "        x_t, t, noise = prepare_data(images)\n",
    "\n",
    "        # Custom Tokenizer.\n",
    "        \"\"\"tokens = pad_and_process(text_inputs)\n",
    "        text_embeddings = custom_text_encoder(tokens.to(device))\"\"\"\n",
    "\n",
    "        # CLIP.\n",
    "        tokens = CLIP_tokenizer(\n",
    "            text_inputs, padding=\"max_length\",\n",
    "            max_length=CLIP_tokenizer.model_max_length, truncation=True,\n",
    "            return_tensors=\"pt\",\n",
    "        )\n",
    "        text_embeddings = CLIP_text_encoder(tokens.input_ids.to(device))[0]\n",
    "        \n",
    "        context = None if np.random.rand() < 0.1 else text_embeddings\n",
    "        \n",
    "        outputs = unet_clip(x=x_t, t=t, context=context)  ###\n",
    "\n",
    "        optimizer_clip.zero_grad()\n",
    "        loss = criterion(outputs, noise)\n",
    "        loss.backward()\n",
    "        optimizer_clip.step()\n",
    "        \n",
    "        if batch_idx % 100 == 0:\n",
    "            print(f\"Batch {batch_idx + 1}/{num_batches}: \"\n",
    "                  + f\"Train loss: {loss.item():.4f}\")\n",
    "        running_loss += loss.item()\n",
    "\n",
    "    train_loss.append(running_loss / len(loader))\n",
    "    end_time = time.time()\n",
    "\n",
    "    print(\"-\" * 10 + \"\\n\" + f\"Epoch {epoch + 1}/{epochs} : \" \n",
    "          + f\"Train loss: {train_loss[-1]:.4f}, \" \n",
    "          + f\"Time taken: {timedelta(seconds=end_time - start_time)}\")\n",
    "    \n",
    "    unet_clip.eval() ###, custom_text_encoder.eval()\n",
    "\n",
    "    # example_texts = random.sample(test_sentences, n_images)\n",
    "\n",
    "\n",
    "    # Custom Tokenizer.\n",
    "    \"\"\"tokens = pad_and_process(example_texts)\n",
    "    text_embeddings = custom_text_encoder(tokens.to(device))\"\"\"\n",
    "    \n",
    "    # CLIP.\n",
    "    tokens = CLIP_tokenizer(\n",
    "        example_texts, padding=\"max_length\",\n",
    "        max_length=CLIP_tokenizer.model_max_length, truncation=True,\n",
    "        return_tensors=\"pt\",\n",
    "    )\n",
    "    text_embeddings = CLIP_text_encoder(tokens.input_ids.to(device))[0]\n",
    "    \n",
    "    generated_images = diffusion.reverse_diffusion(\n",
    "        model=unet_clip, n_images=n_images, n_channels=1,  ###\n",
    "        position_encoding_dim=position_encoding_dim,\n",
    "        position_encoding_function=positional_encoding,\n",
    "        save_time_steps=save_time_steps, \n",
    "        context=text_embeddings, guidance_strength=3,\n",
    "    )\n",
    "\n",
    "    fig = plt.figure(figsize=(len(save_time_steps), 1.2 * n_images))\n",
    "    for idx in range(n_images):\n",
    "        image_reverse_diff_traj = generated_images[idx]\n",
    "        for j in range(len(image_reverse_diff_traj)):\n",
    "            plt.subplot(n_images, len(image_reverse_diff_traj), \n",
    "                        idx * len(image_reverse_diff_traj) + j + 1)\n",
    "            plt.imshow(image_reverse_diff_traj[j]\n",
    "                       .permute(1, 2, 0).cpu().numpy(), cmap=\"gray\")\n",
    "            if j == 5: plt.title(example_texts[idx], fontsize=10)\n",
    "            plt.axis(\"off\")\n",
    "    plt.show()\n",
    "    plt.close()"
   ]
  },
  {
   "cell_type": "code",
   "execution_count": null,
   "metadata": {},
   "outputs": [],
   "source": [
    "unet_clip.eval()\n",
    "\n",
    "''' class_labels = random.sample(list(range(10)), n_images)\n",
    "example_texts = generate_text_prompts(class_labels, test_text_prompts)'''\n",
    "\n",
    "example_texts = random.sample(test_sentences, n_images)\n",
    "\n",
    "# Custom Tokenizer.\n",
    "# tokens = pad_and_process(example_texts)\n",
    "# text_embeddings = custom_text_encoder(tokens.to(device))\n",
    "\n",
    "tokens = CLIP_tokenizer(\n",
    "    example_texts, padding=\"max_length\",\n",
    "    max_length=CLIP_tokenizer.model_max_length, truncation=True,\n",
    "    return_tensors=\"pt\",\n",
    ")\n",
    "text_embeddings = CLIP_text_encoder(tokens.input_ids.to(device))[0]\n",
    "\n",
    "generated_images = diffusion.reverse_diffusion(\n",
    "        model=unet_clip, n_images=n_images, n_channels=1, \n",
    "        position_encoding_dim=position_encoding_dim,\n",
    "        position_encoding_function=positional_encoding,\n",
    "        save_time_steps=save_time_steps, \n",
    "        context=text_embeddings, guidance_strength=3,\n",
    "    )\n",
    "\n",
    "fig = plt.figure(figsize=(len(save_time_steps), 1.2 * n_images))\n",
    "for idx in range(n_images):\n",
    "    image_reverse_diff_traj = generated_images[idx]\n",
    "    for j in range(len(image_reverse_diff_traj)):\n",
    "        plt.subplot(n_images, len(image_reverse_diff_traj), \n",
    "                    idx * len(image_reverse_diff_traj) + j + 1)\n",
    "        plt.imshow(image_reverse_diff_traj[j]\n",
    "                    .permute(1, 2, 0).cpu().numpy(), cmap=\"gray\")\n",
    "        if j == 5: plt.title(example_texts[idx], fontsize=10)\n",
    "        plt.axis(\"off\")\n",
    "plt.savefig(f\"fig_10_B2.pdf\", bbox_inches=\"tight\")  ### plt.show()"
   ]
  }
 ],
 "metadata": {
  "kernelspec": {
   "display_name": "py_env_book",
   "language": "python",
   "name": "python3"
  },
  "language_info": {
   "codemirror_mode": {
    "name": "ipython",
    "version": 3
   },
   "file_extension": ".py",
   "mimetype": "text/x-python",
   "name": "python",
   "nbconvert_exporter": "python",
   "pygments_lexer": "ipython3",
   "version": "3.10.15"
  }
 },
 "nbformat": 4,
 "nbformat_minor": 2
}
