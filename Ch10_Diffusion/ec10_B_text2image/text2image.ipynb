{
 "cells": [
  {
   "cell_type": "markdown",
   "metadata": {},
   "source": [
    "# Generating Images of Digits from Text Prompts\n",
    "\n",
    "This notebook provides you with a complete code example to generate MNIST digits from text prompts. The `train_text_prompts.txt` and `test_text_prompts.txt` files provide the text data used for training and testing."
   ]
  },
  {
   "cell_type": "markdown",
   "metadata": {},
   "source": [
    "## Loading the MNIST Dataset with PyTorch\n",
    "\n",
    "Implement the normalization of the digits ..."
   ]
  },
  {
   "cell_type": "code",
   "execution_count": 1,
   "metadata": {},
   "outputs": [],
   "source": [
    "from torchvision.transforms import Compose, Normalize, ToTensor\n",
    "\n",
    "trans = Compose([ToTensor(), Normalize(mean=[0.5], std=[0.5], inplace=True)])"
   ]
  },
  {
   "cell_type": "markdown",
   "metadata": {},
   "source": [
    "... import the MNIST digits ..."
   ]
  },
  {
   "cell_type": "code",
   "execution_count": 2,
   "metadata": {},
   "outputs": [],
   "source": [
    "from torchvision.datasets import MNIST\n",
    "\n",
    "trainset = MNIST(root=\"data\", train=True, transform=trans, download=True)"
   ]
  },
  {
   "cell_type": "markdown",
   "metadata": {},
   "source": [
    "... and plot some of the transformed MNIST digits."
   ]
  },
  {
   "cell_type": "code",
   "execution_count": 3,
   "metadata": {},
   "outputs": [
    {
     "data": {
      "image/png": "[encoded data removed]",
      "text/plain": [
       "<Figure size 1500x300 with 8 Axes>"
      ]
     },
     "metadata": {},
     "output_type": "display_data"
    }
   ],
   "source": [
    "import torch\n",
    "import matplotlib.pyplot as plt\n",
    "\n",
    "fig, axs = plt.subplots(1, 8, figsize=(15, 3))\n",
    "for ax in axs.ravel():\n",
    "    img, label = trainset[torch.randint(0, len(trainset), (1,)).squeeze()]\n",
    "    ax.imshow(img.squeeze(), cmap=\"gray\")\n",
    "    ax.set_title(f\"Label: {label}\", fontsize=16)\n",
    "    ax.axis(\"off\")\n",
    "plt.tight_layout()\n",
    "plt.show()"
   ]
  },
  {
   "cell_type": "markdown",
   "metadata": {},
   "source": [
    "## Implementing the Forward Process\n",
    "\n",
    "Define the device on which the computations are performed ..."
   ]
  },
  {
   "cell_type": "code",
   "execution_count": 4,
   "metadata": {},
   "outputs": [],
   "source": [
    "import torch\n",
    "\n",
    "def get_device():\n",
    "    \"\"\"Select device where to perform computations.\"\"\"\n",
    "    if torch.cuda.is_available():\n",
    "        return torch.device(\"cuda:0\")\n",
    "    ### elif torch.backends.mps.is_available():\n",
    "    ###    return torch.device(\"mps\")\n",
    "    else:\n",
    "        return torch.device(\"cpu\")"
   ]
  },
  {
   "cell_type": "code",
   "execution_count": 5,
   "metadata": {},
   "outputs": [],
   "source": [
    "device = get_device()"
   ]
  },
  {
   "cell_type": "code",
   "execution_count": 6,
   "metadata": {},
   "outputs": [
    {
     "name": "stdout",
     "output_type": "stream",
     "text": [
      "cpu\n"
     ]
    }
   ],
   "source": [
    "print(device)"
   ]
  },
  {
   "cell_type": "markdown",
   "metadata": {},
   "source": [
    "... implement the forward diffusion process ..."
   ]
  },
  {
   "cell_type": "code",
   "execution_count": 7,
   "metadata": {},
   "outputs": [],
   "source": [
    "class Diffusion:\n",
    "    \"\"\"Denoising diffusion probabilstic model (DDPM).\"\"\"\n",
    "    \n",
    "    def __init__(self, noise_steps=1000, beta_start=1e-4, beta_end=0.02,\n",
    "                 device=device):\n",
    "        \"\"\"Initialize the diffusion model.\"\"\"\n",
    "        self.noise_steps, self.beta_start, self.beta_end, self.device = \\\n",
    "            noise_steps, beta_start, beta_end, device\n",
    "\n",
    "        self.beta = self.prepare_noise_schedule().to(device)\n",
    "        self.alpha = 1.0 - self.beta\n",
    "        self.alpha_bar = torch.cumprod(self.alpha, dim=0)\n",
    "\n",
    "    def prepare_noise_schedule(self):\n",
    "        \"\"\"Prepare the noise schedule.\"\"\"\n",
    "        return torch.linspace(self.beta_start, self.beta_end, self.noise_steps)\n",
    "\n",
    "    def forward_diffusion(self, x, t):\n",
    "        \"\"\"Implement the forward diffusion process.\"\"\"\n",
    "        sqrt_alpha_bar = torch.sqrt(self.alpha_bar[t])[:, None, None, None]\n",
    "        sqrt_one_minus_alpha_bar = \\\n",
    "            torch.sqrt(1 - self.alpha_bar[t])[:, None, None, None]\n",
    "        noise = torch.randn_like(x)\n",
    "\n",
    "        return sqrt_alpha_bar * x + sqrt_one_minus_alpha_bar * noise, noise"
   ]
  },
  {
   "cell_type": "markdown",
   "metadata": {},
   "source": [
    "... sampling images in the forward diffusion process .."
   ]
  },
  {
   "cell_type": "code",
   "execution_count": 8,
   "metadata": {},
   "outputs": [],
   "source": [
    "diffusion = Diffusion(noise_steps=401, beta_start=0.0001, beta_end=0.02)\n",
    "\n",
    "clean_image, label = trainset[torch.randint(0, len(trainset), (1,)).squeeze()]\n",
    "\n",
    "time_steps = [0, 100, 200, 300, 400]\n",
    "noisy_images = []\n",
    "for i in range(len(time_steps)):\n",
    "    noisy_image, noise = diffusion.forward_diffusion(\n",
    "        x=clean_image[None, ...].to(device), \n",
    "        t=torch.tensor([time_steps[i]]).to(device)\n",
    "    )\n",
    "    noisy_images.append(noisy_image)"
   ]
  },
  {
   "cell_type": "markdown",
   "metadata": {},
   "source": [
    "... and visualize the noisy digits generated in the forward diffusion process."
   ]
  },
  {
   "cell_type": "code",
   "execution_count": 9,
   "metadata": {},
   "outputs": [
    {
     "data": {
      "image/png": "[encoded data removed]",
      "text/plain": [
       "<Figure size 640x480 with 5 Axes>"
      ]
     },
     "metadata": {},
     "output_type": "display_data"
    }
   ],
   "source": [
    "fig, axs = plt.subplots(1, len(time_steps))\n",
    "for i, ax in enumerate(axs.flatten()):\n",
    "    ax.imshow(noisy_images[i].cpu().numpy().squeeze(), cmap=\"gray\")\n",
    "    ax.set_title(f\"t = {time_steps[i]}\", fontsize=10)\n",
    "    ax.axis(\"off\")\n",
    "plt.tight_layout()\n",
    "plt.show()"
   ]
  },
  {
   "cell_type": "markdown",
   "metadata": {},
   "source": [
    "## Implementing the Reverse Diffusion Process\n",
    "\n",
    "Update the `Diffusion` class to implement the reverse diffusion process."
   ]
  },
  {
   "cell_type": "code",
   "execution_count": 10,
   "metadata": {},
   "outputs": [],
   "source": [
    "from tqdm import tqdm\n",
    "\n",
    "class Diffusion:\n",
    "    \"\"\"Denoising diffusion probabilstic model (DDPM).\"\"\"\n",
    "    \n",
    "    def __init__(self, noise_steps=1000, beta_start=1e-4, beta_end=0.02,\n",
    "                 img_size=28, device=device):\n",
    "        \"\"\"Initialize the diffusion model.\"\"\"\n",
    "        self.noise_steps, self.beta_start, self.beta_end, self.device = \\\n",
    "            noise_steps, beta_start, beta_end, device\n",
    "\n",
    "        self.beta = self.prepare_noise_schedule().to(device)\n",
    "        self.alpha = 1.0 - self.beta\n",
    "        self.alpha_bar = torch.cumprod(self.alpha, dim=0)\n",
    "        \n",
    "        self.img_size = img_size\n",
    "\n",
    "    def prepare_noise_schedule(self):\n",
    "        \"\"\"Prepare the noise schedule.\"\"\"\n",
    "        return torch.linspace(self.beta_start, self.beta_end, self.noise_steps)\n",
    "\n",
    "    def forward_diffusion(self, x, t):\n",
    "        \"\"\"Implement the forward diffusion process.\"\"\"\n",
    "        sqrt_alpha_bar = torch.sqrt(self.alpha_bar[t])[:, None, None, None]\n",
    "        sqrt_one_minus_alpha_bar = \\\n",
    "            torch.sqrt(1 - self.alpha_bar[t])[:, None, None, None]\n",
    "        noise = torch.randn_like(x)\n",
    "\n",
    "        return sqrt_alpha_bar * x + sqrt_one_minus_alpha_bar * noise, noise\n",
    "    \n",
    "    def reverse_diffusion(self, model, n_images, n_channels, \n",
    "                          position_encoding_dim, position_encoding_function,\n",
    "                          fix_noise=None, save_time_steps=None, \n",
    "                          context=None, guidance_strength=None):\n",
    "        \"\"\"Reverse diffusion process\"\"\"\n",
    "        with torch.no_grad():\n",
    "            if fix_noise is not None:\n",
    "                x = fix_noise.to(self.device)\n",
    "            else:\n",
    "                x = torch.randn(\n",
    "                    (n_images, n_channels, self.img_size, self.img_size)\n",
    "                ).to(self.device)\n",
    "            \n",
    "            denoised_images = []\n",
    "            for i in tqdm(reversed(range(0, self.noise_steps)),\n",
    "                          desc=\"U-Net inference\", total=self.noise_steps):\n",
    "                t = (torch.ones(n_images) * i).long()\n",
    "                t_pos_enc = position_encoding_function(\n",
    "                    t.unsqueeze(1), position_encoding_dim\n",
    "                ).to(self.device)\n",
    "\n",
    "                if context is None:\n",
    "                    predicted_noise = model(x=x, t=t_pos_enc)\n",
    "                else:\n",
    "                    conditional_pred = model(x=x, t=t_pos_enc, context=context)\n",
    "                    unconditional_pred = model(x=x, t=t_pos_enc, context=None)\n",
    "                    predicted_noise = torch.lerp(unconditional_pred,\n",
    "                                                 conditional_pred,\n",
    "                                                 guidance_strength)\n",
    "\n",
    "                alpha = self.alpha[t][:, None, None, None]\n",
    "                alpha_bar = self.alpha_bar[t][:, None, None, None]\n",
    "                \n",
    "                noise = torch.randn_like(x) if i > 0 else torch.zeros_like(x)\n",
    "                    \n",
    "                x = (1 / torch.sqrt(alpha) * (x - ((1 - alpha) \n",
    "                    / torch.sqrt(1 - alpha_bar)) * predicted_noise) \n",
    "                    + torch.sqrt(1-alpha) * noise)\n",
    "\n",
    "                if i in save_time_steps: denoised_images.append(x)\n",
    "\n",
    "            denoised_images = torch.stack(denoised_images)\n",
    "            denoised_images = denoised_images.swapaxes(0, 1)\n",
    "            return denoised_images"
   ]
  },
  {
   "cell_type": "markdown",
   "metadata": {},
   "source": [
    "## Preparing the Text Prompts\n",
    "\n",
    "Load the text prompts ..."
   ]
  },
  {
   "cell_type": "code",
   "execution_count": 11,
   "metadata": {},
   "outputs": [],
   "source": [
    "train_text_prompts = []\n",
    "with open(\"train_text_prompts.txt\", \"r\") as f:\n",
    "    for line in f: train_text_prompts.append(line.strip())\n",
    "\n",
    "test_text_prompts = []\n",
    "with open(\"test_text_prompts.txt\", \"r\") as f:\n",
    "    for line in f: test_text_prompts.append(line.strip())"
   ]
  },
  {
   "cell_type": "code",
   "execution_count": 12,
   "metadata": {},
   "outputs": [
    {
     "name": "stdout",
     "output_type": "stream",
     "text": [
      "Generate the digit {class_label}.\n",
      "Create a sample of the number {class_label}.\n",
      "Show me a picture of the digit {class_label}.\n",
      "Produce the handwritten digit {class_label}.\n",
      "Please generate a grayscale image of the number {class_label}.\n",
      "Kindly create the digit {class_label} in a 28x28 resolution.\n",
      "I'd like to see the number {class_label} in bold font style.\n",
      "Show me the digit {class_label} in a slanted appearance.\n",
      "Generate the digit {class_label} with smooth curves.\n",
      "Create the number {class_label} with sharp edges.\n",
      "Show me an enhanced image of the digit {class_label}.\n",
      "Generate a blurry version of the digit {class_label}.\n",
      "Create an artistic representation of the number {class_label}.\n",
      "Show me the digit {class_label} as if drawn by a child.\n",
      "Generate the digit {class_label} with a serif font style.\n",
      "Create the number {class_label} with consistent stroke thickness.\n",
      "Show me the digit {class_label} in a tilted orientation.\n",
      "Generate the digit {class_label} with added noise.\n",
      "Create the number {class_label} using minimal strokes.\n",
      "Show me the digit {class_label} in a cursive font style.\n",
      "Please create a sketch of the number {class_label}.\n",
      "Show me a grayscale drawing of the digit {class_label}.\n",
      "Generate the digit {class_label} with a textured background.\n",
      "Create the number {class_label} in a monospaced font.\n",
      "Produce a simple version of the digit {class_label}.\n",
      "Generate an elegant image of the number {class_label}.\n",
      "Show me the digit {class_label} with embellishments.\n",
      "Create the number {class_label} with precise symmetry.\n",
      "Show me a modern representation of the digit {class_label}.\n",
      "Generate a futuristic version of the number {class_label}.\n",
      "Create the digit {class_label} with intricate details.\n",
      "Show me the number {class_label} in a retro style.\n",
      "Generate the digit {class_label} with artistic distortions.\n",
      "Create the number {class_label} with a shadow effect.\n",
      "Show me the digit {class_label} with vibrant colors.\n",
      "Generate the digit {class_label} with a 3D appearance.\n",
      "Create the number {class_label} with calligraphy strokes.\n",
      "Show me the digit {class_label} with embossed features.\n",
      "Generate the digit {class_label} with a pixelated look.\n",
      "Create the number {class_label} with fluid brush strokes.\n",
      "Show me the digit {class_label} with an abstract touch.\n",
      "Generate the digit {class_label} with pastel colors.\n",
      "Create the number {class_label} with a neon glow.\n",
      "Show me the digit {class_label} with a watercolor effect.\n",
      "Generate the digit {class_label} with a graffiti style.\n",
      "Create the number {class_label} with 8-bit pixel art.\n",
      "Show me the digit {class_label} with a mosaic pattern.\n",
      "Generate the digit {class_label} with a sketched appearance.\n",
      "Create the number {class_label} with a stained glass effect.\n",
      "Show me the digit {class_label} with a comic book style.\n",
      "Generate the digit {class_label} with a metallic sheen.\n",
      "{class_label} individuals are watching a movie in a theater that seats nine. How many people are in the theater?\n",
      "There are eight kinds of fruits in the basket, and {class_label} are oranges. How many pieces of fruit are oranges?\n",
      "{class_label} students passed the exam out of nine who took it. How many learners succeeded?\n",
      "In a parking lot, {class_label} out of eight vehicles are cars. How many cars are parked?\n",
      "During a survey, {class_label} out of nine respondents said they read regularly. How many participants are readers?\n",
      "A baker makes nine pies, and {class_label} are apple flavored. How many desserts are ready?\n",
      "A group of tourists visits a zoo, and {class_label} of them are children. How many youngsters are visiting?\n",
      "There are {class_label} pens and five erasers in the box. How many writing tools are there?\n",
      "Out of nine athletes, {class_label} compete in running. How many runners are competing?\n",
      "A classroom has seven tables and {class_label} chairs. How many seats are there?\n",
      "A book has {class_label} chapters on science out of nine total. How many chapters cover scientific events?\n",
      "{class_label} cats are playing in the park, while four are resting. How many pets are active?\n",
      "{class_label} individuals are attending a concert in a venue that seats nine. How many people are at the concert?\n",
      "There are six kinds of vegetables in the basket, and {class_label} are carrots. How many vegetables are carrots?\n",
      "{class_label} students passed the exam out of nine who took it. How many learners succeeded?\n",
      "In a parking lot, {class_label} out of nine vehicles are trucks. How many trucks are parked?\n",
      "During a survey, {class_label} out of nine respondents said they cook regularly. How many participants cook regularly?\n",
      "A group of tourists visits a theme park, and {class_label} of them are adults. How many adults are visiting?\n",
      "Out of nine athletes, {class_label} compete in cycling. How many cyclists are competing?\n",
      "A classroom has eight tables and {class_label} chairs. How many seats are there?\n",
      "A book has {class_label} chapters on geography out of nine total. How many sections cover geographical events?\n",
      "{class_label} birds are playing in the park, while five are resting. How many birds are active?\n",
      "{class_label} individuals are attending a lecture in a hall that seats nine. How many people are at the lecture?\n",
      "There are seven kinds of candies in the jar, and {class_label} are jelly beans. How many candies are jelly beans?\n",
      "{class_label} students passed the exam out of nine who took it. How many learners succeeded?\n",
      "In a parking lot, {class_label} out of nine vehicles are bicycles. How many bicycles are parked?\n",
      "During a survey, {class_label} out of nine respondents said they travel regularly. How many participants travel regularly?\n",
      "A group of tourists visits a beach, and {class_label} of them are teenagers. How many teenagers are visiting?\n",
      "There are {class_label} crayons and seven erasers in the box. How many coloring tools are there?\n",
      "Out of nine athletes, {class_label} compete in basketball. How many basketball players are competing?\n",
      "A book has {class_label} chapters on literature out of nine total. How many sections cover literary events?\n",
      "{class_label} squirrels are playing in the park, while six are resting. How many squirrels are active?\n",
      "{class_label} individuals are attending a seminar in a room that seats nine. How many people are at the seminar?\n",
      "There are eight kinds of cookies in the box, and {class_label} are chocolate chip. How many cookies are chocolate chip?\n",
      "{class_label} students passed the exam out of nine who took it. How many learners succeeded?\n",
      "In a parking lot, {class_label} out of nine vehicles are scooters. How many scooters are parked?\n",
      "During a survey, {class_label} out of nine respondents said they paint regularly. How many participants paint regularly?\n",
      "Four friends are at a cafe, and {class_label} order coffee. How many people ordered coffee?\n",
      "Three physicians work at a clinic, and {class_label} are surgeons. How many doctors are surgeons?\n",
      "Five males joined the club, and {class_label} participated in the event. How many men participated?\n",
      "Six girls are in the classroom, and {class_label} are studying. How many students are studying?\n",
      "Seven athletes are competing, and {class_label} are runners. How many competitors are runners?\n",
      "Four artists display their paintings, and {class_label} sell theirs. How many painters sold their work?\n",
      "Three bakers are at work, and {class_label} make bread. How many workers make bread?\n",
      "Six singers performed, and {class_label} are sopranos. How many vocalists are sopranos?\n",
      "Five novelists are writing books, and {class_label} are publishing soon. How many authors are publishing?\n",
      "Seven builders are constructing a house, and {class_label} are carpenters. How many laborers are carpenters?\n",
      "Four dancers rehearsed, and {class_label} are ballet dancers. How many performers are ballet dancers?\n",
      "Three professors teach at the university, and {class_label} are mathematicians. How many academics are mathematicians?\n",
      "Five leaders attended the meeting, and {class_label} spoke. How many officials spoke?\n",
      "Six pilots fly for commercial airlines, and {class_label} fly internationally. How many aviators fly internationally?\n",
      "Four chefs work in a kitchen, and {class_label} specialize in desserts. How many cooks specialize in desserts?\n",
      "Seven engineers are designing a bridge, and {class_label} are structural engineers. How many professionals are structural engineers?\n",
      "Three architects are drafting plans, and {class_label} focus on skyscrapers. How many designers focus on skyscrapers?\n",
      "Five children are playing in the park, and {class_label} are on the swings. How many youngsters are on the swings?\n",
      "Six critics reviewed the movie, and {class_label} praised it. How many reviewers praised the movie?\n",
      "Four cyclists are racing, and {class_label} are leading. How many riders are leading?\n",
      "Seven programmers are coding new software, and {class_label} are working on apps. How many developers are working on apps?\n",
      "Three farmers harvest crops, and {class_label} grow vegetables. How many agriculturists grow vegetables?\n",
      "Five accountants are auditing records, and {class_label} focus on tax files. How many auditors focus on tax files?\n",
      "Six lawyers are defending clients, and {class_label} are in court. How many attorneys are in court?\n",
      "Four electricians are fixing the wiring, and {class_label} are at the commercial site. How many technicians are at the commercial site?\n"
     ]
    }
   ],
   "source": [
    "for text_prompt in train_text_prompts: print(text_prompt)"
   ]
  },
  {
   "cell_type": "code",
   "execution_count": 13,
   "metadata": {},
   "outputs": [
    {
     "name": "stdout",
     "output_type": "stream",
     "text": [
      "{class_label} individuals are attending a play in a theater that seats eight. How many people are in the theater?\n",
      "There are six types of flowers in the garden, and {class_label} are roses. How many flowers are roses?\n",
      "{class_label} students passed the math test out of nine who took it. How many students succeeded?\n",
      "In a parking lot, {class_label} out of eight vehicles are vans. How many vans are parked?\n",
      "During a survey, {class_label} out of nine respondents said they enjoy gardening. How many participants enjoy gardening?\n",
      "A chef makes nine dishes, and {class_label} are vegetarian. How many dishes are vegetarian?\n",
      "Eight people finished their tasks, and {class_label} were volunteers. How many volunteers completed their tasks?\n",
      "A group of tourists visits a national park, and {class_label} of them are seniors. How many seniors are visiting?\n",
      "{class_label} out of nine poets read their poems live. How many poets read their poems?\n",
      "Out of nine players, {class_label} play chess. How many chess players are there?\n",
      "A library has seven sections and {class_label} are for fiction books. How many sections are for fiction books?\n",
      "A magazine has {class_label} articles on technology out of nine total. How many articles cover technological events?\n",
      "{class_label} rabbits are playing in the garden, while four are resting. How many rabbits are active?\n",
      "Generate an image of a {class_label}.\n",
      "Create a sample of a {class_label}.\n",
      "Show me a picture of a {class_label}.\n",
      "Produce an illustration of a {class_label}.\n",
      "Please generate an image of a {class_label}.\n",
      "Kindly create a depiction of a {class_label}.\n",
      "I'd like to see a representation of a {class_label}.\n",
      "Show me an image of a {class_label}.\n",
      "Generate a visual of a {class_label} in a 28x28 resolution.\n",
      "Create an artistic version of an {class_label}.\n",
      "Show me a grayscale rendering of a {class_label}.\n",
      "Generate a stylish image of a {class_label}.\n",
      "Design a unique illustration of a {class_label}.\n",
      "Produce a fashionable depiction of a {class_label}.\n",
      "Show me a modern representation of a {class_label}.\n",
      "Craft an image of a {class_label} with intricate details.\n",
      "Generate an elegant portrayal of a {class_label}.\n",
      "Create a trendy picture of a {class_label}.\n",
      "Showcase a realistic depiction of a {class_label}.\n",
      "Generate an artistic image of an {class_label}.\n",
      "Create a vintage-inspired illustration of a {class_label}.\n",
      "Produce a stylish representation of a {class_label}.\n",
      "Show me a depiction of a {class_label} in a retro style.\n",
      "Generate an image of a {class_label} with contemporary flair.\n",
      "Craft an innovative representation of a {class_label}.\n",
      "Design a {class_label} with intricate detailing.\n",
      "Create an image of a {class_label} with a unique twist.\n",
      "Generate an image of a {class_label} with vibrant colors.\n",
      "Show me a {class_label} in a fashionable context.\n",
      "Produce a chic depiction of a {class_label}.\n",
      "Create an image of a {class_label} with abstract elements.\n",
      "Generate a modern illustration of a {class_label}.\n",
      "Design a {class_label} with artistic accents.\n",
      "Produce an image of a {class_label} with detailed patterns.\n",
      "Craft a {class_label} in a creative and imaginative style.\n",
      "Show me a depiction of a {class_label} with attention to texture.\n",
      "Generate an image of a {class_label} with trendy graphics.\n",
      "Create a {class_label} with a futuristic touch.\n",
      "Design a {class_label} with intricate stitching.\n",
      "Produce a unique illustration of a {class_label}.\n",
      "Show me a {class_label} with a retro aesthetic.\n",
      "Generate an artistic depiction of a {class_label}.\n",
      "Craft an image of a {class_label} with dynamic patterns.\n",
      "Design a {class_label} with abstract elements.\n",
      "Produce an image of a {class_label} with a bold color scheme.\n",
      "Create a {class_label} with emphasis on design.\n",
      "Generate an image of a {class_label} with vibrant colors.\n",
      "Show me a {class_label} in a creative and artistic manner.\n",
      "Produce a {class_label} with attention to detail.\n",
      "Create a {class_label} with a modern twist.\n"
     ]
    }
   ],
   "source": [
    "for text_prompt in test_text_prompts: print(text_prompt)"
   ]
  },
  {
   "cell_type": "markdown",
   "metadata": {},
   "source": [
    "... implement a function to generate text prompts from given class labels ..."
   ]
  },
  {
   "cell_type": "code",
   "execution_count": 14,
   "metadata": {},
   "outputs": [],
   "source": [
    "import inflect, random\n",
    "\n",
    "numbers = {i: inflect.engine().number_to_words(i) for i in range(10)}\n",
    "\n",
    "def generate_text_prompts(class_labels, text_inputs):\n",
    "    \"\"\"Generate text prompts.\"\"\"\n",
    "    texts = []\n",
    "    for i in class_labels:\n",
    "        if random.random() > 0.3:\n",
    "            prompt = random.choice(text_inputs).format(class_label=numbers[i])\n",
    "        else:\n",
    "            prompt = random.choice(text_inputs).format(class_label=str(i))\n",
    "        texts.append(prompt)\n",
    "    return texts"
   ]
  },
  {
   "cell_type": "markdown",
   "metadata": {},
   "source": [
    "... and generate and print some example text prompts."
   ]
  },
  {
   "cell_type": "code",
   "execution_count": 15,
   "metadata": {},
   "outputs": [
    {
     "name": "stdout",
     "output_type": "stream",
     "text": [
      "Generate an image of a 6.\n",
      "Create a vintage-inspired illustration of a eight.\n",
      "Produce a stylish representation of a two.\n",
      "Design a one with artistic accents.\n"
     ]
    }
   ],
   "source": [
    "class_labels = random.sample(list(range(10)), 4)\n",
    "example_text_prompts = generate_text_prompts(class_labels, test_text_prompts)\n",
    "for text_prompt in example_text_prompts: print(text_prompt)"
   ]
  },
  {
   "cell_type": "markdown",
   "metadata": {},
   "source": [
    "## Defining the Position Encoding Function\n",
    "\n",
    "Implement the position encoding function ..."
   ]
  },
  {
   "cell_type": "code",
   "execution_count": 16,
   "metadata": {},
   "outputs": [],
   "source": [
    "def positional_encoding(t, enc_dim):\n",
    "    \"\"\"Encode position information with a sinusoid.\"\"\"\n",
    "    scaled_positions = torch.arange(0, enc_dim, 2).float() / enc_dim\n",
    "    frequency = 10000 ** scaled_positions\n",
    "    inverse_frequency = (1.0 / frequency).to(t.device)\n",
    "    x = t.repeat(1, enc_dim // 2) * inverse_frequency\n",
    "    pos_enc_a, pos_enc_b = torch.sin(x), torch.cos(x)\n",
    "    pos_enc = torch.cat([pos_enc_a, pos_enc_b], dim=-1)\n",
    "    return pos_enc"
   ]
  },
  {
   "cell_type": "markdown",
   "metadata": {},
   "source": [
    "... sinusoidal position encodings for different time steps ..."
   ]
  },
  {
   "cell_type": "code",
   "execution_count": 17,
   "metadata": {},
   "outputs": [],
   "source": [
    "position_encoding_dim = 256\n",
    "\n",
    "pos_encs = []\n",
    "for i in range(0, 100):\n",
    "    t = torch.tensor([i])\n",
    "    pos_enc = positional_encoding(t, position_encoding_dim)\n",
    "    pos_encs.append(pos_enc.squeeze())\n",
    "pos_encs = torch.stack(pos_encs)"
   ]
  },
  {
   "cell_type": "markdown",
   "metadata": {},
   "source": [
    "... and visualize the position encodings."
   ]
  },
  {
   "cell_type": "code",
   "execution_count": 18,
   "metadata": {},
   "outputs": [
    {
     "data": {
      "image/png": "[encoded data removed]",
      "text/plain": [
       "<Figure size 640x480 with 1 Axes>"
      ]
     },
     "metadata": {},
     "output_type": "display_data"
    }
   ],
   "source": [
    "fig = plt.figure()\n",
    "plt.imshow(pos_encs.cpu().numpy())\n",
    "plt.xlabel(\"Encoding dimension\")\n",
    "plt.ylabel(\"Time step (t)\")\n",
    "plt.show()"
   ]
  },
  {
   "cell_type": "markdown",
   "metadata": {},
   "source": [
    "## Defining a Custom Tokenizer and Text Encoder\n",
    "\n",
    "Implement the function to tokenize the text ..."
   ]
  },
  {
   "cell_type": "code",
   "execution_count": 19,
   "metadata": {},
   "outputs": [
    {
     "name": "stderr",
     "output_type": "stream",
     "text": [
      "/Users/giovannivolpe/Documents/GitHub/DeepLearningCrashCourse/py_env_book/lib/python3.10/site-packages/torchtext/data/__init__.py:4: UserWarning: \n",
      "/!\\ IMPORTANT WARNING ABOUT TORCHTEXT STATUS /!\\ \n",
      "Torchtext is deprecated and the last released version will be 0.18 (this one). You can silence this warning by calling the following at the beginnign of your scripts: `import torchtext; torchtext.disable_torchtext_deprecation_warning()`\n",
      "  warnings.warn(torchtext._TORCHTEXT_DEPRECATION_MSG)\n"
     ]
    }
   ],
   "source": [
    "import contractions, re\n",
    "from torchtext.data.utils import get_tokenizer\n",
    "\n",
    "tokenizer = get_tokenizer(\"basic_english\")\n",
    "\n",
    "def tokenize(text):\n",
    "    \"\"\"Tokenize text.\"\"\"\n",
    "    text = contractions.fix(text)\n",
    "    replacements = {\"’\": \"'\", \"‘\": \"'\", \"“\": '\"', \"”\": '\"', \"´\": \"'\", \"´´\": '\"'}\n",
    "    for old, new in replacements.items():\n",
    "        text = text.replace(old, new)\n",
    "    tokens = tokenizer(text)\n",
    "    filtered_tokens = [\n",
    "        token for token in tokens\n",
    "        if re.match(r\"^[a-zA-Z0-9]+(-[a-zA-Z0-9]+)*(_[a-zA-Z0-9]+)*$\", token)\n",
    "    ]\n",
    "    return filtered_tokens"
   ]
  },
  {
   "cell_type": "markdown",
   "metadata": {},
   "source": [
    "... build a custom vocabulary ..."
   ]
  },
  {
   "cell_type": "code",
   "execution_count": 20,
   "metadata": {},
   "outputs": [
    {
     "name": "stderr",
     "output_type": "stream",
     "text": [
      "/Users/giovannivolpe/Documents/GitHub/DeepLearningCrashCourse/py_env_book/lib/python3.10/site-packages/torchtext/vocab/__init__.py:4: UserWarning: \n",
      "/!\\ IMPORTANT WARNING ABOUT TORCHTEXT STATUS /!\\ \n",
      "Torchtext is deprecated and the last released version will be 0.18 (this one). You can silence this warning by calling the following at the beginnign of your scripts: `import torchtext; torchtext.disable_torchtext_deprecation_warning()`\n",
      "  warnings.warn(torchtext._TORCHTEXT_DEPRECATION_MSG)\n",
      "/Users/giovannivolpe/Documents/GitHub/DeepLearningCrashCourse/py_env_book/lib/python3.10/site-packages/torchtext/utils.py:4: UserWarning: \n",
      "/!\\ IMPORTANT WARNING ABOUT TORCHTEXT STATUS /!\\ \n",
      "Torchtext is deprecated and the last released version will be 0.18 (this one). You can silence this warning by calling the following at the beginnign of your scripts: `import torchtext; torchtext.disable_torchtext_deprecation_warning()`\n",
      "  warnings.warn(torchtext._TORCHTEXT_DEPRECATION_MSG)\n"
     ]
    }
   ],
   "source": [
    "from torchtext.vocab import build_vocab_from_iterator\n",
    "\n",
    "def token_iterator(texts):\n",
    "    \"\"\"Iterate on tokens.\"\"\"\n",
    "    for text in texts:\n",
    "        yield tokenize(text)\n",
    "\n",
    "digits_and_words = [str(item) for item in list(numbers.keys()) \n",
    "                    + list(numbers.values())]\n",
    "\n",
    "vocab = build_vocab_from_iterator(\n",
    "    token_iterator(train_text_prompts + test_text_prompts + digits_and_words),\n",
    "    specials=[\"<unk>\", \"<sos>\", \"<eos>\", \"<pad>\"],\n",
    ")    \n",
    "vocab.set_default_index(vocab[\"<unk>\"])"
   ]
  },
  {
   "cell_type": "markdown",
   "metadata": {},
   "source": [
    "... check the vocabulary and string-to-numerical indices mapping ..."
   ]
  },
  {
   "cell_type": "code",
   "execution_count": 21,
   "metadata": {},
   "outputs": [
    {
     "name": "stdout",
     "output_type": "stream",
     "text": [
      "<unk>: 0\n",
      "<sos>: 1\n",
      "<eos>: 2\n",
      "<pad>: 3\n",
      "a: 4\n",
      "are: 5\n",
      "of: 6\n",
      "the: 7\n",
      "how: 8\n",
      "many: 9\n",
      "with: 10\n",
      "in: 11\n",
      "and: 12\n",
      "digit: 13\n",
      "nine: 14\n",
      "generate: 15\n",
      "create: 16\n",
      "an: 17\n",
      "me: 18\n",
      "show: 19\n",
      "out: 20\n",
      "number: 21\n",
      "image: 22\n",
      "on: 23\n",
      "there: 24\n",
      "produce: 25\n",
      "at: 26\n",
      "four: 27\n",
      "seven: 28\n",
      "six: 29\n",
      "eight: 30\n",
      "five: 31\n",
      "style: 32\n",
      "artistic: 33\n",
      "depiction: 34\n",
      "has: 35\n",
      "people: 36\n",
      "regularly: 37\n",
      "seats: 38\n",
      "students: 39\n",
      "design: 40\n",
      "it: 41\n",
      "park: 42\n",
      "representation: 43\n",
      "their: 44\n",
      "three: 45\n",
      "during: 46\n",
      "illustration: 47\n",
      "individuals: 48\n",
      "lot: 49\n",
      "parked: 50\n",
      "parking: 51\n",
      "participants: 52\n",
      "passed: 53\n",
      "playing: 54\n",
      "respondents: 55\n",
      "said: 56\n",
      "succeeded: 57\n",
      "survey: 58\n",
      "that: 59\n",
      "they: 60\n",
      "took: 61\n",
      "vehicles: 62\n",
      "who: 63\n",
      "active: 64\n",
      "athletes: 65\n",
      "attending: 66\n",
      "book: 67\n",
      "chapters: 68\n",
      "colors: 69\n",
      "competing: 70\n",
      "cover: 71\n",
      "craft: 72\n",
      "events: 73\n",
      "exam: 74\n",
      "focus: 75\n",
      "font: 76\n",
      "group: 77\n",
      "intricate: 78\n",
      "kinds: 79\n",
      "learners: 80\n",
      "modern: 81\n",
      "resting: 82\n",
      "sections: 83\n",
      "theater: 84\n",
      "them: 85\n",
      "to: 86\n",
      "total: 87\n",
      "tourists: 88\n",
      "vegetables: 89\n",
      "version: 90\n",
      "visiting: 91\n",
      "visits: 92\n",
      "while: 93\n",
      "work: 94\n",
      "abstract: 95\n",
      "appearance: 96\n",
      "books: 97\n",
      "box: 98\n",
      "classroom: 99\n",
      "commercial: 100\n",
      "compete: 101\n",
      "dancers: 102\n",
      "desserts: 103\n",
      "effect: 104\n",
      "engineers: 105\n",
      "fly: 106\n",
      "for: 107\n",
      "grayscale: 108\n",
      "movie: 109\n",
      "picture: 110\n",
      "players: 111\n",
      "please: 112\n",
      "read: 113\n",
      "retro: 114\n",
      "runners: 115\n",
      "strokes: 116\n",
      "unique: 117\n",
      "vibrant: 118\n",
      "28x28: 119\n",
      "adults: 120\n",
      "apps: 121\n",
      "articles: 122\n",
      "attention: 123\n",
      "ballet: 124\n",
      "basket: 125\n",
      "basketball: 126\n",
      "beans: 127\n",
      "bicycles: 128\n",
      "birds: 129\n",
      "bold: 130\n",
      "bread: 131\n",
      "candies: 132\n",
      "carpenters: 133\n",
      "carrots: 134\n",
      "cars: 135\n",
      "chairs: 136\n",
      "chess: 137\n",
      "children: 138\n",
      "chip: 139\n",
      "chocolate: 140\n",
      "coffee: 141\n",
      "concert: 142\n",
      "cook: 143\n",
      "cookies: 144\n",
      "court: 145\n",
      "creative: 146\n",
      "cyclists: 147\n",
      "details: 148\n",
      "dishes: 149\n",
      "elegant: 150\n",
      "elements: 151\n",
      "enjoy: 152\n",
      "erasers: 153\n",
      "fashionable: 154\n",
      "fiction: 155\n",
      "files: 156\n",
      "flowers: 157\n",
      "futuristic: 158\n",
      "garden: 159\n",
      "gardening: 160\n",
      "grow: 161\n",
      "i: 162\n",
      "internationally: 163\n",
      "jelly: 164\n",
      "kindly: 165\n",
      "leading: 166\n",
      "lecture: 167\n",
      "like: 168\n",
      "make: 169\n",
      "makes: 170\n",
      "mathematicians: 171\n",
      "oranges: 172\n",
      "paint: 173\n",
      "participated: 174\n",
      "patterns: 175\n",
      "play: 176\n",
      "poems: 177\n",
      "poets: 178\n",
      "praised: 179\n",
      "publishing: 180\n",
      "rabbits: 181\n",
      "resolution: 182\n",
      "roses: 183\n",
      "sample: 184\n",
      "scooters: 185\n",
      "see: 186\n",
      "seminar: 187\n",
      "seniors: 188\n",
      "site: 189\n",
      "skyscrapers: 190\n",
      "sopranos: 191\n",
      "specialize: 192\n",
      "spoke: 193\n",
      "squirrels: 194\n",
      "structural: 195\n",
      "studying: 196\n",
      "stylish: 197\n",
      "surgeons: 198\n",
      "swings: 199\n",
      "tables: 200\n",
      "tasks: 201\n",
      "tax: 202\n",
      "teenagers: 203\n",
      "tools: 204\n",
      "touch: 205\n",
      "travel: 206\n",
      "trendy: 207\n",
      "trucks: 208\n",
      "twist: 209\n",
      "vans: 210\n",
      "vegetarian: 211\n",
      "volunteers: 212\n",
      "working: 213\n",
      "would: 214\n",
      "writing: 215\n",
      "youngsters: 216\n",
      "0: 217\n",
      "1: 218\n",
      "2: 219\n",
      "3: 220\n",
      "3d: 221\n",
      "4: 222\n",
      "5: 223\n",
      "6: 224\n",
      "7: 225\n",
      "8: 226\n",
      "8-bit: 227\n",
      "9: 228\n",
      "academics: 229\n",
      "accents: 230\n",
      "accountants: 231\n",
      "added: 232\n",
      "aesthetic: 233\n",
      "agriculturists: 234\n",
      "airlines: 235\n",
      "apple: 236\n",
      "architects: 237\n",
      "art: 238\n",
      "artists: 239\n",
      "as: 240\n",
      "attended: 241\n",
      "attorneys: 242\n",
      "auditing: 243\n",
      "auditors: 244\n",
      "authors: 245\n",
      "aviators: 246\n",
      "background: 247\n",
      "baker: 248\n",
      "bakers: 249\n",
      "beach: 250\n",
      "blurry: 251\n",
      "bridge: 252\n",
      "brush: 253\n",
      "builders: 254\n",
      "by: 255\n",
      "cafe: 256\n",
      "calligraphy: 257\n",
      "cats: 258\n",
      "chef: 259\n",
      "chefs: 260\n",
      "chic: 261\n",
      "child: 262\n",
      "clients: 263\n",
      "clinic: 264\n",
      "club: 265\n",
      "coding: 266\n",
      "color: 267\n",
      "coloring: 268\n",
      "comic: 269\n",
      "competitors: 270\n",
      "completed: 271\n",
      "consistent: 272\n",
      "constructing: 273\n",
      "contemporary: 274\n",
      "context: 275\n",
      "cooks: 276\n",
      "crayons: 277\n",
      "critics: 278\n",
      "crops: 279\n",
      "cursive: 280\n",
      "curves: 281\n",
      "cycling: 282\n",
      "defending: 283\n",
      "designers: 284\n",
      "designing: 285\n",
      "detail: 286\n",
      "detailed: 287\n",
      "detailing: 288\n",
      "developers: 289\n",
      "display: 290\n",
      "distortions: 291\n",
      "doctors: 292\n",
      "drafting: 293\n",
      "drawing: 294\n",
      "drawn: 295\n",
      "dynamic: 296\n",
      "edges: 297\n",
      "electricians: 298\n",
      "embellishments: 299\n",
      "embossed: 300\n",
      "emphasis: 301\n",
      "enhanced: 302\n",
      "event: 303\n",
      "farmers: 304\n",
      "features: 305\n",
      "finished: 306\n",
      "fixing: 307\n",
      "flair: 308\n",
      "flavored: 309\n",
      "fluid: 310\n",
      "friends: 311\n",
      "fruit: 312\n",
      "fruits: 313\n",
      "geographical: 314\n",
      "geography: 315\n",
      "girls: 316\n",
      "glass: 317\n",
      "glow: 318\n",
      "graffiti: 319\n",
      "graphics: 320\n",
      "hall: 321\n",
      "handwritten: 322\n",
      "harvest: 323\n",
      "house: 324\n",
      "if: 325\n",
      "imaginative: 326\n",
      "innovative: 327\n",
      "jar: 328\n",
      "joined: 329\n",
      "kitchen: 330\n",
      "laborers: 331\n",
      "lawyers: 332\n",
      "leaders: 333\n",
      "library: 334\n",
      "literary: 335\n",
      "literature: 336\n",
      "live: 337\n",
      "look: 338\n",
      "magazine: 339\n",
      "males: 340\n",
      "manner: 341\n",
      "math: 342\n",
      "meeting: 343\n",
      "men: 344\n",
      "metallic: 345\n",
      "minimal: 346\n",
      "monospaced: 347\n",
      "mosaic: 348\n",
      "national: 349\n",
      "neon: 350\n",
      "new: 351\n",
      "noise: 352\n",
      "novelists: 353\n",
      "officials: 354\n",
      "one: 355\n",
      "order: 356\n",
      "ordered: 357\n",
      "orientation: 358\n",
      "painters: 359\n",
      "paintings: 360\n",
      "pastel: 361\n",
      "pattern: 362\n",
      "pens: 363\n",
      "performed: 364\n",
      "performers: 365\n",
      "pets: 366\n",
      "physicians: 367\n",
      "pieces: 368\n",
      "pies: 369\n",
      "pilots: 370\n",
      "pixel: 371\n",
      "pixelated: 372\n",
      "plans: 373\n",
      "portrayal: 374\n",
      "precise: 375\n",
      "professionals: 376\n",
      "professors: 377\n",
      "programmers: 378\n",
      "racing: 379\n",
      "readers: 380\n",
      "ready: 381\n",
      "realistic: 382\n",
      "records: 383\n",
      "rehearsed: 384\n",
      "rendering: 385\n",
      "reviewed: 386\n",
      "reviewers: 387\n",
      "riders: 388\n",
      "room: 389\n",
      "running: 390\n",
      "scheme: 391\n",
      "science: 392\n",
      "scientific: 393\n",
      "sell: 394\n",
      "serif: 395\n",
      "shadow: 396\n",
      "sharp: 397\n",
      "sheen: 398\n",
      "showcase: 399\n",
      "simple: 400\n",
      "singers: 401\n",
      "sketch: 402\n",
      "sketched: 403\n",
      "slanted: 404\n",
      "smooth: 405\n",
      "software: 406\n",
      "sold: 407\n",
      "soon: 408\n",
      "stained: 409\n",
      "stitching: 410\n",
      "stroke: 411\n",
      "symmetry: 412\n",
      "teach: 413\n",
      "technicians: 414\n",
      "technological: 415\n",
      "technology: 416\n",
      "test: 417\n",
      "texture: 418\n",
      "textured: 419\n",
      "theirs: 420\n",
      "theme: 421\n",
      "thickness: 422\n",
      "tilted: 423\n",
      "two: 424\n",
      "types: 425\n",
      "university: 426\n",
      "using: 427\n",
      "venue: 428\n",
      "vintage-inspired: 429\n",
      "visual: 430\n",
      "vocalists: 431\n",
      "watching: 432\n",
      "watercolor: 433\n",
      "were: 434\n",
      "wiring: 435\n",
      "workers: 436\n",
      "zero: 437\n",
      "zoo: 438\n"
     ]
    }
   ],
   "source": [
    "vocab_dict = vocab.get_stoi()\n",
    "vocab_dict = dict(sorted(vocab_dict.items(), key=lambda item: item[1]))\n",
    "for word, index in vocab_dict.items(): print(f\"{word}: {index}\")"
   ]
  },
  {
   "cell_type": "markdown",
   "metadata": {},
   "source": [
    "... write a function to implemet a custom text toknizer ..."
   ]
  },
  {
   "cell_type": "code",
   "execution_count": 22,
   "metadata": {},
   "outputs": [],
   "source": [
    "def custom_tokenizer(texts, vocab=vocab, max_token_length=77):\n",
    "    \"\"\"Tokenize a sentence.\"\"\"\n",
    "    batch_tokens = []\n",
    "    for text_prompt in texts:\n",
    "        tokens = ([vocab[\"<sos>\"]] + \n",
    "                  [vocab[token] for token in tokenize(text_prompt)] + \n",
    "                  [vocab[\"<eos>\"]])\n",
    "\n",
    "        if len(tokens) > max_token_length:\n",
    "            tokens = tokens[:max_token_length]\n",
    "        else:\n",
    "            tokens += [vocab[\"<pad>\"]] * (max_token_length - len(tokens))\n",
    "        \n",
    "        tokens = torch.tensor(tokens, dtype=torch.long)\n",
    "        batch_tokens.append(tokens)\n",
    "    return torch.stack(batch_tokens)"
   ]
  },
  {
   "cell_type": "markdown",
   "metadata": {},
   "source": [
    "... observe a tokenized version of an example text prompt ..."
   ]
  },
  {
   "cell_type": "code",
   "execution_count": 23,
   "metadata": {},
   "outputs": [
    {
     "name": "stdout",
     "output_type": "stream",
     "text": [
      "['Show me the digit two with an abstract touch.']\n",
      "torch.Size([1, 77])\n",
      "tensor([[  1,  19,  18,   7,  13, 424,  10,  17,  95, 205,   2,   3,   3,   3,\n",
      "           3,   3,   3,   3,   3,   3,   3,   3,   3,   3,   3,   3,   3,   3,\n",
      "           3,   3,   3,   3,   3,   3,   3,   3,   3,   3,   3,   3,   3,   3,\n",
      "           3,   3,   3,   3,   3,   3,   3,   3,   3,   3,   3,   3,   3,   3,\n",
      "           3,   3,   3,   3,   3,   3,   3,   3,   3,   3,   3,   3,   3,   3,\n",
      "           3,   3,   3,   3,   3,   3,   3]])\n"
     ]
    }
   ],
   "source": [
    "class_labels = random.sample(list(range(10)), 1)\n",
    "example_text = generate_text_prompts(class_labels, train_text_prompts)\n",
    "tokens = custom_tokenizer(example_text)\n",
    "print(example_text), print(tokens.shape), print(tokens);"
   ]
  },
  {
   "cell_type": "markdown",
   "metadata": {},
   "source": [
    "... implement a class for a custom text encoder ..."
   ]
  },
  {
   "cell_type": "code",
   "execution_count": 24,
   "metadata": {},
   "outputs": [],
   "source": [
    "import torch.nn as nn\n",
    "\n",
    "class TextEncoder(nn.Module):\n",
    "    \"\"\"Text encoder.\"\"\"\n",
    "\n",
    "    def __init__(self, max_token_length, vocab_size, embedding_dim, num_heads):\n",
    "        \"\"\"Initialize the text encoder module.\"\"\"\n",
    "        super(TextEncoder, self).__init__()\n",
    "        \n",
    "        self.token_embedding = nn.Embedding(vocab_size, embedding_dim)\n",
    "        self.position_encoding = positional_encoding(\n",
    "            torch.arange(0, max_token_length).unsqueeze(1), embedding_dim,\n",
    "        )\n",
    "\n",
    "        self.self_attention = nn.MultiheadAttention(\n",
    "            embedding_dim, num_heads=num_heads, batch_first=True,\n",
    "        )\n",
    "        self.layer_norm1 = nn.LayerNorm(embedding_dim)\n",
    "        self.layer_norm2 = nn.LayerNorm(embedding_dim)\n",
    "\n",
    "        self.feed_forward = nn.Sequential(\n",
    "            nn.Linear(embedding_dim, embedding_dim), nn.GELU(),\n",
    "            nn.Linear(embedding_dim, embedding_dim),\n",
    "        )\n",
    "\n",
    "    def forward(self, tokens):\n",
    "        \"\"\"Forward pass of text encoder module.\"\"\"\n",
    "        token_embeddings = self.token_embedding(tokens)\n",
    "        position_encodings = (self.position_encoding\n",
    "                              .repeat(tokens.size(0), 1, 1).to(tokens.device))\n",
    "\n",
    "        token_embeddings_with_pos = token_embeddings + position_encodings\n",
    "\n",
    "        normalized_embeddings = self.layer_norm1(token_embeddings_with_pos)\n",
    "        attention_output, _ = self.self_attention(\n",
    "            query=normalized_embeddings, \n",
    "            key=normalized_embeddings, \n",
    "            value= normalized_embeddings,\n",
    "        )\n",
    "        attention_output = attention_output + normalized_embeddings\n",
    "\n",
    "        residual_input = attention_output\n",
    "        normalized_attention_output = self.layer_norm2(attention_output)\n",
    "        feed_forward_output = self.feed_forward(normalized_attention_output)\n",
    "        residual_output = feed_forward_output + residual_input\n",
    "\n",
    "        return residual_output"
   ]
  },
  {
   "cell_type": "markdown",
   "metadata": {},
   "source": [
    "... instantiate a custom text encoder ..."
   ]
  },
  {
   "cell_type": "code",
   "execution_count": 25,
   "metadata": {},
   "outputs": [],
   "source": [
    "custom_text_encoder = TextEncoder(max_token_length=77, vocab_size=len(vocab),\n",
    "                                  embedding_dim=768, num_heads=4).to(device)"
   ]
  },
  {
   "cell_type": "markdown",
   "metadata": {},
   "source": [
    "... and check the shape of example text prompts."
   ]
  },
  {
   "cell_type": "code",
   "execution_count": 26,
   "metadata": {},
   "outputs": [
    {
     "name": "stdout",
     "output_type": "stream",
     "text": [
      "tokens shape: torch.Size([4, 77])\n",
      "text embeddings shape: torch.Size([4, 77, 768])\n"
     ]
    }
   ],
   "source": [
    "class_labels = random.sample(list(range(10)), 4)\n",
    "example_texts = generate_text_prompts(class_labels, train_text_prompts)\n",
    "tokens = custom_tokenizer(example_texts)\n",
    "text_embedding = custom_text_encoder(tokens.to(device))\n",
    "\n",
    "print(f\"tokens shape: {tokens.shape}\")\n",
    "print(f\"text embeddings shape: {text_embedding.shape}\")"
   ]
  },
  {
   "cell_type": "markdown",
   "metadata": {},
   "source": [
    "## Defining the Conditional Attention U-Net"
   ]
  },
  {
   "cell_type": "code",
   "execution_count": 27,
   "metadata": {},
   "outputs": [
    {
     "name": "stderr",
     "output_type": "stream",
     "text": [
      "/Users/giovannivolpe/Documents/GitHub/DeepLearningCrashCourse/py_env_book/lib/python3.10/site-packages/tqdm/auto.py:21: TqdmWarning: IProgress not found. Please update jupyter and ipywidgets. See https://ipywidgets.readthedocs.io/en/stable/user_install.html\n",
      "  from .autonotebook import tqdm as notebook_tqdm\n"
     ]
    },
    {
     "ename": "NameError",
     "evalue": "name 'unet_templae' is not defined",
     "output_type": "error",
     "traceback": [
      "\u001b[0;31m---------------------------------------------------------------------------\u001b[0m",
      "\u001b[0;31mNameError\u001b[0m                                 Traceback (most recent call last)",
      "Cell \u001b[0;32mIn[27], line 11\u001b[0m\n\u001b[1;32m      3\u001b[0m position_encoding_dim \u001b[38;5;241m=\u001b[39m \u001b[38;5;241m256\u001b[39m\n\u001b[1;32m      5\u001b[0m unet_template \u001b[38;5;241m=\u001b[39m dl\u001b[38;5;241m.\u001b[39mAttentionUNet(  \u001b[38;5;66;03m###\u001b[39;00m\n\u001b[1;32m      6\u001b[0m     in_channels\u001b[38;5;241m=\u001b[39m\u001b[38;5;241m1\u001b[39m, channels\u001b[38;5;241m=\u001b[39m[\u001b[38;5;241m32\u001b[39m, \u001b[38;5;241m64\u001b[39m, \u001b[38;5;241m128\u001b[39m], base_channels\u001b[38;5;241m=\u001b[39m[\u001b[38;5;241m256\u001b[39m, \u001b[38;5;241m256\u001b[39m], \n\u001b[1;32m      7\u001b[0m     channel_attention\u001b[38;5;241m=\u001b[39m[\u001b[38;5;28;01mTrue\u001b[39;00m, \u001b[38;5;28;01mTrue\u001b[39;00m, \u001b[38;5;28;01mTrue\u001b[39;00m], out_channels\u001b[38;5;241m=\u001b[39m\u001b[38;5;241m1\u001b[39m, \n\u001b[1;32m      8\u001b[0m     position_embedding_dim\u001b[38;5;241m=\u001b[39mposition_encoding_dim, num_classes\u001b[38;5;241m=\u001b[39m\u001b[38;5;241m10\u001b[39m,\n\u001b[1;32m      9\u001b[0m     context_embedding_dim\u001b[38;5;241m=\u001b[39m\u001b[38;5;241m768\u001b[39m,\n\u001b[1;32m     10\u001b[0m )\n\u001b[0;32m---> 11\u001b[0m unet \u001b[38;5;241m=\u001b[39m \u001b[43munet_templae\u001b[49m\u001b[38;5;241m.\u001b[39mcreate()  \u001b[38;5;66;03m### unet.build()\u001b[39;00m\n\u001b[1;32m     12\u001b[0m unet\u001b[38;5;241m.\u001b[39mto(device);\n\u001b[1;32m     14\u001b[0m \u001b[38;5;28mprint\u001b[39m(unet)\n",
      "\u001b[0;31mNameError\u001b[0m: name 'unet_templae' is not defined"
     ]
    }
   ],
   "source": [
    "import deeplay as dl\n",
    "\n",
    "position_encoding_dim = 256\n",
    "\n",
    "unet_template = dl.AttentionUNet(  ###\n",
    "    in_channels=1, channels=[32, 64, 128], base_channels=[256, 256], \n",
    "    channel_attention=[True, True, True], out_channels=1, \n",
    "    position_embedding_dim=position_encoding_dim, num_classes=10,\n",
    "    context_embedding_dim=768,\n",
    ")\n",
    "unet = unet_template.create()  ### unet.build()\n",
    "unet.to(device);\n",
    "\n",
    "print(unet)"
   ]
  },
  {
   "cell_type": "markdown",
   "metadata": {},
   "source": [
    "## Training the Diffusion Model\n",
    "\n",
    "Define the data loader ..."
   ]
  },
  {
   "cell_type": "code",
   "execution_count": 34,
   "metadata": {},
   "outputs": [],
   "source": [
    "from torch.utils.data import DataLoader\n",
    "\n",
    "loader = DataLoader(dataset=trainset, batch_size=128, shuffle=True)"
   ]
  },
  {
   "cell_type": "markdown",
   "metadata": {},
   "source": [
    "... define the loss function ..."
   ]
  },
  {
   "cell_type": "code",
   "execution_count": 35,
   "metadata": {},
   "outputs": [],
   "source": [
    "criterion = torch.nn.MSELoss()"
   ]
  },
  {
   "cell_type": "markdown",
   "metadata": {},
   "source": [
    "... define the optimizer ..."
   ]
  },
  {
   "cell_type": "code",
   "execution_count": 36,
   "metadata": {},
   "outputs": [],
   "source": [
    "optimizer = torch.optim.AdamW(list(unet.parameters())\n",
    "                              + list(custom_text_encoder.parameters()), \n",
    "                              lr=1e-4)"
   ]
  },
  {
   "cell_type": "markdown",
   "metadata": {},
   "source": [
    "...  instantiate the diffusion class for training ..."
   ]
  },
  {
   "cell_type": "code",
   "execution_count": 37,
   "metadata": {},
   "outputs": [],
   "source": [
    "diffusion = Diffusion(\n",
    "    noise_steps=1000, img_size=28, beta_start=1e-4, beta_end=0.02,\n",
    ")"
   ]
  },
  {
   "cell_type": "markdown",
   "metadata": {},
   "source": [
    "...implement a function to prepare the data ..."
   ]
  },
  {
   "cell_type": "code",
   "execution_count": 38,
   "metadata": {},
   "outputs": [],
   "source": [
    "def prepare_data(image, noise_steps=1000, device=device):\n",
    "    \"\"\"Prepare data.\"\"\"\n",
    "    batch_size = image.shape[0]\n",
    "    t = torch.randint(low=0, high=noise_steps, size=(batch_size,)).to(device)\n",
    "    image = image.to(device)\n",
    "    x_t, noise = diffusion.forward_diffusion(image, t)\n",
    "    t = positional_encoding(t.unsqueeze(1), position_encoding_dim)\n",
    "    return x_t.to(device), t.to(device), noise.to(device)"
   ]
  },
  {
   "cell_type": "markdown",
   "metadata": {},
   "source": [
    "... implement the training cycle ..."
   ]
  },
  {
   "cell_type": "code",
   "execution_count": null,
   "metadata": {},
   "outputs": [],
   "source": [
    "import numpy as np\n",
    "import time\n",
    "from datetime import timedelta\n",
    "\n",
    "epochs = 20\n",
    "n_images = 5\n",
    "save_time_steps = [999, 900, 800, 700, 600, 500, 400, 300, 200, 100, 0]\n",
    "\n",
    "train_loss = []\n",
    "for epoch in range(epochs):\n",
    "    start_time = time.time()\n",
    "    num_batches = len(loader)\n",
    "\n",
    "    print(\"\\n\" + f\"Epoch {epoch + 1}/{epochs}\" + \"\\n\" + \"_\" * 10)\n",
    "    \n",
    "    unet.train(), custom_text_encoder.train()\n",
    "    \n",
    "    running_loss = 0.0\n",
    "    for batch_idx, (images, class_labels) in enumerate(loader, start=0):\n",
    "        x_t, t, noise = prepare_data(images)\n",
    "\n",
    "        text_inputs = generate_text_prompts(class_labels.numpy(), \n",
    "                                            train_text_prompts)\n",
    "        \n",
    "        # Custom Tokenizer.\n",
    "        tokens = custom_tokenizer(text_inputs)\n",
    "        text_embeddings = custom_text_encoder(tokens.to(device))\n",
    "\n",
    "        # CLIP.\n",
    "        \"\"\"tokens = CLIP_tokenizer(\n",
    "            text_inputs, padding=\"max_length\",\n",
    "            max_length=CLIP_tokenizer.model_max_length, truncation=True,\n",
    "            return_tensors=\"pt\",\n",
    "        )\n",
    "        text_embeddings = CLIP_text_encoder(tokens.input_ids.to(device))[0]\"\"\"\n",
    "        \n",
    "        context = None if np.random.rand() < 0.1 else text_embeddings\n",
    "        \n",
    "        outputs = unet(x=x_t, t=t, context=context)\n",
    "\n",
    "        optimizer.zero_grad()\n",
    "        loss = criterion(outputs, noise)\n",
    "        loss.backward()\n",
    "        optimizer.step()\n",
    "        \n",
    "        if batch_idx % 100 == 0:\n",
    "            print(f\"Batch {batch_idx + 1}/{num_batches}: \"\n",
    "                  + f\"Train loss: {loss.item():.4f}\")\n",
    "        running_loss += loss.item()\n",
    "\n",
    "    train_loss.append(running_loss / len(loader))\n",
    "    end_time = time.time()\n",
    "\n",
    "    print(\"-\" * 10 + \"\\n\" + f\"Epoch {epoch + 1}/{epochs} : \" \n",
    "          + f\"Train loss: {train_loss[-1]:.4f}, \" \n",
    "          + f\"Time taken: {timedelta(seconds=end_time - start_time)}\")\n",
    "    \n",
    "    unet.eval(), custom_text_encoder.eval()\n",
    "\n",
    "    class_labels = random.sample(list(range(10)), n_images)\n",
    "    example_texts = generate_text_prompts(class_labels, test_text_prompts)\n",
    "\n",
    "    # Custom Tokenizer.\n",
    "    tokens = custom_tokenizer(example_texts)\n",
    "    text_embeddings = custom_text_encoder(tokens.to(device))\n",
    "    \n",
    "    # CLIP.\n",
    "    \"\"\"tokens = CLIP_tokenizer(\n",
    "        example_texts, padding=\"max_length\",\n",
    "        max_length=CLIP_tokenizer.model_max_length, truncation=True,\n",
    "        return_tensors=\"pt\",\n",
    "    )\n",
    "    text_embeddings = CLIP_text_encoder(tokens.input_ids.to(device))[0]\"\"\"\n",
    "    \n",
    "    generated_images = diffusion.reverse_diffusion(\n",
    "        model=unet, n_images=n_images, n_channels=1, \n",
    "        position_encoding_dim=position_encoding_dim,\n",
    "        position_encoding_function=positional_encoding,\n",
    "        save_time_steps=save_time_steps, \n",
    "        context=text_embeddings, guidance_strength=3,\n",
    "    )\n",
    "\n",
    "    fig = plt.figure(figsize=(len(save_time_steps), 1.2 * n_images))\n",
    "    for idx in range(n_images):\n",
    "        image_reverse_diff_traj = generated_images[idx]\n",
    "        for j in range(len(image_reverse_diff_traj)):\n",
    "            plt.subplot(n_images, len(image_reverse_diff_traj), \n",
    "                        idx * len(image_reverse_diff_traj) + j + 1)\n",
    "            plt.imshow(image_reverse_diff_traj[j]\n",
    "                       .permute(1, 2, 0).cpu().numpy(), cmap=\"gray\")\n",
    "            if j == 5: plt.title(example_texts[idx], fontsize=10)\n",
    "            plt.axis(\"off\")\n",
    "    plt.show()\n",
    "    plt.close()"
   ]
  },
  {
   "cell_type": "code",
   "execution_count": null,
   "metadata": {},
   "outputs": [],
   "source": [
    "unet.eval(), custom_text_encoder.eval()\n",
    "\n",
    "''' class_labels = random.sample(list(range(10)), n_images)\n",
    "example_texts = generate_text_prompts(class_labels, test_text_prompts)'''\n",
    "\n",
    "example_texts = [\n",
    "    \"Can you get me a picture of the number 2?\",\n",
    "    \"Can you get me a picture of the number four?\",\n",
    "    \"A chef makes nine dishes, and five are vegetarian. How many dishes are vegetarian?\",\n",
    "    \"Eight people finished their tasks, and four were volunteers. How many volunteers completed their tasks?\",\n",
    "    \"A magazine has seven articles on technology out of nine total. How many articles cover tech events?\",\n",
    "]\n",
    "\n",
    "# Custom Tokenizer.\n",
    "tokens = custom_tokenizer(example_texts)\n",
    "text_embeddings = custom_text_encoder(tokens.to(device))\n",
    "\n",
    "generated_images = diffusion.reverse_diffusion(\n",
    "        model=unet, n_images=n_images, n_channels=1, \n",
    "        position_encoding_dim=position_encoding_dim,\n",
    "        position_encoding_function=positional_encoding,\n",
    "        save_time_steps=save_time_steps, \n",
    "        context=text_embeddings, guidance_strength=3,\n",
    "    )\n",
    "\n",
    "fig = plt.figure(figsize=(len(save_time_steps), 1.2 * n_images))\n",
    "for idx in range(n_images):\n",
    "    image_reverse_diff_traj = generated_images[idx]\n",
    "    for j in range(len(image_reverse_diff_traj)):\n",
    "        plt.subplot(n_images, len(image_reverse_diff_traj), \n",
    "                    idx * len(image_reverse_diff_traj) + j + 1)\n",
    "        plt.imshow(image_reverse_diff_traj[j]\n",
    "                    .permute(1, 2, 0).cpu().numpy(), cmap=\"gray\")\n",
    "        if j == 5: plt.title(example_texts[idx], fontsize=10)\n",
    "        plt.axis(\"off\")\n",
    "plt.savefig(f\"fig_10_B1.pdf\", bbox_inches=\"tight\")  ### plt.show()\n",
    "plt.close()"
   ]
  },
  {
   "cell_type": "markdown",
   "metadata": {},
   "source": [
    "## Defining CLIP Tokenizer and CLIP Text Encoder\n",
    "\n",
    "Import the CLIP tokenizer and CLIP text encoder ..."
   ]
  },
  {
   "cell_type": "code",
   "execution_count": null,
   "metadata": {},
   "outputs": [],
   "source": [
    "from transformers import CLIPTextModel, CLIPTokenizer\n",
    "\n",
    "CLIP_tokenizer = CLIPTokenizer.from_pretrained(\n",
    "    \"openai/clip-vit-large-patch14\", torch_dtype=torch.float32,\n",
    ")\n",
    "CLIP_text_encoder = CLIPTextModel.from_pretrained(\n",
    "    \"openai/clip-vit-large-patch14\", torch_dtype=torch.float32,\n",
    ").to(device)"
   ]
  },
  {
   "cell_type": "markdown",
   "metadata": {},
   "source": [
    "... check the tokens and the text embeddings of an example text prompt generated by CLIP ..."
   ]
  },
  {
   "cell_type": "code",
   "execution_count": null,
   "metadata": {},
   "outputs": [],
   "source": [
    "class_label = random.sample(list(range(10)), 1)\n",
    "example_text = generate_text_prompts(class_label, train_text_prompts)\n",
    "\n",
    "tokens = CLIP_tokenizer(\n",
    "    example_text, padding=\"max_length\", \n",
    "    max_length=CLIP_tokenizer.model_max_length,\n",
    "    truncation=True, return_tensors=\"pt\",\n",
    ")\n",
    "text_embedding = CLIP_text_encoder(tokens.input_ids.to(device))[0]\n",
    "\n",
    "print(f\"text: {example_text}\")\n",
    "print(f\"tokens: {tokens.input_ids}\")\n",
    "print(f\"tokens shape: {tokens.input_ids.shape}\")\n",
    "print(f\"text embeddings: {text_embedding.shape}\")"
   ]
  },
  {
   "cell_type": "markdown",
   "metadata": {},
   "source": [
    "... and freeze the weights of CLIP."
   ]
  },
  {
   "cell_type": "code",
   "execution_count": 36,
   "metadata": {},
   "outputs": [],
   "source": [
    "for param in CLIP_text_encoder.parameters():\n",
    "    param.requires_grad = False"
   ]
  },
  {
   "cell_type": "markdown",
   "metadata": {},
   "source": [
    "### Defining the Conditional Attention U-Net for CLIP"
   ]
  },
  {
   "cell_type": "code",
   "execution_count": null,
   "metadata": {},
   "outputs": [],
   "source": [
    "import deeplay as dl\n",
    "\n",
    "position_encoding_dim = 256\n",
    "\n",
    "unet_template = dl.AttentionUNet(  ###\n",
    "    in_channels=1, channels=[32, 64, 128], base_channels=[256, 256], \n",
    "    channel_attention=[True, True, True], out_channels=1, \n",
    "    position_embedding_dim=position_encoding_dim, num_classes=10,\n",
    "    context_embedding_dim=768,\n",
    ")\n",
    "unet_clip = unet_template.create()  ### unet.build()\n",
    "unet_clip.to(device);  ###\n",
    "\n",
    "print(unet_clip)  ###"
   ]
  },
  {
   "cell_type": "markdown",
   "metadata": {},
   "source": [
    "## Training the Diffusion Model with CLIP"
   ]
  },
  {
   "cell_type": "markdown",
   "metadata": {},
   "source": [
    "Remove the `custom_text_encoder` parameters from the optimizer ..."
   ]
  },
  {
   "cell_type": "code",
   "execution_count": 38,
   "metadata": {},
   "outputs": [],
   "source": [
    "optimizer_clip = torch.optim.AdamW(unet_clip.parameters(), lr=1e-4)  ###"
   ]
  },
  {
   "cell_type": "markdown",
   "metadata": {},
   "source": [
    "... remove `custom_text_encoder` and add CLIP to training cycle ..."
   ]
  },
  {
   "cell_type": "code",
   "execution_count": null,
   "metadata": {},
   "outputs": [],
   "source": [
    "import numpy as np\n",
    "import time\n",
    "from datetime import timedelta\n",
    "\n",
    "epochs = 20\n",
    "n_images = 5\n",
    "save_time_steps = [999, 900, 800, 700, 600, 500, 400, 300, 200, 100, 0]\n",
    "\n",
    "train_loss = []\n",
    "for epoch in range(epochs):\n",
    "    start_time = time.time()\n",
    "    num_batches = len(loader)\n",
    "\n",
    "    print(\"\\n\" + f\"Epoch {epoch + 1}/{epochs}\" + \"\\n\" + \"_\" * 10)\n",
    "    \n",
    "    unet_clip.train() ###, custom_text_encoder.train()\n",
    "    \n",
    "    running_loss = 0.0\n",
    "    for batch_idx, (images, class_labels) in enumerate(loader, start=0):\n",
    "        x_t, t, noise = prepare_data(images)\n",
    "\n",
    "        text_inputs = generate_text_prompts(class_labels.numpy(), \n",
    "                                            train_text_prompts)\n",
    "        \n",
    "        # Custom Tokenizer.\n",
    "        \"\"\"tokens = custom_tokenizer(text_inputs)\n",
    "        text_embeddings = custom_text_encoder(tokens.to(device))\"\"\"\n",
    "\n",
    "        # CLIP.\n",
    "        tokens = CLIP_tokenizer(\n",
    "            text_inputs, padding=\"max_length\",\n",
    "            max_length=CLIP_tokenizer.model_max_length, truncation=True,\n",
    "            return_tensors=\"pt\",\n",
    "        )\n",
    "        text_embeddings = CLIP_text_encoder(tokens.input_ids.to(device))[0]\n",
    "        \n",
    "        context = None if np.random.rand() < 0.1 else text_embeddings\n",
    "        \n",
    "        outputs = unet_clip(x=x_t, t=t, context=context)  ###\n",
    "\n",
    "        optimizer.zero_grad()\n",
    "        loss = criterion(outputs, noise)\n",
    "        loss.backward()\n",
    "        optimizer.step()\n",
    "        \n",
    "        if batch_idx % 100 == 0:\n",
    "            print(f\"Batch {batch_idx + 1}/{num_batches}: \"\n",
    "                  + f\"Train loss: {loss.item():.4f}\")\n",
    "        running_loss += loss.item()\n",
    "\n",
    "    train_loss.append(running_loss / len(loader))\n",
    "    end_time = time.time()\n",
    "\n",
    "    print(\"-\" * 10 + \"\\n\" + f\"Epoch {epoch + 1}/{epochs} : \" \n",
    "          + f\"Train loss: {train_loss[-1]:.4f}, \" \n",
    "          + f\"Time taken: {timedelta(seconds=end_time - start_time)}\")\n",
    "    \n",
    "    unet_clip.eval() ###, custom_text_encoder.eval()\n",
    "\n",
    "    class_labels = random.sample(list(range(10)), n_images)\n",
    "    example_texts = generate_text_prompts(class_labels, test_text_prompts)\n",
    "\n",
    "    # Custom Tokenizer.\n",
    "    \"\"\"tokens = custom_tokenizer(example_texts)\n",
    "    text_embeddings = custom_text_encoder(tokens.to(device))\"\"\"\n",
    "    \n",
    "    # CLIP.\n",
    "    tokens = CLIP_tokenizer(\n",
    "        example_texts, padding=\"max_length\",\n",
    "        max_length=CLIP_tokenizer.model_max_length, truncation=True,\n",
    "        return_tensors=\"pt\",\n",
    "    )\n",
    "    text_embeddings = CLIP_text_encoder(tokens.input_ids.to(device))[0]\n",
    "    \n",
    "    generated_images = diffusion.reverse_diffusion(\n",
    "        model=unet_clip, n_images=n_images, n_channels=1,  ###\n",
    "        position_encoding_dim=position_encoding_dim,\n",
    "        position_encoding_function=positional_encoding,\n",
    "        save_time_steps=save_time_steps, \n",
    "        context=text_embeddings, guidance_strength=3,\n",
    "    )\n",
    "\n",
    "    fig = plt.figure(figsize=(len(save_time_steps), 1.2 * n_images))\n",
    "    for idx in range(n_images):\n",
    "        image_reverse_diff_traj = generated_images[idx]\n",
    "        for j in range(len(image_reverse_diff_traj)):\n",
    "            plt.subplot(n_images, len(image_reverse_diff_traj), \n",
    "                        idx * len(image_reverse_diff_traj) + j + 1)\n",
    "            plt.imshow(image_reverse_diff_traj[j]\n",
    "                       .permute(1, 2, 0).cpu().numpy(), cmap=\"gray\")\n",
    "            if j == 5: plt.title(example_texts[idx], fontsize=10)\n",
    "            plt.axis(\"off\")\n",
    "    plt.show()\n",
    "    plt.close()"
   ]
  },
  {
   "cell_type": "code",
   "execution_count": null,
   "metadata": {},
   "outputs": [],
   "source": [
    "unet_clip.eval()\n",
    "\n",
    "''' class_labels = random.sample(list(range(10)), n_images)\n",
    "example_texts = generate_text_prompts(class_labels, test_text_prompts)'''\n",
    "\n",
    "example_texts = [\n",
    "    \"Can you get me a picture of the number 2?\",\n",
    "    \"Can you get me a picture of the number four?\",\n",
    "    \"A chef makes nine dishes, and five are vegetarian. How many dishes are vegetarian?\",\n",
    "    \"Eight people finished their tasks, and four were volunteers. How many volunteers completed their tasks?\",\n",
    "    \"A magazine has seven articles on technology out of nine total. How many articles cover tech events?\",\n",
    "]\n",
    "\n",
    "# Custom Tokenizer.\n",
    "tokens = custom_tokenizer(example_texts)\n",
    "text_embeddings = custom_text_encoder(tokens.to(device))\n",
    "\n",
    "generated_images = diffusion.reverse_diffusion(\n",
    "        model=unet_clip, n_images=n_images, n_channels=1, \n",
    "        position_encoding_dim=position_encoding_dim,\n",
    "        position_encoding_function=positional_encoding,\n",
    "        save_time_steps=save_time_steps, \n",
    "        context=text_embeddings, guidance_strength=3,\n",
    "    )\n",
    "\n",
    "fig = plt.figure(figsize=(len(save_time_steps), 1.2 * n_images))\n",
    "for idx in range(n_images):\n",
    "    image_reverse_diff_traj = generated_images[idx]\n",
    "    for j in range(len(image_reverse_diff_traj)):\n",
    "        plt.subplot(n_images, len(image_reverse_diff_traj), \n",
    "                    idx * len(image_reverse_diff_traj) + j + 1)\n",
    "        plt.imshow(image_reverse_diff_traj[j]\n",
    "                    .permute(1, 2, 0).cpu().numpy(), cmap=\"gray\")\n",
    "        if j == 5: plt.title(example_texts[idx], fontsize=10)\n",
    "        plt.axis(\"off\")\n",
    "plt.savefig(f\"fig_10_B2.pdf\", bbox_inches=\"tight\")\n",
    "plt.close()"
   ]
  },
  {
   "cell_type": "code",
   "execution_count": null,
   "metadata": {},
   "outputs": [],
   "source": []
  }
 ],
 "metadata": {
  "kernelspec": {
   "display_name": "py_env_book",
   "language": "python",
   "name": "python3"
  },
  "language_info": {
   "codemirror_mode": {
    "name": "ipython",
    "version": 3
   },
   "file_extension": ".py",
   "mimetype": "text/x-python",
   "name": "python",
   "nbconvert_exporter": "python",
   "pygments_lexer": "ipython3",
   "version": "3.10.15"
  }
 },
 "nbformat": 4,
 "nbformat_minor": 2
}
